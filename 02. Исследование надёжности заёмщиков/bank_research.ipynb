{
 "cells": [
  {
   "attachments": {},
   "cell_type": "markdown",
   "id": "0f5de3e1",
   "metadata": {
    "deletable": false,
    "editable": false,
    "id": "c81daeeb"
   },
   "source": [
    "# Исследование надежности заемщиков\n"
   ]
  },
  {
   "attachments": {},
   "cell_type": "markdown",
   "id": "5dde6c3d",
   "metadata": {
    "deletable": false,
    "editable": false,
    "id": "744d7639"
   },
   "source": [
    "## Откройте таблицу и изучите общую информацию о данных"
   ]
  },
  {
   "attachments": {},
   "cell_type": "markdown",
   "id": "6937f6da",
   "metadata": {
    "deletable": false,
    "editable": false,
    "id": "e7a14c31"
   },
   "source": [
    "Импортируем библиотеку pandas. Считаем данные из csv-файла в датафрейм и сохраним в переменную `data`. Путь к файлу:"
   ]
  },
  {
   "cell_type": "code",
   "execution_count": 65,
   "id": "c1281284",
   "metadata": {
    "deletable": false,
    "id": "7bcf75c9"
   },
   "outputs": [],
   "source": [
    "# Импортируем библиотеку\n",
    "import pandas as pd"
   ]
  },
  {
   "cell_type": "code",
   "execution_count": 66,
   "id": "667f6082",
   "metadata": {},
   "outputs": [],
   "source": [
    "# Запишем в переменную данные\n",
    "data = pd.read_csv('data.csv')"
   ]
  },
  {
   "attachments": {},
   "cell_type": "markdown",
   "id": "8dc2971d",
   "metadata": {
    "deletable": false,
    "editable": false,
    "id": "b8038fe3"
   },
   "source": [
    "Выведем первые 20 строчек датафрейма `data` на экран."
   ]
  },
  {
   "cell_type": "code",
   "execution_count": 67,
   "id": "a773f2aa",
   "metadata": {
    "deletable": false,
    "id": "2a7cab99",
    "outputId": "1a8f3ef2-d323-4ec2-ddf7-89670b5944c4"
   },
   "outputs": [
    {
     "data": {
      "text/html": [
       "<div>\n",
       "<style scoped>\n",
       "    .dataframe tbody tr th:only-of-type {\n",
       "        vertical-align: middle;\n",
       "    }\n",
       "\n",
       "    .dataframe tbody tr th {\n",
       "        vertical-align: top;\n",
       "    }\n",
       "\n",
       "    .dataframe thead th {\n",
       "        text-align: right;\n",
       "    }\n",
       "</style>\n",
       "<table border=\"1\" class=\"dataframe\">\n",
       "  <thead>\n",
       "    <tr style=\"text-align: right;\">\n",
       "      <th></th>\n",
       "      <th>children</th>\n",
       "      <th>days_employed</th>\n",
       "      <th>dob_years</th>\n",
       "      <th>education</th>\n",
       "      <th>education_id</th>\n",
       "      <th>family_status</th>\n",
       "      <th>family_status_id</th>\n",
       "      <th>gender</th>\n",
       "      <th>income_type</th>\n",
       "      <th>debt</th>\n",
       "      <th>total_income</th>\n",
       "      <th>purpose</th>\n",
       "    </tr>\n",
       "  </thead>\n",
       "  <tbody>\n",
       "    <tr>\n",
       "      <th>0</th>\n",
       "      <td>1</td>\n",
       "      <td>-8437.673028</td>\n",
       "      <td>42</td>\n",
       "      <td>высшее</td>\n",
       "      <td>0</td>\n",
       "      <td>женат / замужем</td>\n",
       "      <td>0</td>\n",
       "      <td>F</td>\n",
       "      <td>сотрудник</td>\n",
       "      <td>0</td>\n",
       "      <td>253875.639453</td>\n",
       "      <td>покупка жилья</td>\n",
       "    </tr>\n",
       "    <tr>\n",
       "      <th>1</th>\n",
       "      <td>1</td>\n",
       "      <td>-4024.803754</td>\n",
       "      <td>36</td>\n",
       "      <td>среднее</td>\n",
       "      <td>1</td>\n",
       "      <td>женат / замужем</td>\n",
       "      <td>0</td>\n",
       "      <td>F</td>\n",
       "      <td>сотрудник</td>\n",
       "      <td>0</td>\n",
       "      <td>112080.014102</td>\n",
       "      <td>приобретение автомобиля</td>\n",
       "    </tr>\n",
       "    <tr>\n",
       "      <th>2</th>\n",
       "      <td>0</td>\n",
       "      <td>-5623.422610</td>\n",
       "      <td>33</td>\n",
       "      <td>Среднее</td>\n",
       "      <td>1</td>\n",
       "      <td>женат / замужем</td>\n",
       "      <td>0</td>\n",
       "      <td>M</td>\n",
       "      <td>сотрудник</td>\n",
       "      <td>0</td>\n",
       "      <td>145885.952297</td>\n",
       "      <td>покупка жилья</td>\n",
       "    </tr>\n",
       "    <tr>\n",
       "      <th>3</th>\n",
       "      <td>3</td>\n",
       "      <td>-4124.747207</td>\n",
       "      <td>32</td>\n",
       "      <td>среднее</td>\n",
       "      <td>1</td>\n",
       "      <td>женат / замужем</td>\n",
       "      <td>0</td>\n",
       "      <td>M</td>\n",
       "      <td>сотрудник</td>\n",
       "      <td>0</td>\n",
       "      <td>267628.550329</td>\n",
       "      <td>дополнительное образование</td>\n",
       "    </tr>\n",
       "    <tr>\n",
       "      <th>4</th>\n",
       "      <td>0</td>\n",
       "      <td>340266.072047</td>\n",
       "      <td>53</td>\n",
       "      <td>среднее</td>\n",
       "      <td>1</td>\n",
       "      <td>гражданский брак</td>\n",
       "      <td>1</td>\n",
       "      <td>F</td>\n",
       "      <td>пенсионер</td>\n",
       "      <td>0</td>\n",
       "      <td>158616.077870</td>\n",
       "      <td>сыграть свадьбу</td>\n",
       "    </tr>\n",
       "    <tr>\n",
       "      <th>5</th>\n",
       "      <td>0</td>\n",
       "      <td>-926.185831</td>\n",
       "      <td>27</td>\n",
       "      <td>высшее</td>\n",
       "      <td>0</td>\n",
       "      <td>гражданский брак</td>\n",
       "      <td>1</td>\n",
       "      <td>M</td>\n",
       "      <td>компаньон</td>\n",
       "      <td>0</td>\n",
       "      <td>255763.565419</td>\n",
       "      <td>покупка жилья</td>\n",
       "    </tr>\n",
       "    <tr>\n",
       "      <th>6</th>\n",
       "      <td>0</td>\n",
       "      <td>-2879.202052</td>\n",
       "      <td>43</td>\n",
       "      <td>высшее</td>\n",
       "      <td>0</td>\n",
       "      <td>женат / замужем</td>\n",
       "      <td>0</td>\n",
       "      <td>F</td>\n",
       "      <td>компаньон</td>\n",
       "      <td>0</td>\n",
       "      <td>240525.971920</td>\n",
       "      <td>операции с жильем</td>\n",
       "    </tr>\n",
       "    <tr>\n",
       "      <th>7</th>\n",
       "      <td>0</td>\n",
       "      <td>-152.779569</td>\n",
       "      <td>50</td>\n",
       "      <td>СРЕДНЕЕ</td>\n",
       "      <td>1</td>\n",
       "      <td>женат / замужем</td>\n",
       "      <td>0</td>\n",
       "      <td>M</td>\n",
       "      <td>сотрудник</td>\n",
       "      <td>0</td>\n",
       "      <td>135823.934197</td>\n",
       "      <td>образование</td>\n",
       "    </tr>\n",
       "    <tr>\n",
       "      <th>8</th>\n",
       "      <td>2</td>\n",
       "      <td>-6929.865299</td>\n",
       "      <td>35</td>\n",
       "      <td>ВЫСШЕЕ</td>\n",
       "      <td>0</td>\n",
       "      <td>гражданский брак</td>\n",
       "      <td>1</td>\n",
       "      <td>F</td>\n",
       "      <td>сотрудник</td>\n",
       "      <td>0</td>\n",
       "      <td>95856.832424</td>\n",
       "      <td>на проведение свадьбы</td>\n",
       "    </tr>\n",
       "    <tr>\n",
       "      <th>9</th>\n",
       "      <td>0</td>\n",
       "      <td>-2188.756445</td>\n",
       "      <td>41</td>\n",
       "      <td>среднее</td>\n",
       "      <td>1</td>\n",
       "      <td>женат / замужем</td>\n",
       "      <td>0</td>\n",
       "      <td>M</td>\n",
       "      <td>сотрудник</td>\n",
       "      <td>0</td>\n",
       "      <td>144425.938277</td>\n",
       "      <td>покупка жилья для семьи</td>\n",
       "    </tr>\n",
       "    <tr>\n",
       "      <th>10</th>\n",
       "      <td>2</td>\n",
       "      <td>-4171.483647</td>\n",
       "      <td>36</td>\n",
       "      <td>высшее</td>\n",
       "      <td>0</td>\n",
       "      <td>женат / замужем</td>\n",
       "      <td>0</td>\n",
       "      <td>M</td>\n",
       "      <td>компаньон</td>\n",
       "      <td>0</td>\n",
       "      <td>113943.491460</td>\n",
       "      <td>покупка недвижимости</td>\n",
       "    </tr>\n",
       "    <tr>\n",
       "      <th>11</th>\n",
       "      <td>0</td>\n",
       "      <td>-792.701887</td>\n",
       "      <td>40</td>\n",
       "      <td>среднее</td>\n",
       "      <td>1</td>\n",
       "      <td>женат / замужем</td>\n",
       "      <td>0</td>\n",
       "      <td>F</td>\n",
       "      <td>сотрудник</td>\n",
       "      <td>0</td>\n",
       "      <td>77069.234271</td>\n",
       "      <td>покупка коммерческой недвижимости</td>\n",
       "    </tr>\n",
       "    <tr>\n",
       "      <th>12</th>\n",
       "      <td>0</td>\n",
       "      <td>NaN</td>\n",
       "      <td>65</td>\n",
       "      <td>среднее</td>\n",
       "      <td>1</td>\n",
       "      <td>гражданский брак</td>\n",
       "      <td>1</td>\n",
       "      <td>M</td>\n",
       "      <td>пенсионер</td>\n",
       "      <td>0</td>\n",
       "      <td>NaN</td>\n",
       "      <td>сыграть свадьбу</td>\n",
       "    </tr>\n",
       "    <tr>\n",
       "      <th>13</th>\n",
       "      <td>0</td>\n",
       "      <td>-1846.641941</td>\n",
       "      <td>54</td>\n",
       "      <td>неоконченное высшее</td>\n",
       "      <td>2</td>\n",
       "      <td>женат / замужем</td>\n",
       "      <td>0</td>\n",
       "      <td>F</td>\n",
       "      <td>сотрудник</td>\n",
       "      <td>0</td>\n",
       "      <td>130458.228857</td>\n",
       "      <td>приобретение автомобиля</td>\n",
       "    </tr>\n",
       "    <tr>\n",
       "      <th>14</th>\n",
       "      <td>0</td>\n",
       "      <td>-1844.956182</td>\n",
       "      <td>56</td>\n",
       "      <td>высшее</td>\n",
       "      <td>0</td>\n",
       "      <td>гражданский брак</td>\n",
       "      <td>1</td>\n",
       "      <td>F</td>\n",
       "      <td>компаньон</td>\n",
       "      <td>1</td>\n",
       "      <td>165127.911772</td>\n",
       "      <td>покупка жилой недвижимости</td>\n",
       "    </tr>\n",
       "    <tr>\n",
       "      <th>15</th>\n",
       "      <td>1</td>\n",
       "      <td>-972.364419</td>\n",
       "      <td>26</td>\n",
       "      <td>среднее</td>\n",
       "      <td>1</td>\n",
       "      <td>женат / замужем</td>\n",
       "      <td>0</td>\n",
       "      <td>F</td>\n",
       "      <td>сотрудник</td>\n",
       "      <td>0</td>\n",
       "      <td>116820.904450</td>\n",
       "      <td>строительство собственной недвижимости</td>\n",
       "    </tr>\n",
       "    <tr>\n",
       "      <th>16</th>\n",
       "      <td>0</td>\n",
       "      <td>-1719.934226</td>\n",
       "      <td>35</td>\n",
       "      <td>среднее</td>\n",
       "      <td>1</td>\n",
       "      <td>женат / замужем</td>\n",
       "      <td>0</td>\n",
       "      <td>F</td>\n",
       "      <td>сотрудник</td>\n",
       "      <td>0</td>\n",
       "      <td>289202.704229</td>\n",
       "      <td>недвижимость</td>\n",
       "    </tr>\n",
       "    <tr>\n",
       "      <th>17</th>\n",
       "      <td>0</td>\n",
       "      <td>-2369.999720</td>\n",
       "      <td>33</td>\n",
       "      <td>высшее</td>\n",
       "      <td>0</td>\n",
       "      <td>гражданский брак</td>\n",
       "      <td>1</td>\n",
       "      <td>M</td>\n",
       "      <td>сотрудник</td>\n",
       "      <td>0</td>\n",
       "      <td>90410.586745</td>\n",
       "      <td>строительство недвижимости</td>\n",
       "    </tr>\n",
       "    <tr>\n",
       "      <th>18</th>\n",
       "      <td>0</td>\n",
       "      <td>400281.136913</td>\n",
       "      <td>53</td>\n",
       "      <td>среднее</td>\n",
       "      <td>1</td>\n",
       "      <td>вдовец / вдова</td>\n",
       "      <td>2</td>\n",
       "      <td>F</td>\n",
       "      <td>пенсионер</td>\n",
       "      <td>0</td>\n",
       "      <td>56823.777243</td>\n",
       "      <td>на покупку подержанного автомобиля</td>\n",
       "    </tr>\n",
       "    <tr>\n",
       "      <th>19</th>\n",
       "      <td>0</td>\n",
       "      <td>-10038.818549</td>\n",
       "      <td>48</td>\n",
       "      <td>СРЕДНЕЕ</td>\n",
       "      <td>1</td>\n",
       "      <td>в разводе</td>\n",
       "      <td>3</td>\n",
       "      <td>F</td>\n",
       "      <td>сотрудник</td>\n",
       "      <td>0</td>\n",
       "      <td>242831.107982</td>\n",
       "      <td>на покупку своего автомобиля</td>\n",
       "    </tr>\n",
       "  </tbody>\n",
       "</table>\n",
       "</div>"
      ],
      "text/plain": [
       "    children  days_employed  dob_years            education  education_id  \\\n",
       "0          1   -8437.673028         42               высшее             0   \n",
       "1          1   -4024.803754         36              среднее             1   \n",
       "2          0   -5623.422610         33              Среднее             1   \n",
       "3          3   -4124.747207         32              среднее             1   \n",
       "4          0  340266.072047         53              среднее             1   \n",
       "5          0    -926.185831         27               высшее             0   \n",
       "6          0   -2879.202052         43               высшее             0   \n",
       "7          0    -152.779569         50              СРЕДНЕЕ             1   \n",
       "8          2   -6929.865299         35               ВЫСШЕЕ             0   \n",
       "9          0   -2188.756445         41              среднее             1   \n",
       "10         2   -4171.483647         36               высшее             0   \n",
       "11         0    -792.701887         40              среднее             1   \n",
       "12         0            NaN         65              среднее             1   \n",
       "13         0   -1846.641941         54  неоконченное высшее             2   \n",
       "14         0   -1844.956182         56               высшее             0   \n",
       "15         1    -972.364419         26              среднее             1   \n",
       "16         0   -1719.934226         35              среднее             1   \n",
       "17         0   -2369.999720         33               высшее             0   \n",
       "18         0  400281.136913         53              среднее             1   \n",
       "19         0  -10038.818549         48              СРЕДНЕЕ             1   \n",
       "\n",
       "       family_status  family_status_id gender income_type  debt  \\\n",
       "0    женат / замужем                 0      F   сотрудник     0   \n",
       "1    женат / замужем                 0      F   сотрудник     0   \n",
       "2    женат / замужем                 0      M   сотрудник     0   \n",
       "3    женат / замужем                 0      M   сотрудник     0   \n",
       "4   гражданский брак                 1      F   пенсионер     0   \n",
       "5   гражданский брак                 1      M   компаньон     0   \n",
       "6    женат / замужем                 0      F   компаньон     0   \n",
       "7    женат / замужем                 0      M   сотрудник     0   \n",
       "8   гражданский брак                 1      F   сотрудник     0   \n",
       "9    женат / замужем                 0      M   сотрудник     0   \n",
       "10   женат / замужем                 0      M   компаньон     0   \n",
       "11   женат / замужем                 0      F   сотрудник     0   \n",
       "12  гражданский брак                 1      M   пенсионер     0   \n",
       "13   женат / замужем                 0      F   сотрудник     0   \n",
       "14  гражданский брак                 1      F   компаньон     1   \n",
       "15   женат / замужем                 0      F   сотрудник     0   \n",
       "16   женат / замужем                 0      F   сотрудник     0   \n",
       "17  гражданский брак                 1      M   сотрудник     0   \n",
       "18    вдовец / вдова                 2      F   пенсионер     0   \n",
       "19         в разводе                 3      F   сотрудник     0   \n",
       "\n",
       "     total_income                                 purpose  \n",
       "0   253875.639453                           покупка жилья  \n",
       "1   112080.014102                 приобретение автомобиля  \n",
       "2   145885.952297                           покупка жилья  \n",
       "3   267628.550329              дополнительное образование  \n",
       "4   158616.077870                         сыграть свадьбу  \n",
       "5   255763.565419                           покупка жилья  \n",
       "6   240525.971920                       операции с жильем  \n",
       "7   135823.934197                             образование  \n",
       "8    95856.832424                   на проведение свадьбы  \n",
       "9   144425.938277                 покупка жилья для семьи  \n",
       "10  113943.491460                    покупка недвижимости  \n",
       "11   77069.234271       покупка коммерческой недвижимости  \n",
       "12            NaN                         сыграть свадьбу  \n",
       "13  130458.228857                 приобретение автомобиля  \n",
       "14  165127.911772              покупка жилой недвижимости  \n",
       "15  116820.904450  строительство собственной недвижимости  \n",
       "16  289202.704229                            недвижимость  \n",
       "17   90410.586745              строительство недвижимости  \n",
       "18   56823.777243      на покупку подержанного автомобиля  \n",
       "19  242831.107982            на покупку своего автомобиля  "
      ]
     },
     "execution_count": 67,
     "metadata": {},
     "output_type": "execute_result"
    }
   ],
   "source": [
    "data.head(20)"
   ]
  },
  {
   "attachments": {},
   "cell_type": "markdown",
   "id": "8b7305b9",
   "metadata": {
    "deletable": false,
    "editable": false,
    "id": "1c12e233"
   },
   "source": [
    "Выведем основную информацию о датафрейме с помощью метода `info()`."
   ]
  },
  {
   "cell_type": "code",
   "execution_count": 68,
   "id": "b026c36c",
   "metadata": {
    "deletable": false,
    "id": "2b757bca",
    "outputId": "15376089-8dad-46c9-b520-c05248d43158"
   },
   "outputs": [
    {
     "name": "stdout",
     "output_type": "stream",
     "text": [
      "<class 'pandas.core.frame.DataFrame'>\n",
      "RangeIndex: 21525 entries, 0 to 21524\n",
      "Data columns (total 12 columns):\n",
      " #   Column            Non-Null Count  Dtype  \n",
      "---  ------            --------------  -----  \n",
      " 0   children          21525 non-null  int64  \n",
      " 1   days_employed     19351 non-null  float64\n",
      " 2   dob_years         21525 non-null  int64  \n",
      " 3   education         21525 non-null  object \n",
      " 4   education_id      21525 non-null  int64  \n",
      " 5   family_status     21525 non-null  object \n",
      " 6   family_status_id  21525 non-null  int64  \n",
      " 7   gender            21525 non-null  object \n",
      " 8   income_type       21525 non-null  object \n",
      " 9   debt              21525 non-null  int64  \n",
      " 10  total_income      19351 non-null  float64\n",
      " 11  purpose           21525 non-null  object \n",
      "dtypes: float64(2), int64(5), object(5)\n",
      "memory usage: 2.0+ MB\n"
     ]
    }
   ],
   "source": [
    "data.info()"
   ]
  },
  {
   "attachments": {},
   "cell_type": "markdown",
   "id": "bcdd5be9",
   "metadata": {
    "deletable": false,
    "editable": false,
    "id": "333ec665"
   },
   "source": [
    "## Предобработка данных"
   ]
  },
  {
   "attachments": {},
   "cell_type": "markdown",
   "id": "41ff328e",
   "metadata": {
    "deletable": false,
    "editable": false,
    "id": "02d92d53"
   },
   "source": [
    "### Удаление пропусков"
   ]
  },
  {
   "attachments": {},
   "cell_type": "markdown",
   "id": "ac895a64",
   "metadata": {
    "deletable": false,
    "editable": false,
    "id": "cd84967c"
   },
   "source": [
    "Выведем количество пропущенных значений для каждого столбца. Используем комбинацию двух методов."
   ]
  },
  {
   "cell_type": "code",
   "execution_count": 69,
   "id": "4240fd03",
   "metadata": {
    "deletable": false,
    "id": "7f9b2309",
    "outputId": "81f4d817-781c-465c-ed15-91ce4446810d"
   },
   "outputs": [
    {
     "data": {
      "text/plain": [
       "children               0\n",
       "days_employed       2174\n",
       "dob_years              0\n",
       "education              0\n",
       "education_id           0\n",
       "family_status          0\n",
       "family_status_id       0\n",
       "gender                 0\n",
       "income_type            0\n",
       "debt                   0\n",
       "total_income        2174\n",
       "purpose                0\n",
       "dtype: int64"
      ]
     },
     "execution_count": 69,
     "metadata": {},
     "output_type": "execute_result"
    }
   ],
   "source": [
    "data.isna().sum()"
   ]
  },
  {
   "attachments": {},
   "cell_type": "markdown",
   "id": "890b4137",
   "metadata": {
    "deletable": false,
    "editable": false,
    "id": "db86e27b"
   },
   "source": [
    "В двух столбцах есть пропущенные значения. Один из них — `days_employed`. Пропуски в этом столбце мы обработаем на следующем этапе. Другой столбец с пропущенными значениями — `total_income` — хранит данные о доходах. На сумму дохода сильнее всего влияет тип занятости, поэтому заполнить пропуски в этом столбце нужно медианным значением по каждому типу из столбца `income_type`. Например, у человека с типом занятости `сотрудник` пропуск в столбце `total_income` должен быть заполнен медианным доходом среди всех записей с тем же типом."
   ]
  },
  {
   "cell_type": "code",
   "execution_count": 70,
   "id": "47b812f9",
   "metadata": {
    "deletable": false,
    "id": "42006a93"
   },
   "outputs": [],
   "source": [
    "for t in data['income_type'].unique():\n",
    "    data.loc[(data['income_type'] == t) & (data['total_income'].isna()), 'total_income'] = \\\n",
    "    data.loc[(data['income_type'] == t), 'total_income'].median()"
   ]
  },
  {
   "attachments": {},
   "cell_type": "markdown",
   "id": "6db236d6",
   "metadata": {
    "deletable": false,
    "editable": false,
    "id": "89da5ece"
   },
   "source": [
    "### Обработка аномальных значений"
   ]
  },
  {
   "attachments": {},
   "cell_type": "markdown",
   "id": "4971238f",
   "metadata": {
    "deletable": false,
    "editable": false,
    "id": "57964554"
   },
   "source": [
    "В данных могут встречаться артефакты (аномалии) — значения, которые не отражают действительность и появились по какой-то ошибке. таким артефактом будет отрицательное количество дней трудового стажа в столбце `days_employed`. Для реальных данных это нормально. Обработаем значения в этом столбце: заменим все отрицательные значения положительными с помощью метода `abs()`."
   ]
  },
  {
   "cell_type": "code",
   "execution_count": 71,
   "id": "ec670650",
   "metadata": {
    "deletable": false,
    "id": "f6f055bf"
   },
   "outputs": [],
   "source": [
    "data['days_employed'] = data['days_employed'].abs()"
   ]
  },
  {
   "attachments": {},
   "cell_type": "markdown",
   "id": "1e62f67e",
   "metadata": {
    "deletable": false,
    "editable": false,
    "id": "6107dd2f"
   },
   "source": [
    "Для каждого типа занятости выведем медианное значение трудового стажа `days_employed` в днях."
   ]
  },
  {
   "cell_type": "code",
   "execution_count": 72,
   "id": "6dde6971",
   "metadata": {
    "deletable": false,
    "id": "85a5faf6",
    "outputId": "801ef80e-522b-4668-f34e-565af7432bcf"
   },
   "outputs": [
    {
     "data": {
      "text/plain": [
       "income_type\n",
       "безработный        366413.652744\n",
       "в декрете            3296.759962\n",
       "госслужащий          2689.368353\n",
       "компаньон            1547.382223\n",
       "пенсионер          365213.306266\n",
       "предприниматель       520.848083\n",
       "сотрудник            1574.202821\n",
       "студент               578.751554\n",
       "Name: days_employed, dtype: float64"
      ]
     },
     "execution_count": 72,
     "metadata": {},
     "output_type": "execute_result"
    }
   ],
   "source": [
    "data.groupby('income_type')['days_employed'].agg('median')"
   ]
  },
  {
   "attachments": {},
   "cell_type": "markdown",
   "id": "71081ae2",
   "metadata": {
    "deletable": false,
    "editable": false,
    "id": "38d1a030"
   },
   "source": [
    "У двух типов (безработные и пенсионеры) получатся аномально большие значения. Исправить такие значения сложно, поэтому оставим их как есть. Тем более этот столбец не понадобится нам для исследования."
   ]
  },
  {
   "attachments": {},
   "cell_type": "markdown",
   "id": "7e026baa",
   "metadata": {
    "deletable": false,
    "editable": false,
    "id": "d8a9f147"
   },
   "source": [
    "Выведем перечень уникальных значений столбца `children`."
   ]
  },
  {
   "cell_type": "code",
   "execution_count": 73,
   "id": "60ca7850",
   "metadata": {
    "deletable": false,
    "id": "ef5056eb",
    "outputId": "6975b15c-7f95-4697-d16d-a0c79b657b03"
   },
   "outputs": [
    {
     "data": {
      "text/plain": [
       "array([ 1,  0,  3,  2, -1,  4, 20,  5], dtype=int64)"
      ]
     },
     "execution_count": 73,
     "metadata": {},
     "output_type": "execute_result"
    }
   ],
   "source": [
    "data['children'].unique()"
   ]
  },
  {
   "attachments": {},
   "cell_type": "markdown",
   "id": "c965574c",
   "metadata": {
    "deletable": false,
    "editable": false,
    "id": "40b9ebf2"
   },
   "source": [
    "В столбце `children` есть два аномальных значения. Удалим строки, в которых встречаются такие аномальные значения из датафрейма `data`."
   ]
  },
  {
   "cell_type": "code",
   "execution_count": 74,
   "id": "2ae56c3e",
   "metadata": {
    "deletable": false,
    "id": "3ff9801d"
   },
   "outputs": [],
   "source": [
    "data = data[(data['children'] != -1) & (data['children'] != 20)]"
   ]
  },
  {
   "attachments": {},
   "cell_type": "markdown",
   "id": "eeb85a7a",
   "metadata": {
    "deletable": false,
    "editable": false,
    "id": "bbc4d0ce"
   },
   "source": [
    "Ещё раз выведем перечень уникальных значений столбца `children`, чтобы убедиться, что артефакты удалены."
   ]
  },
  {
   "cell_type": "code",
   "execution_count": 75,
   "id": "515cc4e3",
   "metadata": {
    "deletable": false,
    "id": "ad4fa8b7",
    "outputId": "b2097101-d49d-44d9-901b-32a65c9463d1"
   },
   "outputs": [
    {
     "data": {
      "text/plain": [
       "array([1, 0, 3, 2, 4, 5], dtype=int64)"
      ]
     },
     "execution_count": 75,
     "metadata": {},
     "output_type": "execute_result"
    }
   ],
   "source": [
    "data['children'].unique()"
   ]
  },
  {
   "attachments": {},
   "cell_type": "markdown",
   "id": "d697ba8f",
   "metadata": {
    "deletable": false,
    "editable": false,
    "id": "75440b63"
   },
   "source": [
    "### Удаление пропусков (продолжение)"
   ]
  },
  {
   "attachments": {},
   "cell_type": "markdown",
   "id": "e4735b8d",
   "metadata": {
    "deletable": false,
    "editable": false,
    "id": "f4ea573f"
   },
   "source": [
    "Заполним пропуски в столбце `days_employed` медианными значениями для каждого типа занятости `income_type`."
   ]
  },
  {
   "cell_type": "code",
   "execution_count": 76,
   "id": "0a5d6f70",
   "metadata": {
    "deletable": false,
    "id": "af6b1a7e"
   },
   "outputs": [],
   "source": [
    "for t in data['income_type'].unique():\n",
    "    data.loc[(data['income_type'] == t) & (data['days_employed'].isna()), 'days_employed'] = \\\n",
    "    data.loc[(data['income_type'] == t), 'days_employed'].median()"
   ]
  },
  {
   "attachments": {},
   "cell_type": "markdown",
   "id": "608d952a",
   "metadata": {
    "deletable": false,
    "editable": false,
    "id": "2753f40d"
   },
   "source": [
    "Убедимся, что все пропуски заполнены. Проверим себя и ещё раз выведем количество пропущенных значений для каждого столбца с помощью двух методов."
   ]
  },
  {
   "cell_type": "code",
   "execution_count": 77,
   "id": "1b5acf7c",
   "metadata": {
    "deletable": false,
    "id": "55f78bc2",
    "outputId": "8da1e4e1-358e-4e87-98c9-f261bce0a7b2"
   },
   "outputs": [
    {
     "data": {
      "text/plain": [
       "children            0\n",
       "days_employed       0\n",
       "dob_years           0\n",
       "education           0\n",
       "education_id        0\n",
       "family_status       0\n",
       "family_status_id    0\n",
       "gender              0\n",
       "income_type         0\n",
       "debt                0\n",
       "total_income        0\n",
       "purpose             0\n",
       "dtype: int64"
      ]
     },
     "execution_count": 77,
     "metadata": {},
     "output_type": "execute_result"
    }
   ],
   "source": [
    "data.isna().sum()"
   ]
  },
  {
   "attachments": {},
   "cell_type": "markdown",
   "id": "7307300b",
   "metadata": {
    "deletable": false,
    "editable": false,
    "id": "ddc81e43"
   },
   "source": [
    "### Изменение типов данных"
   ]
  },
  {
   "attachments": {},
   "cell_type": "markdown",
   "id": "ebb2ac9e",
   "metadata": {
    "deletable": false,
    "editable": false,
    "id": "42d19d24"
   },
   "source": [
    "Заменим вещественный тип данных в столбце `total_income` на целочисленный с помощью метода `astype()`."
   ]
  },
  {
   "cell_type": "code",
   "execution_count": 78,
   "id": "eab7052e",
   "metadata": {
    "deletable": false,
    "id": "920b65ad"
   },
   "outputs": [],
   "source": [
    "data['total_income'] = data['total_income'].astype(int)"
   ]
  },
  {
   "attachments": {},
   "cell_type": "markdown",
   "id": "1a7e90c5",
   "metadata": {
    "deletable": false,
    "editable": false,
    "id": "80c420ba"
   },
   "source": [
    "### Обработка дубликатов"
   ]
  },
  {
   "attachments": {},
   "cell_type": "markdown",
   "id": "affde622",
   "metadata": {
    "deletable": false,
    "editable": false
   },
   "source": [
    "Обработаем неявные дубликаты в столбце `education`. В этом столбце есть одни и те же значения, но записанные по-разному: с использованием заглавных и строчных букв. Приведем их к нижнему регистру. Проверьте остальные столбцы."
   ]
  },
  {
   "cell_type": "code",
   "execution_count": 79,
   "id": "bf7be6c0",
   "metadata": {
    "deletable": false
   },
   "outputs": [],
   "source": [
    "data['education'] = data['education'].str.lower()"
   ]
  },
  {
   "attachments": {},
   "cell_type": "markdown",
   "id": "0f3a9efc",
   "metadata": {
    "deletable": false,
    "editable": false,
    "id": "dc587695"
   },
   "source": [
    "Выведем на экран количество строк-дубликатов в данных. Если такие строки присутствуют, удалим их.**"
   ]
  },
  {
   "cell_type": "code",
   "execution_count": 80,
   "id": "67cff16a",
   "metadata": {
    "deletable": false,
    "id": "3ee445e4",
    "outputId": "9684deba-1934-42d1-99e1-cda61740f822"
   },
   "outputs": [
    {
     "data": {
      "text/plain": [
       "71"
      ]
     },
     "execution_count": 80,
     "metadata": {},
     "output_type": "execute_result"
    }
   ],
   "source": [
    "data.duplicated().sum()"
   ]
  },
  {
   "cell_type": "code",
   "execution_count": 81,
   "id": "f57c3a59",
   "metadata": {
    "deletable": false,
    "id": "8575fe05"
   },
   "outputs": [],
   "source": [
    "data = data.drop_duplicates()"
   ]
  },
  {
   "attachments": {},
   "cell_type": "markdown",
   "id": "1acab0c2",
   "metadata": {
    "deletable": false,
    "editable": false,
    "id": "9904cf55"
   },
   "source": [
    "### Категоризация данных"
   ]
  },
  {
   "attachments": {},
   "cell_type": "markdown",
   "id": "c5b48ff5",
   "metadata": {
    "deletable": false,
    "editable": false,
    "id": "72fcc8a2"
   },
   "source": [
    "На основании диапазонов, указанных ниже, создадим в датафрейме `data` столбец `total_income_category` с категориями:**\n",
    "\n",
    "- 0–30000 — `'E'`;\n",
    "- 30001–50000 — `'D'`;\n",
    "- 50001–200000 — `'C'`;\n",
    "- 200001–1000000 — `'B'`;\n",
    "- 1000001 и выше — `'A'`.\n",
    "\n",
    "\n",
    "**Например, кредитополучателю с доходом 25000 нужно назначить категорию `'E'`, а клиенту, получающему 235000, — `'B'`. Используем собственную функцию с именем `categorize_income()` и метод `apply()`.**"
   ]
  },
  {
   "cell_type": "code",
   "execution_count": 82,
   "id": "902a69c8",
   "metadata": {
    "deletable": false,
    "id": "e1771346"
   },
   "outputs": [],
   "source": [
    "def categorize_income(income):\n",
    "    try:\n",
    "        if 0 <= income <= 30000:\n",
    "            return 'E'\n",
    "        elif 30001 <= income <= 50000:\n",
    "            return 'D'\n",
    "        elif 50001 <= income <= 200000:\n",
    "            return 'C'\n",
    "        elif 200001 <= income <= 1000000:\n",
    "            return 'B'\n",
    "        elif income >= 1000001:\n",
    "            return 'A'\n",
    "    except:\n",
    "        pass"
   ]
  },
  {
   "cell_type": "code",
   "execution_count": 83,
   "id": "20cf7b03",
   "metadata": {
    "deletable": false,
    "id": "d5f3586d"
   },
   "outputs": [],
   "source": [
    "data['total_income_category'] = data['total_income'].apply(categorize_income)"
   ]
  },
  {
   "attachments": {},
   "cell_type": "markdown",
   "id": "f0ff3284",
   "metadata": {
    "deletable": false,
    "editable": false,
    "id": "dde49b5c"
   },
   "source": [
    "Выведем на экран перечень уникальных целей взятия кредита из столбца `purpose`."
   ]
  },
  {
   "cell_type": "code",
   "execution_count": 84,
   "id": "99071c4f",
   "metadata": {
    "deletable": false,
    "id": "f67ce9b3",
    "outputId": "673c12d9-7d7e-4ae0-9812-c622c89dd244"
   },
   "outputs": [
    {
     "data": {
      "text/plain": [
       "array(['покупка жилья', 'приобретение автомобиля',\n",
       "       'дополнительное образование', 'сыграть свадьбу',\n",
       "       'операции с жильем', 'образование', 'на проведение свадьбы',\n",
       "       'покупка жилья для семьи', 'покупка недвижимости',\n",
       "       'покупка коммерческой недвижимости', 'покупка жилой недвижимости',\n",
       "       'строительство собственной недвижимости', 'недвижимость',\n",
       "       'строительство недвижимости', 'на покупку подержанного автомобиля',\n",
       "       'на покупку своего автомобиля',\n",
       "       'операции с коммерческой недвижимостью',\n",
       "       'строительство жилой недвижимости', 'жилье',\n",
       "       'операции со своей недвижимостью', 'автомобили',\n",
       "       'заняться образованием', 'сделка с подержанным автомобилем',\n",
       "       'получение образования', 'автомобиль', 'свадьба',\n",
       "       'получение дополнительного образования', 'покупка своего жилья',\n",
       "       'операции с недвижимостью', 'получение высшего образования',\n",
       "       'свой автомобиль', 'сделка с автомобилем',\n",
       "       'профильное образование', 'высшее образование',\n",
       "       'покупка жилья для сдачи', 'на покупку автомобиля', 'ремонт жилью',\n",
       "       'заняться высшим образованием'], dtype=object)"
      ]
     },
     "execution_count": 84,
     "metadata": {},
     "output_type": "execute_result"
    }
   ],
   "source": [
    "data['purpose'].unique()"
   ]
  },
  {
   "attachments": {},
   "cell_type": "markdown",
   "id": "17a5eb80",
   "metadata": {
    "deletable": false,
    "editable": false,
    "id": "85d0aef0"
   },
   "source": [
    "Создадим функцию, которая на основании данных из столбца `purpose` сформирует новый столбец `purpose_category`, в который войдут следующие категории:\n",
    "\n",
    "- `'операции с автомобилем'`,\n",
    "- `'операции с недвижимостью'`,\n",
    "- `'проведение свадьбы'`,\n",
    "- `'получение образования'`.\n",
    "\n",
    "**Например, если в столбце `purpose` находится подстрока `'на покупку автомобиля'`, то в столбце `purpose_category` должна появиться строка `'операции с автомобилем'`.**\n",
    "\n",
    "**Используем собственную функцию с именем `categorize_purpose()` и метод `apply()`. Изучим данные в столбце `purpose` и определим, какие подстроки помогут нам правильно определить категорию.**"
   ]
  },
  {
   "cell_type": "code",
   "execution_count": 85,
   "id": "b59087f8",
   "metadata": {
    "deletable": false,
    "id": "e149fab4"
   },
   "outputs": [],
   "source": [
    "def categorize_purpose(row):\n",
    "    try:\n",
    "        if 'автом' in row:\n",
    "            return 'операции с автомобилем'\n",
    "        elif 'жил' in row or 'недвиж' in row:\n",
    "            return 'операции с недвижимостью'\n",
    "        elif 'свад' in row:\n",
    "            return 'проведение свадьбы'\n",
    "        elif 'образов' in row:\n",
    "            return 'получение образования'\n",
    "    except:\n",
    "        return 'нет категории'"
   ]
  },
  {
   "cell_type": "code",
   "execution_count": 86,
   "id": "bf98018c",
   "metadata": {
    "deletable": false,
    "id": "bf36e69b"
   },
   "outputs": [],
   "source": [
    "data['purpose_category'] = data['purpose'].apply(categorize_purpose)"
   ]
  },
  {
   "attachments": {},
   "cell_type": "markdown",
   "id": "dcd14faa",
   "metadata": {
    "deletable": false,
    "editable": false,
    "id": "09b242bf"
   },
   "source": [
    "### Шаг 3. Исследуем данные и ответим на вопросы"
   ]
  },
  {
   "attachments": {},
   "cell_type": "markdown",
   "id": "b992caa9",
   "metadata": {
    "deletable": false,
    "editable": false,
    "id": "c5d66278"
   },
   "source": [
    "#### 3.1 Есть ли зависимость между количеством детей и возвратом кредита в срок?"
   ]
  },
  {
   "cell_type": "code",
   "execution_count": 87,
   "id": "456c5aa3",
   "metadata": {
    "deletable": false,
    "id": "2cacfc4a",
    "scrolled": true
   },
   "outputs": [
    {
     "data": {
      "text/html": [
       "<div>\n",
       "<style scoped>\n",
       "    .dataframe tbody tr th:only-of-type {\n",
       "        vertical-align: middle;\n",
       "    }\n",
       "\n",
       "    .dataframe tbody tr th {\n",
       "        vertical-align: top;\n",
       "    }\n",
       "\n",
       "    .dataframe thead th {\n",
       "        text-align: right;\n",
       "    }\n",
       "</style>\n",
       "<table border=\"1\" class=\"dataframe\">\n",
       "  <thead>\n",
       "    <tr style=\"text-align: right;\">\n",
       "      <th></th>\n",
       "      <th>children</th>\n",
       "      <th>days_employed</th>\n",
       "      <th>dob_years</th>\n",
       "      <th>education</th>\n",
       "      <th>education_id</th>\n",
       "      <th>family_status</th>\n",
       "      <th>family_status_id</th>\n",
       "      <th>gender</th>\n",
       "      <th>income_type</th>\n",
       "      <th>debt</th>\n",
       "      <th>total_income</th>\n",
       "      <th>purpose</th>\n",
       "      <th>total_income_category</th>\n",
       "      <th>purpose_category</th>\n",
       "    </tr>\n",
       "  </thead>\n",
       "  <tbody>\n",
       "    <tr>\n",
       "      <th>0</th>\n",
       "      <td>1</td>\n",
       "      <td>8437.673028</td>\n",
       "      <td>42</td>\n",
       "      <td>высшее</td>\n",
       "      <td>0</td>\n",
       "      <td>женат / замужем</td>\n",
       "      <td>0</td>\n",
       "      <td>F</td>\n",
       "      <td>сотрудник</td>\n",
       "      <td>0</td>\n",
       "      <td>253875</td>\n",
       "      <td>покупка жилья</td>\n",
       "      <td>B</td>\n",
       "      <td>операции с недвижимостью</td>\n",
       "    </tr>\n",
       "    <tr>\n",
       "      <th>1</th>\n",
       "      <td>1</td>\n",
       "      <td>4024.803754</td>\n",
       "      <td>36</td>\n",
       "      <td>среднее</td>\n",
       "      <td>1</td>\n",
       "      <td>женат / замужем</td>\n",
       "      <td>0</td>\n",
       "      <td>F</td>\n",
       "      <td>сотрудник</td>\n",
       "      <td>0</td>\n",
       "      <td>112080</td>\n",
       "      <td>приобретение автомобиля</td>\n",
       "      <td>C</td>\n",
       "      <td>операции с автомобилем</td>\n",
       "    </tr>\n",
       "    <tr>\n",
       "      <th>2</th>\n",
       "      <td>0</td>\n",
       "      <td>5623.422610</td>\n",
       "      <td>33</td>\n",
       "      <td>среднее</td>\n",
       "      <td>1</td>\n",
       "      <td>женат / замужем</td>\n",
       "      <td>0</td>\n",
       "      <td>M</td>\n",
       "      <td>сотрудник</td>\n",
       "      <td>0</td>\n",
       "      <td>145885</td>\n",
       "      <td>покупка жилья</td>\n",
       "      <td>C</td>\n",
       "      <td>операции с недвижимостью</td>\n",
       "    </tr>\n",
       "    <tr>\n",
       "      <th>3</th>\n",
       "      <td>3</td>\n",
       "      <td>4124.747207</td>\n",
       "      <td>32</td>\n",
       "      <td>среднее</td>\n",
       "      <td>1</td>\n",
       "      <td>женат / замужем</td>\n",
       "      <td>0</td>\n",
       "      <td>M</td>\n",
       "      <td>сотрудник</td>\n",
       "      <td>0</td>\n",
       "      <td>267628</td>\n",
       "      <td>дополнительное образование</td>\n",
       "      <td>B</td>\n",
       "      <td>получение образования</td>\n",
       "    </tr>\n",
       "    <tr>\n",
       "      <th>4</th>\n",
       "      <td>0</td>\n",
       "      <td>340266.072047</td>\n",
       "      <td>53</td>\n",
       "      <td>среднее</td>\n",
       "      <td>1</td>\n",
       "      <td>гражданский брак</td>\n",
       "      <td>1</td>\n",
       "      <td>F</td>\n",
       "      <td>пенсионер</td>\n",
       "      <td>0</td>\n",
       "      <td>158616</td>\n",
       "      <td>сыграть свадьбу</td>\n",
       "      <td>C</td>\n",
       "      <td>проведение свадьбы</td>\n",
       "    </tr>\n",
       "  </tbody>\n",
       "</table>\n",
       "</div>"
      ],
      "text/plain": [
       "   children  days_employed  dob_years education  education_id  \\\n",
       "0         1    8437.673028         42    высшее             0   \n",
       "1         1    4024.803754         36   среднее             1   \n",
       "2         0    5623.422610         33   среднее             1   \n",
       "3         3    4124.747207         32   среднее             1   \n",
       "4         0  340266.072047         53   среднее             1   \n",
       "\n",
       "      family_status  family_status_id gender income_type  debt  total_income  \\\n",
       "0   женат / замужем                 0      F   сотрудник     0        253875   \n",
       "1   женат / замужем                 0      F   сотрудник     0        112080   \n",
       "2   женат / замужем                 0      M   сотрудник     0        145885   \n",
       "3   женат / замужем                 0      M   сотрудник     0        267628   \n",
       "4  гражданский брак                 1      F   пенсионер     0        158616   \n",
       "\n",
       "                      purpose total_income_category          purpose_category  \n",
       "0               покупка жилья                     B  операции с недвижимостью  \n",
       "1     приобретение автомобиля                     C    операции с автомобилем  \n",
       "2               покупка жилья                     C  операции с недвижимостью  \n",
       "3  дополнительное образование                     B     получение образования  \n",
       "4             сыграть свадьбу                     C        проведение свадьбы  "
      ]
     },
     "execution_count": 87,
     "metadata": {},
     "output_type": "execute_result"
    }
   ],
   "source": [
    "data.head()\n",
    "# Ваш код будет здесь. Вы можете создавать новые ячейки."
   ]
  },
  {
   "cell_type": "code",
   "execution_count": 88,
   "id": "5d6edb47",
   "metadata": {
    "scrolled": true
   },
   "outputs": [
    {
     "data": {
      "text/html": [
       "<div>\n",
       "<style scoped>\n",
       "    .dataframe tbody tr th:only-of-type {\n",
       "        vertical-align: middle;\n",
       "    }\n",
       "\n",
       "    .dataframe tbody tr th {\n",
       "        vertical-align: top;\n",
       "    }\n",
       "\n",
       "    .dataframe thead th {\n",
       "        text-align: right;\n",
       "    }\n",
       "</style>\n",
       "<table border=\"1\" class=\"dataframe\">\n",
       "  <thead>\n",
       "    <tr style=\"text-align: right;\">\n",
       "      <th></th>\n",
       "      <th>total_debt</th>\n",
       "      <th>unpaid_debt</th>\n",
       "      <th>ratio</th>\n",
       "    </tr>\n",
       "    <tr>\n",
       "      <th>children</th>\n",
       "      <th></th>\n",
       "      <th></th>\n",
       "      <th></th>\n",
       "    </tr>\n",
       "  </thead>\n",
       "  <tbody>\n",
       "    <tr>\n",
       "      <th>4</th>\n",
       "      <td>41</td>\n",
       "      <td>4</td>\n",
       "      <td>9.76%</td>\n",
       "    </tr>\n",
       "    <tr>\n",
       "      <th>2</th>\n",
       "      <td>2052</td>\n",
       "      <td>194</td>\n",
       "      <td>9.45%</td>\n",
       "    </tr>\n",
       "    <tr>\n",
       "      <th>1</th>\n",
       "      <td>4808</td>\n",
       "      <td>444</td>\n",
       "      <td>9.23%</td>\n",
       "    </tr>\n",
       "    <tr>\n",
       "      <th>3</th>\n",
       "      <td>330</td>\n",
       "      <td>27</td>\n",
       "      <td>8.18%</td>\n",
       "    </tr>\n",
       "    <tr>\n",
       "      <th>0</th>\n",
       "      <td>14091</td>\n",
       "      <td>1063</td>\n",
       "      <td>7.54%</td>\n",
       "    </tr>\n",
       "    <tr>\n",
       "      <th>5</th>\n",
       "      <td>9</td>\n",
       "      <td>0</td>\n",
       "      <td>0.0%</td>\n",
       "    </tr>\n",
       "  </tbody>\n",
       "</table>\n",
       "</div>"
      ],
      "text/plain": [
       "          total_debt  unpaid_debt  ratio\n",
       "children                                \n",
       "4                 41            4  9.76%\n",
       "2               2052          194  9.45%\n",
       "1               4808          444  9.23%\n",
       "3                330           27  8.18%\n",
       "0              14091         1063  7.54%\n",
       "5                  9            0   0.0%"
      ]
     },
     "execution_count": 88,
     "metadata": {},
     "output_type": "execute_result"
    }
   ],
   "source": [
    "#создаем пустой датафрейм для заполнения нужными данными\n",
    "children_corr = pd.DataFrame()\n",
    "#считаем общее кол-во людей взявших кредит, в разрезе кол-ва детей\n",
    "children_corr['total_debt'] = data.groupby('children')['debt'].count() \n",
    "#считаем кол-во людей имеющих задолженность по кредиту, в разрезе кол-ва детей\n",
    "children_corr['unpaid_debt'] = data.groupby('children')['debt'].sum() \n",
    "#считаем долю имеющих задолженность людей ко всем взявшим кредит, в разрезе кол-ва детей и приводим получившиеся данные к более наглядному виду\n",
    "children_corr['ratio'] = round((children_corr['unpaid_debt']/children_corr['total_debt'])*100,2).astype(str) + '%' \n",
    "#сортируем и выводим таблицу по убыванию доли должников\n",
    "children_corr.sort_values('ratio', ascending = False)"
   ]
  },
  {
   "attachments": {},
   "cell_type": "markdown",
   "id": "80381510",
   "metadata": {
    "deletable": false,
    "id": "3a6b99ec"
   },
   "source": [
    "**Вывод:** "
   ]
  },
  {
   "attachments": {},
   "cell_type": "markdown",
   "id": "1ae481a6",
   "metadata": {},
   "source": [
    "* Мы наблюдаем, что с увеличением количества детей в семье увеличивается процент задолженности по кредиту.\n",
    "\n",
    "\n",
    "* Можно предположить, что с ростом количества детей в семье растет процент должников,возможно, ввиду сложной материальной ситуации клиент предпочтет задолжать банку, чем не обеспечить своего ребенка всем необходимым. \n",
    "\n",
    "\n",
    "* Хотя мы видим,что семьи с 3 детьми выплачивают кредит чаще чем семьи с 1 и 2 ребенками.\n",
    "\n",
    "\n",
    "* Реже всех имеют задолженность бездетные семьи, а семьи с 5 детьми и вовсе ее не имеют. \n",
    "\n",
    "\n",
    "* И в заключении, хотелось бы сказать, что данные не совсем однозначные, чтобы сделать более точные выводы, возможно, нужна большая выборка, чем та, которую мы имеем."
   ]
  },
  {
   "cell_type": "code",
   "execution_count": 89,
   "id": "91b48518",
   "metadata": {
    "scrolled": true
   },
   "outputs": [
    {
     "data": {
      "text/html": [
       "<div>\n",
       "<style scoped>\n",
       "    .dataframe tbody tr th:only-of-type {\n",
       "        vertical-align: middle;\n",
       "    }\n",
       "\n",
       "    .dataframe tbody tr th {\n",
       "        vertical-align: top;\n",
       "    }\n",
       "\n",
       "    .dataframe thead tr th {\n",
       "        text-align: left;\n",
       "    }\n",
       "\n",
       "    .dataframe thead tr:last-of-type th {\n",
       "        text-align: right;\n",
       "    }\n",
       "</style>\n",
       "<table border=\"1\" class=\"dataframe\">\n",
       "  <thead>\n",
       "    <tr>\n",
       "      <th></th>\n",
       "      <th>total_debt</th>\n",
       "      <th>unpaid_debt</th>\n",
       "      <th>ratio</th>\n",
       "    </tr>\n",
       "    <tr>\n",
       "      <th></th>\n",
       "      <th>debt</th>\n",
       "      <th>debt</th>\n",
       "      <th>debt</th>\n",
       "    </tr>\n",
       "    <tr>\n",
       "      <th>children</th>\n",
       "      <th></th>\n",
       "      <th></th>\n",
       "      <th></th>\n",
       "    </tr>\n",
       "  </thead>\n",
       "  <tbody>\n",
       "    <tr>\n",
       "      <th>0</th>\n",
       "      <td>14091</td>\n",
       "      <td>1063</td>\n",
       "      <td>7.54%</td>\n",
       "    </tr>\n",
       "    <tr>\n",
       "      <th>1</th>\n",
       "      <td>4808</td>\n",
       "      <td>444</td>\n",
       "      <td>9.23%</td>\n",
       "    </tr>\n",
       "    <tr>\n",
       "      <th>2</th>\n",
       "      <td>2052</td>\n",
       "      <td>194</td>\n",
       "      <td>9.45%</td>\n",
       "    </tr>\n",
       "    <tr>\n",
       "      <th>3</th>\n",
       "      <td>330</td>\n",
       "      <td>27</td>\n",
       "      <td>8.18%</td>\n",
       "    </tr>\n",
       "    <tr>\n",
       "      <th>4</th>\n",
       "      <td>41</td>\n",
       "      <td>4</td>\n",
       "      <td>9.76%</td>\n",
       "    </tr>\n",
       "    <tr>\n",
       "      <th>5</th>\n",
       "      <td>9</td>\n",
       "      <td>0</td>\n",
       "      <td>0.0%</td>\n",
       "    </tr>\n",
       "  </tbody>\n",
       "</table>\n",
       "</div>"
      ],
      "text/plain": [
       "         total_debt unpaid_debt  ratio\n",
       "               debt        debt   debt\n",
       "children                              \n",
       "0             14091        1063  7.54%\n",
       "1              4808         444  9.23%\n",
       "2              2052         194  9.45%\n",
       "3               330          27  8.18%\n",
       "4                41           4  9.76%\n",
       "5                 9           0   0.0%"
      ]
     },
     "execution_count": 89,
     "metadata": {},
     "output_type": "execute_result"
    }
   ],
   "source": [
    "#создаю сводную таблицу аналогичную выше\n",
    "children_corr_pivot = data.pivot_table(index = 'children', values='debt', aggfunc = ['count','sum', 'mean'])\n",
    "#переименовываю колонки согласно таблице выше\n",
    "children_corr_pivot = children_corr_pivot.rename(columns= {'count':'total_debt', 'sum':'unpaid_debt', 'mean':'ratio'})\n",
    "#привожу данные к более наглядному виду\n",
    "children_corr_pivot['ratio'] = round(children_corr_pivot['ratio']*100,2).astype(str) + '%'\n",
    "#сортирую и вывожу результат на экран\n",
    "children_corr_pivot"
   ]
  },
  {
   "attachments": {},
   "cell_type": "markdown",
   "id": "3ec53273",
   "metadata": {
    "deletable": false,
    "editable": false,
    "id": "97be82ca"
   },
   "source": [
    "#### 3.2 Есть ли зависимость между семейным положением и возвратом кредита в срок?"
   ]
  },
  {
   "cell_type": "code",
   "execution_count": 90,
   "id": "6bb24b04",
   "metadata": {
    "deletable": false,
    "id": "dc3f7ee8",
    "scrolled": true
   },
   "outputs": [
    {
     "data": {
      "text/html": [
       "<div>\n",
       "<style scoped>\n",
       "    .dataframe tbody tr th:only-of-type {\n",
       "        vertical-align: middle;\n",
       "    }\n",
       "\n",
       "    .dataframe tbody tr th {\n",
       "        vertical-align: top;\n",
       "    }\n",
       "\n",
       "    .dataframe thead th {\n",
       "        text-align: right;\n",
       "    }\n",
       "</style>\n",
       "<table border=\"1\" class=\"dataframe\">\n",
       "  <thead>\n",
       "    <tr style=\"text-align: right;\">\n",
       "      <th></th>\n",
       "      <th>total_family_status</th>\n",
       "      <th>unpaid_family_status</th>\n",
       "      <th>ratio</th>\n",
       "    </tr>\n",
       "    <tr>\n",
       "      <th>family_status</th>\n",
       "      <th></th>\n",
       "      <th></th>\n",
       "      <th></th>\n",
       "    </tr>\n",
       "  </thead>\n",
       "  <tbody>\n",
       "    <tr>\n",
       "      <th>Не женат / не замужем</th>\n",
       "      <td>2796</td>\n",
       "      <td>273</td>\n",
       "      <td>9.76%</td>\n",
       "    </tr>\n",
       "    <tr>\n",
       "      <th>гражданский брак</th>\n",
       "      <td>4134</td>\n",
       "      <td>385</td>\n",
       "      <td>9.31%</td>\n",
       "    </tr>\n",
       "    <tr>\n",
       "      <th>женат / замужем</th>\n",
       "      <td>12261</td>\n",
       "      <td>927</td>\n",
       "      <td>7.56%</td>\n",
       "    </tr>\n",
       "    <tr>\n",
       "      <th>в разводе</th>\n",
       "      <td>1189</td>\n",
       "      <td>84</td>\n",
       "      <td>7.06%</td>\n",
       "    </tr>\n",
       "    <tr>\n",
       "      <th>вдовец / вдова</th>\n",
       "      <td>951</td>\n",
       "      <td>63</td>\n",
       "      <td>6.62%</td>\n",
       "    </tr>\n",
       "  </tbody>\n",
       "</table>\n",
       "</div>"
      ],
      "text/plain": [
       "                       total_family_status  unpaid_family_status  ratio\n",
       "family_status                                                          \n",
       "Не женат / не замужем                 2796                   273  9.76%\n",
       "гражданский брак                      4134                   385  9.31%\n",
       "женат / замужем                      12261                   927  7.56%\n",
       "в разводе                             1189                    84  7.06%\n",
       "вдовец / вдова                         951                    63  6.62%"
      ]
     },
     "execution_count": 90,
     "metadata": {},
     "output_type": "execute_result"
    }
   ],
   "source": [
    "#создаем пустой датафрейм для заполнения нужными данными\n",
    "family_corr = pd.DataFrame()\n",
    "#считаем общее кол-во людей в каждом сеймейном положении, взявших кредит\n",
    "family_corr['total_family_status'] = data.groupby('family_status')['debt'].count()\n",
    "#считаем кол-во людей в каждом сеймейном положении, имеющих задолженность по кредиту\n",
    "family_corr['unpaid_family_status'] = data.groupby('family_status')['debt'].sum()\n",
    "#считаем долю имеющих задолженность людей ко всем взявшим кредит, в разрезе сеймейного положения и приводим получившиеся данные к более наглядному виду\n",
    "family_corr['ratio'] = round((family_corr['unpaid_family_status'] / family_corr['total_family_status'])*100,2).astype(str) + '%'\n",
    "#сортируем и выводим таблицу по убыванию доли должников\n",
    "family_corr.sort_values('ratio', ascending = False)\n"
   ]
  },
  {
   "attachments": {},
   "cell_type": "markdown",
   "id": "06ff780a",
   "metadata": {
    "deletable": false,
    "id": "1cef7837"
   },
   "source": [
    "**Вывод:** "
   ]
  },
  {
   "attachments": {},
   "cell_type": "markdown",
   "id": "0d666499",
   "metadata": {},
   "source": [
    "Из полученной выборки, мы наблюдаем, что семейное положение влияет на задолженность по кредиту:\n",
    "\n",
    "- люди в браке более дисциплинированны в возврате кредита, в то время как люди не женатые/замужние чаще всех допускают просрочки по кредиту,\n",
    "\n",
    "\n",
    "- при этом люди в разводе или вдовцы/вдовы чаще платят в срок, чем люди в браке"
   ]
  },
  {
   "cell_type": "code",
   "execution_count": 91,
   "id": "c3d48130",
   "metadata": {},
   "outputs": [
    {
     "data": {
      "text/html": [
       "<div>\n",
       "<style scoped>\n",
       "    .dataframe tbody tr th:only-of-type {\n",
       "        vertical-align: middle;\n",
       "    }\n",
       "\n",
       "    .dataframe tbody tr th {\n",
       "        vertical-align: top;\n",
       "    }\n",
       "\n",
       "    .dataframe thead tr th {\n",
       "        text-align: left;\n",
       "    }\n",
       "\n",
       "    .dataframe thead tr:last-of-type th {\n",
       "        text-align: right;\n",
       "    }\n",
       "</style>\n",
       "<table border=\"1\" class=\"dataframe\">\n",
       "  <thead>\n",
       "    <tr>\n",
       "      <th></th>\n",
       "      <th>total_family_status</th>\n",
       "      <th>unpaid_family_status</th>\n",
       "      <th>ratio</th>\n",
       "    </tr>\n",
       "    <tr>\n",
       "      <th></th>\n",
       "      <th>debt</th>\n",
       "      <th>debt</th>\n",
       "      <th>debt</th>\n",
       "    </tr>\n",
       "    <tr>\n",
       "      <th>family_status</th>\n",
       "      <th></th>\n",
       "      <th></th>\n",
       "      <th></th>\n",
       "    </tr>\n",
       "  </thead>\n",
       "  <tbody>\n",
       "    <tr>\n",
       "      <th>Не женат / не замужем</th>\n",
       "      <td>2796</td>\n",
       "      <td>273</td>\n",
       "      <td>9.76%</td>\n",
       "    </tr>\n",
       "    <tr>\n",
       "      <th>в разводе</th>\n",
       "      <td>1189</td>\n",
       "      <td>84</td>\n",
       "      <td>7.06%</td>\n",
       "    </tr>\n",
       "    <tr>\n",
       "      <th>вдовец / вдова</th>\n",
       "      <td>951</td>\n",
       "      <td>63</td>\n",
       "      <td>6.62%</td>\n",
       "    </tr>\n",
       "    <tr>\n",
       "      <th>гражданский брак</th>\n",
       "      <td>4134</td>\n",
       "      <td>385</td>\n",
       "      <td>9.31%</td>\n",
       "    </tr>\n",
       "    <tr>\n",
       "      <th>женат / замужем</th>\n",
       "      <td>12261</td>\n",
       "      <td>927</td>\n",
       "      <td>7.56%</td>\n",
       "    </tr>\n",
       "  </tbody>\n",
       "</table>\n",
       "</div>"
      ],
      "text/plain": [
       "                      total_family_status unpaid_family_status  ratio\n",
       "                                     debt                 debt   debt\n",
       "family_status                                                        \n",
       "Не женат / не замужем                2796                  273  9.76%\n",
       "в разводе                            1189                   84  7.06%\n",
       "вдовец / вдова                        951                   63  6.62%\n",
       "гражданский брак                     4134                  385  9.31%\n",
       "женат / замужем                     12261                  927  7.56%"
      ]
     },
     "execution_count": 91,
     "metadata": {},
     "output_type": "execute_result"
    }
   ],
   "source": [
    "#создаю сводную таблицу аналогичную выше\n",
    "family_corr_pivot = data.pivot_table(index = 'family_status', values='debt', aggfunc = ['count','sum', 'mean'])\n",
    "#переименовываю колонки согласно таблице выше\n",
    "family_corr_pivot = family_corr_pivot.rename(columns= {'count':'total_family_status', 'sum':'unpaid_family_status', 'mean':'ratio'})\n",
    "#привожу данные к более наглядному виду\n",
    "family_corr_pivot['ratio'] = round(family_corr_pivot['ratio']*100,2).astype(str) + '%'\n",
    "#сортирую и вывожу результат на экран\n",
    "family_corr_pivot"
   ]
  },
  {
   "attachments": {},
   "cell_type": "markdown",
   "id": "7b860814",
   "metadata": {
    "deletable": false,
    "editable": false,
    "id": "1e8b2fca"
   },
   "source": [
    "#### 3.3 Есть ли зависимость между уровнем дохода и возвратом кредита в срок?"
   ]
  },
  {
   "cell_type": "code",
   "execution_count": 92,
   "id": "279bb57f",
   "metadata": {
    "deletable": false,
    "id": "cd7e3720",
    "scrolled": true
   },
   "outputs": [
    {
     "data": {
      "text/html": [
       "<div>\n",
       "<style scoped>\n",
       "    .dataframe tbody tr th:only-of-type {\n",
       "        vertical-align: middle;\n",
       "    }\n",
       "\n",
       "    .dataframe tbody tr th {\n",
       "        vertical-align: top;\n",
       "    }\n",
       "\n",
       "    .dataframe thead th {\n",
       "        text-align: right;\n",
       "    }\n",
       "</style>\n",
       "<table border=\"1\" class=\"dataframe\">\n",
       "  <thead>\n",
       "    <tr style=\"text-align: right;\">\n",
       "      <th></th>\n",
       "      <th>total_income_cat</th>\n",
       "      <th>unpaid_income_cat</th>\n",
       "      <th>ratio</th>\n",
       "    </tr>\n",
       "    <tr>\n",
       "      <th>total_income_category</th>\n",
       "      <th></th>\n",
       "      <th></th>\n",
       "      <th></th>\n",
       "    </tr>\n",
       "  </thead>\n",
       "  <tbody>\n",
       "    <tr>\n",
       "      <th>E</th>\n",
       "      <td>22</td>\n",
       "      <td>2</td>\n",
       "      <td>9.09%</td>\n",
       "    </tr>\n",
       "    <tr>\n",
       "      <th>C</th>\n",
       "      <td>15921</td>\n",
       "      <td>1353</td>\n",
       "      <td>8.5%</td>\n",
       "    </tr>\n",
       "    <tr>\n",
       "      <th>A</th>\n",
       "      <td>25</td>\n",
       "      <td>2</td>\n",
       "      <td>8.0%</td>\n",
       "    </tr>\n",
       "    <tr>\n",
       "      <th>B</th>\n",
       "      <td>5014</td>\n",
       "      <td>354</td>\n",
       "      <td>7.06%</td>\n",
       "    </tr>\n",
       "    <tr>\n",
       "      <th>D</th>\n",
       "      <td>349</td>\n",
       "      <td>21</td>\n",
       "      <td>6.02%</td>\n",
       "    </tr>\n",
       "  </tbody>\n",
       "</table>\n",
       "</div>"
      ],
      "text/plain": [
       "                       total_income_cat  unpaid_income_cat  ratio\n",
       "total_income_category                                            \n",
       "E                                    22                  2  9.09%\n",
       "C                                 15921               1353   8.5%\n",
       "A                                    25                  2   8.0%\n",
       "B                                  5014                354  7.06%\n",
       "D                                   349                 21  6.02%"
      ]
     },
     "execution_count": 92,
     "metadata": {},
     "output_type": "execute_result"
    }
   ],
   "source": [
    "# На основании столбца, который изначально мы создавали с группировкой по доходам я проводил анализ данных: \n",
    "\n",
    " #0–30.000 — 'E';\n",
    " #30.001–50.000 — 'D';\n",
    " #50.001–200.000 — 'C';\n",
    " #200.001–1.000.000 — 'B';\n",
    " #1.000.001 и выше — 'A'\n",
    "\n",
    "#создаем пустой датафрейм для заполнения нужными данными\n",
    "income_corr = pd.DataFrame()\n",
    "#считаем общее кол-во людей с доходами по категориям, взявших кредит\n",
    "income_corr['total_income_cat'] = data.groupby('total_income_category')['debt'].count()\n",
    "#считаем кол-во людей с доходами по категориям, имеющих задолженность по кредиту\n",
    "income_corr['unpaid_income_cat'] = data.groupby('total_income_category')['debt'].sum()\n",
    "#считаем долю имеющих задолженность людей ко всем, взявшим кредит, в разрезе категории дохода и приводим получившиеся данные к более наглядному виду\n",
    "income_corr['ratio'] = round((income_corr['unpaid_income_cat'] / income_corr['total_income_cat'])*100,2).astype(str) + '%'\n",
    "#сортируем и выводим таблицу по убыванию доли должников\n",
    "income_corr.sort_values('ratio', ascending = False)"
   ]
  },
  {
   "attachments": {},
   "cell_type": "markdown",
   "id": "e928df73",
   "metadata": {
    "deletable": false,
    "id": "e8593def"
   },
   "source": [
    "**Вывод:** "
   ]
  },
  {
   "attachments": {},
   "cell_type": "markdown",
   "id": "f8e7a25e",
   "metadata": {},
   "source": [
    "Из полученной выборки зависимость дохода и возврата кредита в срок показал, что риск есть: чем меньше доход, тем чаще всего клиенты могут допускать просрочки, хотя люди с доходом категории D (от 30 тысяч и до 50 тысяч) имеет меньше задолженностей по платежу, чем люди с более высоким заработком."
   ]
  },
  {
   "cell_type": "code",
   "execution_count": 93,
   "id": "44dde1e8",
   "metadata": {},
   "outputs": [
    {
     "data": {
      "text/html": [
       "<div>\n",
       "<style scoped>\n",
       "    .dataframe tbody tr th:only-of-type {\n",
       "        vertical-align: middle;\n",
       "    }\n",
       "\n",
       "    .dataframe tbody tr th {\n",
       "        vertical-align: top;\n",
       "    }\n",
       "\n",
       "    .dataframe thead tr th {\n",
       "        text-align: left;\n",
       "    }\n",
       "\n",
       "    .dataframe thead tr:last-of-type th {\n",
       "        text-align: right;\n",
       "    }\n",
       "</style>\n",
       "<table border=\"1\" class=\"dataframe\">\n",
       "  <thead>\n",
       "    <tr>\n",
       "      <th></th>\n",
       "      <th>total_income_cat</th>\n",
       "      <th>unpaid_income_cat</th>\n",
       "      <th>ratio</th>\n",
       "    </tr>\n",
       "    <tr>\n",
       "      <th></th>\n",
       "      <th>debt</th>\n",
       "      <th>debt</th>\n",
       "      <th>debt</th>\n",
       "    </tr>\n",
       "    <tr>\n",
       "      <th>total_income_category</th>\n",
       "      <th></th>\n",
       "      <th></th>\n",
       "      <th></th>\n",
       "    </tr>\n",
       "  </thead>\n",
       "  <tbody>\n",
       "    <tr>\n",
       "      <th>A</th>\n",
       "      <td>25</td>\n",
       "      <td>2</td>\n",
       "      <td>8.0%</td>\n",
       "    </tr>\n",
       "    <tr>\n",
       "      <th>B</th>\n",
       "      <td>5014</td>\n",
       "      <td>354</td>\n",
       "      <td>7.06%</td>\n",
       "    </tr>\n",
       "    <tr>\n",
       "      <th>C</th>\n",
       "      <td>15921</td>\n",
       "      <td>1353</td>\n",
       "      <td>8.5%</td>\n",
       "    </tr>\n",
       "    <tr>\n",
       "      <th>D</th>\n",
       "      <td>349</td>\n",
       "      <td>21</td>\n",
       "      <td>6.02%</td>\n",
       "    </tr>\n",
       "    <tr>\n",
       "      <th>E</th>\n",
       "      <td>22</td>\n",
       "      <td>2</td>\n",
       "      <td>9.09%</td>\n",
       "    </tr>\n",
       "  </tbody>\n",
       "</table>\n",
       "</div>"
      ],
      "text/plain": [
       "                      total_income_cat unpaid_income_cat  ratio\n",
       "                                  debt              debt   debt\n",
       "total_income_category                                          \n",
       "A                                   25                 2   8.0%\n",
       "B                                 5014               354  7.06%\n",
       "C                                15921              1353   8.5%\n",
       "D                                  349                21  6.02%\n",
       "E                                   22                 2  9.09%"
      ]
     },
     "execution_count": 93,
     "metadata": {},
     "output_type": "execute_result"
    }
   ],
   "source": [
    "#создаю сводную таблицу аналогичную выше\n",
    "income_corr_pivot = data.pivot_table(index = 'total_income_category', values='debt', aggfunc = ['count','sum', 'mean'])\n",
    "#переименовываю колонки согласно таблице выше\n",
    "income_corr_pivot = income_corr_pivot.rename(columns= {'count':'total_income_cat', 'sum':'unpaid_income_cat', 'mean':'ratio'})\n",
    "#привожу данные к более наглядному виду\n",
    "income_corr_pivot['ratio'] = round(income_corr_pivot['ratio']*100,2).astype(str) + '%'\n",
    "#сортирую и вывожу результат на экран\n",
    "income_corr_pivot"
   ]
  },
  {
   "attachments": {},
   "cell_type": "markdown",
   "id": "63857002",
   "metadata": {
    "deletable": false,
    "editable": false,
    "id": "99ecbd1f"
   },
   "source": [
    "#### 3.4 Как разные цели кредита влияют на его возврат в срок?"
   ]
  },
  {
   "cell_type": "code",
   "execution_count": 94,
   "id": "7b018f24",
   "metadata": {
    "deletable": false,
    "id": "2b687290",
    "scrolled": true
   },
   "outputs": [
    {
     "data": {
      "text/html": [
       "<div>\n",
       "<style scoped>\n",
       "    .dataframe tbody tr th:only-of-type {\n",
       "        vertical-align: middle;\n",
       "    }\n",
       "\n",
       "    .dataframe tbody tr th {\n",
       "        vertical-align: top;\n",
       "    }\n",
       "\n",
       "    .dataframe thead th {\n",
       "        text-align: right;\n",
       "    }\n",
       "</style>\n",
       "<table border=\"1\" class=\"dataframe\">\n",
       "  <thead>\n",
       "    <tr style=\"text-align: right;\">\n",
       "      <th></th>\n",
       "      <th>total_purpose_cat</th>\n",
       "      <th>unpaid_purpose_cat</th>\n",
       "      <th>ratio</th>\n",
       "    </tr>\n",
       "    <tr>\n",
       "      <th>purpose_category</th>\n",
       "      <th></th>\n",
       "      <th></th>\n",
       "      <th></th>\n",
       "    </tr>\n",
       "  </thead>\n",
       "  <tbody>\n",
       "    <tr>\n",
       "      <th>операции с автомобилем</th>\n",
       "      <td>4279</td>\n",
       "      <td>400</td>\n",
       "      <td>9.35%</td>\n",
       "    </tr>\n",
       "    <tr>\n",
       "      <th>получение образования</th>\n",
       "      <td>3988</td>\n",
       "      <td>369</td>\n",
       "      <td>9.25%</td>\n",
       "    </tr>\n",
       "    <tr>\n",
       "      <th>проведение свадьбы</th>\n",
       "      <td>2313</td>\n",
       "      <td>183</td>\n",
       "      <td>7.91%</td>\n",
       "    </tr>\n",
       "    <tr>\n",
       "      <th>операции с недвижимостью</th>\n",
       "      <td>10751</td>\n",
       "      <td>780</td>\n",
       "      <td>7.26%</td>\n",
       "    </tr>\n",
       "  </tbody>\n",
       "</table>\n",
       "</div>"
      ],
      "text/plain": [
       "                          total_purpose_cat  unpaid_purpose_cat  ratio\n",
       "purpose_category                                                      \n",
       "операции с автомобилем                 4279                 400  9.35%\n",
       "получение образования                  3988                 369  9.25%\n",
       "проведение свадьбы                     2313                 183  7.91%\n",
       "операции с недвижимостью              10751                 780  7.26%"
      ]
     },
     "execution_count": 94,
     "metadata": {},
     "output_type": "execute_result"
    }
   ],
   "source": [
    "#создаем пустой датафрейм для заполнения нужными данными\n",
    "purpose_corr = pd.DataFrame()\n",
    "#считаем общее кол-во людей взявших кредит для определенной цели\n",
    "purpose_corr['total_purpose_cat'] = data.groupby('purpose_category')['debt'].count()\n",
    "#считаем кол-во людей взявших кредит для определенной цели, и имеющих при этом задолженность по кредиту\n",
    "purpose_corr['unpaid_purpose_cat'] = data.groupby('purpose_category')['debt'].sum()\n",
    "#считаем долю имеющих задолженность людей ко всем, взявшим кредит, в разрезе цели кредита и приводим получившиеся данные к более наглядному виду\n",
    "purpose_corr['ratio'] = round((purpose_corr['unpaid_purpose_cat'] / purpose_corr['total_purpose_cat'])*100,2).astype(str) + '%'\n",
    "#сортируем и выводим таблицу по убыванию доли должников\n",
    "purpose_corr.sort_values('ratio', ascending = False)\n"
   ]
  },
  {
   "attachments": {},
   "cell_type": "markdown",
   "id": "7f329da4",
   "metadata": {
    "deletable": false,
    "id": "b4bb2ce6"
   },
   "source": [
    "**Вывод:** "
   ]
  },
  {
   "attachments": {},
   "cell_type": "markdown",
   "id": "21b60cc3",
   "metadata": {},
   "source": [
    "Из полученной выборки можем сделать вывод о том, что при **покупке автомобиля** люди чаще всего сталкиваются с несвоевременным погашением кредита и чаще всего вовремя погашают кредит по **операцициям с недвижимостью**"
   ]
  },
  {
   "cell_type": "code",
   "execution_count": 95,
   "id": "bce5ebec",
   "metadata": {},
   "outputs": [
    {
     "data": {
      "text/html": [
       "<div>\n",
       "<style scoped>\n",
       "    .dataframe tbody tr th:only-of-type {\n",
       "        vertical-align: middle;\n",
       "    }\n",
       "\n",
       "    .dataframe tbody tr th {\n",
       "        vertical-align: top;\n",
       "    }\n",
       "\n",
       "    .dataframe thead tr th {\n",
       "        text-align: left;\n",
       "    }\n",
       "\n",
       "    .dataframe thead tr:last-of-type th {\n",
       "        text-align: right;\n",
       "    }\n",
       "</style>\n",
       "<table border=\"1\" class=\"dataframe\">\n",
       "  <thead>\n",
       "    <tr>\n",
       "      <th></th>\n",
       "      <th>total_income_cat</th>\n",
       "      <th>unpaid_income_cat</th>\n",
       "      <th>ratio</th>\n",
       "    </tr>\n",
       "    <tr>\n",
       "      <th></th>\n",
       "      <th>debt</th>\n",
       "      <th>debt</th>\n",
       "      <th>debt</th>\n",
       "    </tr>\n",
       "    <tr>\n",
       "      <th>purpose_category</th>\n",
       "      <th></th>\n",
       "      <th></th>\n",
       "      <th></th>\n",
       "    </tr>\n",
       "  </thead>\n",
       "  <tbody>\n",
       "    <tr>\n",
       "      <th>операции с автомобилем</th>\n",
       "      <td>4279</td>\n",
       "      <td>400</td>\n",
       "      <td>9.35%</td>\n",
       "    </tr>\n",
       "    <tr>\n",
       "      <th>операции с недвижимостью</th>\n",
       "      <td>10751</td>\n",
       "      <td>780</td>\n",
       "      <td>7.26%</td>\n",
       "    </tr>\n",
       "    <tr>\n",
       "      <th>получение образования</th>\n",
       "      <td>3988</td>\n",
       "      <td>369</td>\n",
       "      <td>9.25%</td>\n",
       "    </tr>\n",
       "    <tr>\n",
       "      <th>проведение свадьбы</th>\n",
       "      <td>2313</td>\n",
       "      <td>183</td>\n",
       "      <td>7.91%</td>\n",
       "    </tr>\n",
       "  </tbody>\n",
       "</table>\n",
       "</div>"
      ],
      "text/plain": [
       "                         total_income_cat unpaid_income_cat  ratio\n",
       "                                     debt              debt   debt\n",
       "purpose_category                                                  \n",
       "операции с автомобилем               4279               400  9.35%\n",
       "операции с недвижимостью            10751               780  7.26%\n",
       "получение образования                3988               369  9.25%\n",
       "проведение свадьбы                   2313               183  7.91%"
      ]
     },
     "execution_count": 95,
     "metadata": {},
     "output_type": "execute_result"
    }
   ],
   "source": [
    "#создаю сводную таблицу аналогичную выше\n",
    "purpose_corr_pivot = data.pivot_table(index = 'purpose_category', values='debt', aggfunc = ['count','sum', 'mean'])\n",
    "#переименовываю колонки согласно таблице выше\n",
    "purpose_corr_pivot = purpose_corr_pivot.rename(columns= {'count':'total_income_cat', 'sum':'unpaid_income_cat', 'mean':'ratio'})\n",
    "#привожу данные к более наглядному виду\n",
    "purpose_corr_pivot['ratio'] = round(purpose_corr_pivot['ratio']*100,2).astype(str) + '%'\n",
    "#сортирую и вывожу результат на экран\n",
    "purpose_corr_pivot"
   ]
  },
  {
   "attachments": {},
   "cell_type": "markdown",
   "id": "115321cb",
   "metadata": {
    "deletable": false,
    "editable": false,
    "id": "09c3ac4c"
   },
   "source": [
    "#### 3.5 Приведите возможные причины появления пропусков в исходных данных."
   ]
  },
  {
   "attachments": {},
   "cell_type": "markdown",
   "id": "cf52574b",
   "metadata": {
    "deletable": false,
    "id": "9da2ceda"
   },
   "source": [
    "*Ответ:* Пропуски в данных могут появляться по множеству различных причин, можно предположить, что потенциальными вариантами случившегося может быть:\n",
    "\n",
    "- пользователь не указал о себе сведения или автоматизированная система сбора информации дала сбой\n",
    "- возможно они были оставлены умышленно, рассчитывая на автозаполнение спецсимволами."
   ]
  },
  {
   "attachments": {},
   "cell_type": "markdown",
   "id": "294ea13a",
   "metadata": {
    "deletable": false,
    "editable": false,
    "id": "7b0487d6"
   },
   "source": [
    "#### 3.6 Объясните, почему заполнить пропуски медианным значением — лучшее решение для количественных переменных."
   ]
  },
  {
   "attachments": {},
   "cell_type": "markdown",
   "id": "ba233271",
   "metadata": {
    "deletable": false,
    "id": "7ecf2b8e"
   },
   "source": [
    "*Ответ:* Так как в отличие от среднего значения при аномально высоких или низких значениях не искажается полученный результат в сторону аномалии, а берется такое значение в выборке, что ровно половина элементов больше него, а другая половина — меньше. соотвественно результат вычислений будет более точным"
   ]
  },
  {
   "attachments": {},
   "cell_type": "markdown",
   "id": "5a01736a",
   "metadata": {
    "deletable": false,
    "editable": false,
    "id": "6db5255a"
   },
   "source": [
    "### Шаг 4: общий вывод."
   ]
  },
  {
   "attachments": {},
   "cell_type": "markdown",
   "id": "23caee19",
   "metadata": {
    "deletable": false,
    "id": "bad65432"
   },
   "source": [
    " В ходе анализа взаимосвязи различных факторов на возврат кредита срок мы выяснили, что все 4 фактора той или иной степени оказывают влияние.\n",
    " \n",
    "Перечислим их в порядке наиболее зависмых к наименее зависимым:\n",
    "\n",
    " 1. Наличие детей - бездетные с наименьшей вероятностью будут иметь задолженность по кредиту, в то время как люди с 1 ребенком и более уже имеют больший риск задолжать.\n",
    " \n",
    " 2. Семейное положение - люди в браке более ответсвенные чем холостые, в то же время люди в разводе и вдовы/вдовцы имеют наименьший риск просрочки платежа.\n",
    " \n",
    " 3. Люди со средним достатком (50 тыс - 200 тыс) совершают меньше просрочек чем с низким (менее 50 тыс) и высоким достатком (более 200 тыс). Первое можно объяснить нехваткой средств, второе - возможным завышением дохода для получения кредита.\n",
    " \n",
    " 4. Операции с недвижимостью несут наименьший риск среди всех целей кредита, в то время как наибольшую долю невозвратов имеют различные операции с автомобилем\n"
   ]
  }
 ],
 "metadata": {
  "ExecuteTimeLog": [
   {
    "duration": 671,
    "start_time": "2022-09-22T10:34:59.100Z"
   },
   {
    "duration": 21,
    "start_time": "2022-09-22T10:34:59.772Z"
   },
   {
    "duration": 14,
    "start_time": "2022-09-22T10:34:59.794Z"
   },
   {
    "duration": 9,
    "start_time": "2022-09-22T10:35:00.429Z"
   },
   {
    "duration": 30,
    "start_time": "2022-09-22T10:35:00.960Z"
   },
   {
    "duration": 3,
    "start_time": "2022-09-22T10:35:01.060Z"
   },
   {
    "duration": 8,
    "start_time": "2022-09-22T10:35:01.126Z"
   },
   {
    "duration": 4,
    "start_time": "2022-09-22T10:35:01.225Z"
   },
   {
    "duration": 7,
    "start_time": "2022-09-22T10:35:01.291Z"
   },
   {
    "duration": 5,
    "start_time": "2022-09-22T10:35:01.357Z"
   },
   {
    "duration": 32,
    "start_time": "2022-09-22T10:35:01.456Z"
   },
   {
    "duration": 10,
    "start_time": "2022-09-22T10:35:01.521Z"
   },
   {
    "duration": 4,
    "start_time": "2022-09-22T10:35:01.620Z"
   },
   {
    "duration": 12,
    "start_time": "2022-09-22T10:35:01.719Z"
   },
   {
    "duration": 22,
    "start_time": "2022-09-22T10:35:01.786Z"
   },
   {
    "duration": 39,
    "start_time": "2022-09-22T10:35:01.818Z"
   },
   {
    "duration": 3,
    "start_time": "2022-09-22T10:35:02.286Z"
   },
   {
    "duration": 9,
    "start_time": "2022-09-22T10:35:02.507Z"
   },
   {
    "duration": 6,
    "start_time": "2022-09-22T10:35:03.353Z"
   },
   {
    "duration": 3,
    "start_time": "2022-09-22T10:35:04.398Z"
   },
   {
    "duration": 8,
    "start_time": "2022-09-22T10:35:04.960Z"
   },
   {
    "duration": 11,
    "start_time": "2022-09-22T10:35:39.413Z"
   },
   {
    "duration": 5,
    "start_time": "2022-09-22T10:39:07.128Z"
   },
   {
    "duration": 8,
    "start_time": "2022-09-22T10:39:18.583Z"
   },
   {
    "duration": 65,
    "start_time": "2022-09-22T11:40:53.546Z"
   },
   {
    "duration": 9,
    "start_time": "2022-09-22T11:40:58.090Z"
   },
   {
    "duration": 5,
    "start_time": "2022-09-22T11:41:39.432Z"
   },
   {
    "duration": 6,
    "start_time": "2022-09-22T11:41:47.732Z"
   },
   {
    "duration": 19,
    "start_time": "2022-09-22T11:43:59.980Z"
   },
   {
    "duration": 8,
    "start_time": "2022-09-22T11:44:38.132Z"
   },
   {
    "duration": 7,
    "start_time": "2022-09-22T11:45:00.411Z"
   },
   {
    "duration": 19,
    "start_time": "2022-09-22T11:48:22.985Z"
   },
   {
    "duration": 23,
    "start_time": "2022-09-22T11:50:13.343Z"
   },
   {
    "duration": 14,
    "start_time": "2022-09-22T11:50:32.908Z"
   },
   {
    "duration": 10,
    "start_time": "2022-09-22T11:56:38.704Z"
   },
   {
    "duration": 14,
    "start_time": "2022-09-22T11:56:56.348Z"
   },
   {
    "duration": 14,
    "start_time": "2022-09-22T12:01:17.324Z"
   },
   {
    "duration": 16,
    "start_time": "2022-09-22T12:03:34.633Z"
   },
   {
    "duration": 21,
    "start_time": "2022-09-22T12:04:06.000Z"
   },
   {
    "duration": 13,
    "start_time": "2022-09-22T12:04:45.606Z"
   },
   {
    "duration": 32,
    "start_time": "2022-09-22T12:05:13.671Z"
   },
   {
    "duration": 18,
    "start_time": "2022-09-22T12:05:27.436Z"
   },
   {
    "duration": 15,
    "start_time": "2022-09-22T12:05:31.414Z"
   },
   {
    "duration": 17,
    "start_time": "2022-09-22T12:12:01.002Z"
   },
   {
    "duration": 17,
    "start_time": "2022-09-22T12:12:14.056Z"
   },
   {
    "duration": 19,
    "start_time": "2022-09-22T12:12:26.759Z"
   },
   {
    "duration": 25,
    "start_time": "2022-09-22T12:12:42.988Z"
   },
   {
    "duration": 17,
    "start_time": "2022-09-22T12:13:22.389Z"
   },
   {
    "duration": 12,
    "start_time": "2022-09-22T12:13:29.445Z"
   },
   {
    "duration": 17,
    "start_time": "2022-09-22T12:13:37.027Z"
   },
   {
    "duration": 8,
    "start_time": "2022-09-22T12:15:09.067Z"
   },
   {
    "duration": 6,
    "start_time": "2022-09-22T12:15:23.537Z"
   },
   {
    "duration": 5,
    "start_time": "2022-09-22T12:16:48.243Z"
   },
   {
    "duration": 23,
    "start_time": "2022-09-22T12:16:53.029Z"
   },
   {
    "duration": 28,
    "start_time": "2022-09-22T12:16:58.766Z"
   },
   {
    "duration": 4,
    "start_time": "2022-09-22T12:17:24.099Z"
   },
   {
    "duration": 13,
    "start_time": "2022-09-22T12:20:08.914Z"
   },
   {
    "duration": 13,
    "start_time": "2022-09-22T12:20:50.616Z"
   },
   {
    "duration": 57,
    "start_time": "2022-09-22T12:23:02.602Z"
   },
   {
    "duration": 10,
    "start_time": "2022-09-22T12:23:34.283Z"
   },
   {
    "duration": 12,
    "start_time": "2022-09-22T12:23:45.248Z"
   },
   {
    "duration": 18,
    "start_time": "2022-09-22T12:24:04.823Z"
   },
   {
    "duration": 9,
    "start_time": "2022-09-22T12:24:17.128Z"
   },
   {
    "duration": 11,
    "start_time": "2022-09-22T12:24:19.276Z"
   },
   {
    "duration": 13,
    "start_time": "2022-09-22T12:24:24.127Z"
   },
   {
    "duration": 7,
    "start_time": "2022-09-22T12:25:15.661Z"
   },
   {
    "duration": 10,
    "start_time": "2022-09-22T12:25:20.529Z"
   },
   {
    "duration": 14,
    "start_time": "2022-09-22T12:26:01.217Z"
   },
   {
    "duration": 17,
    "start_time": "2022-09-22T12:26:10.027Z"
   },
   {
    "duration": 23,
    "start_time": "2022-09-22T12:26:22.171Z"
   },
   {
    "duration": 16,
    "start_time": "2022-09-22T12:26:58.598Z"
   },
   {
    "duration": 1372,
    "start_time": "2022-09-22T12:27:16.029Z"
   },
   {
    "duration": 21,
    "start_time": "2022-09-22T12:27:29.312Z"
   },
   {
    "duration": 25,
    "start_time": "2022-09-22T12:28:25.029Z"
   },
   {
    "duration": 8,
    "start_time": "2022-09-22T12:28:50.698Z"
   },
   {
    "duration": 11,
    "start_time": "2022-09-22T12:29:09.937Z"
   },
   {
    "duration": 13,
    "start_time": "2022-09-22T12:29:44.061Z"
   },
   {
    "duration": 13,
    "start_time": "2022-09-22T12:30:00.628Z"
   },
   {
    "duration": 13,
    "start_time": "2022-09-22T12:30:14.598Z"
   },
   {
    "duration": 97,
    "start_time": "2022-09-22T12:38:00.850Z"
   },
   {
    "duration": 109,
    "start_time": "2022-09-22T12:38:08.646Z"
   },
   {
    "duration": 13,
    "start_time": "2022-09-22T12:38:17.396Z"
   },
   {
    "duration": 110,
    "start_time": "2022-09-22T12:39:11.653Z"
   },
   {
    "duration": 87,
    "start_time": "2022-09-22T12:39:21.301Z"
   },
   {
    "duration": 95,
    "start_time": "2022-09-22T12:39:28.144Z"
   },
   {
    "duration": 24,
    "start_time": "2022-09-22T12:39:31.768Z"
   },
   {
    "duration": 15,
    "start_time": "2022-09-22T12:47:55.432Z"
   },
   {
    "duration": 14,
    "start_time": "2022-09-22T12:48:00.134Z"
   },
   {
    "duration": 21,
    "start_time": "2022-09-22T12:48:12.772Z"
   },
   {
    "duration": 14,
    "start_time": "2022-09-22T12:51:37.527Z"
   },
   {
    "duration": 14,
    "start_time": "2022-09-22T12:51:44.214Z"
   },
   {
    "duration": 12,
    "start_time": "2022-09-22T12:52:12.640Z"
   },
   {
    "duration": 17,
    "start_time": "2022-09-22T12:52:35.764Z"
   },
   {
    "duration": 17,
    "start_time": "2022-09-22T12:52:50.280Z"
   },
   {
    "duration": 20,
    "start_time": "2022-09-22T12:53:35.079Z"
   },
   {
    "duration": 17,
    "start_time": "2022-09-22T12:53:42.065Z"
   },
   {
    "duration": 13,
    "start_time": "2022-09-22T12:53:53.305Z"
   },
   {
    "duration": 13,
    "start_time": "2022-09-22T12:58:58.095Z"
   },
   {
    "duration": 17,
    "start_time": "2022-09-22T12:59:11.484Z"
   },
   {
    "duration": 14,
    "start_time": "2022-09-22T12:59:14.391Z"
   },
   {
    "duration": 15,
    "start_time": "2022-09-22T12:59:47.359Z"
   },
   {
    "duration": 14,
    "start_time": "2022-09-22T13:16:01.424Z"
   },
   {
    "duration": 21,
    "start_time": "2022-09-22T13:16:14.354Z"
   },
   {
    "duration": 18,
    "start_time": "2022-09-22T13:18:43.082Z"
   },
   {
    "duration": 18,
    "start_time": "2022-09-22T13:19:07.846Z"
   },
   {
    "duration": 17,
    "start_time": "2022-09-22T13:19:36.689Z"
   },
   {
    "duration": 25,
    "start_time": "2022-09-22T13:20:37.780Z"
   },
   {
    "duration": 16,
    "start_time": "2022-09-22T13:20:56.348Z"
   },
   {
    "duration": 16,
    "start_time": "2022-09-22T13:22:27.725Z"
   },
   {
    "duration": 16,
    "start_time": "2022-09-22T14:00:17.539Z"
   },
   {
    "duration": 17,
    "start_time": "2022-09-22T14:06:26.699Z"
   },
   {
    "duration": 14,
    "start_time": "2022-09-22T14:06:28.929Z"
   },
   {
    "duration": 23,
    "start_time": "2022-09-22T14:17:44.040Z"
   },
   {
    "duration": 13,
    "start_time": "2022-09-22T14:17:47.465Z"
   },
   {
    "duration": 16,
    "start_time": "2022-09-22T14:25:22.694Z"
   },
   {
    "duration": 14,
    "start_time": "2022-09-22T14:25:27.275Z"
   },
   {
    "duration": 16,
    "start_time": "2022-09-22T14:26:09.739Z"
   },
   {
    "duration": 16,
    "start_time": "2022-09-22T14:27:11.710Z"
   },
   {
    "duration": 15,
    "start_time": "2022-09-22T14:30:05.898Z"
   },
   {
    "duration": 15,
    "start_time": "2022-09-22T14:30:12.243Z"
   },
   {
    "duration": 15,
    "start_time": "2022-09-22T14:30:26.675Z"
   },
   {
    "duration": 23,
    "start_time": "2022-09-22T15:12:16.949Z"
   },
   {
    "duration": 16,
    "start_time": "2022-09-22T15:12:21.083Z"
   },
   {
    "duration": 810,
    "start_time": "2022-09-22T15:13:05.019Z"
   },
   {
    "duration": 18,
    "start_time": "2022-09-22T15:13:29.342Z"
   },
   {
    "duration": 19,
    "start_time": "2022-09-22T15:15:26.851Z"
   },
   {
    "duration": 17,
    "start_time": "2022-09-22T17:53:22.307Z"
   },
   {
    "duration": 46,
    "start_time": "2022-09-23T10:37:42.148Z"
   },
   {
    "duration": 1077,
    "start_time": "2022-09-23T10:37:54.281Z"
   },
   {
    "duration": 35,
    "start_time": "2022-09-23T10:37:55.361Z"
   },
   {
    "duration": 25,
    "start_time": "2022-09-23T10:37:55.398Z"
   },
   {
    "duration": 11,
    "start_time": "2022-09-23T10:37:55.425Z"
   },
   {
    "duration": 34,
    "start_time": "2022-09-23T10:37:55.487Z"
   },
   {
    "duration": 5,
    "start_time": "2022-09-23T10:37:55.942Z"
   },
   {
    "duration": 11,
    "start_time": "2022-09-23T10:37:56.254Z"
   },
   {
    "duration": 6,
    "start_time": "2022-09-23T10:37:56.751Z"
   },
   {
    "duration": 8,
    "start_time": "2022-09-23T10:37:57.076Z"
   },
   {
    "duration": 4,
    "start_time": "2022-09-23T10:37:57.397Z"
   },
   {
    "duration": 40,
    "start_time": "2022-09-23T10:37:57.872Z"
   },
   {
    "duration": 9,
    "start_time": "2022-09-23T10:37:58.188Z"
   },
   {
    "duration": 4,
    "start_time": "2022-09-23T10:37:58.672Z"
   },
   {
    "duration": 10,
    "start_time": "2022-09-23T10:37:59.163Z"
   },
   {
    "duration": 19,
    "start_time": "2022-09-23T10:37:59.488Z"
   },
   {
    "duration": 18,
    "start_time": "2022-09-23T10:37:59.651Z"
   },
   {
    "duration": 4,
    "start_time": "2022-09-23T10:38:00.157Z"
   },
   {
    "duration": 10,
    "start_time": "2022-09-23T10:38:00.577Z"
   },
   {
    "duration": 6,
    "start_time": "2022-09-23T10:38:01.507Z"
   },
   {
    "duration": 3,
    "start_time": "2022-09-23T10:38:02.672Z"
   },
   {
    "duration": 12,
    "start_time": "2022-09-23T10:38:03.024Z"
   },
   {
    "duration": 17,
    "start_time": "2022-09-23T10:38:05.050Z"
   },
   {
    "duration": 18,
    "start_time": "2022-09-23T10:38:05.500Z"
   },
   {
    "duration": 17,
    "start_time": "2022-09-23T10:38:21.916Z"
   },
   {
    "duration": 14,
    "start_time": "2022-09-23T10:40:26.347Z"
   },
   {
    "duration": 14,
    "start_time": "2022-09-23T10:40:33.401Z"
   },
   {
    "duration": 15,
    "start_time": "2022-09-23T10:40:44.324Z"
   },
   {
    "duration": 14,
    "start_time": "2022-09-23T10:40:55.574Z"
   },
   {
    "duration": 15,
    "start_time": "2022-09-23T10:41:05.308Z"
   },
   {
    "duration": 21,
    "start_time": "2022-09-23T10:42:20.017Z"
   },
   {
    "duration": 21,
    "start_time": "2022-09-23T10:42:35.944Z"
   },
   {
    "duration": 20,
    "start_time": "2022-09-23T10:42:57.269Z"
   },
   {
    "duration": 21,
    "start_time": "2022-09-23T10:43:55.989Z"
   },
   {
    "duration": 21,
    "start_time": "2022-09-23T10:44:08.019Z"
   },
   {
    "duration": 20,
    "start_time": "2022-09-23T10:44:26.115Z"
   },
   {
    "duration": 33,
    "start_time": "2022-09-23T10:45:55.178Z"
   },
   {
    "duration": 26,
    "start_time": "2022-09-23T10:46:34.514Z"
   },
   {
    "duration": 0,
    "start_time": "2022-09-23T10:49:28.428Z"
   },
   {
    "duration": 16,
    "start_time": "2022-09-23T10:49:30.621Z"
   },
   {
    "duration": 22,
    "start_time": "2022-09-23T10:49:37.108Z"
   },
   {
    "duration": 4786,
    "start_time": "2022-09-23T10:49:49.119Z"
   },
   {
    "duration": 1084,
    "start_time": "2022-09-23T10:51:05.597Z"
   },
   {
    "duration": 27,
    "start_time": "2022-09-23T10:51:13.056Z"
   },
   {
    "duration": 1030,
    "start_time": "2022-09-23T10:51:49.031Z"
   },
   {
    "duration": 831,
    "start_time": "2022-09-23T10:52:16.928Z"
   },
   {
    "duration": 843,
    "start_time": "2022-09-23T10:52:26.008Z"
   },
   {
    "duration": 870,
    "start_time": "2022-09-23T10:52:38.806Z"
   },
   {
    "duration": 29,
    "start_time": "2022-09-23T10:54:02.525Z"
   },
   {
    "duration": 33,
    "start_time": "2022-09-23T10:54:44.942Z"
   },
   {
    "duration": 26,
    "start_time": "2022-09-23T10:54:51.180Z"
   },
   {
    "duration": 28,
    "start_time": "2022-09-23T10:55:12.014Z"
   },
   {
    "duration": 30,
    "start_time": "2022-09-23T10:55:18.563Z"
   },
   {
    "duration": 30,
    "start_time": "2022-09-23T10:55:42.418Z"
   },
   {
    "duration": 73,
    "start_time": "2022-09-23T10:56:05.317Z"
   },
   {
    "duration": 36,
    "start_time": "2022-09-23T10:56:24.272Z"
   },
   {
    "duration": 31,
    "start_time": "2022-09-23T10:57:54.616Z"
   },
   {
    "duration": 29,
    "start_time": "2022-09-23T10:58:00.105Z"
   },
   {
    "duration": 30,
    "start_time": "2022-09-23T10:59:59.189Z"
   },
   {
    "duration": 41,
    "start_time": "2022-09-23T11:00:08.170Z"
   },
   {
    "duration": 31,
    "start_time": "2022-09-23T11:00:13.589Z"
   },
   {
    "duration": 35,
    "start_time": "2022-09-23T11:00:19.268Z"
   },
   {
    "duration": 28,
    "start_time": "2022-09-23T11:01:18.306Z"
   },
   {
    "duration": 30,
    "start_time": "2022-09-23T11:01:24.883Z"
   },
   {
    "duration": 30,
    "start_time": "2022-09-23T11:01:30.210Z"
   },
   {
    "duration": 29,
    "start_time": "2022-09-23T11:02:18.774Z"
   },
   {
    "duration": 29,
    "start_time": "2022-09-23T11:09:00.006Z"
   },
   {
    "duration": 30,
    "start_time": "2022-09-23T11:09:13.205Z"
   },
   {
    "duration": 31,
    "start_time": "2022-09-23T11:09:43.344Z"
   },
   {
    "duration": 29,
    "start_time": "2022-09-23T11:09:47.678Z"
   },
   {
    "duration": 1251,
    "start_time": "2022-09-23T11:13:26.067Z"
   },
   {
    "duration": 23,
    "start_time": "2022-09-23T11:13:33.274Z"
   },
   {
    "duration": 28,
    "start_time": "2022-09-23T11:13:38.969Z"
   },
   {
    "duration": 15,
    "start_time": "2022-09-23T11:14:43.153Z"
   },
   {
    "duration": 31,
    "start_time": "2022-09-23T11:15:13.933Z"
   },
   {
    "duration": 30,
    "start_time": "2022-09-23T11:18:13.995Z"
   },
   {
    "duration": 28,
    "start_time": "2022-09-23T11:18:21.641Z"
   },
   {
    "duration": 19,
    "start_time": "2022-09-23T11:18:33.940Z"
   },
   {
    "duration": 20,
    "start_time": "2022-09-23T11:18:41.840Z"
   },
   {
    "duration": 29,
    "start_time": "2022-09-23T11:18:50.791Z"
   },
   {
    "duration": 44,
    "start_time": "2022-09-23T16:56:17.583Z"
   },
   {
    "duration": 7,
    "start_time": "2022-09-23T16:56:25.873Z"
   },
   {
    "duration": 6,
    "start_time": "2022-09-23T16:56:27.125Z"
   },
   {
    "duration": 7,
    "start_time": "2022-09-23T16:56:28.257Z"
   },
   {
    "duration": 722,
    "start_time": "2022-09-23T16:56:56.057Z"
   },
   {
    "duration": 21,
    "start_time": "2022-09-23T16:56:56.781Z"
   },
   {
    "duration": 15,
    "start_time": "2022-09-23T16:56:56.804Z"
   },
   {
    "duration": 9,
    "start_time": "2022-09-23T16:56:56.821Z"
   },
   {
    "duration": 33,
    "start_time": "2022-09-23T16:56:56.831Z"
   },
   {
    "duration": 3,
    "start_time": "2022-09-23T16:56:56.865Z"
   },
   {
    "duration": 10,
    "start_time": "2022-09-23T16:56:56.870Z"
   },
   {
    "duration": 10,
    "start_time": "2022-09-23T16:56:56.881Z"
   },
   {
    "duration": 9,
    "start_time": "2022-09-23T16:56:56.893Z"
   },
   {
    "duration": 4,
    "start_time": "2022-09-23T16:56:56.904Z"
   },
   {
    "duration": 48,
    "start_time": "2022-09-23T16:56:56.910Z"
   },
   {
    "duration": 9,
    "start_time": "2022-09-23T16:56:56.960Z"
   },
   {
    "duration": 3,
    "start_time": "2022-09-23T16:56:57.047Z"
   },
   {
    "duration": 11,
    "start_time": "2022-09-23T16:56:57.146Z"
   },
   {
    "duration": 19,
    "start_time": "2022-09-23T16:56:57.212Z"
   },
   {
    "duration": 16,
    "start_time": "2022-09-23T16:56:57.244Z"
   },
   {
    "duration": 4,
    "start_time": "2022-09-23T16:56:57.345Z"
   },
   {
    "duration": 10,
    "start_time": "2022-09-23T16:56:57.376Z"
   },
   {
    "duration": 6,
    "start_time": "2022-09-23T16:56:57.443Z"
   },
   {
    "duration": 4,
    "start_time": "2022-09-23T16:56:57.514Z"
   },
   {
    "duration": 9,
    "start_time": "2022-09-23T16:56:57.540Z"
   },
   {
    "duration": 11,
    "start_time": "2022-09-23T16:56:57.642Z"
   },
   {
    "duration": 12,
    "start_time": "2022-09-23T16:56:57.674Z"
   },
   {
    "duration": 65,
    "start_time": "2022-09-23T16:56:57.806Z"
   },
   {
    "duration": 14,
    "start_time": "2022-09-23T16:56:57.874Z"
   },
   {
    "duration": 14,
    "start_time": "2022-09-23T16:56:58.037Z"
   },
   {
    "duration": 16,
    "start_time": "2022-09-23T16:56:58.203Z"
   },
   {
    "duration": 62,
    "start_time": "2022-09-23T16:57:20.417Z"
   },
   {
    "duration": 60,
    "start_time": "2022-09-23T16:58:01.282Z"
   },
   {
    "duration": 29,
    "start_time": "2022-09-23T16:58:09.119Z"
   },
   {
    "duration": 519,
    "start_time": "2022-09-23T17:02:59.215Z"
   },
   {
    "duration": 31,
    "start_time": "2022-09-23T17:03:10.549Z"
   },
   {
    "duration": 28,
    "start_time": "2022-09-23T17:03:23.937Z"
   },
   {
    "duration": 27,
    "start_time": "2022-09-23T17:04:02.025Z"
   },
   {
    "duration": 28,
    "start_time": "2022-09-23T17:04:06.973Z"
   },
   {
    "duration": 29,
    "start_time": "2022-09-23T17:05:49.875Z"
   },
   {
    "duration": 25,
    "start_time": "2022-09-23T17:05:56.902Z"
   },
   {
    "duration": 29,
    "start_time": "2022-09-23T17:06:13.076Z"
   },
   {
    "duration": 39,
    "start_time": "2022-09-23T17:12:14.032Z"
   },
   {
    "duration": 33,
    "start_time": "2022-09-23T17:14:25.955Z"
   },
   {
    "duration": 31,
    "start_time": "2022-09-23T17:14:48.496Z"
   },
   {
    "duration": 34,
    "start_time": "2022-09-23T17:17:35.356Z"
   },
   {
    "duration": 455,
    "start_time": "2022-09-23T21:32:08.141Z"
   },
   {
    "duration": 21,
    "start_time": "2022-09-23T21:32:08.598Z"
   },
   {
    "duration": 19,
    "start_time": "2022-09-23T21:32:08.621Z"
   },
   {
    "duration": 9,
    "start_time": "2022-09-23T21:32:08.642Z"
   },
   {
    "duration": 31,
    "start_time": "2022-09-23T21:32:08.653Z"
   },
   {
    "duration": 3,
    "start_time": "2022-09-23T21:32:08.685Z"
   },
   {
    "duration": 12,
    "start_time": "2022-09-23T21:32:08.690Z"
   },
   {
    "duration": 5,
    "start_time": "2022-09-23T21:32:08.704Z"
   },
   {
    "duration": 27,
    "start_time": "2022-09-23T21:32:08.710Z"
   },
   {
    "duration": 5,
    "start_time": "2022-09-23T21:32:08.740Z"
   },
   {
    "duration": 59,
    "start_time": "2022-09-23T21:32:08.747Z"
   },
   {
    "duration": 25,
    "start_time": "2022-09-23T21:32:08.808Z"
   },
   {
    "duration": 4,
    "start_time": "2022-09-23T21:32:08.835Z"
   },
   {
    "duration": 16,
    "start_time": "2022-09-23T21:32:08.840Z"
   },
   {
    "duration": 21,
    "start_time": "2022-09-23T21:32:08.857Z"
   },
   {
    "duration": 15,
    "start_time": "2022-09-23T21:32:08.879Z"
   },
   {
    "duration": 3,
    "start_time": "2022-09-23T21:32:08.896Z"
   },
   {
    "duration": 33,
    "start_time": "2022-09-23T21:32:08.900Z"
   },
   {
    "duration": 5,
    "start_time": "2022-09-23T21:32:08.935Z"
   },
   {
    "duration": 4,
    "start_time": "2022-09-23T21:32:08.941Z"
   },
   {
    "duration": 15,
    "start_time": "2022-09-23T21:32:08.946Z"
   },
   {
    "duration": 11,
    "start_time": "2022-09-23T21:32:08.963Z"
   },
   {
    "duration": 16,
    "start_time": "2022-09-23T21:32:08.976Z"
   },
   {
    "duration": 30,
    "start_time": "2022-09-23T21:32:11.858Z"
   },
   {
    "duration": 18,
    "start_time": "2022-09-23T21:32:32.623Z"
   },
   {
    "duration": 31,
    "start_time": "2022-09-23T21:32:36.286Z"
   },
   {
    "duration": 24,
    "start_time": "2022-09-23T21:32:45.805Z"
   },
   {
    "duration": 83,
    "start_time": "2022-09-23T21:32:58.443Z"
   },
   {
    "duration": 29,
    "start_time": "2022-09-23T21:33:06.188Z"
   },
   {
    "duration": 21,
    "start_time": "2022-09-23T21:33:18.452Z"
   },
   {
    "duration": 23,
    "start_time": "2022-09-23T21:33:42.877Z"
   },
   {
    "duration": 24,
    "start_time": "2022-09-23T21:33:58.301Z"
   },
   {
    "duration": 25,
    "start_time": "2022-09-23T21:34:24.023Z"
   },
   {
    "duration": 211,
    "start_time": "2022-09-23T21:35:05.588Z"
   },
   {
    "duration": 19,
    "start_time": "2022-09-23T21:35:31.634Z"
   },
   {
    "duration": 31,
    "start_time": "2022-09-23T21:35:46.226Z"
   },
   {
    "duration": 24,
    "start_time": "2022-09-23T21:38:01.737Z"
   },
   {
    "duration": 24,
    "start_time": "2022-09-23T21:38:14.485Z"
   },
   {
    "duration": 25,
    "start_time": "2022-09-23T21:38:24.025Z"
   },
   {
    "duration": 25,
    "start_time": "2022-09-23T21:38:40.832Z"
   },
   {
    "duration": 198,
    "start_time": "2022-09-23T21:38:57.471Z"
   },
   {
    "duration": 25,
    "start_time": "2022-09-23T21:39:05.087Z"
   },
   {
    "duration": 35,
    "start_time": "2022-09-23T21:40:18.157Z"
   },
   {
    "duration": 26,
    "start_time": "2022-09-23T21:40:39.160Z"
   },
   {
    "duration": 4,
    "start_time": "2022-09-23T21:43:36.154Z"
   },
   {
    "duration": 24,
    "start_time": "2022-09-23T21:43:41.073Z"
   },
   {
    "duration": 52,
    "start_time": "2022-09-24T09:25:23.911Z"
   },
   {
    "duration": 705,
    "start_time": "2022-09-24T09:25:44.188Z"
   },
   {
    "duration": 20,
    "start_time": "2022-09-24T09:25:44.895Z"
   },
   {
    "duration": 14,
    "start_time": "2022-09-24T09:25:44.917Z"
   },
   {
    "duration": 18,
    "start_time": "2022-09-24T09:25:44.933Z"
   },
   {
    "duration": 35,
    "start_time": "2022-09-24T09:25:44.952Z"
   },
   {
    "duration": 4,
    "start_time": "2022-09-24T09:25:44.988Z"
   },
   {
    "duration": 48,
    "start_time": "2022-09-24T09:25:44.993Z"
   },
   {
    "duration": 12,
    "start_time": "2022-09-24T09:25:45.043Z"
   },
   {
    "duration": 17,
    "start_time": "2022-09-24T09:25:45.057Z"
   },
   {
    "duration": 18,
    "start_time": "2022-09-24T09:25:45.076Z"
   },
   {
    "duration": 38,
    "start_time": "2022-09-24T09:25:45.095Z"
   },
   {
    "duration": 10,
    "start_time": "2022-09-24T09:25:45.135Z"
   },
   {
    "duration": 3,
    "start_time": "2022-09-24T09:25:45.174Z"
   },
   {
    "duration": 11,
    "start_time": "2022-09-24T09:25:45.273Z"
   },
   {
    "duration": 20,
    "start_time": "2022-09-24T09:25:45.341Z"
   },
   {
    "duration": 17,
    "start_time": "2022-09-24T09:25:45.372Z"
   },
   {
    "duration": 3,
    "start_time": "2022-09-24T09:25:45.470Z"
   },
   {
    "duration": 10,
    "start_time": "2022-09-24T09:25:45.503Z"
   },
   {
    "duration": 6,
    "start_time": "2022-09-24T09:25:45.572Z"
   },
   {
    "duration": 3,
    "start_time": "2022-09-24T09:25:45.633Z"
   },
   {
    "duration": 9,
    "start_time": "2022-09-24T09:25:45.666Z"
   },
   {
    "duration": 12,
    "start_time": "2022-09-24T09:25:45.764Z"
   },
   {
    "duration": 14,
    "start_time": "2022-09-24T09:25:45.798Z"
   },
   {
    "duration": 31,
    "start_time": "2022-09-24T09:25:45.931Z"
   },
   {
    "duration": 24,
    "start_time": "2022-09-24T09:25:46.032Z"
   },
   {
    "duration": 16,
    "start_time": "2022-09-24T09:25:46.098Z"
   },
   {
    "duration": 32,
    "start_time": "2022-09-24T09:25:46.227Z"
   },
   {
    "duration": 17,
    "start_time": "2022-09-24T09:25:46.361Z"
   },
   {
    "duration": 31,
    "start_time": "2022-09-24T09:25:46.490Z"
   }
  ],
  "colab": {
   "name": "dpp_template_part2.ipynb",
   "provenance": []
  },
  "kernelspec": {
   "display_name": "Python 3 (ipykernel)",
   "language": "python",
   "name": "python3"
  },
  "language_info": {
   "codemirror_mode": {
    "name": "ipython",
    "version": 3
   },
   "file_extension": ".py",
   "mimetype": "text/x-python",
   "name": "python",
   "nbconvert_exporter": "python",
   "pygments_lexer": "ipython3",
   "version": "3.9.5"
  },
  "toc": {
   "base_numbering": 1,
   "nav_menu": {},
   "number_sections": true,
   "sideBar": true,
   "skip_h1_title": true,
   "title_cell": "Table of Contents",
   "title_sidebar": "Contents",
   "toc_cell": false,
   "toc_position": {
    "height": "calc(100% - 180px)",
    "left": "10px",
    "top": "150px",
    "width": "366.188px"
   },
   "toc_section_display": true,
   "toc_window_display": false
  }
 },
 "nbformat": 4,
 "nbformat_minor": 5
}
