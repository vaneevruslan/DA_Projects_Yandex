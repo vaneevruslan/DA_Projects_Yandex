{
 "cells": [
  {
   "cell_type": "markdown",
   "metadata": {
    "toc": true
   },
   "source": [
    "<h1>Анализ поведения пользователей приложения<span class=\"tocSkip\"></span></h1>\n",
    "<div class=\"toc\"><ul class=\"toc-item\"><li><span><a href=\"#Описание-и-задачи-проекта\" data-toc-modified-id=\"Описание-и-задачи-проекта-1\">Описание и задачи проекта</a></span></li><li><span><a href=\"#Обзор-и-предобработка-данных\" data-toc-modified-id=\"Обзор-и-предобработка-данных-2\">Обзор и предобработка данных</a></span><ul class=\"toc-item\"><li><span><a href=\"#Обзор-данных\" data-toc-modified-id=\"Обзор-данных-2.1\">Обзор данных</a></span></li><li><span><a href=\"#Предобработка-данных\" data-toc-modified-id=\"Предобработка-данных-2.2\">Предобработка данных</a></span></li></ul></li><li><span><a href=\"#Проверка-данных\" data-toc-modified-id=\"Проверка-данных-3\">Проверка данных</a></span><ul class=\"toc-item\"><li><span><a href=\"#Считаем-количество-событий,-пользователей-и-среднее-количество-событий-на-пользователя\" data-toc-modified-id=\"Считаем-количество-событий,-пользователей-и-среднее-количество-событий-на-пользователя-3.1\">Считаем количество событий, пользователей и среднее количество событий на пользователя</a></span></li><li><span><a href=\"#Определяем-период-для-анализа\" data-toc-modified-id=\"Определяем-период-для-анализа-3.2\">Определяем период для анализа</a></span></li><li><span><a href=\"#Проверяем-наличие-пользователей-у-всех-трех-групп\" data-toc-modified-id=\"Проверяем-наличие-пользователей-у-всех-трех-групп-3.3\">Проверяем наличие пользователей у всех трех групп</a></span></li></ul></li><li><span><a href=\"#Изучение-воронки-событий\" data-toc-modified-id=\"Изучение-воронки-событий-4\">Изучение воронки событий</a></span><ul class=\"toc-item\"><li><span><a href=\"#Считаем-частоту-совершения-события,-уникальных-пользователей-и-долю-совершивших-каждое-из-них\" data-toc-modified-id=\"Считаем-частоту-совершения-события,-уникальных-пользователей-и-долю-совершивших-каждое-из-них-4.1\">Считаем частоту совершения события, уникальных пользователей и долю совершивших каждое из них</a></span></li><li><span><a href=\"#Строим-воронку-событий-и-определяем-долю-пользователей\" data-toc-modified-id=\"Строим-воронку-событий-и-определяем-долю-пользователей-4.2\">Строим воронку событий и определяем долю пользователей</a></span></li></ul></li><li><span><a href=\"#Изучение-результатов-эксперимента\" data-toc-modified-id=\"Изучение-результатов-эксперимента-5\">Изучение результатов эксперимента</a></span><ul class=\"toc-item\"><li><span><a href=\"#Изучаем-данные-по-контрольным-группам-на-корректность-всех-механизмов-и-расчетов\" data-toc-modified-id=\"Изучаем-данные-по-контрольным-группам-на-корректность-всех-механизмов-и-расчетов-5.1\">Изучаем данные по контрольным группам на корректность всех механизмов и расчетов</a></span></li><li><span><a href=\"#Проведение-A/A-и-A/B-тестов\" data-toc-modified-id=\"Проведение-A/A-и-A/B-тестов-5.2\">Проведение A/A и A/B тестов</a></span></li></ul></li><li><span><a href=\"#Общий-вывод\" data-toc-modified-id=\"Общий-вывод-6\">Общий вывод</a></span></li></ul></div>"
   ]
  },
  {
   "cell_type": "markdown",
   "metadata": {},
   "source": [
    "# Описание и задачи проекта"
   ]
  },
  {
   "cell_type": "markdown",
   "metadata": {},
   "source": [
    "Мы работаем в стартапе, который продаёт продукты питания. Нам нужно разобраться, как ведут себя пользователи нашего мобильного приложения. \n",
    "\n",
    "Для ответа на этот вопрос нам потребуется:\n",
    "\n",
    "1. Сделать обзор, преодобработку и проверку данных;\n",
    "\n",
    "\n",
    "2. Изучить `воронку продаж`. Узнать, как пользователи доходят до покупки, сколько пользователей доходит до покупки, а сколько — «застревает» на предыдущих шагах и на каких именно;\n",
    "\n",
    "\n",
    "3. Исследовать результаты `A/A/B-эксперимента`. Дизайнеры захотели поменять шрифты во всём приложении, а менеджеры испугались, что пользователям будет непривычно. Договорились принять решение по результатам A/A/B-теста. Нам нужно выяснить, какой шрифт лучше.\n",
    "\n",
    "**Описание данных**\n",
    "\n",
    "В нашем распоряжения файл с логамиКаждая запись в логе — это действие пользователя, или событие. \n",
    "\n",
    "- `EventName` — название события;\n",
    "\n",
    "- `DeviceIDHash` — уникальный идентификатор пользователя;\n",
    "- `EventTimestamp` — время события;\n",
    "- `ExpId` — номер эксперимента: 246 и 247 — контрольные группы, а 248 — экспериментальная."
   ]
  },
  {
   "cell_type": "markdown",
   "metadata": {},
   "source": [
    "# Обзор и предобработка данных"
   ]
  },
  {
   "cell_type": "markdown",
   "metadata": {},
   "source": [
    "## Обзор данных"
   ]
  },
  {
   "cell_type": "code",
   "execution_count": 1,
   "metadata": {},
   "outputs": [],
   "source": [
    "# Импортируем необходимые библиотеки\n",
    "\n",
    "import pandas as pd\n",
    "import datetime as dt\n",
    "import matplotlib.pyplot as plt\n",
    "import plotly.graph_objects as go\n",
    "import scipy.stats as st\n",
    "import math as mth\n",
    "import numpy as np"
   ]
  },
  {
   "cell_type": "code",
   "execution_count": 2,
   "metadata": {
    "scrolled": true
   },
   "outputs": [],
   "source": [
    "# Создадим переменную с данными из датасета\n",
    "logs = pd.read_csv('logs_exp.csv', sep='\\t')"
   ]
  },
  {
   "cell_type": "code",
   "execution_count": 3,
   "metadata": {},
   "outputs": [],
   "source": [
    "# Создадим функцию для обзора данных: выведем первые и последние 5 строк, общую информацию, количество и процент пропусков,\n",
    "# кол-во и процент дубликатов и статистические данные по датафрейму. \n",
    "# Функция на вход будет принимать датафрейм.\n",
    "\n",
    "def df_review(data):\n",
    "    \n",
    "    # Выведем первые и последние 5 строк из датафрейму\n",
    "    print('{0:^125}'.format('Обзор данных датасета'))\n",
    "    display(data)\n",
    "    print('-'*120)\n",
    "    \n",
    "    # Выведем общую информацию по датафрейму\n",
    "    print('{0:^125}'.format('Общая информация по датасету'),end='\\n\\n')\n",
    "    data.info()\n",
    "    print('-'*120)\n",
    "    \n",
    "    # Выведем кол-во и процент пропусков в колонках датафрейма\n",
    "    print('{0:^125}'.format('Количество пропусков и их доля от всех строк в колонке'))\n",
    "    # Посчитаем кол-во пропусков и их процент от общего числа строк в датафрейме по каждому столбцу\n",
    "    num_of_nan = data.isnull().sum().to_frame().reset_index().merge \\\n",
    "    (round(data.isnull().mean()*100,2).to_frame().reset_index(), on='index', how='left')\n",
    "    # Переимунуем названия колонок для удобства и выведем рез-т\n",
    "    num_of_nan.columns = ['columns','nan_count','nan_ratio']\n",
    "    display(num_of_nan.sort_values(by='nan_count', ascending=False))\n",
    "    print('-'*120)\n",
    "    \n",
    "    # Посчитаем кол-во явных дубликатов в датафрейме\n",
    "    print(f'Количество явных дубликатов в датасете: {data.duplicated().sum()}, что составляет '\n",
    "          f'{round((data.duplicated().sum()/data.shape[0])*100,2)}% от всех строк в датафрейме')\n",
    "    print('-'*120,end='\\n\\n')\n",
    "    \n",
    "    # Выведем информацию по статистическим данным датафрейма\n",
    "    print('{0:^125}'.format('Обзор cтатистических данных по датасету'))\n",
    "    display(data.describe())"
   ]
  },
  {
   "cell_type": "code",
   "execution_count": 4,
   "metadata": {
    "scrolled": true
   },
   "outputs": [
    {
     "name": "stdout",
     "output_type": "stream",
     "text": [
      "                                                    Обзор данных датасета                                                    \n"
     ]
    },
    {
     "data": {
      "text/html": [
       "<div>\n",
       "<style scoped>\n",
       "    .dataframe tbody tr th:only-of-type {\n",
       "        vertical-align: middle;\n",
       "    }\n",
       "\n",
       "    .dataframe tbody tr th {\n",
       "        vertical-align: top;\n",
       "    }\n",
       "\n",
       "    .dataframe thead th {\n",
       "        text-align: right;\n",
       "    }\n",
       "</style>\n",
       "<table border=\"1\" class=\"dataframe\">\n",
       "  <thead>\n",
       "    <tr style=\"text-align: right;\">\n",
       "      <th></th>\n",
       "      <th>EventName</th>\n",
       "      <th>DeviceIDHash</th>\n",
       "      <th>EventTimestamp</th>\n",
       "      <th>ExpId</th>\n",
       "    </tr>\n",
       "  </thead>\n",
       "  <tbody>\n",
       "    <tr>\n",
       "      <th>0</th>\n",
       "      <td>MainScreenAppear</td>\n",
       "      <td>4575588528974610257</td>\n",
       "      <td>1564029816</td>\n",
       "      <td>246</td>\n",
       "    </tr>\n",
       "    <tr>\n",
       "      <th>1</th>\n",
       "      <td>MainScreenAppear</td>\n",
       "      <td>7416695313311560658</td>\n",
       "      <td>1564053102</td>\n",
       "      <td>246</td>\n",
       "    </tr>\n",
       "    <tr>\n",
       "      <th>2</th>\n",
       "      <td>PaymentScreenSuccessful</td>\n",
       "      <td>3518123091307005509</td>\n",
       "      <td>1564054127</td>\n",
       "      <td>248</td>\n",
       "    </tr>\n",
       "    <tr>\n",
       "      <th>3</th>\n",
       "      <td>CartScreenAppear</td>\n",
       "      <td>3518123091307005509</td>\n",
       "      <td>1564054127</td>\n",
       "      <td>248</td>\n",
       "    </tr>\n",
       "    <tr>\n",
       "      <th>4</th>\n",
       "      <td>PaymentScreenSuccessful</td>\n",
       "      <td>6217807653094995999</td>\n",
       "      <td>1564055322</td>\n",
       "      <td>248</td>\n",
       "    </tr>\n",
       "    <tr>\n",
       "      <th>...</th>\n",
       "      <td>...</td>\n",
       "      <td>...</td>\n",
       "      <td>...</td>\n",
       "      <td>...</td>\n",
       "    </tr>\n",
       "    <tr>\n",
       "      <th>244121</th>\n",
       "      <td>MainScreenAppear</td>\n",
       "      <td>4599628364049201812</td>\n",
       "      <td>1565212345</td>\n",
       "      <td>247</td>\n",
       "    </tr>\n",
       "    <tr>\n",
       "      <th>244122</th>\n",
       "      <td>MainScreenAppear</td>\n",
       "      <td>5849806612437486590</td>\n",
       "      <td>1565212439</td>\n",
       "      <td>246</td>\n",
       "    </tr>\n",
       "    <tr>\n",
       "      <th>244123</th>\n",
       "      <td>MainScreenAppear</td>\n",
       "      <td>5746969938801999050</td>\n",
       "      <td>1565212483</td>\n",
       "      <td>246</td>\n",
       "    </tr>\n",
       "    <tr>\n",
       "      <th>244124</th>\n",
       "      <td>MainScreenAppear</td>\n",
       "      <td>5746969938801999050</td>\n",
       "      <td>1565212498</td>\n",
       "      <td>246</td>\n",
       "    </tr>\n",
       "    <tr>\n",
       "      <th>244125</th>\n",
       "      <td>OffersScreenAppear</td>\n",
       "      <td>5746969938801999050</td>\n",
       "      <td>1565212517</td>\n",
       "      <td>246</td>\n",
       "    </tr>\n",
       "  </tbody>\n",
       "</table>\n",
       "<p>244126 rows × 4 columns</p>\n",
       "</div>"
      ],
      "text/plain": [
       "                      EventName         DeviceIDHash  EventTimestamp  ExpId\n",
       "0              MainScreenAppear  4575588528974610257      1564029816    246\n",
       "1              MainScreenAppear  7416695313311560658      1564053102    246\n",
       "2       PaymentScreenSuccessful  3518123091307005509      1564054127    248\n",
       "3              CartScreenAppear  3518123091307005509      1564054127    248\n",
       "4       PaymentScreenSuccessful  6217807653094995999      1564055322    248\n",
       "...                         ...                  ...             ...    ...\n",
       "244121         MainScreenAppear  4599628364049201812      1565212345    247\n",
       "244122         MainScreenAppear  5849806612437486590      1565212439    246\n",
       "244123         MainScreenAppear  5746969938801999050      1565212483    246\n",
       "244124         MainScreenAppear  5746969938801999050      1565212498    246\n",
       "244125       OffersScreenAppear  5746969938801999050      1565212517    246\n",
       "\n",
       "[244126 rows x 4 columns]"
      ]
     },
     "metadata": {},
     "output_type": "display_data"
    },
    {
     "name": "stdout",
     "output_type": "stream",
     "text": [
      "------------------------------------------------------------------------------------------------------------------------\n",
      "                                                Общая информация по датасету                                                 \n",
      "\n",
      "<class 'pandas.core.frame.DataFrame'>\n",
      "RangeIndex: 244126 entries, 0 to 244125\n",
      "Data columns (total 4 columns):\n",
      " #   Column          Non-Null Count   Dtype \n",
      "---  ------          --------------   ----- \n",
      " 0   EventName       244126 non-null  object\n",
      " 1   DeviceIDHash    244126 non-null  int64 \n",
      " 2   EventTimestamp  244126 non-null  int64 \n",
      " 3   ExpId           244126 non-null  int64 \n",
      "dtypes: int64(3), object(1)\n",
      "memory usage: 7.5+ MB\n",
      "------------------------------------------------------------------------------------------------------------------------\n",
      "                                   Количество пропусков и их доля от всех строк в колонке                                    \n"
     ]
    },
    {
     "data": {
      "text/html": [
       "<div>\n",
       "<style scoped>\n",
       "    .dataframe tbody tr th:only-of-type {\n",
       "        vertical-align: middle;\n",
       "    }\n",
       "\n",
       "    .dataframe tbody tr th {\n",
       "        vertical-align: top;\n",
       "    }\n",
       "\n",
       "    .dataframe thead th {\n",
       "        text-align: right;\n",
       "    }\n",
       "</style>\n",
       "<table border=\"1\" class=\"dataframe\">\n",
       "  <thead>\n",
       "    <tr style=\"text-align: right;\">\n",
       "      <th></th>\n",
       "      <th>columns</th>\n",
       "      <th>nan_count</th>\n",
       "      <th>nan_ratio</th>\n",
       "    </tr>\n",
       "  </thead>\n",
       "  <tbody>\n",
       "    <tr>\n",
       "      <th>0</th>\n",
       "      <td>EventName</td>\n",
       "      <td>0</td>\n",
       "      <td>0.0</td>\n",
       "    </tr>\n",
       "    <tr>\n",
       "      <th>1</th>\n",
       "      <td>DeviceIDHash</td>\n",
       "      <td>0</td>\n",
       "      <td>0.0</td>\n",
       "    </tr>\n",
       "    <tr>\n",
       "      <th>2</th>\n",
       "      <td>EventTimestamp</td>\n",
       "      <td>0</td>\n",
       "      <td>0.0</td>\n",
       "    </tr>\n",
       "    <tr>\n",
       "      <th>3</th>\n",
       "      <td>ExpId</td>\n",
       "      <td>0</td>\n",
       "      <td>0.0</td>\n",
       "    </tr>\n",
       "  </tbody>\n",
       "</table>\n",
       "</div>"
      ],
      "text/plain": [
       "          columns  nan_count  nan_ratio\n",
       "0       EventName          0        0.0\n",
       "1    DeviceIDHash          0        0.0\n",
       "2  EventTimestamp          0        0.0\n",
       "3           ExpId          0        0.0"
      ]
     },
     "metadata": {},
     "output_type": "display_data"
    },
    {
     "name": "stdout",
     "output_type": "stream",
     "text": [
      "------------------------------------------------------------------------------------------------------------------------\n",
      "Количество явных дубликатов в датасете: 413, что составляет 0.17% от всех строк в датафрейме\n",
      "------------------------------------------------------------------------------------------------------------------------\n",
      "\n",
      "                                           Обзор cтатистических данных по датасету                                           \n"
     ]
    },
    {
     "data": {
      "text/html": [
       "<div>\n",
       "<style scoped>\n",
       "    .dataframe tbody tr th:only-of-type {\n",
       "        vertical-align: middle;\n",
       "    }\n",
       "\n",
       "    .dataframe tbody tr th {\n",
       "        vertical-align: top;\n",
       "    }\n",
       "\n",
       "    .dataframe thead th {\n",
       "        text-align: right;\n",
       "    }\n",
       "</style>\n",
       "<table border=\"1\" class=\"dataframe\">\n",
       "  <thead>\n",
       "    <tr style=\"text-align: right;\">\n",
       "      <th></th>\n",
       "      <th>DeviceIDHash</th>\n",
       "      <th>EventTimestamp</th>\n",
       "      <th>ExpId</th>\n",
       "    </tr>\n",
       "  </thead>\n",
       "  <tbody>\n",
       "    <tr>\n",
       "      <th>count</th>\n",
       "      <td>2.441260e+05</td>\n",
       "      <td>2.441260e+05</td>\n",
       "      <td>244126.000000</td>\n",
       "    </tr>\n",
       "    <tr>\n",
       "      <th>mean</th>\n",
       "      <td>4.627568e+18</td>\n",
       "      <td>1.564914e+09</td>\n",
       "      <td>247.022296</td>\n",
       "    </tr>\n",
       "    <tr>\n",
       "      <th>std</th>\n",
       "      <td>2.642425e+18</td>\n",
       "      <td>1.771343e+05</td>\n",
       "      <td>0.824434</td>\n",
       "    </tr>\n",
       "    <tr>\n",
       "      <th>min</th>\n",
       "      <td>6.888747e+15</td>\n",
       "      <td>1.564030e+09</td>\n",
       "      <td>246.000000</td>\n",
       "    </tr>\n",
       "    <tr>\n",
       "      <th>25%</th>\n",
       "      <td>2.372212e+18</td>\n",
       "      <td>1.564757e+09</td>\n",
       "      <td>246.000000</td>\n",
       "    </tr>\n",
       "    <tr>\n",
       "      <th>50%</th>\n",
       "      <td>4.623192e+18</td>\n",
       "      <td>1.564919e+09</td>\n",
       "      <td>247.000000</td>\n",
       "    </tr>\n",
       "    <tr>\n",
       "      <th>75%</th>\n",
       "      <td>6.932517e+18</td>\n",
       "      <td>1.565075e+09</td>\n",
       "      <td>248.000000</td>\n",
       "    </tr>\n",
       "    <tr>\n",
       "      <th>max</th>\n",
       "      <td>9.222603e+18</td>\n",
       "      <td>1.565213e+09</td>\n",
       "      <td>248.000000</td>\n",
       "    </tr>\n",
       "  </tbody>\n",
       "</table>\n",
       "</div>"
      ],
      "text/plain": [
       "       DeviceIDHash  EventTimestamp          ExpId\n",
       "count  2.441260e+05    2.441260e+05  244126.000000\n",
       "mean   4.627568e+18    1.564914e+09     247.022296\n",
       "std    2.642425e+18    1.771343e+05       0.824434\n",
       "min    6.888747e+15    1.564030e+09     246.000000\n",
       "25%    2.372212e+18    1.564757e+09     246.000000\n",
       "50%    4.623192e+18    1.564919e+09     247.000000\n",
       "75%    6.932517e+18    1.565075e+09     248.000000\n",
       "max    9.222603e+18    1.565213e+09     248.000000"
      ]
     },
     "metadata": {},
     "output_type": "display_data"
    }
   ],
   "source": [
    "df_review(logs)"
   ]
  },
  {
   "cell_type": "markdown",
   "metadata": {},
   "source": [
    "Обзор датафрейма показал, что данные практичеси не нуждаются в предобработке, нам будет необходимо лишь только:\n",
    "\n",
    "- Переименовать колонки в удобный нам стиль;\n",
    "- Удалить явные дубликаты;\n",
    "- Привести колонку `EventTimestamp` в формат даты;\n",
    "- Создать дополнительно колонку с датой без времени.\n",
    "\n",
    "Займемся этим в ходе предобработки данных"
   ]
  },
  {
   "cell_type": "markdown",
   "metadata": {},
   "source": [
    "## Предобработка данных"
   ]
  },
  {
   "cell_type": "code",
   "execution_count": 5,
   "metadata": {},
   "outputs": [],
   "source": [
    "# Заменим названия колонок согласно стилю 'snake_case'\n",
    "logs.columns = ['event_name','device_id_hash','event_timestamp','exp_id']"
   ]
  },
  {
   "cell_type": "code",
   "execution_count": 6,
   "metadata": {},
   "outputs": [],
   "source": [
    "# Удалим дубликаты\n",
    "logs = logs.drop_duplicates()"
   ]
  },
  {
   "cell_type": "code",
   "execution_count": 7,
   "metadata": {},
   "outputs": [],
   "source": [
    "# Приведем к нужному типу данных колонку 'event_timestammp'\n",
    "logs['event_timestamp'] = pd.to_datetime(logs['event_timestamp'], unit='s')"
   ]
  },
  {
   "cell_type": "code",
   "execution_count": 8,
   "metadata": {},
   "outputs": [],
   "source": [
    "# Создадим новую колонкую с датами без времени\n",
    "logs['date'] = logs['event_timestamp'].astype('datetime64[D]')"
   ]
  },
  {
   "cell_type": "markdown",
   "metadata": {},
   "source": [
    "# Проверка данных"
   ]
  },
  {
   "cell_type": "markdown",
   "metadata": {},
   "source": [
    "## Считаем количество событий, пользователей и среднее количество событий на пользователя"
   ]
  },
  {
   "cell_type": "code",
   "execution_count": 9,
   "metadata": {},
   "outputs": [
    {
     "name": "stdout",
     "output_type": "stream",
     "text": [
      "Всего событий в датафрейме: 243713\n",
      "Всего уникальных типов событий в датафрейме: 5\n",
      "Названия событий: ['MainScreenAppear' 'PaymentScreenSuccessful' 'CartScreenAppear'\n",
      " 'OffersScreenAppear' 'Tutorial']\n"
     ]
    }
   ],
   "source": [
    "# Считаем количество событий в дф\n",
    "\n",
    "print('Всего событий в датафрейме:', len(logs['event_name']))\n",
    "print('Всего уникальных типов событий в датафрейме:', len(logs['event_name'].unique()))\n",
    "print('Названия событий:', logs['event_name'].unique())"
   ]
  },
  {
   "cell_type": "code",
   "execution_count": 10,
   "metadata": {},
   "outputs": [
    {
     "name": "stdout",
     "output_type": "stream",
     "text": [
      "Всего уникальных пользователей в датафрейме: 7551\n"
     ]
    }
   ],
   "source": [
    "# Считаем количество пользователей в дф\n",
    "print('Всего уникальных пользователей в датафрейме:', len(logs['device_id_hash'].unique()))"
   ]
  },
  {
   "cell_type": "code",
   "execution_count": 11,
   "metadata": {},
   "outputs": [
    {
     "name": "stdout",
     "output_type": "stream",
     "text": [
      "Среднее количество событий на одного пользователя составляет: 32\n"
     ]
    }
   ],
   "source": [
    "#Считаем среднее кол-во событий на пользователя\n",
    "\n",
    "avg_events = round(len(logs['event_name'])/len(logs['device_id_hash'].unique()))\n",
    "print('Среднее количество событий на одного пользователя составляет:', avg_events)"
   ]
  },
  {
   "cell_type": "markdown",
   "metadata": {},
   "source": [
    "Перед тем как полагаться на получившееся значение, нам следует сгруппировать данные по каждому пользователю и посчитать количество событий для каждого из них."
   ]
  },
  {
   "cell_type": "code",
   "execution_count": 12,
   "metadata": {
    "scrolled": true
   },
   "outputs": [
    {
     "data": {
      "text/html": [
       "<div>\n",
       "<style scoped>\n",
       "    .dataframe tbody tr th:only-of-type {\n",
       "        vertical-align: middle;\n",
       "    }\n",
       "\n",
       "    .dataframe tbody tr th {\n",
       "        vertical-align: top;\n",
       "    }\n",
       "\n",
       "    .dataframe thead th {\n",
       "        text-align: right;\n",
       "    }\n",
       "</style>\n",
       "<table border=\"1\" class=\"dataframe\">\n",
       "  <thead>\n",
       "    <tr style=\"text-align: right;\">\n",
       "      <th></th>\n",
       "      <th>event_timestamp</th>\n",
       "    </tr>\n",
       "  </thead>\n",
       "  <tbody>\n",
       "    <tr>\n",
       "      <th>count</th>\n",
       "      <td>7551.000000</td>\n",
       "    </tr>\n",
       "    <tr>\n",
       "      <th>mean</th>\n",
       "      <td>32.275593</td>\n",
       "    </tr>\n",
       "    <tr>\n",
       "      <th>std</th>\n",
       "      <td>65.154219</td>\n",
       "    </tr>\n",
       "    <tr>\n",
       "      <th>min</th>\n",
       "      <td>1.000000</td>\n",
       "    </tr>\n",
       "    <tr>\n",
       "      <th>25%</th>\n",
       "      <td>9.000000</td>\n",
       "    </tr>\n",
       "    <tr>\n",
       "      <th>50%</th>\n",
       "      <td>20.000000</td>\n",
       "    </tr>\n",
       "    <tr>\n",
       "      <th>75%</th>\n",
       "      <td>37.000000</td>\n",
       "    </tr>\n",
       "    <tr>\n",
       "      <th>max</th>\n",
       "      <td>2307.000000</td>\n",
       "    </tr>\n",
       "  </tbody>\n",
       "</table>\n",
       "</div>"
      ],
      "text/plain": [
       "       event_timestamp\n",
       "count      7551.000000\n",
       "mean         32.275593\n",
       "std          65.154219\n",
       "min           1.000000\n",
       "25%           9.000000\n",
       "50%          20.000000\n",
       "75%          37.000000\n",
       "max        2307.000000"
      ]
     },
     "execution_count": 12,
     "metadata": {},
     "output_type": "execute_result"
    }
   ],
   "source": [
    "# Создадим дф с этими данными и посмотрим на статистическую информацию по колонке\n",
    "\n",
    "logs_event_users = logs.groupby('device_id_hash').agg({'event_timestamp': 'count'})\n",
    "logs_event_users.describe()"
   ]
  },
  {
   "cell_type": "markdown",
   "metadata": {},
   "source": [
    "Мы видим, что медиана составляет `20`, а также максимальное значение в `2307` события на одного из пользователей, возможно, такие выбросы повлияли на увелечение среднего числа.\n",
    "\n",
    "Для наглядности построим гистограммы с выбросами и без."
   ]
  },
  {
   "cell_type": "code",
   "execution_count": 13,
   "metadata": {
    "scrolled": true
   },
   "outputs": [
    {
     "data": {
      "image/png": "[encoded data removed]",
      "text/plain": [
       "<Figure size 1440x432 with 2 Axes>"
      ]
     },
     "metadata": {
      "needs_background": "light"
     },
     "output_type": "display_data"
    }
   ],
   "source": [
    "# Строим гистограммы \n",
    "\n",
    "fig, ax = plt.subplots(1,2, figsize=(20,6))\n",
    "\n",
    "logs_event_users.hist(ax=ax[0],\n",
    "                      bins=50,\n",
    "                      color='skyblue',\n",
    "                      ec='black')\n",
    "\n",
    "logs_event_users.hist(ax=ax[1],\n",
    "                      range=(0,200),\n",
    "                      bins=50,\n",
    "                      color='skyblue',\n",
    "                      ec='black')\n",
    "\n",
    "ax[0].set_title('Количество событий на 1 пользователя')\n",
    "ax[0].set_xlabel('Количество событий')\n",
    "ax[0].set_ylabel('Количество пользователей')\n",
    "ax[1].set_title('Количество событий на 1 пользователя(без выбросов)')\n",
    "ax[1].set_xlabel('Количество событий')\n",
    "ax[1].set_ylabel('Количество пользователей')\n",
    "\n",
    "plt.show()"
   ]
  },
  {
   "cell_type": "markdown",
   "metadata": {},
   "source": [
    "По гистограммам мы также видим единичных пользователей с более чем `150 событиями`, поэтому за ориентир будем брать не среднее значение,а медианное в `20`"
   ]
  },
  {
   "cell_type": "markdown",
   "metadata": {},
   "source": [
    "**Вывод:**\n",
    "\n",
    "После изучения данных, мы выяснили, что всего событий в датафрейме: `243713` из них `5` уникальных типов, количество уникальных пользователей составляет: `7551`, а среднее количество событий на пользователя согласно медиане - `20`. "
   ]
  },
  {
   "cell_type": "markdown",
   "metadata": {},
   "source": [
    "## Определяем период для анализа"
   ]
  },
  {
   "cell_type": "code",
   "execution_count": 14,
   "metadata": {},
   "outputs": [
    {
     "name": "stdout",
     "output_type": "stream",
     "text": [
      "Минимальная дата: 2019-07-25 00:00:00\n",
      "Максимальная дата: 2019-08-07 00:00:00\n",
      "Анализируемый период составляет: 13 дней\n"
     ]
    }
   ],
   "source": [
    "# Определяем минимальную и максимальную дату выборки\n",
    "\n",
    "print('Минимальная дата:', logs['date'].min())\n",
    "print('Максимальная дата:', logs['date'].max())\n",
    "print('Анализируемый период составляет:', (logs['date'].max()-logs['date'].min()).days,'дней')"
   ]
  },
  {
   "cell_type": "code",
   "execution_count": 15,
   "metadata": {},
   "outputs": [
    {
     "data": {
      "image/png": "[encoded data removed]",
      "text/plain": [
       "<Figure size 1008x504 with 1 Axes>"
      ]
     },
     "metadata": {
      "needs_background": "light"
     },
     "output_type": "display_data"
    }
   ],
   "source": [
    "# Создадим гистограмму по дате и времени\n",
    "plt.figure(figsize =(14, 7))\n",
    "\n",
    "# Построим график\n",
    "logs['event_timestamp'].hist(bins=20,\n",
    "                             color='skyblue',\n",
    "                             ec='black')\n",
    "\n",
    "# Добавим необходимые настройки\n",
    "plt.title('Гистограмма по дате и времени', fontsize=12)\n",
    "plt.xlabel('Дата', fontsize=12)\n",
    "plt.ylabel('Частота', fontsize=12)\n",
    "plt.xticks(rotation=15)\n",
    "plt.show()"
   ]
  },
  {
   "cell_type": "code",
   "execution_count": 16,
   "metadata": {},
   "outputs": [
    {
     "data": {
      "image/png": "[encoded data removed]",
      "text/plain": [
       "<Figure size 1008x360 with 1 Axes>"
      ]
     },
     "metadata": {
      "needs_background": "light"
     },
     "output_type": "display_data"
    }
   ],
   "source": [
    "# код ревьюера\n",
    "logs['event_timestamp'].hist(bins=14*24, figsize=(14, 5));"
   ]
  },
  {
   "cell_type": "markdown",
   "metadata": {},
   "source": [
    "Исходя из гистограммы, мы видим что:\n",
    "\n",
    "- В первые дни эксперимента, вплоть до `31 июля` частота значений была близка к нулевой относительно данных за последующие дни;\n",
    "- `31 июля` частота наблюдений увеличилась примерно в `5 раз` относительно предыдущей даты, но все на порядок меньше того, что мы видим в данных, начиная с `1 августа`.\n",
    "\n",
    "Согласно рекомендациям, тестирование следует проводить в течение `2 недель` - если есть такая возможность, для получения наиболее достоверного результата, но из-за неполноты данных в первую неделю и заметного прироста, начинающегося с `1 августа` будет целесообразно начать проведение эксперимента именно с этой даты и отсечь все то, что было ранее.\n",
    "\n",
    "В итоге у нас останутся данные за `1 неделю`, начиная с `01-08-2019` и заканчивая `07-08-2019`, отфильтруем данные согласно этому периоду и оценим сколько событий и пользователей мы после этого потеряем."
   ]
  },
  {
   "cell_type": "code",
   "execution_count": 17,
   "metadata": {},
   "outputs": [],
   "source": [
    "# Создадим новый датафрейм с отфильтрованными данными\n",
    "logs_new = logs.query('date > \"2019-07-31\"')"
   ]
  },
  {
   "cell_type": "code",
   "execution_count": 18,
   "metadata": {
    "scrolled": true
   },
   "outputs": [
    {
     "name": "stdout",
     "output_type": "stream",
     "text": [
      "После фильтрации датафрейма, мы потеряли 2826 событий или 1.16% от исходных данных, а также 17 уникальных пользователей или  же 0.23% от исходных данных.\n"
     ]
    }
   ],
   "source": [
    "# Посмотрим сколько событий и пользователей мы потеряли после фильтрации дф\n",
    "\n",
    "# Посчитаем количество отброшенных строк с данными по событиям и пользователям\n",
    "event_diff = logs.shape[0] - logs_new.shape[0]\n",
    "user_diff = logs['device_id_hash'].nunique() - logs_new['device_id_hash'].nunique()\n",
    "\n",
    "# Рассчитаем долю этих строк от исходного датафрейма\n",
    "event_diff_ratio = round(event_diff/logs.shape[0]*100,2)\n",
    "user_diff_ratio = round(user_diff/logs['device_id_hash'].nunique()*100,2)\n",
    "\n",
    "# Выведем результат\n",
    "print(f'После фильтрации датафрейма, мы потеряли {event_diff} событий или {event_diff_ratio}% от исходных данных, а также ' \n",
    "      f'{user_diff} уникальных пользователей или  же {user_diff_ratio}% от исходных данных.')"
   ]
  },
  {
   "cell_type": "markdown",
   "metadata": {},
   "source": [
    "**Вывод:** \n",
    "\n",
    "- Мы выяснили, что сбор данных проводился в период с `25 июля` по `7 августа`;\n",
    "- В ходе фильтрации датафрейма, мы оставили только полные данные, которые начинались с `1 августа`, потеряв при этом незначительное количество информации, которая не повлияет на результаты нашего исследования."
   ]
  },
  {
   "cell_type": "markdown",
   "metadata": {},
   "source": [
    "## Проверяем наличие пользователей у всех трех групп"
   ]
  },
  {
   "cell_type": "code",
   "execution_count": 19,
   "metadata": {
    "scrolled": false
   },
   "outputs": [
    {
     "data": {
      "text/html": [
       "<div>\n",
       "<style scoped>\n",
       "    .dataframe tbody tr th:only-of-type {\n",
       "        vertical-align: middle;\n",
       "    }\n",
       "\n",
       "    .dataframe tbody tr th {\n",
       "        vertical-align: top;\n",
       "    }\n",
       "\n",
       "    .dataframe thead th {\n",
       "        text-align: right;\n",
       "    }\n",
       "</style>\n",
       "<table border=\"1\" class=\"dataframe\">\n",
       "  <thead>\n",
       "    <tr style=\"text-align: right;\">\n",
       "      <th></th>\n",
       "      <th>group</th>\n",
       "      <th>events_count</th>\n",
       "      <th>users_count</th>\n",
       "    </tr>\n",
       "  </thead>\n",
       "  <tbody>\n",
       "    <tr>\n",
       "      <th>0</th>\n",
       "      <td>246</td>\n",
       "      <td>79302</td>\n",
       "      <td>2484</td>\n",
       "    </tr>\n",
       "    <tr>\n",
       "      <th>1</th>\n",
       "      <td>247</td>\n",
       "      <td>77022</td>\n",
       "      <td>2513</td>\n",
       "    </tr>\n",
       "    <tr>\n",
       "      <th>2</th>\n",
       "      <td>248</td>\n",
       "      <td>84563</td>\n",
       "      <td>2537</td>\n",
       "    </tr>\n",
       "  </tbody>\n",
       "</table>\n",
       "</div>"
      ],
      "text/plain": [
       "   group  events_count  users_count\n",
       "0    246         79302         2484\n",
       "1    247         77022         2513\n",
       "2    248         84563         2537"
      ]
     },
     "execution_count": 19,
     "metadata": {},
     "output_type": "execute_result"
    }
   ],
   "source": [
    "# Сгруппируем дф по группам и посмотрим сколько в каждой из них событий и уникальных пользователей\n",
    "\n",
    "groups = (\n",
    "    logs_new.groupby('exp_id', as_index=False)\n",
    "    .agg(\n",
    "        events_count=('device_id_hash', 'count'),\n",
    "        users_count=('device_id_hash', 'nunique'),\n",
    "    )\n",
    "    .rename(columns={'exp_id': 'group'})\n",
    ")\n",
    "\n",
    "# Выведем результат\n",
    "groups"
   ]
  },
  {
   "cell_type": "markdown",
   "metadata": {},
   "source": [
    "**Вывод:**\n",
    "\n",
    "Мы видим, что во всех 3 группах есть примерно равное количество уникальных пользователей и событий.\n",
    "\n",
    "Дополнительно проверим, нет ли такого, что один пользователь может одновременно состоять в нескольких группах, так как это может исказить непосредственное проведение эксперимента и интерпретацию результатов.\n",
    "\n",
    "Для этого создадим функцию и пройдемся по каждой группе."
   ]
  },
  {
   "cell_type": "code",
   "execution_count": 20,
   "metadata": {},
   "outputs": [],
   "source": [
    "# Функция на вход будет принимать 2 аргумента: первую и вторую группу, далее будет проверяться есть ли пересечение пользователя\n",
    "# Между группами, если нет - то в группах все пользователи уникальные, если да - то будет выведено количество пользователей\n",
    "# Одновременно состоящих в нескольких группах\n",
    "\n",
    "def crossed_users(a,b):\n",
    "    \n",
    "    # Считаем количество пользователей одновременно состоящих в обеих группах\n",
    "    multiple_groups = len(np.intersect1d(logs_new.query('exp_id == @a')['device_id_hash'].unique(), \\\n",
    "                       logs_new.query('exp_id == @b')['device_id_hash'], assume_unique=False))\n",
    "    \n",
    "    # В зависимости от полученного результата будем выводить соответсвующее сообщение\n",
    "    if multiple_groups == 0:\n",
    "        print(f'Число пользователей состоящих одновременно в группе {a} и {b} составляет: {multiple_groups} человек, '\n",
    "              f'а это значит, что все пользователи в группах уникальные.')\n",
    "    else:\n",
    "        print(f'В группах {a} и {b} одновременно состоят {multiple_groups} пользователя(-ей).')"
   ]
  },
  {
   "cell_type": "code",
   "execution_count": 21,
   "metadata": {},
   "outputs": [
    {
     "name": "stdout",
     "output_type": "stream",
     "text": [
      "Число пользователей состоящих одновременно в группе 246 и 247 составляет: 0 человек, а это значит, что все пользователи в группах уникальные.\n"
     ]
    }
   ],
   "source": [
    "# Проверим, есть ли пересечения пользователей, которые состоят в обеих контрольных группах\n",
    "crossed_users(246,247)"
   ]
  },
  {
   "cell_type": "code",
   "execution_count": 22,
   "metadata": {},
   "outputs": [
    {
     "name": "stdout",
     "output_type": "stream",
     "text": [
      "Число пользователей состоящих одновременно в группе 246 и 248 составляет: 0 человек, а это значит, что все пользователи в группах уникальные.\n"
     ]
    }
   ],
   "source": [
    "# Проверим, есть ли пересечения пользователей, которые состоят в первой контрольной и экспериментальной группах\n",
    "crossed_users(246,248)"
   ]
  },
  {
   "cell_type": "code",
   "execution_count": 23,
   "metadata": {},
   "outputs": [
    {
     "name": "stdout",
     "output_type": "stream",
     "text": [
      "Число пользователей состоящих одновременно в группе 247 и 248 составляет: 0 человек, а это значит, что все пользователи в группах уникальные.\n"
     ]
    }
   ],
   "source": [
    "# Проверим, есть ли пересечения пользователей, которые состоят во второй контрольной и экспериментальной группах\n",
    "crossed_users(247,248)"
   ]
  },
  {
   "cell_type": "markdown",
   "metadata": {},
   "source": [
    "**Вывод:**\n",
    "\n",
    "После проведенных расчетов мы видим, что во всех 3 группах собраны только уникальные пользователи, которые друг с другом никак не пересекаются."
   ]
  },
  {
   "cell_type": "markdown",
   "metadata": {},
   "source": [
    "# Изучение воронки событий"
   ]
  },
  {
   "cell_type": "markdown",
   "metadata": {},
   "source": [
    "## Считаем частоту совершения события, уникальных пользователей и долю совершивших каждое из них"
   ]
  },
  {
   "cell_type": "code",
   "execution_count": 24,
   "metadata": {
    "scrolled": true
   },
   "outputs": [
    {
     "data": {
      "text/html": [
       "<div>\n",
       "<style scoped>\n",
       "    .dataframe tbody tr th:only-of-type {\n",
       "        vertical-align: middle;\n",
       "    }\n",
       "\n",
       "    .dataframe tbody tr th {\n",
       "        vertical-align: top;\n",
       "    }\n",
       "\n",
       "    .dataframe thead th {\n",
       "        text-align: right;\n",
       "    }\n",
       "</style>\n",
       "<table border=\"1\" class=\"dataframe\">\n",
       "  <thead>\n",
       "    <tr style=\"text-align: right;\">\n",
       "      <th></th>\n",
       "      <th>event_name</th>\n",
       "      <th>num_of_events</th>\n",
       "      <th>num_of_users</th>\n",
       "      <th>share_of_event_among_users</th>\n",
       "    </tr>\n",
       "  </thead>\n",
       "  <tbody>\n",
       "    <tr>\n",
       "      <th>1</th>\n",
       "      <td>MainScreenAppear</td>\n",
       "      <td>117328</td>\n",
       "      <td>7419</td>\n",
       "      <td>98.47%</td>\n",
       "    </tr>\n",
       "    <tr>\n",
       "      <th>2</th>\n",
       "      <td>OffersScreenAppear</td>\n",
       "      <td>46333</td>\n",
       "      <td>4593</td>\n",
       "      <td>60.96%</td>\n",
       "    </tr>\n",
       "    <tr>\n",
       "      <th>0</th>\n",
       "      <td>CartScreenAppear</td>\n",
       "      <td>42303</td>\n",
       "      <td>3734</td>\n",
       "      <td>49.56%</td>\n",
       "    </tr>\n",
       "    <tr>\n",
       "      <th>3</th>\n",
       "      <td>PaymentScreenSuccessful</td>\n",
       "      <td>33918</td>\n",
       "      <td>3539</td>\n",
       "      <td>46.97%</td>\n",
       "    </tr>\n",
       "    <tr>\n",
       "      <th>4</th>\n",
       "      <td>Tutorial</td>\n",
       "      <td>1005</td>\n",
       "      <td>840</td>\n",
       "      <td>11.15%</td>\n",
       "    </tr>\n",
       "  </tbody>\n",
       "</table>\n",
       "</div>"
      ],
      "text/plain": [
       "                event_name  num_of_events  num_of_users  \\\n",
       "1         MainScreenAppear         117328          7419   \n",
       "2       OffersScreenAppear          46333          4593   \n",
       "0         CartScreenAppear          42303          3734   \n",
       "3  PaymentScreenSuccessful          33918          3539   \n",
       "4                 Tutorial           1005           840   \n",
       "\n",
       "  share_of_event_among_users  \n",
       "1                     98.47%  \n",
       "2                     60.96%  \n",
       "0                     49.56%  \n",
       "3                     46.97%  \n",
       "4                     11.15%  "
      ]
     },
     "execution_count": 24,
     "metadata": {},
     "output_type": "execute_result"
    }
   ],
   "source": [
    "# Сгруппируем данные по событиям и посчтитаем их общее количество и уникальных пользователей, приходящихся на это событие\n",
    "\n",
    "logs_funnel = (\n",
    "    logs_new\n",
    "    .groupby('event_name', as_index=False)\n",
    "    .agg(num_of_events=('event_name','count'),\n",
    "         num_of_users=('device_id_hash','nunique'))\n",
    "    .sort_values(by='num_of_events', ascending=False)\n",
    ")\n",
    "\n",
    "# Добавим колонку с долей пользователей, совершивших хоть раз каждое из событий\n",
    "logs_funnel['share_of_event_among_users'] = (logs_funnel['num_of_users']/logs_new['device_id_hash'].nunique()*100) \\\n",
    "                                                                                                   .map('{0:.2f}%'.format)\n",
    "                                                                                                        \n",
    "# Выведем результат\n",
    "logs_funnel"
   ]
  },
  {
   "cell_type": "code",
   "execution_count": 25,
   "metadata": {},
   "outputs": [
    {
     "data": {
      "image/png": "[encoded data removed]",
      "text/plain": [
       "<Figure size 1008x504 with 1 Axes>"
      ]
     },
     "metadata": {
      "needs_background": "light"
     },
     "output_type": "display_data"
    }
   ],
   "source": [
    "# Для большей наглядности построим график\n",
    "logs_funnel[['event_name','num_of_events','num_of_users']].plot(kind='bar', x='event_name', figsize =(14, 7))\n",
    "\n",
    "# Добавим необходимые настройки\n",
    "plt.title('Кол-во событий и пользователей для каждого типа события', fontsize=12)\n",
    "plt.xlabel('Тип события',fontsize=12)\n",
    "plt.ylabel('Количество',fontsize=12)\n",
    "plt.xticks(rotation=0)\n",
    "plt.grid()\n",
    "plt.show()"
   ]
  },
  {
   "cell_type": "markdown",
   "metadata": {},
   "source": [
    "**Вывод:**\n",
    "\n",
    "Как уже было сказано мной ранее в `3 разделе` проекта мы располагаем `5 событиями`, которые по своей частоте, судя по таблице и графику, отражают непосредственно путь каждого пользователя, за исключением события `Tutorial`, что подразумевает некое обучение, возможно, по функциональным возможностям приложения, поэтому это событие необязательное и его пропускает подавляющее большинство пользователей, как следствие - оно имеет наименьшее показатели.\n",
    "\n",
    "Поэтому, в дальнейшем, наша воронка не будет включать в себя событие `Tutorial`, а будет состоять из следующих этапов:\n",
    "\n",
    "1. `MainScreenAppear` - пользователь увидел главное меню приложения (совершило `98.47%` пользователей)\n",
    "\n",
    "2. `OffersScreenAppear` - пользователь увидел  каталог/предложения с товарами (совершило `60.96%` пользователей)\n",
    "3. `CartScreenAppear` - пользователь увидел экран с корзиной (совершило `49.56%` пользователей)\n",
    "4. `PaymentScreenSuccessful` - пользователь увидел  экран завершенной покупки (совершило `46.97%` пользователей)"
   ]
  },
  {
   "cell_type": "markdown",
   "metadata": {},
   "source": [
    "## Строим воронку событий и определяем долю пользователей"
   ]
  },
  {
   "cell_type": "code",
   "execution_count": null,
   "metadata": {
    "scrolled": false
   },
   "outputs": [],
   "source": [
    "# Удалим событие `Tutorial`\n",
    "logs_funnel = logs_funnel.head(4)\n",
    "\n",
    "# Строим воронку событий, добавив информацию о том, какая доля пользователей проходит на следующий шаг от первого и предыдущего\n",
    "fig = go.Figure(go.Funnel(\n",
    "    y = logs_funnel['event_name'],\n",
    "    x = logs_funnel['num_of_users'],\n",
    "    textposition = \"inside\",\n",
    "    textinfo = \"value+percent initial+percent previous\"\n",
    "))\n",
    "\n",
    "# Добавим настройки и выведем график\n",
    "fig.update_layout(\n",
    "    title='Воронка по числу пользователей, доли прошедших с первого шага и доли прошедших с предыдущего шага',\n",
    "    yaxis_title=\"Шаги\",\n",
    "    font=dict(size=11)\n",
    ")\n",
    "\n",
    "# Выводим график\n",
    "fig.show()"
   ]
  },
  {
   "cell_type": "markdown",
   "metadata": {},
   "source": [
    "<img src=\"https://ltdfoto.ru/images/2023/07/10/newplot-1.png\" alt=\"newplot-1.png\" border=\"0\" />"
   ]
  },
  {
   "cell_type": "code",
   "execution_count": 27,
   "metadata": {},
   "outputs": [
    {
     "data": {
      "text/html": [
       "<div>\n",
       "<style scoped>\n",
       "    .dataframe tbody tr th:only-of-type {\n",
       "        vertical-align: middle;\n",
       "    }\n",
       "\n",
       "    .dataframe tbody tr th {\n",
       "        vertical-align: top;\n",
       "    }\n",
       "\n",
       "    .dataframe thead th {\n",
       "        text-align: right;\n",
       "    }\n",
       "</style>\n",
       "<table border=\"1\" class=\"dataframe\">\n",
       "  <thead>\n",
       "    <tr style=\"text-align: right;\">\n",
       "      <th></th>\n",
       "      <th>event_name</th>\n",
       "      <th>num_of_users</th>\n",
       "      <th>share_of_event_among_users</th>\n",
       "      <th>share_of_previous_step</th>\n",
       "      <th>share_of_initial_step</th>\n",
       "    </tr>\n",
       "  </thead>\n",
       "  <tbody>\n",
       "    <tr>\n",
       "      <th>1</th>\n",
       "      <td>MainScreenAppear</td>\n",
       "      <td>7419</td>\n",
       "      <td>98.47%</td>\n",
       "      <td>100.00%</td>\n",
       "      <td>100.00%</td>\n",
       "    </tr>\n",
       "    <tr>\n",
       "      <th>2</th>\n",
       "      <td>OffersScreenAppear</td>\n",
       "      <td>4593</td>\n",
       "      <td>60.96%</td>\n",
       "      <td>61.91%</td>\n",
       "      <td>61.91%</td>\n",
       "    </tr>\n",
       "    <tr>\n",
       "      <th>0</th>\n",
       "      <td>CartScreenAppear</td>\n",
       "      <td>3734</td>\n",
       "      <td>49.56%</td>\n",
       "      <td>81.30%</td>\n",
       "      <td>50.33%</td>\n",
       "    </tr>\n",
       "    <tr>\n",
       "      <th>3</th>\n",
       "      <td>PaymentScreenSuccessful</td>\n",
       "      <td>3539</td>\n",
       "      <td>46.97%</td>\n",
       "      <td>94.78%</td>\n",
       "      <td>47.70%</td>\n",
       "    </tr>\n",
       "  </tbody>\n",
       "</table>\n",
       "</div>"
      ],
      "text/plain": [
       "                event_name  num_of_users share_of_event_among_users  \\\n",
       "1         MainScreenAppear          7419                     98.47%   \n",
       "2       OffersScreenAppear          4593                     60.96%   \n",
       "0         CartScreenAppear          3734                     49.56%   \n",
       "3  PaymentScreenSuccessful          3539                     46.97%   \n",
       "\n",
       "  share_of_previous_step share_of_initial_step  \n",
       "1                100.00%               100.00%  \n",
       "2                 61.91%                61.91%  \n",
       "0                 81.30%                50.33%  \n",
       "3                 94.78%                47.70%  "
      ]
     },
     "execution_count": 27,
     "metadata": {},
     "output_type": "execute_result"
    }
   ],
   "source": [
    "# Оставим необходимые колонки\n",
    "logs_funnel_ratio = logs_funnel[['event_name','num_of_users','share_of_event_among_users']]\n",
    "\n",
    "# Рассчитаем долю пользователей прошедших на следующий шаг с предыдущего\n",
    "logs_funnel_ratio['share_of_previous_step'] = (logs_funnel_ratio['num_of_users']/logs_funnel_ratio['num_of_users'] \\\n",
    "                                                                            .shift(1,fill_value =7419)*100).map('{:.2f}%'.format)\n",
    "# Рассчитаем долю пользователей прошедших на следующий шаг с первого\n",
    "logs_funnel_ratio['share_of_initial_step'] = (logs_funnel_ratio['num_of_users']/logs_funnel_ratio['num_of_users'].max()*100) \\\n",
    "                                                                                                            .map('{:.2f}%'.format)\n",
    "\n",
    "# Выведем результат\n",
    "logs_funnel_ratio"
   ]
  },
  {
   "cell_type": "markdown",
   "metadata": {},
   "source": [
    "**Вывод:**\n",
    "\n",
    "Исходя из графика воронки событий, мы видим, что:\n",
    "\n",
    "- Больше всего пользователей теряются на 2 шаге (около `38%`), недостаточно информации для ответа на вопрос о причинах такого явления, как вариант, это могут быть проблемы технического характера приложения, но при этом в остальных шагах, по сравнению со 2 мы наблюдаем относительно минимальные потери пользователей (примерно `19%` в 3 шаге и всего `5%` в 4 шаге).\n",
    "\n",
    "\n",
    "- Около `48%` или `3539` пользователей из первого шага доходят до успешной оплаты заказа, что можно считать вполне успешным показателем (практически каждый 2 пользователь, увидевший главное меню, совершает покупку в нашем приложении)"
   ]
  },
  {
   "cell_type": "code",
   "execution_count": 28,
   "metadata": {
    "scrolled": true
   },
   "outputs": [
    {
     "data": {
      "text/html": [
       "<div>\n",
       "<style scoped>\n",
       "    .dataframe tbody tr th:only-of-type {\n",
       "        vertical-align: middle;\n",
       "    }\n",
       "\n",
       "    .dataframe tbody tr th {\n",
       "        vertical-align: top;\n",
       "    }\n",
       "\n",
       "    .dataframe thead th {\n",
       "        text-align: right;\n",
       "    }\n",
       "</style>\n",
       "<table border=\"1\" class=\"dataframe\">\n",
       "  <thead>\n",
       "    <tr style=\"text-align: right;\">\n",
       "      <th></th>\n",
       "      <th>event_name</th>\n",
       "      <th>246</th>\n",
       "      <th>247</th>\n",
       "      <th>248</th>\n",
       "    </tr>\n",
       "  </thead>\n",
       "  <tbody>\n",
       "    <tr>\n",
       "      <th>1</th>\n",
       "      <td>MainScreenAppear</td>\n",
       "      <td>2450</td>\n",
       "      <td>2476</td>\n",
       "      <td>2493</td>\n",
       "    </tr>\n",
       "    <tr>\n",
       "      <th>2</th>\n",
       "      <td>OffersScreenAppear</td>\n",
       "      <td>1542</td>\n",
       "      <td>1520</td>\n",
       "      <td>1531</td>\n",
       "    </tr>\n",
       "    <tr>\n",
       "      <th>0</th>\n",
       "      <td>CartScreenAppear</td>\n",
       "      <td>1266</td>\n",
       "      <td>1238</td>\n",
       "      <td>1230</td>\n",
       "    </tr>\n",
       "    <tr>\n",
       "      <th>3</th>\n",
       "      <td>PaymentScreenSuccessful</td>\n",
       "      <td>1200</td>\n",
       "      <td>1158</td>\n",
       "      <td>1181</td>\n",
       "    </tr>\n",
       "  </tbody>\n",
       "</table>\n",
       "</div>"
      ],
      "text/plain": [
       "                event_name   246   247   248\n",
       "1         MainScreenAppear  2450  2476  2493\n",
       "2       OffersScreenAppear  1542  1520  1531\n",
       "0         CartScreenAppear  1266  1238  1230\n",
       "3  PaymentScreenSuccessful  1200  1158  1181"
      ]
     },
     "execution_count": 28,
     "metadata": {},
     "output_type": "execute_result"
    }
   ],
   "source": [
    "# Было бы интересно посмотреть на разницу воронок событий в разрезе каждой группы, для этого подготовим дф с необходимой информацией\n",
    "\n",
    "logs_pivot = (\n",
    "    logs_new.query('event_name != \"Tutorial\"')\n",
    "    .pivot_table(index='event_name', \n",
    "                 columns='exp_id', \n",
    "                 values= 'device_id_hash', \n",
    "                 aggfunc='nunique')\n",
    "    .reset_index()\n",
    "    .sort_values(by=246,ascending=False)\n",
    "    \n",
    "\n",
    ")\n",
    "\n",
    "logs_pivot.columns = ['event_name',246,247,248]\n",
    "logs_pivot"
   ]
  },
  {
   "cell_type": "markdown",
   "metadata": {},
   "source": [
    "**Вывод:**\n",
    "\n",
    "По каждой из групп мы видим, что наиболее популярным событием так же как и при расчетах без разбивки является `MainScreenAppear`, и в целом, последовательность событий не имеет никаких различий."
   ]
  },
  {
   "cell_type": "code",
   "execution_count": null,
   "metadata": {
    "scrolled": false
   },
   "outputs": [],
   "source": [
    "# Строим воронку событий для каждой группы\n",
    "fig = go.Figure()\n",
    "\n",
    "fig.add_trace(go.Funnel(\n",
    "    name = '246 группа',\n",
    "    y = logs_pivot['event_name'],\n",
    "    x = logs_pivot[246],\n",
    "    textinfo = \"value+percent initial+percent previous\"))\n",
    "\n",
    "fig.add_trace(go.Funnel(\n",
    "    name = '247 группа',\n",
    "    y = logs_pivot['event_name'],\n",
    "    x = logs_pivot[247],\n",
    "    textposition = \"inside\",\n",
    "    textinfo = \"value+percent initial+percent previous\"))\n",
    "\n",
    "fig.add_trace(go.Funnel(\n",
    "    name = '248 группа',\n",
    "    y = logs_pivot['event_name'],\n",
    "    x = logs_pivot[248],\n",
    "    textposition = \"inside\",\n",
    "    textinfo = \"value+percent initial+percent previous\"))\n",
    "\n",
    "# Добавим настройки и выведем график\n",
    "\n",
    "fig.update_layout(\n",
    "    title='Воронка по числу пользователей, доли прошедших с первого шага и доли прошедших с предыдущего шага (группы)',\n",
    "    yaxis_title=\"Шаги\",\n",
    "    font=dict(size=11)\n",
    ")\n",
    "\n",
    "# Выводим график\n",
    "fig.show()"
   ]
  },
  {
   "cell_type": "markdown",
   "metadata": {},
   "source": [
    "<img src=\"https://ltdfoto.ru/images/2023/07/10/newplot.png\" alt=\"newplot.png\" border=\"0\" />"
   ]
  },
  {
   "cell_type": "markdown",
   "metadata": {},
   "source": [
    "**Вывод:**\n",
    "\n",
    "В разрезе групп мы видим практически идентичную картину, как и в общей воронке событий, поэтому, все что было сказано выше, актуально и для каждой группы в отдельности."
   ]
  },
  {
   "cell_type": "markdown",
   "metadata": {},
   "source": [
    "# Изучение результатов эксперимента"
   ]
  },
  {
   "cell_type": "markdown",
   "metadata": {},
   "source": [
    "## Изучаем данные по контрольным группам на корректность всех механизмов и расчетов"
   ]
  },
  {
   "cell_type": "markdown",
   "metadata": {},
   "source": [
    "Нам нужно выяснить есть ли статистически значимые отличия в долях пользователей соверших каждое из событий, сначала проведя `A/A тест`, затем `A/B тест` (сравнив экспериментальную `248` группы с контрольными `246` и `247` и объединенную контрольную соответсвтенно).\n",
    "\n",
    "Начнем с проведения `A/A теста`, перед этим определив критерий его успешного проведения.\n",
    "\n",
    "Критерии успешного `A/A-теста`: \n",
    "\n",
    "1. Попавший в одну из групп посетитель остаётся в этой группе до конца теста. Если пользователь видит разные версии исследуемой страницы в ходе одного исследования, неизвестно, какая именно повлияла на его решения. Значит, и результаты такого теста нельзя интерпретировать однозначно;\n",
    "2. Количество пользователей в различных группах различается не более, чем на `1%`;\n",
    "3. Различие ключевых метрик по группам не превышает `1%` и не имеет статистической значимости.\n",
    "\n",
    "Ранее в разделе `3.3` мы выяснили, что во всех 3 группах есть пользователи и в каждой из них они уникальные."
   ]
  },
  {
   "cell_type": "code",
   "execution_count": 30,
   "metadata": {
    "scrolled": true
   },
   "outputs": [
    {
     "name": "stdout",
     "output_type": "stream",
     "text": [
      "По количеству пользователей группа 247 превышает 246 на 1.17% или 29 человек. Будем считать это превышение в пределах нормы.\n"
     ]
    }
   ],
   "source": [
    "# Посмотрим на сколько отличается количество пользователей в группах 247 и 246\n",
    "\n",
    "diff = groups.loc[1,'users_count'] - groups.loc[0,'users_count'] \n",
    "diff_ratio = round((groups.loc[1,'users_count']/groups.loc[0,'users_count']*100)-100,2).astype(str) + '%'\n",
    "print(f'По количеству пользователей группа 247 превышает 246 на {diff_ratio} или {diff} человек. '\n",
    "      f'Будем считать это превышение в пределах нормы.')"
   ]
  },
  {
   "cell_type": "markdown",
   "metadata": {},
   "source": [
    "После проверки всех критериев нам осталось подготовить две таблицы, которые будут использоваться нашей функцией для проведения `A/A и A/B тестов`:\n",
    "\n",
    "1. Таблица с количеством уникальных пользователей по каждому событию (мы ее уже делали в разделе `4.2`) нам осталось лишь только добавить в нее колонку с объединенной контрольной группой;\n",
    "\n",
    "\n",
    "2. Таблица с количеством уникальных пользователей в каждой группе."
   ]
  },
  {
   "cell_type": "code",
   "execution_count": 31,
   "metadata": {},
   "outputs": [
    {
     "data": {
      "text/html": [
       "<div>\n",
       "<style scoped>\n",
       "    .dataframe tbody tr th:only-of-type {\n",
       "        vertical-align: middle;\n",
       "    }\n",
       "\n",
       "    .dataframe tbody tr th {\n",
       "        vertical-align: top;\n",
       "    }\n",
       "\n",
       "    .dataframe thead th {\n",
       "        text-align: right;\n",
       "    }\n",
       "</style>\n",
       "<table border=\"1\" class=\"dataframe\">\n",
       "  <thead>\n",
       "    <tr style=\"text-align: right;\">\n",
       "      <th></th>\n",
       "      <th>246</th>\n",
       "      <th>247</th>\n",
       "      <th>248</th>\n",
       "      <th>246+247</th>\n",
       "    </tr>\n",
       "    <tr>\n",
       "      <th>event_name</th>\n",
       "      <th></th>\n",
       "      <th></th>\n",
       "      <th></th>\n",
       "      <th></th>\n",
       "    </tr>\n",
       "  </thead>\n",
       "  <tbody>\n",
       "    <tr>\n",
       "      <th>MainScreenAppear</th>\n",
       "      <td>2450</td>\n",
       "      <td>2476</td>\n",
       "      <td>2493</td>\n",
       "      <td>4926</td>\n",
       "    </tr>\n",
       "    <tr>\n",
       "      <th>OffersScreenAppear</th>\n",
       "      <td>1542</td>\n",
       "      <td>1520</td>\n",
       "      <td>1531</td>\n",
       "      <td>3062</td>\n",
       "    </tr>\n",
       "    <tr>\n",
       "      <th>CartScreenAppear</th>\n",
       "      <td>1266</td>\n",
       "      <td>1238</td>\n",
       "      <td>1230</td>\n",
       "      <td>2504</td>\n",
       "    </tr>\n",
       "    <tr>\n",
       "      <th>PaymentScreenSuccessful</th>\n",
       "      <td>1200</td>\n",
       "      <td>1158</td>\n",
       "      <td>1181</td>\n",
       "      <td>2358</td>\n",
       "    </tr>\n",
       "  </tbody>\n",
       "</table>\n",
       "</div>"
      ],
      "text/plain": [
       "                          246   247   248  246+247\n",
       "event_name                                        \n",
       "MainScreenAppear         2450  2476  2493     4926\n",
       "OffersScreenAppear       1542  1520  1531     3062\n",
       "CartScreenAppear         1266  1238  1230     2504\n",
       "PaymentScreenSuccessful  1200  1158  1181     2358"
      ]
     },
     "execution_count": 31,
     "metadata": {},
     "output_type": "execute_result"
    }
   ],
   "source": [
    "# Добавляем колонку с объединенной контрольной группой\n",
    "\n",
    "logs_pivot['246+247'] = logs_pivot[246] + logs_pivot[247]\n",
    "logs_pivot.set_index('event_name', inplace=True)\n",
    "logs_pivot"
   ]
  },
  {
   "cell_type": "code",
   "execution_count": 32,
   "metadata": {},
   "outputs": [
    {
     "data": {
      "text/html": [
       "<div>\n",
       "<style scoped>\n",
       "    .dataframe tbody tr th:only-of-type {\n",
       "        vertical-align: middle;\n",
       "    }\n",
       "\n",
       "    .dataframe tbody tr th {\n",
       "        vertical-align: top;\n",
       "    }\n",
       "\n",
       "    .dataframe thead th {\n",
       "        text-align: right;\n",
       "    }\n",
       "</style>\n",
       "<table border=\"1\" class=\"dataframe\">\n",
       "  <thead>\n",
       "    <tr style=\"text-align: right;\">\n",
       "      <th>exp_id</th>\n",
       "      <th>246</th>\n",
       "      <th>247</th>\n",
       "      <th>248</th>\n",
       "      <th>246+247</th>\n",
       "    </tr>\n",
       "  </thead>\n",
       "  <tbody>\n",
       "    <tr>\n",
       "      <th>device_id_hash</th>\n",
       "      <td>2483</td>\n",
       "      <td>2512</td>\n",
       "      <td>2535</td>\n",
       "      <td>4995</td>\n",
       "    </tr>\n",
       "  </tbody>\n",
       "</table>\n",
       "</div>"
      ],
      "text/plain": [
       "exp_id           246   247   248  246+247\n",
       "device_id_hash  2483  2512  2535     4995"
      ]
     },
     "execution_count": 32,
     "metadata": {},
     "output_type": "execute_result"
    }
   ],
   "source": [
    "# Создаем таблицу с кол-вом уникальных пользователей в каждой группе\n",
    "\n",
    "logs_pivot_users = (\n",
    "    logs_new.query('event_name != \"Tutorial\"')\n",
    "    .pivot_table(columns='exp_id', \n",
    "                 values= 'device_id_hash', \n",
    "                 aggfunc='nunique').sort_values(by=246,ascending=False)\n",
    ")\n",
    "logs_pivot_users['246+247'] = logs_pivot_users[246] + logs_pivot_users[247]\n",
    "logs_pivot_users"
   ]
  },
  {
   "cell_type": "markdown",
   "metadata": {},
   "source": [
    "## Проведение A/A и A/B тестов"
   ]
  },
  {
   "cell_type": "markdown",
   "metadata": {},
   "source": [
    "Перед проведением тестов сформулируем гипотезы:\n",
    "\n",
    "- **H₀ (нулевая гипотеза)** - различий между долями групп нет;\n",
    "- **H₁ (альтернативная гипотеза)** - различия между долями групп есть\n"
   ]
  },
  {
   "cell_type": "markdown",
   "metadata": {},
   "source": [
    "\n",
    "Для проверки гипотез будет использоваться `z-критерий`, но так как мы проводим множественное сравнение (4 `A/A теста` и 12 `A/B тестов`) мы будем использовать критичекий уровень статистической значимости с учетом `поправки Бонферрони` (в нашем случае делить на `16`).\n",
    "\n",
    "Создадим функцию, которая будет проверять наши гипотезы с учетом `поправки Бонферрони` и далее проведем все тесты."
   ]
  },
  {
   "cell_type": "code",
   "execution_count": 33,
   "metadata": {},
   "outputs": [],
   "source": [
    "def test(group1, group2, event):\n",
    "    \n",
    "    alpha = .05/16 # критический уровень статистической значимости с учетом поправки Бонферрони\n",
    "    \n",
    "    successes = np.array([logs_pivot.loc[event,group1], logs_pivot.loc[event,group2]])\n",
    "    trials = np.array([logs_pivot_users.loc['device_id_hash',group1], logs_pivot_users.loc['device_id_hash',group2]])\n",
    "    \n",
    "    # пропорция успехов в первой группе:\n",
    "    p1 = successes[0]/trials[0]\n",
    "    \n",
    "    # пропорция успехов во второй группе:\n",
    "    p2 = successes[1]/trials[1]\n",
    "    \n",
    "    # пропорция успехов в комбинированном датасете:\n",
    "    p_combined = (successes[0] + successes[1]) / (trials[0] + trials[1])\n",
    "    \n",
    "    # разница пропорций в датасетах\n",
    "    difference = p1 - p2 \n",
    "    \n",
    "    # считаем статистику в ст.отклонениях стандартного нормального распределения\n",
    "    z_value = difference / mth.sqrt(p_combined * (1 - p_combined) * (1/trials[0] + 1/trials[1]))\n",
    "    \n",
    "    # задаем стандартное нормальное распределение (среднее 0, ст.отклонение 1)\n",
    "    distr = st.norm(0, 1) \n",
    "    p_value = (1 - distr.cdf(abs(z_value))) * 2\n",
    "    \n",
    "    print(f'Проверка для групп {group1} и {group2}, событие: {event}, p-значение: {p_value}')\n",
    "    \n",
    "    if (p_value < alpha):\n",
    "        print(\"Отвергаем нулевую гипотезу о равенстве долей в группах\")\n",
    "    else:\n",
    "        print(\"Не получилось отвергнуть нулевую гипотезу о равенстве долей в группах\")"
   ]
  },
  {
   "cell_type": "code",
   "execution_count": 34,
   "metadata": {
    "scrolled": true
   },
   "outputs": [
    {
     "name": "stdout",
     "output_type": "stream",
     "text": [
      "Проверка для групп 246 и 247, событие: MainScreenAppear, p-значение: 0.7526703436483038\n",
      "Не получилось отвергнуть нулевую гипотезу о равенстве долей в группах\n",
      "\n",
      "Проверка для групп 246 и 247, событие: OffersScreenAppear, p-значение: 0.24786096925282264\n",
      "Не получилось отвергнуть нулевую гипотезу о равенстве долей в группах\n",
      "\n",
      "Проверка для групп 246 и 247, событие: CartScreenAppear, p-значение: 0.22867643757335676\n",
      "Не получилось отвергнуть нулевую гипотезу о равенстве долей в группах\n",
      "\n",
      "Проверка для групп 246 и 247, событие: PaymentScreenSuccessful, p-значение: 0.11446627829276612\n",
      "Не получилось отвергнуть нулевую гипотезу о равенстве долей в группах\n",
      "\n"
     ]
    }
   ],
   "source": [
    "# Проводим A/A тест между контрольными группами 246 и 247\n",
    "\n",
    "for event in logs_pivot.index:\n",
    "    test(246, 247, event)\n",
    "    print()"
   ]
  },
  {
   "cell_type": "markdown",
   "metadata": {},
   "source": [
    "**Вывод:**\n",
    "\n",
    "После проведения `A/A теста`, мы видим, что в контрольных группах `246` и `247` нет статистически значимой разницы в долях, а значит разбиение на группы работает корректно и дальнейший `A/B тест` должен показать достоверные результаты."
   ]
  },
  {
   "cell_type": "markdown",
   "metadata": {},
   "source": [
    "Теперь приступим к проведению `A/B теста`."
   ]
  },
  {
   "cell_type": "code",
   "execution_count": 35,
   "metadata": {},
   "outputs": [
    {
     "name": "stdout",
     "output_type": "stream",
     "text": [
      "Проверка для групп 246 и 248, событие: MainScreenAppear, p-значение: 0.3387114076159288\n",
      "Не получилось отвергнуть нулевую гипотезу о равенстве долей в группах\n",
      "\n",
      "Проверка для групп 246 и 248, событие: OffersScreenAppear, p-значение: 0.21442476639710506\n",
      "Не получилось отвергнуть нулевую гипотезу о равенстве долей в группах\n",
      "\n",
      "Проверка для групп 246 и 248, событие: CartScreenAppear, p-значение: 0.08067367598823139\n",
      "Не получилось отвергнуть нулевую гипотезу о равенстве долей в группах\n",
      "\n",
      "Проверка для групп 246 и 248, событие: PaymentScreenSuccessful, p-значение: 0.21693033984516674\n",
      "Не получилось отвергнуть нулевую гипотезу о равенстве долей в группах\n",
      "\n"
     ]
    }
   ],
   "source": [
    "# A/B тест контрольной группы 246 и экспериментальной 248\n",
    "\n",
    "for event in logs_pivot.index:\n",
    "    test(246, 248, event)\n",
    "    print()"
   ]
  },
  {
   "cell_type": "code",
   "execution_count": 36,
   "metadata": {},
   "outputs": [
    {
     "name": "stdout",
     "output_type": "stream",
     "text": [
      "Проверка для групп 247 и 248, событие: MainScreenAppear, p-значение: 0.5194964354051703\n",
      "Не получилось отвергнуть нулевую гипотезу о равенстве долей в группах\n",
      "\n",
      "Проверка для групп 247 и 248, событие: OffersScreenAppear, p-значение: 0.9333751305879443\n",
      "Не получилось отвергнуть нулевую гипотезу о равенстве долей в группах\n",
      "\n",
      "Проверка для групп 247 и 248, событие: CartScreenAppear, p-значение: 0.5878284605111943\n",
      "Не получилось отвергнуть нулевую гипотезу о равенстве долей в группах\n",
      "\n",
      "Проверка для групп 247 и 248, событие: PaymentScreenSuccessful, p-значение: 0.7275718682261119\n",
      "Не получилось отвергнуть нулевую гипотезу о равенстве долей в группах\n",
      "\n"
     ]
    }
   ],
   "source": [
    "# A/B тест контрольной группы 247 и экспериментальной 248\n",
    "\n",
    "for event in logs_pivot.index:\n",
    "    test(247, 248, event)\n",
    "    print()"
   ]
  },
  {
   "cell_type": "code",
   "execution_count": 37,
   "metadata": {},
   "outputs": [
    {
     "name": "stdout",
     "output_type": "stream",
     "text": [
      "Проверка для групп 246+247 и 248, событие: MainScreenAppear, p-значение: 0.3486684291093256\n",
      "Не получилось отвергнуть нулевую гипотезу о равенстве долей в группах\n",
      "\n",
      "Проверка для групп 246+247 и 248, событие: OffersScreenAppear, p-значение: 0.44582745409482394\n",
      "Не получилось отвергнуть нулевую гипотезу о равенстве долей в группах\n",
      "\n",
      "Проверка для групп 246+247 и 248, событие: CartScreenAppear, p-значение: 0.18683558686831558\n",
      "Не получилось отвергнуть нулевую гипотезу о равенстве долей в группах\n",
      "\n",
      "Проверка для групп 246+247 и 248, событие: PaymentScreenSuccessful, p-значение: 0.6107918742187335\n",
      "Не получилось отвергнуть нулевую гипотезу о равенстве долей в группах\n",
      "\n"
     ]
    }
   ],
   "source": [
    "# A/B тест объединенной контрольной группы 246+247 и экспериментальной 248\n",
    "\n",
    "for event in logs_pivot.index:\n",
    "    test('246+247', 248, event)\n",
    "    print()"
   ]
  },
  {
   "cell_type": "markdown",
   "metadata": {},
   "source": [
    "**Вывод:**\n",
    "\n",
    "После проведения `A/B тестов` между экспериментальной, двумя контрольными и объединенной контрольной группой, мы видим, что во всех тестах статистически значимых отличий в долях не наблюдается, а это значит, что изменение шрифта в приложении **не повлияло** на поведение пользователей."
   ]
  },
  {
   "cell_type": "markdown",
   "metadata": {},
   "source": [
    "# Общий вывод"
   ]
  },
  {
   "cell_type": "markdown",
   "metadata": {},
   "source": [
    "В ходе нашего исследования мы проделали следующие шаги:\n",
    "\n",
    "1. Познакомились и предобработали данные;\n",
    "2. Сделали проверку данных;\n",
    "3. Изучили воронку событий;\n",
    "4. Провели A/A и A/B тесты.\n",
    "\n",
    "Подытожим результаты нашего исследования:\n",
    "\n",
    "1. В нашем логе более `243 тысяч` событий, `7551` уникальных пользователей, где на каждого в среднем приходится около `20` событий;\n",
    "\n",
    "\n",
    "2. Эксперимент проводился с `25 июля` по `7 августа`, в ходе анализа, мы выяснили, что полные данные предоставлены только за период с `1` по `7 августа`, поэтому было решено исследовать только данный промежуток времени, потеряв при этом более `1%` событий и менее `0.5%` уникальных пользователей;\n",
    "\n",
    "\n",
    "3. Самым популярным событием было `MainScreenAppear` (взаимодествие с главным экраном), в среднем более `98%` совершали это действие. Воронка событий выглядела следующим образом:\n",
    "\n",
    "    - `MainScreenAppear` - пользователь увидел главное меню приложения (совершило 98.47% пользователей)\n",
    "    \n",
    "    - `OffersScreenAppear` - пользователь увидел каталог/предложения с товарами (совершило 60.96% пользователей)\n",
    "    - `CartScreenAppear` - пользователь увидел экран с корзиной (совершило 49.56% пользователей)\n",
    "    - `PaymentScreenSuccessful` - пользователь увидел экран завершенной покупки (совершило 46.97% пользователей)\n",
    "    \n",
    "    \n",
    "4. Больше всего пользователей терялось на шаге `OffersScreenAppear` (`38%` от от общего количества). До успешной оплаты добирались практически `50%` пользователей (практически каждый второй пользователь совершал покупку в нашем приложении);\n",
    "\n",
    "\n",
    "5. По результатам `A/A теста` между двумя контрольными группами не оказалось статистически значимых различий;\n",
    "\n",
    "\n",
    "6. По результатам `A/B тестов` также не было выявлено статистически значимых различий, что говорит нам о том, что изменение шрифта **не привело** к кардинальным изменениям в поведении пользователей\n",
    "\n",
    "**Рекомендации:** \n",
    "\n",
    "- Если есть такая возможность, то можно попробовать повторить данное тестирование, но при этом провести его в течение более длительного срока, чтобы убедиться в том, что различий по конверсии в группах действительно не наблюдается и что текущий результат не был получен случайным образом;\n",
    "\n",
    "\n",
    "\n",
    "- Если такой возможности нет, то, в целом, можно как оставить так и отказаться от нового шрифта, так как по результатам `А/В-теста` он никак не ухудшил пользовательский опыт."
   ]
  }
 ],
 "metadata": {
  "ExecuteTimeLog": [
   {
    "duration": 428,
    "start_time": "2023-01-18T14:25:24.903Z"
   },
   {
    "duration": 100,
    "start_time": "2023-01-18T14:25:57.016Z"
   },
   {
    "duration": 861,
    "start_time": "2023-01-18T14:26:07.384Z"
   },
   {
    "duration": 603,
    "start_time": "2023-01-18T14:26:18.912Z"
   },
   {
    "duration": 152,
    "start_time": "2023-01-18T14:26:27.733Z"
   },
   {
    "duration": 943,
    "start_time": "2023-01-18T17:47:10.000Z"
   },
   {
    "duration": 183,
    "start_time": "2023-01-18T17:47:11.927Z"
   },
   {
    "duration": 6,
    "start_time": "2023-01-18T17:47:16.708Z"
   },
   {
    "duration": 153,
    "start_time": "2023-01-18T17:47:51.474Z"
   },
   {
    "duration": 168,
    "start_time": "2023-01-18T17:48:08.814Z"
   },
   {
    "duration": 139,
    "start_time": "2023-01-18T17:48:42.485Z"
   },
   {
    "duration": 6,
    "start_time": "2023-01-18T17:50:54.939Z"
   },
   {
    "duration": 177,
    "start_time": "2023-01-18T17:51:00.943Z"
   },
   {
    "duration": 7,
    "start_time": "2023-01-18T17:51:20.289Z"
   },
   {
    "duration": 165,
    "start_time": "2023-01-18T17:51:27.607Z"
   },
   {
    "duration": 97,
    "start_time": "2023-01-18T17:51:46.117Z"
   },
   {
    "duration": 168,
    "start_time": "2023-01-18T17:51:49.284Z"
   },
   {
    "duration": 5,
    "start_time": "2023-01-18T17:52:22.933Z"
   },
   {
    "duration": 165,
    "start_time": "2023-01-18T17:52:23.249Z"
   },
   {
    "duration": 5,
    "start_time": "2023-01-18T17:52:32.928Z"
   },
   {
    "duration": 169,
    "start_time": "2023-01-18T17:52:33.264Z"
   },
   {
    "duration": 5,
    "start_time": "2023-01-18T17:52:40.582Z"
   },
   {
    "duration": 177,
    "start_time": "2023-01-18T17:52:40.882Z"
   },
   {
    "duration": 5,
    "start_time": "2023-01-18T17:52:55.116Z"
   },
   {
    "duration": 178,
    "start_time": "2023-01-18T17:52:55.553Z"
   },
   {
    "duration": 71,
    "start_time": "2023-01-18T17:53:21.293Z"
   },
   {
    "duration": 181,
    "start_time": "2023-01-18T17:53:21.926Z"
   },
   {
    "duration": 6,
    "start_time": "2023-01-18T17:53:40.189Z"
   },
   {
    "duration": 175,
    "start_time": "2023-01-18T17:53:40.705Z"
   },
   {
    "duration": 5,
    "start_time": "2023-01-18T17:53:47.190Z"
   },
   {
    "duration": 181,
    "start_time": "2023-01-18T17:53:47.614Z"
   },
   {
    "duration": 5,
    "start_time": "2023-01-18T17:55:30.593Z"
   },
   {
    "duration": 4,
    "start_time": "2023-01-18T17:55:34.127Z"
   },
   {
    "duration": 10,
    "start_time": "2023-01-18T18:07:32.819Z"
   },
   {
    "duration": 3,
    "start_time": "2023-01-18T18:08:58.084Z"
   },
   {
    "duration": 57,
    "start_time": "2023-01-18T18:09:34.939Z"
   },
   {
    "duration": 126,
    "start_time": "2023-01-18T18:09:50.014Z"
   },
   {
    "duration": 52,
    "start_time": "2023-01-18T18:09:56.473Z"
   },
   {
    "duration": 1136,
    "start_time": "2023-01-18T18:12:42.606Z"
   },
   {
    "duration": 43,
    "start_time": "2023-01-18T18:13:00.482Z"
   },
   {
    "duration": 21,
    "start_time": "2023-01-18T18:13:05.288Z"
   },
   {
    "duration": 28,
    "start_time": "2023-01-18T18:13:13.606Z"
   },
   {
    "duration": 36,
    "start_time": "2023-01-18T18:13:33.504Z"
   },
   {
    "duration": 18,
    "start_time": "2023-01-18T18:13:41.514Z"
   },
   {
    "duration": 76,
    "start_time": "2023-01-18T18:13:59.191Z"
   },
   {
    "duration": 11,
    "start_time": "2023-01-18T18:19:15.064Z"
   },
   {
    "duration": 30,
    "start_time": "2023-01-18T18:19:19.010Z"
   },
   {
    "duration": 10,
    "start_time": "2023-01-18T18:19:24.218Z"
   },
   {
    "duration": 72,
    "start_time": "2023-01-18T18:19:45.063Z"
   },
   {
    "duration": 1140,
    "start_time": "2023-01-18T18:20:16.049Z"
   },
   {
    "duration": 149,
    "start_time": "2023-01-18T18:20:17.191Z"
   },
   {
    "duration": 6,
    "start_time": "2023-01-18T18:20:17.342Z"
   },
   {
    "duration": 222,
    "start_time": "2023-01-18T18:20:17.349Z"
   },
   {
    "duration": 2,
    "start_time": "2023-01-18T18:20:17.573Z"
   },
   {
    "duration": 75,
    "start_time": "2023-01-18T18:20:17.577Z"
   },
   {
    "duration": 9,
    "start_time": "2023-01-18T18:20:17.654Z"
   },
   {
    "duration": 82,
    "start_time": "2023-01-18T18:20:19.526Z"
   },
   {
    "duration": 73,
    "start_time": "2023-01-18T18:20:27.130Z"
   },
   {
    "duration": 25,
    "start_time": "2023-01-18T18:21:28.062Z"
   },
   {
    "duration": 71,
    "start_time": "2023-01-18T18:33:22.812Z"
   },
   {
    "duration": 44,
    "start_time": "2023-01-18T18:33:26.372Z"
   },
   {
    "duration": 30,
    "start_time": "2023-01-18T18:34:11.081Z"
   },
   {
    "duration": 29,
    "start_time": "2023-01-18T18:34:16.838Z"
   },
   {
    "duration": 34,
    "start_time": "2023-01-18T18:35:00.968Z"
   },
   {
    "duration": 30,
    "start_time": "2023-01-18T18:35:54.822Z"
   },
   {
    "duration": 33,
    "start_time": "2023-01-18T18:36:05.727Z"
   },
   {
    "duration": 30,
    "start_time": "2023-01-18T18:36:18.795Z"
   },
   {
    "duration": 88,
    "start_time": "2023-01-18T18:37:48.993Z"
   },
   {
    "duration": 1219,
    "start_time": "2023-01-18T18:37:58.888Z"
   },
   {
    "duration": 6,
    "start_time": "2023-01-18T18:38:20.968Z"
   },
   {
    "duration": 71,
    "start_time": "2023-01-18T18:39:16.321Z"
   },
   {
    "duration": 77,
    "start_time": "2023-01-18T18:39:35.462Z"
   },
   {
    "duration": 84,
    "start_time": "2023-01-18T18:39:44.565Z"
   },
   {
    "duration": 73,
    "start_time": "2023-01-18T18:39:50.041Z"
   },
   {
    "duration": 21,
    "start_time": "2023-01-18T18:40:08.492Z"
   },
   {
    "duration": 8,
    "start_time": "2023-01-18T18:40:28.504Z"
   },
   {
    "duration": 6,
    "start_time": "2023-01-18T18:41:08.857Z"
   },
   {
    "duration": 5,
    "start_time": "2023-01-18T18:41:42.723Z"
   },
   {
    "duration": 29,
    "start_time": "2023-01-18T21:27:15.261Z"
   },
   {
    "duration": 26,
    "start_time": "2023-01-18T21:28:30.700Z"
   },
   {
    "duration": 109,
    "start_time": "2023-01-18T21:29:32.646Z"
   },
   {
    "duration": 50,
    "start_time": "2023-01-18T21:29:38.798Z"
   },
   {
    "duration": 4,
    "start_time": "2023-01-18T21:31:42.657Z"
   },
   {
    "duration": 51,
    "start_time": "2023-01-18T21:31:45.642Z"
   },
   {
    "duration": 4,
    "start_time": "2023-01-18T21:33:22.784Z"
   },
   {
    "duration": 44,
    "start_time": "2023-01-18T21:33:31.175Z"
   },
   {
    "duration": 4,
    "start_time": "2023-01-18T21:33:43.724Z"
   },
   {
    "duration": 45,
    "start_time": "2023-01-18T21:33:58.368Z"
   },
   {
    "duration": 44,
    "start_time": "2023-01-18T21:36:28.062Z"
   },
   {
    "duration": 258,
    "start_time": "2023-01-18T21:39:49.422Z"
   },
   {
    "duration": 228,
    "start_time": "2023-01-18T21:40:36.037Z"
   },
   {
    "duration": 291,
    "start_time": "2023-01-18T21:41:00.412Z"
   },
   {
    "duration": 239,
    "start_time": "2023-01-18T21:41:04.405Z"
   },
   {
    "duration": 268,
    "start_time": "2023-01-18T21:41:26.360Z"
   },
   {
    "duration": 317,
    "start_time": "2023-01-18T21:41:29.618Z"
   },
   {
    "duration": 251,
    "start_time": "2023-01-18T21:42:02.956Z"
   },
   {
    "duration": 185,
    "start_time": "2023-01-18T21:42:07.866Z"
   },
   {
    "duration": 219,
    "start_time": "2023-01-18T21:42:17.813Z"
   },
   {
    "duration": 218,
    "start_time": "2023-01-18T21:42:34.781Z"
   },
   {
    "duration": 206,
    "start_time": "2023-01-18T21:42:48.710Z"
   },
   {
    "duration": 64,
    "start_time": "2023-01-18T21:43:43.073Z"
   },
   {
    "duration": 209,
    "start_time": "2023-01-18T21:43:48.190Z"
   },
   {
    "duration": 236,
    "start_time": "2023-01-18T21:45:14.991Z"
   },
   {
    "duration": 215,
    "start_time": "2023-01-18T21:45:23.178Z"
   },
   {
    "duration": 219,
    "start_time": "2023-01-18T21:45:55.927Z"
   },
   {
    "duration": 316,
    "start_time": "2023-01-18T21:46:25.118Z"
   },
   {
    "duration": 219,
    "start_time": "2023-01-18T21:46:45.826Z"
   },
   {
    "duration": 3,
    "start_time": "2023-01-18T21:54:46.761Z"
   },
   {
    "duration": 176,
    "start_time": "2023-01-18T21:54:46.768Z"
   },
   {
    "duration": 6,
    "start_time": "2023-01-18T21:54:46.946Z"
   },
   {
    "duration": 240,
    "start_time": "2023-01-18T21:54:46.954Z"
   },
   {
    "duration": 3,
    "start_time": "2023-01-18T21:54:47.197Z"
   },
   {
    "duration": 80,
    "start_time": "2023-01-18T21:54:47.202Z"
   },
   {
    "duration": 7,
    "start_time": "2023-01-18T21:54:47.284Z"
   },
   {
    "duration": 88,
    "start_time": "2023-01-18T21:54:47.293Z"
   },
   {
    "duration": 55,
    "start_time": "2023-01-18T21:54:47.383Z"
   },
   {
    "duration": 8,
    "start_time": "2023-01-18T21:54:47.440Z"
   },
   {
    "duration": 23,
    "start_time": "2023-01-18T21:54:47.450Z"
   },
   {
    "duration": 69,
    "start_time": "2023-01-18T21:54:47.475Z"
   },
   {
    "duration": 221,
    "start_time": "2023-01-18T21:54:51.866Z"
   },
   {
    "duration": 322,
    "start_time": "2023-01-18T22:12:34.148Z"
   },
   {
    "duration": 44,
    "start_time": "2023-01-18T22:13:19.082Z"
   },
   {
    "duration": 84,
    "start_time": "2023-01-18T22:13:38.691Z"
   },
   {
    "duration": 74,
    "start_time": "2023-01-18T22:14:50.410Z"
   },
   {
    "duration": 27,
    "start_time": "2023-01-18T22:15:02.399Z"
   },
   {
    "duration": 28,
    "start_time": "2023-01-18T22:15:08.938Z"
   },
   {
    "duration": 24,
    "start_time": "2023-01-18T22:15:19.760Z"
   },
   {
    "duration": 23,
    "start_time": "2023-01-18T22:15:42.200Z"
   },
   {
    "duration": 10,
    "start_time": "2023-01-18T22:16:15.579Z"
   },
   {
    "duration": 9,
    "start_time": "2023-01-18T22:16:25.239Z"
   },
   {
    "duration": 17,
    "start_time": "2023-01-18T22:16:41.247Z"
   },
   {
    "duration": 1548,
    "start_time": "2023-01-18T22:17:01.418Z"
   },
   {
    "duration": 24,
    "start_time": "2023-01-18T22:19:20.605Z"
   },
   {
    "duration": 12,
    "start_time": "2023-01-18T22:19:29.667Z"
   },
   {
    "duration": 21,
    "start_time": "2023-01-18T22:19:49.057Z"
   },
   {
    "duration": 11,
    "start_time": "2023-01-18T22:20:08.938Z"
   },
   {
    "duration": 21,
    "start_time": "2023-01-18T22:20:17.890Z"
   },
   {
    "duration": 31,
    "start_time": "2023-01-18T22:20:33.888Z"
   },
   {
    "duration": 304,
    "start_time": "2023-01-18T22:20:57.449Z"
   },
   {
    "duration": 30,
    "start_time": "2023-01-18T22:24:26.720Z"
   },
   {
    "duration": 298,
    "start_time": "2023-01-18T22:26:17.333Z"
   },
   {
    "duration": 280,
    "start_time": "2023-01-18T22:26:27.325Z"
   },
   {
    "duration": 15,
    "start_time": "2023-01-18T22:27:58.943Z"
   },
   {
    "duration": 19,
    "start_time": "2023-01-18T22:28:08.415Z"
   },
   {
    "duration": 9,
    "start_time": "2023-01-18T22:28:15.799Z"
   },
   {
    "duration": 15,
    "start_time": "2023-01-18T22:28:29.906Z"
   },
   {
    "duration": 75,
    "start_time": "2023-01-18T22:29:01.042Z"
   },
   {
    "duration": 20,
    "start_time": "2023-01-18T22:29:11.343Z"
   },
   {
    "duration": 17,
    "start_time": "2023-01-18T22:29:21.157Z"
   },
   {
    "duration": 20,
    "start_time": "2023-01-18T22:31:15.956Z"
   },
   {
    "duration": 11,
    "start_time": "2023-01-18T22:34:08.830Z"
   },
   {
    "duration": 13,
    "start_time": "2023-01-18T22:36:42.249Z"
   },
   {
    "duration": 14,
    "start_time": "2023-01-18T22:38:02.148Z"
   },
   {
    "duration": 17,
    "start_time": "2023-01-18T22:38:11.453Z"
   },
   {
    "duration": 13,
    "start_time": "2023-01-18T22:38:47.219Z"
   },
   {
    "duration": 25,
    "start_time": "2023-01-18T22:40:30.324Z"
   },
   {
    "duration": 14,
    "start_time": "2023-01-18T22:40:35.531Z"
   },
   {
    "duration": 15,
    "start_time": "2023-01-18T22:40:50.798Z"
   },
   {
    "duration": 71,
    "start_time": "2023-01-18T22:42:09.174Z"
   },
   {
    "duration": 68,
    "start_time": "2023-01-18T22:42:17.107Z"
   },
   {
    "duration": 15,
    "start_time": "2023-01-18T22:42:19.825Z"
   },
   {
    "duration": 14,
    "start_time": "2023-01-18T22:42:33.084Z"
   },
   {
    "duration": 14,
    "start_time": "2023-01-18T22:42:47.531Z"
   },
   {
    "duration": 15,
    "start_time": "2023-01-18T22:43:02.735Z"
   },
   {
    "duration": 14,
    "start_time": "2023-01-18T22:44:32.935Z"
   },
   {
    "duration": 15,
    "start_time": "2023-01-18T22:54:21.364Z"
   },
   {
    "duration": 9,
    "start_time": "2023-01-18T22:55:08.783Z"
   },
   {
    "duration": 22,
    "start_time": "2023-01-18T22:55:16.636Z"
   },
   {
    "duration": 67,
    "start_time": "2023-01-18T22:57:41.394Z"
   },
   {
    "duration": 9,
    "start_time": "2023-01-18T22:58:11.297Z"
   },
   {
    "duration": 9,
    "start_time": "2023-01-18T22:59:18.496Z"
   },
   {
    "duration": 43,
    "start_time": "2023-01-18T23:00:25.865Z"
   },
   {
    "duration": 9,
    "start_time": "2023-01-18T23:01:19.206Z"
   },
   {
    "duration": 3,
    "start_time": "2023-01-18T23:01:50.878Z"
   },
   {
    "duration": 39,
    "start_time": "2023-01-18T23:02:00.194Z"
   },
   {
    "duration": 40,
    "start_time": "2023-01-18T23:02:38.191Z"
   },
   {
    "duration": 43,
    "start_time": "2023-01-18T23:03:02.524Z"
   },
   {
    "duration": 42,
    "start_time": "2023-01-18T23:07:16.309Z"
   },
   {
    "duration": 71,
    "start_time": "2023-01-18T23:10:45.265Z"
   },
   {
    "duration": 79,
    "start_time": "2023-01-18T23:10:54.945Z"
   },
   {
    "duration": 18,
    "start_time": "2023-01-18T23:11:07.115Z"
   },
   {
    "duration": 68,
    "start_time": "2023-01-18T23:12:27.689Z"
   },
   {
    "duration": 73,
    "start_time": "2023-01-18T23:12:49.469Z"
   },
   {
    "duration": 68,
    "start_time": "2023-01-18T23:12:57.356Z"
   },
   {
    "duration": 41,
    "start_time": "2023-01-18T23:13:22.109Z"
   },
   {
    "duration": 37,
    "start_time": "2023-01-18T23:14:28.959Z"
   },
   {
    "duration": 40,
    "start_time": "2023-01-18T23:16:32.918Z"
   },
   {
    "duration": 39,
    "start_time": "2023-01-18T23:17:35.896Z"
   },
   {
    "duration": 77,
    "start_time": "2023-01-18T23:25:04.269Z"
   },
   {
    "duration": 1173,
    "start_time": "2023-01-18T23:25:09.143Z"
   },
   {
    "duration": 22,
    "start_time": "2023-01-18T23:25:36.359Z"
   },
   {
    "duration": 19,
    "start_time": "2023-01-18T23:25:54.545Z"
   },
   {
    "duration": 22,
    "start_time": "2023-01-18T23:26:17.593Z"
   },
   {
    "duration": 22,
    "start_time": "2023-01-18T23:26:39.682Z"
   },
   {
    "duration": 19,
    "start_time": "2023-01-18T23:26:44.337Z"
   },
   {
    "duration": 3,
    "start_time": "2023-01-18T23:28:32.072Z"
   },
   {
    "duration": 20,
    "start_time": "2023-01-18T23:28:39.258Z"
   },
   {
    "duration": 4,
    "start_time": "2023-01-18T23:28:58.790Z"
   },
   {
    "duration": 20,
    "start_time": "2023-01-18T23:28:59.196Z"
   },
   {
    "duration": 3,
    "start_time": "2023-01-18T23:29:04.357Z"
   },
   {
    "duration": 21,
    "start_time": "2023-01-18T23:29:04.736Z"
   },
   {
    "duration": 68,
    "start_time": "2023-01-18T23:36:38.142Z"
   },
   {
    "duration": 82,
    "start_time": "2023-01-18T23:36:55.567Z"
   },
   {
    "duration": 4,
    "start_time": "2023-01-18T23:37:02.160Z"
   },
   {
    "duration": 20,
    "start_time": "2023-01-18T23:37:05.297Z"
   },
   {
    "duration": 4,
    "start_time": "2023-01-18T23:37:27.114Z"
   },
   {
    "duration": 19,
    "start_time": "2023-01-18T23:37:27.552Z"
   },
   {
    "duration": 4,
    "start_time": "2023-01-18T23:37:34.323Z"
   },
   {
    "duration": 21,
    "start_time": "2023-01-18T23:37:35.599Z"
   },
   {
    "duration": 4,
    "start_time": "2023-01-18T23:38:38.661Z"
   },
   {
    "duration": 21,
    "start_time": "2023-01-18T23:38:39.046Z"
   },
   {
    "duration": 3,
    "start_time": "2023-01-18T23:38:53.845Z"
   },
   {
    "duration": 20,
    "start_time": "2023-01-18T23:38:54.579Z"
   },
   {
    "duration": 4,
    "start_time": "2023-01-18T23:40:12.542Z"
   },
   {
    "duration": 21,
    "start_time": "2023-01-18T23:40:13.199Z"
   },
   {
    "duration": 3,
    "start_time": "2023-01-18T23:40:36.447Z"
   },
   {
    "duration": 21,
    "start_time": "2023-01-18T23:40:41.080Z"
   },
   {
    "duration": 20,
    "start_time": "2023-01-18T23:41:03.834Z"
   },
   {
    "duration": 20,
    "start_time": "2023-01-18T23:41:56.209Z"
   },
   {
    "duration": 19,
    "start_time": "2023-01-18T23:42:07.743Z"
   },
   {
    "duration": 1015,
    "start_time": "2023-01-19T00:02:04.480Z"
   },
   {
    "duration": 153,
    "start_time": "2023-01-19T00:02:05.497Z"
   },
   {
    "duration": 6,
    "start_time": "2023-01-19T00:02:05.651Z"
   },
   {
    "duration": 231,
    "start_time": "2023-01-19T00:02:05.659Z"
   },
   {
    "duration": 3,
    "start_time": "2023-01-19T00:02:05.892Z"
   },
   {
    "duration": 98,
    "start_time": "2023-01-19T00:02:05.897Z"
   },
   {
    "duration": 11,
    "start_time": "2023-01-19T00:02:05.997Z"
   },
   {
    "duration": 28,
    "start_time": "2023-01-19T00:02:06.010Z"
   },
   {
    "duration": 33,
    "start_time": "2023-01-19T00:02:06.040Z"
   },
   {
    "duration": 5,
    "start_time": "2023-01-19T00:02:06.076Z"
   },
   {
    "duration": 12,
    "start_time": "2023-01-19T00:02:06.083Z"
   },
   {
    "duration": 31,
    "start_time": "2023-01-19T00:02:06.096Z"
   },
   {
    "duration": 327,
    "start_time": "2023-01-19T00:02:06.129Z"
   },
   {
    "duration": 16,
    "start_time": "2023-01-19T00:02:06.457Z"
   },
   {
    "duration": 16,
    "start_time": "2023-01-19T00:02:06.475Z"
   },
   {
    "duration": 74,
    "start_time": "2023-01-19T00:02:06.493Z"
   },
   {
    "duration": 4,
    "start_time": "2023-01-19T00:02:06.568Z"
   },
   {
    "duration": 28,
    "start_time": "2023-01-19T00:02:06.573Z"
   },
   {
    "duration": 29,
    "start_time": "2023-01-19T00:02:06.603Z"
   },
   {
    "duration": 22,
    "start_time": "2023-01-19T00:02:06.634Z"
   },
   {
    "duration": 1088,
    "start_time": "2023-01-19T12:26:12.494Z"
   },
   {
    "duration": 666,
    "start_time": "2023-01-19T12:26:13.583Z"
   },
   {
    "duration": 5,
    "start_time": "2023-01-19T12:26:14.251Z"
   },
   {
    "duration": 205,
    "start_time": "2023-01-19T12:26:14.257Z"
   },
   {
    "duration": 3,
    "start_time": "2023-01-19T12:26:14.464Z"
   },
   {
    "duration": 69,
    "start_time": "2023-01-19T12:26:14.468Z"
   },
   {
    "duration": 8,
    "start_time": "2023-01-19T12:26:14.539Z"
   },
   {
    "duration": 13,
    "start_time": "2023-01-19T12:26:14.548Z"
   },
   {
    "duration": 29,
    "start_time": "2023-01-19T12:26:14.562Z"
   },
   {
    "duration": 5,
    "start_time": "2023-01-19T12:26:14.592Z"
   },
   {
    "duration": 14,
    "start_time": "2023-01-19T12:26:14.598Z"
   },
   {
    "duration": 46,
    "start_time": "2023-01-19T12:26:14.613Z"
   },
   {
    "duration": 280,
    "start_time": "2023-01-19T12:26:14.660Z"
   },
   {
    "duration": 16,
    "start_time": "2023-01-19T12:26:14.942Z"
   },
   {
    "duration": 14,
    "start_time": "2023-01-19T12:26:14.959Z"
   },
   {
    "duration": 70,
    "start_time": "2023-01-19T12:26:14.974Z"
   },
   {
    "duration": 3,
    "start_time": "2023-01-19T12:26:15.046Z"
   },
   {
    "duration": 28,
    "start_time": "2023-01-19T12:26:15.051Z"
   },
   {
    "duration": 18,
    "start_time": "2023-01-19T12:26:15.081Z"
   },
   {
    "duration": 23,
    "start_time": "2023-01-19T12:26:15.100Z"
   },
   {
    "duration": 92,
    "start_time": "2023-01-19T12:42:15.393Z"
   },
   {
    "duration": 56,
    "start_time": "2023-01-19T12:42:29.915Z"
   },
   {
    "duration": 59,
    "start_time": "2023-01-19T12:42:36.060Z"
   },
   {
    "duration": 60,
    "start_time": "2023-01-19T12:43:16.163Z"
   },
   {
    "duration": 65,
    "start_time": "2023-01-19T12:43:47.814Z"
   },
   {
    "duration": 63,
    "start_time": "2023-01-19T12:43:53.715Z"
   },
   {
    "duration": 61,
    "start_time": "2023-01-19T12:44:01.498Z"
   },
   {
    "duration": 59,
    "start_time": "2023-01-19T12:50:59.047Z"
   },
   {
    "duration": 66,
    "start_time": "2023-01-19T12:51:08.447Z"
   },
   {
    "duration": 63,
    "start_time": "2023-01-19T12:51:14.866Z"
   },
   {
    "duration": 73,
    "start_time": "2023-01-19T12:51:26.417Z"
   },
   {
    "duration": 64,
    "start_time": "2023-01-19T12:51:36.788Z"
   },
   {
    "duration": 66,
    "start_time": "2023-01-19T12:51:44.360Z"
   },
   {
    "duration": 65,
    "start_time": "2023-01-19T12:52:14.808Z"
   },
   {
    "duration": 71,
    "start_time": "2023-01-19T12:53:50.007Z"
   },
   {
    "duration": 64,
    "start_time": "2023-01-19T12:55:58.367Z"
   },
   {
    "duration": 63,
    "start_time": "2023-01-19T12:56:04.080Z"
   },
   {
    "duration": 68,
    "start_time": "2023-01-19T12:56:12.310Z"
   },
   {
    "duration": 66,
    "start_time": "2023-01-19T13:08:09.786Z"
   },
   {
    "duration": 65,
    "start_time": "2023-01-19T13:08:12.692Z"
   },
   {
    "duration": 71,
    "start_time": "2023-01-19T13:08:26.661Z"
   },
   {
    "duration": 8,
    "start_time": "2023-01-19T13:12:28.500Z"
   },
   {
    "duration": 10,
    "start_time": "2023-01-19T13:12:34.017Z"
   },
   {
    "duration": 143,
    "start_time": "2023-01-19T13:13:19.254Z"
   },
   {
    "duration": 137,
    "start_time": "2023-01-19T13:14:06.383Z"
   },
   {
    "duration": 124,
    "start_time": "2023-01-19T13:15:10.784Z"
   },
   {
    "duration": 142,
    "start_time": "2023-01-19T13:15:33.363Z"
   },
   {
    "duration": 158,
    "start_time": "2023-01-19T13:16:08.812Z"
   },
   {
    "duration": 166,
    "start_time": "2023-01-19T13:17:53.106Z"
   },
   {
    "duration": 140,
    "start_time": "2023-01-19T13:18:12.053Z"
   },
   {
    "duration": 246,
    "start_time": "2023-01-19T13:20:36.356Z"
   },
   {
    "duration": 176,
    "start_time": "2023-01-19T13:20:57.718Z"
   },
   {
    "duration": 157,
    "start_time": "2023-01-19T13:21:19.055Z"
   },
   {
    "duration": 154,
    "start_time": "2023-01-19T13:21:24.591Z"
   },
   {
    "duration": 152,
    "start_time": "2023-01-19T13:21:47.118Z"
   },
   {
    "duration": 163,
    "start_time": "2023-01-19T13:22:06.072Z"
   },
   {
    "duration": 170,
    "start_time": "2023-01-19T13:22:20.746Z"
   },
   {
    "duration": 174,
    "start_time": "2023-01-19T13:22:42.070Z"
   },
   {
    "duration": 165,
    "start_time": "2023-01-19T13:23:06.188Z"
   },
   {
    "duration": 165,
    "start_time": "2023-01-19T13:24:05.413Z"
   },
   {
    "duration": 167,
    "start_time": "2023-01-19T13:24:31.545Z"
   },
   {
    "duration": 266,
    "start_time": "2023-01-19T13:25:27.812Z"
   },
   {
    "duration": 74,
    "start_time": "2023-01-19T13:57:54.305Z"
   },
   {
    "duration": 353,
    "start_time": "2023-01-19T14:00:29.597Z"
   },
   {
    "duration": 70,
    "start_time": "2023-01-19T14:03:17.582Z"
   },
   {
    "duration": 79,
    "start_time": "2023-01-19T14:03:26.744Z"
   },
   {
    "duration": 71,
    "start_time": "2023-01-19T14:04:06.841Z"
   },
   {
    "duration": 72,
    "start_time": "2023-01-19T14:04:13.775Z"
   },
   {
    "duration": 89,
    "start_time": "2023-01-19T14:04:17.338Z"
   },
   {
    "duration": 8,
    "start_time": "2023-01-19T14:04:36.276Z"
   },
   {
    "duration": 10,
    "start_time": "2023-01-19T14:07:46.523Z"
   },
   {
    "duration": 89,
    "start_time": "2023-01-19T14:17:52.444Z"
   },
   {
    "duration": 10,
    "start_time": "2023-01-19T14:18:00.774Z"
   },
   {
    "duration": 9,
    "start_time": "2023-01-19T14:20:21.631Z"
   },
   {
    "duration": 9,
    "start_time": "2023-01-19T14:20:58.573Z"
   },
   {
    "duration": 9,
    "start_time": "2023-01-19T14:21:07.502Z"
   },
   {
    "duration": 80,
    "start_time": "2023-01-19T14:22:28.689Z"
   },
   {
    "duration": 12,
    "start_time": "2023-01-19T14:22:33.130Z"
   },
   {
    "duration": 8,
    "start_time": "2023-01-19T14:22:56.503Z"
   },
   {
    "duration": 8,
    "start_time": "2023-01-19T14:23:36.568Z"
   },
   {
    "duration": 71,
    "start_time": "2023-01-19T14:24:58.339Z"
   },
   {
    "duration": 81,
    "start_time": "2023-01-19T14:25:02.361Z"
   },
   {
    "duration": 9,
    "start_time": "2023-01-19T14:25:23.719Z"
   },
   {
    "duration": 9,
    "start_time": "2023-01-19T14:25:56.440Z"
   },
   {
    "duration": 1386,
    "start_time": "2023-01-19T15:09:27.738Z"
   },
   {
    "duration": 527,
    "start_time": "2023-01-19T15:09:29.127Z"
   },
   {
    "duration": 6,
    "start_time": "2023-01-19T15:09:29.656Z"
   },
   {
    "duration": 220,
    "start_time": "2023-01-19T15:09:29.663Z"
   },
   {
    "duration": 3,
    "start_time": "2023-01-19T15:09:29.886Z"
   },
   {
    "duration": 77,
    "start_time": "2023-01-19T15:09:29.891Z"
   },
   {
    "duration": 11,
    "start_time": "2023-01-19T15:09:29.970Z"
   },
   {
    "duration": 16,
    "start_time": "2023-01-19T15:09:29.982Z"
   },
   {
    "duration": 53,
    "start_time": "2023-01-19T15:09:30.000Z"
   },
   {
    "duration": 7,
    "start_time": "2023-01-19T15:09:30.055Z"
   },
   {
    "duration": 17,
    "start_time": "2023-01-19T15:09:30.064Z"
   },
   {
    "duration": 29,
    "start_time": "2023-01-19T15:09:30.083Z"
   },
   {
    "duration": 322,
    "start_time": "2023-01-19T15:09:30.114Z"
   },
   {
    "duration": 18,
    "start_time": "2023-01-19T15:09:30.439Z"
   },
   {
    "duration": 40,
    "start_time": "2023-01-19T15:09:30.459Z"
   },
   {
    "duration": 81,
    "start_time": "2023-01-19T15:09:30.501Z"
   },
   {
    "duration": 5,
    "start_time": "2023-01-19T15:09:30.584Z"
   },
   {
    "duration": 56,
    "start_time": "2023-01-19T15:09:30.591Z"
   },
   {
    "duration": 22,
    "start_time": "2023-01-19T15:09:30.650Z"
   },
   {
    "duration": 31,
    "start_time": "2023-01-19T15:09:30.674Z"
   },
   {
    "duration": 102,
    "start_time": "2023-01-19T15:09:30.707Z"
   },
   {
    "duration": 206,
    "start_time": "2023-01-19T15:09:30.811Z"
   },
   {
    "duration": 167,
    "start_time": "2023-01-19T15:09:31.019Z"
   },
   {
    "duration": 10,
    "start_time": "2023-01-19T15:09:34.793Z"
   },
   {
    "duration": 17,
    "start_time": "2023-01-19T15:10:06.679Z"
   },
   {
    "duration": 49,
    "start_time": "2023-01-19T15:13:23.542Z"
   },
   {
    "duration": 15,
    "start_time": "2023-01-19T15:13:27.679Z"
   },
   {
    "duration": 11,
    "start_time": "2023-01-19T15:14:03.830Z"
   },
   {
    "duration": 10,
    "start_time": "2023-01-19T15:16:13.465Z"
   },
   {
    "duration": 11,
    "start_time": "2023-01-19T15:16:26.154Z"
   },
   {
    "duration": 10,
    "start_time": "2023-01-19T15:16:48.149Z"
   },
   {
    "duration": 13,
    "start_time": "2023-01-19T15:16:59.815Z"
   },
   {
    "duration": 11,
    "start_time": "2023-01-19T15:17:39.980Z"
   },
   {
    "duration": 13,
    "start_time": "2023-01-19T15:17:45.619Z"
   },
   {
    "duration": 48,
    "start_time": "2023-01-19T15:18:54.619Z"
   },
   {
    "duration": 15,
    "start_time": "2023-01-19T15:18:58.552Z"
   },
   {
    "duration": 13,
    "start_time": "2023-01-19T15:19:02.772Z"
   },
   {
    "duration": 17,
    "start_time": "2023-01-19T15:19:09.306Z"
   },
   {
    "duration": 14,
    "start_time": "2023-01-19T15:21:09.371Z"
   },
   {
    "duration": 212,
    "start_time": "2023-01-19T15:23:48.556Z"
   },
   {
    "duration": 3,
    "start_time": "2023-01-19T15:30:59.269Z"
   },
   {
    "duration": 175,
    "start_time": "2023-01-19T15:30:59.274Z"
   },
   {
    "duration": 6,
    "start_time": "2023-01-19T15:30:59.451Z"
   },
   {
    "duration": 200,
    "start_time": "2023-01-19T15:30:59.459Z"
   },
   {
    "duration": 3,
    "start_time": "2023-01-19T15:30:59.661Z"
   },
   {
    "duration": 72,
    "start_time": "2023-01-19T15:30:59.665Z"
   },
   {
    "duration": 11,
    "start_time": "2023-01-19T15:30:59.738Z"
   },
   {
    "duration": 15,
    "start_time": "2023-01-19T15:30:59.751Z"
   },
   {
    "duration": 34,
    "start_time": "2023-01-19T15:30:59.767Z"
   },
   {
    "duration": 34,
    "start_time": "2023-01-19T15:30:59.803Z"
   },
   {
    "duration": 6,
    "start_time": "2023-01-19T15:30:59.838Z"
   },
   {
    "duration": 16,
    "start_time": "2023-01-19T15:30:59.846Z"
   },
   {
    "duration": 249,
    "start_time": "2023-01-19T15:30:59.864Z"
   },
   {
    "duration": 24,
    "start_time": "2023-01-19T15:31:00.116Z"
   },
   {
    "duration": 15,
    "start_time": "2023-01-19T15:31:00.142Z"
   },
   {
    "duration": 67,
    "start_time": "2023-01-19T15:31:00.159Z"
   },
   {
    "duration": 5,
    "start_time": "2023-01-19T15:31:00.237Z"
   },
   {
    "duration": 30,
    "start_time": "2023-01-19T15:31:00.244Z"
   },
   {
    "duration": 23,
    "start_time": "2023-01-19T15:31:00.276Z"
   },
   {
    "duration": 40,
    "start_time": "2023-01-19T15:31:00.301Z"
   },
   {
    "duration": 75,
    "start_time": "2023-01-19T15:31:00.343Z"
   },
   {
    "duration": 245,
    "start_time": "2023-01-19T15:31:00.436Z"
   },
   {
    "duration": 95,
    "start_time": "2023-01-19T15:31:10.383Z"
   },
   {
    "duration": 1206,
    "start_time": "2023-01-19T19:31:18.179Z"
   },
   {
    "duration": 643,
    "start_time": "2023-01-19T19:31:19.387Z"
   },
   {
    "duration": 6,
    "start_time": "2023-01-19T19:31:20.032Z"
   },
   {
    "duration": 216,
    "start_time": "2023-01-19T19:31:20.039Z"
   },
   {
    "duration": 3,
    "start_time": "2023-01-19T19:31:20.257Z"
   },
   {
    "duration": 67,
    "start_time": "2023-01-19T19:31:20.261Z"
   },
   {
    "duration": 16,
    "start_time": "2023-01-19T19:31:20.330Z"
   },
   {
    "duration": 13,
    "start_time": "2023-01-19T19:31:20.348Z"
   },
   {
    "duration": 38,
    "start_time": "2023-01-19T19:31:20.362Z"
   },
   {
    "duration": 6,
    "start_time": "2023-01-19T19:31:20.402Z"
   },
   {
    "duration": 6,
    "start_time": "2023-01-19T19:31:20.410Z"
   },
   {
    "duration": 32,
    "start_time": "2023-01-19T19:31:20.418Z"
   },
   {
    "duration": 311,
    "start_time": "2023-01-19T19:31:20.452Z"
   },
   {
    "duration": 15,
    "start_time": "2023-01-19T19:31:20.766Z"
   },
   {
    "duration": 15,
    "start_time": "2023-01-19T19:31:20.782Z"
   },
   {
    "duration": 72,
    "start_time": "2023-01-19T19:31:20.799Z"
   },
   {
    "duration": 4,
    "start_time": "2023-01-19T19:31:20.873Z"
   },
   {
    "duration": 29,
    "start_time": "2023-01-19T19:31:20.878Z"
   },
   {
    "duration": 19,
    "start_time": "2023-01-19T19:31:20.908Z"
   },
   {
    "duration": 32,
    "start_time": "2023-01-19T19:31:20.929Z"
   },
   {
    "duration": 83,
    "start_time": "2023-01-19T19:31:20.962Z"
   },
   {
    "duration": 194,
    "start_time": "2023-01-19T19:31:21.046Z"
   },
   {
    "duration": 157,
    "start_time": "2023-01-19T19:31:21.244Z"
   },
   {
    "duration": 6,
    "start_time": "2023-01-19T19:58:19.950Z"
   },
   {
    "duration": 5,
    "start_time": "2023-01-19T19:58:53.494Z"
   },
   {
    "duration": 4,
    "start_time": "2023-01-19T19:59:12.641Z"
   },
   {
    "duration": 5,
    "start_time": "2023-01-19T19:59:20.543Z"
   },
   {
    "duration": 39,
    "start_time": "2023-01-19T19:59:31.347Z"
   },
   {
    "duration": 3,
    "start_time": "2023-01-19T19:59:39.114Z"
   },
   {
    "duration": 5,
    "start_time": "2023-01-19T19:59:41.893Z"
   },
   {
    "duration": 5,
    "start_time": "2023-01-19T19:59:55.635Z"
   },
   {
    "duration": 4,
    "start_time": "2023-01-19T20:01:07.794Z"
   },
   {
    "duration": 4,
    "start_time": "2023-01-19T20:01:48.100Z"
   },
   {
    "duration": 4,
    "start_time": "2023-01-19T20:04:08.924Z"
   },
   {
    "duration": 76,
    "start_time": "2023-01-19T20:04:29.178Z"
   },
   {
    "duration": 5,
    "start_time": "2023-01-19T20:04:39.131Z"
   },
   {
    "duration": 5,
    "start_time": "2023-01-19T20:04:58.728Z"
   },
   {
    "duration": 5,
    "start_time": "2023-01-19T20:05:38.641Z"
   },
   {
    "duration": 3,
    "start_time": "2023-01-19T20:07:06.462Z"
   },
   {
    "duration": 4,
    "start_time": "2023-01-19T20:07:10.901Z"
   },
   {
    "duration": 4,
    "start_time": "2023-01-19T20:08:15.563Z"
   },
   {
    "duration": 13,
    "start_time": "2023-01-19T20:16:58.589Z"
   },
   {
    "duration": 97,
    "start_time": "2023-01-19T20:21:12.476Z"
   },
   {
    "duration": 75,
    "start_time": "2023-01-19T20:21:33.456Z"
   },
   {
    "duration": 88,
    "start_time": "2023-01-19T20:22:21.169Z"
   },
   {
    "duration": 86,
    "start_time": "2023-01-19T20:22:56.586Z"
   },
   {
    "duration": 93,
    "start_time": "2023-01-19T20:23:02.627Z"
   },
   {
    "duration": 95,
    "start_time": "2023-01-19T20:23:18.326Z"
   },
   {
    "duration": 88,
    "start_time": "2023-01-19T20:23:26.237Z"
   },
   {
    "duration": 89,
    "start_time": "2023-01-19T20:23:51.978Z"
   },
   {
    "duration": 92,
    "start_time": "2023-01-19T20:24:00.831Z"
   },
   {
    "duration": 98,
    "start_time": "2023-01-19T20:24:18.090Z"
   },
   {
    "duration": 113,
    "start_time": "2023-01-19T20:25:14.532Z"
   },
   {
    "duration": 87,
    "start_time": "2023-01-19T20:25:43.468Z"
   },
   {
    "duration": 92,
    "start_time": "2023-01-19T20:25:49.034Z"
   },
   {
    "duration": 97,
    "start_time": "2023-01-19T20:26:00.307Z"
   },
   {
    "duration": 648,
    "start_time": "2023-01-19T20:26:11.731Z"
   },
   {
    "duration": 91,
    "start_time": "2023-01-19T20:28:02.131Z"
   },
   {
    "duration": 91,
    "start_time": "2023-01-19T20:28:38.720Z"
   },
   {
    "duration": 126,
    "start_time": "2023-01-19T20:30:33.554Z"
   },
   {
    "duration": 96,
    "start_time": "2023-01-19T20:31:23.121Z"
   },
   {
    "duration": 98,
    "start_time": "2023-01-19T20:32:17.494Z"
   },
   {
    "duration": 98,
    "start_time": "2023-01-19T20:32:28.425Z"
   },
   {
    "duration": 92,
    "start_time": "2023-01-19T20:32:55.185Z"
   },
   {
    "duration": 774,
    "start_time": "2023-01-19T20:33:00.634Z"
   },
   {
    "duration": 95,
    "start_time": "2023-01-19T20:33:13.637Z"
   },
   {
    "duration": 95,
    "start_time": "2023-01-19T20:33:23.414Z"
   },
   {
    "duration": 94,
    "start_time": "2023-01-19T20:33:49.534Z"
   },
   {
    "duration": 92,
    "start_time": "2023-01-19T20:33:56.313Z"
   },
   {
    "duration": 313,
    "start_time": "2023-01-19T20:34:14.220Z"
   },
   {
    "duration": 49,
    "start_time": "2023-01-19T20:34:23.117Z"
   },
   {
    "duration": 92,
    "start_time": "2023-01-19T20:34:26.488Z"
   },
   {
    "duration": 91,
    "start_time": "2023-01-19T20:34:46.496Z"
   },
   {
    "duration": 96,
    "start_time": "2023-01-19T20:38:15.829Z"
   },
   {
    "duration": 99,
    "start_time": "2023-01-19T20:41:44.147Z"
   },
   {
    "duration": 135,
    "start_time": "2023-01-19T20:42:03.536Z"
   },
   {
    "duration": 90,
    "start_time": "2023-01-19T20:42:23.385Z"
   },
   {
    "duration": 124,
    "start_time": "2023-01-19T21:19:38.822Z"
   },
   {
    "duration": 97,
    "start_time": "2023-01-19T21:32:31.993Z"
   },
   {
    "duration": 1014,
    "start_time": "2023-01-19T21:33:50.885Z"
   },
   {
    "duration": 166,
    "start_time": "2023-01-19T21:33:51.901Z"
   },
   {
    "duration": 6,
    "start_time": "2023-01-19T21:33:52.068Z"
   },
   {
    "duration": 233,
    "start_time": "2023-01-19T21:33:52.075Z"
   },
   {
    "duration": 3,
    "start_time": "2023-01-19T21:33:52.310Z"
   },
   {
    "duration": 74,
    "start_time": "2023-01-19T21:33:52.315Z"
   },
   {
    "duration": 8,
    "start_time": "2023-01-19T21:33:52.391Z"
   },
   {
    "duration": 13,
    "start_time": "2023-01-19T21:33:52.401Z"
   },
   {
    "duration": 58,
    "start_time": "2023-01-19T21:33:52.416Z"
   },
   {
    "duration": 5,
    "start_time": "2023-01-19T21:33:52.476Z"
   },
   {
    "duration": 6,
    "start_time": "2023-01-19T21:33:52.482Z"
   },
   {
    "duration": 12,
    "start_time": "2023-01-19T21:33:52.489Z"
   },
   {
    "duration": 322,
    "start_time": "2023-01-19T21:33:52.503Z"
   },
   {
    "duration": 33,
    "start_time": "2023-01-19T21:33:52.827Z"
   },
   {
    "duration": 15,
    "start_time": "2023-01-19T21:33:52.862Z"
   },
   {
    "duration": 49,
    "start_time": "2023-01-19T21:33:52.879Z"
   },
   {
    "duration": 13,
    "start_time": "2023-01-19T21:33:52.944Z"
   },
   {
    "duration": 31,
    "start_time": "2023-01-19T21:33:52.960Z"
   },
   {
    "duration": 19,
    "start_time": "2023-01-19T21:33:52.993Z"
   },
   {
    "duration": 20,
    "start_time": "2023-01-19T21:33:53.013Z"
   },
   {
    "duration": 84,
    "start_time": "2023-01-19T21:33:53.034Z"
   },
   {
    "duration": 185,
    "start_time": "2023-01-19T21:33:53.119Z"
   },
   {
    "duration": 184,
    "start_time": "2023-01-19T21:33:53.306Z"
   },
   {
    "duration": 5,
    "start_time": "2023-01-19T21:33:53.491Z"
   },
   {
    "duration": 201,
    "start_time": "2023-01-19T21:33:53.498Z"
   },
   {
    "duration": 92,
    "start_time": "2023-01-19T21:35:18.385Z"
   },
   {
    "duration": 97,
    "start_time": "2023-01-19T21:35:28.480Z"
   },
   {
    "duration": 94,
    "start_time": "2023-01-19T21:35:43.083Z"
   },
   {
    "duration": 94,
    "start_time": "2023-01-19T21:38:18.793Z"
   },
   {
    "duration": 100,
    "start_time": "2023-01-19T21:40:12.225Z"
   },
   {
    "duration": 95,
    "start_time": "2023-01-19T21:41:00.166Z"
   },
   {
    "duration": 97,
    "start_time": "2023-01-19T21:41:05.739Z"
   },
   {
    "duration": 91,
    "start_time": "2023-01-19T21:41:10.670Z"
   },
   {
    "duration": 195,
    "start_time": "2023-01-19T21:45:04.658Z"
   },
   {
    "duration": 96,
    "start_time": "2023-01-19T21:45:12.199Z"
   },
   {
    "duration": 91,
    "start_time": "2023-01-19T21:45:24.135Z"
   },
   {
    "duration": 96,
    "start_time": "2023-01-19T21:45:58.348Z"
   },
   {
    "duration": 94,
    "start_time": "2023-01-19T21:46:18.072Z"
   },
   {
    "duration": 103,
    "start_time": "2023-01-19T21:46:23.186Z"
   },
   {
    "duration": 95,
    "start_time": "2023-01-19T21:46:26.414Z"
   },
   {
    "duration": 98,
    "start_time": "2023-01-19T21:46:46.767Z"
   },
   {
    "duration": 103,
    "start_time": "2023-01-19T21:47:16.171Z"
   },
   {
    "duration": 339,
    "start_time": "2023-01-19T21:47:26.808Z"
   },
   {
    "duration": 103,
    "start_time": "2023-01-19T21:47:53.904Z"
   },
   {
    "duration": 105,
    "start_time": "2023-01-19T21:48:29.822Z"
   },
   {
    "duration": 291,
    "start_time": "2023-01-19T21:48:57.231Z"
   },
   {
    "duration": 93,
    "start_time": "2023-01-19T21:49:21.721Z"
   },
   {
    "duration": 90,
    "start_time": "2023-01-19T21:49:28.078Z"
   },
   {
    "duration": 93,
    "start_time": "2023-01-19T21:49:43.196Z"
   },
   {
    "duration": 46,
    "start_time": "2023-01-19T21:49:51.757Z"
   },
   {
    "duration": 94,
    "start_time": "2023-01-19T21:49:54.398Z"
   },
   {
    "duration": 98,
    "start_time": "2023-01-19T21:53:30.161Z"
   },
   {
    "duration": 94,
    "start_time": "2023-01-19T21:53:35.644Z"
   },
   {
    "duration": 97,
    "start_time": "2023-01-19T21:54:14.281Z"
   },
   {
    "duration": 94,
    "start_time": "2023-01-19T21:54:19.401Z"
   },
   {
    "duration": 19,
    "start_time": "2023-01-19T21:55:05.428Z"
   },
   {
    "duration": 10,
    "start_time": "2023-01-19T21:55:41.726Z"
   },
   {
    "duration": 153,
    "start_time": "2023-01-19T21:55:49.220Z"
   },
   {
    "duration": 150,
    "start_time": "2023-01-19T21:55:58.994Z"
   },
   {
    "duration": 146,
    "start_time": "2023-01-19T21:56:03.528Z"
   },
   {
    "duration": 118,
    "start_time": "2023-01-19T21:56:18.145Z"
   },
   {
    "duration": 646,
    "start_time": "2023-01-19T21:56:29.385Z"
   },
   {
    "duration": 26,
    "start_time": "2023-01-19T21:56:41.086Z"
   },
   {
    "duration": 55,
    "start_time": "2023-01-19T21:56:49.793Z"
   },
   {
    "duration": 16,
    "start_time": "2023-01-19T21:57:04.851Z"
   },
   {
    "duration": 118,
    "start_time": "2023-01-19T21:57:24.457Z"
   },
   {
    "duration": 114,
    "start_time": "2023-01-19T21:57:48.256Z"
   },
   {
    "duration": 117,
    "start_time": "2023-01-19T21:57:56.574Z"
   },
   {
    "duration": 115,
    "start_time": "2023-01-19T21:58:50.860Z"
   },
   {
    "duration": 114,
    "start_time": "2023-01-19T21:58:57.104Z"
   },
   {
    "duration": 4,
    "start_time": "2023-01-19T22:12:49.775Z"
   },
   {
    "duration": 4,
    "start_time": "2023-01-19T22:13:01.965Z"
   },
   {
    "duration": 3,
    "start_time": "2023-01-19T22:13:18.312Z"
   },
   {
    "duration": 4,
    "start_time": "2023-01-19T22:13:58.750Z"
   },
   {
    "duration": 5,
    "start_time": "2023-01-19T22:14:21.529Z"
   },
   {
    "duration": 6,
    "start_time": "2023-01-19T22:20:50.055Z"
   },
   {
    "duration": 54,
    "start_time": "2023-01-19T22:27:05.197Z"
   },
   {
    "duration": 48,
    "start_time": "2023-01-19T22:27:14.308Z"
   },
   {
    "duration": 84,
    "start_time": "2023-01-19T22:27:24.938Z"
   },
   {
    "duration": 79,
    "start_time": "2023-01-19T22:28:14.962Z"
   },
   {
    "duration": 85,
    "start_time": "2023-01-19T22:28:24.825Z"
   },
   {
    "duration": 83,
    "start_time": "2023-01-19T22:29:56.304Z"
   },
   {
    "duration": 93,
    "start_time": "2023-01-19T22:30:10.076Z"
   },
   {
    "duration": 838,
    "start_time": "2023-01-19T22:30:36.801Z"
   },
   {
    "duration": 819,
    "start_time": "2023-01-19T22:30:44.249Z"
   },
   {
    "duration": 84,
    "start_time": "2023-01-19T22:30:54.854Z"
   },
   {
    "duration": 98,
    "start_time": "2023-01-19T22:31:20.929Z"
   },
   {
    "duration": 87,
    "start_time": "2023-01-19T22:31:36.774Z"
   },
   {
    "duration": 88,
    "start_time": "2023-01-19T22:31:42.410Z"
   },
   {
    "duration": 5,
    "start_time": "2023-01-19T22:36:48.898Z"
   },
   {
    "duration": 84,
    "start_time": "2023-01-19T22:37:55.748Z"
   },
   {
    "duration": 81,
    "start_time": "2023-01-19T22:38:12.647Z"
   },
   {
    "duration": 84,
    "start_time": "2023-01-19T22:38:22.657Z"
   },
   {
    "duration": 83,
    "start_time": "2023-01-19T22:39:52.913Z"
   },
   {
    "duration": 839,
    "start_time": "2023-01-19T22:41:34.316Z"
   },
   {
    "duration": 113,
    "start_time": "2023-01-19T22:41:45.973Z"
   },
   {
    "duration": 111,
    "start_time": "2023-01-19T22:41:50.089Z"
   },
   {
    "duration": 5,
    "start_time": "2023-01-19T22:42:21.918Z"
   },
   {
    "duration": 11,
    "start_time": "2023-01-19T22:43:24.421Z"
   },
   {
    "duration": 3,
    "start_time": "2023-01-19T22:44:01.745Z"
   },
   {
    "duration": 8,
    "start_time": "2023-01-19T22:44:10.158Z"
   },
   {
    "duration": 5,
    "start_time": "2023-01-19T22:45:36.467Z"
   },
   {
    "duration": 12,
    "start_time": "2023-01-19T22:45:36.776Z"
   },
   {
    "duration": 6,
    "start_time": "2023-01-19T22:45:52.076Z"
   },
   {
    "duration": 12,
    "start_time": "2023-01-19T22:45:52.298Z"
   },
   {
    "duration": 6,
    "start_time": "2023-01-19T22:46:27.409Z"
   },
   {
    "duration": 12,
    "start_time": "2023-01-19T22:46:27.853Z"
   },
   {
    "duration": 4,
    "start_time": "2023-01-19T22:47:47.984Z"
   },
   {
    "duration": 7,
    "start_time": "2023-01-19T22:47:48.784Z"
   },
   {
    "duration": 5,
    "start_time": "2023-01-19T22:47:59.807Z"
   },
   {
    "duration": 14,
    "start_time": "2023-01-19T22:48:00.711Z"
   },
   {
    "duration": 5,
    "start_time": "2023-01-19T22:49:19.970Z"
   },
   {
    "duration": 7,
    "start_time": "2023-01-19T22:49:20.391Z"
   },
   {
    "duration": 6,
    "start_time": "2023-01-19T22:55:53.640Z"
   },
   {
    "duration": 10,
    "start_time": "2023-01-19T22:55:53.941Z"
   },
   {
    "duration": 6,
    "start_time": "2023-01-19T22:56:19.040Z"
   },
   {
    "duration": 8,
    "start_time": "2023-01-19T22:56:19.456Z"
   },
   {
    "duration": 5,
    "start_time": "2023-01-19T22:57:23.109Z"
   },
   {
    "duration": 8,
    "start_time": "2023-01-19T22:57:23.553Z"
   },
   {
    "duration": 9,
    "start_time": "2023-01-19T23:03:21.069Z"
   },
   {
    "duration": 9,
    "start_time": "2023-01-19T23:03:21.930Z"
   },
   {
    "duration": 8,
    "start_time": "2023-01-19T23:03:23.610Z"
   },
   {
    "duration": 4,
    "start_time": "2023-01-19T23:07:59.293Z"
   },
   {
    "duration": 5,
    "start_time": "2023-01-19T23:08:11.258Z"
   },
   {
    "duration": 6,
    "start_time": "2023-01-19T23:12:01.000Z"
   },
   {
    "duration": 8,
    "start_time": "2023-01-19T23:12:11.324Z"
   },
   {
    "duration": 9,
    "start_time": "2023-01-19T23:12:28.953Z"
   },
   {
    "duration": 8,
    "start_time": "2023-01-19T23:12:31.642Z"
   },
   {
    "duration": 8,
    "start_time": "2023-01-19T23:13:18.764Z"
   },
   {
    "duration": 7,
    "start_time": "2023-01-19T23:13:21.978Z"
   },
   {
    "duration": 17,
    "start_time": "2023-01-19T23:19:14.114Z"
   },
   {
    "duration": 1404,
    "start_time": "2023-01-20T10:13:27.429Z"
   },
   {
    "duration": 762,
    "start_time": "2023-01-20T10:13:28.839Z"
   },
   {
    "duration": 9,
    "start_time": "2023-01-20T10:13:29.603Z"
   },
   {
    "duration": 274,
    "start_time": "2023-01-20T10:13:29.614Z"
   },
   {
    "duration": 3,
    "start_time": "2023-01-20T10:13:29.891Z"
   },
   {
    "duration": 85,
    "start_time": "2023-01-20T10:13:29.896Z"
   },
   {
    "duration": 9,
    "start_time": "2023-01-20T10:13:29.984Z"
   },
   {
    "duration": 36,
    "start_time": "2023-01-20T10:13:29.996Z"
   },
   {
    "duration": 46,
    "start_time": "2023-01-20T10:13:30.034Z"
   },
   {
    "duration": 6,
    "start_time": "2023-01-20T10:13:30.082Z"
   },
   {
    "duration": 15,
    "start_time": "2023-01-20T10:13:30.090Z"
   },
   {
    "duration": 37,
    "start_time": "2023-01-20T10:13:30.107Z"
   },
   {
    "duration": 467,
    "start_time": "2023-01-20T10:13:30.146Z"
   },
   {
    "duration": 31,
    "start_time": "2023-01-20T10:13:30.617Z"
   },
   {
    "duration": 20,
    "start_time": "2023-01-20T10:13:30.650Z"
   },
   {
    "duration": 77,
    "start_time": "2023-01-20T10:13:30.672Z"
   },
   {
    "duration": 0,
    "start_time": "2023-01-20T10:13:30.751Z"
   },
   {
    "duration": 0,
    "start_time": "2023-01-20T10:13:30.752Z"
   },
   {
    "duration": 0,
    "start_time": "2023-01-20T10:13:30.753Z"
   },
   {
    "duration": 0,
    "start_time": "2023-01-20T10:13:30.755Z"
   },
   {
    "duration": 0,
    "start_time": "2023-01-20T10:13:30.756Z"
   },
   {
    "duration": 0,
    "start_time": "2023-01-20T10:13:30.757Z"
   },
   {
    "duration": 0,
    "start_time": "2023-01-20T10:13:30.758Z"
   },
   {
    "duration": 0,
    "start_time": "2023-01-20T10:13:30.759Z"
   },
   {
    "duration": 0,
    "start_time": "2023-01-20T10:13:30.760Z"
   },
   {
    "duration": 0,
    "start_time": "2023-01-20T10:13:30.761Z"
   },
   {
    "duration": 0,
    "start_time": "2023-01-20T10:13:30.763Z"
   },
   {
    "duration": 0,
    "start_time": "2023-01-20T10:13:30.764Z"
   },
   {
    "duration": 0,
    "start_time": "2023-01-20T10:13:30.765Z"
   },
   {
    "duration": 0,
    "start_time": "2023-01-20T10:13:30.766Z"
   },
   {
    "duration": 4,
    "start_time": "2023-01-20T10:14:30.312Z"
   },
   {
    "duration": 209,
    "start_time": "2023-01-20T10:14:30.318Z"
   },
   {
    "duration": 11,
    "start_time": "2023-01-20T10:14:30.529Z"
   },
   {
    "duration": 256,
    "start_time": "2023-01-20T10:14:30.542Z"
   },
   {
    "duration": 3,
    "start_time": "2023-01-20T10:14:30.800Z"
   },
   {
    "duration": 115,
    "start_time": "2023-01-20T10:14:30.804Z"
   },
   {
    "duration": 11,
    "start_time": "2023-01-20T10:14:30.921Z"
   },
   {
    "duration": 54,
    "start_time": "2023-01-20T10:14:30.934Z"
   },
   {
    "duration": 75,
    "start_time": "2023-01-20T10:14:30.989Z"
   },
   {
    "duration": 36,
    "start_time": "2023-01-20T10:14:31.068Z"
   },
   {
    "duration": 55,
    "start_time": "2023-01-20T10:14:31.105Z"
   },
   {
    "duration": 38,
    "start_time": "2023-01-20T10:14:31.162Z"
   },
   {
    "duration": 308,
    "start_time": "2023-01-20T10:14:31.202Z"
   },
   {
    "duration": 19,
    "start_time": "2023-01-20T10:14:31.512Z"
   },
   {
    "duration": 42,
    "start_time": "2023-01-20T10:14:31.532Z"
   },
   {
    "duration": 100,
    "start_time": "2023-01-20T10:14:31.576Z"
   },
   {
    "duration": 4,
    "start_time": "2023-01-20T10:14:31.677Z"
   },
   {
    "duration": 75,
    "start_time": "2023-01-20T10:14:31.683Z"
   },
   {
    "duration": 57,
    "start_time": "2023-01-20T10:14:31.760Z"
   },
   {
    "duration": 30,
    "start_time": "2023-01-20T10:14:31.819Z"
   },
   {
    "duration": 122,
    "start_time": "2023-01-20T10:14:31.851Z"
   },
   {
    "duration": 216,
    "start_time": "2023-01-20T10:14:31.974Z"
   },
   {
    "duration": 205,
    "start_time": "2023-01-20T10:14:32.192Z"
   },
   {
    "duration": 5,
    "start_time": "2023-01-20T10:14:32.399Z"
   },
   {
    "duration": 176,
    "start_time": "2023-01-20T10:14:32.406Z"
   },
   {
    "duration": 78,
    "start_time": "2023-01-20T10:14:32.583Z"
   },
   {
    "duration": 6,
    "start_time": "2023-01-20T10:14:32.662Z"
   },
   {
    "duration": 84,
    "start_time": "2023-01-20T10:14:32.671Z"
   },
   {
    "duration": 53,
    "start_time": "2023-01-20T10:14:32.757Z"
   },
   {
    "duration": 41,
    "start_time": "2023-01-20T10:14:32.812Z"
   },
   {
    "duration": 118,
    "start_time": "2023-01-20T11:01:19.223Z"
   },
   {
    "duration": 5,
    "start_time": "2023-01-20T11:02:01.556Z"
   },
   {
    "duration": 82,
    "start_time": "2023-01-20T11:02:44.933Z"
   },
   {
    "duration": 85,
    "start_time": "2023-01-20T11:23:16.769Z"
   },
   {
    "duration": 75,
    "start_time": "2023-01-20T11:24:46.458Z"
   },
   {
    "duration": 69,
    "start_time": "2023-01-20T11:24:49.188Z"
   },
   {
    "duration": 66,
    "start_time": "2023-01-20T11:24:52.363Z"
   },
   {
    "duration": 74,
    "start_time": "2023-01-20T11:25:38.541Z"
   },
   {
    "duration": 44,
    "start_time": "2023-01-20T11:27:13.062Z"
   },
   {
    "duration": 59,
    "start_time": "2023-01-20T11:31:18.414Z"
   },
   {
    "duration": 10,
    "start_time": "2023-01-20T11:32:42.718Z"
   },
   {
    "duration": 8,
    "start_time": "2023-01-20T11:34:03.652Z"
   },
   {
    "duration": 456,
    "start_time": "2023-01-20T11:37:21.933Z"
   },
   {
    "duration": 1295,
    "start_time": "2023-01-20T11:38:04.617Z"
   },
   {
    "duration": 202,
    "start_time": "2023-01-20T11:38:05.915Z"
   },
   {
    "duration": 9,
    "start_time": "2023-01-20T11:38:06.119Z"
   },
   {
    "duration": 347,
    "start_time": "2023-01-20T11:38:06.130Z"
   },
   {
    "duration": 4,
    "start_time": "2023-01-20T11:38:06.481Z"
   },
   {
    "duration": 102,
    "start_time": "2023-01-20T11:38:06.488Z"
   },
   {
    "duration": 12,
    "start_time": "2023-01-20T11:38:06.593Z"
   },
   {
    "duration": 26,
    "start_time": "2023-01-20T11:38:06.610Z"
   },
   {
    "duration": 60,
    "start_time": "2023-01-20T11:38:06.646Z"
   },
   {
    "duration": 9,
    "start_time": "2023-01-20T11:38:06.709Z"
   },
   {
    "duration": 31,
    "start_time": "2023-01-20T11:38:06.721Z"
   },
   {
    "duration": 18,
    "start_time": "2023-01-20T11:38:06.754Z"
   },
   {
    "duration": 467,
    "start_time": "2023-01-20T11:38:06.776Z"
   },
   {
    "duration": 19,
    "start_time": "2023-01-20T11:38:07.248Z"
   },
   {
    "duration": 22,
    "start_time": "2023-01-20T11:38:07.269Z"
   },
   {
    "duration": 91,
    "start_time": "2023-01-20T11:38:07.294Z"
   },
   {
    "duration": 6,
    "start_time": "2023-01-20T11:38:07.387Z"
   },
   {
    "duration": 42,
    "start_time": "2023-01-20T11:38:07.395Z"
   },
   {
    "duration": 32,
    "start_time": "2023-01-20T11:38:07.452Z"
   },
   {
    "duration": 23,
    "start_time": "2023-01-20T11:38:07.486Z"
   },
   {
    "duration": 102,
    "start_time": "2023-01-20T11:38:07.511Z"
   },
   {
    "duration": 252,
    "start_time": "2023-01-20T11:38:07.616Z"
   },
   {
    "duration": 186,
    "start_time": "2023-01-20T11:38:07.871Z"
   },
   {
    "duration": 783,
    "start_time": "2023-01-20T11:38:08.061Z"
   },
   {
    "duration": 0,
    "start_time": "2023-01-20T11:38:08.847Z"
   },
   {
    "duration": 0,
    "start_time": "2023-01-20T11:38:08.854Z"
   },
   {
    "duration": 0,
    "start_time": "2023-01-20T11:38:08.856Z"
   },
   {
    "duration": 141,
    "start_time": "2023-01-20T11:38:58.204Z"
   },
   {
    "duration": 154,
    "start_time": "2023-01-20T11:39:09.786Z"
   },
   {
    "duration": 163,
    "start_time": "2023-01-20T11:39:31.973Z"
   },
   {
    "duration": 178,
    "start_time": "2023-01-20T11:39:38.900Z"
   },
   {
    "duration": 203,
    "start_time": "2023-01-20T11:39:48.452Z"
   },
   {
    "duration": 80,
    "start_time": "2023-01-20T11:42:45.254Z"
   },
   {
    "duration": 17,
    "start_time": "2023-01-20T11:42:54.516Z"
   },
   {
    "duration": 17,
    "start_time": "2023-01-20T11:43:39.441Z"
   },
   {
    "duration": 20,
    "start_time": "2023-01-20T11:43:55.325Z"
   },
   {
    "duration": 19,
    "start_time": "2023-01-20T11:44:18.493Z"
   },
   {
    "duration": 18,
    "start_time": "2023-01-20T11:44:54.327Z"
   },
   {
    "duration": 17,
    "start_time": "2023-01-20T11:45:35.559Z"
   },
   {
    "duration": 15,
    "start_time": "2023-01-20T11:45:50.064Z"
   },
   {
    "duration": 15,
    "start_time": "2023-01-20T11:45:57.416Z"
   },
   {
    "duration": 21,
    "start_time": "2023-01-20T11:46:20.859Z"
   },
   {
    "duration": 5,
    "start_time": "2023-01-20T11:59:04.143Z"
   },
   {
    "duration": 275,
    "start_time": "2023-01-20T11:59:04.151Z"
   },
   {
    "duration": 11,
    "start_time": "2023-01-20T11:59:04.429Z"
   },
   {
    "duration": 310,
    "start_time": "2023-01-20T11:59:04.443Z"
   },
   {
    "duration": 6,
    "start_time": "2023-01-20T11:59:04.756Z"
   },
   {
    "duration": 78,
    "start_time": "2023-01-20T11:59:04.763Z"
   },
   {
    "duration": 11,
    "start_time": "2023-01-20T11:59:04.843Z"
   },
   {
    "duration": 58,
    "start_time": "2023-01-20T11:59:04.856Z"
   },
   {
    "duration": 45,
    "start_time": "2023-01-20T11:59:04.917Z"
   },
   {
    "duration": 8,
    "start_time": "2023-01-20T11:59:04.966Z"
   },
   {
    "duration": 17,
    "start_time": "2023-01-20T11:59:04.976Z"
   },
   {
    "duration": 50,
    "start_time": "2023-01-20T11:59:04.996Z"
   },
   {
    "duration": 285,
    "start_time": "2023-01-20T11:59:05.049Z"
   },
   {
    "duration": 21,
    "start_time": "2023-01-20T11:59:05.340Z"
   },
   {
    "duration": 24,
    "start_time": "2023-01-20T11:59:05.364Z"
   },
   {
    "duration": 87,
    "start_time": "2023-01-20T11:59:05.394Z"
   },
   {
    "duration": 11,
    "start_time": "2023-01-20T11:59:05.484Z"
   },
   {
    "duration": 41,
    "start_time": "2023-01-20T11:59:05.498Z"
   },
   {
    "duration": 35,
    "start_time": "2023-01-20T11:59:05.542Z"
   },
   {
    "duration": 26,
    "start_time": "2023-01-20T11:59:05.579Z"
   },
   {
    "duration": 152,
    "start_time": "2023-01-20T11:59:05.607Z"
   },
   {
    "duration": 306,
    "start_time": "2023-01-20T11:59:05.761Z"
   },
   {
    "duration": 19,
    "start_time": "2023-01-20T11:59:06.071Z"
   },
   {
    "duration": 206,
    "start_time": "2023-01-20T11:59:06.094Z"
   },
   {
    "duration": 28,
    "start_time": "2023-01-20T11:59:06.303Z"
   },
   {
    "duration": 62,
    "start_time": "2023-01-20T11:59:06.333Z"
   },
   {
    "duration": 97,
    "start_time": "2023-01-20T11:59:06.400Z"
   },
   {
    "duration": 9,
    "start_time": "2023-01-20T11:59:06.506Z"
   },
   {
    "duration": 15,
    "start_time": "2023-01-20T11:59:11.959Z"
   },
   {
    "duration": 14,
    "start_time": "2023-01-20T11:59:16.990Z"
   },
   {
    "duration": 19,
    "start_time": "2023-01-20T11:59:43.247Z"
   },
   {
    "duration": 16,
    "start_time": "2023-01-20T12:00:26.609Z"
   },
   {
    "duration": 7,
    "start_time": "2023-01-20T12:01:01.228Z"
   },
   {
    "duration": 18,
    "start_time": "2023-01-20T12:01:05.503Z"
   },
   {
    "duration": 17,
    "start_time": "2023-01-20T12:01:37.034Z"
   },
   {
    "duration": 11,
    "start_time": "2023-01-20T12:01:56.469Z"
   },
   {
    "duration": 18,
    "start_time": "2023-01-20T12:02:04.778Z"
   },
   {
    "duration": 17,
    "start_time": "2023-01-20T12:02:22.683Z"
   },
   {
    "duration": 1503,
    "start_time": "2023-01-20T12:02:38.812Z"
   },
   {
    "duration": 195,
    "start_time": "2023-01-20T12:02:40.319Z"
   },
   {
    "duration": 7,
    "start_time": "2023-01-20T12:02:40.516Z"
   },
   {
    "duration": 339,
    "start_time": "2023-01-20T12:02:40.525Z"
   },
   {
    "duration": 3,
    "start_time": "2023-01-20T12:02:40.866Z"
   },
   {
    "duration": 93,
    "start_time": "2023-01-20T12:02:40.871Z"
   },
   {
    "duration": 10,
    "start_time": "2023-01-20T12:02:40.967Z"
   },
   {
    "duration": 32,
    "start_time": "2023-01-20T12:02:40.979Z"
   },
   {
    "duration": 74,
    "start_time": "2023-01-20T12:02:41.014Z"
   },
   {
    "duration": 7,
    "start_time": "2023-01-20T12:02:41.090Z"
   },
   {
    "duration": 10,
    "start_time": "2023-01-20T12:02:41.099Z"
   },
   {
    "duration": 40,
    "start_time": "2023-01-20T12:02:41.111Z"
   },
   {
    "duration": 396,
    "start_time": "2023-01-20T12:02:41.153Z"
   },
   {
    "duration": 21,
    "start_time": "2023-01-20T12:02:41.553Z"
   },
   {
    "duration": 19,
    "start_time": "2023-01-20T12:02:41.576Z"
   },
   {
    "duration": 87,
    "start_time": "2023-01-20T12:02:41.597Z"
   },
   {
    "duration": 6,
    "start_time": "2023-01-20T12:02:41.687Z"
   },
   {
    "duration": 41,
    "start_time": "2023-01-20T12:02:41.695Z"
   },
   {
    "duration": 27,
    "start_time": "2023-01-20T12:02:41.741Z"
   },
   {
    "duration": 24,
    "start_time": "2023-01-20T12:02:41.770Z"
   },
   {
    "duration": 152,
    "start_time": "2023-01-20T12:02:41.797Z"
   },
   {
    "duration": 270,
    "start_time": "2023-01-20T12:02:41.953Z"
   },
   {
    "duration": 220,
    "start_time": "2023-01-20T12:02:42.225Z"
   },
   {
    "duration": 237,
    "start_time": "2023-01-20T12:02:42.447Z"
   },
   {
    "duration": 19,
    "start_time": "2023-01-20T12:02:42.686Z"
   },
   {
    "duration": 7,
    "start_time": "2023-01-20T12:02:42.708Z"
   },
   {
    "duration": 23,
    "start_time": "2023-01-20T12:02:42.740Z"
   },
   {
    "duration": 89,
    "start_time": "2023-01-20T12:02:42.765Z"
   },
   {
    "duration": 5,
    "start_time": "2023-01-20T12:02:53.881Z"
   },
   {
    "duration": 252,
    "start_time": "2023-01-20T12:02:53.889Z"
   },
   {
    "duration": 9,
    "start_time": "2023-01-20T12:02:54.143Z"
   },
   {
    "duration": 379,
    "start_time": "2023-01-20T12:02:54.154Z"
   },
   {
    "duration": 8,
    "start_time": "2023-01-20T12:02:54.540Z"
   },
   {
    "duration": 113,
    "start_time": "2023-01-20T12:02:54.550Z"
   },
   {
    "duration": 9,
    "start_time": "2023-01-20T12:02:54.665Z"
   },
   {
    "duration": 52,
    "start_time": "2023-01-20T12:02:54.677Z"
   },
   {
    "duration": 56,
    "start_time": "2023-01-20T12:02:54.732Z"
   },
   {
    "duration": 16,
    "start_time": "2023-01-20T12:02:54.790Z"
   },
   {
    "duration": 38,
    "start_time": "2023-01-20T12:02:54.809Z"
   },
   {
    "duration": 35,
    "start_time": "2023-01-20T12:02:54.849Z"
   },
   {
    "duration": 370,
    "start_time": "2023-01-20T12:02:54.889Z"
   },
   {
    "duration": 27,
    "start_time": "2023-01-20T12:02:55.262Z"
   },
   {
    "duration": 22,
    "start_time": "2023-01-20T12:02:55.292Z"
   },
   {
    "duration": 104,
    "start_time": "2023-01-20T12:02:55.315Z"
   },
   {
    "duration": 6,
    "start_time": "2023-01-20T12:02:55.421Z"
   },
   {
    "duration": 82,
    "start_time": "2023-01-20T12:02:55.429Z"
   },
   {
    "duration": 37,
    "start_time": "2023-01-20T12:02:55.513Z"
   },
   {
    "duration": 35,
    "start_time": "2023-01-20T12:02:55.552Z"
   },
   {
    "duration": 133,
    "start_time": "2023-01-20T12:02:55.589Z"
   },
   {
    "duration": 247,
    "start_time": "2023-01-20T12:02:55.724Z"
   },
   {
    "duration": 15,
    "start_time": "2023-01-20T12:02:55.973Z"
   },
   {
    "duration": 182,
    "start_time": "2023-01-20T12:02:55.990Z"
   },
   {
    "duration": 21,
    "start_time": "2023-01-20T12:02:56.174Z"
   },
   {
    "duration": 33,
    "start_time": "2023-01-20T12:02:56.198Z"
   },
   {
    "duration": 71,
    "start_time": "2023-01-20T12:02:56.233Z"
   },
   {
    "duration": 86,
    "start_time": "2023-01-20T12:02:56.307Z"
   },
   {
    "duration": 6,
    "start_time": "2023-01-20T12:02:56.396Z"
   },
   {
    "duration": 90,
    "start_time": "2023-01-20T12:02:56.404Z"
   },
   {
    "duration": 34,
    "start_time": "2023-01-20T12:02:56.496Z"
   },
   {
    "duration": 77,
    "start_time": "2023-01-20T12:02:56.532Z"
   },
   {
    "duration": 75,
    "start_time": "2023-01-20T12:02:56.611Z"
   },
   {
    "duration": 4,
    "start_time": "2023-01-20T12:56:24.125Z"
   },
   {
    "duration": 229,
    "start_time": "2023-01-20T12:56:24.132Z"
   },
   {
    "duration": 8,
    "start_time": "2023-01-20T12:56:24.363Z"
   },
   {
    "duration": 233,
    "start_time": "2023-01-20T12:56:24.372Z"
   },
   {
    "duration": 4,
    "start_time": "2023-01-20T12:56:24.608Z"
   },
   {
    "duration": 84,
    "start_time": "2023-01-20T12:56:24.613Z"
   },
   {
    "duration": 9,
    "start_time": "2023-01-20T12:56:24.699Z"
   },
   {
    "duration": 33,
    "start_time": "2023-01-20T12:56:24.710Z"
   },
   {
    "duration": 41,
    "start_time": "2023-01-20T12:56:24.754Z"
   },
   {
    "duration": 7,
    "start_time": "2023-01-20T12:56:24.798Z"
   },
   {
    "duration": 9,
    "start_time": "2023-01-20T12:56:24.808Z"
   },
   {
    "duration": 29,
    "start_time": "2023-01-20T12:56:24.819Z"
   },
   {
    "duration": 335,
    "start_time": "2023-01-20T12:56:24.850Z"
   },
   {
    "duration": 16,
    "start_time": "2023-01-20T12:56:25.188Z"
   },
   {
    "duration": 37,
    "start_time": "2023-01-20T12:56:25.206Z"
   },
   {
    "duration": 52,
    "start_time": "2023-01-20T12:56:25.245Z"
   },
   {
    "duration": 5,
    "start_time": "2023-01-20T12:56:25.298Z"
   },
   {
    "duration": 50,
    "start_time": "2023-01-20T12:56:25.305Z"
   },
   {
    "duration": 24,
    "start_time": "2023-01-20T12:56:25.358Z"
   },
   {
    "duration": 21,
    "start_time": "2023-01-20T12:56:25.384Z"
   },
   {
    "duration": 111,
    "start_time": "2023-01-20T12:56:25.406Z"
   },
   {
    "duration": 235,
    "start_time": "2023-01-20T12:56:25.519Z"
   },
   {
    "duration": 21,
    "start_time": "2023-01-20T12:56:25.758Z"
   },
   {
    "duration": 142,
    "start_time": "2023-01-20T12:56:25.782Z"
   },
   {
    "duration": 23,
    "start_time": "2023-01-20T12:56:25.926Z"
   },
   {
    "duration": 38,
    "start_time": "2023-01-20T12:56:25.952Z"
   },
   {
    "duration": 18,
    "start_time": "2023-01-20T12:56:25.992Z"
   },
   {
    "duration": 83,
    "start_time": "2023-01-20T12:56:26.011Z"
   },
   {
    "duration": 7,
    "start_time": "2023-01-20T12:56:26.096Z"
   },
   {
    "duration": 24,
    "start_time": "2023-01-20T12:56:26.105Z"
   },
   {
    "duration": 22,
    "start_time": "2023-01-20T12:56:26.130Z"
   },
   {
    "duration": 30,
    "start_time": "2023-01-20T12:56:26.160Z"
   },
   {
    "duration": 17,
    "start_time": "2023-01-20T12:56:26.192Z"
   },
   {
    "duration": 239,
    "start_time": "2023-01-20T13:22:07.334Z"
   },
   {
    "duration": 252,
    "start_time": "2023-01-20T13:22:36.473Z"
   },
   {
    "duration": 218,
    "start_time": "2023-01-20T13:23:08.555Z"
   },
   {
    "duration": 5,
    "start_time": "2023-01-20T13:23:39.292Z"
   },
   {
    "duration": 225,
    "start_time": "2023-01-20T13:23:43.172Z"
   },
   {
    "duration": 248,
    "start_time": "2023-01-20T13:24:07.552Z"
   },
   {
    "duration": 277,
    "start_time": "2023-01-20T13:24:44.101Z"
   },
   {
    "duration": 287,
    "start_time": "2023-01-20T13:25:01.889Z"
   },
   {
    "duration": 632,
    "start_time": "2023-01-20T13:26:56.126Z"
   },
   {
    "duration": 298,
    "start_time": "2023-01-20T13:27:03.161Z"
   },
   {
    "duration": 198,
    "start_time": "2023-01-20T13:27:07.196Z"
   },
   {
    "duration": 238,
    "start_time": "2023-01-20T13:27:11.423Z"
   },
   {
    "duration": 336,
    "start_time": "2023-01-20T13:28:58.778Z"
   },
   {
    "duration": 146,
    "start_time": "2023-01-20T13:29:49.664Z"
   },
   {
    "duration": 305,
    "start_time": "2023-01-20T13:29:56.666Z"
   },
   {
    "duration": 20,
    "start_time": "2023-01-20T13:31:00.804Z"
   },
   {
    "duration": 27,
    "start_time": "2023-01-20T13:31:10.551Z"
   },
   {
    "duration": 262,
    "start_time": "2023-01-20T13:32:43.662Z"
   },
   {
    "duration": 461,
    "start_time": "2023-01-20T13:39:54.304Z"
   },
   {
    "duration": 365,
    "start_time": "2023-01-20T13:40:02.928Z"
   },
   {
    "duration": 362,
    "start_time": "2023-01-20T13:40:09.575Z"
   },
   {
    "duration": 361,
    "start_time": "2023-01-20T13:40:13.325Z"
   },
   {
    "duration": 465,
    "start_time": "2023-01-20T13:40:54.702Z"
   },
   {
    "duration": 523,
    "start_time": "2023-01-20T13:41:02.469Z"
   },
   {
    "duration": 461,
    "start_time": "2023-01-20T13:41:13.473Z"
   },
   {
    "duration": 483,
    "start_time": "2023-01-20T13:41:20.957Z"
   },
   {
    "duration": 441,
    "start_time": "2023-01-20T13:41:25.754Z"
   },
   {
    "duration": 466,
    "start_time": "2023-01-20T13:42:03.222Z"
   },
   {
    "duration": 455,
    "start_time": "2023-01-20T13:42:29.255Z"
   },
   {
    "duration": 632,
    "start_time": "2023-01-20T13:49:51.724Z"
   },
   {
    "duration": 1179,
    "start_time": "2023-01-20T14:00:45.855Z"
   },
   {
    "duration": 192,
    "start_time": "2023-01-20T14:00:47.036Z"
   },
   {
    "duration": 15,
    "start_time": "2023-01-20T14:00:47.230Z"
   },
   {
    "duration": 259,
    "start_time": "2023-01-20T14:00:47.247Z"
   },
   {
    "duration": 4,
    "start_time": "2023-01-20T14:00:47.508Z"
   },
   {
    "duration": 96,
    "start_time": "2023-01-20T14:00:47.514Z"
   },
   {
    "duration": 11,
    "start_time": "2023-01-20T14:00:47.612Z"
   },
   {
    "duration": 34,
    "start_time": "2023-01-20T14:00:47.625Z"
   },
   {
    "duration": 51,
    "start_time": "2023-01-20T14:00:47.661Z"
   },
   {
    "duration": 6,
    "start_time": "2023-01-20T14:00:47.715Z"
   },
   {
    "duration": 22,
    "start_time": "2023-01-20T14:00:47.723Z"
   },
   {
    "duration": 30,
    "start_time": "2023-01-20T14:00:47.746Z"
   },
   {
    "duration": 498,
    "start_time": "2023-01-20T14:00:47.778Z"
   },
   {
    "duration": 9,
    "start_time": "2023-01-20T14:00:48.278Z"
   },
   {
    "duration": 336,
    "start_time": "2023-01-20T14:00:48.289Z"
   },
   {
    "duration": 33,
    "start_time": "2023-01-20T14:00:48.627Z"
   },
   {
    "duration": 18,
    "start_time": "2023-01-20T14:00:48.662Z"
   },
   {
    "duration": 74,
    "start_time": "2023-01-20T14:00:48.682Z"
   },
   {
    "duration": 4,
    "start_time": "2023-01-20T14:00:48.758Z"
   },
   {
    "duration": 31,
    "start_time": "2023-01-20T14:00:48.764Z"
   },
   {
    "duration": 22,
    "start_time": "2023-01-20T14:00:48.797Z"
   },
   {
    "duration": 45,
    "start_time": "2023-01-20T14:00:48.820Z"
   },
   {
    "duration": 99,
    "start_time": "2023-01-20T14:00:48.866Z"
   },
   {
    "duration": 299,
    "start_time": "2023-01-20T14:00:48.967Z"
   },
   {
    "duration": 203,
    "start_time": "2023-01-20T14:00:49.268Z"
   },
   {
    "duration": 225,
    "start_time": "2023-01-20T14:00:49.473Z"
   },
   {
    "duration": 16,
    "start_time": "2023-01-20T14:00:49.700Z"
   },
   {
    "duration": 28,
    "start_time": "2023-01-20T14:00:49.742Z"
   },
   {
    "duration": 23,
    "start_time": "2023-01-20T14:00:49.772Z"
   },
   {
    "duration": 103,
    "start_time": "2023-01-20T14:00:49.797Z"
   },
   {
    "duration": 6,
    "start_time": "2023-01-20T14:00:49.901Z"
   },
   {
    "duration": 37,
    "start_time": "2023-01-20T14:00:49.909Z"
   },
   {
    "duration": 30,
    "start_time": "2023-01-20T14:00:49.948Z"
   },
   {
    "duration": 19,
    "start_time": "2023-01-20T14:00:49.980Z"
   },
   {
    "duration": 30,
    "start_time": "2023-01-20T14:00:50.001Z"
   },
   {
    "duration": 1191,
    "start_time": "2023-01-20T14:36:09.615Z"
   },
   {
    "duration": 183,
    "start_time": "2023-01-20T14:36:10.808Z"
   },
   {
    "duration": 6,
    "start_time": "2023-01-20T14:36:10.993Z"
   },
   {
    "duration": 263,
    "start_time": "2023-01-20T14:36:11.001Z"
   },
   {
    "duration": 3,
    "start_time": "2023-01-20T14:36:11.266Z"
   },
   {
    "duration": 87,
    "start_time": "2023-01-20T14:36:11.270Z"
   },
   {
    "duration": 9,
    "start_time": "2023-01-20T14:36:11.359Z"
   },
   {
    "duration": 22,
    "start_time": "2023-01-20T14:36:11.369Z"
   },
   {
    "duration": 34,
    "start_time": "2023-01-20T14:36:11.393Z"
   },
   {
    "duration": 15,
    "start_time": "2023-01-20T14:36:11.442Z"
   },
   {
    "duration": 18,
    "start_time": "2023-01-20T14:36:11.458Z"
   },
   {
    "duration": 27,
    "start_time": "2023-01-20T14:36:11.478Z"
   },
   {
    "duration": 462,
    "start_time": "2023-01-20T14:36:11.507Z"
   },
   {
    "duration": 8,
    "start_time": "2023-01-20T14:36:11.972Z"
   },
   {
    "duration": 357,
    "start_time": "2023-01-20T14:36:11.981Z"
   },
   {
    "duration": 19,
    "start_time": "2023-01-20T14:36:12.343Z"
   },
   {
    "duration": 19,
    "start_time": "2023-01-20T14:36:12.364Z"
   },
   {
    "duration": 78,
    "start_time": "2023-01-20T14:36:12.384Z"
   },
   {
    "duration": 6,
    "start_time": "2023-01-20T14:36:12.464Z"
   },
   {
    "duration": 25,
    "start_time": "2023-01-20T14:36:12.473Z"
   },
   {
    "duration": 51,
    "start_time": "2023-01-20T14:36:12.500Z"
   },
   {
    "duration": 22,
    "start_time": "2023-01-20T14:36:12.553Z"
   },
   {
    "duration": 92,
    "start_time": "2023-01-20T14:36:12.577Z"
   },
   {
    "duration": 220,
    "start_time": "2023-01-20T14:36:12.671Z"
   },
   {
    "duration": 164,
    "start_time": "2023-01-20T14:36:12.893Z"
   },
   {
    "duration": 217,
    "start_time": "2023-01-20T14:36:13.061Z"
   },
   {
    "duration": 14,
    "start_time": "2023-01-20T14:36:13.280Z"
   },
   {
    "duration": 6,
    "start_time": "2023-01-20T14:36:13.346Z"
   },
   {
    "duration": 16,
    "start_time": "2023-01-20T14:36:13.353Z"
   },
   {
    "duration": 89,
    "start_time": "2023-01-20T14:36:13.371Z"
   },
   {
    "duration": 7,
    "start_time": "2023-01-20T14:36:13.462Z"
   },
   {
    "duration": 19,
    "start_time": "2023-01-20T14:36:13.471Z"
   },
   {
    "duration": 19,
    "start_time": "2023-01-20T14:36:13.492Z"
   },
   {
    "duration": 30,
    "start_time": "2023-01-20T14:36:13.513Z"
   },
   {
    "duration": 19,
    "start_time": "2023-01-20T14:36:13.548Z"
   },
   {
    "duration": 1308,
    "start_time": "2023-01-20T15:07:13.926Z"
   },
   {
    "duration": 804,
    "start_time": "2023-01-20T15:07:15.236Z"
   },
   {
    "duration": 7,
    "start_time": "2023-01-20T15:07:16.042Z"
   },
   {
    "duration": 236,
    "start_time": "2023-01-20T15:07:16.052Z"
   },
   {
    "duration": 4,
    "start_time": "2023-01-20T15:07:16.291Z"
   },
   {
    "duration": 99,
    "start_time": "2023-01-20T15:07:16.297Z"
   },
   {
    "duration": 12,
    "start_time": "2023-01-20T15:07:16.398Z"
   },
   {
    "duration": 42,
    "start_time": "2023-01-20T15:07:16.416Z"
   },
   {
    "duration": 45,
    "start_time": "2023-01-20T15:07:16.460Z"
   },
   {
    "duration": 10,
    "start_time": "2023-01-20T15:07:16.508Z"
   },
   {
    "duration": 24,
    "start_time": "2023-01-20T15:07:16.520Z"
   },
   {
    "duration": 48,
    "start_time": "2023-01-20T15:07:16.546Z"
   },
   {
    "duration": 495,
    "start_time": "2023-01-20T15:07:16.597Z"
   },
   {
    "duration": 8,
    "start_time": "2023-01-20T15:07:17.096Z"
   },
   {
    "duration": 346,
    "start_time": "2023-01-20T15:07:17.106Z"
   },
   {
    "duration": 17,
    "start_time": "2023-01-20T15:07:17.454Z"
   },
   {
    "duration": 19,
    "start_time": "2023-01-20T15:07:17.474Z"
   },
   {
    "duration": 78,
    "start_time": "2023-01-20T15:07:17.495Z"
   },
   {
    "duration": 5,
    "start_time": "2023-01-20T15:07:17.576Z"
   },
   {
    "duration": 39,
    "start_time": "2023-01-20T15:07:17.583Z"
   },
   {
    "duration": 28,
    "start_time": "2023-01-20T15:07:17.624Z"
   },
   {
    "duration": 21,
    "start_time": "2023-01-20T15:07:17.655Z"
   },
   {
    "duration": 99,
    "start_time": "2023-01-20T15:07:17.677Z"
   },
   {
    "duration": 219,
    "start_time": "2023-01-20T15:07:17.778Z"
   },
   {
    "duration": 404,
    "start_time": "2023-01-20T15:07:17.999Z"
   },
   {
    "duration": 183,
    "start_time": "2023-01-20T15:07:18.406Z"
   },
   {
    "duration": 16,
    "start_time": "2023-01-20T15:07:18.591Z"
   },
   {
    "duration": 20,
    "start_time": "2023-01-20T15:07:18.609Z"
   },
   {
    "duration": 13,
    "start_time": "2023-01-20T15:07:18.632Z"
   },
   {
    "duration": 94,
    "start_time": "2023-01-20T15:07:18.647Z"
   },
   {
    "duration": 7,
    "start_time": "2023-01-20T15:07:18.742Z"
   },
   {
    "duration": 16,
    "start_time": "2023-01-20T15:07:18.751Z"
   },
   {
    "duration": 15,
    "start_time": "2023-01-20T15:07:18.769Z"
   },
   {
    "duration": 13,
    "start_time": "2023-01-20T15:07:18.787Z"
   },
   {
    "duration": 33,
    "start_time": "2023-01-20T15:07:18.802Z"
   },
   {
    "duration": 7,
    "start_time": "2023-01-20T15:11:29.528Z"
   },
   {
    "duration": 691,
    "start_time": "2023-01-20T15:14:18.116Z"
   },
   {
    "duration": 4,
    "start_time": "2023-01-20T15:29:38.935Z"
   },
   {
    "duration": 247,
    "start_time": "2023-01-20T15:29:38.942Z"
   },
   {
    "duration": 15,
    "start_time": "2023-01-20T15:29:39.192Z"
   },
   {
    "duration": 219,
    "start_time": "2023-01-20T15:29:39.212Z"
   },
   {
    "duration": 4,
    "start_time": "2023-01-20T15:29:39.440Z"
   },
   {
    "duration": 66,
    "start_time": "2023-01-20T15:29:39.445Z"
   },
   {
    "duration": 11,
    "start_time": "2023-01-20T15:29:39.513Z"
   },
   {
    "duration": 28,
    "start_time": "2023-01-20T15:29:39.526Z"
   },
   {
    "duration": 40,
    "start_time": "2023-01-20T15:29:39.556Z"
   },
   {
    "duration": 17,
    "start_time": "2023-01-20T15:29:39.599Z"
   },
   {
    "duration": 30,
    "start_time": "2023-01-20T15:29:39.619Z"
   },
   {
    "duration": 29,
    "start_time": "2023-01-20T15:29:39.651Z"
   },
   {
    "duration": 551,
    "start_time": "2023-01-20T15:29:39.682Z"
   },
   {
    "duration": 10,
    "start_time": "2023-01-20T15:29:40.240Z"
   },
   {
    "duration": 262,
    "start_time": "2023-01-20T15:29:40.252Z"
   },
   {
    "duration": 643,
    "start_time": "2023-01-20T15:29:40.516Z"
   },
   {
    "duration": 17,
    "start_time": "2023-01-20T15:29:41.161Z"
   },
   {
    "duration": 16,
    "start_time": "2023-01-20T15:29:41.180Z"
   },
   {
    "duration": 88,
    "start_time": "2023-01-20T15:29:41.198Z"
   },
   {
    "duration": 6,
    "start_time": "2023-01-20T15:29:41.289Z"
   },
   {
    "duration": 34,
    "start_time": "2023-01-20T15:29:41.297Z"
   },
   {
    "duration": 22,
    "start_time": "2023-01-20T15:29:41.340Z"
   },
   {
    "duration": 21,
    "start_time": "2023-01-20T15:29:41.364Z"
   },
   {
    "duration": 102,
    "start_time": "2023-01-20T15:29:41.387Z"
   },
   {
    "duration": 220,
    "start_time": "2023-01-20T15:29:41.491Z"
   },
   {
    "duration": 12,
    "start_time": "2023-01-20T15:29:41.713Z"
   },
   {
    "duration": 131,
    "start_time": "2023-01-20T15:29:41.727Z"
   },
   {
    "duration": 15,
    "start_time": "2023-01-20T15:29:41.862Z"
   },
   {
    "duration": 10,
    "start_time": "2023-01-20T15:29:41.879Z"
   },
   {
    "duration": 20,
    "start_time": "2023-01-20T15:29:41.891Z"
   },
   {
    "duration": 79,
    "start_time": "2023-01-20T15:29:41.913Z"
   },
   {
    "duration": 6,
    "start_time": "2023-01-20T15:29:41.994Z"
   },
   {
    "duration": 16,
    "start_time": "2023-01-20T15:29:42.002Z"
   },
   {
    "duration": 23,
    "start_time": "2023-01-20T15:29:42.020Z"
   },
   {
    "duration": 11,
    "start_time": "2023-01-20T15:29:42.045Z"
   },
   {
    "duration": 21,
    "start_time": "2023-01-20T15:29:42.058Z"
   },
   {
    "duration": 8,
    "start_time": "2023-01-20T15:30:27.578Z"
   },
   {
    "duration": 4,
    "start_time": "2023-01-20T15:32:39.070Z"
   },
   {
    "duration": 107,
    "start_time": "2023-01-20T15:32:47.638Z"
   },
   {
    "duration": 9,
    "start_time": "2023-01-20T15:32:52.420Z"
   },
   {
    "duration": 11,
    "start_time": "2023-01-20T15:34:16.649Z"
   },
   {
    "duration": 23,
    "start_time": "2023-01-20T15:34:26.238Z"
   },
   {
    "duration": 12,
    "start_time": "2023-01-20T15:34:56.425Z"
   },
   {
    "duration": 12,
    "start_time": "2023-01-20T15:36:11.061Z"
   },
   {
    "duration": 13,
    "start_time": "2023-01-20T15:38:01.405Z"
   },
   {
    "duration": 15,
    "start_time": "2023-01-20T15:38:54.017Z"
   },
   {
    "duration": 12,
    "start_time": "2023-01-20T15:39:15.684Z"
   },
   {
    "duration": 12,
    "start_time": "2023-01-20T15:39:26.883Z"
   },
   {
    "duration": 13,
    "start_time": "2023-01-20T15:40:11.867Z"
   },
   {
    "duration": 13,
    "start_time": "2023-01-20T15:40:28.499Z"
   },
   {
    "duration": 13,
    "start_time": "2023-01-20T15:40:55.525Z"
   },
   {
    "duration": 12,
    "start_time": "2023-01-20T15:40:59.117Z"
   },
   {
    "duration": 15,
    "start_time": "2023-01-20T15:42:35.269Z"
   },
   {
    "duration": 17,
    "start_time": "2023-01-20T15:43:04.223Z"
   },
   {
    "duration": 18,
    "start_time": "2023-01-20T15:45:52.251Z"
   },
   {
    "duration": 15,
    "start_time": "2023-01-20T15:46:10.613Z"
   },
   {
    "duration": 1210,
    "start_time": "2023-01-20T15:51:20.599Z"
   },
   {
    "duration": 168,
    "start_time": "2023-01-20T15:51:21.811Z"
   },
   {
    "duration": 8,
    "start_time": "2023-01-20T15:51:21.981Z"
   },
   {
    "duration": 264,
    "start_time": "2023-01-20T15:51:21.991Z"
   },
   {
    "duration": 4,
    "start_time": "2023-01-20T15:51:22.257Z"
   },
   {
    "duration": 82,
    "start_time": "2023-01-20T15:51:22.263Z"
   },
   {
    "duration": 9,
    "start_time": "2023-01-20T15:51:22.347Z"
   },
   {
    "duration": 17,
    "start_time": "2023-01-20T15:51:22.358Z"
   },
   {
    "duration": 36,
    "start_time": "2023-01-20T15:51:22.377Z"
   },
   {
    "duration": 29,
    "start_time": "2023-01-20T15:51:22.416Z"
   },
   {
    "duration": 7,
    "start_time": "2023-01-20T15:51:22.447Z"
   },
   {
    "duration": 33,
    "start_time": "2023-01-20T15:51:22.456Z"
   },
   {
    "duration": 462,
    "start_time": "2023-01-20T15:51:22.491Z"
   },
   {
    "duration": 9,
    "start_time": "2023-01-20T15:51:22.955Z"
   },
   {
    "duration": 363,
    "start_time": "2023-01-20T15:51:22.966Z"
   },
   {
    "duration": 630,
    "start_time": "2023-01-20T15:51:23.331Z"
   },
   {
    "duration": 18,
    "start_time": "2023-01-20T15:51:23.963Z"
   },
   {
    "duration": 20,
    "start_time": "2023-01-20T15:51:23.982Z"
   },
   {
    "duration": 176,
    "start_time": "2023-01-20T15:51:24.004Z"
   },
   {
    "duration": 5,
    "start_time": "2023-01-20T15:51:24.182Z"
   },
   {
    "duration": 31,
    "start_time": "2023-01-20T15:51:24.189Z"
   },
   {
    "duration": 39,
    "start_time": "2023-01-20T15:51:24.222Z"
   },
   {
    "duration": 22,
    "start_time": "2023-01-20T15:51:24.263Z"
   },
   {
    "duration": 100,
    "start_time": "2023-01-20T15:51:24.287Z"
   },
   {
    "duration": 219,
    "start_time": "2023-01-20T15:51:24.388Z"
   },
   {
    "duration": 168,
    "start_time": "2023-01-20T15:51:24.609Z"
   },
   {
    "duration": 60,
    "start_time": "2023-01-20T15:51:24.779Z"
   },
   {
    "duration": 157,
    "start_time": "2023-01-20T15:51:24.843Z"
   },
   {
    "duration": 15,
    "start_time": "2023-01-20T15:51:25.001Z"
   },
   {
    "duration": 5,
    "start_time": "2023-01-20T15:51:25.040Z"
   },
   {
    "duration": 14,
    "start_time": "2023-01-20T15:51:25.047Z"
   },
   {
    "duration": 89,
    "start_time": "2023-01-20T15:51:25.063Z"
   },
   {
    "duration": 9,
    "start_time": "2023-01-20T15:51:25.154Z"
   },
   {
    "duration": 28,
    "start_time": "2023-01-20T15:51:25.165Z"
   },
   {
    "duration": 25,
    "start_time": "2023-01-20T15:51:25.194Z"
   },
   {
    "duration": 14,
    "start_time": "2023-01-20T15:51:25.221Z"
   },
   {
    "duration": 15,
    "start_time": "2023-01-20T15:51:25.237Z"
   },
   {
    "duration": 1240,
    "start_time": "2023-01-20T23:05:27.469Z"
   },
   {
    "duration": 209,
    "start_time": "2023-01-20T23:05:28.711Z"
   },
   {
    "duration": 7,
    "start_time": "2023-01-20T23:05:28.924Z"
   },
   {
    "duration": 362,
    "start_time": "2023-01-20T23:05:28.941Z"
   },
   {
    "duration": 3,
    "start_time": "2023-01-20T23:05:29.305Z"
   },
   {
    "duration": 99,
    "start_time": "2023-01-20T23:05:29.310Z"
   },
   {
    "duration": 11,
    "start_time": "2023-01-20T23:05:29.410Z"
   },
   {
    "duration": 28,
    "start_time": "2023-01-20T23:05:29.423Z"
   },
   {
    "duration": 37,
    "start_time": "2023-01-20T23:05:29.453Z"
   },
   {
    "duration": 7,
    "start_time": "2023-01-20T23:05:29.491Z"
   },
   {
    "duration": 45,
    "start_time": "2023-01-20T23:05:29.500Z"
   },
   {
    "duration": 30,
    "start_time": "2023-01-20T23:05:29.548Z"
   },
   {
    "duration": 501,
    "start_time": "2023-01-20T23:05:29.581Z"
   },
   {
    "duration": 10,
    "start_time": "2023-01-20T23:05:30.087Z"
   },
   {
    "duration": 379,
    "start_time": "2023-01-20T23:05:30.099Z"
   },
   {
    "duration": 628,
    "start_time": "2023-01-20T23:05:30.480Z"
   },
   {
    "duration": 29,
    "start_time": "2023-01-20T23:05:31.110Z"
   },
   {
    "duration": 50,
    "start_time": "2023-01-20T23:05:31.143Z"
   },
   {
    "duration": 220,
    "start_time": "2023-01-20T23:05:31.195Z"
   },
   {
    "duration": 4,
    "start_time": "2023-01-20T23:05:31.417Z"
   },
   {
    "duration": 47,
    "start_time": "2023-01-20T23:05:31.423Z"
   },
   {
    "duration": 35,
    "start_time": "2023-01-20T23:05:31.472Z"
   },
   {
    "duration": 21,
    "start_time": "2023-01-20T23:05:31.509Z"
   },
   {
    "duration": 95,
    "start_time": "2023-01-20T23:05:31.532Z"
   },
   {
    "duration": 262,
    "start_time": "2023-01-20T23:05:31.629Z"
   },
   {
    "duration": 400,
    "start_time": "2023-01-20T23:05:31.893Z"
   },
   {
    "duration": 45,
    "start_time": "2023-01-20T23:05:32.295Z"
   },
   {
    "duration": 179,
    "start_time": "2023-01-20T23:05:32.342Z"
   },
   {
    "duration": 31,
    "start_time": "2023-01-20T23:05:32.523Z"
   },
   {
    "duration": 20,
    "start_time": "2023-01-20T23:05:32.556Z"
   },
   {
    "duration": 29,
    "start_time": "2023-01-20T23:05:32.578Z"
   },
   {
    "duration": 89,
    "start_time": "2023-01-20T23:05:32.609Z"
   },
   {
    "duration": 7,
    "start_time": "2023-01-20T23:05:32.700Z"
   },
   {
    "duration": 55,
    "start_time": "2023-01-20T23:05:32.709Z"
   },
   {
    "duration": 14,
    "start_time": "2023-01-20T23:05:32.767Z"
   },
   {
    "duration": 19,
    "start_time": "2023-01-20T23:05:32.783Z"
   },
   {
    "duration": 17,
    "start_time": "2023-01-20T23:05:32.804Z"
   },
   {
    "duration": 1094,
    "start_time": "2023-03-14T15:29:14.206Z"
   },
   {
    "duration": 746,
    "start_time": "2023-03-14T15:29:15.302Z"
   },
   {
    "duration": 7,
    "start_time": "2023-03-14T15:29:16.050Z"
   },
   {
    "duration": 220,
    "start_time": "2023-03-14T15:29:16.060Z"
   },
   {
    "duration": 2,
    "start_time": "2023-03-14T15:29:16.282Z"
   },
   {
    "duration": 88,
    "start_time": "2023-03-14T15:29:16.286Z"
   },
   {
    "duration": 8,
    "start_time": "2023-03-14T15:29:16.376Z"
   },
   {
    "duration": 13,
    "start_time": "2023-03-14T15:29:16.386Z"
   },
   {
    "duration": 46,
    "start_time": "2023-03-14T15:29:16.401Z"
   },
   {
    "duration": 4,
    "start_time": "2023-03-14T15:29:16.450Z"
   },
   {
    "duration": 17,
    "start_time": "2023-03-14T15:29:16.456Z"
   },
   {
    "duration": 25,
    "start_time": "2023-03-14T15:29:16.474Z"
   },
   {
    "duration": 416,
    "start_time": "2023-03-14T15:29:16.500Z"
   },
   {
    "duration": 8,
    "start_time": "2023-03-14T15:29:16.917Z"
   },
   {
    "duration": 326,
    "start_time": "2023-03-14T15:29:16.927Z"
   },
   {
    "duration": 682,
    "start_time": "2023-03-14T15:29:17.254Z"
   },
   {
    "duration": 19,
    "start_time": "2023-03-14T15:29:17.940Z"
   },
   {
    "duration": 18,
    "start_time": "2023-03-14T15:29:17.961Z"
   },
   {
    "duration": 171,
    "start_time": "2023-03-14T15:29:17.981Z"
   },
   {
    "duration": 5,
    "start_time": "2023-03-14T15:29:18.153Z"
   },
   {
    "duration": 31,
    "start_time": "2023-03-14T15:29:18.160Z"
   },
   {
    "duration": 27,
    "start_time": "2023-03-14T15:29:18.193Z"
   },
   {
    "duration": 39,
    "start_time": "2023-03-14T15:29:18.221Z"
   },
   {
    "duration": 94,
    "start_time": "2023-03-14T15:29:18.262Z"
   },
   {
    "duration": 215,
    "start_time": "2023-03-14T15:29:18.357Z"
   },
   {
    "duration": 182,
    "start_time": "2023-03-14T15:29:18.574Z"
   },
   {
    "duration": 16,
    "start_time": "2023-03-14T15:29:18.758Z"
   },
   {
    "duration": 182,
    "start_time": "2023-03-14T15:29:18.777Z"
   },
   {
    "duration": 15,
    "start_time": "2023-03-14T15:29:18.960Z"
   },
   {
    "duration": 6,
    "start_time": "2023-03-14T15:29:18.976Z"
   },
   {
    "duration": 16,
    "start_time": "2023-03-14T15:29:18.984Z"
   },
   {
    "duration": 86,
    "start_time": "2023-03-14T15:29:19.002Z"
   },
   {
    "duration": 7,
    "start_time": "2023-03-14T15:29:19.089Z"
   },
   {
    "duration": 13,
    "start_time": "2023-03-14T15:29:19.098Z"
   },
   {
    "duration": 9,
    "start_time": "2023-03-14T15:29:19.113Z"
   },
   {
    "duration": 8,
    "start_time": "2023-03-14T15:29:19.142Z"
   },
   {
    "duration": 11,
    "start_time": "2023-03-14T15:29:19.152Z"
   }
  ],
  "kernelspec": {
   "display_name": "Python 3",
   "language": "python",
   "name": "python3"
  },
  "language_info": {
   "codemirror_mode": {
    "name": "ipython",
    "version": 3
   },
   "file_extension": ".py",
   "mimetype": "text/x-python",
   "name": "python",
   "nbconvert_exporter": "python",
   "pygments_lexer": "ipython3",
   "version": "3.8.5"
  },
  "toc": {
   "base_numbering": 1,
   "nav_menu": {},
   "number_sections": false,
   "sideBar": true,
   "skip_h1_title": false,
   "title_cell": "Анализ поведения пользователей приложения",
   "title_sidebar": "Содержание",
   "toc_cell": true,
   "toc_position": {
    "height": "calc(100% - 180px)",
    "left": "10px",
    "top": "150px",
    "width": "254.875px"
   },
   "toc_section_display": true,
   "toc_window_display": true
  },
  "varInspector": {
   "cols": {
    "lenName": 16,
    "lenType": 16,
    "lenVar": 40
   },
   "kernels_config": {
    "python": {
     "delete_cmd_postfix": "",
     "delete_cmd_prefix": "del ",
     "library": "var_list.py",
     "varRefreshCmd": "print(var_dic_list())"
    },
    "r": {
     "delete_cmd_postfix": ") ",
     "delete_cmd_prefix": "rm(",
     "library": "var_list.r",
     "varRefreshCmd": "cat(var_dic_list()) "
    }
   },
   "types_to_exclude": [
    "module",
    "function",
    "builtin_function_or_method",
    "instance",
    "_Feature"
   ],
   "window_display": false
  }
 },
 "nbformat": 4,
 "nbformat_minor": 2
}
