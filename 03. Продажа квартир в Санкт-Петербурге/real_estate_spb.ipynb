{
 "cells": [
  {
   "cell_type": "markdown",
   "metadata": {
    "toc": true
   },
   "source": [
    "<h1>Содержание<span class=\"tocSkip\"></span></h1>\n",
    "<div class=\"toc\"><ul class=\"toc-item\"><li><span><a href=\"#Откройте-файл-с-данными-и-изучите-общую-информацию.\" data-toc-modified-id=\"Откройте-файл-с-данными-и-изучите-общую-информацию.-1\"><span class=\"toc-item-num\">1&nbsp;&nbsp;</span>Откройте файл с данными и изучите общую информацию.</a></span></li><li><span><a href=\"#Предобработка-данных\" data-toc-modified-id=\"Предобработка-данных-2\"><span class=\"toc-item-num\">2&nbsp;&nbsp;</span>Предобработка данных</a></span></li><li><span><a href=\"#Посчитайте-и-добавьте-в-таблицу-новые-столбцы\" data-toc-modified-id=\"Посчитайте-и-добавьте-в-таблицу-новые-столбцы-3\"><span class=\"toc-item-num\">3&nbsp;&nbsp;</span>Посчитайте и добавьте в таблицу новые столбцы</a></span></li><li><span><a href=\"#Проведите-исследовательский-анализ-данных\" data-toc-modified-id=\"Проведите-исследовательский-анализ-данных-4\"><span class=\"toc-item-num\">4&nbsp;&nbsp;</span>Проведите исследовательский анализ данных</a></span><ul class=\"toc-item\"><li><span><a href=\"#Изучим-и-опишем-подробнее-следующие-параметры:\" data-toc-modified-id=\"Изучим-и-опишем-подробнее-следующие-параметры:-4.1\"><span class=\"toc-item-num\">4.1&nbsp;&nbsp;</span>Изучим и опишем подробнее следующие параметры:</a></span></li><li><span><a href=\"#Изучите,-как-быстро-продавались-квартиры\" data-toc-modified-id=\"Изучите,-как-быстро-продавались-квартиры-4.2\"><span class=\"toc-item-num\">4.2&nbsp;&nbsp;</span>Изучите, как быстро продавались квартиры</a></span></li><li><span><a href=\"#Какие-факторы-больше-всего-влияют-на-общую-(полную)-стоимость-объекта?\" data-toc-modified-id=\"Какие-факторы-больше-всего-влияют-на-общую-(полную)-стоимость-объекта?-4.3\"><span class=\"toc-item-num\">4.3&nbsp;&nbsp;</span>Какие факторы больше всего влияют на общую (полную) стоимость объекта?</a></span></li><li><span><a href=\"#Посчитайте-среднюю-цену-одного-квадратного-метра-в-10-населённых-пунктах-с-наибольшим-числом-объявлений.\" data-toc-modified-id=\"Посчитайте-среднюю-цену-одного-квадратного-метра-в-10-населённых-пунктах-с-наибольшим-числом-объявлений.-4.4\"><span class=\"toc-item-num\">4.4&nbsp;&nbsp;</span>Посчитайте среднюю цену одного квадратного метра в 10 населённых пунктах с наибольшим числом объявлений.</a></span></li><li><span><a href=\"#Вычислите-среднюю-цену-каждого-километра-в-Санкт-Петербурге.-Опишите,-как-стоимость-объектов-зависит-от-расстояния-до-центра-города.\" data-toc-modified-id=\"Вычислите-среднюю-цену-каждого-километра-в-Санкт-Петербурге.-Опишите,-как-стоимость-объектов-зависит-от-расстояния-до-центра-города.-4.5\"><span class=\"toc-item-num\">4.5&nbsp;&nbsp;</span>Вычислите среднюю цену каждого километра в Санкт-Петербурге. Опишите, как стоимость объектов зависит от расстояния до центра города.</a></span></li></ul></li><li><span><a href=\"#Общий-вывод\" data-toc-modified-id=\"Общий-вывод-5\"><span class=\"toc-item-num\">5&nbsp;&nbsp;</span>Общий вывод</a></span></li></ul></div>"
   ]
  },
  {
   "cell_type": "markdown",
   "metadata": {},
   "source": [
    "# Исследование объявлений о продаже квартир\n",
    "\n",
    "В вашем распоряжении данные сервиса Яндекс.Недвижимость — архив объявлений о продаже квартир в Санкт-Петербурге и соседних населённых пунктов за несколько лет. Нужно научиться определять рыночную стоимость объектов недвижимости. Ваша задача — установить параметры. Это позволит построить автоматизированную систему: она отследит аномалии и мошенническую деятельность. \n",
    "\n",
    "По каждой квартире на продажу доступны два вида данных. Первые вписаны пользователем, вторые — получены автоматически на основе картографических данных. Например, расстояние до центра, аэропорта, ближайшего парка и водоёма. "
   ]
  },
  {
   "cell_type": "markdown",
   "metadata": {},
   "source": [
    "### Откройте файл с данными и изучите общую информацию. "
   ]
  },
  {
   "cell_type": "code",
   "execution_count": 1,
   "metadata": {
    "scrolled": true
   },
   "outputs": [],
   "source": [
    "import pandas as pd\n",
    "import matplotlib.pyplot as plt\n",
    "import seaborn as sns"
   ]
  },
  {
   "cell_type": "code",
   "execution_count": 2,
   "metadata": {},
   "outputs": [
    {
     "data": {
      "text/html": [
       "<div>\n",
       "<style scoped>\n",
       "    .dataframe tbody tr th:only-of-type {\n",
       "        vertical-align: middle;\n",
       "    }\n",
       "\n",
       "    .dataframe tbody tr th {\n",
       "        vertical-align: top;\n",
       "    }\n",
       "\n",
       "    .dataframe thead th {\n",
       "        text-align: right;\n",
       "    }\n",
       "</style>\n",
       "<table border=\"1\" class=\"dataframe\">\n",
       "  <thead>\n",
       "    <tr style=\"text-align: right;\">\n",
       "      <th></th>\n",
       "      <th>total_images</th>\n",
       "      <th>last_price</th>\n",
       "      <th>total_area</th>\n",
       "      <th>first_day_exposition</th>\n",
       "      <th>rooms</th>\n",
       "      <th>ceiling_height</th>\n",
       "      <th>floors_total</th>\n",
       "      <th>living_area</th>\n",
       "      <th>floor</th>\n",
       "      <th>is_apartment</th>\n",
       "      <th>studio</th>\n",
       "      <th>open_plan</th>\n",
       "      <th>kitchen_area</th>\n",
       "      <th>balcony</th>\n",
       "      <th>locality_name</th>\n",
       "      <th>airports_nearest</th>\n",
       "      <th>cityCenters_nearest</th>\n",
       "      <th>parks_around3000</th>\n",
       "      <th>parks_nearest</th>\n",
       "      <th>ponds_around3000</th>\n",
       "      <th>ponds_nearest</th>\n",
       "      <th>days_exposition</th>\n",
       "    </tr>\n",
       "  </thead>\n",
       "  <tbody>\n",
       "    <tr>\n",
       "      <th>0</th>\n",
       "      <td>20</td>\n",
       "      <td>13000000.0</td>\n",
       "      <td>108.0</td>\n",
       "      <td>2019-03-07T00:00:00</td>\n",
       "      <td>3</td>\n",
       "      <td>2.70</td>\n",
       "      <td>16.0</td>\n",
       "      <td>51.0</td>\n",
       "      <td>8</td>\n",
       "      <td>NaN</td>\n",
       "      <td>False</td>\n",
       "      <td>False</td>\n",
       "      <td>25.0</td>\n",
       "      <td>NaN</td>\n",
       "      <td>Санкт-Петербург</td>\n",
       "      <td>18863.0</td>\n",
       "      <td>16028.0</td>\n",
       "      <td>1.0</td>\n",
       "      <td>482.0</td>\n",
       "      <td>2.0</td>\n",
       "      <td>755.0</td>\n",
       "      <td>NaN</td>\n",
       "    </tr>\n",
       "    <tr>\n",
       "      <th>1</th>\n",
       "      <td>7</td>\n",
       "      <td>3350000.0</td>\n",
       "      <td>40.4</td>\n",
       "      <td>2018-12-04T00:00:00</td>\n",
       "      <td>1</td>\n",
       "      <td>NaN</td>\n",
       "      <td>11.0</td>\n",
       "      <td>18.6</td>\n",
       "      <td>1</td>\n",
       "      <td>NaN</td>\n",
       "      <td>False</td>\n",
       "      <td>False</td>\n",
       "      <td>11.0</td>\n",
       "      <td>2.0</td>\n",
       "      <td>посёлок Шушары</td>\n",
       "      <td>12817.0</td>\n",
       "      <td>18603.0</td>\n",
       "      <td>0.0</td>\n",
       "      <td>NaN</td>\n",
       "      <td>0.0</td>\n",
       "      <td>NaN</td>\n",
       "      <td>81.0</td>\n",
       "    </tr>\n",
       "    <tr>\n",
       "      <th>2</th>\n",
       "      <td>10</td>\n",
       "      <td>5196000.0</td>\n",
       "      <td>56.0</td>\n",
       "      <td>2015-08-20T00:00:00</td>\n",
       "      <td>2</td>\n",
       "      <td>NaN</td>\n",
       "      <td>5.0</td>\n",
       "      <td>34.3</td>\n",
       "      <td>4</td>\n",
       "      <td>NaN</td>\n",
       "      <td>False</td>\n",
       "      <td>False</td>\n",
       "      <td>8.3</td>\n",
       "      <td>0.0</td>\n",
       "      <td>Санкт-Петербург</td>\n",
       "      <td>21741.0</td>\n",
       "      <td>13933.0</td>\n",
       "      <td>1.0</td>\n",
       "      <td>90.0</td>\n",
       "      <td>2.0</td>\n",
       "      <td>574.0</td>\n",
       "      <td>558.0</td>\n",
       "    </tr>\n",
       "    <tr>\n",
       "      <th>3</th>\n",
       "      <td>0</td>\n",
       "      <td>64900000.0</td>\n",
       "      <td>159.0</td>\n",
       "      <td>2015-07-24T00:00:00</td>\n",
       "      <td>3</td>\n",
       "      <td>NaN</td>\n",
       "      <td>14.0</td>\n",
       "      <td>NaN</td>\n",
       "      <td>9</td>\n",
       "      <td>NaN</td>\n",
       "      <td>False</td>\n",
       "      <td>False</td>\n",
       "      <td>NaN</td>\n",
       "      <td>0.0</td>\n",
       "      <td>Санкт-Петербург</td>\n",
       "      <td>28098.0</td>\n",
       "      <td>6800.0</td>\n",
       "      <td>2.0</td>\n",
       "      <td>84.0</td>\n",
       "      <td>3.0</td>\n",
       "      <td>234.0</td>\n",
       "      <td>424.0</td>\n",
       "    </tr>\n",
       "    <tr>\n",
       "      <th>4</th>\n",
       "      <td>2</td>\n",
       "      <td>10000000.0</td>\n",
       "      <td>100.0</td>\n",
       "      <td>2018-06-19T00:00:00</td>\n",
       "      <td>2</td>\n",
       "      <td>3.03</td>\n",
       "      <td>14.0</td>\n",
       "      <td>32.0</td>\n",
       "      <td>13</td>\n",
       "      <td>NaN</td>\n",
       "      <td>False</td>\n",
       "      <td>False</td>\n",
       "      <td>41.0</td>\n",
       "      <td>NaN</td>\n",
       "      <td>Санкт-Петербург</td>\n",
       "      <td>31856.0</td>\n",
       "      <td>8098.0</td>\n",
       "      <td>2.0</td>\n",
       "      <td>112.0</td>\n",
       "      <td>1.0</td>\n",
       "      <td>48.0</td>\n",
       "      <td>121.0</td>\n",
       "    </tr>\n",
       "  </tbody>\n",
       "</table>\n",
       "</div>"
      ],
      "text/plain": [
       "   total_images  last_price  total_area first_day_exposition  rooms  \\\n",
       "0            20  13000000.0       108.0  2019-03-07T00:00:00      3   \n",
       "1             7   3350000.0        40.4  2018-12-04T00:00:00      1   \n",
       "2            10   5196000.0        56.0  2015-08-20T00:00:00      2   \n",
       "3             0  64900000.0       159.0  2015-07-24T00:00:00      3   \n",
       "4             2  10000000.0       100.0  2018-06-19T00:00:00      2   \n",
       "\n",
       "   ceiling_height  floors_total  living_area  floor is_apartment  studio  \\\n",
       "0            2.70          16.0         51.0      8          NaN   False   \n",
       "1             NaN          11.0         18.6      1          NaN   False   \n",
       "2             NaN           5.0         34.3      4          NaN   False   \n",
       "3             NaN          14.0          NaN      9          NaN   False   \n",
       "4            3.03          14.0         32.0     13          NaN   False   \n",
       "\n",
       "   open_plan  kitchen_area  balcony    locality_name  airports_nearest  \\\n",
       "0      False          25.0      NaN  Санкт-Петербург           18863.0   \n",
       "1      False          11.0      2.0   посёлок Шушары           12817.0   \n",
       "2      False           8.3      0.0  Санкт-Петербург           21741.0   \n",
       "3      False           NaN      0.0  Санкт-Петербург           28098.0   \n",
       "4      False          41.0      NaN  Санкт-Петербург           31856.0   \n",
       "\n",
       "   cityCenters_nearest  parks_around3000  parks_nearest  ponds_around3000  \\\n",
       "0              16028.0               1.0          482.0               2.0   \n",
       "1              18603.0               0.0            NaN               0.0   \n",
       "2              13933.0               1.0           90.0               2.0   \n",
       "3               6800.0               2.0           84.0               3.0   \n",
       "4               8098.0               2.0          112.0               1.0   \n",
       "\n",
       "   ponds_nearest  days_exposition  \n",
       "0          755.0              NaN  \n",
       "1            NaN             81.0  \n",
       "2          574.0            558.0  \n",
       "3          234.0            424.0  \n",
       "4           48.0            121.0  "
      ]
     },
     "execution_count": 2,
     "metadata": {},
     "output_type": "execute_result"
    }
   ],
   "source": [
    "pd.set_option('display.max_columns', 50) \n",
    "data = pd.read_csv('real_estate_data.csv', sep = '\\t')\n",
    "#посмотрим на первые 5 строк датафрейма\n",
    "data.head()"
   ]
  },
  {
   "cell_type": "markdown",
   "metadata": {},
   "source": [
    "**Вывод:** По первым 5 строкам видими пропущенные значения в некоторых столбцах. Изучим подробнее типы данных и кол-во ненулевых значений"
   ]
  },
  {
   "cell_type": "code",
   "execution_count": 3,
   "metadata": {},
   "outputs": [
    {
     "name": "stdout",
     "output_type": "stream",
     "text": [
      "<class 'pandas.core.frame.DataFrame'>\n",
      "RangeIndex: 23699 entries, 0 to 23698\n",
      "Data columns (total 22 columns):\n",
      " #   Column                Non-Null Count  Dtype  \n",
      "---  ------                --------------  -----  \n",
      " 0   total_images          23699 non-null  int64  \n",
      " 1   last_price            23699 non-null  float64\n",
      " 2   total_area            23699 non-null  float64\n",
      " 3   first_day_exposition  23699 non-null  object \n",
      " 4   rooms                 23699 non-null  int64  \n",
      " 5   ceiling_height        14504 non-null  float64\n",
      " 6   floors_total          23613 non-null  float64\n",
      " 7   living_area           21796 non-null  float64\n",
      " 8   floor                 23699 non-null  int64  \n",
      " 9   is_apartment          2775 non-null   object \n",
      " 10  studio                23699 non-null  bool   \n",
      " 11  open_plan             23699 non-null  bool   \n",
      " 12  kitchen_area          21421 non-null  float64\n",
      " 13  balcony               12180 non-null  float64\n",
      " 14  locality_name         23650 non-null  object \n",
      " 15  airports_nearest      18157 non-null  float64\n",
      " 16  cityCenters_nearest   18180 non-null  float64\n",
      " 17  parks_around3000      18181 non-null  float64\n",
      " 18  parks_nearest         8079 non-null   float64\n",
      " 19  ponds_around3000      18181 non-null  float64\n",
      " 20  ponds_nearest         9110 non-null   float64\n",
      " 21  days_exposition       20518 non-null  float64\n",
      "dtypes: bool(2), float64(14), int64(3), object(3)\n",
      "memory usage: 3.7+ MB\n"
     ]
    }
   ],
   "source": [
    "data.info()"
   ]
  },
  {
   "cell_type": "markdown",
   "metadata": {},
   "source": [
    "**Вывод:** Имеем пропущенные значения по следующим столбцам -   \n",
    "\n",
    "* `ceiling_height`,  \n",
    "\n",
    "* `floors_total`,  \n",
    "* `living_area`,  \n",
    "* `is_apartment`,  \n",
    "* `kitchen_area`,  \n",
    "* `balcony`,  \n",
    "* `locality_name`,    \n",
    "* `airports_nearest`,  \n",
    "* `cityCenters_nearest`,  \n",
    "* `parks_around3000`,  \n",
    "* `parks_nearest`,  \n",
    "* `ponds_around3000`,    \n",
    "* `ponds_nearest`,  \n",
    "* `days_exposition`  \n",
    "\n",
    "Также в датафрейме присутствуют некорректные типы данных для некоторых столбцов:\n",
    "\n",
    "* `first_day_exposition` - object (должен быть тип datetime, т.к. это дата)\n",
    "\n",
    "* `days_exposition` - float64 (должен быть int, т.к. кол-во дней - это целое число)\n",
    "* `floors_total` - float64 (должен быть int, т.к. кол-во этажей - это целое число)\n"
   ]
  },
  {
   "cell_type": "code",
   "execution_count": 4,
   "metadata": {
    "scrolled": true
   },
   "outputs": [
    {
     "data": {
      "image/png": "[encoded data removed]",
      "text/plain": [
       "<Figure size 1080x1440 with 20 Axes>"
      ]
     },
     "metadata": {
      "needs_background": "light"
     },
     "output_type": "display_data"
    }
   ],
   "source": [
    "data.hist(figsize=(15, 20));"
   ]
  },
  {
   "cell_type": "markdown",
   "metadata": {},
   "source": [
    "**Вывод:** По построенным гистограммам, на первый взгляд, данные выглядят адекватно, рассмотрим каждую колонку подробней"
   ]
  },
  {
   "cell_type": "code",
   "execution_count": 5,
   "metadata": {
    "scrolled": true
   },
   "outputs": [
    {
     "data": {
      "text/html": [
       "<div>\n",
       "<style scoped>\n",
       "    .dataframe tbody tr th:only-of-type {\n",
       "        vertical-align: middle;\n",
       "    }\n",
       "\n",
       "    .dataframe tbody tr th {\n",
       "        vertical-align: top;\n",
       "    }\n",
       "\n",
       "    .dataframe thead th {\n",
       "        text-align: right;\n",
       "    }\n",
       "</style>\n",
       "<table border=\"1\" class=\"dataframe\">\n",
       "  <thead>\n",
       "    <tr style=\"text-align: right;\">\n",
       "      <th></th>\n",
       "      <th>total_images</th>\n",
       "      <th>last_price</th>\n",
       "      <th>total_area</th>\n",
       "      <th>rooms</th>\n",
       "      <th>ceiling_height</th>\n",
       "      <th>floors_total</th>\n",
       "      <th>living_area</th>\n",
       "      <th>floor</th>\n",
       "      <th>kitchen_area</th>\n",
       "      <th>balcony</th>\n",
       "      <th>airports_nearest</th>\n",
       "      <th>cityCenters_nearest</th>\n",
       "      <th>parks_around3000</th>\n",
       "      <th>parks_nearest</th>\n",
       "      <th>ponds_around3000</th>\n",
       "      <th>ponds_nearest</th>\n",
       "      <th>days_exposition</th>\n",
       "    </tr>\n",
       "  </thead>\n",
       "  <tbody>\n",
       "    <tr>\n",
       "      <th>count</th>\n",
       "      <td>23699.000000</td>\n",
       "      <td>2.369900e+04</td>\n",
       "      <td>23699.000000</td>\n",
       "      <td>23699.000000</td>\n",
       "      <td>14504.000000</td>\n",
       "      <td>23613.000000</td>\n",
       "      <td>21796.000000</td>\n",
       "      <td>23699.000000</td>\n",
       "      <td>21421.000000</td>\n",
       "      <td>12180.000000</td>\n",
       "      <td>18157.000000</td>\n",
       "      <td>18180.000000</td>\n",
       "      <td>18181.000000</td>\n",
       "      <td>8079.000000</td>\n",
       "      <td>18181.000000</td>\n",
       "      <td>9110.000000</td>\n",
       "      <td>20518.000000</td>\n",
       "    </tr>\n",
       "    <tr>\n",
       "      <th>mean</th>\n",
       "      <td>9.858475</td>\n",
       "      <td>6.541549e+06</td>\n",
       "      <td>60.348651</td>\n",
       "      <td>2.070636</td>\n",
       "      <td>2.771499</td>\n",
       "      <td>10.673824</td>\n",
       "      <td>34.457852</td>\n",
       "      <td>5.892358</td>\n",
       "      <td>10.569807</td>\n",
       "      <td>1.150082</td>\n",
       "      <td>28793.672193</td>\n",
       "      <td>14191.277833</td>\n",
       "      <td>0.611408</td>\n",
       "      <td>490.804555</td>\n",
       "      <td>0.770255</td>\n",
       "      <td>517.980900</td>\n",
       "      <td>180.888634</td>\n",
       "    </tr>\n",
       "    <tr>\n",
       "      <th>std</th>\n",
       "      <td>5.682529</td>\n",
       "      <td>1.088701e+07</td>\n",
       "      <td>35.654083</td>\n",
       "      <td>1.078405</td>\n",
       "      <td>1.261056</td>\n",
       "      <td>6.597173</td>\n",
       "      <td>22.030445</td>\n",
       "      <td>4.885249</td>\n",
       "      <td>5.905438</td>\n",
       "      <td>1.071300</td>\n",
       "      <td>12630.880622</td>\n",
       "      <td>8608.386210</td>\n",
       "      <td>0.802074</td>\n",
       "      <td>342.317995</td>\n",
       "      <td>0.938346</td>\n",
       "      <td>277.720643</td>\n",
       "      <td>219.727988</td>\n",
       "    </tr>\n",
       "    <tr>\n",
       "      <th>min</th>\n",
       "      <td>0.000000</td>\n",
       "      <td>1.219000e+04</td>\n",
       "      <td>12.000000</td>\n",
       "      <td>0.000000</td>\n",
       "      <td>1.000000</td>\n",
       "      <td>1.000000</td>\n",
       "      <td>2.000000</td>\n",
       "      <td>1.000000</td>\n",
       "      <td>1.300000</td>\n",
       "      <td>0.000000</td>\n",
       "      <td>0.000000</td>\n",
       "      <td>181.000000</td>\n",
       "      <td>0.000000</td>\n",
       "      <td>1.000000</td>\n",
       "      <td>0.000000</td>\n",
       "      <td>13.000000</td>\n",
       "      <td>1.000000</td>\n",
       "    </tr>\n",
       "    <tr>\n",
       "      <th>25%</th>\n",
       "      <td>6.000000</td>\n",
       "      <td>3.400000e+06</td>\n",
       "      <td>40.000000</td>\n",
       "      <td>1.000000</td>\n",
       "      <td>2.520000</td>\n",
       "      <td>5.000000</td>\n",
       "      <td>18.600000</td>\n",
       "      <td>2.000000</td>\n",
       "      <td>7.000000</td>\n",
       "      <td>0.000000</td>\n",
       "      <td>18585.000000</td>\n",
       "      <td>9238.000000</td>\n",
       "      <td>0.000000</td>\n",
       "      <td>288.000000</td>\n",
       "      <td>0.000000</td>\n",
       "      <td>294.000000</td>\n",
       "      <td>45.000000</td>\n",
       "    </tr>\n",
       "    <tr>\n",
       "      <th>50%</th>\n",
       "      <td>9.000000</td>\n",
       "      <td>4.650000e+06</td>\n",
       "      <td>52.000000</td>\n",
       "      <td>2.000000</td>\n",
       "      <td>2.650000</td>\n",
       "      <td>9.000000</td>\n",
       "      <td>30.000000</td>\n",
       "      <td>4.000000</td>\n",
       "      <td>9.100000</td>\n",
       "      <td>1.000000</td>\n",
       "      <td>26726.000000</td>\n",
       "      <td>13098.500000</td>\n",
       "      <td>0.000000</td>\n",
       "      <td>455.000000</td>\n",
       "      <td>1.000000</td>\n",
       "      <td>502.000000</td>\n",
       "      <td>95.000000</td>\n",
       "    </tr>\n",
       "    <tr>\n",
       "      <th>75%</th>\n",
       "      <td>14.000000</td>\n",
       "      <td>6.800000e+06</td>\n",
       "      <td>69.900000</td>\n",
       "      <td>3.000000</td>\n",
       "      <td>2.800000</td>\n",
       "      <td>16.000000</td>\n",
       "      <td>42.300000</td>\n",
       "      <td>8.000000</td>\n",
       "      <td>12.000000</td>\n",
       "      <td>2.000000</td>\n",
       "      <td>37273.000000</td>\n",
       "      <td>16293.000000</td>\n",
       "      <td>1.000000</td>\n",
       "      <td>612.000000</td>\n",
       "      <td>1.000000</td>\n",
       "      <td>729.000000</td>\n",
       "      <td>232.000000</td>\n",
       "    </tr>\n",
       "    <tr>\n",
       "      <th>max</th>\n",
       "      <td>50.000000</td>\n",
       "      <td>7.630000e+08</td>\n",
       "      <td>900.000000</td>\n",
       "      <td>19.000000</td>\n",
       "      <td>100.000000</td>\n",
       "      <td>60.000000</td>\n",
       "      <td>409.700000</td>\n",
       "      <td>33.000000</td>\n",
       "      <td>112.000000</td>\n",
       "      <td>5.000000</td>\n",
       "      <td>84869.000000</td>\n",
       "      <td>65968.000000</td>\n",
       "      <td>3.000000</td>\n",
       "      <td>3190.000000</td>\n",
       "      <td>3.000000</td>\n",
       "      <td>1344.000000</td>\n",
       "      <td>1580.000000</td>\n",
       "    </tr>\n",
       "  </tbody>\n",
       "</table>\n",
       "</div>"
      ],
      "text/plain": [
       "       total_images    last_price    total_area         rooms  ceiling_height  \\\n",
       "count  23699.000000  2.369900e+04  23699.000000  23699.000000    14504.000000   \n",
       "mean       9.858475  6.541549e+06     60.348651      2.070636        2.771499   \n",
       "std        5.682529  1.088701e+07     35.654083      1.078405        1.261056   \n",
       "min        0.000000  1.219000e+04     12.000000      0.000000        1.000000   \n",
       "25%        6.000000  3.400000e+06     40.000000      1.000000        2.520000   \n",
       "50%        9.000000  4.650000e+06     52.000000      2.000000        2.650000   \n",
       "75%       14.000000  6.800000e+06     69.900000      3.000000        2.800000   \n",
       "max       50.000000  7.630000e+08    900.000000     19.000000      100.000000   \n",
       "\n",
       "       floors_total   living_area         floor  kitchen_area       balcony  \\\n",
       "count  23613.000000  21796.000000  23699.000000  21421.000000  12180.000000   \n",
       "mean      10.673824     34.457852      5.892358     10.569807      1.150082   \n",
       "std        6.597173     22.030445      4.885249      5.905438      1.071300   \n",
       "min        1.000000      2.000000      1.000000      1.300000      0.000000   \n",
       "25%        5.000000     18.600000      2.000000      7.000000      0.000000   \n",
       "50%        9.000000     30.000000      4.000000      9.100000      1.000000   \n",
       "75%       16.000000     42.300000      8.000000     12.000000      2.000000   \n",
       "max       60.000000    409.700000     33.000000    112.000000      5.000000   \n",
       "\n",
       "       airports_nearest  cityCenters_nearest  parks_around3000  parks_nearest  \\\n",
       "count      18157.000000         18180.000000      18181.000000    8079.000000   \n",
       "mean       28793.672193         14191.277833          0.611408     490.804555   \n",
       "std        12630.880622          8608.386210          0.802074     342.317995   \n",
       "min            0.000000           181.000000          0.000000       1.000000   \n",
       "25%        18585.000000          9238.000000          0.000000     288.000000   \n",
       "50%        26726.000000         13098.500000          0.000000     455.000000   \n",
       "75%        37273.000000         16293.000000          1.000000     612.000000   \n",
       "max        84869.000000         65968.000000          3.000000    3190.000000   \n",
       "\n",
       "       ponds_around3000  ponds_nearest  days_exposition  \n",
       "count      18181.000000    9110.000000     20518.000000  \n",
       "mean           0.770255     517.980900       180.888634  \n",
       "std            0.938346     277.720643       219.727988  \n",
       "min            0.000000      13.000000         1.000000  \n",
       "25%            0.000000     294.000000        45.000000  \n",
       "50%            1.000000     502.000000        95.000000  \n",
       "75%            1.000000     729.000000       232.000000  \n",
       "max            3.000000    1344.000000      1580.000000  "
      ]
     },
     "execution_count": 5,
     "metadata": {},
     "output_type": "execute_result"
    }
   ],
   "source": [
    "data.describe()"
   ]
  },
  {
   "cell_type": "markdown",
   "metadata": {},
   "source": [
    "**Вывод:** В некторых столбцах видим аномально высокие и низкие значения. Например в `ceiling_height` максимальная высота потолка - `100 метров`, а минимальная - `1 метр`, что очень маловерятно соответствует действительности. \n",
    "\n",
    "Решим, что делать с такими выбросами при дальнейшей предобработке данных"
   ]
  },
  {
   "cell_type": "code",
   "execution_count": 6,
   "metadata": {
    "scrolled": true
   },
   "outputs": [
    {
     "data": {
      "text/plain": [
       "0"
      ]
     },
     "execution_count": 6,
     "metadata": {},
     "output_type": "execute_result"
    }
   ],
   "source": [
    "data.duplicated().sum()"
   ]
  },
  {
   "cell_type": "markdown",
   "metadata": {},
   "source": [
    "**Вывод:** Повторяющихся значений не найдено"
   ]
  },
  {
   "cell_type": "markdown",
   "metadata": {},
   "source": [
    "### Предобработка данных"
   ]
  },
  {
   "cell_type": "markdown",
   "metadata": {},
   "source": [
    "Изучим данные по пропущенным значениям в колонках, выделенным мной ранее. Начнем со столбца `ceiling_height`"
   ]
  },
  {
   "cell_type": "code",
   "execution_count": 7,
   "metadata": {
    "scrolled": true
   },
   "outputs": [
    {
     "name": "stdout",
     "output_type": "stream",
     "text": [
      "[  1.     1.2    1.75   2.     2.2    2.25   2.3    2.34   2.4    2.45\n",
      "   2.46   2.47   2.48   2.49   2.5    2.51   2.52   2.53   2.54   2.55\n",
      "   2.56   2.57   2.58   2.59   2.6    2.61   2.62   2.63   2.64   2.65\n",
      "   2.66   2.67   2.68   2.69   2.7    2.71   2.72   2.73   2.74   2.75\n",
      "   2.76   2.77   2.78   2.79   2.8    2.81   2.82   2.83   2.84   2.85\n",
      "   2.86   2.87   2.88   2.89   2.9    2.91   2.92   2.93   2.94   2.95\n",
      "   2.96   2.97   2.98   2.99   3.     3.01   3.02   3.03   3.04   3.05\n",
      "   3.06   3.07   3.08   3.09   3.1    3.11   3.12   3.13   3.14   3.15\n",
      "   3.16   3.17   3.18   3.2    3.21   3.22   3.23   3.24   3.25   3.26\n",
      "   3.27   3.28   3.29   3.3    3.31   3.32   3.33   3.34   3.35   3.36\n",
      "   3.37   3.38   3.39   3.4    3.42   3.43   3.44   3.45   3.46   3.47\n",
      "   3.48   3.49   3.5    3.51   3.52   3.53   3.54   3.55   3.56   3.57\n",
      "   3.58   3.59   3.6    3.62   3.63   3.65   3.66   3.67   3.68   3.69\n",
      "   3.7    3.75   3.76   3.78   3.8    3.82   3.83   3.84   3.85   3.86\n",
      "   3.87   3.88   3.9    3.93   3.95   3.98   4.     4.06   4.1    4.14\n",
      "   4.15   4.19   4.2    4.25   4.3    4.37   4.4    4.45   4.5    4.65\n",
      "   4.7    4.8    4.9    5.     5.2    5.3    5.5    5.6    5.8    6.\n",
      "   8.     8.3   10.3   14.    20.    22.6   24.    25.    26.    27.\n",
      "  27.5   32.   100.      nan]\n",
      "\n",
      "Пропущенных значений: 9195\n"
     ]
    }
   ],
   "source": [
    "print(data['ceiling_height'].sort_values().unique())\n",
    "print()\n",
    "print('Пропущенных значений:',data['ceiling_height'].isna().sum())"
   ]
  },
  {
   "cell_type": "markdown",
   "metadata": {},
   "source": [
    "Изучив данные, мы можем предположить, что ,скорее всего, при заполнении значений по этому пункту продавцы могли забыть разделить числа запятой, так как высота в `24 м` выглядит неправдоподобно, и ,вероятней всего, имелось в виду `2,4 м`,  где `26 м`, там `2,6 м` и т.д. \n",
    "\n",
    "- Обработаем такие значения, приведя их к более реалистичному виду, сдвинув на один знак влево.\n",
    "- Также заполним пропуски медианным значением по высоте потолка (в среднем, минимально рекомендованной высотой считается `2,5 м`, при расчете медианы мы должны будем получить примерно те же цифры)\n",
    "- Удалим строки, где высота потолка меньше `2 м` (скорее всего данные значения являются выбросами)"
   ]
  },
  {
   "cell_type": "code",
   "execution_count": 8,
   "metadata": {},
   "outputs": [],
   "source": [
    "# Заменим 'неверно заполненные' значения\n",
    "data.loc[data['ceiling_height'] > 10, 'ceiling_height'] /= 10\n",
    "\n",
    "# Заполним пропуски медианным значением высоты потолка\n",
    "data.loc[data['ceiling_height'].isna(),'ceiling_height'] = data['ceiling_height'].median()"
   ]
  },
  {
   "cell_type": "code",
   "execution_count": 9,
   "metadata": {},
   "outputs": [],
   "source": [
    "# Удалим из таблицы выбросы\n",
    "data = data[~(data['ceiling_height'] < 2)]"
   ]
  },
  {
   "cell_type": "markdown",
   "metadata": {},
   "source": [
    "Далее расммотрим данным по столбцам `living_area` и `kitchen_area`"
   ]
  },
  {
   "cell_type": "code",
   "execution_count": 10,
   "metadata": {},
   "outputs": [
    {
     "data": {
      "image/png": "[encoded data removed]",
      "text/plain": [
       "<Figure size 720x360 with 1 Axes>"
      ]
     },
     "metadata": {
      "needs_background": "light"
     },
     "output_type": "display_data"
    },
    {
     "data": {
      "image/png": "[encoded data removed]",
      "text/plain": [
       "<Figure size 720x360 with 1 Axes>"
      ]
     },
     "metadata": {
      "needs_background": "light"
     },
     "output_type": "display_data"
    },
    {
     "data": {
      "image/png": "[encoded data removed]",
      "text/plain": [
       "<Figure size 720x360 with 1 Axes>"
      ]
     },
     "metadata": {
      "needs_background": "light"
     },
     "output_type": "display_data"
    },
    {
     "data": {
      "image/png": "[encoded data removed]",
      "text/plain": [
       "<Figure size 720x360 with 1 Axes>"
      ]
     },
     "metadata": {
      "needs_background": "light"
     },
     "output_type": "display_data"
    },
    {
     "data": {
      "image/png": "[encoded data removed]",
      "text/plain": [
       "<Figure size 720x360 with 1 Axes>"
      ]
     },
     "metadata": {
      "needs_background": "light"
     },
     "output_type": "display_data"
    },
    {
     "name": "stdout",
     "output_type": "stream",
     "text": [
      "Доля выбросов составляет: 8.19 %\n"
     ]
    },
    {
     "data": {
      "text/html": [
       "<div>\n",
       "<style scoped>\n",
       "    .dataframe tbody tr th:only-of-type {\n",
       "        vertical-align: middle;\n",
       "    }\n",
       "\n",
       "    .dataframe tbody tr th {\n",
       "        vertical-align: top;\n",
       "    }\n",
       "\n",
       "    .dataframe thead th {\n",
       "        text-align: right;\n",
       "    }\n",
       "</style>\n",
       "<table border=\"1\" class=\"dataframe\">\n",
       "  <thead>\n",
       "    <tr style=\"text-align: right;\">\n",
       "      <th></th>\n",
       "      <th>total_images</th>\n",
       "      <th>last_price</th>\n",
       "      <th>total_area</th>\n",
       "      <th>rooms</th>\n",
       "      <th>ceiling_height</th>\n",
       "      <th>floors_total</th>\n",
       "      <th>living_area</th>\n",
       "      <th>floor</th>\n",
       "      <th>kitchen_area</th>\n",
       "      <th>balcony</th>\n",
       "      <th>airports_nearest</th>\n",
       "      <th>cityCenters_nearest</th>\n",
       "      <th>parks_around3000</th>\n",
       "      <th>parks_nearest</th>\n",
       "      <th>ponds_around3000</th>\n",
       "      <th>ponds_nearest</th>\n",
       "      <th>days_exposition</th>\n",
       "    </tr>\n",
       "  </thead>\n",
       "  <tbody>\n",
       "    <tr>\n",
       "      <th>count</th>\n",
       "      <td>21281.000000</td>\n",
       "      <td>2.128100e+04</td>\n",
       "      <td>21281.000000</td>\n",
       "      <td>21281.00000</td>\n",
       "      <td>21281.000000</td>\n",
       "      <td>21204.000000</td>\n",
       "      <td>19559.000000</td>\n",
       "      <td>21281.000000</td>\n",
       "      <td>19200.000000</td>\n",
       "      <td>10981.000000</td>\n",
       "      <td>16120.000000</td>\n",
       "      <td>16137.000000</td>\n",
       "      <td>16138.000000</td>\n",
       "      <td>6936.000000</td>\n",
       "      <td>16138.000000</td>\n",
       "      <td>7849.000000</td>\n",
       "      <td>18314.000000</td>\n",
       "    </tr>\n",
       "    <tr>\n",
       "      <th>mean</th>\n",
       "      <td>9.857713</td>\n",
       "      <td>5.349022e+06</td>\n",
       "      <td>55.977393</td>\n",
       "      <td>1.98783</td>\n",
       "      <td>2.684498</td>\n",
       "      <td>10.743492</td>\n",
       "      <td>32.092486</td>\n",
       "      <td>5.901038</td>\n",
       "      <td>10.034229</td>\n",
       "      <td>1.159366</td>\n",
       "      <td>28951.415571</td>\n",
       "      <td>14599.998451</td>\n",
       "      <td>0.578077</td>\n",
       "      <td>492.239187</td>\n",
       "      <td>0.726484</td>\n",
       "      <td>530.670404</td>\n",
       "      <td>126.042754</td>\n",
       "    </tr>\n",
       "    <tr>\n",
       "      <th>std</th>\n",
       "      <td>5.631173</td>\n",
       "      <td>3.151054e+06</td>\n",
       "      <td>23.583806</td>\n",
       "      <td>0.95613</td>\n",
       "      <td>0.217699</td>\n",
       "      <td>6.575613</td>\n",
       "      <td>15.929505</td>\n",
       "      <td>4.878388</td>\n",
       "      <td>4.648822</td>\n",
       "      <td>1.064543</td>\n",
       "      <td>12865.318349</td>\n",
       "      <td>8479.067204</td>\n",
       "      <td>0.774994</td>\n",
       "      <td>338.211846</td>\n",
       "      <td>0.905209</td>\n",
       "      <td>276.130670</td>\n",
       "      <td>118.678459</td>\n",
       "    </tr>\n",
       "    <tr>\n",
       "      <th>min</th>\n",
       "      <td>0.000000</td>\n",
       "      <td>4.300000e+05</td>\n",
       "      <td>12.000000</td>\n",
       "      <td>0.00000</td>\n",
       "      <td>2.000000</td>\n",
       "      <td>1.000000</td>\n",
       "      <td>2.000000</td>\n",
       "      <td>1.000000</td>\n",
       "      <td>1.300000</td>\n",
       "      <td>0.000000</td>\n",
       "      <td>0.000000</td>\n",
       "      <td>208.000000</td>\n",
       "      <td>0.000000</td>\n",
       "      <td>1.000000</td>\n",
       "      <td>0.000000</td>\n",
       "      <td>13.000000</td>\n",
       "      <td>1.000000</td>\n",
       "    </tr>\n",
       "    <tr>\n",
       "      <th>25%</th>\n",
       "      <td>6.000000</td>\n",
       "      <td>3.390000e+06</td>\n",
       "      <td>39.500000</td>\n",
       "      <td>1.00000</td>\n",
       "      <td>2.600000</td>\n",
       "      <td>5.000000</td>\n",
       "      <td>18.335000</td>\n",
       "      <td>2.000000</td>\n",
       "      <td>7.000000</td>\n",
       "      <td>0.000000</td>\n",
       "      <td>18348.000000</td>\n",
       "      <td>10085.000000</td>\n",
       "      <td>0.000000</td>\n",
       "      <td>289.000000</td>\n",
       "      <td>0.000000</td>\n",
       "      <td>312.000000</td>\n",
       "      <td>41.000000</td>\n",
       "    </tr>\n",
       "    <tr>\n",
       "      <th>50%</th>\n",
       "      <td>9.000000</td>\n",
       "      <td>4.500000e+06</td>\n",
       "      <td>50.500000</td>\n",
       "      <td>2.00000</td>\n",
       "      <td>2.650000</td>\n",
       "      <td>9.000000</td>\n",
       "      <td>30.000000</td>\n",
       "      <td>4.000000</td>\n",
       "      <td>9.000000</td>\n",
       "      <td>1.000000</td>\n",
       "      <td>27078.500000</td>\n",
       "      <td>13354.000000</td>\n",
       "      <td>0.000000</td>\n",
       "      <td>458.000000</td>\n",
       "      <td>0.000000</td>\n",
       "      <td>520.000000</td>\n",
       "      <td>83.000000</td>\n",
       "    </tr>\n",
       "    <tr>\n",
       "      <th>75%</th>\n",
       "      <td>14.000000</td>\n",
       "      <td>6.400000e+06</td>\n",
       "      <td>66.200000</td>\n",
       "      <td>3.00000</td>\n",
       "      <td>2.700000</td>\n",
       "      <td>16.000000</td>\n",
       "      <td>41.000000</td>\n",
       "      <td>8.000000</td>\n",
       "      <td>11.402500</td>\n",
       "      <td>2.000000</td>\n",
       "      <td>37593.000000</td>\n",
       "      <td>16470.000000</td>\n",
       "      <td>1.000000</td>\n",
       "      <td>613.000000</td>\n",
       "      <td>1.000000</td>\n",
       "      <td>741.000000</td>\n",
       "      <td>179.000000</td>\n",
       "    </tr>\n",
       "    <tr>\n",
       "      <th>max</th>\n",
       "      <td>50.000000</td>\n",
       "      <td>2.000000e+07</td>\n",
       "      <td>263.800000</td>\n",
       "      <td>6.00000</td>\n",
       "      <td>10.000000</td>\n",
       "      <td>29.000000</td>\n",
       "      <td>171.000000</td>\n",
       "      <td>27.000000</td>\n",
       "      <td>100.700000</td>\n",
       "      <td>5.000000</td>\n",
       "      <td>84853.000000</td>\n",
       "      <td>65952.000000</td>\n",
       "      <td>3.000000</td>\n",
       "      <td>3190.000000</td>\n",
       "      <td>3.000000</td>\n",
       "      <td>1344.000000</td>\n",
       "      <td>500.000000</td>\n",
       "    </tr>\n",
       "  </tbody>\n",
       "</table>\n",
       "</div>"
      ],
      "text/plain": [
       "       total_images    last_price    total_area        rooms  ceiling_height  \\\n",
       "count  21281.000000  2.128100e+04  21281.000000  21281.00000    21281.000000   \n",
       "mean       9.857713  5.349022e+06     55.977393      1.98783        2.684498   \n",
       "std        5.631173  3.151054e+06     23.583806      0.95613        0.217699   \n",
       "min        0.000000  4.300000e+05     12.000000      0.00000        2.000000   \n",
       "25%        6.000000  3.390000e+06     39.500000      1.00000        2.600000   \n",
       "50%        9.000000  4.500000e+06     50.500000      2.00000        2.650000   \n",
       "75%       14.000000  6.400000e+06     66.200000      3.00000        2.700000   \n",
       "max       50.000000  2.000000e+07    263.800000      6.00000       10.000000   \n",
       "\n",
       "       floors_total   living_area         floor  kitchen_area       balcony  \\\n",
       "count  21204.000000  19559.000000  21281.000000  19200.000000  10981.000000   \n",
       "mean      10.743492     32.092486      5.901038     10.034229      1.159366   \n",
       "std        6.575613     15.929505      4.878388      4.648822      1.064543   \n",
       "min        1.000000      2.000000      1.000000      1.300000      0.000000   \n",
       "25%        5.000000     18.335000      2.000000      7.000000      0.000000   \n",
       "50%        9.000000     30.000000      4.000000      9.000000      1.000000   \n",
       "75%       16.000000     41.000000      8.000000     11.402500      2.000000   \n",
       "max       29.000000    171.000000     27.000000    100.700000      5.000000   \n",
       "\n",
       "       airports_nearest  cityCenters_nearest  parks_around3000  parks_nearest  \\\n",
       "count      16120.000000         16137.000000      16138.000000    6936.000000   \n",
       "mean       28951.415571         14599.998451          0.578077     492.239187   \n",
       "std        12865.318349          8479.067204          0.774994     338.211846   \n",
       "min            0.000000           208.000000          0.000000       1.000000   \n",
       "25%        18348.000000         10085.000000          0.000000     289.000000   \n",
       "50%        27078.500000         13354.000000          0.000000     458.000000   \n",
       "75%        37593.000000         16470.000000          1.000000     613.000000   \n",
       "max        84853.000000         65952.000000          3.000000    3190.000000   \n",
       "\n",
       "       ponds_around3000  ponds_nearest  days_exposition  \n",
       "count      16138.000000    7849.000000     18314.000000  \n",
       "mean           0.726484     530.670404       126.042754  \n",
       "std            0.905209     276.130670       118.678459  \n",
       "min            0.000000      13.000000         1.000000  \n",
       "25%            0.000000     312.000000        41.000000  \n",
       "50%            0.000000     520.000000        83.000000  \n",
       "75%            1.000000     741.000000       179.000000  \n",
       "max            3.000000    1344.000000       500.000000  "
      ]
     },
     "execution_count": 10,
     "metadata": {},
     "output_type": "execute_result"
    }
   ],
   "source": [
    "#Создадим список с колонками, где встречаются выбросы\n",
    "lst_of_col = ['rooms','last_price', 'total_area', 'days_exposition', 'floors_total']\n",
    "\n",
    "#С помощью ящика с усами посмотрим на выбивыющиеся значения\n",
    "for x in lst_of_col:\n",
    "    plt.show(data.boxplot(x,figsize=(10,5)))\n",
    "\n",
    "#Посчитаем какой % будет удален от общего числа записей в датафрейме\n",
    "\n",
    "junk_ratio = (len(data[data['days_exposition'] > 500]) + len(data[data['rooms'] > 6]) + len(data[data['total_area'] > 300]) + \\\n",
    "              len(data[(data['last_price'] > 200000000) | (data['last_price'] < 15000)]) + len(data[data['floors_total'] >30]))/data.shape[0]\n",
    "print('Доля выбросов составляет:',round(junk_ratio * 100,2),'%')\n",
    "\n",
    "#Перезапишем данные, убрав все выбросы, определенные выше\n",
    "data = data.query('not days_exposition > 500 and not rooms > 6 \\\n",
    "                 and not total_area > 300 and not (last_price > 20000000  or last_price < 15000) and not floors_total > 30')\n",
    "\n",
    "#Посмотрим на данные после очистки\n",
    "data.describe()"
   ]
  },
  {
   "cell_type": "code",
   "execution_count": 11,
   "metadata": {
    "scrolled": true
   },
   "outputs": [
    {
     "name": "stdout",
     "output_type": "stream",
     "text": [
      "Пропущенных значений по living_area: 1722\n",
      "Пропущенных значений по kitchen_area: 2081\n"
     ]
    }
   ],
   "source": [
    "print('Пропущенных значений по living_area:', data['living_area'].isna().sum())\n",
    "print('Пропущенных значений по kitchen_area:', data['kitchen_area'].isna().sum())"
   ]
  },
  {
   "cell_type": "markdown",
   "metadata": {},
   "source": [
    "Попробуем заполнить пропуски `living_area` и `kitchen_area` следующим образом:\n",
    "\n",
    "1. Найдем коэффициент соотношения общей площади к жилой площади для `living_area` и точно такой же коэффициент для `kitchen_area` \n",
    "2. Заполним пропуски умножая общую площадь на коэффициент для каждого вида площади"
   ]
  },
  {
   "cell_type": "code",
   "execution_count": 12,
   "metadata": {},
   "outputs": [],
   "source": [
    "# Находим коэффициент для жилой площади\n",
    "living_ratio = data['living_area'].mean() / data['total_area'].mean()\n",
    "\n",
    "#Находим коэффициент для площади кухи\n",
    "kitchen_ratio = data['kitchen_area'].mean() / data['total_area'].mean()\n",
    "\n",
    "#Заполняем пропуски, умножая коэффициенты на общую площадь\n",
    "data['living_area'].fillna(living_ratio * data['total_area'], inplace=True)\n",
    "data['kitchen_area'].fillna(kitchen_ratio * data['total_area'], inplace=True)"
   ]
  },
  {
   "cell_type": "markdown",
   "metadata": {},
   "source": [
    "Далее расмотрим данные по колонке `is_apartment`"
   ]
  },
  {
   "cell_type": "code",
   "execution_count": 13,
   "metadata": {},
   "outputs": [
    {
     "name": "stdout",
     "output_type": "stream",
     "text": [
      "[nan False True]\n",
      "Пропущенных значений: 18888\n"
     ]
    }
   ],
   "source": [
    "print(data['is_apartment'].unique())\n",
    "print('Пропущенных значений:', data['is_apartment'].isna().sum())"
   ]
  },
  {
   "cell_type": "markdown",
   "metadata": {},
   "source": [
    "- Видим огромное количество пропусков (практически `90%`).\n",
    "\n",
    "- Можно предположить, что человек намеренно не указал является ли его квартира аппартаментами или нет, ввиду того, что он не знаком с таким типом недвижимости. \n",
    "\n",
    "- Человек, который владеет аппартаментами явно знает, что это за тип недвижимости, поэтому в данных имеются значения с `True`.\n",
    "\n",
    "- Будем считать, что пропуски означают, то что продаваемая недвижимость это квартира, поэтому можно заменить пропуски на `False`"
   ]
  },
  {
   "cell_type": "code",
   "execution_count": 14,
   "metadata": {},
   "outputs": [],
   "source": [
    "data['is_apartment'] = data['is_apartment'].fillna(False)"
   ]
  },
  {
   "cell_type": "markdown",
   "metadata": {},
   "source": [
    "Переходим к столбцу `balcony`"
   ]
  },
  {
   "cell_type": "code",
   "execution_count": 15,
   "metadata": {},
   "outputs": [
    {
     "name": "stdout",
     "output_type": "stream",
     "text": [
      "[nan  2.  1.  0.  5.  4.  3.]\n",
      "Пропущенных значений: 10300\n"
     ]
    }
   ],
   "source": [
    "print(data['balcony'].unique())\n",
    "print('Пропущенных значений:', data['balcony'].isna().sum())"
   ]
  },
  {
   "cell_type": "markdown",
   "metadata": {},
   "source": [
    "- Можем предположить, что пропусками явлются квартиры без балконов, где продавец это просто забыл указать\n",
    "- Будем считать, что пропуск является отсуствием балкона и заполним их `0`"
   ]
  },
  {
   "cell_type": "code",
   "execution_count": 16,
   "metadata": {},
   "outputs": [],
   "source": [
    "data['balcony'] = data['balcony'].fillna(0) "
   ]
  },
  {
   "cell_type": "markdown",
   "metadata": {},
   "source": [
    "Изучим оставшиеся столбцы с пропусками"
   ]
  },
  {
   "cell_type": "code",
   "execution_count": 17,
   "metadata": {},
   "outputs": [
    {
     "name": "stdout",
     "output_type": "stream",
     "text": [
      "Пропущенных значений в floors_total: 77\n",
      "Пропущенных значений в locality_name: 43\n",
      "Пропущенных значений в airports_nearest: 5161\n",
      "Пропущенных значений в cityCenters_nearest: 5144\n",
      "Пропущенных значений в parks_around3000: 5143\n",
      "Пропущенных значений в parks_nearest: 14345\n",
      "Пропущенных значений в ponds_around3000: 5143\n",
      "Пропущенных значений в ponds_nearest: 13432\n",
      "Пропущенных значений в days_exposition: 2967\n"
     ]
    }
   ],
   "source": [
    "na_lst = ['floors_total','locality_name','airports_nearest','cityCenters_nearest','parks_around3000', \\\n",
    "          'parks_nearest','ponds_around3000','ponds_nearest','days_exposition']\n",
    "for column in na_lst:\n",
    "    print(f'Пропущенных значений в {column}: {data[column].isna().sum()}')"
   ]
  },
  {
   "cell_type": "markdown",
   "metadata": {},
   "source": [
    "По следующим столбцам сложно сделать какую-либо замену ввиду того, что недостаточно предоставленной информации:\n",
    "\n",
    "- `airports_nearest` -  расстояние до ближайшего аэропорта в метрах (м)\n",
    "\n",
    "- `cityCenters_nearest` -  расстояние до центра города (м)\n",
    "- `parks_around3000` - число парков в радиусе 3 км\n",
    "- `parks_nearest` - расстояние до ближайшего парка (м)\n",
    "- `ponds_around3000` - число водоёмов в радиусе 3 км\n",
    "- `ponds_nearest` -  расстояние до ближайшего водоёма (м)\n",
    "\n",
    "Поэтому средними/медианными или другими значениями некорректно заменять кол-во парков, кол-во этажей в доме, наличие пруда и т.д. Будет правильней уточнить у разработчиков или коллег с чем связаны пропуски и уже потом решать, что с ними делать.\n",
    "\n",
    "В рамках данного анализа оставим эти колонки без изменений.\n",
    "\n",
    "По столбцу `locality_name` мы можем удалить пропуски, так как:\n",
    "\n",
    "1. Кол-во строк с пропусками относительно всего датафрейма невелико ( ≈ `0,2%`)\n",
    "2. Населенный пункт является немаловажным фактором при выборе квартиры, поэтому при невозможности это определить будет логично от таких данных избавиться, так как они не окажут колоссального эффекта на дальнейший анализ данных\n",
    "\n",
    "Так же поступим со строками из `floors_total`\n",
    "\n",
    "Столбец `days_exposition` заполним пропуски `0`, этот параметр будет в дальнейшем исследоваться, поэтому удаление всех строк может исказить полученный результат."
   ]
  },
  {
   "cell_type": "code",
   "execution_count": 18,
   "metadata": {},
   "outputs": [],
   "source": [
    "#Удалим пустые строки населенных пунктов из датафрейма\n",
    "data = data.query('not locality_name.isna() and not floors_total.isna()')"
   ]
  },
  {
   "cell_type": "code",
   "execution_count": 19,
   "metadata": {},
   "outputs": [],
   "source": [
    "# Заполнили пропуски 0\n",
    "data['days_exposition'] = data['days_exposition'].fillna(0)"
   ]
  },
  {
   "cell_type": "markdown",
   "metadata": {},
   "source": [
    "Осталось изменить тип данных, приведи его в правильный формат для некоторых столбцов:"
   ]
  },
  {
   "cell_type": "code",
   "execution_count": 20,
   "metadata": {},
   "outputs": [],
   "source": [
    "# Преобразуем в правильный тип данных, выявленные нами ранее столбцы\n",
    "data['first_day_exposition'] = pd.to_datetime(data['first_day_exposition'], format = '%Y-%m-%d')\n",
    "data['days_exposition'] = data['days_exposition'].astype(int)\n",
    "data['floors_total'] = data['floors_total'].astype(int)"
   ]
  },
  {
   "cell_type": "code",
   "execution_count": 21,
   "metadata": {},
   "outputs": [],
   "source": [
    "#Функция для замены неявных дубликатов\n",
    "\n",
    "def locality(row): \n",
    "    delim = '' \n",
    "    if row == str(row): # если это текст \n",
    "        for elem in row.split(' '): #['посёлок', 'Шушары'] \n",
    "            if elem[0].isupper(): # if первая буква заглавная \n",
    "                delim += elem + ' ' #закинуть слово в str + probel на случай двойных названий \n",
    "    return delim.strip() # удалить лишние пробелы \n",
    "\n",
    "#Применим функцию и замененим значения\n",
    "data['locality_name'] = data['locality_name'].apply(locality)"
   ]
  },
  {
   "cell_type": "markdown",
   "metadata": {},
   "source": [
    "### Посчитайте и добавьте в таблицу новые столбцы"
   ]
  },
  {
   "cell_type": "code",
   "execution_count": 22,
   "metadata": {},
   "outputs": [],
   "source": [
    "#посчитаем цену квадратного метра и переведем в тип данных int\n",
    "data['price_per_sm'] = (data['last_price'] / data['total_area']).astype('int')\n",
    "\n",
    "#создадим столбец дня недели\n",
    "data['weekday'] = data['first_day_exposition'].dt.weekday\n",
    "\n",
    "#создадим столбец месяца\n",
    "data['month'] = data['first_day_exposition'].dt.month\n",
    "\n",
    "#создадим столбец года\n",
    "data['year'] = data['first_day_exposition'].dt.year\n",
    "\n",
    "#напишем функцию категоризации по этажам\n",
    "def floor_type(row):\n",
    "    floors_total = row['floors_total']\n",
    "    floor = row['floor']\n",
    "    if floor == 1:\n",
    "        return 'первый'\n",
    "    elif floor == floors_total:\n",
    "        return 'последний'\n",
    "    elif 1 < floor < floors_total:\n",
    "        return 'другой'\n",
    "\n",
    "#создадим столбец с расстоянием до центра города в километрах \n",
    "data['cityCenters_nearest_km'] = round(data['cityCenters_nearest']/1000,0)\n",
    "    \n",
    "#применим функцию и создадим новый столбец категоризации по этажам \n",
    "data['floor_type'] = data.apply(floor_type, axis = 1)"
   ]
  },
  {
   "cell_type": "markdown",
   "metadata": {},
   "source": [
    "### Проведите исследовательский анализ данных"
   ]
  },
  {
   "cell_type": "markdown",
   "metadata": {},
   "source": [
    "#### Изучим и опишем подробнее следующие параметры:\n",
    "\n",
    "Начнем с Общей площади - `total_area`"
   ]
  },
  {
   "cell_type": "code",
   "execution_count": 23,
   "metadata": {
    "scrolled": true
   },
   "outputs": [
    {
     "name": "stdout",
     "output_type": "stream",
     "text": [
      "count    21162.000000\n",
      "mean        55.945831\n",
      "std         23.544505\n",
      "min         12.000000\n",
      "25%         39.500000\n",
      "50%         50.400000\n",
      "75%         66.200000\n",
      "max        263.800000\n",
      "Name: total_area, dtype: float64 \n",
      "\n"
     ]
    },
    {
     "data": {
      "image/png": "[encoded data removed]",
      "text/plain": [
       "<Figure size 432x216 with 1 Axes>"
      ]
     },
     "metadata": {
      "needs_background": "light"
     },
     "output_type": "display_data"
    },
    {
     "name": "stdout",
     "output_type": "stream",
     "text": [
      "Вывод: по полученным данным, мы можем говорить о том, что площадь total_area в нашей выборке колеблется от 12.0 до 263.8 м2, среднее значение в пределах 55.95 м2, а медиана 50.4 м2.\n",
      "\n",
      " ------------------------------------------------------------------------------------------------------------------------------ \n",
      "\n",
      "Далее расмотрим столбец living_area \n",
      "\n",
      "count    21162.000000\n",
      "mean        32.094808\n",
      "std         15.781782\n",
      "min          2.000000\n",
      "25%         18.700000\n",
      "50%         29.900000\n",
      "75%         40.567500\n",
      "max        171.000000\n",
      "Name: living_area, dtype: float64 \n",
      "\n"
     ]
    },
    {
     "data": {
      "image/png": "[encoded data removed]",
      "text/plain": [
       "<Figure size 432x216 with 1 Axes>"
      ]
     },
     "metadata": {
      "needs_background": "light"
     },
     "output_type": "display_data"
    },
    {
     "name": "stdout",
     "output_type": "stream",
     "text": [
      "Вывод: по полученным данным, мы можем говорить о том, что площадь living_area в нашей выборке колеблется от 2.0 до 171.0 м2, среднее значение в пределах 32.09 м2, а медиана 29.9 м2.\n",
      "\n",
      " ------------------------------------------------------------------------------------------------------------------------------ \n",
      "\n",
      "Далее расмотрим столбец kitchen_area \n",
      "\n",
      "count    21162.000000\n",
      "mean         9.938073\n",
      "std          4.614301\n",
      "min          1.300000\n",
      "25%          7.000000\n",
      "50%          9.000000\n",
      "75%         11.400000\n",
      "max        100.700000\n",
      "Name: kitchen_area, dtype: float64 \n",
      "\n"
     ]
    },
    {
     "data": {
      "image/png": "[encoded data removed]",
      "text/plain": [
       "<Figure size 432x216 with 1 Axes>"
      ]
     },
     "metadata": {
      "needs_background": "light"
     },
     "output_type": "display_data"
    },
    {
     "name": "stdout",
     "output_type": "stream",
     "text": [
      "Вывод: по полученным данным, мы можем говорить о том, что площадь kitchen_area в нашей выборке колеблется от 1.3 до 100.7 м2, среднее значение в пределах 9.94 м2, а медиана 9.0 м2.\n",
      "\n",
      " ------------------------------------------------------------------------------------------------------------------------------ \n",
      "\n",
      "Далее расмотрим столбец last_price \n",
      "\n",
      "count    2.116200e+04\n",
      "mean     5.345089e+06\n",
      "std      3.147393e+06\n",
      "min      4.300000e+05\n",
      "25%      3.390000e+06\n",
      "50%      4.500000e+06\n",
      "75%      6.400000e+06\n",
      "max      2.000000e+07\n",
      "Name: last_price, dtype: float64 \n",
      "\n"
     ]
    },
    {
     "data": {
      "image/png": "[encoded data removed]",
      "text/plain": [
       "<Figure size 432x216 with 1 Axes>"
      ]
     },
     "metadata": {
      "needs_background": "light"
     },
     "output_type": "display_data"
    },
    {
     "name": "stdout",
     "output_type": "stream",
     "text": [
      "Вывод: по полученным данным, мы можем говорить о том, что цена на момент снятия публикации в нашей выборке колеблется от 0.43 до 20.0 млн. руб., среднее значение в пределах 5.35 млн. руб., а медиана 4.5 млн. руб.\n",
      "\n",
      " ------------------------------------------------------------------------------------------------------------------------------ \n",
      "\n",
      "Далее расмотрим столбец rooms \n",
      "\n",
      "count    21162.000000\n",
      "mean         1.987808\n",
      "std          0.955729\n",
      "min          0.000000\n",
      "25%          1.000000\n",
      "50%          2.000000\n",
      "75%          3.000000\n",
      "max          6.000000\n",
      "Name: rooms, dtype: float64 \n",
      "\n"
     ]
    },
    {
     "data": {
      "image/png": "[encoded data removed]",
      "text/plain": [
       "<Figure size 432x216 with 1 Axes>"
      ]
     },
     "metadata": {
      "needs_background": "light"
     },
     "output_type": "display_data"
    },
    {
     "name": "stdout",
     "output_type": "stream",
     "text": [
      "Вывод: по полученным данным, мы можем говорить о том, что количество комнат в нашей выборке колеблется от 0 до 6 комнат, среднее значение в пределах 2 комнат, а медиана 2 комнаты.\n",
      "\n",
      " ------------------------------------------------------------------------------------------------------------------------------ \n",
      "\n",
      "Далее расмотрим столбец ceiling_height \n",
      "\n",
      "count    21162.000000\n",
      "mean         2.684464\n",
      "std          0.217950\n",
      "min          2.000000\n",
      "25%          2.600000\n",
      "50%          2.650000\n",
      "75%          2.700000\n",
      "max         10.000000\n",
      "Name: ceiling_height, dtype: float64 \n",
      "\n"
     ]
    },
    {
     "data": {
      "image/png": "[encoded data removed]",
      "text/plain": [
       "<Figure size 432x216 with 1 Axes>"
      ]
     },
     "metadata": {
      "needs_background": "light"
     },
     "output_type": "display_data"
    },
    {
     "name": "stdout",
     "output_type": "stream",
     "text": [
      "Вывод: по полученным данным, мы можем говорить о том, что площадь ceiling_height в нашей выборке колеблется от 2.0 до 10.0 м2, среднее значение в пределах 2.68 м2, а медиана 2.65 м2.\n",
      "\n",
      " ------------------------------------------------------------------------------------------------------------------------------ \n",
      "\n",
      "Далее расмотрим столбец floor \n",
      "\n",
      "count    21162.000000\n",
      "mean         5.886069\n",
      "std          4.863450\n",
      "min          1.000000\n",
      "25%          2.000000\n",
      "50%          4.000000\n",
      "75%          8.000000\n",
      "max         27.000000\n",
      "Name: floor, dtype: float64 \n",
      "\n"
     ]
    },
    {
     "data": {
      "image/png": "[encoded data removed]",
      "text/plain": [
       "<Figure size 432x216 with 1 Axes>"
      ]
     },
     "metadata": {
      "needs_background": "light"
     },
     "output_type": "display_data"
    },
    {
     "name": "stdout",
     "output_type": "stream",
     "text": [
      "Вывод: по полученным данным, мы можем говорить о том, что floor в нашей выборке колеблется от 1 до 27 этажа, среднее значение в пределах 6 этажа, а медиана 4 этаж.\n",
      "\n",
      " ------------------------------------------------------------------------------------------------------------------------------ \n",
      "\n",
      "Далее расмотрим столбец floors_total \n",
      "\n",
      "count    21162.000000\n",
      "mean        10.744495\n",
      "std          6.572629\n",
      "min          1.000000\n",
      "25%          5.000000\n",
      "50%          9.000000\n",
      "75%         16.000000\n",
      "max         29.000000\n",
      "Name: floors_total, dtype: float64 \n",
      "\n"
     ]
    },
    {
     "data": {
      "image/png": "[encoded data removed]",
      "text/plain": [
       "<Figure size 432x216 with 1 Axes>"
      ]
     },
     "metadata": {
      "needs_background": "light"
     },
     "output_type": "display_data"
    },
    {
     "name": "stdout",
     "output_type": "stream",
     "text": [
      "Вывод: по полученным данным, мы можем говорить о том, что floors_total в нашей выборке колеблется от 1 до 29 этажа, среднее значение в пределах 11 этажа, а медиана 9 этаж.\n",
      "\n",
      " ------------------------------------------------------------------------------------------------------------------------------ \n",
      "\n",
      "Далее расмотрим столбец floor_type \n",
      "\n"
     ]
    },
    {
     "data": {
      "image/png": "[encoded data removed]",
      "text/plain": [
       "<Figure size 432x216 with 1 Axes>"
      ]
     },
     "metadata": {
      "needs_background": "light"
     },
     "output_type": "display_data"
    },
    {
     "name": "stdout",
     "output_type": "stream",
     "text": [
      "Вывод: по полученным данным, мы можем говорить о том, что чаще всего квартира находится не на первом и последнем этаже\n",
      "\n",
      " ------------------------------------------------------------------------------------------------------------------------------ \n",
      "\n",
      "Далее расмотрим столбец cityCenters_nearest \n",
      "\n",
      "count    16036.000000\n",
      "mean     14598.226989\n",
      "std       8483.318382\n",
      "min        208.000000\n",
      "25%      10087.000000\n",
      "50%      13354.000000\n",
      "75%      16458.750000\n",
      "max      65952.000000\n",
      "Name: cityCenters_nearest, dtype: float64 \n",
      "\n"
     ]
    },
    {
     "data": {
      "image/png": "[encoded data removed]",
      "text/plain": [
       "<Figure size 432x216 with 1 Axes>"
      ]
     },
     "metadata": {
      "needs_background": "light"
     },
     "output_type": "display_data"
    },
    {
     "name": "stdout",
     "output_type": "stream",
     "text": [
      "Вывод: по полученным данным, мы можем говорить о том, что расстояние cityCenters_nearest в нашей выборке колеблется от 208 до 65952 м2, среднее значение в пределах 14598 м2, а медиана 13354 м2.\n",
      "\n",
      " ------------------------------------------------------------------------------------------------------------------------------ \n",
      "\n",
      "Далее расмотрим столбец airports_nearest \n",
      "\n",
      "count    16019.000000\n",
      "mean     28956.488420\n",
      "std      12866.454813\n",
      "min          0.000000\n",
      "25%      18321.000000\n",
      "50%      27106.000000\n",
      "75%      37593.000000\n",
      "max      84853.000000\n",
      "Name: airports_nearest, dtype: float64 \n",
      "\n"
     ]
    },
    {
     "data": {
      "image/png": "[encoded data removed]",
      "text/plain": [
       "<Figure size 432x216 with 1 Axes>"
      ]
     },
     "metadata": {
      "needs_background": "light"
     },
     "output_type": "display_data"
    },
    {
     "name": "stdout",
     "output_type": "stream",
     "text": [
      "Вывод: по полученным данным, мы можем говорить о том, что расстояние airports_nearest в нашей выборке колеблется от 0 до 84853 м2, среднее значение в пределах 28956 м2, а медиана 27106 м2.\n",
      "\n",
      " ------------------------------------------------------------------------------------------------------------------------------ \n",
      "\n",
      "Далее расмотрим столбец parks_nearest \n",
      "\n",
      "count    6896.000000\n",
      "mean      492.053364\n",
      "std       337.303884\n",
      "min         1.000000\n",
      "25%       289.000000\n",
      "50%       458.000000\n",
      "75%       613.000000\n",
      "max      3190.000000\n",
      "Name: parks_nearest, dtype: float64 \n",
      "\n"
     ]
    },
    {
     "data": {
      "image/png": "[encoded data removed]",
      "text/plain": [
       "<Figure size 432x216 with 1 Axes>"
      ]
     },
     "metadata": {
      "needs_background": "light"
     },
     "output_type": "display_data"
    },
    {
     "name": "stdout",
     "output_type": "stream",
     "text": [
      "Вывод: по полученным данным, мы можем говорить о том, что расстояние parks_nearest в нашей выборке колеблется от 1 до 3190 м2, среднее значение в пределах 492 м2, а медиана 458 м2.\n",
      "\n",
      " ------------------------------------------------------------------------------------------------------------------------------ \n",
      "\n",
      "Далее расмотрим столбец weekday \n",
      "\n",
      "count    21162.000000\n",
      "mean         2.572299\n",
      "std          1.792637\n",
      "min          0.000000\n",
      "25%          1.000000\n",
      "50%          3.000000\n",
      "75%          4.000000\n",
      "max          6.000000\n",
      "Name: weekday, dtype: float64 \n",
      "\n"
     ]
    },
    {
     "data": {
      "image/png": "[encoded data removed]",
      "text/plain": [
       "<Figure size 432x216 with 1 Axes>"
      ]
     },
     "metadata": {
      "needs_background": "light"
     },
     "output_type": "display_data"
    },
    {
     "name": "stdout",
     "output_type": "stream",
     "text": [
      "Вывод: по полученным данным, мы можем говорить о том, что чаще всего объявление публиковали в Четверг\n",
      "\n",
      " ------------------------------------------------------------------------------------------------------------------------------ \n",
      "\n",
      "Далее расмотрим столбец month \n",
      "\n",
      "count    21162.000000\n",
      "mean         6.399206\n",
      "std          3.489922\n",
      "min          1.000000\n",
      "25%          3.000000\n",
      "50%          6.000000\n",
      "75%         10.000000\n",
      "max         12.000000\n",
      "Name: month, dtype: float64 \n",
      "\n"
     ]
    },
    {
     "data": {
      "image/png": "[encoded data removed]",
      "text/plain": [
       "<Figure size 432x216 with 1 Axes>"
      ]
     },
     "metadata": {
      "needs_background": "light"
     },
     "output_type": "display_data"
    },
    {
     "name": "stdout",
     "output_type": "stream",
     "text": [
      "Вывод: по полученным данным, мы можем говорить о том, что чаще всего объявление публиковали в Феврале\n",
      "\n",
      " ------------------------------------------------------------------------------------------------------------------------------ \n",
      "\n",
      " \n",
      "\n"
     ]
    }
   ],
   "source": [
    "#Создадим функцию, которая будет строить гистограмму с заданными параметрами для анализируемых нами столбцами\n",
    "def plot(row):\n",
    "    data.plot(y=row, title=row, kind='hist', bins=100, grid=True, figsize=(6,3))\n",
    "\n",
    "#Создадим список анализируемых столбцов   \n",
    "lst_of = ['total_area', 'living_area', 'kitchen_area', 'last_price', 'rooms', 'ceiling_height', 'floor', \\\n",
    "          'floors_total','floor_type', 'cityCenters_nearest', 'airports_nearest', 'parks_nearest','weekday','month']\n",
    "\n",
    "#Переберем каждый столбец из списка\n",
    "for row in lst_of:\n",
    "    \n",
    "    #Проверяем значения столбца на содержание числовых значений или дат\n",
    "    if row != 'floor_type':\n",
    "        \n",
    "        #Выводим статистику по всем числовым столбцам\n",
    "        print(data[row].describe(), '\\n')\n",
    "        \n",
    "        #Строим гистограмму по столбцу\n",
    "        plt.show(plot(row), '\\n')\n",
    "   \n",
    "    #В зависимости от типа столбца немного видоизменяется вывод по нему\n",
    "        \n",
    "        #Вывод для столбцов Общая площадь, Жилая площадь, Площадь кухни, Высота потолка\n",
    "        if row in ['total_area','living_area', 'kitchen_area', 'ceiling_height']:\n",
    "            print(f'Вывод: по полученным данным, мы можем говорить о том, что площадь {row} в нашей выборке колеблется от '\n",
    "                  f'{round(data[row].describe()[3],2)} до {round(data[row].describe()[-1],2)} м2, среднее значение '\n",
    "                  f'в пределах {round(data[row].describe()[1],2)} м2, а медиана {round(data[row].describe()[5],2)} м2.')\n",
    "        \n",
    "        #Вывод для столбцов этаж и кол-во этажей\n",
    "        elif row in ['floor','floors_total']:\n",
    "            print(f'Вывод: по полученным данным, мы можем говорить о том, что {row} в нашей выборке колеблется от ' \n",
    "                  f'{int(round(data[row].describe()[3],0))} до {int(round(data[row].describe()[-1],0))} этажа, среднее значение в ' \n",
    "                  f'пределах {int(round(data[row].describe()[1],0))} этажа, а медиана {int(round(data[row].describe()[5],0))} этаж.')\n",
    "            \n",
    "        #Вывод для столбцов расстояние до ближайшего аэропорта, парка и расстояние до центра города\n",
    "        elif row in ['cityCenters_nearest', 'airports_nearest', 'parks_nearest']:\n",
    "            print(f'Вывод: по полученным данным, мы можем говорить о том, что расстояние {row} в нашей выборке колеблется от ' \n",
    "                  f'{int(round(data[row].describe()[3],0))} до {int(round(data[row].describe()[-1],0))} м2, среднее значение в ' \n",
    "                  f'пределах {int(round(data[row].describe()[1],0))} м2, а медиана {int(round(data[row].describe()[5],0))} м2.')\n",
    "        \n",
    "        #Вывод для столба кол-во комнат\n",
    "        elif row == 'rooms':\n",
    "            print(f'Вывод: по полученным данным, мы можем говорить о том, что количество комнат в нашей выборке колеблется от ' \n",
    "                  f'{int(round(data[row].describe()[3],0))} до {int(round(data[row].describe()[-1],0))} комнат, среднее значение в '\n",
    "                  f'пределах {int(round(data[row].describe()[1],0))} комнат, а медиана {int(round(data[row].describe()[5],0))} комнаты.')\n",
    "        \n",
    "        #Вывод для столбца цена на момент снятия публикации\n",
    "        elif row == 'last_price':\n",
    "            print(f'Вывод: по полученным данным, мы можем говорить о том, что цена на момент снятия публикации в нашей выборке ' \n",
    "                  f'колеблется от {round(data[row].describe()[3]/1000000,2)} до {round(data[row].describe()[-1]/1000000,2)} млн. руб., '\n",
    "                  f'среднее значение в пределах {round(data[row].describe()[1]/1000000,2)} млн. руб., а медиана {round(data[row].describe()[5]/1000000,2)} млн. руб.')\n",
    "        \n",
    "        #Вывод для столбца неделя публикации\n",
    "        elif row in ['weekday']:\n",
    "            print('Вывод: по полученным данным, мы можем говорить о том, что чаще всего объявление публиковали в Четверг')\n",
    "        \n",
    "        #Вывод для столбца месяц публикации\n",
    "        elif row in ['month']:\n",
    "            print('Вывод: по полученным данным, мы можем говорить о том, что чаще всего объявление публиковали в Феврале')\n",
    "            \n",
    "    else:\n",
    "        #График для столбца тип этажа\n",
    "        plt.show(data['floor_type'].hist(figsize=(6,3)))\n",
    "        #Вывод по графику\n",
    "        print('Вывод: по полученным данным, мы можем говорить о том, что чаще всего квартира находится не на первом и последнем этаже')\n",
    "    \n",
    "    #Отделяем каждый новый график с выводом чертой для более удобного вида\n",
    "    print('\\n','-'*126,'\\n')\n",
    "    \n",
    "    #Берем следующий по счету столбец и проделываем все действия выше\n",
    "    print(f'Далее расмотрим столбец {lst_of[lst_of.index(row) + 1 if row != \"month\" else 0]}' \\\n",
    "              if row != \"month\" else '', '\\n')\n",
    "            "
   ]
  },
  {
   "cell_type": "markdown",
   "metadata": {},
   "source": [
    "#### Изучите, как быстро продавались квартиры"
   ]
  },
  {
   "cell_type": "code",
   "execution_count": 24,
   "metadata": {},
   "outputs": [
    {
     "name": "stdout",
     "output_type": "stream",
     "text": [
      "count    18205.000000\n",
      "mean       125.917495\n",
      "std        118.670655\n",
      "min          1.000000\n",
      "25%         40.000000\n",
      "50%         83.000000\n",
      "75%        179.000000\n",
      "max        500.000000\n",
      "Name: days_exposition, dtype: float64\n"
     ]
    },
    {
     "data": {
      "image/png": "[encoded data removed]",
      "text/plain": [
       "<Figure size 432x288 with 1 Axes>"
      ]
     },
     "metadata": {
      "needs_background": "light"
     },
     "output_type": "display_data"
    }
   ],
   "source": [
    "#Рассмотрим статистическую информацию по данному столбцу, убрав нулевые значения, чтобы не искажать полученный рез-т\n",
    "\n",
    "#Создадим переменную, где будем хранить очищенную информацию по дням\n",
    "days_exp = data.query('days_exposition >0')['days_exposition']\n",
    "\n",
    "#Выведем стат. информацию по ней\n",
    "print(days_exp.describe())\n",
    "\n",
    "#Также построим диаграмму размаха\n",
    "plt.boxplot(days_exp)\n",
    "plt.ylim(1,1200);"
   ]
  },
  {
   "cell_type": "code",
   "execution_count": 25,
   "metadata": {},
   "outputs": [
    {
     "data": {
      "image/png": "[encoded data removed]",
      "text/plain": [
       "<Figure size 432x288 with 1 Axes>"
      ]
     },
     "metadata": {
      "needs_background": "light"
     },
     "output_type": "display_data"
    }
   ],
   "source": [
    "#Построим гистограмму, ограничив диапазон значения согласно диаграмме размаха\n",
    "days_exp.plot(y = 'days_exposition', kind = 'hist', bins = 100, grid = True, range = (1,500));"
   ]
  },
  {
   "cell_type": "markdown",
   "metadata": {},
   "source": [
    "**Вывод:** По графикам можно сделать вывод, что медианное время продажи - 95 дней. Среднее время продажи - 181 день.\n",
    "Быстрой продажей можно назвать срок до 100, а долгой более 500 дней(согласно диаграмме размаха)\n",
    "\n",
    "При этом после ограничения диапазона по диаграмме размаха мы видим несколько всплесков до 100 дней. Изучим их подробнее"
   ]
  },
  {
   "cell_type": "code",
   "execution_count": 26,
   "metadata": {},
   "outputs": [
    {
     "data": {
      "image/png": "[encoded data removed]",
      "text/plain": [
       "<Figure size 432x288 with 1 Axes>"
      ]
     },
     "metadata": {
      "needs_background": "light"
     },
     "output_type": "display_data"
    }
   ],
   "source": [
    "#Построим гистограмму, ограничив значения до 100 дней \n",
    "days_exp[days_exp < 100].plot(y = 'days_exposition', kind = 'hist', bins = 50, grid = True, range = (1,100));"
   ]
  },
  {
   "cell_type": "markdown",
   "metadata": {},
   "source": [
    "**Вывод:** Мы видим примерно в районе 45 и 60 дней резкий всплеск снятия публикаций, что не обязательно должно означать то, что недвижимость была продана. \n",
    "\n",
    "Я не нашел какой-то взаимосвязи с таким резким скачком в эти дни, поэтому зашел на сайт `Яндекс Недвижимости` и обнаружил статью по правилам размещения объявлений и наткнулся на пункт про `Сроки публикаци` - [Статья](https://yandex.ru/support/realty/owner/home/add-ads-housing.html#concept_ohg_pft_flb), поэтому можно предположить что на этих днях происходило автоматическое удаление объявлений о продаже и поэтому они так выбиваются из общего графика."
   ]
  },
  {
   "cell_type": "markdown",
   "metadata": {},
   "source": [
    "#### Какие факторы больше всего влияют на общую (полную) стоимость объекта?"
   ]
  },
  {
   "cell_type": "code",
   "execution_count": 27,
   "metadata": {},
   "outputs": [],
   "source": [
    "#Создадим новый датафрейм с необходимыми данными\n",
    "data_new = data[['last_price', 'total_area', 'living_area', 'kitchen_area', 'rooms','floor_type','weekday', 'month', 'year']]"
   ]
  },
  {
   "cell_type": "code",
   "execution_count": 28,
   "metadata": {},
   "outputs": [
    {
     "data": {
      "image/png": "[encoded data removed]",
      "text/plain": [
       "<Figure size 576x288 with 1 Axes>"
      ]
     },
     "metadata": {
      "needs_background": "light"
     },
     "output_type": "display_data"
    },
    {
     "name": "stdout",
     "output_type": "stream",
     "text": [
      "Коэффициент корреляция Пирсона составляет: 0.77\n",
      "\n",
      " ---------------------------------------------------------------------------------------------------------------------------- \n",
      "\n"
     ]
    },
    {
     "data": {
      "image/png": "[encoded data removed]",
      "text/plain": [
       "<Figure size 576x288 with 1 Axes>"
      ]
     },
     "metadata": {
      "needs_background": "light"
     },
     "output_type": "display_data"
    },
    {
     "name": "stdout",
     "output_type": "stream",
     "text": [
      "Коэффициент корреляция Пирсона составляет: 0.664\n",
      "\n",
      " ---------------------------------------------------------------------------------------------------------------------------- \n",
      "\n"
     ]
    },
    {
     "data": {
      "image/png": "[encoded data removed]",
      "text/plain": [
       "<Figure size 576x288 with 1 Axes>"
      ]
     },
     "metadata": {
      "needs_background": "light"
     },
     "output_type": "display_data"
    },
    {
     "name": "stdout",
     "output_type": "stream",
     "text": [
      "Коэффициент корреляция Пирсона составляет: 0.59\n",
      "\n",
      " ---------------------------------------------------------------------------------------------------------------------------- \n",
      "\n"
     ]
    },
    {
     "data": {
      "image/png": "[encoded data removed]",
      "text/plain": [
       "<Figure size 576x288 with 1 Axes>"
      ]
     },
     "metadata": {
      "needs_background": "light"
     },
     "output_type": "display_data"
    },
    {
     "name": "stdout",
     "output_type": "stream",
     "text": [
      "Коэффициент корреляция Пирсона составляет: 0.5\n",
      "\n",
      " ---------------------------------------------------------------------------------------------------------------------------- \n",
      "\n"
     ]
    },
    {
     "data": {
      "image/png": "[encoded data removed]",
      "text/plain": [
       "<Figure size 576x288 with 1 Axes>"
      ]
     },
     "metadata": {
      "needs_background": "light"
     },
     "output_type": "display_data"
    },
    {
     "name": "stdout",
     "output_type": "stream",
     "text": [
      "\n",
      " ---------------------------------------------------------------------------------------------------------------------------- \n",
      "\n"
     ]
    },
    {
     "data": {
      "image/png": "[encoded data removed]",
      "text/plain": [
       "<Figure size 576x288 with 1 Axes>"
      ]
     },
     "metadata": {
      "needs_background": "light"
     },
     "output_type": "display_data"
    },
    {
     "name": "stdout",
     "output_type": "stream",
     "text": [
      "Коэффициент корреляция Пирсона составляет: -0.014\n",
      "\n",
      " ---------------------------------------------------------------------------------------------------------------------------- \n",
      "\n"
     ]
    },
    {
     "data": {
      "image/png": "[encoded data removed]",
      "text/plain": [
       "<Figure size 576x288 with 1 Axes>"
      ]
     },
     "metadata": {
      "needs_background": "light"
     },
     "output_type": "display_data"
    },
    {
     "name": "stdout",
     "output_type": "stream",
     "text": [
      "Коэффициент корреляция Пирсона составляет: -0.001\n",
      "\n",
      " ---------------------------------------------------------------------------------------------------------------------------- \n",
      "\n"
     ]
    },
    {
     "data": {
      "image/png": "[encoded data removed]",
      "text/plain": [
       "<Figure size 576x288 with 1 Axes>"
      ]
     },
     "metadata": {
      "needs_background": "light"
     },
     "output_type": "display_data"
    },
    {
     "name": "stdout",
     "output_type": "stream",
     "text": [
      "Коэффициент корреляция Пирсона составляет: 0.012\n",
      "\n",
      " ---------------------------------------------------------------------------------------------------------------------------- \n",
      "\n"
     ]
    }
   ],
   "source": [
    "\n",
    "#создадим функцию, которая будет строить диаграмму рассеяния на основе средних значений цены по определнному столбцу\n",
    "def scar_plot(row,style='o'):\n",
    "    plt.show(data_new.pivot_table(index=row, values='last_price').plot(grid=True, style=style, figsize=(8, 4), alpha = 0.12))\n",
    "\n",
    "#создадим список столбцов за исключением цены\n",
    "lst_of_col = list(data_new.columns[1:])\n",
    "\n",
    "#создадим цикл и пройдемся по каждому столбцу применив созданную функцию, дополнив расчетом коэффициента Пирсона для каждого столбца \n",
    "for col in lst_of_col:\n",
    "    \n",
    "    #Диаграмма и коэфф. для Общей площади, Жилой площади и площади кухни\n",
    "    if col in ['total_area', 'living_area', 'kitchen_area']:\n",
    "        scar_plot(col)\n",
    "        print('Коэффициент корреляция Пирсона составляет:', round(data_new[col].corr(data_new['last_price']),3))\n",
    "    \n",
    "    #Диаграмма и коэфф. для кол-ва комнат, даты, месяца и года публикации\n",
    "    elif col in ['rooms','weekday', 'month', 'year']:\n",
    "        scar_plot(col,style='o-')\n",
    "        print('Коэффициент корреляция Пирсона составляет:', round(data_new[col].corr(data_new['last_price']),3))\n",
    "    \n",
    "    #Диаграмма для типа этажа\n",
    "    else:\n",
    "        scar_plot(col,style='o-')\n",
    "        \n",
    "    #Отделим графики чертой для удобства\n",
    "    print('\\n','-'*124,'\\n')\n",
    "    \n"
   ]
  },
  {
   "cell_type": "markdown",
   "metadata": {},
   "source": [
    "Для более наглядного представления коэффициента корреляции построим хитмап по датафрейму с необходимыми столбцами"
   ]
  },
  {
   "cell_type": "code",
   "execution_count": 33,
   "metadata": {},
   "outputs": [
    {
     "data": {
      "text/html": [
       "<div>\n",
       "<style scoped>\n",
       "    .dataframe tbody tr th:only-of-type {\n",
       "        vertical-align: middle;\n",
       "    }\n",
       "\n",
       "    .dataframe tbody tr th {\n",
       "        vertical-align: top;\n",
       "    }\n",
       "\n",
       "    .dataframe thead th {\n",
       "        text-align: right;\n",
       "    }\n",
       "</style>\n",
       "<table border=\"1\" class=\"dataframe\">\n",
       "  <thead>\n",
       "    <tr style=\"text-align: right;\">\n",
       "      <th></th>\n",
       "      <th>last_price</th>\n",
       "      <th>total_area</th>\n",
       "      <th>living_area</th>\n",
       "      <th>kitchen_area</th>\n",
       "      <th>rooms</th>\n",
       "      <th>weekday</th>\n",
       "      <th>month</th>\n",
       "      <th>year</th>\n",
       "    </tr>\n",
       "  </thead>\n",
       "  <tbody>\n",
       "    <tr>\n",
       "      <th>last_price</th>\n",
       "      <td>1.000000</td>\n",
       "      <td>0.769531</td>\n",
       "      <td>0.664154</td>\n",
       "      <td>0.590105</td>\n",
       "      <td>0.500202</td>\n",
       "      <td>-0.013952</td>\n",
       "      <td>-0.001172</td>\n",
       "      <td>0.012107</td>\n",
       "    </tr>\n",
       "    <tr>\n",
       "      <th>total_area</th>\n",
       "      <td>0.769531</td>\n",
       "      <td>1.000000</td>\n",
       "      <td>0.927279</td>\n",
       "      <td>0.572321</td>\n",
       "      <td>0.790595</td>\n",
       "      <td>-0.010755</td>\n",
       "      <td>0.000092</td>\n",
       "      <td>-0.038433</td>\n",
       "    </tr>\n",
       "    <tr>\n",
       "      <th>living_area</th>\n",
       "      <td>0.664154</td>\n",
       "      <td>0.927279</td>\n",
       "      <td>1.000000</td>\n",
       "      <td>0.344303</td>\n",
       "      <td>0.865099</td>\n",
       "      <td>-0.005618</td>\n",
       "      <td>-0.006956</td>\n",
       "      <td>-0.029975</td>\n",
       "    </tr>\n",
       "    <tr>\n",
       "      <th>kitchen_area</th>\n",
       "      <td>0.590105</td>\n",
       "      <td>0.572321</td>\n",
       "      <td>0.344303</td>\n",
       "      <td>1.000000</td>\n",
       "      <td>0.221100</td>\n",
       "      <td>-0.010614</td>\n",
       "      <td>0.006934</td>\n",
       "      <td>-0.020095</td>\n",
       "    </tr>\n",
       "    <tr>\n",
       "      <th>rooms</th>\n",
       "      <td>0.500202</td>\n",
       "      <td>0.790595</td>\n",
       "      <td>0.865099</td>\n",
       "      <td>0.221100</td>\n",
       "      <td>1.000000</td>\n",
       "      <td>-0.002244</td>\n",
       "      <td>-0.007580</td>\n",
       "      <td>-0.017959</td>\n",
       "    </tr>\n",
       "    <tr>\n",
       "      <th>weekday</th>\n",
       "      <td>-0.013952</td>\n",
       "      <td>-0.010755</td>\n",
       "      <td>-0.005618</td>\n",
       "      <td>-0.010614</td>\n",
       "      <td>-0.002244</td>\n",
       "      <td>1.000000</td>\n",
       "      <td>0.014240</td>\n",
       "      <td>-0.009598</td>\n",
       "    </tr>\n",
       "    <tr>\n",
       "      <th>month</th>\n",
       "      <td>-0.001172</td>\n",
       "      <td>0.000092</td>\n",
       "      <td>-0.006956</td>\n",
       "      <td>0.006934</td>\n",
       "      <td>-0.007580</td>\n",
       "      <td>0.014240</td>\n",
       "      <td>1.000000</td>\n",
       "      <td>-0.301510</td>\n",
       "    </tr>\n",
       "    <tr>\n",
       "      <th>year</th>\n",
       "      <td>0.012107</td>\n",
       "      <td>-0.038433</td>\n",
       "      <td>-0.029975</td>\n",
       "      <td>-0.020095</td>\n",
       "      <td>-0.017959</td>\n",
       "      <td>-0.009598</td>\n",
       "      <td>-0.301510</td>\n",
       "      <td>1.000000</td>\n",
       "    </tr>\n",
       "  </tbody>\n",
       "</table>\n",
       "</div>"
      ],
      "text/plain": [
       "              last_price  total_area  living_area  kitchen_area     rooms  \\\n",
       "last_price      1.000000    0.769531     0.664154      0.590105  0.500202   \n",
       "total_area      0.769531    1.000000     0.927279      0.572321  0.790595   \n",
       "living_area     0.664154    0.927279     1.000000      0.344303  0.865099   \n",
       "kitchen_area    0.590105    0.572321     0.344303      1.000000  0.221100   \n",
       "rooms           0.500202    0.790595     0.865099      0.221100  1.000000   \n",
       "weekday        -0.013952   -0.010755    -0.005618     -0.010614 -0.002244   \n",
       "month          -0.001172    0.000092    -0.006956      0.006934 -0.007580   \n",
       "year            0.012107   -0.038433    -0.029975     -0.020095 -0.017959   \n",
       "\n",
       "               weekday     month      year  \n",
       "last_price   -0.013952 -0.001172  0.012107  \n",
       "total_area   -0.010755  0.000092 -0.038433  \n",
       "living_area  -0.005618 -0.006956 -0.029975  \n",
       "kitchen_area -0.010614  0.006934 -0.020095  \n",
       "rooms        -0.002244 -0.007580 -0.017959  \n",
       "weekday       1.000000  0.014240 -0.009598  \n",
       "month         0.014240  1.000000 -0.301510  \n",
       "year         -0.009598 -0.301510  1.000000  "
      ]
     },
     "execution_count": 33,
     "metadata": {},
     "output_type": "execute_result"
    }
   ],
   "source": [
    "data_new.corr()"
   ]
  },
  {
   "cell_type": "code",
   "execution_count": 29,
   "metadata": {
    "scrolled": true
   },
   "outputs": [
    {
     "data": {
      "text/plain": [
       "<AxesSubplot:>"
      ]
     },
     "execution_count": 29,
     "metadata": {},
     "output_type": "execute_result"
    },
    {
     "data": {
      "image/png": "[encoded data removed]",
      "text/plain": [
       "<Figure size 750x750 with 2 Axes>"
      ]
     },
     "metadata": {
      "needs_background": "light"
     },
     "output_type": "display_data"
    }
   ],
   "source": [
    "plt.figure(figsize=(10,10), dpi= 75)\n",
    "sns.heatmap(round(data_new.corr(),3), cmap='RdYlGn', center=0, annot=True)"
   ]
  },
  {
   "cell_type": "markdown",
   "metadata": {},
   "source": [
    "**Вывод:** \n",
    "\n",
    "По полученным графикам, мы можем сказать о том, что:\n",
    "\n",
    "- Наибольшая зависимость среди всех параметров прослеживается между ценой и общей площадью помещения, далее идет зависимость между ценой и жилой площадью и затем цена и площадь кухни и есть совсем небольшая зависимость роста цен от роста кол-ва комнат.\n",
    "- Среди остальных параметров какая-то явная зависимость отсуствует.\n",
    "- В среднем цена жилья на первом этаже дешевле чем на последнем и другом\n",
    "- В среднем в Четверг и в Апреле были опубликованы самые дорогие варианты жилья\n",
    "- В среднем в 2014 году были опубликованы самые дорогие варианты жилья, потом тенденция постепенно снижалась до 2018 и в 2019 снова виден рост."
   ]
  },
  {
   "cell_type": "markdown",
   "metadata": {},
   "source": [
    "#### Посчитайте среднюю цену одного квадратного метра в 10 населённых пунктах с наибольшим числом объявлений."
   ]
  },
  {
   "cell_type": "code",
   "execution_count": 30,
   "metadata": {
    "scrolled": true
   },
   "outputs": [
    {
     "data": {
      "text/html": [
       "<div>\n",
       "<style scoped>\n",
       "    .dataframe tbody tr th:only-of-type {\n",
       "        vertical-align: middle;\n",
       "    }\n",
       "\n",
       "    .dataframe tbody tr th {\n",
       "        vertical-align: top;\n",
       "    }\n",
       "\n",
       "    .dataframe thead th {\n",
       "        text-align: right;\n",
       "    }\n",
       "</style>\n",
       "<table border=\"1\" class=\"dataframe\">\n",
       "  <thead>\n",
       "    <tr style=\"text-align: right;\">\n",
       "      <th></th>\n",
       "      <th>locality_name</th>\n",
       "      <th>publ_count</th>\n",
       "      <th>mean_price_per_sm</th>\n",
       "    </tr>\n",
       "  </thead>\n",
       "  <tbody>\n",
       "    <tr>\n",
       "      <th>222</th>\n",
       "      <td>Санкт-Петербург</td>\n",
       "      <td>13793</td>\n",
       "      <td>108709</td>\n",
       "    </tr>\n",
       "    <tr>\n",
       "      <th>145</th>\n",
       "      <td>Мурино</td>\n",
       "      <td>552</td>\n",
       "      <td>86284</td>\n",
       "    </tr>\n",
       "    <tr>\n",
       "      <th>104</th>\n",
       "      <td>Кудрово</td>\n",
       "      <td>433</td>\n",
       "      <td>95481</td>\n",
       "    </tr>\n",
       "    <tr>\n",
       "      <th>296</th>\n",
       "      <td>Шушары</td>\n",
       "      <td>416</td>\n",
       "      <td>78514</td>\n",
       "    </tr>\n",
       "    <tr>\n",
       "      <th>33</th>\n",
       "      <td>Всеволожск</td>\n",
       "      <td>366</td>\n",
       "      <td>67128</td>\n",
       "    </tr>\n",
       "    <tr>\n",
       "      <th>201</th>\n",
       "      <td>Пушкин</td>\n",
       "      <td>333</td>\n",
       "      <td>101719</td>\n",
       "    </tr>\n",
       "    <tr>\n",
       "      <th>87</th>\n",
       "      <td>Колпино</td>\n",
       "      <td>322</td>\n",
       "      <td>75277</td>\n",
       "    </tr>\n",
       "    <tr>\n",
       "      <th>169</th>\n",
       "      <td>Парголово</td>\n",
       "      <td>311</td>\n",
       "      <td>90078</td>\n",
       "    </tr>\n",
       "    <tr>\n",
       "      <th>41</th>\n",
       "      <td>Гатчина</td>\n",
       "      <td>283</td>\n",
       "      <td>68933</td>\n",
       "    </tr>\n",
       "    <tr>\n",
       "      <th>34</th>\n",
       "      <td>Выборг</td>\n",
       "      <td>222</td>\n",
       "      <td>58149</td>\n",
       "    </tr>\n",
       "  </tbody>\n",
       "</table>\n",
       "</div>"
      ],
      "text/plain": [
       "       locality_name  publ_count  mean_price_per_sm\n",
       "222  Санкт-Петербург       13793             108709\n",
       "145           Мурино         552              86284\n",
       "104          Кудрово         433              95481\n",
       "296           Шушары         416              78514\n",
       "33        Всеволожск         366              67128\n",
       "201           Пушкин         333             101719\n",
       "87           Колпино         322              75277\n",
       "169        Парголово         311              90078\n",
       "41           Гатчина         283              68933\n",
       "34            Выборг         222              58149"
      ]
     },
     "metadata": {},
     "output_type": "display_data"
    },
    {
     "data": {
      "image/png": "[encoded data removed]",
      "text/plain": [
       "<Figure size 432x288 with 1 Axes>"
      ]
     },
     "metadata": {
      "needs_background": "light"
     },
     "output_type": "display_data"
    }
   ],
   "source": [
    "#Создадим сводную таблицу по средней цене за кв.м и кол-ву объявлений в зависимости от населенного пункта и поместим ее в переменную\n",
    "data_top10 = data.pivot_table(index='locality_name',values='price_per_sm',aggfunc=['count','mean']).reset_index()\n",
    "\n",
    "#Уберем мультииндекс\n",
    "data_top10.columns = data_top10.columns.droplevel(1)\n",
    "\n",
    "#Переименуем колонки\n",
    "data_top10.columns = ['locality_name','publ_count','mean_price_per_sm']\n",
    "\n",
    "#Округлим значения до целого числа и переведем в формат int для лучшего восприятия\n",
    "data_top10['mean_price_per_sm'] = round(data_top10['mean_price_per_sm'],0).astype(int)\n",
    "\n",
    "#Отсортируем по кол-ву объявлений и выведем первые 10 значений\n",
    "data_t = data_top10.sort_values('publ_count',ascending=False).head(10)\n",
    "display(data_t)\n",
    "\n",
    "#Построим столбчатую диаграмму\n",
    "plt.title('Средняя цена квадратного метра')\n",
    "plt.barh(data_t['locality_name'],data_t['mean_price_per_sm']);\n",
    "\n"
   ]
  },
  {
   "cell_type": "markdown",
   "metadata": {},
   "source": [
    "**Вывод:** \n",
    "\n",
    "стоимость за $1$м$^2$ жилья:\n",
    "\n",
    "- Самая высокая  в `Санкт-Петербурге` - 108 709 рублей \n",
    "\n",
    "- Самая низкая в `Выборге` - 58 149 рублей"
   ]
  },
  {
   "cell_type": "markdown",
   "metadata": {},
   "source": [
    "#### Вычислите среднюю цену каждого километра в Санкт-Петербурге. Опишите, как стоимость объектов зависит от расстояния до центра города."
   ]
  },
  {
   "cell_type": "code",
   "execution_count": 31,
   "metadata": {},
   "outputs": [
    {
     "data": {
      "image/png": "[encoded data removed]",
      "text/plain": [
       "<Figure size 720x360 with 1 Axes>"
      ]
     },
     "metadata": {
      "needs_background": "light"
     },
     "output_type": "display_data"
    },
    {
     "name": "stdout",
     "output_type": "stream",
     "text": [
      "Коэффициент корреляции Пирсона составляет: -0.79\n"
     ]
    }
   ],
   "source": [
    "#Создадим новый датафрейм, оставив в нем только записи по Санкт-Петербургу и убрав нулевые значения по удаленности от центра\n",
    "data_spb = data[(data['locality_name'] == 'Санкт-Петербург') & (~data['cityCenters_nearest_km'].isna())]\n",
    "\n",
    "#Создадим еще один датафрейм, сделав из таблицы в предыдущем шаге сводную по удаленности от центра и его средней цене\n",
    "spb_pivot = data_spb.pivot_table(index='cityCenters_nearest_km',values='last_price').reset_index()\n",
    "\n",
    "#Переименуем колонки для лучшего понимания, что в них хранится\n",
    "spb_pivot.columns = ['center_nearest_km','mean_price_mln_rub']\n",
    "\n",
    "#Для лучшего восприятия переведем значения в колонке со средней ценой в млн. руб и изменим на формат int\n",
    "spb_pivot['mean_price_mln_rub'] = (spb_pivot['mean_price_mln_rub']/1000000).astype(int)\n",
    "\n",
    "#Построим график\n",
    "plt.show(spb_pivot.plot(x='center_nearest_km',y='mean_price_mln_rub',grid=True, style='o-', figsize=(10, 5)))\n",
    "\n",
    "#Выведем значение коэфф. корр. Пирсона\n",
    "print('Коэффициент корреляции Пирсона составляет:', round(spb_pivot['center_nearest_km'].corr(spb_pivot['mean_price_mln_rub']),2))"
   ]
  },
  {
   "cell_type": "markdown",
   "metadata": {},
   "source": [
    "**Вывод:** Исходя из графика и полученного коэффицента корреляции мы можем с уверенностью сказать, что в среднем, в Санкт-Петербурге удаленность квартиры от центра города напрямую влияет на ее стоимость:\n",
    "\n",
    "- Чем она ближе к центру, тем цена выше и наоборот\n",
    "- Чем дальше от центра, тем цена ниже."
   ]
  },
  {
   "cell_type": "markdown",
   "metadata": {},
   "source": [
    "### Общий вывод"
   ]
  },
  {
   "cell_type": "markdown",
   "metadata": {},
   "source": [
    "Мы получили данные по рынку недвижимости, сделали необходимую предобратку данных, добавили необходимые столбцы с различными расчетами и провели исследовательский анализ для полного понимания происходящего. \n",
    "\n",
    "**Вкратце, мы выяснили, что в среднем:**\n",
    "\n",
    "- Общая площадь помещения - $56$ $м^2$\n",
    "- Cредняя цена помещения - $5.35$ $млн. руб.$\n",
    "- Количество комнат - $2$\n",
    "- Высота потолка - $2.7$ $м$\n",
    "- Расстояние до центра населенного пункта - $14.6$ $км$\n",
    "\n",
    "**Срок продажи квартиры** \n",
    "\n",
    "- Среднее время продажи - 181 день.\n",
    "- Быстрой продажей можно назвать срок до 100 дней, а долгой более 500 дней\n",
    "\n",
    "**Факторы, влияющие на стоимость объекта:**\n",
    "\n",
    "- На стоимость больше влияет общая площадь квартиры и в меньшей степени жилая площадь, площадь кухни и кол-во комнта\n",
    "- В среднем цена жилья на первом этаже дешевле чем на последнем и другом\n",
    "- В среднем в Четверг и в Апреле были опубликованы самые дорогие варианты жилья\n",
    "- В 2014 в среднем цены были выше, чем в остальных годах, вплоть до 2018, но в 2019 тенденция к росту цен снова появилась\n",
    "\n",
    "**Стоимость квадратного метра в топ-10 населённых пунктов:**\n",
    "\n",
    "- Самая высокая в Санкт-Петербурге - 108 709 рублей\n",
    "- Самая низкая в Выборге - 58 149 рублей\n",
    "\n",
    "**Стоимосость жилья в Санкт-Петербурге в зависимости от расстояния до центра города:**\n",
    "\n",
    "- Чем жилье ближе к центру, тем цена выше и наоборот\n",
    "- Чем жилье дальше от центра, тем цена ниже."
   ]
  }
 ],
 "metadata": {
  "ExecuteTimeLog": [
   {
    "duration": 736,
    "start_time": "2022-10-08T16:37:32.811Z"
   },
   {
    "duration": 92,
    "start_time": "2022-10-08T16:37:47.398Z"
   },
   {
    "duration": 53,
    "start_time": "2022-10-08T16:38:15.524Z"
   },
   {
    "duration": 101,
    "start_time": "2022-10-08T16:38:20.538Z"
   },
   {
    "duration": 155,
    "start_time": "2022-10-08T16:38:35.700Z"
   },
   {
    "duration": 103,
    "start_time": "2022-10-08T16:39:03.253Z"
   },
   {
    "duration": 2802,
    "start_time": "2022-10-08T16:39:51.657Z"
   },
   {
    "duration": 706,
    "start_time": "2022-10-11T12:43:01.668Z"
   },
   {
    "duration": 2500,
    "start_time": "2022-10-11T12:43:22.493Z"
   },
   {
    "duration": 275,
    "start_time": "2022-10-11T12:43:50.755Z"
   },
   {
    "duration": 2111,
    "start_time": "2022-10-11T12:44:15.927Z"
   },
   {
    "duration": 132,
    "start_time": "2022-10-11T12:45:43.784Z"
   },
   {
    "duration": 113,
    "start_time": "2022-10-11T12:45:53.833Z"
   },
   {
    "duration": 29,
    "start_time": "2022-10-11T12:46:04.401Z"
   },
   {
    "duration": 115,
    "start_time": "2022-10-11T12:46:22.431Z"
   },
   {
    "duration": 17,
    "start_time": "2022-10-11T12:46:28.811Z"
   },
   {
    "duration": 80,
    "start_time": "2022-10-11T12:47:22.588Z"
   },
   {
    "duration": 4251,
    "start_time": "2022-10-11T12:47:35.633Z"
   },
   {
    "duration": 2156,
    "start_time": "2022-10-11T12:47:54.338Z"
   },
   {
    "duration": 2404,
    "start_time": "2022-10-11T12:48:09.354Z"
   },
   {
    "duration": 3234,
    "start_time": "2022-10-11T12:48:18.215Z"
   },
   {
    "duration": 2030,
    "start_time": "2022-10-11T12:49:33.304Z"
   },
   {
    "duration": 83,
    "start_time": "2022-10-11T13:45:17.853Z"
   },
   {
    "duration": 77,
    "start_time": "2022-10-11T14:19:41.224Z"
   },
   {
    "duration": 256,
    "start_time": "2022-10-11T14:19:45.272Z"
   },
   {
    "duration": 163,
    "start_time": "2022-10-11T14:20:00.993Z"
   },
   {
    "duration": 166,
    "start_time": "2022-10-11T14:20:04.491Z"
   },
   {
    "duration": 166,
    "start_time": "2022-10-11T14:20:08.740Z"
   },
   {
    "duration": 173,
    "start_time": "2022-10-11T14:20:25.787Z"
   },
   {
    "duration": 151,
    "start_time": "2022-10-11T14:20:39.011Z"
   },
   {
    "duration": 157,
    "start_time": "2022-10-11T14:20:48.043Z"
   },
   {
    "duration": 2328,
    "start_time": "2022-10-11T14:21:11.623Z"
   },
   {
    "duration": 63,
    "start_time": "2022-10-11T14:21:27.794Z"
   },
   {
    "duration": 64,
    "start_time": "2022-10-11T14:21:39.505Z"
   },
   {
    "duration": 4263,
    "start_time": "2022-10-11T14:22:23.430Z"
   },
   {
    "duration": 5027,
    "start_time": "2022-10-11T14:23:40.099Z"
   },
   {
    "duration": 440,
    "start_time": "2022-10-11T14:23:57.008Z"
   },
   {
    "duration": 77,
    "start_time": "2022-10-11T14:25:14.029Z"
   },
   {
    "duration": 2592,
    "start_time": "2022-10-11T14:25:23.647Z"
   },
   {
    "duration": 28522,
    "start_time": "2022-10-11T14:25:59.787Z"
   },
   {
    "duration": 2517,
    "start_time": "2022-10-11T14:27:04.201Z"
   },
   {
    "duration": 1964,
    "start_time": "2022-10-11T14:27:42.125Z"
   },
   {
    "duration": 78,
    "start_time": "2022-10-11T14:30:25.996Z"
   },
   {
    "duration": 10,
    "start_time": "2022-10-11T14:38:04.124Z"
   },
   {
    "duration": 3,
    "start_time": "2022-10-11T14:38:31.584Z"
   },
   {
    "duration": 23,
    "start_time": "2022-10-11T14:38:36.692Z"
   },
   {
    "duration": 32,
    "start_time": "2022-10-11T14:40:20.717Z"
   },
   {
    "duration": 22,
    "start_time": "2022-10-11T14:40:24.337Z"
   },
   {
    "duration": 199,
    "start_time": "2022-10-11T14:40:48.504Z"
   },
   {
    "duration": 37,
    "start_time": "2022-10-11T14:41:55.102Z"
   },
   {
    "duration": 70,
    "start_time": "2022-10-11T14:45:55.254Z"
   },
   {
    "duration": 31,
    "start_time": "2022-10-11T14:48:22.201Z"
   },
   {
    "duration": 54,
    "start_time": "2022-10-11T17:15:58.631Z"
   },
   {
    "duration": 29,
    "start_time": "2022-10-11T17:16:03.204Z"
   },
   {
    "duration": 146,
    "start_time": "2022-10-11T17:16:10.358Z"
   },
   {
    "duration": 152,
    "start_time": "2022-10-11T17:16:24.250Z"
   },
   {
    "duration": 265,
    "start_time": "2022-10-11T17:16:55.553Z"
   },
   {
    "duration": 293,
    "start_time": "2022-10-11T17:17:10.959Z"
   },
   {
    "duration": 23,
    "start_time": "2022-10-11T17:17:52.836Z"
   },
   {
    "duration": 1335,
    "start_time": "2022-10-11T17:28:34.053Z"
   },
   {
    "duration": 8,
    "start_time": "2022-10-11T17:28:59.045Z"
   },
   {
    "duration": 8,
    "start_time": "2022-10-11T17:29:20.970Z"
   },
   {
    "duration": 8,
    "start_time": "2022-10-11T17:30:46.694Z"
   },
   {
    "duration": 8,
    "start_time": "2022-10-11T17:30:55.712Z"
   },
   {
    "duration": 6,
    "start_time": "2022-10-11T17:33:15.024Z"
   },
   {
    "duration": 7,
    "start_time": "2022-10-11T17:34:21.855Z"
   },
   {
    "duration": 7,
    "start_time": "2022-10-11T17:34:29.478Z"
   },
   {
    "duration": 9,
    "start_time": "2022-10-11T17:45:50.010Z"
   },
   {
    "duration": 9,
    "start_time": "2022-10-11T17:46:06.380Z"
   },
   {
    "duration": 8,
    "start_time": "2022-10-11T17:46:15.333Z"
   },
   {
    "duration": 88,
    "start_time": "2022-10-11T17:46:28.246Z"
   },
   {
    "duration": 21,
    "start_time": "2022-10-11T17:46:33.939Z"
   },
   {
    "duration": 25,
    "start_time": "2022-10-11T17:48:45.017Z"
   },
   {
    "duration": 22,
    "start_time": "2022-10-11T17:48:52.714Z"
   },
   {
    "duration": 30,
    "start_time": "2022-10-11T17:49:04.405Z"
   },
   {
    "duration": 20,
    "start_time": "2022-10-11T17:49:16.620Z"
   },
   {
    "duration": 51,
    "start_time": "2022-10-11T17:49:38.741Z"
   },
   {
    "duration": 5,
    "start_time": "2022-10-11T17:54:01.798Z"
   },
   {
    "duration": 4,
    "start_time": "2022-10-11T17:54:22.963Z"
   },
   {
    "duration": 69,
    "start_time": "2022-10-11T17:57:40.439Z"
   },
   {
    "duration": 83,
    "start_time": "2022-10-11T17:57:53.267Z"
   },
   {
    "duration": 79,
    "start_time": "2022-10-11T17:58:46.688Z"
   },
   {
    "duration": 65,
    "start_time": "2022-10-11T17:59:38.349Z"
   },
   {
    "duration": 1121,
    "start_time": "2022-10-11T17:59:44.907Z"
   },
   {
    "duration": 2024,
    "start_time": "2022-10-11T18:00:53.318Z"
   },
   {
    "duration": 2233,
    "start_time": "2022-10-11T18:01:26.101Z"
   },
   {
    "duration": 145,
    "start_time": "2022-10-11T18:08:42.362Z"
   },
   {
    "duration": 22,
    "start_time": "2022-10-11T18:14:28.122Z"
   },
   {
    "duration": 23,
    "start_time": "2022-10-11T18:15:09.011Z"
   },
   {
    "duration": 12,
    "start_time": "2022-10-11T18:16:27.942Z"
   },
   {
    "duration": 18,
    "start_time": "2022-10-11T18:16:35.809Z"
   },
   {
    "duration": 44,
    "start_time": "2022-10-11T18:16:57.923Z"
   },
   {
    "duration": 720,
    "start_time": "2022-10-11T18:17:35.923Z"
   },
   {
    "duration": 704,
    "start_time": "2022-10-11T18:17:45.332Z"
   },
   {
    "duration": 717,
    "start_time": "2022-10-11T18:17:57.124Z"
   },
   {
    "duration": 51,
    "start_time": "2022-10-12T11:27:57.836Z"
   },
   {
    "duration": 804,
    "start_time": "2022-10-12T11:28:02.645Z"
   },
   {
    "duration": 16,
    "start_time": "2022-10-12T11:28:03.451Z"
   },
   {
    "duration": 2528,
    "start_time": "2022-10-12T11:28:03.469Z"
   },
   {
    "duration": 84,
    "start_time": "2022-10-12T11:28:05.999Z"
   },
   {
    "duration": 25,
    "start_time": "2022-10-12T11:28:06.085Z"
   },
   {
    "duration": 9,
    "start_time": "2022-10-12T11:28:06.112Z"
   },
   {
    "duration": 6,
    "start_time": "2022-10-12T11:28:09.201Z"
   },
   {
    "duration": 6,
    "start_time": "2022-10-12T11:31:42.320Z"
   },
   {
    "duration": 50,
    "start_time": "2022-10-12T11:31:49.857Z"
   },
   {
    "duration": 46,
    "start_time": "2022-10-12T11:31:53.248Z"
   },
   {
    "duration": 9,
    "start_time": "2022-10-12T11:31:56.174Z"
   },
   {
    "duration": 63,
    "start_time": "2022-10-12T11:32:43.681Z"
   },
   {
    "duration": 71,
    "start_time": "2022-10-12T11:33:01.530Z"
   },
   {
    "duration": 7,
    "start_time": "2022-10-12T11:41:11.399Z"
   },
   {
    "duration": 51,
    "start_time": "2022-10-12T11:41:57.034Z"
   },
   {
    "duration": 49,
    "start_time": "2022-10-12T11:42:11.040Z"
   },
   {
    "duration": 180,
    "start_time": "2022-10-12T11:42:17.674Z"
   },
   {
    "duration": 9,
    "start_time": "2022-10-12T11:42:31.633Z"
   },
   {
    "duration": 6,
    "start_time": "2022-10-12T11:42:36.960Z"
   },
   {
    "duration": 48,
    "start_time": "2022-10-12T11:42:49.693Z"
   },
   {
    "duration": 39,
    "start_time": "2022-10-12T11:44:25.346Z"
   },
   {
    "duration": 8,
    "start_time": "2022-10-12T11:44:30.491Z"
   },
   {
    "duration": 7,
    "start_time": "2022-10-12T11:44:37.571Z"
   },
   {
    "duration": 7,
    "start_time": "2022-10-12T11:44:45.974Z"
   },
   {
    "duration": 4,
    "start_time": "2022-10-12T11:44:54.633Z"
   },
   {
    "duration": 10,
    "start_time": "2022-10-12T11:45:36.379Z"
   },
   {
    "duration": 4,
    "start_time": "2022-10-12T11:46:19.569Z"
   },
   {
    "duration": 6,
    "start_time": "2022-10-12T11:46:51.213Z"
   },
   {
    "duration": 7,
    "start_time": "2022-10-12T11:46:57.737Z"
   },
   {
    "duration": 61,
    "start_time": "2022-10-12T11:47:05.126Z"
   },
   {
    "duration": 758,
    "start_time": "2022-10-12T11:47:22.529Z"
   },
   {
    "duration": 6,
    "start_time": "2022-10-12T11:47:27.777Z"
   },
   {
    "duration": 10,
    "start_time": "2022-10-12T11:55:27.901Z"
   },
   {
    "duration": 13,
    "start_time": "2022-10-12T11:55:43.651Z"
   },
   {
    "duration": 14,
    "start_time": "2022-10-12T11:55:51.637Z"
   },
   {
    "duration": 7,
    "start_time": "2022-10-12T11:56:02.324Z"
   },
   {
    "duration": 14,
    "start_time": "2022-10-12T11:56:05.556Z"
   },
   {
    "duration": 10,
    "start_time": "2022-10-12T11:57:31.968Z"
   },
   {
    "duration": 13,
    "start_time": "2022-10-12T11:57:58.762Z"
   },
   {
    "duration": 8,
    "start_time": "2022-10-12T11:58:03.489Z"
   },
   {
    "duration": 11,
    "start_time": "2022-10-12T11:58:07.295Z"
   },
   {
    "duration": 5,
    "start_time": "2022-10-12T11:58:23.894Z"
   },
   {
    "duration": 9,
    "start_time": "2022-10-12T11:58:49.356Z"
   },
   {
    "duration": 11,
    "start_time": "2022-10-12T11:59:02.552Z"
   },
   {
    "duration": 15,
    "start_time": "2022-10-12T11:59:49.318Z"
   },
   {
    "duration": 12,
    "start_time": "2022-10-12T11:59:54.029Z"
   },
   {
    "duration": 52,
    "start_time": "2022-10-12T12:00:29.242Z"
   },
   {
    "duration": 48,
    "start_time": "2022-10-12T12:00:35.357Z"
   },
   {
    "duration": 9,
    "start_time": "2022-10-12T12:00:46.694Z"
   },
   {
    "duration": 7,
    "start_time": "2022-10-12T12:01:00.562Z"
   },
   {
    "duration": 9,
    "start_time": "2022-10-12T12:01:06.450Z"
   },
   {
    "duration": 12,
    "start_time": "2022-10-12T12:01:19.444Z"
   },
   {
    "duration": 6,
    "start_time": "2022-10-12T12:01:32.292Z"
   },
   {
    "duration": 19,
    "start_time": "2022-10-12T12:01:36.706Z"
   },
   {
    "duration": 11,
    "start_time": "2022-10-12T12:02:16.873Z"
   },
   {
    "duration": 20,
    "start_time": "2022-10-12T12:02:23.713Z"
   },
   {
    "duration": 19,
    "start_time": "2022-10-12T12:02:51.144Z"
   },
   {
    "duration": 5,
    "start_time": "2022-10-12T12:02:59.626Z"
   },
   {
    "duration": 52,
    "start_time": "2022-10-12T12:03:38.210Z"
   },
   {
    "duration": 822,
    "start_time": "2022-10-12T12:03:47.015Z"
   },
   {
    "duration": 7,
    "start_time": "2022-10-12T12:03:52.784Z"
   },
   {
    "duration": 8,
    "start_time": "2022-10-12T12:04:01.045Z"
   },
   {
    "duration": 8,
    "start_time": "2022-10-12T12:04:33.929Z"
   },
   {
    "duration": 5,
    "start_time": "2022-10-12T12:04:48.996Z"
   },
   {
    "duration": 785,
    "start_time": "2022-10-12T12:05:27.128Z"
   },
   {
    "duration": 9,
    "start_time": "2022-10-12T12:05:34.036Z"
   },
   {
    "duration": 9,
    "start_time": "2022-10-12T12:05:40.848Z"
   },
   {
    "duration": 60,
    "start_time": "2022-10-12T12:05:53.301Z"
   },
   {
    "duration": 10,
    "start_time": "2022-10-12T12:05:57.195Z"
   },
   {
    "duration": 8,
    "start_time": "2022-10-12T12:09:19.578Z"
   },
   {
    "duration": 39,
    "start_time": "2022-10-12T12:09:40.305Z"
   },
   {
    "duration": 42,
    "start_time": "2022-10-12T12:09:52.686Z"
   },
   {
    "duration": 43,
    "start_time": "2022-10-12T12:10:03.369Z"
   },
   {
    "duration": 2006,
    "start_time": "2022-10-12T12:12:55.505Z"
   },
   {
    "duration": 39,
    "start_time": "2022-10-12T12:15:29.466Z"
   },
   {
    "duration": 41,
    "start_time": "2022-10-12T12:15:46.195Z"
   },
   {
    "duration": 5,
    "start_time": "2022-10-12T12:16:39.990Z"
   },
   {
    "duration": 5,
    "start_time": "2022-10-12T12:16:45.477Z"
   },
   {
    "duration": 17,
    "start_time": "2022-10-12T12:16:50.598Z"
   },
   {
    "duration": 38,
    "start_time": "2022-10-12T12:17:00.436Z"
   },
   {
    "duration": 56,
    "start_time": "2022-10-12T12:17:16.636Z"
   },
   {
    "duration": 42,
    "start_time": "2022-10-12T12:17:52.109Z"
   },
   {
    "duration": 51,
    "start_time": "2022-10-12T12:20:17.973Z"
   },
   {
    "duration": 44,
    "start_time": "2022-10-12T12:20:41.109Z"
   },
   {
    "duration": 55,
    "start_time": "2022-10-12T12:23:29.569Z"
   },
   {
    "duration": 47,
    "start_time": "2022-10-12T12:23:35.420Z"
   },
   {
    "duration": 60,
    "start_time": "2022-10-12T12:23:50.298Z"
   },
   {
    "duration": 45,
    "start_time": "2022-10-12T12:24:29.669Z"
   },
   {
    "duration": 48,
    "start_time": "2022-10-12T12:25:40.895Z"
   },
   {
    "duration": 52,
    "start_time": "2022-10-12T12:25:55.702Z"
   },
   {
    "duration": 47,
    "start_time": "2022-10-12T12:26:03.741Z"
   },
   {
    "duration": 51,
    "start_time": "2022-10-12T12:26:21.763Z"
   },
   {
    "duration": 48,
    "start_time": "2022-10-12T12:31:39.583Z"
   },
   {
    "duration": 50,
    "start_time": "2022-10-12T12:31:53.351Z"
   },
   {
    "duration": 50,
    "start_time": "2022-10-12T12:32:00.086Z"
   },
   {
    "duration": 50,
    "start_time": "2022-10-12T12:32:06.799Z"
   },
   {
    "duration": 49,
    "start_time": "2022-10-12T12:32:18.786Z"
   },
   {
    "duration": 53,
    "start_time": "2022-10-12T12:32:24.162Z"
   },
   {
    "duration": 63,
    "start_time": "2022-10-12T12:32:31.605Z"
   },
   {
    "duration": 14,
    "start_time": "2022-10-12T12:32:50.366Z"
   },
   {
    "duration": 48,
    "start_time": "2022-10-12T12:32:56.680Z"
   },
   {
    "duration": 50,
    "start_time": "2022-10-12T12:33:12.313Z"
   },
   {
    "duration": 46,
    "start_time": "2022-10-12T12:33:21.742Z"
   },
   {
    "duration": 60,
    "start_time": "2022-10-12T12:33:44.398Z"
   },
   {
    "duration": 9,
    "start_time": "2022-10-12T12:33:48.251Z"
   },
   {
    "duration": 57,
    "start_time": "2022-10-12T12:34:03.526Z"
   },
   {
    "duration": 38,
    "start_time": "2022-10-12T12:34:09.815Z"
   },
   {
    "duration": 57,
    "start_time": "2022-10-12T12:34:31.507Z"
   },
   {
    "duration": 111,
    "start_time": "2022-10-12T12:34:54.898Z"
   },
   {
    "duration": 16,
    "start_time": "2022-10-12T12:34:55.680Z"
   },
   {
    "duration": 2046,
    "start_time": "2022-10-12T12:34:55.711Z"
   },
   {
    "duration": 73,
    "start_time": "2022-10-12T12:34:57.759Z"
   },
   {
    "duration": 32,
    "start_time": "2022-10-12T12:34:57.834Z"
   },
   {
    "duration": 42,
    "start_time": "2022-10-12T12:34:57.868Z"
   },
   {
    "duration": 5,
    "start_time": "2022-10-12T12:34:57.912Z"
   },
   {
    "duration": 42,
    "start_time": "2022-10-12T12:34:57.918Z"
   },
   {
    "duration": 0,
    "start_time": "2022-10-12T12:34:57.961Z"
   },
   {
    "duration": 0,
    "start_time": "2022-10-12T12:34:57.962Z"
   },
   {
    "duration": 49,
    "start_time": "2022-10-12T12:35:00.669Z"
   },
   {
    "duration": 43,
    "start_time": "2022-10-12T12:35:10.236Z"
   },
   {
    "duration": 11,
    "start_time": "2022-10-12T12:35:21.553Z"
   },
   {
    "duration": 9,
    "start_time": "2022-10-12T12:35:52.895Z"
   },
   {
    "duration": 13,
    "start_time": "2022-10-12T12:36:19.698Z"
   },
   {
    "duration": 12,
    "start_time": "2022-10-12T12:36:23.835Z"
   },
   {
    "duration": 10,
    "start_time": "2022-10-12T12:36:29.947Z"
   },
   {
    "duration": 44,
    "start_time": "2022-10-12T12:57:24.589Z"
   },
   {
    "duration": 41,
    "start_time": "2022-10-12T12:57:41.176Z"
   },
   {
    "duration": 21,
    "start_time": "2022-10-12T13:00:11.301Z"
   },
   {
    "duration": 55,
    "start_time": "2022-10-12T13:00:50.569Z"
   },
   {
    "duration": 17,
    "start_time": "2022-10-12T13:01:02.065Z"
   },
   {
    "duration": 55,
    "start_time": "2022-10-12T13:01:11.680Z"
   },
   {
    "duration": 18,
    "start_time": "2022-10-12T13:01:30.288Z"
   },
   {
    "duration": 15,
    "start_time": "2022-10-12T13:01:47.884Z"
   },
   {
    "duration": 105,
    "start_time": "2022-10-12T13:02:03.029Z"
   },
   {
    "duration": 19,
    "start_time": "2022-10-12T13:02:06.603Z"
   },
   {
    "duration": 19,
    "start_time": "2022-10-12T13:02:25.054Z"
   },
   {
    "duration": 19,
    "start_time": "2022-10-12T13:02:32.025Z"
   },
   {
    "duration": 18,
    "start_time": "2022-10-12T13:03:02.048Z"
   },
   {
    "duration": 29,
    "start_time": "2022-10-12T13:03:37.695Z"
   },
   {
    "duration": 14,
    "start_time": "2022-10-12T13:03:50.510Z"
   },
   {
    "duration": 13,
    "start_time": "2022-10-12T13:10:26.289Z"
   },
   {
    "duration": 11,
    "start_time": "2022-10-12T13:10:50.681Z"
   },
   {
    "duration": 7,
    "start_time": "2022-10-12T13:11:10.424Z"
   },
   {
    "duration": 14,
    "start_time": "2022-10-12T13:11:11.585Z"
   },
   {
    "duration": 8,
    "start_time": "2022-10-12T13:11:19.202Z"
   },
   {
    "duration": 10,
    "start_time": "2022-10-12T13:11:22.381Z"
   },
   {
    "duration": 8,
    "start_time": "2022-10-12T13:11:43.117Z"
   },
   {
    "duration": 13,
    "start_time": "2022-10-12T13:11:50.773Z"
   },
   {
    "duration": 11,
    "start_time": "2022-10-12T13:12:31.562Z"
   },
   {
    "duration": 7,
    "start_time": "2022-10-12T13:12:57.786Z"
   },
   {
    "duration": 14,
    "start_time": "2022-10-12T13:15:03.748Z"
   },
   {
    "duration": 9,
    "start_time": "2022-10-12T13:15:24.799Z"
   },
   {
    "duration": 16,
    "start_time": "2022-10-12T13:15:35.141Z"
   },
   {
    "duration": 21,
    "start_time": "2022-10-12T13:15:48.457Z"
   },
   {
    "duration": 53,
    "start_time": "2022-10-12T13:15:57.210Z"
   },
   {
    "duration": 9,
    "start_time": "2022-10-12T13:16:03.435Z"
   },
   {
    "duration": 113,
    "start_time": "2022-10-12T13:16:26.270Z"
   },
   {
    "duration": 16,
    "start_time": "2022-10-12T13:16:26.978Z"
   },
   {
    "duration": 2364,
    "start_time": "2022-10-12T13:16:28.010Z"
   },
   {
    "duration": 93,
    "start_time": "2022-10-12T13:16:30.376Z"
   },
   {
    "duration": 27,
    "start_time": "2022-10-12T13:16:31.529Z"
   },
   {
    "duration": 10,
    "start_time": "2022-10-12T13:16:36.222Z"
   },
   {
    "duration": 10,
    "start_time": "2022-10-12T13:16:54.946Z"
   },
   {
    "duration": 59,
    "start_time": "2022-10-12T13:17:02.044Z"
   },
   {
    "duration": 12,
    "start_time": "2022-10-12T13:17:17.923Z"
   },
   {
    "duration": 10,
    "start_time": "2022-10-12T13:17:22.110Z"
   },
   {
    "duration": 10,
    "start_time": "2022-10-12T13:17:28.974Z"
   },
   {
    "duration": 7,
    "start_time": "2022-10-12T13:17:58.251Z"
   },
   {
    "duration": 9,
    "start_time": "2022-10-12T13:18:02.384Z"
   },
   {
    "duration": 15,
    "start_time": "2022-10-12T13:19:45.698Z"
   },
   {
    "duration": 15,
    "start_time": "2022-10-12T13:20:10.858Z"
   },
   {
    "duration": 9,
    "start_time": "2022-10-12T13:20:16.671Z"
   },
   {
    "duration": 66,
    "start_time": "2022-10-12T13:20:59.253Z"
   },
   {
    "duration": 8,
    "start_time": "2022-10-12T13:21:09.891Z"
   },
   {
    "duration": 7,
    "start_time": "2022-10-12T13:21:19.534Z"
   },
   {
    "duration": 4,
    "start_time": "2022-10-12T13:21:23.591Z"
   },
   {
    "duration": 7,
    "start_time": "2022-10-12T13:44:51.935Z"
   },
   {
    "duration": 5,
    "start_time": "2022-10-12T13:45:08.756Z"
   },
   {
    "duration": 36,
    "start_time": "2022-10-12T13:45:20.975Z"
   },
   {
    "duration": 45,
    "start_time": "2022-10-12T13:50:08.680Z"
   },
   {
    "duration": 42,
    "start_time": "2022-10-12T14:04:57.193Z"
   },
   {
    "duration": 8,
    "start_time": "2022-10-12T14:08:01.689Z"
   },
   {
    "duration": 10,
    "start_time": "2022-10-12T14:08:14.070Z"
   },
   {
    "duration": 45,
    "start_time": "2022-10-12T14:08:27.235Z"
   },
   {
    "duration": 47,
    "start_time": "2022-10-12T14:08:37.804Z"
   },
   {
    "duration": 14,
    "start_time": "2022-10-12T14:08:59.625Z"
   },
   {
    "duration": 16,
    "start_time": "2022-10-12T14:09:13.041Z"
   },
   {
    "duration": 115,
    "start_time": "2022-10-12T14:09:38.956Z"
   },
   {
    "duration": 16,
    "start_time": "2022-10-12T14:09:39.295Z"
   },
   {
    "duration": 2100,
    "start_time": "2022-10-12T14:09:39.995Z"
   },
   {
    "duration": 88,
    "start_time": "2022-10-12T14:09:42.097Z"
   },
   {
    "duration": 23,
    "start_time": "2022-10-12T14:09:42.187Z"
   },
   {
    "duration": 8,
    "start_time": "2022-10-12T14:09:43.420Z"
   },
   {
    "duration": 39,
    "start_time": "2022-10-12T14:09:44.766Z"
   },
   {
    "duration": 51,
    "start_time": "2022-10-12T14:10:08.564Z"
   },
   {
    "duration": 30,
    "start_time": "2022-10-12T14:12:55.906Z"
   },
   {
    "duration": 18,
    "start_time": "2022-10-12T14:13:00.933Z"
   },
   {
    "duration": 8,
    "start_time": "2022-10-12T14:13:17.612Z"
   },
   {
    "duration": 11,
    "start_time": "2022-10-12T14:13:20.643Z"
   },
   {
    "duration": 5,
    "start_time": "2022-10-12T14:13:23.638Z"
   },
   {
    "duration": 16,
    "start_time": "2022-10-12T14:13:28.591Z"
   },
   {
    "duration": 342,
    "start_time": "2022-10-12T14:34:53.711Z"
   },
   {
    "duration": 67,
    "start_time": "2022-10-12T14:35:11.416Z"
   },
   {
    "duration": 41,
    "start_time": "2022-10-12T14:35:33.077Z"
   },
   {
    "duration": 41,
    "start_time": "2022-10-12T14:35:43.826Z"
   },
   {
    "duration": 55,
    "start_time": "2022-10-12T14:35:54.167Z"
   },
   {
    "duration": 49,
    "start_time": "2022-10-12T14:35:59.895Z"
   },
   {
    "duration": 44,
    "start_time": "2022-10-12T14:36:48.562Z"
   },
   {
    "duration": 85,
    "start_time": "2022-10-12T14:37:01.645Z"
   },
   {
    "duration": 44,
    "start_time": "2022-10-12T14:37:22.982Z"
   },
   {
    "duration": 6,
    "start_time": "2022-10-12T14:39:02.928Z"
   },
   {
    "duration": 7,
    "start_time": "2022-10-12T14:39:13.321Z"
   },
   {
    "duration": 47,
    "start_time": "2022-10-12T14:39:41.175Z"
   },
   {
    "duration": 705,
    "start_time": "2022-10-13T10:47:26.937Z"
   },
   {
    "duration": 15,
    "start_time": "2022-10-13T10:47:27.644Z"
   },
   {
    "duration": 2348,
    "start_time": "2022-10-13T10:47:28.350Z"
   },
   {
    "duration": 77,
    "start_time": "2022-10-13T10:47:30.700Z"
   },
   {
    "duration": 32,
    "start_time": "2022-10-13T10:47:30.779Z"
   },
   {
    "duration": 5,
    "start_time": "2022-10-13T10:48:03.400Z"
   },
   {
    "duration": 7,
    "start_time": "2022-10-13T10:48:12.878Z"
   },
   {
    "duration": 71,
    "start_time": "2022-10-13T10:50:34.369Z"
   },
   {
    "duration": 8,
    "start_time": "2022-10-13T10:51:02.153Z"
   },
   {
    "duration": 7,
    "start_time": "2022-10-13T10:51:07.451Z"
   },
   {
    "duration": 7,
    "start_time": "2022-10-13T10:51:23.875Z"
   },
   {
    "duration": 7,
    "start_time": "2022-10-13T10:51:45.905Z"
   },
   {
    "duration": 8,
    "start_time": "2022-10-13T10:52:09.657Z"
   },
   {
    "duration": 8,
    "start_time": "2022-10-13T10:52:38.041Z"
   },
   {
    "duration": 9,
    "start_time": "2022-10-13T10:52:46.949Z"
   },
   {
    "duration": 26,
    "start_time": "2022-10-13T11:01:38.383Z"
   },
   {
    "duration": 35,
    "start_time": "2022-10-13T11:02:21.339Z"
   },
   {
    "duration": 79,
    "start_time": "2022-10-13T11:02:49.923Z"
   },
   {
    "duration": 46,
    "start_time": "2022-10-13T11:03:11.139Z"
   },
   {
    "duration": 46,
    "start_time": "2022-10-13T11:07:23.635Z"
   },
   {
    "duration": 7,
    "start_time": "2022-10-13T11:07:48.718Z"
   },
   {
    "duration": 5,
    "start_time": "2022-10-13T11:07:49.234Z"
   },
   {
    "duration": 7,
    "start_time": "2022-10-13T11:07:51.561Z"
   },
   {
    "duration": 46,
    "start_time": "2022-10-13T11:08:00.477Z"
   },
   {
    "duration": 46,
    "start_time": "2022-10-13T11:08:46.982Z"
   },
   {
    "duration": 7,
    "start_time": "2022-10-13T11:15:10.787Z"
   },
   {
    "duration": 5,
    "start_time": "2022-10-13T11:19:27.733Z"
   },
   {
    "duration": 5,
    "start_time": "2022-10-13T11:20:03.861Z"
   },
   {
    "duration": 16,
    "start_time": "2022-10-13T11:24:21.656Z"
   },
   {
    "duration": 8,
    "start_time": "2022-10-13T11:24:38.139Z"
   },
   {
    "duration": 16,
    "start_time": "2022-10-13T11:24:55.279Z"
   },
   {
    "duration": 5,
    "start_time": "2022-10-13T11:25:19.664Z"
   },
   {
    "duration": 7,
    "start_time": "2022-10-13T11:32:33.528Z"
   },
   {
    "duration": 15,
    "start_time": "2022-10-13T11:32:39.469Z"
   },
   {
    "duration": 9,
    "start_time": "2022-10-13T11:34:16.046Z"
   },
   {
    "duration": 1662,
    "start_time": "2022-10-13T11:35:00.138Z"
   },
   {
    "duration": 3,
    "start_time": "2022-10-13T11:35:15.221Z"
   },
   {
    "duration": 4,
    "start_time": "2022-10-13T11:35:23.625Z"
   },
   {
    "duration": 4,
    "start_time": "2022-10-13T11:35:29.255Z"
   },
   {
    "duration": 344,
    "start_time": "2022-10-13T11:35:42.692Z"
   },
   {
    "duration": 4,
    "start_time": "2022-10-13T11:35:47.222Z"
   },
   {
    "duration": 62,
    "start_time": "2022-10-13T11:35:50.801Z"
   },
   {
    "duration": 10,
    "start_time": "2022-10-13T11:35:58.221Z"
   },
   {
    "duration": 5,
    "start_time": "2022-10-13T11:36:05.149Z"
   },
   {
    "duration": 4,
    "start_time": "2022-10-13T11:36:14.963Z"
   },
   {
    "duration": 491,
    "start_time": "2022-10-13T11:37:06.028Z"
   },
   {
    "duration": 17,
    "start_time": "2022-10-13T11:37:06.521Z"
   },
   {
    "duration": 2334,
    "start_time": "2022-10-13T11:37:06.657Z"
   },
   {
    "duration": 76,
    "start_time": "2022-10-13T11:37:08.993Z"
   },
   {
    "duration": 29,
    "start_time": "2022-10-13T11:37:09.070Z"
   },
   {
    "duration": 8,
    "start_time": "2022-10-13T11:37:09.100Z"
   },
   {
    "duration": 8,
    "start_time": "2022-10-13T11:37:09.109Z"
   },
   {
    "duration": 6,
    "start_time": "2022-10-13T11:37:11.723Z"
   },
   {
    "duration": 5,
    "start_time": "2022-10-13T11:37:14.941Z"
   },
   {
    "duration": 6,
    "start_time": "2022-10-13T11:37:20.732Z"
   },
   {
    "duration": 4,
    "start_time": "2022-10-13T11:37:56.656Z"
   },
   {
    "duration": 7,
    "start_time": "2022-10-13T11:37:59.531Z"
   },
   {
    "duration": 49,
    "start_time": "2022-10-13T11:39:12.825Z"
   },
   {
    "duration": 8,
    "start_time": "2022-10-13T11:39:26.816Z"
   },
   {
    "duration": 9,
    "start_time": "2022-10-13T11:47:00.745Z"
   },
   {
    "duration": 3,
    "start_time": "2022-10-13T11:47:04.958Z"
   },
   {
    "duration": 100,
    "start_time": "2022-10-13T11:52:57.831Z"
   },
   {
    "duration": 5,
    "start_time": "2022-10-13T11:53:32.768Z"
   },
   {
    "duration": 4,
    "start_time": "2022-10-13T12:07:19.887Z"
   },
   {
    "duration": 4,
    "start_time": "2022-10-13T12:07:28.900Z"
   },
   {
    "duration": 13,
    "start_time": "2022-10-13T12:07:33.603Z"
   },
   {
    "duration": 71,
    "start_time": "2022-10-13T12:10:56.838Z"
   },
   {
    "duration": 84,
    "start_time": "2022-10-13T12:11:16.066Z"
   },
   {
    "duration": 9,
    "start_time": "2022-10-13T12:11:57.457Z"
   },
   {
    "duration": 8,
    "start_time": "2022-10-13T12:12:19.236Z"
   },
   {
    "duration": 9,
    "start_time": "2022-10-13T12:12:54.878Z"
   },
   {
    "duration": 10,
    "start_time": "2022-10-13T12:13:49.194Z"
   },
   {
    "duration": 27,
    "start_time": "2022-10-13T12:55:02.652Z"
   },
   {
    "duration": 85,
    "start_time": "2022-10-13T12:55:16.850Z"
   },
   {
    "duration": 62,
    "start_time": "2022-10-13T12:55:28.118Z"
   },
   {
    "duration": 9,
    "start_time": "2022-10-13T12:55:59.287Z"
   },
   {
    "duration": 47,
    "start_time": "2022-10-13T12:56:02.168Z"
   },
   {
    "duration": 12,
    "start_time": "2022-10-13T12:56:18.303Z"
   },
   {
    "duration": 10,
    "start_time": "2022-10-13T12:56:22.720Z"
   },
   {
    "duration": 10,
    "start_time": "2022-10-13T12:56:57.377Z"
   },
   {
    "duration": 6,
    "start_time": "2022-10-13T12:57:30.791Z"
   },
   {
    "duration": 4,
    "start_time": "2022-10-13T12:58:08.097Z"
   },
   {
    "duration": 4,
    "start_time": "2022-10-13T13:06:12.854Z"
   },
   {
    "duration": 19,
    "start_time": "2022-10-13T13:06:19.009Z"
   },
   {
    "duration": 69,
    "start_time": "2022-10-13T13:06:27.863Z"
   },
   {
    "duration": 18,
    "start_time": "2022-10-13T13:06:32.498Z"
   },
   {
    "duration": 6,
    "start_time": "2022-10-13T13:06:51.212Z"
   },
   {
    "duration": 6,
    "start_time": "2022-10-13T13:06:58.446Z"
   },
   {
    "duration": 15,
    "start_time": "2022-10-13T13:07:25.602Z"
   },
   {
    "duration": 4,
    "start_time": "2022-10-13T13:07:39.754Z"
   },
   {
    "duration": 19,
    "start_time": "2022-10-13T13:12:16.117Z"
   },
   {
    "duration": 23,
    "start_time": "2022-10-13T13:12:56.455Z"
   },
   {
    "duration": 14,
    "start_time": "2022-10-13T13:15:49.288Z"
   },
   {
    "duration": 17,
    "start_time": "2022-10-13T13:16:05.913Z"
   },
   {
    "duration": 16,
    "start_time": "2022-10-13T13:16:14.860Z"
   },
   {
    "duration": 112,
    "start_time": "2022-10-13T13:16:49.352Z"
   },
   {
    "duration": 7,
    "start_time": "2022-10-13T13:18:34.981Z"
   },
   {
    "duration": 24,
    "start_time": "2022-10-13T13:18:40.415Z"
   },
   {
    "duration": 116,
    "start_time": "2022-10-13T13:18:49.950Z"
   },
   {
    "duration": 15,
    "start_time": "2022-10-13T13:18:50.287Z"
   },
   {
    "duration": 1963,
    "start_time": "2022-10-13T13:18:50.923Z"
   },
   {
    "duration": 174,
    "start_time": "2022-10-13T13:18:52.888Z"
   },
   {
    "duration": 32,
    "start_time": "2022-10-13T13:18:53.063Z"
   },
   {
    "duration": 8,
    "start_time": "2022-10-13T13:18:53.098Z"
   },
   {
    "duration": 7,
    "start_time": "2022-10-13T13:18:53.107Z"
   },
   {
    "duration": 7,
    "start_time": "2022-10-13T13:18:53.116Z"
   },
   {
    "duration": 7,
    "start_time": "2022-10-13T13:18:53.125Z"
   },
   {
    "duration": 11,
    "start_time": "2022-10-13T13:18:53.134Z"
   },
   {
    "duration": 10,
    "start_time": "2022-10-13T13:18:53.146Z"
   },
   {
    "duration": 8,
    "start_time": "2022-10-13T13:18:53.288Z"
   },
   {
    "duration": 5,
    "start_time": "2022-10-13T13:18:53.719Z"
   },
   {
    "duration": 3,
    "start_time": "2022-10-13T13:18:54.132Z"
   },
   {
    "duration": 10,
    "start_time": "2022-10-13T13:18:54.751Z"
   },
   {
    "duration": 10,
    "start_time": "2022-10-13T13:18:55.251Z"
   },
   {
    "duration": 4,
    "start_time": "2022-10-13T13:18:55.560Z"
   },
   {
    "duration": 21,
    "start_time": "2022-10-13T13:19:27.612Z"
   },
   {
    "duration": 33,
    "start_time": "2022-10-13T13:20:05.526Z"
   },
   {
    "duration": 24,
    "start_time": "2022-10-13T13:23:13.889Z"
   },
   {
    "duration": 11,
    "start_time": "2022-10-13T13:28:19.224Z"
   },
   {
    "duration": 4,
    "start_time": "2022-10-13T13:28:22.691Z"
   },
   {
    "duration": 23,
    "start_time": "2022-10-13T13:28:24.797Z"
   },
   {
    "duration": 23,
    "start_time": "2022-10-13T13:28:48.296Z"
   },
   {
    "duration": 12,
    "start_time": "2022-10-13T13:30:34.534Z"
   },
   {
    "duration": 4,
    "start_time": "2022-10-13T13:31:49.300Z"
   },
   {
    "duration": 27,
    "start_time": "2022-10-13T13:38:16.612Z"
   },
   {
    "duration": 299,
    "start_time": "2022-10-13T13:38:30.885Z"
   },
   {
    "duration": 392,
    "start_time": "2022-10-13T13:38:38.602Z"
   },
   {
    "duration": 38,
    "start_time": "2022-10-13T13:38:42.229Z"
   },
   {
    "duration": 11,
    "start_time": "2022-10-13T13:39:24.773Z"
   },
   {
    "duration": 16,
    "start_time": "2022-10-13T13:40:19.248Z"
   },
   {
    "duration": 284,
    "start_time": "2022-10-13T13:42:02.285Z"
   },
   {
    "duration": 15,
    "start_time": "2022-10-13T13:42:02.711Z"
   },
   {
    "duration": 9,
    "start_time": "2022-10-13T13:42:24.864Z"
   },
   {
    "duration": 15,
    "start_time": "2022-10-13T13:43:27.926Z"
   },
   {
    "duration": 5,
    "start_time": "2022-10-13T13:48:24.290Z"
   },
   {
    "duration": 8,
    "start_time": "2022-10-13T13:48:37.466Z"
   },
   {
    "duration": 9,
    "start_time": "2022-10-13T13:49:00.038Z"
   },
   {
    "duration": 7,
    "start_time": "2022-10-13T13:49:16.877Z"
   },
   {
    "duration": 9,
    "start_time": "2022-10-13T13:49:20.296Z"
   },
   {
    "duration": 8,
    "start_time": "2022-10-13T13:49:34.715Z"
   },
   {
    "duration": 66,
    "start_time": "2022-10-13T13:50:51.457Z"
   },
   {
    "duration": 75,
    "start_time": "2022-10-13T13:50:58.205Z"
   },
   {
    "duration": 768,
    "start_time": "2022-10-13T13:51:02.465Z"
   },
   {
    "duration": 740,
    "start_time": "2022-10-13T13:51:21.973Z"
   },
   {
    "duration": 8,
    "start_time": "2022-10-13T13:54:07.615Z"
   },
   {
    "duration": 11,
    "start_time": "2022-10-13T13:54:31.545Z"
   },
   {
    "duration": 40,
    "start_time": "2022-10-13T13:55:32.738Z"
   },
   {
    "duration": 112,
    "start_time": "2022-10-13T13:57:14.528Z"
   },
   {
    "duration": 116,
    "start_time": "2022-10-13T13:57:26.445Z"
   },
   {
    "duration": 16,
    "start_time": "2022-10-13T13:57:26.962Z"
   },
   {
    "duration": 2009,
    "start_time": "2022-10-13T13:57:27.027Z"
   },
   {
    "duration": 85,
    "start_time": "2022-10-13T13:57:29.038Z"
   },
   {
    "duration": 22,
    "start_time": "2022-10-13T13:57:29.125Z"
   },
   {
    "duration": 8,
    "start_time": "2022-10-13T13:57:29.150Z"
   },
   {
    "duration": 8,
    "start_time": "2022-10-13T13:57:29.160Z"
   },
   {
    "duration": 29,
    "start_time": "2022-10-13T13:57:29.170Z"
   },
   {
    "duration": 7,
    "start_time": "2022-10-13T13:57:29.201Z"
   },
   {
    "duration": 7,
    "start_time": "2022-10-13T13:57:29.210Z"
   },
   {
    "duration": 10,
    "start_time": "2022-10-13T13:57:29.218Z"
   },
   {
    "duration": 9,
    "start_time": "2022-10-13T13:57:29.230Z"
   },
   {
    "duration": 9,
    "start_time": "2022-10-13T13:57:29.240Z"
   },
   {
    "duration": 5,
    "start_time": "2022-10-13T13:57:29.250Z"
   },
   {
    "duration": 43,
    "start_time": "2022-10-13T13:57:29.257Z"
   },
   {
    "duration": 12,
    "start_time": "2022-10-13T13:57:29.302Z"
   },
   {
    "duration": 8,
    "start_time": "2022-10-13T13:57:29.316Z"
   },
   {
    "duration": 18,
    "start_time": "2022-10-13T13:57:29.326Z"
   },
   {
    "duration": 58,
    "start_time": "2022-10-13T13:57:29.346Z"
   },
   {
    "duration": 325,
    "start_time": "2022-10-13T13:57:29.406Z"
   },
   {
    "duration": 88,
    "start_time": "2022-10-13T13:58:01.342Z"
   },
   {
    "duration": 40,
    "start_time": "2022-10-13T13:58:12.403Z"
   },
   {
    "duration": 39,
    "start_time": "2022-10-13T13:58:59.762Z"
   },
   {
    "duration": 46,
    "start_time": "2022-10-13T13:59:18.411Z"
   },
   {
    "duration": 42,
    "start_time": "2022-10-13T13:59:34.034Z"
   },
   {
    "duration": 42,
    "start_time": "2022-10-13T13:59:51.648Z"
   },
   {
    "duration": 40,
    "start_time": "2022-10-13T14:00:03.968Z"
   },
   {
    "duration": 36,
    "start_time": "2022-10-13T14:00:32.273Z"
   },
   {
    "duration": 886,
    "start_time": "2022-10-14T13:01:11.167Z"
   },
   {
    "duration": 13,
    "start_time": "2022-10-14T13:01:12.054Z"
   },
   {
    "duration": 1843,
    "start_time": "2022-10-14T13:01:12.068Z"
   },
   {
    "duration": 66,
    "start_time": "2022-10-14T13:01:13.912Z"
   },
   {
    "duration": 19,
    "start_time": "2022-10-14T13:01:13.979Z"
   },
   {
    "duration": 15,
    "start_time": "2022-10-14T13:01:14.000Z"
   },
   {
    "duration": 9,
    "start_time": "2022-10-14T13:01:14.016Z"
   },
   {
    "duration": 4,
    "start_time": "2022-10-14T13:01:14.027Z"
   },
   {
    "duration": 10,
    "start_time": "2022-10-14T13:01:14.032Z"
   },
   {
    "duration": 7,
    "start_time": "2022-10-14T13:01:14.043Z"
   },
   {
    "duration": 5,
    "start_time": "2022-10-14T13:01:14.051Z"
   },
   {
    "duration": 9,
    "start_time": "2022-10-14T13:01:14.058Z"
   },
   {
    "duration": 9,
    "start_time": "2022-10-14T13:01:14.068Z"
   },
   {
    "duration": 12,
    "start_time": "2022-10-14T13:01:14.079Z"
   },
   {
    "duration": 38,
    "start_time": "2022-10-14T13:01:14.093Z"
   },
   {
    "duration": 13,
    "start_time": "2022-10-14T13:01:14.133Z"
   },
   {
    "duration": 4,
    "start_time": "2022-10-14T13:01:14.148Z"
   },
   {
    "duration": 11,
    "start_time": "2022-10-14T13:01:14.153Z"
   },
   {
    "duration": 48,
    "start_time": "2022-10-14T13:01:14.166Z"
   },
   {
    "duration": 312,
    "start_time": "2022-10-14T13:01:14.216Z"
   },
   {
    "duration": 8,
    "start_time": "2022-10-14T13:09:21.352Z"
   },
   {
    "duration": 691,
    "start_time": "2022-10-14T13:10:12.829Z"
   },
   {
    "duration": 13,
    "start_time": "2022-10-14T13:10:13.522Z"
   },
   {
    "duration": 1863,
    "start_time": "2022-10-14T13:10:13.536Z"
   },
   {
    "duration": 71,
    "start_time": "2022-10-14T13:10:15.401Z"
   },
   {
    "duration": 42,
    "start_time": "2022-10-14T13:10:15.473Z"
   },
   {
    "duration": 7,
    "start_time": "2022-10-14T13:10:15.516Z"
   },
   {
    "duration": 7,
    "start_time": "2022-10-14T13:10:15.525Z"
   },
   {
    "duration": 8,
    "start_time": "2022-10-14T13:10:15.533Z"
   },
   {
    "duration": 5,
    "start_time": "2022-10-14T13:10:15.543Z"
   },
   {
    "duration": 8,
    "start_time": "2022-10-14T13:10:15.550Z"
   },
   {
    "duration": 7,
    "start_time": "2022-10-14T13:10:15.559Z"
   },
   {
    "duration": 7,
    "start_time": "2022-10-14T13:10:15.567Z"
   },
   {
    "duration": 10,
    "start_time": "2022-10-14T13:10:15.575Z"
   },
   {
    "duration": 4,
    "start_time": "2022-10-14T13:10:15.599Z"
   },
   {
    "duration": 27,
    "start_time": "2022-10-14T13:10:15.604Z"
   },
   {
    "duration": 10,
    "start_time": "2022-10-14T13:10:15.632Z"
   },
   {
    "duration": 6,
    "start_time": "2022-10-14T13:10:15.643Z"
   },
   {
    "duration": 26,
    "start_time": "2022-10-14T13:10:15.650Z"
   },
   {
    "duration": 41,
    "start_time": "2022-10-14T13:10:15.678Z"
   },
   {
    "duration": 289,
    "start_time": "2022-10-14T13:10:15.721Z"
   },
   {
    "duration": 80,
    "start_time": "2022-10-14T13:27:50.808Z"
   },
   {
    "duration": 240,
    "start_time": "2022-10-14T13:30:27.643Z"
   },
   {
    "duration": 296,
    "start_time": "2022-10-14T13:30:35.804Z"
   },
   {
    "duration": 264,
    "start_time": "2022-10-14T13:31:08.907Z"
   },
   {
    "duration": 266,
    "start_time": "2022-10-14T13:31:13.672Z"
   },
   {
    "duration": 249,
    "start_time": "2022-10-14T13:31:18.196Z"
   },
   {
    "duration": 254,
    "start_time": "2022-10-14T13:31:28.260Z"
   },
   {
    "duration": 113,
    "start_time": "2022-10-14T13:31:31.406Z"
   },
   {
    "duration": 258,
    "start_time": "2022-10-14T13:31:37.818Z"
   },
   {
    "duration": 321,
    "start_time": "2022-10-14T13:32:52.480Z"
   },
   {
    "duration": 260,
    "start_time": "2022-10-14T13:34:31.487Z"
   },
   {
    "duration": 244,
    "start_time": "2022-10-14T13:34:39.089Z"
   },
   {
    "duration": 233,
    "start_time": "2022-10-14T13:34:45.112Z"
   },
   {
    "duration": 1513,
    "start_time": "2022-10-14T13:34:55.237Z"
   },
   {
    "duration": 1747,
    "start_time": "2022-10-14T13:35:08.657Z"
   },
   {
    "duration": 395,
    "start_time": "2022-10-14T13:35:17.484Z"
   },
   {
    "duration": 405,
    "start_time": "2022-10-14T13:37:31.411Z"
   },
   {
    "duration": 7689,
    "start_time": "2022-10-14T13:37:42.379Z"
   },
   {
    "duration": 402,
    "start_time": "2022-10-14T13:38:06.019Z"
   },
   {
    "duration": 398,
    "start_time": "2022-10-14T13:39:48.051Z"
   },
   {
    "duration": 421,
    "start_time": "2022-10-14T13:51:05.742Z"
   },
   {
    "duration": 426,
    "start_time": "2022-10-14T13:51:15.735Z"
   },
   {
    "duration": 196,
    "start_time": "2022-10-14T13:55:22.835Z"
   },
   {
    "duration": 797,
    "start_time": "2022-10-14T13:55:34.008Z"
   },
   {
    "duration": 269,
    "start_time": "2022-10-14T13:55:48.589Z"
   },
   {
    "duration": 9,
    "start_time": "2022-10-14T14:12:48.013Z"
   },
   {
    "duration": 8,
    "start_time": "2022-10-14T14:12:59.849Z"
   },
   {
    "duration": 8,
    "start_time": "2022-10-14T14:13:04.869Z"
   },
   {
    "duration": 285,
    "start_time": "2022-10-14T14:19:56.430Z"
   },
   {
    "duration": 87,
    "start_time": "2022-10-14T14:22:10.412Z"
   },
   {
    "duration": 48,
    "start_time": "2022-10-14T14:22:17.233Z"
   },
   {
    "duration": 258,
    "start_time": "2022-10-14T14:23:29.612Z"
   },
   {
    "duration": 276,
    "start_time": "2022-10-14T14:23:51.912Z"
   },
   {
    "duration": 280,
    "start_time": "2022-10-14T14:24:04.147Z"
   },
   {
    "duration": 324,
    "start_time": "2022-10-14T14:25:25.974Z"
   },
   {
    "duration": 261,
    "start_time": "2022-10-14T14:25:35.720Z"
   },
   {
    "duration": 270,
    "start_time": "2022-10-14T14:25:52.741Z"
   },
   {
    "duration": 287,
    "start_time": "2022-10-14T14:25:57.681Z"
   },
   {
    "duration": 253,
    "start_time": "2022-10-14T14:26:08.344Z"
   },
   {
    "duration": 45,
    "start_time": "2022-10-14T14:27:57.513Z"
   },
   {
    "duration": 315,
    "start_time": "2022-10-14T14:28:03.512Z"
   },
   {
    "duration": 830,
    "start_time": "2022-10-14T14:28:32.282Z"
   },
   {
    "duration": 1816,
    "start_time": "2022-10-14T14:30:13.514Z"
   },
   {
    "duration": 896,
    "start_time": "2022-10-14T14:30:35.753Z"
   },
   {
    "duration": 842,
    "start_time": "2022-10-14T14:30:54.640Z"
   },
   {
    "duration": 884,
    "start_time": "2022-10-14T14:31:07.948Z"
   },
   {
    "duration": 13,
    "start_time": "2022-10-14T14:31:29.457Z"
   },
   {
    "duration": 832,
    "start_time": "2022-10-14T14:31:45.222Z"
   },
   {
    "duration": 949,
    "start_time": "2022-10-14T14:32:00.612Z"
   },
   {
    "duration": 271,
    "start_time": "2022-10-14T14:35:42.681Z"
   },
   {
    "duration": 822,
    "start_time": "2022-10-14T14:36:31.217Z"
   },
   {
    "duration": 914,
    "start_time": "2022-10-14T14:37:32.756Z"
   },
   {
    "duration": 806,
    "start_time": "2022-10-14T14:38:24.889Z"
   },
   {
    "duration": 904,
    "start_time": "2022-10-14T14:38:37.064Z"
   },
   {
    "duration": 823,
    "start_time": "2022-10-14T14:40:22.912Z"
   },
   {
    "duration": 838,
    "start_time": "2022-10-14T14:40:40.952Z"
   },
   {
    "duration": 1026,
    "start_time": "2022-10-14T14:42:34.423Z"
   },
   {
    "duration": 839,
    "start_time": "2022-10-14T14:43:19.519Z"
   },
   {
    "duration": 364,
    "start_time": "2022-10-14T14:46:17.327Z"
   },
   {
    "duration": 294,
    "start_time": "2022-10-14T14:47:33.018Z"
   },
   {
    "duration": 295,
    "start_time": "2022-10-14T14:48:52.646Z"
   },
   {
    "duration": 835,
    "start_time": "2022-10-14T14:49:27.296Z"
   },
   {
    "duration": 931,
    "start_time": "2022-10-14T14:50:05.283Z"
   },
   {
    "duration": 894,
    "start_time": "2022-10-14T14:50:37.756Z"
   },
   {
    "duration": 944,
    "start_time": "2022-10-14T14:51:27.844Z"
   },
   {
    "duration": 863,
    "start_time": "2022-10-14T14:51:53.522Z"
   },
   {
    "duration": 947,
    "start_time": "2022-10-14T14:55:01.170Z"
   },
   {
    "duration": 92,
    "start_time": "2022-10-14T15:11:45.479Z"
   },
   {
    "duration": 2030,
    "start_time": "2022-10-14T15:12:26.415Z"
   },
   {
    "duration": 2047,
    "start_time": "2022-10-14T15:13:18.234Z"
   },
   {
    "duration": 2243,
    "start_time": "2022-10-14T15:13:51.487Z"
   },
   {
    "duration": 2174,
    "start_time": "2022-10-14T15:14:11.070Z"
   },
   {
    "duration": 3416,
    "start_time": "2022-10-14T15:15:04.338Z"
   },
   {
    "duration": 13,
    "start_time": "2022-10-14T16:59:14.853Z"
   },
   {
    "duration": 67,
    "start_time": "2022-10-14T16:59:38.513Z"
   },
   {
    "duration": 1181,
    "start_time": "2022-10-14T16:59:47.814Z"
   },
   {
    "duration": 20,
    "start_time": "2022-10-14T16:59:49.001Z"
   },
   {
    "duration": 2152,
    "start_time": "2022-10-14T16:59:49.023Z"
   },
   {
    "duration": 76,
    "start_time": "2022-10-14T16:59:51.177Z"
   },
   {
    "duration": 42,
    "start_time": "2022-10-14T16:59:51.256Z"
   },
   {
    "duration": 12,
    "start_time": "2022-10-14T16:59:51.299Z"
   },
   {
    "duration": 26,
    "start_time": "2022-10-14T16:59:51.313Z"
   },
   {
    "duration": 19,
    "start_time": "2022-10-14T16:59:51.341Z"
   },
   {
    "duration": 28,
    "start_time": "2022-10-14T16:59:51.362Z"
   },
   {
    "duration": 42,
    "start_time": "2022-10-14T16:59:51.396Z"
   },
   {
    "duration": 22,
    "start_time": "2022-10-14T16:59:51.440Z"
   },
   {
    "duration": 18,
    "start_time": "2022-10-14T16:59:51.464Z"
   },
   {
    "duration": 38,
    "start_time": "2022-10-14T16:59:51.484Z"
   },
   {
    "duration": 12,
    "start_time": "2022-10-14T16:59:51.524Z"
   },
   {
    "duration": 17,
    "start_time": "2022-10-14T16:59:51.537Z"
   },
   {
    "duration": 11,
    "start_time": "2022-10-14T16:59:51.555Z"
   },
   {
    "duration": 13,
    "start_time": "2022-10-14T16:59:51.567Z"
   },
   {
    "duration": 46,
    "start_time": "2022-10-14T16:59:51.582Z"
   },
   {
    "duration": 79,
    "start_time": "2022-10-14T16:59:51.631Z"
   },
   {
    "duration": 308,
    "start_time": "2022-10-14T16:59:51.712Z"
   },
   {
    "duration": 331,
    "start_time": "2022-10-14T16:59:52.022Z"
   },
   {
    "duration": 293,
    "start_time": "2022-10-14T16:59:52.355Z"
   },
   {
    "duration": 13,
    "start_time": "2022-10-14T16:59:52.655Z"
   },
   {
    "duration": 3762,
    "start_time": "2022-10-14T16:59:52.671Z"
   },
   {
    "duration": 3886,
    "start_time": "2022-10-14T17:00:09.851Z"
   },
   {
    "duration": 4413,
    "start_time": "2022-10-14T17:01:55.144Z"
   },
   {
    "duration": 3735,
    "start_time": "2022-10-14T17:04:27.128Z"
   },
   {
    "duration": 3438,
    "start_time": "2022-10-14T17:04:39.589Z"
   },
   {
    "duration": 3438,
    "start_time": "2022-10-14T17:04:51.637Z"
   },
   {
    "duration": 3511,
    "start_time": "2022-10-14T17:04:59.917Z"
   },
   {
    "duration": 3557,
    "start_time": "2022-10-14T17:05:36.682Z"
   },
   {
    "duration": 76,
    "start_time": "2022-10-14T17:05:52.701Z"
   },
   {
    "duration": 3388,
    "start_time": "2022-10-14T17:05:58.307Z"
   },
   {
    "duration": 3955,
    "start_time": "2022-10-14T17:07:23.623Z"
   },
   {
    "duration": 3851,
    "start_time": "2022-10-14T17:11:34.316Z"
   },
   {
    "duration": 3750,
    "start_time": "2022-10-14T17:11:56.315Z"
   },
   {
    "duration": 3718,
    "start_time": "2022-10-14T17:12:31.820Z"
   },
   {
    "duration": 3623,
    "start_time": "2022-10-14T17:14:18.951Z"
   },
   {
    "duration": 4107,
    "start_time": "2022-10-14T17:15:16.840Z"
   },
   {
    "duration": 4440,
    "start_time": "2022-10-14T17:25:39.551Z"
   },
   {
    "duration": 4586,
    "start_time": "2022-10-14T17:31:30.885Z"
   },
   {
    "duration": 5072,
    "start_time": "2022-10-14T17:33:41.818Z"
   },
   {
    "duration": 4792,
    "start_time": "2022-10-14T17:35:02.229Z"
   },
   {
    "duration": 17,
    "start_time": "2022-10-14T17:40:22.431Z"
   },
   {
    "duration": 4859,
    "start_time": "2022-10-14T17:43:52.256Z"
   },
   {
    "duration": 654,
    "start_time": "2022-10-14T17:46:47.831Z"
   },
   {
    "duration": 30,
    "start_time": "2022-10-14T17:47:09.647Z"
   },
   {
    "duration": 2366,
    "start_time": "2022-10-14T17:47:18.739Z"
   },
   {
    "duration": 2387,
    "start_time": "2022-10-14T17:47:33.034Z"
   },
   {
    "duration": 5293,
    "start_time": "2022-10-14T18:01:54.173Z"
   },
   {
    "duration": 4900,
    "start_time": "2022-10-14T18:03:08.749Z"
   },
   {
    "duration": 5072,
    "start_time": "2022-10-14T18:04:31.526Z"
   },
   {
    "duration": 361,
    "start_time": "2022-10-14T18:05:27.714Z"
   },
   {
    "duration": 21,
    "start_time": "2022-10-14T18:05:28.077Z"
   },
   {
    "duration": 2579,
    "start_time": "2022-10-14T18:05:28.100Z"
   },
   {
    "duration": 153,
    "start_time": "2022-10-14T18:05:30.689Z"
   },
   {
    "duration": 31,
    "start_time": "2022-10-14T18:05:30.844Z"
   },
   {
    "duration": 18,
    "start_time": "2022-10-14T18:05:30.877Z"
   },
   {
    "duration": 39,
    "start_time": "2022-10-14T18:05:30.898Z"
   },
   {
    "duration": 13,
    "start_time": "2022-10-14T18:05:30.943Z"
   },
   {
    "duration": 11,
    "start_time": "2022-10-14T18:05:30.957Z"
   },
   {
    "duration": 26,
    "start_time": "2022-10-14T18:05:30.971Z"
   },
   {
    "duration": 60,
    "start_time": "2022-10-14T18:05:30.998Z"
   },
   {
    "duration": 20,
    "start_time": "2022-10-14T18:05:31.060Z"
   },
   {
    "duration": 67,
    "start_time": "2022-10-14T18:05:31.081Z"
   },
   {
    "duration": 11,
    "start_time": "2022-10-14T18:05:31.150Z"
   },
   {
    "duration": 30,
    "start_time": "2022-10-14T18:05:31.164Z"
   },
   {
    "duration": 60,
    "start_time": "2022-10-14T18:05:31.196Z"
   },
   {
    "duration": 25,
    "start_time": "2022-10-14T18:05:31.258Z"
   },
   {
    "duration": 55,
    "start_time": "2022-10-14T18:05:31.295Z"
   },
   {
    "duration": 75,
    "start_time": "2022-10-14T18:05:31.358Z"
   },
   {
    "duration": 443,
    "start_time": "2022-10-14T18:05:31.435Z"
   },
   {
    "duration": 434,
    "start_time": "2022-10-14T18:05:31.881Z"
   },
   {
    "duration": 6447,
    "start_time": "2022-10-14T18:05:32.317Z"
   },
   {
    "duration": 4557,
    "start_time": "2022-10-14T18:09:45.514Z"
   },
   {
    "duration": 10,
    "start_time": "2022-10-14T18:11:26.456Z"
   },
   {
    "duration": 18,
    "start_time": "2022-10-14T18:11:30.991Z"
   },
   {
    "duration": 7,
    "start_time": "2022-10-14T18:11:46.723Z"
   },
   {
    "duration": 11,
    "start_time": "2022-10-14T18:12:25.926Z"
   },
   {
    "duration": 8,
    "start_time": "2022-10-14T18:12:42.819Z"
   },
   {
    "duration": 5635,
    "start_time": "2022-10-14T18:13:22.847Z"
   },
   {
    "duration": 17,
    "start_time": "2022-10-14T18:17:35.077Z"
   },
   {
    "duration": 13,
    "start_time": "2022-10-14T18:17:41.069Z"
   },
   {
    "duration": 2065,
    "start_time": "2022-10-14T18:17:58.685Z"
   },
   {
    "duration": 2004,
    "start_time": "2022-10-14T18:18:01.341Z"
   },
   {
    "duration": 2176,
    "start_time": "2022-10-14T18:18:22.313Z"
   },
   {
    "duration": 1804,
    "start_time": "2022-10-14T18:18:42.877Z"
   },
   {
    "duration": 1869,
    "start_time": "2022-10-14T18:18:57.320Z"
   },
   {
    "duration": 183,
    "start_time": "2022-10-14T18:19:29.356Z"
   },
   {
    "duration": 153,
    "start_time": "2022-10-14T18:19:50.789Z"
   },
   {
    "duration": 642,
    "start_time": "2022-10-14T18:20:14.412Z"
   },
   {
    "duration": 15,
    "start_time": "2022-10-14T18:20:26.453Z"
   },
   {
    "duration": 8,
    "start_time": "2022-10-14T18:20:49.058Z"
   },
   {
    "duration": 163,
    "start_time": "2022-10-14T18:20:51.946Z"
   },
   {
    "duration": 5545,
    "start_time": "2022-10-14T18:25:19.534Z"
   },
   {
    "duration": 5182,
    "start_time": "2022-10-14T18:25:49.229Z"
   },
   {
    "duration": 5580,
    "start_time": "2022-10-14T18:26:22.660Z"
   },
   {
    "duration": 3279,
    "start_time": "2022-10-14T18:26:55.364Z"
   },
   {
    "duration": 6206,
    "start_time": "2022-10-14T18:27:21.765Z"
   },
   {
    "duration": 174,
    "start_time": "2022-10-14T18:27:32.725Z"
   },
   {
    "duration": 6160,
    "start_time": "2022-10-14T18:27:39.353Z"
   },
   {
    "duration": 238,
    "start_time": "2022-10-14T18:28:25.973Z"
   },
   {
    "duration": 172,
    "start_time": "2022-10-14T18:28:37.102Z"
   },
   {
    "duration": 5316,
    "start_time": "2022-10-14T18:28:48.555Z"
   },
   {
    "duration": 5513,
    "start_time": "2022-10-14T18:29:46.964Z"
   },
   {
    "duration": 1083,
    "start_time": "2022-10-15T10:06:48.538Z"
   },
   {
    "duration": 17,
    "start_time": "2022-10-15T10:06:49.623Z"
   },
   {
    "duration": 1911,
    "start_time": "2022-10-15T10:06:50.438Z"
   },
   {
    "duration": 74,
    "start_time": "2022-10-15T10:06:52.351Z"
   },
   {
    "duration": 22,
    "start_time": "2022-10-15T10:06:52.427Z"
   },
   {
    "duration": 8,
    "start_time": "2022-10-15T10:06:53.981Z"
   },
   {
    "duration": 8,
    "start_time": "2022-10-15T10:06:55.227Z"
   },
   {
    "duration": 6,
    "start_time": "2022-10-15T10:06:55.708Z"
   },
   {
    "duration": 4,
    "start_time": "2022-10-15T10:06:56.864Z"
   },
   {
    "duration": 6,
    "start_time": "2022-10-15T10:06:58.310Z"
   },
   {
    "duration": 5,
    "start_time": "2022-10-15T10:06:59.282Z"
   },
   {
    "duration": 5,
    "start_time": "2022-10-15T10:07:01.973Z"
   },
   {
    "duration": 5,
    "start_time": "2022-10-15T10:07:02.878Z"
   },
   {
    "duration": 3,
    "start_time": "2022-10-15T10:07:04.412Z"
   },
   {
    "duration": 8,
    "start_time": "2022-10-15T10:07:07.289Z"
   },
   {
    "duration": 11,
    "start_time": "2022-10-15T10:07:10.961Z"
   },
   {
    "duration": 5,
    "start_time": "2022-10-15T10:07:14.943Z"
   },
   {
    "duration": 10,
    "start_time": "2022-10-15T10:07:19.160Z"
   },
   {
    "duration": 24,
    "start_time": "2022-10-15T10:07:27.040Z"
   },
   {
    "duration": 27,
    "start_time": "2022-10-15T10:07:57.673Z"
   },
   {
    "duration": 19,
    "start_time": "2022-10-15T10:08:11.318Z"
   },
   {
    "duration": 293,
    "start_time": "2022-10-15T10:09:50.003Z"
   },
   {
    "duration": 4432,
    "start_time": "2022-10-15T10:11:25.280Z"
   },
   {
    "duration": 77,
    "start_time": "2022-10-15T10:13:29.384Z"
   },
   {
    "duration": 89,
    "start_time": "2022-10-15T10:13:51.532Z"
   },
   {
    "duration": 124,
    "start_time": "2022-10-15T10:15:24.510Z"
   },
   {
    "duration": 98,
    "start_time": "2022-10-15T10:16:09.946Z"
   },
   {
    "duration": 4430,
    "start_time": "2022-10-15T10:17:03.893Z"
   },
   {
    "duration": 4216,
    "start_time": "2022-10-15T10:20:58.407Z"
   },
   {
    "duration": 4321,
    "start_time": "2022-10-15T10:22:56.966Z"
   },
   {
    "duration": 4151,
    "start_time": "2022-10-15T10:25:49.244Z"
   },
   {
    "duration": 4118,
    "start_time": "2022-10-15T10:26:45.470Z"
   },
   {
    "duration": 4128,
    "start_time": "2022-10-15T10:27:34.570Z"
   },
   {
    "duration": 4180,
    "start_time": "2022-10-15T10:28:51.748Z"
   },
   {
    "duration": 4051,
    "start_time": "2022-10-15T10:29:49.109Z"
   },
   {
    "duration": 4084,
    "start_time": "2022-10-15T10:39:21.627Z"
   },
   {
    "duration": 4475,
    "start_time": "2022-10-15T10:46:04.624Z"
   },
   {
    "duration": 4258,
    "start_time": "2022-10-15T10:46:11.951Z"
   },
   {
    "duration": 4092,
    "start_time": "2022-10-15T10:51:21.992Z"
   },
   {
    "duration": 8,
    "start_time": "2022-10-15T11:14:16.203Z"
   },
   {
    "duration": 8,
    "start_time": "2022-10-15T11:14:21.358Z"
   },
   {
    "duration": 84,
    "start_time": "2022-10-15T11:14:52.505Z"
   },
   {
    "duration": 66,
    "start_time": "2022-10-15T11:15:01.045Z"
   },
   {
    "duration": 89,
    "start_time": "2022-10-15T11:15:10.776Z"
   },
   {
    "duration": 12,
    "start_time": "2022-10-15T11:15:30.594Z"
   },
   {
    "duration": 83,
    "start_time": "2022-10-15T11:17:15.631Z"
   },
   {
    "duration": 13,
    "start_time": "2022-10-15T11:17:24.173Z"
   },
   {
    "duration": 17,
    "start_time": "2022-10-15T11:18:44.760Z"
   },
   {
    "duration": 13,
    "start_time": "2022-10-15T11:30:55.431Z"
   },
   {
    "duration": 13,
    "start_time": "2022-10-15T11:31:05.989Z"
   },
   {
    "duration": 13,
    "start_time": "2022-10-15T11:32:02.632Z"
   },
   {
    "duration": 132,
    "start_time": "2022-10-15T11:35:51.648Z"
   },
   {
    "duration": 174,
    "start_time": "2022-10-15T11:36:07.036Z"
   },
   {
    "duration": 181,
    "start_time": "2022-10-15T11:36:15.336Z"
   },
   {
    "duration": 189,
    "start_time": "2022-10-15T11:36:24.891Z"
   },
   {
    "duration": 264,
    "start_time": "2022-10-15T11:36:31.423Z"
   },
   {
    "duration": 239,
    "start_time": "2022-10-15T11:36:50.965Z"
   },
   {
    "duration": 163,
    "start_time": "2022-10-15T11:37:43.438Z"
   },
   {
    "duration": 1261,
    "start_time": "2022-10-15T11:37:59.366Z"
   },
   {
    "duration": 195,
    "start_time": "2022-10-15T11:38:14.234Z"
   },
   {
    "duration": 189,
    "start_time": "2022-10-15T11:39:39.875Z"
   },
   {
    "duration": 191,
    "start_time": "2022-10-15T11:39:53.156Z"
   },
   {
    "duration": 239,
    "start_time": "2022-10-15T11:40:06.485Z"
   },
   {
    "duration": 235,
    "start_time": "2022-10-15T11:41:27.989Z"
   },
   {
    "duration": 109,
    "start_time": "2022-10-15T11:41:34.796Z"
   },
   {
    "duration": 85,
    "start_time": "2022-10-15T11:41:53.821Z"
   },
   {
    "duration": 114,
    "start_time": "2022-10-15T11:42:05.822Z"
   },
   {
    "duration": 146,
    "start_time": "2022-10-15T11:42:26.827Z"
   },
   {
    "duration": 82,
    "start_time": "2022-10-15T11:43:00.888Z"
   },
   {
    "duration": 197,
    "start_time": "2022-10-15T11:43:11.117Z"
   },
   {
    "duration": 283,
    "start_time": "2022-10-15T11:43:13.751Z"
   },
   {
    "duration": 197,
    "start_time": "2022-10-15T11:48:18.717Z"
   },
   {
    "duration": 108,
    "start_time": "2022-10-15T11:49:35.152Z"
   },
   {
    "duration": 172,
    "start_time": "2022-10-15T11:49:37.798Z"
   },
   {
    "duration": 141,
    "start_time": "2022-10-15T11:49:54.114Z"
   },
   {
    "duration": 226,
    "start_time": "2022-10-15T11:49:58.711Z"
   },
   {
    "duration": 5,
    "start_time": "2022-10-15T11:59:36.041Z"
   },
   {
    "duration": 9,
    "start_time": "2022-10-15T11:59:46.879Z"
   },
   {
    "duration": 102,
    "start_time": "2022-10-15T12:00:06.147Z"
   },
   {
    "duration": 286,
    "start_time": "2022-10-15T12:00:11.497Z"
   },
   {
    "duration": 237,
    "start_time": "2022-10-15T12:00:16.854Z"
   },
   {
    "duration": 172,
    "start_time": "2022-10-15T12:10:56.298Z"
   },
   {
    "duration": 37,
    "start_time": "2022-10-15T12:12:30.268Z"
   },
   {
    "duration": 23,
    "start_time": "2022-10-15T12:13:06.738Z"
   },
   {
    "duration": 17,
    "start_time": "2022-10-15T12:13:25.169Z"
   },
   {
    "duration": 12,
    "start_time": "2022-10-15T12:14:02.644Z"
   },
   {
    "duration": 18,
    "start_time": "2022-10-15T12:14:11.792Z"
   },
   {
    "duration": 39,
    "start_time": "2022-10-15T12:14:55.080Z"
   },
   {
    "duration": 130,
    "start_time": "2022-10-15T12:15:43.211Z"
   },
   {
    "duration": 1470,
    "start_time": "2022-10-15T12:34:51.569Z"
   },
   {
    "duration": 192,
    "start_time": "2022-10-15T12:35:00.860Z"
   },
   {
    "duration": 180,
    "start_time": "2022-10-15T12:36:13.747Z"
   },
   {
    "duration": 190,
    "start_time": "2022-10-15T12:36:24.795Z"
   },
   {
    "duration": 96,
    "start_time": "2022-10-15T12:36:37.176Z"
   },
   {
    "duration": 6,
    "start_time": "2022-10-15T12:36:41.636Z"
   },
   {
    "duration": 125,
    "start_time": "2022-10-15T12:38:45.239Z"
   },
   {
    "duration": 180,
    "start_time": "2022-10-15T12:38:51.494Z"
   },
   {
    "duration": 163,
    "start_time": "2022-10-15T12:38:55.953Z"
   },
   {
    "duration": 179,
    "start_time": "2022-10-15T12:51:18.388Z"
   },
   {
    "duration": 170,
    "start_time": "2022-10-15T12:51:23.379Z"
   },
   {
    "duration": 218,
    "start_time": "2022-10-15T12:51:28.987Z"
   },
   {
    "duration": 2008,
    "start_time": "2022-10-15T12:55:21.286Z"
   },
   {
    "duration": 87,
    "start_time": "2022-10-15T12:55:38.264Z"
   },
   {
    "duration": 4,
    "start_time": "2022-10-15T12:55:44.076Z"
   },
   {
    "duration": 19,
    "start_time": "2022-10-15T12:55:51.886Z"
   },
   {
    "duration": 16,
    "start_time": "2022-10-15T12:56:00.292Z"
   },
   {
    "duration": 6931,
    "start_time": "2022-10-15T12:56:24.111Z"
   },
   {
    "duration": 7161,
    "start_time": "2022-10-15T12:56:58.411Z"
   },
   {
    "duration": 20,
    "start_time": "2022-10-15T12:58:04.715Z"
   },
   {
    "duration": 11,
    "start_time": "2022-10-15T13:00:05.134Z"
   },
   {
    "duration": 24,
    "start_time": "2022-10-15T13:00:22.454Z"
   },
   {
    "duration": 1333,
    "start_time": "2022-10-15T13:00:59.814Z"
   },
   {
    "duration": 59,
    "start_time": "2022-10-15T13:02:58.804Z"
   },
   {
    "duration": 13,
    "start_time": "2022-10-15T13:03:22.414Z"
   },
   {
    "duration": 20,
    "start_time": "2022-10-15T13:03:51.061Z"
   },
   {
    "duration": 13,
    "start_time": "2022-10-15T13:04:04.075Z"
   },
   {
    "duration": 309,
    "start_time": "2022-10-15T13:05:47.637Z"
   },
   {
    "duration": 14,
    "start_time": "2022-10-15T13:06:09.373Z"
   },
   {
    "duration": 13,
    "start_time": "2022-10-15T13:06:22.454Z"
   },
   {
    "duration": 295,
    "start_time": "2022-10-15T13:06:58.613Z"
   },
   {
    "duration": 15,
    "start_time": "2022-10-15T13:07:26.324Z"
   },
   {
    "duration": 13,
    "start_time": "2022-10-15T13:08:14.549Z"
   },
   {
    "duration": 431,
    "start_time": "2022-10-15T13:08:20.530Z"
   },
   {
    "duration": 14,
    "start_time": "2022-10-15T13:08:40.585Z"
   },
   {
    "duration": 12,
    "start_time": "2022-10-15T13:09:48.366Z"
   },
   {
    "duration": 17,
    "start_time": "2022-10-15T13:09:52.886Z"
   },
   {
    "duration": 12,
    "start_time": "2022-10-15T13:10:04.544Z"
   },
   {
    "duration": 11,
    "start_time": "2022-10-15T13:10:18.914Z"
   },
   {
    "duration": 115,
    "start_time": "2022-10-15T13:11:09.769Z"
   },
   {
    "duration": 27,
    "start_time": "2022-10-15T13:11:09.887Z"
   },
   {
    "duration": 2217,
    "start_time": "2022-10-15T13:11:09.916Z"
   },
   {
    "duration": 94,
    "start_time": "2022-10-15T13:11:12.136Z"
   },
   {
    "duration": 21,
    "start_time": "2022-10-15T13:11:12.232Z"
   },
   {
    "duration": 8,
    "start_time": "2022-10-15T13:11:12.255Z"
   },
   {
    "duration": 7,
    "start_time": "2022-10-15T13:11:12.265Z"
   },
   {
    "duration": 25,
    "start_time": "2022-10-15T13:11:12.274Z"
   },
   {
    "duration": 15,
    "start_time": "2022-10-15T13:11:12.306Z"
   },
   {
    "duration": 7,
    "start_time": "2022-10-15T13:11:12.323Z"
   },
   {
    "duration": 7,
    "start_time": "2022-10-15T13:11:12.331Z"
   },
   {
    "duration": 9,
    "start_time": "2022-10-15T13:11:12.339Z"
   },
   {
    "duration": 10,
    "start_time": "2022-10-15T13:11:12.349Z"
   },
   {
    "duration": 4,
    "start_time": "2022-10-15T13:11:12.361Z"
   },
   {
    "duration": 13,
    "start_time": "2022-10-15T13:11:12.367Z"
   },
   {
    "duration": 19,
    "start_time": "2022-10-15T13:11:12.399Z"
   },
   {
    "duration": 4,
    "start_time": "2022-10-15T13:11:12.420Z"
   },
   {
    "duration": 12,
    "start_time": "2022-10-15T13:11:12.426Z"
   },
   {
    "duration": 20,
    "start_time": "2022-10-15T13:11:12.440Z"
   },
   {
    "duration": 321,
    "start_time": "2022-10-15T13:11:12.462Z"
   },
   {
    "duration": 4768,
    "start_time": "2022-10-15T13:11:12.785Z"
   },
   {
    "duration": 114,
    "start_time": "2022-10-15T13:11:17.554Z"
   },
   {
    "duration": 273,
    "start_time": "2022-10-15T13:11:17.670Z"
   },
   {
    "duration": 209,
    "start_time": "2022-10-15T13:11:17.945Z"
   },
   {
    "duration": 612,
    "start_time": "2022-10-15T13:11:18.156Z"
   },
   {
    "duration": 662,
    "start_time": "2022-10-15T13:11:36.609Z"
   },
   {
    "duration": 874,
    "start_time": "2022-10-15T13:12:15.403Z"
   },
   {
    "duration": 688,
    "start_time": "2022-10-15T13:12:31.780Z"
   },
   {
    "duration": 774,
    "start_time": "2022-10-15T13:12:41.408Z"
   },
   {
    "duration": 36,
    "start_time": "2022-10-15T13:13:05.275Z"
   },
   {
    "duration": 20,
    "start_time": "2022-10-15T13:15:17.466Z"
   },
   {
    "duration": 28,
    "start_time": "2022-10-15T13:15:22.922Z"
   },
   {
    "duration": 724,
    "start_time": "2022-10-15T13:15:33.939Z"
   },
   {
    "duration": 726,
    "start_time": "2022-10-15T13:16:54.676Z"
   },
   {
    "duration": 706,
    "start_time": "2022-10-15T13:17:10.637Z"
   },
   {
    "duration": 750,
    "start_time": "2022-10-15T13:17:19.093Z"
   },
   {
    "duration": 776,
    "start_time": "2022-10-15T13:17:25.560Z"
   },
   {
    "duration": 784,
    "start_time": "2022-10-15T13:18:03.236Z"
   },
   {
    "duration": 5,
    "start_time": "2022-10-15T13:19:03.589Z"
   },
   {
    "duration": 22,
    "start_time": "2022-10-15T13:19:05.222Z"
   },
   {
    "duration": 21,
    "start_time": "2022-10-15T13:24:58.014Z"
   },
   {
    "duration": 130,
    "start_time": "2022-10-15T13:25:09.759Z"
   },
   {
    "duration": 348,
    "start_time": "2022-10-15T13:25:28.513Z"
   },
   {
    "duration": 149,
    "start_time": "2022-10-15T13:25:46.474Z"
   },
   {
    "duration": 139,
    "start_time": "2022-10-15T13:26:15.648Z"
   },
   {
    "duration": 9,
    "start_time": "2022-10-15T13:28:37.849Z"
   },
   {
    "duration": 160,
    "start_time": "2022-10-15T13:28:43.024Z"
   },
   {
    "duration": 74,
    "start_time": "2022-10-15T13:28:58.846Z"
   },
   {
    "duration": 114,
    "start_time": "2022-10-15T13:29:04.538Z"
   },
   {
    "duration": 16,
    "start_time": "2022-10-15T13:29:24.266Z"
   },
   {
    "duration": 136,
    "start_time": "2022-10-15T13:40:30.286Z"
   },
   {
    "duration": 141,
    "start_time": "2022-10-15T13:40:54.769Z"
   },
   {
    "duration": 134,
    "start_time": "2022-10-15T13:43:05.449Z"
   },
   {
    "duration": 123,
    "start_time": "2022-10-15T13:43:12.643Z"
   },
   {
    "duration": 131,
    "start_time": "2022-10-15T13:43:36.122Z"
   },
   {
    "duration": 69,
    "start_time": "2022-10-15T13:47:43.203Z"
   },
   {
    "duration": 1160,
    "start_time": "2022-10-15T13:47:47.689Z"
   },
   {
    "duration": 70,
    "start_time": "2022-10-15T13:48:01.484Z"
   },
   {
    "duration": 168,
    "start_time": "2022-10-15T13:48:04.729Z"
   },
   {
    "duration": 132,
    "start_time": "2022-10-15T13:48:21.394Z"
   },
   {
    "duration": 20,
    "start_time": "2022-10-15T13:48:53.988Z"
   },
   {
    "duration": 1348,
    "start_time": "2022-10-15T13:49:18.281Z"
   },
   {
    "duration": 120,
    "start_time": "2022-10-15T13:49:42.979Z"
   },
   {
    "duration": 26,
    "start_time": "2022-10-15T13:49:56.857Z"
   },
   {
    "duration": 146,
    "start_time": "2022-10-15T13:50:07.234Z"
   },
   {
    "duration": 121,
    "start_time": "2022-10-15T13:50:13.263Z"
   },
   {
    "duration": 128,
    "start_time": "2022-10-15T13:50:27.057Z"
   },
   {
    "duration": 4,
    "start_time": "2022-10-15T13:53:46.093Z"
   },
   {
    "duration": 74,
    "start_time": "2022-10-15T13:55:33.886Z"
   },
   {
    "duration": 71,
    "start_time": "2022-10-15T13:58:20.199Z"
   },
   {
    "duration": 11,
    "start_time": "2022-10-15T13:59:05.404Z"
   },
   {
    "duration": 283,
    "start_time": "2022-10-15T13:59:18.696Z"
   },
   {
    "duration": 260,
    "start_time": "2022-10-15T13:59:49.915Z"
   },
   {
    "duration": 1076,
    "start_time": "2022-10-15T14:00:28.916Z"
   },
   {
    "duration": 1120,
    "start_time": "2022-10-15T14:03:41.550Z"
   },
   {
    "duration": 6,
    "start_time": "2022-10-15T14:05:54.010Z"
   },
   {
    "duration": 12,
    "start_time": "2022-10-15T14:06:30.939Z"
   },
   {
    "duration": 10,
    "start_time": "2022-10-15T14:06:51.368Z"
   },
   {
    "duration": 6,
    "start_time": "2022-10-15T14:07:06.669Z"
   },
   {
    "duration": 1314,
    "start_time": "2022-10-15T14:07:27.890Z"
   },
   {
    "duration": 1070,
    "start_time": "2022-10-15T14:07:47.486Z"
   },
   {
    "duration": 1253,
    "start_time": "2022-10-15T14:08:02.663Z"
   },
   {
    "duration": 1090,
    "start_time": "2022-10-15T14:08:24.522Z"
   },
   {
    "duration": 341,
    "start_time": "2022-10-15T14:09:19.602Z"
   },
   {
    "duration": 4,
    "start_time": "2022-10-15T14:09:50.627Z"
   },
   {
    "duration": 586,
    "start_time": "2022-10-15T14:09:55.540Z"
   },
   {
    "duration": 1262,
    "start_time": "2022-10-15T14:10:34.769Z"
   },
   {
    "duration": 590,
    "start_time": "2022-10-15T14:12:05.997Z"
   },
   {
    "duration": 15,
    "start_time": "2022-10-15T14:14:15.337Z"
   },
   {
    "duration": 16,
    "start_time": "2022-10-15T14:14:38.410Z"
   },
   {
    "duration": 7,
    "start_time": "2022-10-15T14:15:06.836Z"
   },
   {
    "duration": 1141,
    "start_time": "2022-10-15T14:15:07.378Z"
   },
   {
    "duration": 14,
    "start_time": "2022-10-15T14:15:09.075Z"
   },
   {
    "duration": 16,
    "start_time": "2022-10-15T14:15:26.771Z"
   },
   {
    "duration": 494,
    "start_time": "2022-10-15T14:16:16.499Z"
   },
   {
    "duration": 19,
    "start_time": "2022-10-15T14:16:38.739Z"
   },
   {
    "duration": 18,
    "start_time": "2022-10-15T14:16:59.649Z"
   },
   {
    "duration": 1051,
    "start_time": "2022-10-15T14:18:48.250Z"
   },
   {
    "duration": 71,
    "start_time": "2022-10-15T14:21:55.444Z"
   },
   {
    "duration": 73,
    "start_time": "2022-10-15T14:22:01.046Z"
   },
   {
    "duration": 1172,
    "start_time": "2022-10-15T14:22:11.783Z"
   },
   {
    "duration": 1474,
    "start_time": "2022-10-15T14:22:33.434Z"
   },
   {
    "duration": 22,
    "start_time": "2022-10-15T14:24:13.293Z"
   },
   {
    "duration": 1146,
    "start_time": "2022-10-15T14:24:34.966Z"
   },
   {
    "duration": 1133,
    "start_time": "2022-10-15T14:26:02.181Z"
   },
   {
    "duration": 4434,
    "start_time": "2022-10-15T14:30:01.780Z"
   },
   {
    "duration": 4175,
    "start_time": "2022-10-15T14:30:15.402Z"
   },
   {
    "duration": 1462,
    "start_time": "2022-10-15T16:25:40.253Z"
   },
   {
    "duration": 1259,
    "start_time": "2022-10-15T16:25:51.225Z"
   },
   {
    "duration": 1435,
    "start_time": "2022-10-15T16:26:11.023Z"
   },
   {
    "duration": 1341,
    "start_time": "2022-10-15T16:26:19.897Z"
   },
   {
    "duration": 1477,
    "start_time": "2022-10-15T16:30:35.985Z"
   },
   {
    "duration": 1584,
    "start_time": "2022-10-15T16:31:25.161Z"
   },
   {
    "duration": 799,
    "start_time": "2022-10-15T16:31:48.857Z"
   },
   {
    "duration": 736,
    "start_time": "2022-10-15T16:31:55.120Z"
   },
   {
    "duration": 7,
    "start_time": "2022-10-15T16:35:10.019Z"
   },
   {
    "duration": 20,
    "start_time": "2022-10-15T16:36:14.107Z"
   },
   {
    "duration": 28,
    "start_time": "2022-10-15T16:45:17.962Z"
   },
   {
    "duration": 29,
    "start_time": "2022-10-15T16:45:49.417Z"
   },
   {
    "duration": 49,
    "start_time": "2022-10-15T16:46:16.715Z"
   },
   {
    "duration": 30,
    "start_time": "2022-10-15T16:46:31.383Z"
   },
   {
    "duration": 42,
    "start_time": "2022-10-15T16:46:35.812Z"
   },
   {
    "duration": 37,
    "start_time": "2022-10-15T16:47:04.593Z"
   },
   {
    "duration": 36,
    "start_time": "2022-10-15T16:47:15.983Z"
   },
   {
    "duration": 33,
    "start_time": "2022-10-15T16:50:59.145Z"
   },
   {
    "duration": 31,
    "start_time": "2022-10-15T16:51:33.716Z"
   },
   {
    "duration": 85,
    "start_time": "2022-10-15T16:52:04.054Z"
   },
   {
    "duration": 32,
    "start_time": "2022-10-15T16:52:06.770Z"
   },
   {
    "duration": 32,
    "start_time": "2022-10-15T16:52:12.594Z"
   },
   {
    "duration": 31,
    "start_time": "2022-10-15T16:52:48.410Z"
   },
   {
    "duration": 31,
    "start_time": "2022-10-15T16:52:52.894Z"
   },
   {
    "duration": 26,
    "start_time": "2022-10-15T16:53:05.994Z"
   },
   {
    "duration": 41,
    "start_time": "2022-10-15T16:53:10.131Z"
   },
   {
    "duration": 30,
    "start_time": "2022-10-15T16:54:08.474Z"
   },
   {
    "duration": 37,
    "start_time": "2022-10-15T16:54:39.601Z"
   },
   {
    "duration": 39,
    "start_time": "2022-10-15T16:54:46.621Z"
   },
   {
    "duration": 1216,
    "start_time": "2022-10-15T16:56:46.781Z"
   },
   {
    "duration": 1389,
    "start_time": "2022-10-15T16:57:05.882Z"
   },
   {
    "duration": 39,
    "start_time": "2022-10-15T16:58:02.970Z"
   },
   {
    "duration": 31,
    "start_time": "2022-10-15T16:58:13.046Z"
   },
   {
    "duration": 28,
    "start_time": "2022-10-15T16:58:51.928Z"
   },
   {
    "duration": 29,
    "start_time": "2022-10-15T17:02:02.214Z"
   },
   {
    "duration": 55,
    "start_time": "2022-10-15T17:19:07.787Z"
   },
   {
    "duration": 22,
    "start_time": "2022-10-15T17:19:33.909Z"
   },
   {
    "duration": 16,
    "start_time": "2022-10-15T17:19:52.088Z"
   },
   {
    "duration": 19,
    "start_time": "2022-10-15T17:20:05.388Z"
   },
   {
    "duration": 26,
    "start_time": "2022-10-15T17:20:10.651Z"
   },
   {
    "duration": 67,
    "start_time": "2022-10-15T17:20:32.340Z"
   },
   {
    "duration": 62,
    "start_time": "2022-10-15T17:21:26.537Z"
   },
   {
    "duration": 23,
    "start_time": "2022-10-15T17:21:43.570Z"
   },
   {
    "duration": 83,
    "start_time": "2022-10-15T17:22:05.370Z"
   },
   {
    "duration": 23,
    "start_time": "2022-10-15T17:22:08.781Z"
   },
   {
    "duration": 57,
    "start_time": "2022-10-15T17:22:13.568Z"
   },
   {
    "duration": 22,
    "start_time": "2022-10-15T17:22:53.376Z"
   },
   {
    "duration": 38,
    "start_time": "2022-10-15T17:23:35.267Z"
   },
   {
    "duration": 50,
    "start_time": "2022-10-15T17:24:48.605Z"
   },
   {
    "duration": 39,
    "start_time": "2022-10-15T17:25:16.342Z"
   },
   {
    "duration": 37,
    "start_time": "2022-10-15T17:25:32.105Z"
   },
   {
    "duration": 27,
    "start_time": "2022-10-15T17:25:36.211Z"
   },
   {
    "duration": 73,
    "start_time": "2022-10-15T17:27:08.747Z"
   },
   {
    "duration": 27,
    "start_time": "2022-10-15T17:27:23.224Z"
   },
   {
    "duration": 23,
    "start_time": "2022-10-15T17:27:33.940Z"
   },
   {
    "duration": 40,
    "start_time": "2022-10-15T17:27:38.964Z"
   },
   {
    "duration": 1141,
    "start_time": "2022-10-15T17:28:07.339Z"
   },
   {
    "duration": 28,
    "start_time": "2022-10-15T17:28:21.233Z"
   },
   {
    "duration": 66,
    "start_time": "2022-10-15T17:28:59.356Z"
   },
   {
    "duration": 49,
    "start_time": "2022-10-15T17:29:02.076Z"
   },
   {
    "duration": 176,
    "start_time": "2022-10-15T17:30:28.089Z"
   },
   {
    "duration": 171,
    "start_time": "2022-10-15T17:31:35.302Z"
   },
   {
    "duration": 154,
    "start_time": "2022-10-15T17:32:45.149Z"
   },
   {
    "duration": 155,
    "start_time": "2022-10-15T17:33:53.783Z"
   },
   {
    "duration": 114,
    "start_time": "2022-10-15T17:35:19.246Z"
   },
   {
    "duration": 208,
    "start_time": "2022-10-15T17:35:46.696Z"
   },
   {
    "duration": 169,
    "start_time": "2022-10-15T17:36:18.877Z"
   },
   {
    "duration": 221,
    "start_time": "2022-10-15T17:36:31.017Z"
   },
   {
    "duration": 164,
    "start_time": "2022-10-15T17:42:50.047Z"
   },
   {
    "duration": 130,
    "start_time": "2022-10-15T18:47:30.006Z"
   },
   {
    "duration": 15,
    "start_time": "2022-10-15T18:47:30.139Z"
   },
   {
    "duration": 2223,
    "start_time": "2022-10-15T18:47:30.156Z"
   },
   {
    "duration": 89,
    "start_time": "2022-10-15T18:47:32.381Z"
   },
   {
    "duration": 38,
    "start_time": "2022-10-15T18:47:32.472Z"
   },
   {
    "duration": 8,
    "start_time": "2022-10-15T18:47:32.512Z"
   },
   {
    "duration": 9,
    "start_time": "2022-10-15T18:47:32.522Z"
   },
   {
    "duration": 16,
    "start_time": "2022-10-15T18:47:32.533Z"
   },
   {
    "duration": 9,
    "start_time": "2022-10-15T18:47:32.550Z"
   },
   {
    "duration": 9,
    "start_time": "2022-10-15T18:47:32.561Z"
   },
   {
    "duration": 25,
    "start_time": "2022-10-15T18:47:32.572Z"
   },
   {
    "duration": 13,
    "start_time": "2022-10-15T18:47:32.598Z"
   },
   {
    "duration": 10,
    "start_time": "2022-10-15T18:47:32.612Z"
   },
   {
    "duration": 7,
    "start_time": "2022-10-15T18:47:32.624Z"
   },
   {
    "duration": 14,
    "start_time": "2022-10-15T18:47:32.633Z"
   },
   {
    "duration": 11,
    "start_time": "2022-10-15T18:47:32.649Z"
   },
   {
    "duration": 7,
    "start_time": "2022-10-15T18:47:32.661Z"
   },
   {
    "duration": 37,
    "start_time": "2022-10-15T18:47:32.669Z"
   },
   {
    "duration": 22,
    "start_time": "2022-10-15T18:47:32.708Z"
   },
   {
    "duration": 309,
    "start_time": "2022-10-15T18:47:32.732Z"
   },
   {
    "duration": 4362,
    "start_time": "2022-10-15T18:47:33.042Z"
   },
   {
    "duration": 107,
    "start_time": "2022-10-15T18:47:37.406Z"
   },
   {
    "duration": 239,
    "start_time": "2022-10-15T18:47:37.515Z"
   },
   {
    "duration": 441,
    "start_time": "2022-10-15T18:47:37.756Z"
   },
   {
    "duration": 5,
    "start_time": "2022-10-15T18:47:38.199Z"
   },
   {
    "duration": 1175,
    "start_time": "2022-10-15T18:47:38.206Z"
   },
   {
    "duration": 700,
    "start_time": "2022-10-15T18:47:39.383Z"
   },
   {
    "duration": 32,
    "start_time": "2022-10-15T18:47:40.086Z"
   },
   {
    "duration": 169,
    "start_time": "2022-10-15T18:47:40.119Z"
   },
   {
    "duration": 1495,
    "start_time": "2022-10-15T20:07:20.378Z"
   },
   {
    "duration": 25,
    "start_time": "2022-10-15T20:07:21.875Z"
   },
   {
    "duration": 2816,
    "start_time": "2022-10-15T20:07:21.902Z"
   },
   {
    "duration": 182,
    "start_time": "2022-10-15T20:07:24.721Z"
   },
   {
    "duration": 24,
    "start_time": "2022-10-15T20:07:24.905Z"
   },
   {
    "duration": 65,
    "start_time": "2022-10-15T20:07:24.930Z"
   },
   {
    "duration": 8,
    "start_time": "2022-10-15T20:07:24.997Z"
   },
   {
    "duration": 6,
    "start_time": "2022-10-15T20:07:25.007Z"
   },
   {
    "duration": 6,
    "start_time": "2022-10-15T20:07:25.014Z"
   },
   {
    "duration": 7,
    "start_time": "2022-10-15T20:07:25.023Z"
   },
   {
    "duration": 62,
    "start_time": "2022-10-15T20:07:25.032Z"
   },
   {
    "duration": 11,
    "start_time": "2022-10-15T20:07:25.095Z"
   },
   {
    "duration": 7,
    "start_time": "2022-10-15T20:07:25.108Z"
   },
   {
    "duration": 3,
    "start_time": "2022-10-15T20:07:25.118Z"
   },
   {
    "duration": 68,
    "start_time": "2022-10-15T20:07:25.124Z"
   },
   {
    "duration": 12,
    "start_time": "2022-10-15T20:07:25.194Z"
   },
   {
    "duration": 7,
    "start_time": "2022-10-15T20:07:25.208Z"
   },
   {
    "duration": 13,
    "start_time": "2022-10-15T20:07:25.216Z"
   },
   {
    "duration": 77,
    "start_time": "2022-10-15T20:07:25.231Z"
   },
   {
    "duration": 402,
    "start_time": "2022-10-15T20:07:25.310Z"
   },
   {
    "duration": 4623,
    "start_time": "2022-10-15T20:07:25.714Z"
   },
   {
    "duration": 120,
    "start_time": "2022-10-15T20:07:30.339Z"
   },
   {
    "duration": 369,
    "start_time": "2022-10-15T20:07:30.460Z"
   },
   {
    "duration": 201,
    "start_time": "2022-10-15T20:07:30.832Z"
   },
   {
    "duration": 5,
    "start_time": "2022-10-15T20:07:31.035Z"
   },
   {
    "duration": 1393,
    "start_time": "2022-10-15T20:07:31.041Z"
   },
   {
    "duration": 875,
    "start_time": "2022-10-15T20:07:32.436Z"
   },
   {
    "duration": 34,
    "start_time": "2022-10-15T20:07:33.315Z"
   },
   {
    "duration": 139,
    "start_time": "2022-10-15T20:07:33.351Z"
   },
   {
    "duration": 51,
    "start_time": "2022-10-15T20:23:14.823Z"
   },
   {
    "duration": 1520,
    "start_time": "2022-10-15T20:23:22.197Z"
   },
   {
    "duration": 16,
    "start_time": "2022-10-15T20:23:23.720Z"
   },
   {
    "duration": 2058,
    "start_time": "2022-10-15T20:23:23.738Z"
   },
   {
    "duration": 74,
    "start_time": "2022-10-15T20:23:25.799Z"
   },
   {
    "duration": 25,
    "start_time": "2022-10-15T20:23:25.876Z"
   },
   {
    "duration": 9,
    "start_time": "2022-10-15T20:23:25.902Z"
   },
   {
    "duration": 8,
    "start_time": "2022-10-15T20:23:25.913Z"
   },
   {
    "duration": 35,
    "start_time": "2022-10-15T20:23:25.922Z"
   },
   {
    "duration": 6,
    "start_time": "2022-10-15T20:23:25.959Z"
   },
   {
    "duration": 9,
    "start_time": "2022-10-15T20:23:25.966Z"
   },
   {
    "duration": 6,
    "start_time": "2022-10-15T20:23:25.976Z"
   },
   {
    "duration": 7,
    "start_time": "2022-10-15T20:23:25.984Z"
   },
   {
    "duration": 7,
    "start_time": "2022-10-15T20:23:25.993Z"
   },
   {
    "duration": 3,
    "start_time": "2022-10-15T20:23:26.003Z"
   },
   {
    "duration": 51,
    "start_time": "2022-10-15T20:23:26.008Z"
   },
   {
    "duration": 13,
    "start_time": "2022-10-15T20:23:26.060Z"
   },
   {
    "duration": 6,
    "start_time": "2022-10-15T20:23:26.075Z"
   },
   {
    "duration": 17,
    "start_time": "2022-10-15T20:23:26.083Z"
   },
   {
    "duration": 23,
    "start_time": "2022-10-15T20:23:26.102Z"
   },
   {
    "duration": 317,
    "start_time": "2022-10-15T20:23:26.126Z"
   },
   {
    "duration": 4435,
    "start_time": "2022-10-15T20:23:26.445Z"
   },
   {
    "duration": 113,
    "start_time": "2022-10-15T20:23:30.882Z"
   },
   {
    "duration": 375,
    "start_time": "2022-10-15T20:23:30.997Z"
   },
   {
    "duration": 236,
    "start_time": "2022-10-15T20:23:31.374Z"
   },
   {
    "duration": 5,
    "start_time": "2022-10-15T20:23:31.613Z"
   },
   {
    "duration": 1236,
    "start_time": "2022-10-15T20:23:31.620Z"
   },
   {
    "duration": 892,
    "start_time": "2022-10-15T20:23:32.857Z"
   },
   {
    "duration": 31,
    "start_time": "2022-10-15T20:23:33.750Z"
   },
   {
    "duration": 81,
    "start_time": "2022-10-15T20:23:33.783Z"
   },
   {
    "duration": 1242,
    "start_time": "2022-10-15T20:24:19.890Z"
   },
   {
    "duration": 1331,
    "start_time": "2022-10-15T21:15:48.559Z"
   },
   {
    "duration": 23,
    "start_time": "2022-10-15T21:15:49.895Z"
   },
   {
    "duration": 2213,
    "start_time": "2022-10-15T21:15:49.920Z"
   },
   {
    "duration": 84,
    "start_time": "2022-10-15T21:15:52.134Z"
   },
   {
    "duration": 24,
    "start_time": "2022-10-15T21:15:52.220Z"
   },
   {
    "duration": 18,
    "start_time": "2022-10-15T21:15:52.253Z"
   },
   {
    "duration": 24,
    "start_time": "2022-10-15T21:15:52.272Z"
   },
   {
    "duration": 29,
    "start_time": "2022-10-15T21:15:52.297Z"
   },
   {
    "duration": 28,
    "start_time": "2022-10-15T21:15:52.329Z"
   },
   {
    "duration": 33,
    "start_time": "2022-10-15T21:15:52.359Z"
   },
   {
    "duration": 36,
    "start_time": "2022-10-15T21:15:52.394Z"
   },
   {
    "duration": 22,
    "start_time": "2022-10-15T21:15:52.432Z"
   },
   {
    "duration": 37,
    "start_time": "2022-10-15T21:15:52.456Z"
   },
   {
    "duration": 19,
    "start_time": "2022-10-15T21:15:52.494Z"
   },
   {
    "duration": 39,
    "start_time": "2022-10-15T21:15:52.515Z"
   },
   {
    "duration": 35,
    "start_time": "2022-10-15T21:15:52.556Z"
   },
   {
    "duration": 22,
    "start_time": "2022-10-15T21:15:52.592Z"
   },
   {
    "duration": 40,
    "start_time": "2022-10-15T21:15:52.615Z"
   },
   {
    "duration": 47,
    "start_time": "2022-10-15T21:15:52.657Z"
   },
   {
    "duration": 322,
    "start_time": "2022-10-15T21:15:52.706Z"
   },
   {
    "duration": 4615,
    "start_time": "2022-10-15T21:15:53.030Z"
   },
   {
    "duration": 112,
    "start_time": "2022-10-15T21:15:57.654Z"
   },
   {
    "duration": 389,
    "start_time": "2022-10-15T21:15:57.768Z"
   },
   {
    "duration": 204,
    "start_time": "2022-10-15T21:15:58.159Z"
   },
   {
    "duration": 5,
    "start_time": "2022-10-15T21:15:58.365Z"
   },
   {
    "duration": 1633,
    "start_time": "2022-10-15T21:15:58.371Z"
   },
   {
    "duration": 889,
    "start_time": "2022-10-15T21:16:00.009Z"
   },
   {
    "duration": 35,
    "start_time": "2022-10-15T21:16:00.900Z"
   },
   {
    "duration": 149,
    "start_time": "2022-10-15T21:16:00.937Z"
   },
   {
    "duration": 15,
    "start_time": "2022-10-15T21:17:25.016Z"
   },
   {
    "duration": 192,
    "start_time": "2022-10-15T21:18:06.278Z"
   },
   {
    "duration": 3,
    "start_time": "2022-10-15T21:26:06.733Z"
   },
   {
    "duration": 135,
    "start_time": "2022-10-15T21:26:29.927Z"
   },
   {
    "duration": 1297,
    "start_time": "2022-10-15T21:31:44.538Z"
   },
   {
    "duration": 15,
    "start_time": "2022-10-15T21:35:44.748Z"
   },
   {
    "duration": 14,
    "start_time": "2022-10-15T21:36:06.905Z"
   },
   {
    "duration": 1173,
    "start_time": "2022-10-15T21:36:38.994Z"
   },
   {
    "duration": 106,
    "start_time": "2022-10-15T21:36:40.169Z"
   },
   {
    "duration": 15,
    "start_time": "2022-10-15T21:36:40.276Z"
   },
   {
    "duration": 2160,
    "start_time": "2022-10-15T21:36:40.293Z"
   },
   {
    "duration": 77,
    "start_time": "2022-10-15T21:36:42.454Z"
   },
   {
    "duration": 39,
    "start_time": "2022-10-15T21:36:42.532Z"
   },
   {
    "duration": 7,
    "start_time": "2022-10-15T21:36:42.573Z"
   },
   {
    "duration": 25,
    "start_time": "2022-10-15T21:36:42.582Z"
   },
   {
    "duration": 20,
    "start_time": "2022-10-15T21:36:42.609Z"
   },
   {
    "duration": 12,
    "start_time": "2022-10-15T21:36:42.632Z"
   },
   {
    "duration": 21,
    "start_time": "2022-10-15T21:36:42.646Z"
   },
   {
    "duration": 23,
    "start_time": "2022-10-15T21:36:42.669Z"
   },
   {
    "duration": 22,
    "start_time": "2022-10-15T21:36:42.693Z"
   },
   {
    "duration": 14,
    "start_time": "2022-10-15T21:36:42.717Z"
   },
   {
    "duration": 28,
    "start_time": "2022-10-15T21:36:42.733Z"
   },
   {
    "duration": 36,
    "start_time": "2022-10-15T21:36:42.763Z"
   },
   {
    "duration": 24,
    "start_time": "2022-10-15T21:36:42.800Z"
   },
   {
    "duration": 12,
    "start_time": "2022-10-15T21:36:42.826Z"
   },
   {
    "duration": 45,
    "start_time": "2022-10-15T21:36:42.839Z"
   },
   {
    "duration": 37,
    "start_time": "2022-10-15T21:36:42.886Z"
   },
   {
    "duration": 319,
    "start_time": "2022-10-15T21:36:42.925Z"
   },
   {
    "duration": 4437,
    "start_time": "2022-10-15T21:36:43.246Z"
   },
   {
    "duration": 112,
    "start_time": "2022-10-15T21:36:47.685Z"
   },
   {
    "duration": 366,
    "start_time": "2022-10-15T21:36:47.799Z"
   },
   {
    "duration": 195,
    "start_time": "2022-10-15T21:36:48.166Z"
   },
   {
    "duration": 5,
    "start_time": "2022-10-15T21:36:48.363Z"
   },
   {
    "duration": 1251,
    "start_time": "2022-10-15T21:36:48.370Z"
   },
   {
    "duration": 795,
    "start_time": "2022-10-15T21:36:49.624Z"
   },
   {
    "duration": 37,
    "start_time": "2022-10-15T21:36:50.421Z"
   },
   {
    "duration": 159,
    "start_time": "2022-10-15T21:36:50.460Z"
   },
   {
    "duration": 32,
    "start_time": "2022-10-15T21:37:08.917Z"
   },
   {
    "duration": 36,
    "start_time": "2022-10-15T21:37:21.403Z"
   },
   {
    "duration": 34,
    "start_time": "2022-10-15T21:37:26.803Z"
   },
   {
    "duration": 165,
    "start_time": "2022-10-15T21:38:20.079Z"
   },
   {
    "duration": 259,
    "start_time": "2022-10-15T21:39:22.015Z"
   },
   {
    "duration": 158,
    "start_time": "2022-10-15T21:40:22.691Z"
   },
   {
    "duration": 161,
    "start_time": "2022-10-15T21:40:46.727Z"
   },
   {
    "duration": 227,
    "start_time": "2022-10-15T21:41:01.553Z"
   },
   {
    "duration": 163,
    "start_time": "2022-10-15T21:41:19.378Z"
   },
   {
    "duration": 213,
    "start_time": "2022-10-15T21:41:41.595Z"
   },
   {
    "duration": 177,
    "start_time": "2022-10-15T21:43:21.098Z"
   },
   {
    "duration": 171,
    "start_time": "2022-10-15T21:43:46.198Z"
   },
   {
    "duration": 163,
    "start_time": "2022-10-15T21:44:10.053Z"
   },
   {
    "duration": 48,
    "start_time": "2022-10-15T21:44:22.794Z"
   },
   {
    "duration": 285,
    "start_time": "2022-10-15T21:44:26.544Z"
   },
   {
    "duration": 166,
    "start_time": "2022-10-15T21:45:22.764Z"
   },
   {
    "duration": 141,
    "start_time": "2022-10-15T21:45:44.780Z"
   },
   {
    "duration": 264,
    "start_time": "2022-10-15T21:47:08.125Z"
   },
   {
    "duration": 150,
    "start_time": "2022-10-15T21:48:21.009Z"
   },
   {
    "duration": 206,
    "start_time": "2022-10-15T21:49:21.330Z"
   },
   {
    "duration": 170,
    "start_time": "2022-10-15T21:49:27.601Z"
   },
   {
    "duration": 11,
    "start_time": "2022-10-15T21:56:10.777Z"
   },
   {
    "duration": 11,
    "start_time": "2022-10-15T21:56:38.274Z"
   },
   {
    "duration": 24,
    "start_time": "2022-10-15T21:57:24.675Z"
   },
   {
    "duration": 21,
    "start_time": "2022-10-15T21:57:42.206Z"
   },
   {
    "duration": 22,
    "start_time": "2022-10-15T21:57:47.057Z"
   },
   {
    "duration": 31,
    "start_time": "2022-10-15T21:57:55.296Z"
   },
   {
    "duration": 54,
    "start_time": "2022-10-15T21:58:17.833Z"
   },
   {
    "duration": 66,
    "start_time": "2022-10-15T21:58:39.918Z"
   },
   {
    "duration": 54,
    "start_time": "2022-10-15T21:59:51.161Z"
   },
   {
    "duration": 68,
    "start_time": "2022-10-15T22:00:46.473Z"
   },
   {
    "duration": 58,
    "start_time": "2022-10-15T22:01:24.345Z"
   },
   {
    "duration": 25,
    "start_time": "2022-10-15T22:06:14.869Z"
   },
   {
    "duration": 20,
    "start_time": "2022-10-15T22:06:58.625Z"
   },
   {
    "duration": 152,
    "start_time": "2022-10-15T22:08:57.090Z"
   },
   {
    "duration": 10,
    "start_time": "2022-10-15T22:14:54.102Z"
   },
   {
    "duration": 32,
    "start_time": "2022-10-15T22:15:17.328Z"
   },
   {
    "duration": 894,
    "start_time": "2022-10-15T22:17:21.072Z"
   },
   {
    "duration": 5,
    "start_time": "2022-10-15T22:17:26.381Z"
   },
   {
    "duration": 14,
    "start_time": "2022-10-15T22:17:35.340Z"
   },
   {
    "duration": 42,
    "start_time": "2022-10-15T22:17:40.862Z"
   },
   {
    "duration": 7,
    "start_time": "2022-10-15T22:17:43.905Z"
   },
   {
    "duration": 7,
    "start_time": "2022-10-15T22:18:09.923Z"
   },
   {
    "duration": 16,
    "start_time": "2022-10-15T22:19:02.433Z"
   },
   {
    "duration": 12,
    "start_time": "2022-10-15T22:20:41.709Z"
   },
   {
    "duration": 44,
    "start_time": "2022-10-15T22:21:17.187Z"
   },
   {
    "duration": 33,
    "start_time": "2022-10-15T22:21:44.272Z"
   },
   {
    "duration": 1255,
    "start_time": "2022-10-16T11:03:19.153Z"
   },
   {
    "duration": 195,
    "start_time": "2022-10-16T11:03:20.414Z"
   },
   {
    "duration": 19,
    "start_time": "2022-10-16T11:03:20.615Z"
   },
   {
    "duration": 2218,
    "start_time": "2022-10-16T11:03:20.998Z"
   },
   {
    "duration": 82,
    "start_time": "2022-10-16T11:03:23.227Z"
   },
   {
    "duration": 32,
    "start_time": "2022-10-16T11:03:23.310Z"
   },
   {
    "duration": 12,
    "start_time": "2022-10-16T11:03:25.121Z"
   },
   {
    "duration": 8,
    "start_time": "2022-10-16T11:03:27.034Z"
   },
   {
    "duration": 5,
    "start_time": "2022-10-16T11:03:30.491Z"
   },
   {
    "duration": 105,
    "start_time": "2022-10-16T11:03:33.034Z"
   },
   {
    "duration": 21,
    "start_time": "2022-10-16T11:04:00.174Z"
   },
   {
    "duration": 33,
    "start_time": "2022-10-16T11:11:24.744Z"
   },
   {
    "duration": 56,
    "start_time": "2022-10-16T11:11:35.075Z"
   },
   {
    "duration": 20,
    "start_time": "2022-10-16T11:13:03.633Z"
   },
   {
    "duration": 70,
    "start_time": "2022-10-16T11:13:36.627Z"
   },
   {
    "duration": 7,
    "start_time": "2022-10-16T11:15:54.826Z"
   },
   {
    "duration": 15,
    "start_time": "2022-10-16T11:16:02.728Z"
   },
   {
    "duration": 60,
    "start_time": "2022-10-16T11:16:21.167Z"
   },
   {
    "duration": 44,
    "start_time": "2022-10-16T11:16:23.933Z"
   },
   {
    "duration": 3,
    "start_time": "2022-10-16T11:16:32.168Z"
   },
   {
    "duration": 13,
    "start_time": "2022-10-16T11:16:33.939Z"
   },
   {
    "duration": 9,
    "start_time": "2022-10-16T11:18:28.163Z"
   },
   {
    "duration": 3,
    "start_time": "2022-10-16T11:18:40.130Z"
   },
   {
    "duration": 123,
    "start_time": "2022-10-16T11:18:40.295Z"
   },
   {
    "duration": 13,
    "start_time": "2022-10-16T11:18:41.069Z"
   },
   {
    "duration": 2042,
    "start_time": "2022-10-16T11:18:41.754Z"
   },
   {
    "duration": 82,
    "start_time": "2022-10-16T11:18:43.798Z"
   },
   {
    "duration": 34,
    "start_time": "2022-10-16T11:18:43.881Z"
   },
   {
    "duration": 10,
    "start_time": "2022-10-16T11:18:45.535Z"
   },
   {
    "duration": 9,
    "start_time": "2022-10-16T11:18:47.529Z"
   },
   {
    "duration": 5,
    "start_time": "2022-10-16T11:18:48.026Z"
   },
   {
    "duration": 40,
    "start_time": "2022-10-16T11:18:50.628Z"
   },
   {
    "duration": 31,
    "start_time": "2022-10-16T11:19:27.046Z"
   },
   {
    "duration": 58,
    "start_time": "2022-10-16T11:19:46.354Z"
   },
   {
    "duration": 12,
    "start_time": "2022-10-16T11:24:16.626Z"
   },
   {
    "duration": 175,
    "start_time": "2022-10-16T11:24:27.360Z"
   },
   {
    "duration": 249,
    "start_time": "2022-10-16T11:28:33.526Z"
   },
   {
    "duration": 125,
    "start_time": "2022-10-16T11:28:42.128Z"
   },
   {
    "duration": 106,
    "start_time": "2022-10-16T11:29:23.782Z"
   },
   {
    "duration": 135,
    "start_time": "2022-10-16T11:29:29.347Z"
   },
   {
    "duration": 13,
    "start_time": "2022-10-16T11:29:56.428Z"
   },
   {
    "duration": 46,
    "start_time": "2022-10-16T11:30:42.306Z"
   },
   {
    "duration": 41,
    "start_time": "2022-10-16T11:31:08.724Z"
   },
   {
    "duration": 10,
    "start_time": "2022-10-16T11:35:32.628Z"
   },
   {
    "duration": 812,
    "start_time": "2022-10-16T11:35:55.298Z"
   },
   {
    "duration": 2,
    "start_time": "2022-10-16T11:37:18.539Z"
   },
   {
    "duration": 117,
    "start_time": "2022-10-16T11:37:18.875Z"
   },
   {
    "duration": 19,
    "start_time": "2022-10-16T11:37:20.200Z"
   },
   {
    "duration": 2190,
    "start_time": "2022-10-16T11:37:21.055Z"
   },
   {
    "duration": 106,
    "start_time": "2022-10-16T11:37:23.247Z"
   },
   {
    "duration": 28,
    "start_time": "2022-10-16T11:37:23.355Z"
   },
   {
    "duration": 9,
    "start_time": "2022-10-16T11:37:23.595Z"
   },
   {
    "duration": 8,
    "start_time": "2022-10-16T11:37:25.883Z"
   },
   {
    "duration": 6,
    "start_time": "2022-10-16T11:37:26.578Z"
   },
   {
    "duration": 940,
    "start_time": "2022-10-16T11:37:32.018Z"
   },
   {
    "duration": 877,
    "start_time": "2022-10-16T11:40:48.581Z"
   },
   {
    "duration": 933,
    "start_time": "2022-10-16T11:40:58.631Z"
   },
   {
    "duration": 133,
    "start_time": "2022-10-16T11:42:38.432Z"
   },
   {
    "duration": 861,
    "start_time": "2022-10-16T11:42:44.836Z"
   },
   {
    "duration": 567,
    "start_time": "2022-10-16T11:44:10.026Z"
   },
   {
    "duration": 229,
    "start_time": "2022-10-16T11:45:07.283Z"
   },
   {
    "duration": 488,
    "start_time": "2022-10-16T11:45:19.730Z"
   },
   {
    "duration": 145,
    "start_time": "2022-10-16T11:46:08.834Z"
   },
   {
    "duration": 114,
    "start_time": "2022-10-16T11:46:55.231Z"
   },
   {
    "duration": 113,
    "start_time": "2022-10-16T11:48:02.449Z"
   },
   {
    "duration": 547,
    "start_time": "2022-10-16T11:48:22.796Z"
   },
   {
    "duration": 494,
    "start_time": "2022-10-16T11:48:28.795Z"
   },
   {
    "duration": 564,
    "start_time": "2022-10-16T11:50:00.695Z"
   },
   {
    "duration": 632,
    "start_time": "2022-10-16T11:51:21.902Z"
   },
   {
    "duration": 487,
    "start_time": "2022-10-16T11:51:37.526Z"
   },
   {
    "duration": 564,
    "start_time": "2022-10-16T11:51:42.786Z"
   },
   {
    "duration": 618,
    "start_time": "2022-10-16T11:53:54.968Z"
   },
   {
    "duration": 561,
    "start_time": "2022-10-16T12:00:08.477Z"
   },
   {
    "duration": 493,
    "start_time": "2022-10-16T12:00:20.854Z"
   },
   {
    "duration": 569,
    "start_time": "2022-10-16T12:00:37.979Z"
   },
   {
    "duration": 677,
    "start_time": "2022-10-16T12:00:46.763Z"
   },
   {
    "duration": 501,
    "start_time": "2022-10-16T12:01:05.176Z"
   },
   {
    "duration": 485,
    "start_time": "2022-10-16T12:02:47.866Z"
   },
   {
    "duration": 606,
    "start_time": "2022-10-16T12:03:41.054Z"
   },
   {
    "duration": 484,
    "start_time": "2022-10-16T12:03:57.661Z"
   },
   {
    "duration": 497,
    "start_time": "2022-10-16T12:05:51.936Z"
   },
   {
    "duration": 637,
    "start_time": "2022-10-16T12:06:43.430Z"
   },
   {
    "duration": 483,
    "start_time": "2022-10-16T12:07:31.086Z"
   },
   {
    "duration": 465,
    "start_time": "2022-10-16T12:07:49.301Z"
   },
   {
    "duration": 566,
    "start_time": "2022-10-16T12:08:12.285Z"
   },
   {
    "duration": 493,
    "start_time": "2022-10-16T12:09:34.921Z"
   },
   {
    "duration": 173,
    "start_time": "2022-10-16T12:12:21.157Z"
   },
   {
    "duration": 5,
    "start_time": "2022-10-16T12:12:34.924Z"
   },
   {
    "duration": 549,
    "start_time": "2022-10-16T12:12:43.835Z"
   },
   {
    "duration": 494,
    "start_time": "2022-10-16T12:12:50.825Z"
   },
   {
    "duration": 657,
    "start_time": "2022-10-16T12:13:24.780Z"
   },
   {
    "duration": 542,
    "start_time": "2022-10-16T12:14:10.594Z"
   },
   {
    "duration": 743,
    "start_time": "2022-10-16T12:15:56.739Z"
   },
   {
    "duration": 639,
    "start_time": "2022-10-16T12:16:35.899Z"
   },
   {
    "duration": 662,
    "start_time": "2022-10-16T12:16:58.924Z"
   },
   {
    "duration": 728,
    "start_time": "2022-10-16T12:17:07.982Z"
   },
   {
    "duration": 668,
    "start_time": "2022-10-16T12:18:08.537Z"
   },
   {
    "duration": 1144,
    "start_time": "2022-10-16T12:18:48.094Z"
   },
   {
    "duration": 104,
    "start_time": "2022-10-16T12:18:49.240Z"
   },
   {
    "duration": 13,
    "start_time": "2022-10-16T12:18:49.345Z"
   },
   {
    "duration": 2039,
    "start_time": "2022-10-16T12:18:49.360Z"
   },
   {
    "duration": 95,
    "start_time": "2022-10-16T12:18:51.402Z"
   },
   {
    "duration": 33,
    "start_time": "2022-10-16T12:18:51.499Z"
   },
   {
    "duration": 9,
    "start_time": "2022-10-16T12:18:53.424Z"
   },
   {
    "duration": 8,
    "start_time": "2022-10-16T12:18:54.290Z"
   },
   {
    "duration": 12,
    "start_time": "2022-10-16T12:18:54.706Z"
   },
   {
    "duration": 684,
    "start_time": "2022-10-16T12:18:56.039Z"
   },
   {
    "duration": 77,
    "start_time": "2022-10-16T12:22:14.088Z"
   },
   {
    "duration": 8,
    "start_time": "2022-10-16T12:22:19.126Z"
   },
   {
    "duration": 8,
    "start_time": "2022-10-16T12:22:19.939Z"
   },
   {
    "duration": 9,
    "start_time": "2022-10-16T12:22:20.398Z"
   },
   {
    "duration": 9,
    "start_time": "2022-10-16T12:22:20.798Z"
   },
   {
    "duration": 7,
    "start_time": "2022-10-16T12:22:21.127Z"
   },
   {
    "duration": 3,
    "start_time": "2022-10-16T12:22:21.453Z"
   },
   {
    "duration": 8,
    "start_time": "2022-10-16T12:22:21.776Z"
   },
   {
    "duration": 14,
    "start_time": "2022-10-16T12:22:22.118Z"
   },
   {
    "duration": 5,
    "start_time": "2022-10-16T12:22:22.275Z"
   },
   {
    "duration": 10,
    "start_time": "2022-10-16T12:22:22.625Z"
   },
   {
    "duration": 18,
    "start_time": "2022-10-16T12:22:22.948Z"
   },
   {
    "duration": 273,
    "start_time": "2022-10-16T12:22:23.455Z"
   },
   {
    "duration": 4324,
    "start_time": "2022-10-16T12:22:24.156Z"
   },
   {
    "duration": 99,
    "start_time": "2022-10-16T12:22:28.482Z"
   },
   {
    "duration": 251,
    "start_time": "2022-10-16T12:22:28.583Z"
   },
   {
    "duration": 179,
    "start_time": "2022-10-16T12:22:28.837Z"
   },
   {
    "duration": 4,
    "start_time": "2022-10-16T12:22:29.024Z"
   },
   {
    "duration": 1362,
    "start_time": "2022-10-16T12:22:29.030Z"
   },
   {
    "duration": 675,
    "start_time": "2022-10-16T12:22:30.394Z"
   },
   {
    "duration": 177,
    "start_time": "2022-10-16T12:22:31.071Z"
   },
   {
    "duration": 165,
    "start_time": "2022-10-16T12:22:31.250Z"
   },
   {
    "duration": 1145,
    "start_time": "2022-10-16T12:26:26.498Z"
   },
   {
    "duration": 1232,
    "start_time": "2022-10-16T12:26:30.754Z"
   },
   {
    "duration": 1192,
    "start_time": "2022-10-16T12:26:44.287Z"
   },
   {
    "duration": 1265,
    "start_time": "2022-10-16T12:26:53.799Z"
   },
   {
    "duration": 13,
    "start_time": "2022-10-16T12:33:01.323Z"
   },
   {
    "duration": 1037,
    "start_time": "2022-10-16T12:33:26.948Z"
   },
   {
    "duration": 96,
    "start_time": "2022-10-16T12:33:27.986Z"
   },
   {
    "duration": 20,
    "start_time": "2022-10-16T12:33:28.083Z"
   },
   {
    "duration": 1882,
    "start_time": "2022-10-16T12:33:28.105Z"
   },
   {
    "duration": 75,
    "start_time": "2022-10-16T12:33:29.989Z"
   },
   {
    "duration": 90,
    "start_time": "2022-10-16T12:33:30.065Z"
   },
   {
    "duration": 17,
    "start_time": "2022-10-16T12:33:30.156Z"
   },
   {
    "duration": 17,
    "start_time": "2022-10-16T12:33:30.174Z"
   },
   {
    "duration": 28,
    "start_time": "2022-10-16T12:33:30.193Z"
   },
   {
    "duration": 646,
    "start_time": "2022-10-16T12:33:30.222Z"
   },
   {
    "duration": 6,
    "start_time": "2022-10-16T12:33:30.870Z"
   },
   {
    "duration": 25,
    "start_time": "2022-10-16T12:33:30.877Z"
   },
   {
    "duration": 9,
    "start_time": "2022-10-16T12:33:30.904Z"
   },
   {
    "duration": 24,
    "start_time": "2022-10-16T12:33:30.916Z"
   },
   {
    "duration": 22,
    "start_time": "2022-10-16T12:33:30.941Z"
   },
   {
    "duration": 7,
    "start_time": "2022-10-16T12:33:30.965Z"
   },
   {
    "duration": 18,
    "start_time": "2022-10-16T12:33:30.974Z"
   },
   {
    "duration": 15,
    "start_time": "2022-10-16T12:33:30.994Z"
   },
   {
    "duration": 20,
    "start_time": "2022-10-16T12:33:31.010Z"
   },
   {
    "duration": 16,
    "start_time": "2022-10-16T12:33:31.032Z"
   },
   {
    "duration": 58,
    "start_time": "2022-10-16T12:33:31.050Z"
   },
   {
    "duration": 259,
    "start_time": "2022-10-16T12:33:31.110Z"
   },
   {
    "duration": 3932,
    "start_time": "2022-10-16T12:33:31.371Z"
   },
   {
    "duration": 96,
    "start_time": "2022-10-16T12:33:35.304Z"
   },
   {
    "duration": 228,
    "start_time": "2022-10-16T12:33:35.402Z"
   },
   {
    "duration": 163,
    "start_time": "2022-10-16T12:33:35.632Z"
   },
   {
    "duration": 4,
    "start_time": "2022-10-16T12:33:35.799Z"
   },
   {
    "duration": 1228,
    "start_time": "2022-10-16T12:33:35.805Z"
   },
   {
    "duration": 605,
    "start_time": "2022-10-16T12:33:37.034Z"
   },
   {
    "duration": 162,
    "start_time": "2022-10-16T12:33:37.641Z"
   },
   {
    "duration": 156,
    "start_time": "2022-10-16T12:33:37.805Z"
   },
   {
    "duration": 1335,
    "start_time": "2023-03-06T11:16:43.540Z"
   },
   {
    "duration": 353,
    "start_time": "2023-03-06T11:16:44.877Z"
   },
   {
    "duration": 17,
    "start_time": "2023-03-06T11:16:45.232Z"
   },
   {
    "duration": 1926,
    "start_time": "2023-03-06T11:16:45.251Z"
   },
   {
    "duration": 86,
    "start_time": "2023-03-06T11:16:47.179Z"
   },
   {
    "duration": 24,
    "start_time": "2023-03-06T11:16:47.267Z"
   },
   {
    "duration": 9,
    "start_time": "2023-03-06T11:16:47.293Z"
   },
   {
    "duration": 30,
    "start_time": "2023-03-06T11:16:47.304Z"
   },
   {
    "duration": 15,
    "start_time": "2023-03-06T11:16:47.336Z"
   },
   {
    "duration": 686,
    "start_time": "2023-03-06T11:16:47.355Z"
   },
   {
    "duration": 6,
    "start_time": "2023-03-06T11:16:48.043Z"
   },
   {
    "duration": 13,
    "start_time": "2023-03-06T11:16:48.051Z"
   },
   {
    "duration": 9,
    "start_time": "2023-03-06T11:16:48.066Z"
   },
   {
    "duration": 11,
    "start_time": "2023-03-06T11:16:48.077Z"
   },
   {
    "duration": 10,
    "start_time": "2023-03-06T11:16:48.090Z"
   },
   {
    "duration": 6,
    "start_time": "2023-03-06T11:16:48.131Z"
   },
   {
    "duration": 16,
    "start_time": "2023-03-06T11:16:48.139Z"
   },
   {
    "duration": 18,
    "start_time": "2023-03-06T11:16:48.157Z"
   },
   {
    "duration": 5,
    "start_time": "2023-03-06T11:16:48.177Z"
   },
   {
    "duration": 13,
    "start_time": "2023-03-06T11:16:48.184Z"
   },
   {
    "duration": 38,
    "start_time": "2023-03-06T11:16:48.199Z"
   },
   {
    "duration": 270,
    "start_time": "2023-03-06T11:16:48.239Z"
   },
   {
    "duration": 4254,
    "start_time": "2023-03-06T11:16:48.511Z"
   },
   {
    "duration": 112,
    "start_time": "2023-03-06T11:16:52.767Z"
   },
   {
    "duration": 253,
    "start_time": "2023-03-06T11:16:52.880Z"
   },
   {
    "duration": 165,
    "start_time": "2023-03-06T11:16:53.135Z"
   },
   {
    "duration": 5,
    "start_time": "2023-03-06T11:16:53.301Z"
   },
   {
    "duration": 1295,
    "start_time": "2023-03-06T11:16:53.309Z"
   },
   {
    "duration": 713,
    "start_time": "2023-03-06T11:16:54.605Z"
   },
   {
    "duration": 107,
    "start_time": "2023-03-06T11:17:05.800Z"
   },
   {
    "duration": 8,
    "start_time": "2023-03-06T11:17:12.517Z"
   },
   {
    "duration": 14,
    "start_time": "2023-03-06T11:17:17.015Z"
   },
   {
    "duration": 16,
    "start_time": "2023-03-06T11:17:30.548Z"
   }
  ],
  "kernelspec": {
   "display_name": "Python 3",
   "language": "python",
   "name": "python3"
  },
  "language_info": {
   "codemirror_mode": {
    "name": "ipython",
    "version": 3
   },
   "file_extension": ".py",
   "mimetype": "text/x-python",
   "name": "python",
   "nbconvert_exporter": "python",
   "pygments_lexer": "ipython3",
   "version": "3.8.5"
  },
  "toc": {
   "base_numbering": 1,
   "nav_menu": {},
   "number_sections": true,
   "sideBar": true,
   "skip_h1_title": true,
   "title_cell": "Содержание",
   "title_sidebar": "Содержание",
   "toc_cell": true,
   "toc_position": {
    "height": "calc(100% - 180px)",
    "left": "10px",
    "top": "150px",
    "width": "286.075px"
   },
   "toc_section_display": true,
   "toc_window_display": true
  },
  "varInspector": {
   "cols": {
    "lenName": 16,
    "lenType": 16,
    "lenVar": 40
   },
   "kernels_config": {
    "python": {
     "delete_cmd_postfix": "",
     "delete_cmd_prefix": "del ",
     "library": "var_list.py",
     "varRefreshCmd": "print(var_dic_list())"
    },
    "r": {
     "delete_cmd_postfix": ") ",
     "delete_cmd_prefix": "rm(",
     "library": "var_list.r",
     "varRefreshCmd": "cat(var_dic_list()) "
    }
   },
   "types_to_exclude": [
    "module",
    "function",
    "builtin_function_or_method",
    "instance",
    "_Feature"
   ],
   "window_display": false
  }
 },
 "nbformat": 4,
 "nbformat_minor": 2
}
