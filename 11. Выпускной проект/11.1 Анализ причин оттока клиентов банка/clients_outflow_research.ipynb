{
 "cells": [
  {
   "cell_type": "markdown",
   "metadata": {
    "toc": true
   },
   "source": [
    "<h1>Анализ причин оттока клиентов банка<span class=\"tocSkip\"></span></h1>\n",
    "<div class=\"toc\"><ul class=\"toc-item\"><li><span><a href=\"#Описание-проекта-и-данных\" data-toc-modified-id=\"Описание-проекта-и-данных-1\"><span class=\"toc-item-num\">1&nbsp;&nbsp;</span>Описание проекта и данных</a></span><ul class=\"toc-item\"><li><span><a href=\"#Описание-проекта\" data-toc-modified-id=\"Описание-проекта-1.1\"><span class=\"toc-item-num\">1.1&nbsp;&nbsp;</span>Описание проекта</a></span></li><li><span><a href=\"#Описание-данных\" data-toc-modified-id=\"Описание-данных-1.2\"><span class=\"toc-item-num\">1.2&nbsp;&nbsp;</span>Описание данных</a></span></li></ul></li><li><span><a href=\"#Знакомство-с-данными\" data-toc-modified-id=\"Знакомство-с-данными-2\"><span class=\"toc-item-num\">2&nbsp;&nbsp;</span>Знакомство с данными</a></span><ul class=\"toc-item\"><li><span><a href=\"#Обзор-данных\" data-toc-modified-id=\"Обзор-данных-2.1\"><span class=\"toc-item-num\">2.1&nbsp;&nbsp;</span>Обзор данных</a></span></li></ul></li><li><span><a href=\"#Предобработка-данных\" data-toc-modified-id=\"Предобработка-данных-3\"><span class=\"toc-item-num\">3&nbsp;&nbsp;</span>Предобработка данных</a></span><ul class=\"toc-item\"><li><span><a href=\"#Обработка-пропусков\" data-toc-modified-id=\"Обработка-пропусков-3.1\"><span class=\"toc-item-num\">3.1&nbsp;&nbsp;</span>Обработка пропусков</a></span></li><li><span><a href=\"#Обработка-дубликатов\" data-toc-modified-id=\"Обработка-дубликатов-3.2\"><span class=\"toc-item-num\">3.2&nbsp;&nbsp;</span>Обработка дубликатов</a></span></li><li><span><a href=\"#Добавление-необходимых-столбцов\" data-toc-modified-id=\"Добавление-необходимых-столбцов-3.3\"><span class=\"toc-item-num\">3.3&nbsp;&nbsp;</span>Добавление необходимых столбцов</a></span></li></ul></li><li><span><a href=\"#Исследовательский-анализ-данных\" data-toc-modified-id=\"Исследовательский-анализ-данных-4\"><span class=\"toc-item-num\">4&nbsp;&nbsp;</span>Исследовательский анализ данных</a></span><ul class=\"toc-item\"><li><span><a href=\"#Смотрим-на-соотношение-клиентов-в-разрезе-отточности\" data-toc-modified-id=\"Смотрим-на-соотношение-клиентов-в-разрезе-отточности-4.1\"><span class=\"toc-item-num\">4.1&nbsp;&nbsp;</span>Смотрим на соотношение клиентов в разрезе отточности</a></span></li><li><span><a href=\"#Рассматриваем-распределения-данных-по-каждому-признаку-в-отдельности\" data-toc-modified-id=\"Рассматриваем-распределения-данных-по-каждому-признаку-в-отдельности-4.2\"><span class=\"toc-item-num\">4.2&nbsp;&nbsp;</span>Рассматриваем распределения данных по каждому признаку в отдельности</a></span></li><li><span><a href=\"#Смотрим-на-корреляцию-признаков\" data-toc-modified-id=\"Смотрим-на-корреляцию-признаков-4.3\"><span class=\"toc-item-num\">4.3&nbsp;&nbsp;</span>Смотрим на корреляцию признаков</a></span></li></ul></li><li><span><a href=\"#Сегментация-и-составление-портрета-отточного-клиента\" data-toc-modified-id=\"Сегментация-и-составление-портрета-отточного-клиента-5\"><span class=\"toc-item-num\">5&nbsp;&nbsp;</span>Сегментация и составление портрета отточного клиента</a></span><ul class=\"toc-item\"><li><span><a href=\"#Сегментирование-клиентов-по-количеству-баллов-кредитного-скоринга\" data-toc-modified-id=\"Сегментирование-клиентов-по-количеству-баллов-кредитного-скоринга-5.1\"><span class=\"toc-item-num\">5.1&nbsp;&nbsp;</span>Сегментирование клиентов по количеству баллов кредитного скоринга</a></span></li><li><span><a href=\"#Сегментирование-клиентов-по-возрасту\" data-toc-modified-id=\"Сегментирование-клиентов-по-возрасту-5.2\"><span class=\"toc-item-num\">5.2&nbsp;&nbsp;</span>Сегментирование клиентов по возрасту</a></span></li><li><span><a href=\"#Сегментирование-клиентов-по-заработной-плате\" data-toc-modified-id=\"Сегментирование-клиентов-по-заработной-плате-5.3\"><span class=\"toc-item-num\">5.3&nbsp;&nbsp;</span>Сегментирование клиентов по заработной плате</a></span></li><li><span><a href=\"#Сегментирование-клиентов-по-балансу-на-счете\" data-toc-modified-id=\"Сегментирование-клиентов-по-балансу-на-счете-5.4\"><span class=\"toc-item-num\">5.4&nbsp;&nbsp;</span>Сегментирование клиентов по балансу на счете</a></span></li><li><span><a href=\"#Сегментирование-клиентов-по-кол-ву-продуктов\" data-toc-modified-id=\"Сегментирование-клиентов-по-кол-ву-продуктов-5.5\"><span class=\"toc-item-num\">5.5&nbsp;&nbsp;</span>Сегментирование клиентов по кол-ву продуктов</a></span></li><li><span><a href=\"#Сегментирование-клиентов-по-оценке-стоимости-собственности\" data-toc-modified-id=\"Сегментирование-клиентов-по-оценке-стоимости-собственности-5.6\"><span class=\"toc-item-num\">5.6&nbsp;&nbsp;</span>Сегментирование клиентов по оценке стоимости собственности</a></span></li><li><span><a href=\"#Определяем-типичный-портрет-отточного-клиента\" data-toc-modified-id=\"Определяем-типичный-портрет-отточного-клиента-5.7\"><span class=\"toc-item-num\">5.7&nbsp;&nbsp;</span>Определяем типичный портрет отточного клиента</a></span></li></ul></li><li><span><a href=\"#Провера-гипотез\" data-toc-modified-id=\"Провера-гипотез-6\"><span class=\"toc-item-num\">6&nbsp;&nbsp;</span>Провера гипотез</a></span><ul class=\"toc-item\"><li><span><a href=\"#Проверка-гипотезы-о-доходах\" data-toc-modified-id=\"Проверка-гипотезы-о-доходах-6.1\"><span class=\"toc-item-num\">6.1&nbsp;&nbsp;</span>Проверка гипотезы о доходах</a></span></li><li><span><a href=\"#Проверка-гипотезы-о-возрасте\" data-toc-modified-id=\"Проверка-гипотезы-о-возрасте-6.2\"><span class=\"toc-item-num\">6.2&nbsp;&nbsp;</span>Проверка гипотезы о возрасте</a></span></li><li><span><a href=\"#Проверка-гипотезы-о--количестве-продуктов\" data-toc-modified-id=\"Проверка-гипотезы-о--количестве-продуктов-6.3\"><span class=\"toc-item-num\">6.3&nbsp;&nbsp;</span>Проверка гипотезы о  количестве продуктов</a></span></li></ul></li><li><span><a href=\"#Вывод-и-рекомендации\" data-toc-modified-id=\"Вывод-и-рекомендации-7\"><span class=\"toc-item-num\">7&nbsp;&nbsp;</span>Вывод и рекомендации</a></span><ul class=\"toc-item\"><li><span><a href=\"#Вывод\" data-toc-modified-id=\"Вывод-7.1\"><span class=\"toc-item-num\">7.1&nbsp;&nbsp;</span>Вывод</a></span></li><li><span><a href=\"#Рекомендации\" data-toc-modified-id=\"Рекомендации-7.2\"><span class=\"toc-item-num\">7.2&nbsp;&nbsp;</span>Рекомендации</a></span></li></ul></li></ul></div>"
   ]
  },
  {
   "cell_type": "markdown",
   "metadata": {},
   "source": [
    "# Описание проекта и данных"
   ]
  },
  {
   "cell_type": "markdown",
   "metadata": {},
   "source": [
    "## Описание проекта"
   ]
  },
  {
   "cell_type": "markdown",
   "metadata": {},
   "source": [
    "Мы работаем аналитиками в банке `Метанпромбанк`. В последнее время в банке наблюдается отток клиентов.  \n",
    "\n",
    "В связи с этим, перед нами была поставилена следующая **задача**: проанализировать клиентов регионального банка и выделить сегменты клиентов, которые склонны уходить из банка.\n",
    "\n",
    "Для ответа на этот вопрос нам будет необходимо:\n",
    "\n",
    "- Провести первичное ознакомление и преодработку данных;\n",
    "- Исследовательский анализ данных;\n",
    "- Сегментировать пользователей услуг банка и выявить портрет отточного клиента;\n",
    "- Сформулировать и проверить статистические гипотезы;\n",
    "- Сделать выводы и дать рекомендации.\n",
    "\n",
    "\n",
    "*Презентация* - [Ссылка](https://github.com/vaneevruslan/DA_Projects_Yandex/blob/main/11.%20Выпускной%20проект/11.1%20Анализ%20причин%20оттока%20клиентов%20банка/Dashboard_bank.pdf)  \n",
    "*Дашборд* - [Ссылка](https://public.tableau.com/app/profile/ruslan8377/viz/Dashbord_bank/Dashboard)"
   ]
  },
  {
   "cell_type": "markdown",
   "metadata": {},
   "source": [
    "## Описание данных"
   ]
  },
  {
   "cell_type": "markdown",
   "metadata": {},
   "source": [
    "Датасет содержит данные о клиентах банка «Метанпром». Банк располагается в Ярославле и областных городах: Ростов Великий и Рыбинск и имеет следующую структуру:\n",
    "\n",
    "- `USERID` — идентификатор пользователя;\n",
    "\n",
    "- `score` — баллы кредитного скоринга;\n",
    "- `city` — город;\n",
    "- `gender` — пол;\n",
    "- `age` — возраст;\n",
    "- `equity` — приблизительная оценка собственности клиента;\n",
    "- `balance` — баланс на счёте;\n",
    "- `products` — количество продуктов, которыми пользуется клиент;\n",
    "- `credit_card` — есть ли кредитная карта;\n",
    "- `last_activity` — был ли клиент активен последнее время;\n",
    "- `EST_SALARY` — заработная плата клиента;\n",
    "- `churn` — уходит или нет."
   ]
  },
  {
   "cell_type": "markdown",
   "metadata": {},
   "source": [
    "# Знакомство с данными"
   ]
  },
  {
   "cell_type": "markdown",
   "metadata": {},
   "source": [
    "## Обзор данных"
   ]
  },
  {
   "cell_type": "code",
   "execution_count": 1,
   "metadata": {},
   "outputs": [],
   "source": [
    "# Импортируем необходимые библиотеки\n",
    "\n",
    "import pandas as pd\n",
    "import numpy as np\n",
    "import matplotlib.pyplot as plt\n",
    "import seaborn as sns\n",
    "import plotly.express as px\n",
    "from plotly import graph_objects as go\n",
    "from plotly.subplots import make_subplots\n",
    "import math\n",
    "import scipy.stats as stats"
   ]
  },
  {
   "cell_type": "code",
   "execution_count": 2,
   "metadata": {},
   "outputs": [],
   "source": [
    "# Для удобства отобразим все колонки таблицы и изменим их ширину\n",
    "\n",
    "pd.set_option('display.max_columns', None)\n",
    "pd.set_option('max_colwidth', None)"
   ]
  },
  {
   "cell_type": "code",
   "execution_count": 3,
   "metadata": {},
   "outputs": [],
   "source": [
    "# Указываем путь к файлу и записываем датасет в переменную\n",
    "\n",
    "df = pd.read_csv('bank_scrooge.csv')"
   ]
  },
  {
   "cell_type": "code",
   "execution_count": 4,
   "metadata": {},
   "outputs": [],
   "source": [
    "# Создадим функцию для обзора данных: выведем первые и последние 5 строк, общую информацию, количество и процент пропусков,\n",
    "# кол-во и долю дубликатов и статистические данные по датафрейму. \n",
    "# Функция на вход будет принимать датафрейм.\n",
    "\n",
    "def df_review(data):\n",
    "    \n",
    "    # Выведем первые и последние 5 строк из датафрейму\n",
    "    print('{0:^125}'.format('Обзор данных датасета'))\n",
    "    display(data)\n",
    "    print('-'*120)\n",
    "    \n",
    "    # Выведем общую информацию по датафрейму\n",
    "    print('{0:^125}'.format('Общая информация по датасету'),end='\\n\\n')\n",
    "    data.info()\n",
    "    print('-'*120)\n",
    "    \n",
    "    # Выведем кол-во и процент пропусков в колонках датафрейма\n",
    "    print('{0:^125}'.format('Количество пропусков и их доля от всех строк в колонке'))\n",
    "    # Посчитаем кол-во пропусков и их процент от общего числа строк в датафрейме по каждому столбцу\n",
    "    num_of_nan = data.isnull().sum().to_frame().reset_index().merge \\\n",
    "    (round(data.isnull().mean()*100,2).to_frame().reset_index(), on='index', how='left')\n",
    "    # Переимунуем названия колонок для удобства и выведем рез-т\n",
    "    num_of_nan.columns = ['columns','nan_count','nan_ratio']\n",
    "    num_of_nan['nan_ratio'] = num_of_nan['nan_ratio'].map('{0:.2f}%'.format)\n",
    "    display(num_of_nan.sort_values(by='nan_count', ascending=False))\n",
    "    print('-'*120)\n",
    "    \n",
    "    # Посчитаем кол-во и долю явных дубликатов в датафрейме\n",
    "    print(f'Количество явных дубликатов в датасете: {data.duplicated().sum()}')\n",
    "    print (f'Доля явных дубликатов в датасете: {round(100*data.duplicated().sum()/data.shape[0],2)}%')\n",
    "    print('-'*120,end='\\n\\n')\n",
    "    \n",
    "    # Выведем информацию по статистическим данным датафрейма\n",
    "    print('{0:^125}'.format('Обзор cтатистических данных по датасету'))\n",
    "    display(data.describe())"
   ]
  },
  {
   "cell_type": "code",
   "execution_count": 5,
   "metadata": {
    "scrolled": true
   },
   "outputs": [
    {
     "name": "stdout",
     "output_type": "stream",
     "text": [
      "                                                    Обзор данных датасета                                                    \n"
     ]
    },
    {
     "data": {
      "text/html": [
       "<div>\n",
       "<style scoped>\n",
       "    .dataframe tbody tr th:only-of-type {\n",
       "        vertical-align: middle;\n",
       "    }\n",
       "\n",
       "    .dataframe tbody tr th {\n",
       "        vertical-align: top;\n",
       "    }\n",
       "\n",
       "    .dataframe thead th {\n",
       "        text-align: right;\n",
       "    }\n",
       "</style>\n",
       "<table border=\"1\" class=\"dataframe\">\n",
       "  <thead>\n",
       "    <tr style=\"text-align: right;\">\n",
       "      <th></th>\n",
       "      <th>USERID</th>\n",
       "      <th>score</th>\n",
       "      <th>city</th>\n",
       "      <th>gender</th>\n",
       "      <th>age</th>\n",
       "      <th>equity</th>\n",
       "      <th>balance</th>\n",
       "      <th>products</th>\n",
       "      <th>credit_card</th>\n",
       "      <th>last_activity</th>\n",
       "      <th>EST_SALARY</th>\n",
       "      <th>churn</th>\n",
       "    </tr>\n",
       "  </thead>\n",
       "  <tbody>\n",
       "    <tr>\n",
       "      <th>0</th>\n",
       "      <td>183012</td>\n",
       "      <td>850.0</td>\n",
       "      <td>Рыбинск</td>\n",
       "      <td>Ж</td>\n",
       "      <td>25.0</td>\n",
       "      <td>1</td>\n",
       "      <td>59214.82</td>\n",
       "      <td>2</td>\n",
       "      <td>0</td>\n",
       "      <td>1</td>\n",
       "      <td>75719.14</td>\n",
       "      <td>1</td>\n",
       "    </tr>\n",
       "    <tr>\n",
       "      <th>1</th>\n",
       "      <td>146556</td>\n",
       "      <td>861.0</td>\n",
       "      <td>Рыбинск</td>\n",
       "      <td>Ж</td>\n",
       "      <td>37.0</td>\n",
       "      <td>5</td>\n",
       "      <td>850594.33</td>\n",
       "      <td>3</td>\n",
       "      <td>1</td>\n",
       "      <td>0</td>\n",
       "      <td>86621.77</td>\n",
       "      <td>0</td>\n",
       "    </tr>\n",
       "    <tr>\n",
       "      <th>2</th>\n",
       "      <td>120722</td>\n",
       "      <td>892.0</td>\n",
       "      <td>Рыбинск</td>\n",
       "      <td>Ж</td>\n",
       "      <td>30.0</td>\n",
       "      <td>0</td>\n",
       "      <td>NaN</td>\n",
       "      <td>1</td>\n",
       "      <td>1</td>\n",
       "      <td>1</td>\n",
       "      <td>107683.34</td>\n",
       "      <td>0</td>\n",
       "    </tr>\n",
       "    <tr>\n",
       "      <th>3</th>\n",
       "      <td>225363</td>\n",
       "      <td>866.0</td>\n",
       "      <td>Ярославль</td>\n",
       "      <td>Ж</td>\n",
       "      <td>51.0</td>\n",
       "      <td>5</td>\n",
       "      <td>1524746.26</td>\n",
       "      <td>2</td>\n",
       "      <td>0</td>\n",
       "      <td>1</td>\n",
       "      <td>174423.53</td>\n",
       "      <td>1</td>\n",
       "    </tr>\n",
       "    <tr>\n",
       "      <th>4</th>\n",
       "      <td>157978</td>\n",
       "      <td>730.0</td>\n",
       "      <td>Ярославль</td>\n",
       "      <td>М</td>\n",
       "      <td>34.0</td>\n",
       "      <td>5</td>\n",
       "      <td>174.00</td>\n",
       "      <td>1</td>\n",
       "      <td>1</td>\n",
       "      <td>0</td>\n",
       "      <td>67353.16</td>\n",
       "      <td>1</td>\n",
       "    </tr>\n",
       "    <tr>\n",
       "      <th>...</th>\n",
       "      <td>...</td>\n",
       "      <td>...</td>\n",
       "      <td>...</td>\n",
       "      <td>...</td>\n",
       "      <td>...</td>\n",
       "      <td>...</td>\n",
       "      <td>...</td>\n",
       "      <td>...</td>\n",
       "      <td>...</td>\n",
       "      <td>...</td>\n",
       "      <td>...</td>\n",
       "      <td>...</td>\n",
       "    </tr>\n",
       "    <tr>\n",
       "      <th>9995</th>\n",
       "      <td>120553</td>\n",
       "      <td>814.0</td>\n",
       "      <td>Рыбинск</td>\n",
       "      <td>М</td>\n",
       "      <td>27.0</td>\n",
       "      <td>1</td>\n",
       "      <td>78144.65</td>\n",
       "      <td>1</td>\n",
       "      <td>0</td>\n",
       "      <td>1</td>\n",
       "      <td>18943.64</td>\n",
       "      <td>0</td>\n",
       "    </tr>\n",
       "    <tr>\n",
       "      <th>9996</th>\n",
       "      <td>139170</td>\n",
       "      <td>894.0</td>\n",
       "      <td>Ярославль</td>\n",
       "      <td>М</td>\n",
       "      <td>46.0</td>\n",
       "      <td>0</td>\n",
       "      <td>NaN</td>\n",
       "      <td>1</td>\n",
       "      <td>1</td>\n",
       "      <td>0</td>\n",
       "      <td>196898.29</td>\n",
       "      <td>0</td>\n",
       "    </tr>\n",
       "    <tr>\n",
       "      <th>9997</th>\n",
       "      <td>115639</td>\n",
       "      <td>903.0</td>\n",
       "      <td>Ярославль</td>\n",
       "      <td>М</td>\n",
       "      <td>24.0</td>\n",
       "      <td>0</td>\n",
       "      <td>NaN</td>\n",
       "      <td>2</td>\n",
       "      <td>1</td>\n",
       "      <td>1</td>\n",
       "      <td>108905.09</td>\n",
       "      <td>0</td>\n",
       "    </tr>\n",
       "    <tr>\n",
       "      <th>9998</th>\n",
       "      <td>148700</td>\n",
       "      <td>777.0</td>\n",
       "      <td>Ярославль</td>\n",
       "      <td>Ж</td>\n",
       "      <td>68.0</td>\n",
       "      <td>3</td>\n",
       "      <td>865457.97</td>\n",
       "      <td>3</td>\n",
       "      <td>0</td>\n",
       "      <td>1</td>\n",
       "      <td>86874.90</td>\n",
       "      <td>0</td>\n",
       "    </tr>\n",
       "    <tr>\n",
       "      <th>9999</th>\n",
       "      <td>96267</td>\n",
       "      <td>828.0</td>\n",
       "      <td>Рыбинск</td>\n",
       "      <td>Ж</td>\n",
       "      <td>58.0</td>\n",
       "      <td>3</td>\n",
       "      <td>1180886.70</td>\n",
       "      <td>4</td>\n",
       "      <td>0</td>\n",
       "      <td>1</td>\n",
       "      <td>21422.37</td>\n",
       "      <td>0</td>\n",
       "    </tr>\n",
       "  </tbody>\n",
       "</table>\n",
       "<p>10000 rows × 12 columns</p>\n",
       "</div>"
      ],
      "text/plain": [
       "      USERID  score       city gender   age  equity     balance  products  \\\n",
       "0     183012  850.0    Рыбинск      Ж  25.0       1    59214.82         2   \n",
       "1     146556  861.0    Рыбинск      Ж  37.0       5   850594.33         3   \n",
       "2     120722  892.0    Рыбинск      Ж  30.0       0         NaN         1   \n",
       "3     225363  866.0  Ярославль      Ж  51.0       5  1524746.26         2   \n",
       "4     157978  730.0  Ярославль      М  34.0       5      174.00         1   \n",
       "...      ...    ...        ...    ...   ...     ...         ...       ...   \n",
       "9995  120553  814.0    Рыбинск      М  27.0       1    78144.65         1   \n",
       "9996  139170  894.0  Ярославль      М  46.0       0         NaN         1   \n",
       "9997  115639  903.0  Ярославль      М  24.0       0         NaN         2   \n",
       "9998  148700  777.0  Ярославль      Ж  68.0       3   865457.97         3   \n",
       "9999   96267  828.0    Рыбинск      Ж  58.0       3  1180886.70         4   \n",
       "\n",
       "      credit_card  last_activity  EST_SALARY  churn  \n",
       "0               0              1    75719.14      1  \n",
       "1               1              0    86621.77      0  \n",
       "2               1              1   107683.34      0  \n",
       "3               0              1   174423.53      1  \n",
       "4               1              0    67353.16      1  \n",
       "...           ...            ...         ...    ...  \n",
       "9995            0              1    18943.64      0  \n",
       "9996            1              0   196898.29      0  \n",
       "9997            1              1   108905.09      0  \n",
       "9998            0              1    86874.90      0  \n",
       "9999            0              1    21422.37      0  \n",
       "\n",
       "[10000 rows x 12 columns]"
      ]
     },
     "metadata": {},
     "output_type": "display_data"
    },
    {
     "name": "stdout",
     "output_type": "stream",
     "text": [
      "------------------------------------------------------------------------------------------------------------------------\n",
      "                                                Общая информация по датасету                                                 \n",
      "\n",
      "<class 'pandas.core.frame.DataFrame'>\n",
      "RangeIndex: 10000 entries, 0 to 9999\n",
      "Data columns (total 12 columns):\n",
      " #   Column         Non-Null Count  Dtype  \n",
      "---  ------         --------------  -----  \n",
      " 0   USERID         10000 non-null  int64  \n",
      " 1   score          10000 non-null  float64\n",
      " 2   city           10000 non-null  object \n",
      " 3   gender         10000 non-null  object \n",
      " 4   age            9974 non-null   float64\n",
      " 5   equity         10000 non-null  int64  \n",
      " 6   balance        7705 non-null   float64\n",
      " 7   products       10000 non-null  int64  \n",
      " 8   credit_card    10000 non-null  int64  \n",
      " 9   last_activity  10000 non-null  int64  \n",
      " 10  EST_SALARY     10000 non-null  float64\n",
      " 11  churn          10000 non-null  int64  \n",
      "dtypes: float64(4), int64(6), object(2)\n",
      "memory usage: 937.6+ KB\n",
      "------------------------------------------------------------------------------------------------------------------------\n",
      "                                   Количество пропусков и их доля от всех строк в колонке                                    \n"
     ]
    },
    {
     "data": {
      "text/html": [
       "<div>\n",
       "<style scoped>\n",
       "    .dataframe tbody tr th:only-of-type {\n",
       "        vertical-align: middle;\n",
       "    }\n",
       "\n",
       "    .dataframe tbody tr th {\n",
       "        vertical-align: top;\n",
       "    }\n",
       "\n",
       "    .dataframe thead th {\n",
       "        text-align: right;\n",
       "    }\n",
       "</style>\n",
       "<table border=\"1\" class=\"dataframe\">\n",
       "  <thead>\n",
       "    <tr style=\"text-align: right;\">\n",
       "      <th></th>\n",
       "      <th>columns</th>\n",
       "      <th>nan_count</th>\n",
       "      <th>nan_ratio</th>\n",
       "    </tr>\n",
       "  </thead>\n",
       "  <tbody>\n",
       "    <tr>\n",
       "      <th>6</th>\n",
       "      <td>balance</td>\n",
       "      <td>2295</td>\n",
       "      <td>22.95%</td>\n",
       "    </tr>\n",
       "    <tr>\n",
       "      <th>4</th>\n",
       "      <td>age</td>\n",
       "      <td>26</td>\n",
       "      <td>0.26%</td>\n",
       "    </tr>\n",
       "    <tr>\n",
       "      <th>0</th>\n",
       "      <td>USERID</td>\n",
       "      <td>0</td>\n",
       "      <td>0.00%</td>\n",
       "    </tr>\n",
       "    <tr>\n",
       "      <th>1</th>\n",
       "      <td>score</td>\n",
       "      <td>0</td>\n",
       "      <td>0.00%</td>\n",
       "    </tr>\n",
       "    <tr>\n",
       "      <th>2</th>\n",
       "      <td>city</td>\n",
       "      <td>0</td>\n",
       "      <td>0.00%</td>\n",
       "    </tr>\n",
       "    <tr>\n",
       "      <th>3</th>\n",
       "      <td>gender</td>\n",
       "      <td>0</td>\n",
       "      <td>0.00%</td>\n",
       "    </tr>\n",
       "    <tr>\n",
       "      <th>5</th>\n",
       "      <td>equity</td>\n",
       "      <td>0</td>\n",
       "      <td>0.00%</td>\n",
       "    </tr>\n",
       "    <tr>\n",
       "      <th>7</th>\n",
       "      <td>products</td>\n",
       "      <td>0</td>\n",
       "      <td>0.00%</td>\n",
       "    </tr>\n",
       "    <tr>\n",
       "      <th>8</th>\n",
       "      <td>credit_card</td>\n",
       "      <td>0</td>\n",
       "      <td>0.00%</td>\n",
       "    </tr>\n",
       "    <tr>\n",
       "      <th>9</th>\n",
       "      <td>last_activity</td>\n",
       "      <td>0</td>\n",
       "      <td>0.00%</td>\n",
       "    </tr>\n",
       "    <tr>\n",
       "      <th>10</th>\n",
       "      <td>EST_SALARY</td>\n",
       "      <td>0</td>\n",
       "      <td>0.00%</td>\n",
       "    </tr>\n",
       "    <tr>\n",
       "      <th>11</th>\n",
       "      <td>churn</td>\n",
       "      <td>0</td>\n",
       "      <td>0.00%</td>\n",
       "    </tr>\n",
       "  </tbody>\n",
       "</table>\n",
       "</div>"
      ],
      "text/plain": [
       "          columns  nan_count nan_ratio\n",
       "6         balance       2295    22.95%\n",
       "4             age         26     0.26%\n",
       "0          USERID          0     0.00%\n",
       "1           score          0     0.00%\n",
       "2            city          0     0.00%\n",
       "3          gender          0     0.00%\n",
       "5          equity          0     0.00%\n",
       "7        products          0     0.00%\n",
       "8     credit_card          0     0.00%\n",
       "9   last_activity          0     0.00%\n",
       "10     EST_SALARY          0     0.00%\n",
       "11          churn          0     0.00%"
      ]
     },
     "metadata": {},
     "output_type": "display_data"
    },
    {
     "name": "stdout",
     "output_type": "stream",
     "text": [
      "------------------------------------------------------------------------------------------------------------------------\n",
      "Количество явных дубликатов в датасете: 0\n",
      "Доля явных дубликатов в датасете: 0.0%\n",
      "------------------------------------------------------------------------------------------------------------------------\n",
      "\n",
      "                                           Обзор cтатистических данных по датасету                                           \n"
     ]
    },
    {
     "data": {
      "text/html": [
       "<div>\n",
       "<style scoped>\n",
       "    .dataframe tbody tr th:only-of-type {\n",
       "        vertical-align: middle;\n",
       "    }\n",
       "\n",
       "    .dataframe tbody tr th {\n",
       "        vertical-align: top;\n",
       "    }\n",
       "\n",
       "    .dataframe thead th {\n",
       "        text-align: right;\n",
       "    }\n",
       "</style>\n",
       "<table border=\"1\" class=\"dataframe\">\n",
       "  <thead>\n",
       "    <tr style=\"text-align: right;\">\n",
       "      <th></th>\n",
       "      <th>USERID</th>\n",
       "      <th>score</th>\n",
       "      <th>age</th>\n",
       "      <th>equity</th>\n",
       "      <th>balance</th>\n",
       "      <th>products</th>\n",
       "      <th>credit_card</th>\n",
       "      <th>last_activity</th>\n",
       "      <th>EST_SALARY</th>\n",
       "      <th>churn</th>\n",
       "    </tr>\n",
       "  </thead>\n",
       "  <tbody>\n",
       "    <tr>\n",
       "      <th>count</th>\n",
       "      <td>10000.00000</td>\n",
       "      <td>10000.000000</td>\n",
       "      <td>9974.000000</td>\n",
       "      <td>10000.000000</td>\n",
       "      <td>7.705000e+03</td>\n",
       "      <td>10000.000000</td>\n",
       "      <td>10000.000000</td>\n",
       "      <td>10000.000000</td>\n",
       "      <td>1.000000e+04</td>\n",
       "      <td>10000.000000</td>\n",
       "    </tr>\n",
       "    <tr>\n",
       "      <th>mean</th>\n",
       "      <td>171814.71260</td>\n",
       "      <td>848.699400</td>\n",
       "      <td>42.734409</td>\n",
       "      <td>2.627600</td>\n",
       "      <td>8.277943e+05</td>\n",
       "      <td>1.870100</td>\n",
       "      <td>0.680400</td>\n",
       "      <td>0.523500</td>\n",
       "      <td>1.478669e+05</td>\n",
       "      <td>0.182000</td>\n",
       "    </tr>\n",
       "    <tr>\n",
       "      <th>std</th>\n",
       "      <td>33708.23812</td>\n",
       "      <td>65.448519</td>\n",
       "      <td>12.179971</td>\n",
       "      <td>1.980836</td>\n",
       "      <td>1.980614e+06</td>\n",
       "      <td>0.792647</td>\n",
       "      <td>0.466345</td>\n",
       "      <td>0.499472</td>\n",
       "      <td>1.393885e+05</td>\n",
       "      <td>0.385864</td>\n",
       "    </tr>\n",
       "    <tr>\n",
       "      <th>min</th>\n",
       "      <td>94561.00000</td>\n",
       "      <td>642.000000</td>\n",
       "      <td>18.000000</td>\n",
       "      <td>0.000000</td>\n",
       "      <td>0.000000e+00</td>\n",
       "      <td>0.000000</td>\n",
       "      <td>0.000000</td>\n",
       "      <td>0.000000</td>\n",
       "      <td>2.546300e+03</td>\n",
       "      <td>0.000000</td>\n",
       "    </tr>\n",
       "    <tr>\n",
       "      <th>25%</th>\n",
       "      <td>142810.25000</td>\n",
       "      <td>802.000000</td>\n",
       "      <td>33.000000</td>\n",
       "      <td>0.000000</td>\n",
       "      <td>2.955542e+05</td>\n",
       "      <td>1.000000</td>\n",
       "      <td>0.000000</td>\n",
       "      <td>0.000000</td>\n",
       "      <td>7.525190e+04</td>\n",
       "      <td>0.000000</td>\n",
       "    </tr>\n",
       "    <tr>\n",
       "      <th>50%</th>\n",
       "      <td>172728.00000</td>\n",
       "      <td>853.000000</td>\n",
       "      <td>40.000000</td>\n",
       "      <td>3.000000</td>\n",
       "      <td>5.242722e+05</td>\n",
       "      <td>2.000000</td>\n",
       "      <td>1.000000</td>\n",
       "      <td>1.000000</td>\n",
       "      <td>1.196581e+05</td>\n",
       "      <td>0.000000</td>\n",
       "    </tr>\n",
       "    <tr>\n",
       "      <th>75%</th>\n",
       "      <td>201261.75000</td>\n",
       "      <td>900.000000</td>\n",
       "      <td>51.000000</td>\n",
       "      <td>4.000000</td>\n",
       "      <td>9.807058e+05</td>\n",
       "      <td>2.000000</td>\n",
       "      <td>1.000000</td>\n",
       "      <td>1.000000</td>\n",
       "      <td>1.745005e+05</td>\n",
       "      <td>0.000000</td>\n",
       "    </tr>\n",
       "    <tr>\n",
       "      <th>max</th>\n",
       "      <td>229145.00000</td>\n",
       "      <td>1000.000000</td>\n",
       "      <td>86.000000</td>\n",
       "      <td>9.000000</td>\n",
       "      <td>1.191136e+08</td>\n",
       "      <td>5.000000</td>\n",
       "      <td>1.000000</td>\n",
       "      <td>1.000000</td>\n",
       "      <td>1.395064e+06</td>\n",
       "      <td>1.000000</td>\n",
       "    </tr>\n",
       "  </tbody>\n",
       "</table>\n",
       "</div>"
      ],
      "text/plain": [
       "             USERID         score          age        equity       balance  \\\n",
       "count   10000.00000  10000.000000  9974.000000  10000.000000  7.705000e+03   \n",
       "mean   171814.71260    848.699400    42.734409      2.627600  8.277943e+05   \n",
       "std     33708.23812     65.448519    12.179971      1.980836  1.980614e+06   \n",
       "min     94561.00000    642.000000    18.000000      0.000000  0.000000e+00   \n",
       "25%    142810.25000    802.000000    33.000000      0.000000  2.955542e+05   \n",
       "50%    172728.00000    853.000000    40.000000      3.000000  5.242722e+05   \n",
       "75%    201261.75000    900.000000    51.000000      4.000000  9.807058e+05   \n",
       "max    229145.00000   1000.000000    86.000000      9.000000  1.191136e+08   \n",
       "\n",
       "           products   credit_card  last_activity    EST_SALARY         churn  \n",
       "count  10000.000000  10000.000000   10000.000000  1.000000e+04  10000.000000  \n",
       "mean       1.870100      0.680400       0.523500  1.478669e+05      0.182000  \n",
       "std        0.792647      0.466345       0.499472  1.393885e+05      0.385864  \n",
       "min        0.000000      0.000000       0.000000  2.546300e+03      0.000000  \n",
       "25%        1.000000      0.000000       0.000000  7.525190e+04      0.000000  \n",
       "50%        2.000000      1.000000       1.000000  1.196581e+05      0.000000  \n",
       "75%        2.000000      1.000000       1.000000  1.745005e+05      0.000000  \n",
       "max        5.000000      1.000000       1.000000  1.395064e+06      1.000000  "
      ]
     },
     "metadata": {},
     "output_type": "display_data"
    }
   ],
   "source": [
    "# Проводим обзор данных\n",
    "df_review(df)"
   ]
  },
  {
   "cell_type": "markdown",
   "metadata": {},
   "source": [
    "**Вывод:**\n",
    "\n",
    "После первичного обзора данных, можно сказать о том, что в целом данные в порядке за исключением некоторых моментов, которые будут рассмотрены и исправлены при необходимости в дальнейшей предобработке:\n",
    "\n",
    "- Данные во всех колонках полные, за исключением `balance` (кол-во пропусков практически составляет **23%** от всех строк в датафрейме);\n",
    "\n",
    "- Названия столбцов имеют не единый стиль написания;\n",
    "\n",
    "- Найдены явные дубликаты, также, далее будет проверка на наличие неявных дубликатов;\n",
    "\n",
    "- Для категориальных значений вроде `gender` и `city` добавим столбцы с бинарными значениями с помощью ` one-hot кодирования`."
   ]
  },
  {
   "cell_type": "markdown",
   "metadata": {},
   "source": [
    "# Предобработка данных"
   ]
  },
  {
   "cell_type": "markdown",
   "metadata": {},
   "source": [
    "## Обработка пропусков"
   ]
  },
  {
   "cell_type": "markdown",
   "metadata": {},
   "source": [
    "Так как кол-во пропусков в столбце `balance` достаточно большой (около **23*%**) для начала попытаемся найти какую-либо взаимосвязь, чтобы решить можем ли мы чем-либо их заполнить или нет.\n",
    "\n",
    "Сперва посмотрим, встречаются ли `0` значения в балансе."
   ]
  },
  {
   "cell_type": "code",
   "execution_count": 6,
   "metadata": {
    "scrolled": true
   },
   "outputs": [
    {
     "data": {
      "text/html": [
       "<div>\n",
       "<style scoped>\n",
       "    .dataframe tbody tr th:only-of-type {\n",
       "        vertical-align: middle;\n",
       "    }\n",
       "\n",
       "    .dataframe tbody tr th {\n",
       "        vertical-align: top;\n",
       "    }\n",
       "\n",
       "    .dataframe thead th {\n",
       "        text-align: right;\n",
       "    }\n",
       "</style>\n",
       "<table border=\"1\" class=\"dataframe\">\n",
       "  <thead>\n",
       "    <tr style=\"text-align: right;\">\n",
       "      <th></th>\n",
       "      <th>USERID</th>\n",
       "      <th>score</th>\n",
       "      <th>city</th>\n",
       "      <th>gender</th>\n",
       "      <th>age</th>\n",
       "      <th>equity</th>\n",
       "      <th>balance</th>\n",
       "      <th>products</th>\n",
       "      <th>credit_card</th>\n",
       "      <th>last_activity</th>\n",
       "      <th>EST_SALARY</th>\n",
       "      <th>churn</th>\n",
       "    </tr>\n",
       "  </thead>\n",
       "  <tbody>\n",
       "    <tr>\n",
       "      <th>3900</th>\n",
       "      <td>179831</td>\n",
       "      <td>730.0</td>\n",
       "      <td>Ярославль</td>\n",
       "      <td>М</td>\n",
       "      <td>18.0</td>\n",
       "      <td>0</td>\n",
       "      <td>0.0</td>\n",
       "      <td>2</td>\n",
       "      <td>1</td>\n",
       "      <td>1</td>\n",
       "      <td>64548.33</td>\n",
       "      <td>0</td>\n",
       "    </tr>\n",
       "    <tr>\n",
       "      <th>6757</th>\n",
       "      <td>148456</td>\n",
       "      <td>813.0</td>\n",
       "      <td>Ярославль</td>\n",
       "      <td>М</td>\n",
       "      <td>20.0</td>\n",
       "      <td>2</td>\n",
       "      <td>0.0</td>\n",
       "      <td>2</td>\n",
       "      <td>1</td>\n",
       "      <td>0</td>\n",
       "      <td>23876.51</td>\n",
       "      <td>0</td>\n",
       "    </tr>\n",
       "  </tbody>\n",
       "</table>\n",
       "</div>"
      ],
      "text/plain": [
       "      USERID  score       city gender   age  equity  balance  products  \\\n",
       "3900  179831  730.0  Ярославль      М  18.0       0      0.0         2   \n",
       "6757  148456  813.0  Ярославль      М  20.0       2      0.0         2   \n",
       "\n",
       "      credit_card  last_activity  EST_SALARY  churn  \n",
       "3900            1              1    64548.33      0  \n",
       "6757            1              0    23876.51      0  "
      ]
     },
     "execution_count": 6,
     "metadata": {},
     "output_type": "execute_result"
    }
   ],
   "source": [
    "# Смотрим на 0 в балансе\n",
    "df.query('balance == 0')"
   ]
  },
  {
   "cell_type": "markdown",
   "metadata": {},
   "source": [
    "Да, мы нашли двух клиентов с нулевым балансом, поэтому будет некорректно заполнять пропуски `0`.\n",
    "\n",
    "Далее попытаемся найти закономерность пропусков в разрезе каждого столбика, для этого создадим функцию и затем поместим ее в цикл, чтобы перебрать каждую колонку и затем сделаем вывод. \n",
    "\n",
    "Для начала создадим необходмую функцию и затем используем ее в цикле."
   ]
  },
  {
   "cell_type": "code",
   "execution_count": 7,
   "metadata": {},
   "outputs": [],
   "source": [
    "# Функция на вход принимает датафрейм и колонку, группирует данные по данной колонке и считатет кол-во пропусков и их долю\n",
    "# И вовзращает сгруппированный датафрейм\n",
    "\n",
    "def df_nan(df,col):\n",
    "    data = df.groupby(col)[col].count().to_frame().rename(columns={col:'nan_num'}).reset_index()\n",
    "    data['nan_share'] = (100*data['nan_num']/data['nan_num'].sum()).map('{0:.2f}%'.format)\n",
    "    data = data.sort_values(by='nan_num',ascending=False)\n",
    "    return data"
   ]
  },
  {
   "cell_type": "code",
   "execution_count": 8,
   "metadata": {},
   "outputs": [],
   "source": [
    "# Создадим словарь для подписей таблиц\n",
    "col_dict = {\n",
    "            'city':'города',\n",
    "            'gender':'пола',\n",
    "            'equity':'примерной оценки собственности',\n",
    "            'products':'кол-ва используемых продуктов',\n",
    "            'credit_card':'наличия кредитной карты',\n",
    "            'last_activity':'активности',\n",
    "            'churn':'отточности клиента',\n",
    "}"
   ]
  },
  {
   "cell_type": "code",
   "execution_count": 9,
   "metadata": {
    "scrolled": true
   },
   "outputs": [
    {
     "name": "stdout",
     "output_type": "stream",
     "text": [
      "Пропуски в колонке balance в разрезе города\n"
     ]
    },
    {
     "data": {
      "text/html": [
       "<div>\n",
       "<style scoped>\n",
       "    .dataframe tbody tr th:only-of-type {\n",
       "        vertical-align: middle;\n",
       "    }\n",
       "\n",
       "    .dataframe tbody tr th {\n",
       "        vertical-align: top;\n",
       "    }\n",
       "\n",
       "    .dataframe thead th {\n",
       "        text-align: right;\n",
       "    }\n",
       "</style>\n",
       "<table border=\"1\" class=\"dataframe\">\n",
       "  <thead>\n",
       "    <tr style=\"text-align: right;\">\n",
       "      <th></th>\n",
       "      <th>city</th>\n",
       "      <th>nan_num</th>\n",
       "      <th>nan_share</th>\n",
       "    </tr>\n",
       "  </thead>\n",
       "  <tbody>\n",
       "    <tr>\n",
       "      <th>2</th>\n",
       "      <td>Ярославль</td>\n",
       "      <td>1467</td>\n",
       "      <td>63.92%</td>\n",
       "    </tr>\n",
       "    <tr>\n",
       "      <th>1</th>\n",
       "      <td>Рыбинск</td>\n",
       "      <td>593</td>\n",
       "      <td>25.84%</td>\n",
       "    </tr>\n",
       "    <tr>\n",
       "      <th>0</th>\n",
       "      <td>Ростов</td>\n",
       "      <td>235</td>\n",
       "      <td>10.24%</td>\n",
       "    </tr>\n",
       "  </tbody>\n",
       "</table>\n",
       "</div>"
      ],
      "text/plain": [
       "        city  nan_num nan_share\n",
       "2  Ярославль     1467    63.92%\n",
       "1    Рыбинск      593    25.84%\n",
       "0     Ростов      235    10.24%"
      ]
     },
     "metadata": {},
     "output_type": "display_data"
    },
    {
     "name": "stdout",
     "output_type": "stream",
     "text": [
      "-----------------------------------------------------------------\n",
      "Пропуски в колонке balance в разрезе пола\n"
     ]
    },
    {
     "data": {
      "text/html": [
       "<div>\n",
       "<style scoped>\n",
       "    .dataframe tbody tr th:only-of-type {\n",
       "        vertical-align: middle;\n",
       "    }\n",
       "\n",
       "    .dataframe tbody tr th {\n",
       "        vertical-align: top;\n",
       "    }\n",
       "\n",
       "    .dataframe thead th {\n",
       "        text-align: right;\n",
       "    }\n",
       "</style>\n",
       "<table border=\"1\" class=\"dataframe\">\n",
       "  <thead>\n",
       "    <tr style=\"text-align: right;\">\n",
       "      <th></th>\n",
       "      <th>gender</th>\n",
       "      <th>nan_num</th>\n",
       "      <th>nan_share</th>\n",
       "    </tr>\n",
       "  </thead>\n",
       "  <tbody>\n",
       "    <tr>\n",
       "      <th>1</th>\n",
       "      <td>М</td>\n",
       "      <td>1282</td>\n",
       "      <td>55.86%</td>\n",
       "    </tr>\n",
       "    <tr>\n",
       "      <th>0</th>\n",
       "      <td>Ж</td>\n",
       "      <td>1013</td>\n",
       "      <td>44.14%</td>\n",
       "    </tr>\n",
       "  </tbody>\n",
       "</table>\n",
       "</div>"
      ],
      "text/plain": [
       "  gender  nan_num nan_share\n",
       "1      М     1282    55.86%\n",
       "0      Ж     1013    44.14%"
      ]
     },
     "metadata": {},
     "output_type": "display_data"
    },
    {
     "name": "stdout",
     "output_type": "stream",
     "text": [
      "-----------------------------------------------------------------\n",
      "Пропуски в колонке balance в разрезе примерной оценки собственности\n"
     ]
    },
    {
     "data": {
      "text/html": [
       "<div>\n",
       "<style scoped>\n",
       "    .dataframe tbody tr th:only-of-type {\n",
       "        vertical-align: middle;\n",
       "    }\n",
       "\n",
       "    .dataframe tbody tr th {\n",
       "        vertical-align: top;\n",
       "    }\n",
       "\n",
       "    .dataframe thead th {\n",
       "        text-align: right;\n",
       "    }\n",
       "</style>\n",
       "<table border=\"1\" class=\"dataframe\">\n",
       "  <thead>\n",
       "    <tr style=\"text-align: right;\">\n",
       "      <th></th>\n",
       "      <th>equity</th>\n",
       "      <th>nan_num</th>\n",
       "      <th>nan_share</th>\n",
       "    </tr>\n",
       "  </thead>\n",
       "  <tbody>\n",
       "    <tr>\n",
       "      <th>0</th>\n",
       "      <td>0</td>\n",
       "      <td>2180</td>\n",
       "      <td>94.99%</td>\n",
       "    </tr>\n",
       "    <tr>\n",
       "      <th>1</th>\n",
       "      <td>1</td>\n",
       "      <td>114</td>\n",
       "      <td>4.97%</td>\n",
       "    </tr>\n",
       "    <tr>\n",
       "      <th>2</th>\n",
       "      <td>3</td>\n",
       "      <td>1</td>\n",
       "      <td>0.04%</td>\n",
       "    </tr>\n",
       "  </tbody>\n",
       "</table>\n",
       "</div>"
      ],
      "text/plain": [
       "   equity  nan_num nan_share\n",
       "0       0     2180    94.99%\n",
       "1       1      114     4.97%\n",
       "2       3        1     0.04%"
      ]
     },
     "metadata": {},
     "output_type": "display_data"
    },
    {
     "name": "stdout",
     "output_type": "stream",
     "text": [
      "-----------------------------------------------------------------\n",
      "Пропуски в колонке balance в разрезе кол-ва используемых продуктов\n"
     ]
    },
    {
     "data": {
      "text/html": [
       "<div>\n",
       "<style scoped>\n",
       "    .dataframe tbody tr th:only-of-type {\n",
       "        vertical-align: middle;\n",
       "    }\n",
       "\n",
       "    .dataframe tbody tr th {\n",
       "        vertical-align: top;\n",
       "    }\n",
       "\n",
       "    .dataframe thead th {\n",
       "        text-align: right;\n",
       "    }\n",
       "</style>\n",
       "<table border=\"1\" class=\"dataframe\">\n",
       "  <thead>\n",
       "    <tr style=\"text-align: right;\">\n",
       "      <th></th>\n",
       "      <th>products</th>\n",
       "      <th>nan_num</th>\n",
       "      <th>nan_share</th>\n",
       "    </tr>\n",
       "  </thead>\n",
       "  <tbody>\n",
       "    <tr>\n",
       "      <th>1</th>\n",
       "      <td>1</td>\n",
       "      <td>1950</td>\n",
       "      <td>84.97%</td>\n",
       "    </tr>\n",
       "    <tr>\n",
       "      <th>2</th>\n",
       "      <td>2</td>\n",
       "      <td>315</td>\n",
       "      <td>13.73%</td>\n",
       "    </tr>\n",
       "    <tr>\n",
       "      <th>3</th>\n",
       "      <td>3</td>\n",
       "      <td>29</td>\n",
       "      <td>1.26%</td>\n",
       "    </tr>\n",
       "    <tr>\n",
       "      <th>0</th>\n",
       "      <td>0</td>\n",
       "      <td>1</td>\n",
       "      <td>0.04%</td>\n",
       "    </tr>\n",
       "  </tbody>\n",
       "</table>\n",
       "</div>"
      ],
      "text/plain": [
       "   products  nan_num nan_share\n",
       "1         1     1950    84.97%\n",
       "2         2      315    13.73%\n",
       "3         3       29     1.26%\n",
       "0         0        1     0.04%"
      ]
     },
     "metadata": {},
     "output_type": "display_data"
    },
    {
     "name": "stdout",
     "output_type": "stream",
     "text": [
      "-----------------------------------------------------------------\n",
      "Пропуски в колонке balance в разрезе наличия кредитной карты\n"
     ]
    },
    {
     "data": {
      "text/html": [
       "<div>\n",
       "<style scoped>\n",
       "    .dataframe tbody tr th:only-of-type {\n",
       "        vertical-align: middle;\n",
       "    }\n",
       "\n",
       "    .dataframe tbody tr th {\n",
       "        vertical-align: top;\n",
       "    }\n",
       "\n",
       "    .dataframe thead th {\n",
       "        text-align: right;\n",
       "    }\n",
       "</style>\n",
       "<table border=\"1\" class=\"dataframe\">\n",
       "  <thead>\n",
       "    <tr style=\"text-align: right;\">\n",
       "      <th></th>\n",
       "      <th>credit_card</th>\n",
       "      <th>nan_num</th>\n",
       "      <th>nan_share</th>\n",
       "    </tr>\n",
       "  </thead>\n",
       "  <tbody>\n",
       "    <tr>\n",
       "      <th>1</th>\n",
       "      <td>1</td>\n",
       "      <td>1872</td>\n",
       "      <td>81.57%</td>\n",
       "    </tr>\n",
       "    <tr>\n",
       "      <th>0</th>\n",
       "      <td>0</td>\n",
       "      <td>423</td>\n",
       "      <td>18.43%</td>\n",
       "    </tr>\n",
       "  </tbody>\n",
       "</table>\n",
       "</div>"
      ],
      "text/plain": [
       "   credit_card  nan_num nan_share\n",
       "1            1     1872    81.57%\n",
       "0            0      423    18.43%"
      ]
     },
     "metadata": {},
     "output_type": "display_data"
    },
    {
     "name": "stdout",
     "output_type": "stream",
     "text": [
      "-----------------------------------------------------------------\n",
      "Пропуски в колонке balance в разрезе активности\n"
     ]
    },
    {
     "data": {
      "text/html": [
       "<div>\n",
       "<style scoped>\n",
       "    .dataframe tbody tr th:only-of-type {\n",
       "        vertical-align: middle;\n",
       "    }\n",
       "\n",
       "    .dataframe tbody tr th {\n",
       "        vertical-align: top;\n",
       "    }\n",
       "\n",
       "    .dataframe thead th {\n",
       "        text-align: right;\n",
       "    }\n",
       "</style>\n",
       "<table border=\"1\" class=\"dataframe\">\n",
       "  <thead>\n",
       "    <tr style=\"text-align: right;\">\n",
       "      <th></th>\n",
       "      <th>last_activity</th>\n",
       "      <th>nan_num</th>\n",
       "      <th>nan_share</th>\n",
       "    </tr>\n",
       "  </thead>\n",
       "  <tbody>\n",
       "    <tr>\n",
       "      <th>1</th>\n",
       "      <td>1</td>\n",
       "      <td>1261</td>\n",
       "      <td>54.95%</td>\n",
       "    </tr>\n",
       "    <tr>\n",
       "      <th>0</th>\n",
       "      <td>0</td>\n",
       "      <td>1034</td>\n",
       "      <td>45.05%</td>\n",
       "    </tr>\n",
       "  </tbody>\n",
       "</table>\n",
       "</div>"
      ],
      "text/plain": [
       "   last_activity  nan_num nan_share\n",
       "1              1     1261    54.95%\n",
       "0              0     1034    45.05%"
      ]
     },
     "metadata": {},
     "output_type": "display_data"
    },
    {
     "name": "stdout",
     "output_type": "stream",
     "text": [
      "-----------------------------------------------------------------\n",
      "Пропуски в колонке balance в разрезе отточности клиента\n"
     ]
    },
    {
     "data": {
      "text/html": [
       "<div>\n",
       "<style scoped>\n",
       "    .dataframe tbody tr th:only-of-type {\n",
       "        vertical-align: middle;\n",
       "    }\n",
       "\n",
       "    .dataframe tbody tr th {\n",
       "        vertical-align: top;\n",
       "    }\n",
       "\n",
       "    .dataframe thead th {\n",
       "        text-align: right;\n",
       "    }\n",
       "</style>\n",
       "<table border=\"1\" class=\"dataframe\">\n",
       "  <thead>\n",
       "    <tr style=\"text-align: right;\">\n",
       "      <th></th>\n",
       "      <th>churn</th>\n",
       "      <th>nan_num</th>\n",
       "      <th>nan_share</th>\n",
       "    </tr>\n",
       "  </thead>\n",
       "  <tbody>\n",
       "    <tr>\n",
       "      <th>0</th>\n",
       "      <td>0</td>\n",
       "      <td>2282</td>\n",
       "      <td>99.43%</td>\n",
       "    </tr>\n",
       "    <tr>\n",
       "      <th>1</th>\n",
       "      <td>1</td>\n",
       "      <td>13</td>\n",
       "      <td>0.57%</td>\n",
       "    </tr>\n",
       "  </tbody>\n",
       "</table>\n",
       "</div>"
      ],
      "text/plain": [
       "   churn  nan_num nan_share\n",
       "0      0     2282    99.43%\n",
       "1      1       13     0.57%"
      ]
     },
     "metadata": {},
     "output_type": "display_data"
    },
    {
     "name": "stdout",
     "output_type": "stream",
     "text": [
      "-----------------------------------------------------------------\n"
     ]
    }
   ],
   "source": [
    "# Для удобства создадим датафрейм с пропусками в колонке 'balance'\n",
    "nan_balance = df[df['balance'].isna()]\n",
    "\n",
    "# Создадим цикл, который для каждой колонки в отфильтрованной таблице применит ранее созданную функцию\n",
    "for col in ['city','gender', 'equity','products','credit_card','last_activity','churn']:\n",
    "    # Выведем каждую таблицу\n",
    "    print(f'Пропуски в колонке balance в разрезе {col_dict[col]}')\n",
    "    display(df_nan(nan_balance,col))\n",
    "    print('-'*65)"
   ]
  },
  {
   "cell_type": "markdown",
   "metadata": {},
   "source": [
    "Мы видим, что наибольшее кол-во пропусков находятся по следующим признакам:\n",
    "\n",
    "- `churn` - **2282** или **99.43%** пропусков составляют неотточные клиенты банка;\n",
    "\n",
    "- `credit_card` - **1872** или **81.57%**  пропусков составляют клиенты, имеющие кредитную карту;\n",
    "- `equity` - **2180** или **94.99%** пропусков составляют без приблизительной оценки стоимости собственности;\n",
    "- `products` - **1950** или **84.97%** пропусков составляют клиенты с `1` продуктом банка.\n",
    "\n",
    "Составим \"портрет\" из комбинации признаков, в котором чаще всего встречаются пропуски"
   ]
  },
  {
   "cell_type": "code",
   "execution_count": 10,
   "metadata": {},
   "outputs": [
    {
     "data": {
      "text/html": [
       "<div>\n",
       "<style scoped>\n",
       "    .dataframe tbody tr th:only-of-type {\n",
       "        vertical-align: middle;\n",
       "    }\n",
       "\n",
       "    .dataframe tbody tr th {\n",
       "        vertical-align: top;\n",
       "    }\n",
       "\n",
       "    .dataframe thead th {\n",
       "        text-align: right;\n",
       "    }\n",
       "</style>\n",
       "<table border=\"1\" class=\"dataframe\">\n",
       "  <thead>\n",
       "    <tr style=\"text-align: right;\">\n",
       "      <th></th>\n",
       "      <th>churn</th>\n",
       "      <th>credit_card</th>\n",
       "      <th>equity</th>\n",
       "      <th>products</th>\n",
       "      <th>USERID</th>\n",
       "      <th>nan_share</th>\n",
       "    </tr>\n",
       "  </thead>\n",
       "  <tbody>\n",
       "    <tr>\n",
       "      <th>5</th>\n",
       "      <td>0</td>\n",
       "      <td>1</td>\n",
       "      <td>0</td>\n",
       "      <td>1</td>\n",
       "      <td>1507</td>\n",
       "      <td>65.66%</td>\n",
       "    </tr>\n",
       "    <tr>\n",
       "      <th>0</th>\n",
       "      <td>0</td>\n",
       "      <td>0</td>\n",
       "      <td>0</td>\n",
       "      <td>1</td>\n",
       "      <td>337</td>\n",
       "      <td>14.68%</td>\n",
       "    </tr>\n",
       "    <tr>\n",
       "      <th>6</th>\n",
       "      <td>0</td>\n",
       "      <td>1</td>\n",
       "      <td>0</td>\n",
       "      <td>2</td>\n",
       "      <td>245</td>\n",
       "      <td>10.68%</td>\n",
       "    </tr>\n",
       "    <tr>\n",
       "      <th>8</th>\n",
       "      <td>0</td>\n",
       "      <td>1</td>\n",
       "      <td>1</td>\n",
       "      <td>1</td>\n",
       "      <td>84</td>\n",
       "      <td>3.66%</td>\n",
       "    </tr>\n",
       "    <tr>\n",
       "      <th>1</th>\n",
       "      <td>0</td>\n",
       "      <td>0</td>\n",
       "      <td>0</td>\n",
       "      <td>2</td>\n",
       "      <td>55</td>\n",
       "      <td>2.40%</td>\n",
       "    </tr>\n",
       "  </tbody>\n",
       "</table>\n",
       "</div>"
      ],
      "text/plain": [
       "   churn  credit_card  equity  products  USERID nan_share\n",
       "5      0            1       0         1    1507    65.66%\n",
       "0      0            0       0         1     337    14.68%\n",
       "6      0            1       0         2     245    10.68%\n",
       "8      0            1       1         1      84     3.66%\n",
       "1      0            0       0         2      55     2.40%"
      ]
     },
     "execution_count": 10,
     "metadata": {},
     "output_type": "execute_result"
    }
   ],
   "source": [
    "# Создадим датафрейм с выделенными раннее признаками и посчитаем кол-во пропусков и их долю в связке\n",
    "\n",
    "nan_profile = nan_balance.groupby(['churn','credit_card','equity','products'])['USERID'].count().reset_index()\n",
    "nan_profile['nan_share'] = (100*nan_profile['USERID']/nan_profile['USERID'].sum()).map('{0:.2f}%'.format)\n",
    "nan_profile = nan_profile.sort_values(by='USERID',ascending=False).head()\n",
    "nan_profile"
   ]
  },
  {
   "cell_type": "markdown",
   "metadata": {},
   "source": [
    "**Вывод:**\n",
    "\n",
    "Как мы видим, больше всего пропусков (**1507** или **65.66%** от общего числа пропусков) у неотточных клиентов, имеющих кредитную карту, 1 продукт и не имеющие приблизительную оценку их собственности.\n",
    "\n",
    "Вряд ли это случайность, возможно какая-то техническая ошибка или особенность заполнения данных банком. Однозначно на этот вопрос ответить нельзя. Поэтому будет целесообразней оставить пропуски незаполненными, либо поставить заглушки в дальнейшем анализе, при необходимости (на данном этапе оставим все как есть)."
   ]
  },
  {
   "cell_type": "markdown",
   "metadata": {},
   "source": [
    "## Обработка дубликатов"
   ]
  },
  {
   "cell_type": "code",
   "execution_count": 11,
   "metadata": {},
   "outputs": [],
   "source": [
    "# Для начала удаляим выявленный в обзоре данных явный дубликат\n",
    "df.drop_duplicates(inplace=True)"
   ]
  },
  {
   "cell_type": "markdown",
   "metadata": {},
   "source": [
    "Далее попытаемся найти неявные дубликаты. Самый главный признак по которому не должно быть дубликатов это - `USERID`. Займемся проверкой. "
   ]
  },
  {
   "cell_type": "code",
   "execution_count": 12,
   "metadata": {},
   "outputs": [
    {
     "name": "stdout",
     "output_type": "stream",
     "text": [
      "Кол-во неявных дубликатов по USERID составляет - 73\n"
     ]
    }
   ],
   "source": [
    "# Считаем дубликаты по USERID\n",
    "print(f'Кол-во неявных дубликатов по USERID составляет - {df.USERID.duplicated().sum()}')"
   ]
  },
  {
   "cell_type": "markdown",
   "metadata": {},
   "source": [
    "Мы видим 72 дублирующихся клиентов. Ввиду того, что при первоначальном знакомстве данных они не были выявлены как явные дубликаты, записи в строках с одним `USERID` должны отличаться. Выведем все эти строки и решим, что с ними делать."
   ]
  },
  {
   "cell_type": "code",
   "execution_count": 13,
   "metadata": {},
   "outputs": [
    {
     "data": {
      "text/html": [
       "<div>\n",
       "<style scoped>\n",
       "    .dataframe tbody tr th:only-of-type {\n",
       "        vertical-align: middle;\n",
       "    }\n",
       "\n",
       "    .dataframe tbody tr th {\n",
       "        vertical-align: top;\n",
       "    }\n",
       "\n",
       "    .dataframe thead th {\n",
       "        text-align: right;\n",
       "    }\n",
       "</style>\n",
       "<table border=\"1\" class=\"dataframe\">\n",
       "  <thead>\n",
       "    <tr style=\"text-align: right;\">\n",
       "      <th></th>\n",
       "      <th>USERID</th>\n",
       "      <th>score</th>\n",
       "      <th>city</th>\n",
       "      <th>gender</th>\n",
       "      <th>age</th>\n",
       "      <th>equity</th>\n",
       "      <th>balance</th>\n",
       "      <th>products</th>\n",
       "      <th>credit_card</th>\n",
       "      <th>last_activity</th>\n",
       "      <th>EST_SALARY</th>\n",
       "      <th>churn</th>\n",
       "    </tr>\n",
       "  </thead>\n",
       "  <tbody>\n",
       "    <tr>\n",
       "      <th>1893</th>\n",
       "      <td>116540</td>\n",
       "      <td>883.0</td>\n",
       "      <td>Рыбинск</td>\n",
       "      <td>Ж</td>\n",
       "      <td>55.0</td>\n",
       "      <td>1</td>\n",
       "      <td>362756.49</td>\n",
       "      <td>3</td>\n",
       "      <td>0</td>\n",
       "      <td>1</td>\n",
       "      <td>175920.48</td>\n",
       "      <td>1</td>\n",
       "    </tr>\n",
       "    <tr>\n",
       "      <th>7694</th>\n",
       "      <td>116540</td>\n",
       "      <td>887.0</td>\n",
       "      <td>Ярославль</td>\n",
       "      <td>Ж</td>\n",
       "      <td>38.0</td>\n",
       "      <td>0</td>\n",
       "      <td>NaN</td>\n",
       "      <td>1</td>\n",
       "      <td>0</td>\n",
       "      <td>1</td>\n",
       "      <td>119247.61</td>\n",
       "      <td>0</td>\n",
       "    </tr>\n",
       "    <tr>\n",
       "      <th>7542</th>\n",
       "      <td>117943</td>\n",
       "      <td>880.0</td>\n",
       "      <td>Ярославль</td>\n",
       "      <td>Ж</td>\n",
       "      <td>40.0</td>\n",
       "      <td>0</td>\n",
       "      <td>NaN</td>\n",
       "      <td>1</td>\n",
       "      <td>1</td>\n",
       "      <td>0</td>\n",
       "      <td>137718.93</td>\n",
       "      <td>0</td>\n",
       "    </tr>\n",
       "    <tr>\n",
       "      <th>4866</th>\n",
       "      <td>117943</td>\n",
       "      <td>855.0</td>\n",
       "      <td>Рыбинск</td>\n",
       "      <td>Ж</td>\n",
       "      <td>32.0</td>\n",
       "      <td>6</td>\n",
       "      <td>1036832.93</td>\n",
       "      <td>4</td>\n",
       "      <td>1</td>\n",
       "      <td>1</td>\n",
       "      <td>107792.71</td>\n",
       "      <td>1</td>\n",
       "    </tr>\n",
       "    <tr>\n",
       "      <th>5896</th>\n",
       "      <td>120258</td>\n",
       "      <td>905.0</td>\n",
       "      <td>Ярославль</td>\n",
       "      <td>М</td>\n",
       "      <td>30.0</td>\n",
       "      <td>0</td>\n",
       "      <td>NaN</td>\n",
       "      <td>1</td>\n",
       "      <td>1</td>\n",
       "      <td>1</td>\n",
       "      <td>146427.96</td>\n",
       "      <td>0</td>\n",
       "    </tr>\n",
       "    <tr>\n",
       "      <th>...</th>\n",
       "      <td>...</td>\n",
       "      <td>...</td>\n",
       "      <td>...</td>\n",
       "      <td>...</td>\n",
       "      <td>...</td>\n",
       "      <td>...</td>\n",
       "      <td>...</td>\n",
       "      <td>...</td>\n",
       "      <td>...</td>\n",
       "      <td>...</td>\n",
       "      <td>...</td>\n",
       "      <td>...</td>\n",
       "    </tr>\n",
       "    <tr>\n",
       "      <th>2597</th>\n",
       "      <td>226719</td>\n",
       "      <td>990.0</td>\n",
       "      <td>Ярославль</td>\n",
       "      <td>М</td>\n",
       "      <td>37.0</td>\n",
       "      <td>4</td>\n",
       "      <td>14648692.14</td>\n",
       "      <td>2</td>\n",
       "      <td>0</td>\n",
       "      <td>0</td>\n",
       "      <td>934412.61</td>\n",
       "      <td>1</td>\n",
       "    </tr>\n",
       "    <tr>\n",
       "      <th>8205</th>\n",
       "      <td>227795</td>\n",
       "      <td>840.0</td>\n",
       "      <td>Рыбинск</td>\n",
       "      <td>М</td>\n",
       "      <td>34.0</td>\n",
       "      <td>2</td>\n",
       "      <td>350768.03</td>\n",
       "      <td>1</td>\n",
       "      <td>1</td>\n",
       "      <td>0</td>\n",
       "      <td>102036.14</td>\n",
       "      <td>1</td>\n",
       "    </tr>\n",
       "    <tr>\n",
       "      <th>8497</th>\n",
       "      <td>227795</td>\n",
       "      <td>839.0</td>\n",
       "      <td>Ярославль</td>\n",
       "      <td>М</td>\n",
       "      <td>34.0</td>\n",
       "      <td>2</td>\n",
       "      <td>326593.14</td>\n",
       "      <td>2</td>\n",
       "      <td>1</td>\n",
       "      <td>0</td>\n",
       "      <td>103314.92</td>\n",
       "      <td>0</td>\n",
       "    </tr>\n",
       "    <tr>\n",
       "      <th>6457</th>\n",
       "      <td>228075</td>\n",
       "      <td>839.0</td>\n",
       "      <td>Рыбинск</td>\n",
       "      <td>М</td>\n",
       "      <td>39.0</td>\n",
       "      <td>5</td>\n",
       "      <td>507199.85</td>\n",
       "      <td>3</td>\n",
       "      <td>0</td>\n",
       "      <td>1</td>\n",
       "      <td>85195.80</td>\n",
       "      <td>0</td>\n",
       "    </tr>\n",
       "    <tr>\n",
       "      <th>1247</th>\n",
       "      <td>228075</td>\n",
       "      <td>932.0</td>\n",
       "      <td>Ярославль</td>\n",
       "      <td>М</td>\n",
       "      <td>NaN</td>\n",
       "      <td>5</td>\n",
       "      <td>7601719.20</td>\n",
       "      <td>2</td>\n",
       "      <td>1</td>\n",
       "      <td>1</td>\n",
       "      <td>408121.16</td>\n",
       "      <td>0</td>\n",
       "    </tr>\n",
       "  </tbody>\n",
       "</table>\n",
       "<p>146 rows × 12 columns</p>\n",
       "</div>"
      ],
      "text/plain": [
       "      USERID  score       city gender   age  equity      balance  products  \\\n",
       "1893  116540  883.0    Рыбинск      Ж  55.0       1    362756.49         3   \n",
       "7694  116540  887.0  Ярославль      Ж  38.0       0          NaN         1   \n",
       "7542  117943  880.0  Ярославль      Ж  40.0       0          NaN         1   \n",
       "4866  117943  855.0    Рыбинск      Ж  32.0       6   1036832.93         4   \n",
       "5896  120258  905.0  Ярославль      М  30.0       0          NaN         1   \n",
       "...      ...    ...        ...    ...   ...     ...          ...       ...   \n",
       "2597  226719  990.0  Ярославль      М  37.0       4  14648692.14         2   \n",
       "8205  227795  840.0    Рыбинск      М  34.0       2    350768.03         1   \n",
       "8497  227795  839.0  Ярославль      М  34.0       2    326593.14         2   \n",
       "6457  228075  839.0    Рыбинск      М  39.0       5    507199.85         3   \n",
       "1247  228075  932.0  Ярославль      М   NaN       5   7601719.20         2   \n",
       "\n",
       "      credit_card  last_activity  EST_SALARY  churn  \n",
       "1893            0              1   175920.48      1  \n",
       "7694            0              1   119247.61      0  \n",
       "7542            1              0   137718.93      0  \n",
       "4866            1              1   107792.71      1  \n",
       "5896            1              1   146427.96      0  \n",
       "...           ...            ...         ...    ...  \n",
       "2597            0              0   934412.61      1  \n",
       "8205            1              0   102036.14      1  \n",
       "8497            1              0   103314.92      0  \n",
       "6457            0              1    85195.80      0  \n",
       "1247            1              1   408121.16      0  \n",
       "\n",
       "[146 rows x 12 columns]"
      ]
     },
     "execution_count": 13,
     "metadata": {},
     "output_type": "execute_result"
    }
   ],
   "source": [
    "# Выводим строки с дублирующимися USERID\n",
    "df[df['USERID'].isin(df[df['USERID'].duplicated()]['USERID'])].sort_values(by='USERID')"
   ]
  },
  {
   "cell_type": "markdown",
   "metadata": {},
   "source": [
    "Судя по полученной таблице клиенты с одним `USERID` это разные люди, что скорее всего является ошибкой, поэтому мы не можем однозначно идентифицировать реального клиента с данным `USERID` и \"ошибочным\". \n",
    "\n",
    "Будет целесообразней избавиться от всех этих строк, для получения более \"чистых\" исходных данных для анализа. Перед удалением проверим, какой процент строк от общего числа мы потеряем."
   ]
  },
  {
   "cell_type": "code",
   "execution_count": 14,
   "metadata": {},
   "outputs": [
    {
     "name": "stdout",
     "output_type": "stream",
     "text": [
      "Доля строк с дубликатами по USERID от всех строк составляет - 1.46%\n"
     ]
    }
   ],
   "source": [
    "# Считаем долю строк с дублирующимися USERID\n",
    "print('Доля строк с дубликатами по USERID от всех строк составляет - {0:.2f}%' \\\n",
    "      .format((100*len(df[df['USERID'].isin(df[df['USERID'].duplicated()]['USERID'])])/df.shape[0])))"
   ]
  },
  {
   "cell_type": "code",
   "execution_count": 15,
   "metadata": {},
   "outputs": [],
   "source": [
    "# Избавимся от дубликатов, так как потеря в данных будет незначительной\n",
    "df = df[~df['USERID'].isin(df[df['USERID'].duplicated()]['USERID'])]"
   ]
  },
  {
   "cell_type": "markdown",
   "metadata": {},
   "source": [
    "## Добавление необходимых столбцов"
   ]
  },
  {
   "cell_type": "markdown",
   "metadata": {},
   "source": [
    "Для категориальных колонок `gender` и `city` добавим столбцы с бинарными значениями с помощью функции `get_dummies()` и приведем стиль написания названий столбцов к единому виду."
   ]
  },
  {
   "cell_type": "code",
   "execution_count": 16,
   "metadata": {},
   "outputs": [
    {
     "data": {
      "text/html": [
       "<div>\n",
       "<style scoped>\n",
       "    .dataframe tbody tr th:only-of-type {\n",
       "        vertical-align: middle;\n",
       "    }\n",
       "\n",
       "    .dataframe tbody tr th {\n",
       "        vertical-align: top;\n",
       "    }\n",
       "\n",
       "    .dataframe thead th {\n",
       "        text-align: right;\n",
       "    }\n",
       "</style>\n",
       "<table border=\"1\" class=\"dataframe\">\n",
       "  <thead>\n",
       "    <tr style=\"text-align: right;\">\n",
       "      <th></th>\n",
       "      <th>user_id</th>\n",
       "      <th>score</th>\n",
       "      <th>city</th>\n",
       "      <th>gender</th>\n",
       "      <th>age</th>\n",
       "      <th>equity</th>\n",
       "      <th>balance</th>\n",
       "      <th>products</th>\n",
       "      <th>credit_card</th>\n",
       "      <th>last_activity</th>\n",
       "      <th>est_salary</th>\n",
       "      <th>churn</th>\n",
       "      <th>gender_F</th>\n",
       "      <th>gender_M</th>\n",
       "      <th>city_Rostov</th>\n",
       "      <th>city_Rybinsk</th>\n",
       "      <th>city_Yaroslavl</th>\n",
       "    </tr>\n",
       "  </thead>\n",
       "  <tbody>\n",
       "    <tr>\n",
       "      <th>0</th>\n",
       "      <td>183012</td>\n",
       "      <td>850.0</td>\n",
       "      <td>Рыбинск</td>\n",
       "      <td>Ж</td>\n",
       "      <td>25.0</td>\n",
       "      <td>1</td>\n",
       "      <td>59214.82</td>\n",
       "      <td>2</td>\n",
       "      <td>0</td>\n",
       "      <td>1</td>\n",
       "      <td>75719.14</td>\n",
       "      <td>1</td>\n",
       "      <td>1</td>\n",
       "      <td>0</td>\n",
       "      <td>0</td>\n",
       "      <td>1</td>\n",
       "      <td>0</td>\n",
       "    </tr>\n",
       "    <tr>\n",
       "      <th>1</th>\n",
       "      <td>146556</td>\n",
       "      <td>861.0</td>\n",
       "      <td>Рыбинск</td>\n",
       "      <td>Ж</td>\n",
       "      <td>37.0</td>\n",
       "      <td>5</td>\n",
       "      <td>850594.33</td>\n",
       "      <td>3</td>\n",
       "      <td>1</td>\n",
       "      <td>0</td>\n",
       "      <td>86621.77</td>\n",
       "      <td>0</td>\n",
       "      <td>1</td>\n",
       "      <td>0</td>\n",
       "      <td>0</td>\n",
       "      <td>1</td>\n",
       "      <td>0</td>\n",
       "    </tr>\n",
       "    <tr>\n",
       "      <th>2</th>\n",
       "      <td>120722</td>\n",
       "      <td>892.0</td>\n",
       "      <td>Рыбинск</td>\n",
       "      <td>Ж</td>\n",
       "      <td>30.0</td>\n",
       "      <td>0</td>\n",
       "      <td>NaN</td>\n",
       "      <td>1</td>\n",
       "      <td>1</td>\n",
       "      <td>1</td>\n",
       "      <td>107683.34</td>\n",
       "      <td>0</td>\n",
       "      <td>1</td>\n",
       "      <td>0</td>\n",
       "      <td>0</td>\n",
       "      <td>1</td>\n",
       "      <td>0</td>\n",
       "    </tr>\n",
       "    <tr>\n",
       "      <th>3</th>\n",
       "      <td>225363</td>\n",
       "      <td>866.0</td>\n",
       "      <td>Ярославль</td>\n",
       "      <td>Ж</td>\n",
       "      <td>51.0</td>\n",
       "      <td>5</td>\n",
       "      <td>1524746.26</td>\n",
       "      <td>2</td>\n",
       "      <td>0</td>\n",
       "      <td>1</td>\n",
       "      <td>174423.53</td>\n",
       "      <td>1</td>\n",
       "      <td>1</td>\n",
       "      <td>0</td>\n",
       "      <td>0</td>\n",
       "      <td>0</td>\n",
       "      <td>1</td>\n",
       "    </tr>\n",
       "    <tr>\n",
       "      <th>4</th>\n",
       "      <td>157978</td>\n",
       "      <td>730.0</td>\n",
       "      <td>Ярославль</td>\n",
       "      <td>М</td>\n",
       "      <td>34.0</td>\n",
       "      <td>5</td>\n",
       "      <td>174.00</td>\n",
       "      <td>1</td>\n",
       "      <td>1</td>\n",
       "      <td>0</td>\n",
       "      <td>67353.16</td>\n",
       "      <td>1</td>\n",
       "      <td>0</td>\n",
       "      <td>1</td>\n",
       "      <td>0</td>\n",
       "      <td>0</td>\n",
       "      <td>1</td>\n",
       "    </tr>\n",
       "    <tr>\n",
       "      <th>...</th>\n",
       "      <td>...</td>\n",
       "      <td>...</td>\n",
       "      <td>...</td>\n",
       "      <td>...</td>\n",
       "      <td>...</td>\n",
       "      <td>...</td>\n",
       "      <td>...</td>\n",
       "      <td>...</td>\n",
       "      <td>...</td>\n",
       "      <td>...</td>\n",
       "      <td>...</td>\n",
       "      <td>...</td>\n",
       "      <td>...</td>\n",
       "      <td>...</td>\n",
       "      <td>...</td>\n",
       "      <td>...</td>\n",
       "      <td>...</td>\n",
       "    </tr>\n",
       "    <tr>\n",
       "      <th>9995</th>\n",
       "      <td>120553</td>\n",
       "      <td>814.0</td>\n",
       "      <td>Рыбинск</td>\n",
       "      <td>М</td>\n",
       "      <td>27.0</td>\n",
       "      <td>1</td>\n",
       "      <td>78144.65</td>\n",
       "      <td>1</td>\n",
       "      <td>0</td>\n",
       "      <td>1</td>\n",
       "      <td>18943.64</td>\n",
       "      <td>0</td>\n",
       "      <td>0</td>\n",
       "      <td>1</td>\n",
       "      <td>0</td>\n",
       "      <td>1</td>\n",
       "      <td>0</td>\n",
       "    </tr>\n",
       "    <tr>\n",
       "      <th>9996</th>\n",
       "      <td>139170</td>\n",
       "      <td>894.0</td>\n",
       "      <td>Ярославль</td>\n",
       "      <td>М</td>\n",
       "      <td>46.0</td>\n",
       "      <td>0</td>\n",
       "      <td>NaN</td>\n",
       "      <td>1</td>\n",
       "      <td>1</td>\n",
       "      <td>0</td>\n",
       "      <td>196898.29</td>\n",
       "      <td>0</td>\n",
       "      <td>0</td>\n",
       "      <td>1</td>\n",
       "      <td>0</td>\n",
       "      <td>0</td>\n",
       "      <td>1</td>\n",
       "    </tr>\n",
       "    <tr>\n",
       "      <th>9997</th>\n",
       "      <td>115639</td>\n",
       "      <td>903.0</td>\n",
       "      <td>Ярославль</td>\n",
       "      <td>М</td>\n",
       "      <td>24.0</td>\n",
       "      <td>0</td>\n",
       "      <td>NaN</td>\n",
       "      <td>2</td>\n",
       "      <td>1</td>\n",
       "      <td>1</td>\n",
       "      <td>108905.09</td>\n",
       "      <td>0</td>\n",
       "      <td>0</td>\n",
       "      <td>1</td>\n",
       "      <td>0</td>\n",
       "      <td>0</td>\n",
       "      <td>1</td>\n",
       "    </tr>\n",
       "    <tr>\n",
       "      <th>9998</th>\n",
       "      <td>148700</td>\n",
       "      <td>777.0</td>\n",
       "      <td>Ярославль</td>\n",
       "      <td>Ж</td>\n",
       "      <td>68.0</td>\n",
       "      <td>3</td>\n",
       "      <td>865457.97</td>\n",
       "      <td>3</td>\n",
       "      <td>0</td>\n",
       "      <td>1</td>\n",
       "      <td>86874.90</td>\n",
       "      <td>0</td>\n",
       "      <td>1</td>\n",
       "      <td>0</td>\n",
       "      <td>0</td>\n",
       "      <td>0</td>\n",
       "      <td>1</td>\n",
       "    </tr>\n",
       "    <tr>\n",
       "      <th>9999</th>\n",
       "      <td>96267</td>\n",
       "      <td>828.0</td>\n",
       "      <td>Рыбинск</td>\n",
       "      <td>Ж</td>\n",
       "      <td>58.0</td>\n",
       "      <td>3</td>\n",
       "      <td>1180886.70</td>\n",
       "      <td>4</td>\n",
       "      <td>0</td>\n",
       "      <td>1</td>\n",
       "      <td>21422.37</td>\n",
       "      <td>0</td>\n",
       "      <td>1</td>\n",
       "      <td>0</td>\n",
       "      <td>0</td>\n",
       "      <td>1</td>\n",
       "      <td>0</td>\n",
       "    </tr>\n",
       "  </tbody>\n",
       "</table>\n",
       "<p>9854 rows × 17 columns</p>\n",
       "</div>"
      ],
      "text/plain": [
       "      user_id  score       city gender   age  equity     balance  products  \\\n",
       "0      183012  850.0    Рыбинск      Ж  25.0       1    59214.82         2   \n",
       "1      146556  861.0    Рыбинск      Ж  37.0       5   850594.33         3   \n",
       "2      120722  892.0    Рыбинск      Ж  30.0       0         NaN         1   \n",
       "3      225363  866.0  Ярославль      Ж  51.0       5  1524746.26         2   \n",
       "4      157978  730.0  Ярославль      М  34.0       5      174.00         1   \n",
       "...       ...    ...        ...    ...   ...     ...         ...       ...   \n",
       "9995   120553  814.0    Рыбинск      М  27.0       1    78144.65         1   \n",
       "9996   139170  894.0  Ярославль      М  46.0       0         NaN         1   \n",
       "9997   115639  903.0  Ярославль      М  24.0       0         NaN         2   \n",
       "9998   148700  777.0  Ярославль      Ж  68.0       3   865457.97         3   \n",
       "9999    96267  828.0    Рыбинск      Ж  58.0       3  1180886.70         4   \n",
       "\n",
       "      credit_card  last_activity  est_salary  churn  gender_F  gender_M  \\\n",
       "0               0              1    75719.14      1         1         0   \n",
       "1               1              0    86621.77      0         1         0   \n",
       "2               1              1   107683.34      0         1         0   \n",
       "3               0              1   174423.53      1         1         0   \n",
       "4               1              0    67353.16      1         0         1   \n",
       "...           ...            ...         ...    ...       ...       ...   \n",
       "9995            0              1    18943.64      0         0         1   \n",
       "9996            1              0   196898.29      0         0         1   \n",
       "9997            1              1   108905.09      0         0         1   \n",
       "9998            0              1    86874.90      0         1         0   \n",
       "9999            0              1    21422.37      0         1         0   \n",
       "\n",
       "      city_Rostov  city_Rybinsk  city_Yaroslavl  \n",
       "0               0             1               0  \n",
       "1               0             1               0  \n",
       "2               0             1               0  \n",
       "3               0             0               1  \n",
       "4               0             0               1  \n",
       "...           ...           ...             ...  \n",
       "9995            0             1               0  \n",
       "9996            0             0               1  \n",
       "9997            0             0               1  \n",
       "9998            0             0               1  \n",
       "9999            0             1               0  \n",
       "\n",
       "[9854 rows x 17 columns]"
      ]
     },
     "execution_count": 16,
     "metadata": {},
     "output_type": "execute_result"
    }
   ],
   "source": [
    "# Создаем копию столбцов с полом и городом\n",
    "df.insert(df.columns.get_loc('gender') + 1, 'gender_copy', df['gender'])\n",
    "df.insert(df.columns.get_loc('city') + 1, 'city_copy', df['city'])\n",
    "\n",
    "# Применяем one-hot кодирование для этих столбцов\n",
    "df = pd.get_dummies(df, columns=['gender_copy'])\n",
    "df = pd.get_dummies(df, columns=['city_copy'])\n",
    "\n",
    "# Приведем названия колонок к нижнему регистру\n",
    "df.columns = df.columns.str.lower()\n",
    "\n",
    "# Переименуем для удобства названия некоторых колонок\n",
    "df.rename(columns={'userid':'user_id',\n",
    "                   'gender_copy_ж':'gender_F',\n",
    "                   'gender_copy_м':'gender_M',\n",
    "                   'city_copy_ростов':'city_Rostov',\n",
    "                   'city_copy_рыбинск':'city_Rybinsk',\n",
    "                   'city_copy_ярославль':'city_Yaroslavl',\n",
    "                  }, inplace=True)\n",
    "\n",
    "# Посмторим что у нас получилось\n",
    "df"
   ]
  },
  {
   "cell_type": "markdown",
   "metadata": {},
   "source": [
    "# Исследовательский анализ данных"
   ]
  },
  {
   "cell_type": "markdown",
   "metadata": {},
   "source": [
    "## Смотрим на соотношение клиентов в разрезе отточности"
   ]
  },
  {
   "cell_type": "markdown",
   "metadata": {},
   "source": [
    "Для начала рассмотрим соотношение отточных и неотточных клиентов. Для этого подготовим необходимые данные, построим круговую диаграмму и заранее создадим функцию, которая на круговой диаграмме будет отображать как относительные, так и абсолютные значения."
   ]
  },
  {
   "cell_type": "code",
   "execution_count": 17,
   "metadata": {},
   "outputs": [],
   "source": [
    "# Готовим данные\n",
    "churn_df = df.groupby('churn')['churn'].count().to_frame().rename(columns={col:'num_of_clients'}).reset_index()"
   ]
  },
  {
   "cell_type": "code",
   "execution_count": 18,
   "metadata": {},
   "outputs": [],
   "source": [
    "# Функцию make_autopct, которая принимает на вход список значений и возвращает другую функцию my_autopct. \n",
    "# Функция my_autopct принимает на вход процентное значение и возвращает строку с этим процентным значением и \n",
    "# Cоответствующим абсолютным значением.\n",
    "\n",
    "def make_autopct(values): \n",
    "    def my_autopct(pct):\n",
    "        # Вычисление суммы всех значений из списка values\n",
    "        total = sum(values) \n",
    "        # Вычисление абсолютного значения соответствующего процентному значению pct\n",
    "        val = int(round(pct*total/100)) \n",
    "        # Возвращение строки с процентным и абсолютным значениями\n",
    "        return '{p:.0f}%\\n({v:d})'.format(p=pct,v=val)\n",
    "     # Возвращение функции my_autopct как результата работы функции make_autopct\n",
    "    return my_autopct"
   ]
  },
  {
   "cell_type": "code",
   "execution_count": 19,
   "metadata": {},
   "outputs": [
    {
     "data": {
      "image/png": "[encoded data removed]",
      "text/plain": [
       "<Figure size 432x432 with 1 Axes>"
      ]
     },
     "metadata": {},
     "output_type": "display_data"
    }
   ],
   "source": [
    "# Строим круговую диаграмму, с необходимыми настройками\n",
    "\n",
    "sns.set(style=\"whitegrid\")\n",
    "fig = plt.figure(figsize=(6,6))\n",
    "plt.pie(churn_df['num_of_clients'], \n",
    "        labels=['Неотточные', 'Отточные'], \n",
    "        autopct=make_autopct(churn_df['num_of_clients']), \n",
    "        startangle=90,\n",
    "        colors=['#66b3ff','#99ff99'], \n",
    "        explode=[0, 0.1])\n",
    "plt.axis('equal')\n",
    "plt.legend(bbox_to_anchor=(1.05, 1), loc='upper left')\n",
    "plt.title(\"Соотношение количества клиентов в разрезе их отточности\", fontsize=12)\n",
    "plt.show()"
   ]
  },
  {
   "cell_type": "markdown",
   "metadata": {},
   "source": [
    "**Вывод:**\n",
    "\n",
    "Мы видим, что по предоставленным нам данным, банк потерял **18%** или **1770** клиентов от общего числа. Далее попытаемся разобраться в причинах, вызвавших такой отток."
   ]
  },
  {
   "cell_type": "markdown",
   "metadata": {},
   "source": [
    "## Рассматриваем распределения данных по каждому признаку в отдельности"
   ]
  },
  {
   "cell_type": "markdown",
   "metadata": {},
   "source": [
    "df"
   ]
  },
  {
   "cell_type": "code",
   "execution_count": 20,
   "metadata": {},
   "outputs": [],
   "source": [
    "# Дополняем словарь для заголовков\n",
    "col_dict_upd = {\n",
    "    'score':'кредитного скоринга',\n",
    "     'age':'возраста',\n",
    "     'balance':'баланса на счете',\n",
    "     'est_salary':'заработной платы',\n",
    "     'gender_F':'принадлежности к женскому полу',\n",
    "     'gender_M':'принадлежности к мужскому полу',\n",
    "     'city_Rostov':'города Ростова',\n",
    "     'city_Rybinsk':'города Рябинска',\n",
    "     'city_Yaroslavl':'города Ярославля' \n",
    "}\n",
    "\n",
    "# Объединяем все в один общий словарь\n",
    "columns_dict = {**col_dict, **col_dict_upd}\n",
    "\n",
    "# Создаем словарь с подписями для оси X\n",
    "x_dict = {\n",
    "    'city': 'Город',\n",
    "    'gender': 'Пол',\n",
    "    'equity': 'Оценка собственности',\n",
    "    'products': 'Кол-во продуктов',\n",
    "    'credit_card': 'Наличие кредитной карты',\n",
    "    'last_activity': 'Активность',\n",
    "    'churn': 'Отточность клиента',\n",
    "    'score': 'Кредитный скоринг',\n",
    "    'age': 'Возраст',\n",
    "    'balance': 'Баланс на счете',\n",
    "    'est_salary': 'Заработная плата',\n",
    "    'gender_F': 'Женский пол',\n",
    "    'gender_M': 'Мужской пол',\n",
    "    'city_Rostov': 'Город Ростов',\n",
    "    'city_Rybinsk': 'Город Рябинск',\n",
    "    'city_Yaroslavl': 'Город Ярославль'\n",
    "}"
   ]
  },
  {
   "cell_type": "code",
   "execution_count": 21,
   "metadata": {},
   "outputs": [],
   "source": [
    "# Функия на вход принимает датафрейм, высоту и шириту графика, и столбцы по которым не нужнно строить график\n",
    "# На выохде получаем два графика, где левый - это распределение данных по признаку в разрезе отточности\n",
    "# А правый - распределение данных по признаку по всем данным\n",
    "\n",
    "def plot_data(df,h=8,w=16,not_col=[]):\n",
    "    \n",
    "    # Создаем список столбцов для построения гистограммы\n",
    "    columns = [col for col in df.columns if col not in not_col]\n",
    "    \n",
    "    # Задаем ширину и высоту фигуры\n",
    "    fig_width = w\n",
    "    fig_height = h\n",
    "    \n",
    "    # Для каждого столбца из списка columns\n",
    "    for col in columns:\n",
    "        \n",
    "        # Создаем фигуру с двумя подграфиками (axes)\n",
    "        fig, axes = plt.subplots(1, 2, figsize=(fig_width, fig_height))\n",
    "        \n",
    "        # Задаем общий заголовок для фигуры\n",
    "        fig.suptitle('Распределение данных в разрезе ' + columns_dict[col])\n",
    "        \n",
    "        # Строим гистограмму для неотточных клиентов на первом подграфике\n",
    "        sns.histplot(df[df['churn'] == 0][col], ax=axes[0], color='orange', label='Неотточные', alpha = 0.25)\n",
    "        # Строим гистограмму для отточных клиентов на первом подграфике \n",
    "        sns.histplot(df[df['churn'] == 1][col], ax=axes[0], color='lightgreen', label='Отточные', alpha = 0.5)\n",
    "        # Строим гистограмму для всех данных на втором подграфике\n",
    "        sns.histplot(df[col], ax=axes[1], color='lightblue')\n",
    "        \n",
    "        # Добавляем необходиые настройки для графика (заголовок, подписи к осям, легенда)\n",
    "        axes[0].set_title(f'В зависимости от отточности',fontsize=10)\n",
    "        axes[0].set_xlabel(x_dict[col], fontsize=10)\n",
    "        axes[0].set_ylabel('Частота', fontsize=10)\n",
    "        axes[0].legend()\n",
    "        axes[1].set_title(f'Все данные',fontsize=10)\n",
    "        axes[1].set_xlabel(x_dict[col], fontsize=10)\n",
    "        axes[1].set_ylabel('Частота', fontsize=10)\n",
    "        \n",
    "    # Задаем расстояние между подграфиками\n",
    "    plt.subplots_adjust(hspace=3)\n",
    "    # Отображаем фигуру\n",
    "    plt.show()"
   ]
  },
  {
   "cell_type": "code",
   "execution_count": 22,
   "metadata": {
    "scrolled": true
   },
   "outputs": [
    {
     "data": {
      "image/png": "[encoded data removed]",
      "text/plain": [
       "<Figure size 1080x360 with 2 Axes>"
      ]
     },
     "metadata": {},
     "output_type": "display_data"
    },
    {
     "data": {
      "image/png": "[encoded data removed]",
      "text/plain": [
       "<Figure size 1080x360 with 2 Axes>"
      ]
     },
     "metadata": {},
     "output_type": "display_data"
    },
    {
     "data": {
      "image/png": "[encoded data removed]",
      "text/plain": [
       "<Figure size 1080x360 with 2 Axes>"
      ]
     },
     "metadata": {},
     "output_type": "display_data"
    },
    {
     "data": {
      "image/png": "[encoded data removed]",
      "text/plain": [
       "<Figure size 1080x360 with 2 Axes>"
      ]
     },
     "metadata": {},
     "output_type": "display_data"
    },
    {
     "data": {
      "image/png": "[encoded data removed]",
      "text/plain": [
       "<Figure size 1080x360 with 2 Axes>"
      ]
     },
     "metadata": {},
     "output_type": "display_data"
    },
    {
     "data": {
      "image/png": "[encoded data removed]",
      "text/plain": [
       "<Figure size 1080x360 with 2 Axes>"
      ]
     },
     "metadata": {},
     "output_type": "display_data"
    },
    {
     "data": {
      "image/png": "[encoded data removed]",
      "text/plain": [
       "<Figure size 1080x360 with 2 Axes>"
      ]
     },
     "metadata": {},
     "output_type": "display_data"
    },
    {
     "data": {
      "image/png": "[encoded data removed]",
      "text/plain": [
       "<Figure size 1080x360 with 2 Axes>"
      ]
     },
     "metadata": {},
     "output_type": "display_data"
    },
    {
     "data": {
      "image/png": "[encoded data removed]",
      "text/plain": [
       "<Figure size 1080x360 with 2 Axes>"
      ]
     },
     "metadata": {},
     "output_type": "display_data"
    },
    {
     "data": {
      "image/png": "[encoded data removed]",
      "text/plain": [
       "<Figure size 1080x360 with 2 Axes>"
      ]
     },
     "metadata": {},
     "output_type": "display_data"
    },
    {
     "data": {
      "image/png": "[encoded data removed]",
      "text/plain": [
       "<Figure size 1080x360 with 2 Axes>"
      ]
     },
     "metadata": {},
     "output_type": "display_data"
    },
    {
     "data": {
      "image/png": "[encoded data removed]",
      "text/plain": [
       "<Figure size 1080x360 with 2 Axes>"
      ]
     },
     "metadata": {},
     "output_type": "display_data"
    }
   ],
   "source": [
    "# Строим графики распределения данных для интересующих нас признаков\n",
    "plot_data(df,h=5,w=15,not_col=['user_id', 'gender', 'city','churn','balance'])"
   ]
  },
  {
   "cell_type": "markdown",
   "metadata": {},
   "source": [
    "Исходя из графиков, мы можем сделать следующие **выводы** о распределении отточности клиентов по признакам:\n",
    "\n",
    "\n",
    "**Кредитный скоринг**:\n",
    "\n",
    "- Чаще всего отточными становятся клиенты, имеющие рейтинг в диапазоне от `750-950`;\n",
    "\n",
    "**Возраст**:\n",
    "\n",
    "- Больше всего отточных клиентов возрастом от `30-40` и `50-60` лет;\n",
    "\n",
    "\n",
    "**Примерная оценка собственности**:\n",
    "\n",
    "- Из банка зачастую уходят клиенты с оценкой собственности в `3-5`;\n",
    "\n",
    "**Кол-во используемых продуктов**:\n",
    "\n",
    "- Отточными становятся клиенты имеющие от `2` продуктов и более;\n",
    "\n",
    "**Наличие кредитной карты**:\n",
    "\n",
    "- Клиенты `имеющие` кредитную карту чаще становятся отточными по сравнению с теми, у кого ее нет;\n",
    "\n",
    "**Активность**:\n",
    "\n",
    "- Подавляющее большинство отточных клиентов были `активны` последнее время; \n",
    "\n",
    "**Заработная плата**:\n",
    "\n",
    "- Клиенты, с зарплатой от `100 тыс` и более чаще становятся отточными;\n",
    "\n",
    "**Принадлежность к мужскому и женскому полу**:\n",
    "\n",
    "- `Мужчины` чаще уходят из банка по сравнению с женщинами;\n",
    "\n",
    "**По городу**:\n",
    "\n",
    "- Больше всего отточных клиентов среди городов в `Ярославле`."
   ]
  },
  {
   "cell_type": "markdown",
   "metadata": {},
   "source": []
  },
  {
   "cell_type": "code",
   "execution_count": 23,
   "metadata": {},
   "outputs": [
    {
     "data": {
      "image/png": "[encoded data removed]",
      "text/plain": [
       "<Figure size 1080x360 with 2 Axes>"
      ]
     },
     "metadata": {},
     "output_type": "display_data"
    }
   ],
   "source": [
    "# Для большей наглядности выведем график по распредлению данных в разрезе балана на счете отдельно, убрав \"выбивающиеся\" значения\n",
    "# Для большей наглядности\n",
    "\n",
    "df_balance = df[~df['balance'].isna()][['balance','churn']]\n",
    "df_balance['balance'] = df_balance['balance']/1000000\n",
    "df_balance = df_balance[(df_balance['balance'] >= df_balance['balance'].quantile(0.01)) & \\\n",
    "                        (df_balance['balance'] <= df_balance['balance'].quantile(0.99))]\n",
    "\n",
    "\n",
    "plot_data(df_balance,h=5,w=15,not_col=['churn'])"
   ]
  },
  {
   "cell_type": "markdown",
   "metadata": {},
   "source": [
    "Исходя из графика, мы можем сделать следующие **выводы** об отточности клиентов по признакам:\n",
    "\n",
    "**Баланс на счете**:\n",
    "\n",
    "- Зачастую отточными становятся клиенты с балансом в диапазоне от `250 тысяч - 1.5 млн руб`."
   ]
  },
  {
   "cell_type": "markdown",
   "metadata": {},
   "source": [
    "## Смотрим на корреляцию признаков"
   ]
  },
  {
   "cell_type": "code",
   "execution_count": 24,
   "metadata": {
    "scrolled": false
   },
   "outputs": [
    {
     "data": {
      "image/png": "[encoded data removed]",
      "text/plain": [
       "<Figure size 1080x720 with 2 Axes>"
      ]
     },
     "metadata": {},
     "output_type": "display_data"
    }
   ],
   "source": [
    "# Для поиска корреляции среди признаков построим матрицу корреляции\n",
    "fig, ax = plt.subplots(figsize=(15, 10))\n",
    "plt.title('Матрица корреляции')\n",
    "sns.heatmap(df.corr(), cmap='RdYlGn', annot = True, fmt='.1%', linewidths=1, linecolor='gray', ax=ax)\n",
    "plt.show()"
   ]
  },
  {
   "cell_type": "markdown",
   "metadata": {},
   "source": [
    "Исходя из корреляционной матрицы, мы можем сказать о том, что:\n",
    "\n",
    "- Сильных корреляций между признаками практически нет;\n",
    "- С целевым признаком, показывающим отточнсть клиентов `churn` больше всех взаимосвязаны такие параметры как `products` (кол-во используемых продуктов) и `equity` (примерная оценка стоимосости собственности) с **29.4%** и **26.6%** соотвественно. Будем учитывать их при дальнейшей сегментации."
   ]
  },
  {
   "cell_type": "markdown",
   "metadata": {},
   "source": [
    "# Сегментация и составление портрета отточного клиента"
   ]
  },
  {
   "cell_type": "markdown",
   "metadata": {},
   "source": [
    "Перед проведением сегментирования клиентов, нам нужно подготовить необходимые данные и функции, которые будут использованы для дальнейшего анализа:\n",
    "\n",
    "Определим диапазоны для категоризации исследуемых нами далее признаков:\n",
    "\n",
    "**1. Диапазоны возаста** - исходя из графиков распределния из *3 раздела* и категоризации на возрастные группы согласно рекомендациям *ВОЗ* будем учитывать следующие диапазоны и соответствующие категории для возрастов:\n",
    "\n",
    "- Возраст клиента до 25 лет - `до 25 лет`;\n",
    "\n",
    "- Возраст клиента c 26 до 49 лет - `От 26 и до 49 лет`;\n",
    "- Возраст клиента с 50 и до 60 лет - `От 50 и до 60 лет`;\n",
    "- Возраст клиента старше 60 лет - `Более 60 лет`.\n",
    "\n",
    "**2. Диапазоны кредитного скорринга:** - исходя из графиков распределния из *3 раздела* и данных по категоризации кредитного рейтинга в РФ (нет единого стандарта, будем  считать, что наш банк использует наиболее чатсо используемую систему рейтинга со шкалой от 1 до 1000, в нашем датафрейме минимальный кредитный рейтинг не менее `650`, что уже считается довольно высоким значением) выделим следующие диапазоны и соответствующие категории для кредитного скоринга:\n",
    "\n",
    "- Кредитный скоринг до 800 - `rating C`;\n",
    "\n",
    "- Кредитный скорринг с 801-900 - `rating B`;\n",
    "- Кредитный скорринг более 900 - `rating A`.\n",
    "\n",
    "**3. Диапазоны заработной платы:** - исходя из графиков распределния из *3 раздела* и данных по средней заработной плате в РФ  выделим следующие диапазоны и соответствующие категории заработной платы:\n",
    "\n",
    "- Заработная плата до 60 тыс руб - `Низкая з/п`;\n",
    "\n",
    "- Заработная плата с 60-120 тыс руб - `Средняя з/п`;\n",
    "- Заработная плата со 120-300 тыс руб - `Выше-среднего з/п`;\n",
    "- Заработная плата более 300 тыс руб - `Высокое з/п`;\n",
    "\n",
    "**4. Диапазоны баланса на счете:** исходя из графиков распределния из *3 раздела* выделим следующие диапазоны и соответствующие категории по балансу на счете:\n",
    "\n",
    "- Пустым значения баланса присвоим - `Unknown`;\n",
    "\n",
    "- Баланс до 250 тыс руб - `Низкий баланс`;\n",
    "- Балансу от 250 тыс до 1 млн руб - `Средний баланс`;\n",
    "- Балансу от 1 до 2 млн руб - `Выше-среднего баланс`;\n",
    "- Балансу более 2 млн руб - `Высокий баланс`."
   ]
  },
  {
   "cell_type": "code",
   "execution_count": 25,
   "metadata": {},
   "outputs": [],
   "source": [
    "# Эта функция принимает на вход аргумент age, который представляет собой возраст\n",
    "# Функция возвращает строку, которая описывает возрастную группу, к которой относится этот возраст\n",
    "\n",
    "def age_segment(age):\n",
    "    \n",
    "    if age <= 25:\n",
    "        return 'До 25 лет'\n",
    "    elif age <= 49:\n",
    "        return 'От 26 и до 49 лет'\n",
    "    elif age <= 60:\n",
    "        return 'От 50 и до 60 лет'\n",
    "    else:\n",
    "        return 'Более 60 лет' "
   ]
  },
  {
   "cell_type": "code",
   "execution_count": 26,
   "metadata": {},
   "outputs": [],
   "source": [
    "# Эта функция принимает на вход аргумент - score, который представляет собой значение скоринга\n",
    "# Функция возвращает строку, которая описывает рейтинговую группу, к которой относится этот скоринг\n",
    "\n",
    "def scoring_segment(score):\n",
    "\n",
    "    if score <= 800:\n",
    "        return 'rating C'\n",
    "    elif score <= 900:\n",
    "        return 'rating B'\n",
    "    else:\n",
    "        return 'rating A'"
   ]
  },
  {
   "cell_type": "code",
   "execution_count": 27,
   "metadata": {},
   "outputs": [],
   "source": [
    "# Эта функция принимает на вход аргумент - salary, который представляет собой значение зарплаты клиента\n",
    "# Функция возвращает строку, которая описывает группу по уровню дохода, к которой относится эта зарплата\n",
    "\n",
    "def salary_segment(salary):    \n",
    "    \n",
    "    if salary <= 60000:\n",
    "        return 'Низкая з/п'\n",
    "    elif salary <= 120000:\n",
    "        return 'Средняя з/п'\n",
    "    elif salary <= 300000:\n",
    "        return 'Выше-среднего з/п'\n",
    "    else:\n",
    "        return 'Высокая з/п'"
   ]
  },
  {
   "cell_type": "code",
   "execution_count": 28,
   "metadata": {},
   "outputs": [],
   "source": [
    "# Эта функция принимает на вход один аргумент - balance, который представляет собой значение баланса на счете\n",
    "# Функция возвращает строку, которая описывает группу по уровню баланса, к которой относится этот баланс\n",
    "\n",
    "def balance_segment(balance):\n",
    "    \n",
    "    if math.isnan(balance) == True:\n",
    "        return 'Unknown'\n",
    "    elif balance < 250000:\n",
    "        return 'Низкий баланс'\n",
    "    elif balance <= 1000000:\n",
    "        return 'Средний баланс'\n",
    "    elif balance <= 2000000:\n",
    "        return 'Выше-среднего баланс'\n",
    "    else:\n",
    "        return 'Высокий баланс'"
   ]
  },
  {
   "cell_type": "code",
   "execution_count": 29,
   "metadata": {},
   "outputs": [],
   "source": [
    "# Применяем созданные функции и создаем новые столбцы с сегментами по каждому из этих признаков\n",
    "\n",
    "df['age_category'] = df['age'].apply(age_segment)\n",
    "df['scoring_category'] = df['score'].apply(scoring_segment)\n",
    "df['salary_category'] = df['est_salary'].apply(salary_segment)\n",
    "df['balance_category'] = df['balance'].apply(balance_segment)"
   ]
  },
  {
   "cell_type": "code",
   "execution_count": 30,
   "metadata": {},
   "outputs": [],
   "source": [
    "# Функция принимает на вход датафрейм и колонку(-и) по которым группирует данные в разрезе кол-во клиентов в сегменте всего \n",
    "# А также отточных, затем  добавляется колонка с оставшимися в сегменте клиентами \n",
    "# И вычисляется доля оттока в сегменте, среди всех отточных сегментов, и доля оставшихся\n",
    "\n",
    "def segment_df(df,col=[]):\n",
    "    \n",
    "    # Группируем данные по столбцам в col и вычисляем количество клиентов в сегменте всего\n",
    "    # И кол-во отточных клиентов для каждого сегмента\n",
    "    data = (df.groupby(col)\n",
    "            .agg({'user_id':'count',\n",
    "                  'churn':'sum' })\n",
    "            .reset_index().\n",
    "            rename(columns={'user_id':'total_users', \n",
    "                            'churn':'churn_client_num'}))\n",
    "    \n",
    "    # Вставляем новый столбец 'not_churn_client_num' (Не отточные клиенты)\n",
    "    data.insert(data.columns.get_loc('churn_client_num') + 1, 'not_churn_client_num', \\\n",
    "                data['total_users'] - data['churn_client_num'])\n",
    "    \n",
    "    # Вычисляем долю оттока клиентов среди всех отточных клиентов\n",
    "    # Как отношение количества клиентов с оттоком к общему количеству клиентов с оттоком\n",
    "    data['churn_rate'] = (data['churn_client_num'] / data['churn_client_num'].sum()).round(2)\n",
    "    \n",
    "    # Вычисляем долю оттока клиентов для каждого сегмента \n",
    "    # Как отношение количества клиентов с оттоком к общему количеству клиентов в этом сегменте\n",
    "    data['churn_rate_segment'] = (data['churn_client_num'] / data['total_users']).round(2)\n",
    "    \n",
    "    # Вычисляем долю неоттока клиентов для каждого сегмента \n",
    "    # Как отношение количества клиентов без оттока к общему количеству клиентов в этом сегменте\n",
    "    data['not_churn_rate_segment'] = (data['not_churn_client_num'] / data['total_users']).round(2)\n",
    "    \n",
    "    # Возвращаем полученный датасет\n",
    "    return data"
   ]
  },
  {
   "cell_type": "code",
   "execution_count": 31,
   "metadata": {},
   "outputs": [],
   "source": [
    "# Создаем словарь для заголовков графиков\n",
    "segment_titles_dict = {'scoring_category':['сегментов кредитного скоринга','сегментам кредитного скоринга'],\n",
    "                       'age_category':['возрастного сегмента','возрастным сегментам'],\n",
    "                       'salary_category':['сегментов заработной платы','сегментам заработной платы'],\n",
    "                       'balance_category':['сегментов баланса на счете','сегментам баланса на счете'],\n",
    "                       'products':['кол-ва продуктов','кол-ву продуктов'],\n",
    "                       'equity':['оценки стоимости собственности','оценке стоимости собственности']\n",
    "                      }\n",
    "\n",
    "# Создаем словарь для оси X графиков\n",
    "segment_X_axes_dict = {'scoring_category':'Сегмент кредитного скоринга',\n",
    "                       'age_category':'Возрастной сегмент',\n",
    "                       'salary_category':'Сегмент заработной платы',\n",
    "                       'balance_category':'Сегмент баланса на счете',\n",
    "                       'products':'Кол-во продуктов',\n",
    "                       'equity':'Оценка стоимости собственности'\n",
    "                      }\n",
    "\n",
    "# Создаем подпись для оси Y \n",
    "segment_Y_axes = 'Кол-во и процент клиентов'"
   ]
  },
  {
   "cell_type": "code",
   "execution_count": 32,
   "metadata": {
    "scrolled": true
   },
   "outputs": [],
   "source": [
    "# Функция принимает на вход датафрейм и колонки по которым строит график с накоплением и круговую диаграмму\n",
    "def bar_pie_charts(df,col):\n",
    "    \n",
    "    # Создание фигуры для столбчатой диаграммы\n",
    "    fig = go.Figure()\n",
    "    \n",
    "    # Добавление первого графика в фигуру для отточных клиентов\n",
    "    fig.add_trace(\n",
    "        go.Bar(\n",
    "            x=df[col],\n",
    "            y=df['churn_rate_segment'],\n",
    "            name='Отточный клиент',\n",
    "            text=df['churn_client_num'],\n",
    "            texttemplate='%{y:.1%} <br>(%{text})',\n",
    "            textposition='inside', \n",
    "            marker_color='turquoise'\n",
    "        )\n",
    "    )\n",
    "    \n",
    "    # Добавление второго графика в фигуру для неотточных клиентов\n",
    "    fig.add_trace(\n",
    "        go.Bar(\n",
    "            x=df[col],\n",
    "            y=df['not_churn_rate_segment'],\n",
    "            name='Неотточный клиент',\n",
    "            text=df['not_churn_client_num'],\n",
    "            texttemplate='%{y:.1%} <br>(%{text})',\n",
    "            textposition='inside',\n",
    "            marker_color='royalblue'\n",
    "        )\n",
    "    )\n",
    "    \n",
    "     # Обновление макета фигуры, с необходимыми настройками\n",
    "    fig.update_layout(\n",
    "        barmode='stack',\n",
    "        title={\n",
    "            'text': f'Соотношение клиентов в разрезе {segment_titles_dict[col][0]}',\n",
    "            'x': 0.5,\n",
    "            'xanchor': 'center'\n",
    "        },\n",
    "        xaxis_title = segment_X_axes_dict[col],\n",
    "        yaxis_title = segment_Y_axes\n",
    "    )\n",
    "    fig.show() # Отображение графика\n",
    "    \n",
    "    \n",
    "    # Создание фигуры для круговой диаграммы\n",
    "    fig = go.Figure(go.Pie(\n",
    "        labels = df[col],\n",
    "        values = df['churn_client_num'],\n",
    "        marker = {'colors': px.colors.qualitative.Plotly}\n",
    "    ))\n",
    "    \n",
    "    # Добавление настроек отображения значений на графике\n",
    "    fig.update_traces( \n",
    "        textposition='outside',\n",
    "        textinfo='percent+value+label',\n",
    "        pull=[0.1,0.0]\n",
    "    )\n",
    "    \n",
    "    # Обновление макета фигуры, с необходимыми настройками\n",
    "    fig.update_layout(\n",
    "        title={\n",
    "            'text': f'Распределение оттока клиентов среди всех отточных клиентов по {segment_titles_dict[col][1]}',\n",
    "            'x': 0.5,\n",
    "            'xanchor': 'center'\n",
    "    }\n",
    "    )\n",
    "    fig.show()# Отображение графика"
   ]
  },
  {
   "cell_type": "markdown",
   "metadata": {},
   "source": [
    "## Сегментирование клиентов по количеству баллов кредитного скоринга"
   ]
  },
  {
   "cell_type": "code",
   "execution_count": null,
   "metadata": {
    "scrolled": false
   },
   "outputs": [],
   "source": [
    "bar_pie_charts(segment_df(df,'scoring_category'),'scoring_category')"
   ]
  },
  {
   "cell_type": "markdown",
   "metadata": {},
   "source": [
    "<img src=\"https://ltdfoto.ru/images/2023/07/10/newplot_1.png\" alt=\"newplot_1.png\" border=\"0\" />\n",
    "<img src=\"https://ltdfoto.ru/images/2023/07/10/newplot_1.1.png\" alt=\"newplot_1.1.png\" border=\"0\" />"
   ]
  },
  {
   "cell_type": "markdown",
   "metadata": {},
   "source": [
    "**Вывод:**\n",
    "\n",
    "- Больше всего отточных клиентов **1148** (**64.9%** от всех отточных) имеют `rating B` кредитного скоринга (**800-900**), то есть довольно высокий уровень;\n",
    "- Чаще в банке остаются клиенты из сегмента низким рейтингом - **2202** клиента."
   ]
  },
  {
   "cell_type": "markdown",
   "metadata": {},
   "source": [
    "## Сегментирование клиентов по возрасту"
   ]
  },
  {
   "cell_type": "code",
   "execution_count": null,
   "metadata": {
    "scrolled": false
   },
   "outputs": [],
   "source": [
    "bar_pie_charts(segment_df(df,'age_category'),'age_category')"
   ]
  },
  {
   "cell_type": "markdown",
   "metadata": {},
   "source": [
    "<img src=\"https://ltdfoto.ru/images/2023/07/10/newplot_2.png\" alt=\"newplot_2.png\" border=\"0\" />\n",
    "<img src=\"https://ltdfoto.ru/images/2023/07/10/newplot_2.1.png\" alt=\"newplot_2.1.png\" border=\"0\" />"
   ]
  },
  {
   "cell_type": "markdown",
   "metadata": {},
   "source": [
    "**Вывод:**\n",
    "\n",
    "- Более **67.7%** среди всех отточных клиентов (**1198** клиента) ушли из банка в возрасте `от 26 и до 49 лет`;\n",
    "\n",
    "- Далее, по частоте уходят клиенты `от 50 и до 60 лет` - **26.1%** или **462** клиента (среди всех отточных) и в то же время внутри самого сегмента уходят **26.3%** - это наибольшее значение среди остальных возрастных категорий;\n",
    "- Наиболее лояльные клиенты `старше 60 лет`, из всей представленной выборки в данной возрастной категории осталось в банке **94.1%** или **964** клиентов."
   ]
  },
  {
   "cell_type": "markdown",
   "metadata": {},
   "source": [
    "## Сегментирование клиентов по заработной плате"
   ]
  },
  {
   "cell_type": "code",
   "execution_count": null,
   "metadata": {
    "scrolled": false
   },
   "outputs": [],
   "source": [
    "bar_pie_charts(segment_df(df,'salary_category'),'salary_category')"
   ]
  },
  {
   "cell_type": "markdown",
   "metadata": {},
   "source": [
    "<img src=\"https://ltdfoto.ru/images/2023/07/10/newplot_3.png\" alt=\"newplot_3.png\" border=\"0\" />\n",
    "<img src=\"https://ltdfoto.ru/images/2023/07/10/newplot_3.1.png\" alt=\"newplot_3.1.png\" border=\"0\" />"
   ]
  },
  {
   "cell_type": "markdown",
   "metadata": {},
   "source": [
    "**Вывод:**\n",
    "\n",
    "- Клиенты, имеющие достаток выше-среднего (`от 120 до 300 тыс рублей`), составляют практически **50%** (**846**) от всех отточных клиентов;\n",
    "- Чаще всего с банком остаются клиенты с низким достатком (**85.3%** или **1432** клиента в этом сегменте)."
   ]
  },
  {
   "cell_type": "markdown",
   "metadata": {},
   "source": [
    "## Сегментирование клиентов по балансу на счете"
   ]
  },
  {
   "cell_type": "code",
   "execution_count": null,
   "metadata": {
    "scrolled": false
   },
   "outputs": [],
   "source": [
    "bar_pie_charts(segment_df(df.query('balance_category != \"Unknown\"'),'balance_category'),'balance_category')"
   ]
  },
  {
   "cell_type": "markdown",
   "metadata": {},
   "source": [
    "<img src=\"https://ltdfoto.ru/images/2023/07/10/newplot_4.png\" alt=\"newplot_4.png\" border=\"0\" />\n",
    "<img src=\"https://ltdfoto.ru/images/2023/07/10/newplot_4.1.png\" alt=\"newplot_4.1.png\" border=\"0\" />"
   ]
  },
  {
   "cell_type": "markdown",
   "metadata": {},
   "source": [
    "**Вывод:**\n",
    "\n",
    "- Среди всех отточных клиентов почти **50%** или **831** клиента имеет `средний баланс` на счете (`от 250 тыс до 1 млн рублей`);\n",
    "\n",
    "- В то же время, внутри сегмента с `высоким балансом` (на счете `более 2 млн руб.`) самый высокий отток среди других сегментов (**48.4%** или **202** клиента);\n",
    "- Большинство клиентов (**84.5%** или **1242** клиента) имеющих `низкий баланс` на счете (`до 250 тыс руб.`) чаще остаются в банке."
   ]
  },
  {
   "cell_type": "markdown",
   "metadata": {},
   "source": [
    "## Сегментирование клиентов по кол-ву продуктов"
   ]
  },
  {
   "cell_type": "code",
   "execution_count": null,
   "metadata": {
    "scrolled": false
   },
   "outputs": [],
   "source": [
    "bar_pie_charts(segment_df(df,'products'),'products')"
   ]
  },
  {
   "cell_type": "markdown",
   "metadata": {},
   "source": [
    "<img src=\"https://ltdfoto.ru/images/2023/07/10/newplot_5.png\" alt=\"newplot_5.png\" border=\"0\" />\n",
    "<img src=\"https://ltdfoto.ru/images/2023/07/10/newplot_5.1.png\" alt=\"newplot_5.1.png\" border=\"0\" />"
   ]
  },
  {
   "cell_type": "markdown",
   "metadata": {},
   "source": [
    "**Вывод:**\n",
    "\n",
    "- **953** клиента или **53.8%** от общего числа ушедших клиентов имеют `2` продукта;\n",
    "\n",
    "- В то же время, в процентном соотношении, внутри сегмента c `4 продукта` больше всего отточных (**62.8%** или **287** клиента);\n",
    "- Больше всего клиентов остается при наличии всего лишь `1 продукта` у банка - **93%** или **3058** клиента от общего числа в этом сегменте."
   ]
  },
  {
   "cell_type": "markdown",
   "metadata": {},
   "source": [
    "## Сегментирование клиентов по оценке стоимости собственности"
   ]
  },
  {
   "cell_type": "code",
   "execution_count": null,
   "metadata": {
    "scrolled": false
   },
   "outputs": [],
   "source": [
    "bar_pie_charts(segment_df(df,'equity'),'equity')"
   ]
  },
  {
   "cell_type": "markdown",
   "metadata": {},
   "source": [
    "<img src=\"https://ltdfoto.ru/images/2023/07/10/newplot_6.png\" alt=\"newplot_6.png\" border=\"0\" />\n",
    "<img src=\"https://ltdfoto.ru/images/2023/07/10/newplot_6.1.png\" alt=\"newplot_6.1.png\" border=\"0\" />"
   ]
  },
  {
   "cell_type": "markdown",
   "metadata": {},
   "source": [
    "**Вывод:**\n",
    "\n",
    "- Из всех отточных клиентов, больше всего с оценкой в `5` - **31.7%** или **561** клиента;\n",
    "- В то же время внутри сегмента с оценкой стоимости собственности в `9` больше всех отточных клиентов среди других сегментов (**53.8%** или лишь **7** клиента из **13** всего в данном сегменте);\n",
    "- Практически **96.6%** или **2451** клиента из сегмента с оценкой стоимости в `0` остаются в банке)."
   ]
  },
  {
   "cell_type": "markdown",
   "metadata": {},
   "source": [
    "Согласно проведенного анализу по сегментам, мы можем выделить пороги по самым значимым признакам, из-за которых чаще происходит отток клиентов:\n",
    "\n",
    "**Возраст** \n",
    "\n",
    "- Чаще всего, оттоку подвержены клиенты возрастом `от 24 до 49`, и `от 50 до 60 лет`;\n",
    "\n",
    "**Кредитный скоринг**\n",
    "\n",
    "- от `800` и более;\n",
    "\n",
    "**Заработная плата** \n",
    "\n",
    "- от `120 тыс. руб.` и более;\n",
    "\n",
    "**Баланс на счете** \n",
    "\n",
    "- от `250 тыс. руб` и более;\n",
    "\n",
    "**Кол-во продуктов** \n",
    "\n",
    "- от `2` и более;\n",
    "\n",
    "**Оценка стоимости собственности**\n",
    "\n",
    "- Клиенты с высокой оценкой собственности  от `5` и более."
   ]
  },
  {
   "cell_type": "markdown",
   "metadata": {},
   "source": [
    "## Определяем типичный портрет отточного клиента"
   ]
  },
  {
   "cell_type": "markdown",
   "metadata": {},
   "source": [
    "Составим портет отточного клиента на основании выделенных раннее самых значимых признаков, влияющих на отток. Раннее мы определили, что количество продуктов и оценка союственности клиента больше всего коррелировали с показетелем отточности. Рассмотрим каждый из них, учитывая также возрастную категорию."
   ]
  },
  {
   "cell_type": "code",
   "execution_count": 39,
   "metadata": {},
   "outputs": [
    {
     "data": {
      "text/html": [
       "<div>\n",
       "<style scoped>\n",
       "    .dataframe tbody tr th:only-of-type {\n",
       "        vertical-align: middle;\n",
       "    }\n",
       "\n",
       "    .dataframe tbody tr th {\n",
       "        vertical-align: top;\n",
       "    }\n",
       "\n",
       "    .dataframe thead th {\n",
       "        text-align: right;\n",
       "    }\n",
       "</style>\n",
       "<table border=\"1\" class=\"dataframe\">\n",
       "  <thead>\n",
       "    <tr style=\"text-align: right;\">\n",
       "      <th></th>\n",
       "      <th>age_category</th>\n",
       "      <th>products</th>\n",
       "      <th>total_users</th>\n",
       "      <th>churn_client_num</th>\n",
       "      <th>not_churn_client_num</th>\n",
       "      <th>churn_rate</th>\n",
       "      <th>churn_rate_segment</th>\n",
       "      <th>not_churn_rate_segment</th>\n",
       "    </tr>\n",
       "  </thead>\n",
       "  <tbody>\n",
       "    <tr>\n",
       "      <th>0</th>\n",
       "      <td>Более 60 лет</td>\n",
       "      <td>0</td>\n",
       "      <td>1</td>\n",
       "      <td>1</td>\n",
       "      <td>0</td>\n",
       "      <td>0.00</td>\n",
       "      <td>1.00</td>\n",
       "      <td>0.00</td>\n",
       "    </tr>\n",
       "    <tr>\n",
       "      <th>4</th>\n",
       "      <td>Более 60 лет</td>\n",
       "      <td>4</td>\n",
       "      <td>6</td>\n",
       "      <td>5</td>\n",
       "      <td>1</td>\n",
       "      <td>0.00</td>\n",
       "      <td>0.83</td>\n",
       "      <td>0.17</td>\n",
       "    </tr>\n",
       "    <tr>\n",
       "      <th>18</th>\n",
       "      <td>От 50 и до 60 лет</td>\n",
       "      <td>4</td>\n",
       "      <td>83</td>\n",
       "      <td>61</td>\n",
       "      <td>22</td>\n",
       "      <td>0.03</td>\n",
       "      <td>0.73</td>\n",
       "      <td>0.27</td>\n",
       "    </tr>\n",
       "    <tr>\n",
       "      <th>13</th>\n",
       "      <td>От 26 и до 49 лет</td>\n",
       "      <td>4</td>\n",
       "      <td>351</td>\n",
       "      <td>219</td>\n",
       "      <td>132</td>\n",
       "      <td>0.12</td>\n",
       "      <td>0.62</td>\n",
       "      <td>0.38</td>\n",
       "    </tr>\n",
       "    <tr>\n",
       "      <th>14</th>\n",
       "      <td>От 26 и до 49 лет</td>\n",
       "      <td>5</td>\n",
       "      <td>14</td>\n",
       "      <td>7</td>\n",
       "      <td>7</td>\n",
       "      <td>0.00</td>\n",
       "      <td>0.50</td>\n",
       "      <td>0.50</td>\n",
       "    </tr>\n",
       "    <tr>\n",
       "      <th>17</th>\n",
       "      <td>От 50 и до 60 лет</td>\n",
       "      <td>3</td>\n",
       "      <td>204</td>\n",
       "      <td>91</td>\n",
       "      <td>113</td>\n",
       "      <td>0.05</td>\n",
       "      <td>0.45</td>\n",
       "      <td>0.55</td>\n",
       "    </tr>\n",
       "    <tr>\n",
       "      <th>7</th>\n",
       "      <td>До 25 лет</td>\n",
       "      <td>3</td>\n",
       "      <td>21</td>\n",
       "      <td>7</td>\n",
       "      <td>14</td>\n",
       "      <td>0.00</td>\n",
       "      <td>0.33</td>\n",
       "      <td>0.67</td>\n",
       "    </tr>\n",
       "    <tr>\n",
       "      <th>16</th>\n",
       "      <td>От 50 и до 60 лет</td>\n",
       "      <td>2</td>\n",
       "      <td>956</td>\n",
       "      <td>257</td>\n",
       "      <td>699</td>\n",
       "      <td>0.15</td>\n",
       "      <td>0.27</td>\n",
       "      <td>0.73</td>\n",
       "    </tr>\n",
       "    <tr>\n",
       "      <th>12</th>\n",
       "      <td>От 26 и до 49 лет</td>\n",
       "      <td>3</td>\n",
       "      <td>612</td>\n",
       "      <td>167</td>\n",
       "      <td>445</td>\n",
       "      <td>0.09</td>\n",
       "      <td>0.27</td>\n",
       "      <td>0.73</td>\n",
       "    </tr>\n",
       "    <tr>\n",
       "      <th>6</th>\n",
       "      <td>До 25 лет</td>\n",
       "      <td>2</td>\n",
       "      <td>215</td>\n",
       "      <td>43</td>\n",
       "      <td>172</td>\n",
       "      <td>0.02</td>\n",
       "      <td>0.20</td>\n",
       "      <td>0.80</td>\n",
       "    </tr>\n",
       "  </tbody>\n",
       "</table>\n",
       "</div>"
      ],
      "text/plain": [
       "         age_category  products  total_users  churn_client_num  \\\n",
       "0        Более 60 лет         0            1                 1   \n",
       "4        Более 60 лет         4            6                 5   \n",
       "18  От 50 и до 60 лет         4           83                61   \n",
       "13  От 26 и до 49 лет         4          351               219   \n",
       "14  От 26 и до 49 лет         5           14                 7   \n",
       "17  От 50 и до 60 лет         3          204                91   \n",
       "7           До 25 лет         3           21                 7   \n",
       "16  От 50 и до 60 лет         2          956               257   \n",
       "12  От 26 и до 49 лет         3          612               167   \n",
       "6           До 25 лет         2          215                43   \n",
       "\n",
       "    not_churn_client_num  churn_rate  churn_rate_segment  \\\n",
       "0                      0        0.00                1.00   \n",
       "4                      1        0.00                0.83   \n",
       "18                    22        0.03                0.73   \n",
       "13                   132        0.12                0.62   \n",
       "14                     7        0.00                0.50   \n",
       "17                   113        0.05                0.45   \n",
       "7                     14        0.00                0.33   \n",
       "16                   699        0.15                0.27   \n",
       "12                   445        0.09                0.27   \n",
       "6                    172        0.02                0.20   \n",
       "\n",
       "    not_churn_rate_segment  \n",
       "0                     0.00  \n",
       "4                     0.17  \n",
       "18                    0.27  \n",
       "13                    0.38  \n",
       "14                    0.50  \n",
       "17                    0.55  \n",
       "7                     0.67  \n",
       "16                    0.73  \n",
       "12                    0.73  \n",
       "6                     0.80  "
      ]
     },
     "execution_count": 39,
     "metadata": {},
     "output_type": "execute_result"
    }
   ],
   "source": [
    "# Смотрим на отточность в разрезе возраста и кол-ва продуктов\n",
    "\n",
    "age_products_segment = segment_df(df,col=['age_category','products',])\n",
    "age_products_segment.sort_values(by='churn_rate_segment',ascending=False).head(10)"
   ]
  },
  {
   "cell_type": "markdown",
   "metadata": {},
   "source": [
    "Мы видим, что самыми отточными сегментами являются:\n",
    "\n",
    "- Клиенты возрастом старше `60 лет` с `4` продуктами - **83%** (**5** клиента);\n",
    "\n",
    "- Клиенты возрастом от `50` и до `60 лет` с `4` продуктами - **73%** (**61** клиента);\n",
    "- Клиенты возрастом от `26` и до `49 лет` с `4` продуктами - **62%** (**219** клиента).\n",
    "\n",
    "Мы можем говорить о том, что большое кол-во продуктов напрямую влияет на отток клиентов из банка."
   ]
  },
  {
   "cell_type": "code",
   "execution_count": 40,
   "metadata": {},
   "outputs": [
    {
     "data": {
      "text/html": [
       "<div>\n",
       "<style scoped>\n",
       "    .dataframe tbody tr th:only-of-type {\n",
       "        vertical-align: middle;\n",
       "    }\n",
       "\n",
       "    .dataframe tbody tr th {\n",
       "        vertical-align: top;\n",
       "    }\n",
       "\n",
       "    .dataframe thead th {\n",
       "        text-align: right;\n",
       "    }\n",
       "</style>\n",
       "<table border=\"1\" class=\"dataframe\">\n",
       "  <thead>\n",
       "    <tr style=\"text-align: right;\">\n",
       "      <th></th>\n",
       "      <th>age_category</th>\n",
       "      <th>equity</th>\n",
       "      <th>total_users</th>\n",
       "      <th>churn_client_num</th>\n",
       "      <th>not_churn_client_num</th>\n",
       "      <th>churn_rate</th>\n",
       "      <th>churn_rate_segment</th>\n",
       "      <th>not_churn_rate_segment</th>\n",
       "    </tr>\n",
       "  </thead>\n",
       "  <tbody>\n",
       "    <tr>\n",
       "      <th>9</th>\n",
       "      <td>Более 60 лет</td>\n",
       "      <td>9</td>\n",
       "      <td>1</td>\n",
       "      <td>1</td>\n",
       "      <td>0</td>\n",
       "      <td>0.00</td>\n",
       "      <td>1.00</td>\n",
       "      <td>0.00</td>\n",
       "    </tr>\n",
       "    <tr>\n",
       "      <th>36</th>\n",
       "      <td>От 50 и до 60 лет</td>\n",
       "      <td>8</td>\n",
       "      <td>5</td>\n",
       "      <td>3</td>\n",
       "      <td>2</td>\n",
       "      <td>0.00</td>\n",
       "      <td>0.60</td>\n",
       "      <td>0.40</td>\n",
       "    </tr>\n",
       "    <tr>\n",
       "      <th>27</th>\n",
       "      <td>От 26 и до 49 лет</td>\n",
       "      <td>9</td>\n",
       "      <td>11</td>\n",
       "      <td>6</td>\n",
       "      <td>5</td>\n",
       "      <td>0.00</td>\n",
       "      <td>0.55</td>\n",
       "      <td>0.45</td>\n",
       "    </tr>\n",
       "    <tr>\n",
       "      <th>35</th>\n",
       "      <td>От 50 и до 60 лет</td>\n",
       "      <td>7</td>\n",
       "      <td>13</td>\n",
       "      <td>7</td>\n",
       "      <td>6</td>\n",
       "      <td>0.00</td>\n",
       "      <td>0.54</td>\n",
       "      <td>0.46</td>\n",
       "    </tr>\n",
       "    <tr>\n",
       "      <th>25</th>\n",
       "      <td>От 26 и до 49 лет</td>\n",
       "      <td>7</td>\n",
       "      <td>50</td>\n",
       "      <td>26</td>\n",
       "      <td>24</td>\n",
       "      <td>0.01</td>\n",
       "      <td>0.52</td>\n",
       "      <td>0.48</td>\n",
       "    </tr>\n",
       "    <tr>\n",
       "      <th>15</th>\n",
       "      <td>До 25 лет</td>\n",
       "      <td>5</td>\n",
       "      <td>45</td>\n",
       "      <td>19</td>\n",
       "      <td>26</td>\n",
       "      <td>0.01</td>\n",
       "      <td>0.42</td>\n",
       "      <td>0.58</td>\n",
       "    </tr>\n",
       "    <tr>\n",
       "      <th>17</th>\n",
       "      <td>До 25 лет</td>\n",
       "      <td>7</td>\n",
       "      <td>5</td>\n",
       "      <td>2</td>\n",
       "      <td>3</td>\n",
       "      <td>0.00</td>\n",
       "      <td>0.40</td>\n",
       "      <td>0.60</td>\n",
       "    </tr>\n",
       "    <tr>\n",
       "      <th>33</th>\n",
       "      <td>От 50 и до 60 лет</td>\n",
       "      <td>5</td>\n",
       "      <td>365</td>\n",
       "      <td>142</td>\n",
       "      <td>223</td>\n",
       "      <td>0.08</td>\n",
       "      <td>0.39</td>\n",
       "      <td>0.61</td>\n",
       "    </tr>\n",
       "    <tr>\n",
       "      <th>34</th>\n",
       "      <td>От 50 и до 60 лет</td>\n",
       "      <td>6</td>\n",
       "      <td>29</td>\n",
       "      <td>11</td>\n",
       "      <td>18</td>\n",
       "      <td>0.01</td>\n",
       "      <td>0.38</td>\n",
       "      <td>0.62</td>\n",
       "    </tr>\n",
       "    <tr>\n",
       "      <th>24</th>\n",
       "      <td>От 26 и до 49 лет</td>\n",
       "      <td>6</td>\n",
       "      <td>105</td>\n",
       "      <td>39</td>\n",
       "      <td>66</td>\n",
       "      <td>0.02</td>\n",
       "      <td>0.37</td>\n",
       "      <td>0.63</td>\n",
       "    </tr>\n",
       "  </tbody>\n",
       "</table>\n",
       "</div>"
      ],
      "text/plain": [
       "         age_category  equity  total_users  churn_client_num  \\\n",
       "9        Более 60 лет       9            1                 1   \n",
       "36  От 50 и до 60 лет       8            5                 3   \n",
       "27  От 26 и до 49 лет       9           11                 6   \n",
       "35  От 50 и до 60 лет       7           13                 7   \n",
       "25  От 26 и до 49 лет       7           50                26   \n",
       "15          До 25 лет       5           45                19   \n",
       "17          До 25 лет       7            5                 2   \n",
       "33  От 50 и до 60 лет       5          365               142   \n",
       "34  От 50 и до 60 лет       6           29                11   \n",
       "24  От 26 и до 49 лет       6          105                39   \n",
       "\n",
       "    not_churn_client_num  churn_rate  churn_rate_segment  \\\n",
       "9                      0        0.00                1.00   \n",
       "36                     2        0.00                0.60   \n",
       "27                     5        0.00                0.55   \n",
       "35                     6        0.00                0.54   \n",
       "25                    24        0.01                0.52   \n",
       "15                    26        0.01                0.42   \n",
       "17                     3        0.00                0.40   \n",
       "33                   223        0.08                0.39   \n",
       "34                    18        0.01                0.38   \n",
       "24                    66        0.02                0.37   \n",
       "\n",
       "    not_churn_rate_segment  \n",
       "9                     0.00  \n",
       "36                    0.40  \n",
       "27                    0.45  \n",
       "35                    0.46  \n",
       "25                    0.48  \n",
       "15                    0.58  \n",
       "17                    0.60  \n",
       "33                    0.61  \n",
       "34                    0.62  \n",
       "24                    0.63  "
      ]
     },
     "execution_count": 40,
     "metadata": {},
     "output_type": "execute_result"
    }
   ],
   "source": [
    "# Смотрим на отточность в разрезе возраста и оценки собственности\n",
    "\n",
    "age_equity_segment = segment_df(df,col=['age_category','equity',])\n",
    "age_equity_segment.sort_values(by='churn_rate_segment',ascending=False).head(10)"
   ]
  },
  {
   "cell_type": "markdown",
   "metadata": {},
   "source": [
    "**Вывод:**\n",
    "\n"
   ]
  },
  {
   "cell_type": "markdown",
   "metadata": {},
   "source": [
    "Мы видим, что самыми отточными сегментами являются:\n",
    "\n",
    "- Клиенты возрастом до `25 лет` с оценкой собственности в `5` баллов - **60%** (**15** клиента);\n",
    "\n",
    "- Клиенты возрастом от `50` и до `60 лет` с оценкой собственности в `5` баллов и более;\n",
    "- Клиенты возрастом от `26` и до `49 лет` с оценкой собственности в `9` баллов - **55%** (**6** клиента).\n",
    "\n",
    "Мы так же можем говорить о том, что большое кол-во баллов оценки собственности (`5` и более) влияют на отток."
   ]
  },
  {
   "cell_type": "markdown",
   "metadata": {},
   "source": [
    "Также ранее мы выявили, что кредитный скоринг, заработная плата и баланс на счете влияют на отток клиентов из банка"
   ]
  },
  {
   "cell_type": "code",
   "execution_count": 41,
   "metadata": {},
   "outputs": [
    {
     "data": {
      "text/html": [
       "<div>\n",
       "<style scoped>\n",
       "    .dataframe tbody tr th:only-of-type {\n",
       "        vertical-align: middle;\n",
       "    }\n",
       "\n",
       "    .dataframe tbody tr th {\n",
       "        vertical-align: top;\n",
       "    }\n",
       "\n",
       "    .dataframe thead th {\n",
       "        text-align: right;\n",
       "    }\n",
       "</style>\n",
       "<table border=\"1\" class=\"dataframe\">\n",
       "  <thead>\n",
       "    <tr style=\"text-align: right;\">\n",
       "      <th></th>\n",
       "      <th>salary_category</th>\n",
       "      <th>balance_category</th>\n",
       "      <th>total_users</th>\n",
       "      <th>churn_client_num</th>\n",
       "      <th>not_churn_client_num</th>\n",
       "      <th>churn_rate</th>\n",
       "      <th>churn_rate_segment</th>\n",
       "      <th>not_churn_rate_segment</th>\n",
       "    </tr>\n",
       "  </thead>\n",
       "  <tbody>\n",
       "    <tr>\n",
       "      <th>6</th>\n",
       "      <td>Выше-среднего з/п</td>\n",
       "      <td>Высокий баланс</td>\n",
       "      <td>252</td>\n",
       "      <td>133</td>\n",
       "      <td>119</td>\n",
       "      <td>0.08</td>\n",
       "      <td>0.53</td>\n",
       "      <td>0.47</td>\n",
       "    </tr>\n",
       "    <tr>\n",
       "      <th>11</th>\n",
       "      <td>Низкая з/п</td>\n",
       "      <td>Высокий баланс</td>\n",
       "      <td>4</td>\n",
       "      <td>2</td>\n",
       "      <td>2</td>\n",
       "      <td>0.00</td>\n",
       "      <td>0.50</td>\n",
       "      <td>0.50</td>\n",
       "    </tr>\n",
       "    <tr>\n",
       "      <th>2</th>\n",
       "      <td>Высокая з/п</td>\n",
       "      <td>Выше-среднего баланс</td>\n",
       "      <td>38</td>\n",
       "      <td>18</td>\n",
       "      <td>20</td>\n",
       "      <td>0.01</td>\n",
       "      <td>0.47</td>\n",
       "      <td>0.53</td>\n",
       "    </tr>\n",
       "    <tr>\n",
       "      <th>1</th>\n",
       "      <td>Высокая з/п</td>\n",
       "      <td>Высокий баланс</td>\n",
       "      <td>129</td>\n",
       "      <td>56</td>\n",
       "      <td>73</td>\n",
       "      <td>0.03</td>\n",
       "      <td>0.43</td>\n",
       "      <td>0.57</td>\n",
       "    </tr>\n",
       "    <tr>\n",
       "      <th>7</th>\n",
       "      <td>Выше-среднего з/п</td>\n",
       "      <td>Выше-среднего баланс</td>\n",
       "      <td>763</td>\n",
       "      <td>318</td>\n",
       "      <td>445</td>\n",
       "      <td>0.18</td>\n",
       "      <td>0.42</td>\n",
       "      <td>0.58</td>\n",
       "    </tr>\n",
       "    <tr>\n",
       "      <th>16</th>\n",
       "      <td>Средняя з/п</td>\n",
       "      <td>Высокий баланс</td>\n",
       "      <td>32</td>\n",
       "      <td>11</td>\n",
       "      <td>21</td>\n",
       "      <td>0.01</td>\n",
       "      <td>0.34</td>\n",
       "      <td>0.66</td>\n",
       "    </tr>\n",
       "    <tr>\n",
       "      <th>4</th>\n",
       "      <td>Высокая з/п</td>\n",
       "      <td>Средний баланс</td>\n",
       "      <td>32</td>\n",
       "      <td>9</td>\n",
       "      <td>23</td>\n",
       "      <td>0.01</td>\n",
       "      <td>0.28</td>\n",
       "      <td>0.72</td>\n",
       "    </tr>\n",
       "    <tr>\n",
       "      <th>17</th>\n",
       "      <td>Средняя з/п</td>\n",
       "      <td>Выше-среднего баланс</td>\n",
       "      <td>484</td>\n",
       "      <td>135</td>\n",
       "      <td>349</td>\n",
       "      <td>0.08</td>\n",
       "      <td>0.28</td>\n",
       "      <td>0.72</td>\n",
       "    </tr>\n",
       "    <tr>\n",
       "      <th>3</th>\n",
       "      <td>Высокая з/п</td>\n",
       "      <td>Низкий баланс</td>\n",
       "      <td>11</td>\n",
       "      <td>3</td>\n",
       "      <td>8</td>\n",
       "      <td>0.00</td>\n",
       "      <td>0.27</td>\n",
       "      <td>0.73</td>\n",
       "    </tr>\n",
       "    <tr>\n",
       "      <th>9</th>\n",
       "      <td>Выше-среднего з/п</td>\n",
       "      <td>Средний баланс</td>\n",
       "      <td>1552</td>\n",
       "      <td>331</td>\n",
       "      <td>1221</td>\n",
       "      <td>0.19</td>\n",
       "      <td>0.21</td>\n",
       "      <td>0.79</td>\n",
       "    </tr>\n",
       "  </tbody>\n",
       "</table>\n",
       "</div>"
      ],
      "text/plain": [
       "      salary_category      balance_category  total_users  churn_client_num  \\\n",
       "6   Выше-среднего з/п        Высокий баланс          252               133   \n",
       "11         Низкая з/п        Высокий баланс            4                 2   \n",
       "2         Высокая з/п  Выше-среднего баланс           38                18   \n",
       "1         Высокая з/п        Высокий баланс          129                56   \n",
       "7   Выше-среднего з/п  Выше-среднего баланс          763               318   \n",
       "16        Средняя з/п        Высокий баланс           32                11   \n",
       "4         Высокая з/п        Средний баланс           32                 9   \n",
       "17        Средняя з/п  Выше-среднего баланс          484               135   \n",
       "3         Высокая з/п         Низкий баланс           11                 3   \n",
       "9   Выше-среднего з/п        Средний баланс         1552               331   \n",
       "\n",
       "    not_churn_client_num  churn_rate  churn_rate_segment  \\\n",
       "6                    119        0.08                0.53   \n",
       "11                     2        0.00                0.50   \n",
       "2                     20        0.01                0.47   \n",
       "1                     73        0.03                0.43   \n",
       "7                    445        0.18                0.42   \n",
       "16                    21        0.01                0.34   \n",
       "4                     23        0.01                0.28   \n",
       "17                   349        0.08                0.28   \n",
       "3                      8        0.00                0.27   \n",
       "9                   1221        0.19                0.21   \n",
       "\n",
       "    not_churn_rate_segment  \n",
       "6                     0.47  \n",
       "11                    0.50  \n",
       "2                     0.53  \n",
       "1                     0.57  \n",
       "7                     0.58  \n",
       "16                    0.66  \n",
       "4                     0.72  \n",
       "17                    0.72  \n",
       "3                     0.73  \n",
       "9                     0.79  "
      ]
     },
     "execution_count": 41,
     "metadata": {},
     "output_type": "execute_result"
    }
   ],
   "source": [
    "# Смотрим на отточность в разрезе заработной платы и баланса на счете\n",
    "\n",
    "salart_balance_segment = segment_df(df,col=['salary_category','balance_category'])\n",
    "salart_balance_segment.sort_values(by='churn_rate_segment',ascending=False).head(10)"
   ]
  },
  {
   "cell_type": "markdown",
   "metadata": {},
   "source": [
    "**Вывод:**\n",
    "\n",
    "Мы видим, что самыми отточными сегментами являются:\n",
    "\n",
    "- Клиенты с зарплатой выше-среднего (`120 - 300 тыс руб`) и  высоким балансом на счете (более `2 млн руб`) - **53%** (**133** клиента);\n",
    "\n",
    "- Клиенты с высокой зарплатой (Более `300 тыс руб`) и  балансом на счете высоком (от `1` до `2 млн руб`), либо выше-среднего (более `2 млн руб`;\n",
    "\n",
    "- Клиенты с зарплатой выше-среднего (`120 - 300 тыс руб`) и балансом на счете выше-среднего (от `1` до `2 млн руб`) - **42%** (**318** клиента).\n",
    "\n",
    "Мы можем говорить о том, что более состоятельные клиенты, с большим доходом и балансом на счете склоны уходить из банка чаще остальных."
   ]
  },
  {
   "cell_type": "code",
   "execution_count": 42,
   "metadata": {},
   "outputs": [
    {
     "data": {
      "text/html": [
       "<div>\n",
       "<style scoped>\n",
       "    .dataframe tbody tr th:only-of-type {\n",
       "        vertical-align: middle;\n",
       "    }\n",
       "\n",
       "    .dataframe tbody tr th {\n",
       "        vertical-align: top;\n",
       "    }\n",
       "\n",
       "    .dataframe thead th {\n",
       "        text-align: right;\n",
       "    }\n",
       "</style>\n",
       "<table border=\"1\" class=\"dataframe\">\n",
       "  <thead>\n",
       "    <tr style=\"text-align: right;\">\n",
       "      <th></th>\n",
       "      <th>scoring_category</th>\n",
       "      <th>balance_category</th>\n",
       "      <th>total_users</th>\n",
       "      <th>churn_client_num</th>\n",
       "      <th>not_churn_client_num</th>\n",
       "      <th>churn_rate</th>\n",
       "      <th>churn_rate_segment</th>\n",
       "      <th>not_churn_rate_segment</th>\n",
       "    </tr>\n",
       "  </thead>\n",
       "  <tbody>\n",
       "    <tr>\n",
       "      <th>11</th>\n",
       "      <td>rating C</td>\n",
       "      <td>Высокий баланс</td>\n",
       "      <td>1</td>\n",
       "      <td>1</td>\n",
       "      <td>0</td>\n",
       "      <td>0.00</td>\n",
       "      <td>1.00</td>\n",
       "      <td>0.00</td>\n",
       "    </tr>\n",
       "    <tr>\n",
       "      <th>6</th>\n",
       "      <td>rating B</td>\n",
       "      <td>Высокий баланс</td>\n",
       "      <td>93</td>\n",
       "      <td>52</td>\n",
       "      <td>41</td>\n",
       "      <td>0.03</td>\n",
       "      <td>0.56</td>\n",
       "      <td>0.44</td>\n",
       "    </tr>\n",
       "    <tr>\n",
       "      <th>1</th>\n",
       "      <td>rating A</td>\n",
       "      <td>Высокий баланс</td>\n",
       "      <td>323</td>\n",
       "      <td>149</td>\n",
       "      <td>174</td>\n",
       "      <td>0.08</td>\n",
       "      <td>0.46</td>\n",
       "      <td>0.54</td>\n",
       "    </tr>\n",
       "    <tr>\n",
       "      <th>2</th>\n",
       "      <td>rating A</td>\n",
       "      <td>Выше-среднего баланс</td>\n",
       "      <td>384</td>\n",
       "      <td>152</td>\n",
       "      <td>232</td>\n",
       "      <td>0.09</td>\n",
       "      <td>0.40</td>\n",
       "      <td>0.60</td>\n",
       "    </tr>\n",
       "    <tr>\n",
       "      <th>7</th>\n",
       "      <td>rating B</td>\n",
       "      <td>Выше-среднего баланс</td>\n",
       "      <td>808</td>\n",
       "      <td>310</td>\n",
       "      <td>498</td>\n",
       "      <td>0.18</td>\n",
       "      <td>0.38</td>\n",
       "      <td>0.62</td>\n",
       "    </tr>\n",
       "    <tr>\n",
       "      <th>4</th>\n",
       "      <td>rating A</td>\n",
       "      <td>Средний баланс</td>\n",
       "      <td>402</td>\n",
       "      <td>91</td>\n",
       "      <td>311</td>\n",
       "      <td>0.05</td>\n",
       "      <td>0.23</td>\n",
       "      <td>0.77</td>\n",
       "    </tr>\n",
       "    <tr>\n",
       "      <th>9</th>\n",
       "      <td>rating B</td>\n",
       "      <td>Средний баланс</td>\n",
       "      <td>2881</td>\n",
       "      <td>639</td>\n",
       "      <td>2242</td>\n",
       "      <td>0.36</td>\n",
       "      <td>0.22</td>\n",
       "      <td>0.78</td>\n",
       "    </tr>\n",
       "    <tr>\n",
       "      <th>8</th>\n",
       "      <td>rating B</td>\n",
       "      <td>Низкий баланс</td>\n",
       "      <td>736</td>\n",
       "      <td>147</td>\n",
       "      <td>589</td>\n",
       "      <td>0.08</td>\n",
       "      <td>0.20</td>\n",
       "      <td>0.80</td>\n",
       "    </tr>\n",
       "    <tr>\n",
       "      <th>12</th>\n",
       "      <td>rating C</td>\n",
       "      <td>Выше-среднего баланс</td>\n",
       "      <td>230</td>\n",
       "      <td>34</td>\n",
       "      <td>196</td>\n",
       "      <td>0.02</td>\n",
       "      <td>0.15</td>\n",
       "      <td>0.85</td>\n",
       "    </tr>\n",
       "    <tr>\n",
       "      <th>3</th>\n",
       "      <td>rating A</td>\n",
       "      <td>Низкий баланс</td>\n",
       "      <td>102</td>\n",
       "      <td>11</td>\n",
       "      <td>91</td>\n",
       "      <td>0.01</td>\n",
       "      <td>0.11</td>\n",
       "      <td>0.89</td>\n",
       "    </tr>\n",
       "  </tbody>\n",
       "</table>\n",
       "</div>"
      ],
      "text/plain": [
       "   scoring_category      balance_category  total_users  churn_client_num  \\\n",
       "11         rating C        Высокий баланс            1                 1   \n",
       "6          rating B        Высокий баланс           93                52   \n",
       "1          rating A        Высокий баланс          323               149   \n",
       "2          rating A  Выше-среднего баланс          384               152   \n",
       "7          rating B  Выше-среднего баланс          808               310   \n",
       "4          rating A        Средний баланс          402                91   \n",
       "9          rating B        Средний баланс         2881               639   \n",
       "8          rating B         Низкий баланс          736               147   \n",
       "12         rating C  Выше-среднего баланс          230                34   \n",
       "3          rating A         Низкий баланс          102                11   \n",
       "\n",
       "    not_churn_client_num  churn_rate  churn_rate_segment  \\\n",
       "11                     0        0.00                1.00   \n",
       "6                     41        0.03                0.56   \n",
       "1                    174        0.08                0.46   \n",
       "2                    232        0.09                0.40   \n",
       "7                    498        0.18                0.38   \n",
       "4                    311        0.05                0.23   \n",
       "9                   2242        0.36                0.22   \n",
       "8                    589        0.08                0.20   \n",
       "12                   196        0.02                0.15   \n",
       "3                     91        0.01                0.11   \n",
       "\n",
       "    not_churn_rate_segment  \n",
       "11                    0.00  \n",
       "6                     0.44  \n",
       "1                     0.54  \n",
       "2                     0.60  \n",
       "7                     0.62  \n",
       "4                     0.77  \n",
       "9                     0.78  \n",
       "8                     0.80  \n",
       "12                    0.85  \n",
       "3                     0.89  "
      ]
     },
     "execution_count": 42,
     "metadata": {},
     "output_type": "execute_result"
    }
   ],
   "source": [
    "# Смотрим на отточность в разрезе кредитного скоринга и баланса на счете\n",
    "\n",
    "scoring_balance_segment = segment_df(df,col=['scoring_category','balance_category',])\n",
    "scoring_balance_segment.sort_values(by='churn_rate_segment',ascending=False).head(10)"
   ]
  },
  {
   "cell_type": "markdown",
   "metadata": {},
   "source": [
    "**Вывод:**\n",
    "\n",
    "Мы видим, что самыми отточными сегментами являются:\n",
    "\n",
    "- Клиенты с кредитным скорингом `rating B` (от `800` до `900`) и  высоким балансом на счете (более `2 млн руб`) - **56%** (**52** клиента);\n",
    "\n",
    "- Клиенты с кредитным скорингом `rating A` (Более `900`) и  балансом на счете высоком (от `1` до `2 млн руб`), либо выше-среднего (более `2 млн руб` - **46%** (**149** клиента) и **40%** (**152** клиента) соответственно;\n",
    "\n",
    "Мы можем говорить о том, что клиенты с высоким кредитным рейтингом и большим балансом на счете склоны уходить из банка чаще остальных."
   ]
  },
  {
   "cell_type": "markdown",
   "metadata": {},
   "source": [
    "Исходя из проведенного анализа, мы можем утверждать, что отточный клиент, чаще всего довольно состоятельный, с большим количеством продуктов, оценкой собственности, доходом, кредитным рейтингом и балансом на счете и соответствует минимальным диапазонам, выделенными нами ранее при их сегментации."
   ]
  },
  {
   "cell_type": "markdown",
   "metadata": {},
   "source": [
    "# Провера гипотез"
   ]
  },
  {
   "cell_type": "markdown",
   "metadata": {},
   "source": [
    "Для проверки гипотез будем использовать `t-тест Стьюдента`, так как он используется для сравнения средних значений двух независимых выборок. Этот тест позволит нам определить, есть ли статистически значимое различие между средними значениями двух групп. \n",
    "\n",
    "Критическое значение t определяет порог значимости для определенных статистических тестов и верхние и нижние границы доверительных интервалов для определенных оценок. Обычно используются уровни значимости `0.05` или `0.01`. В рамках данного исследования будет использовать уровень значимости в - `0.05`.\n",
    "\n",
    "Перед проверкой, создадим функцию, которая будет проводить тест и выводить его результат."
   ]
  },
  {
   "cell_type": "code",
   "execution_count": 43,
   "metadata": {},
   "outputs": [],
   "source": [
    "# Функция на вход принимает датафрейм, колонку churn которая будет делить группы на отточных и неотточных\n",
    "# И колонку с исследуемым признаком\n",
    "def hypothesis(df,churn_col,col):\n",
    "    \n",
    "    # Создаем две группы\n",
    "    group1 = df[df[churn_col] == 1][col]\n",
    "    group2 = df[df[churn_col] == 0][col]\n",
    "    \n",
    "    # Задаем порог статистической значимости\n",
    "    alpha = 0.05\n",
    "    \n",
    "    # Проводим тест\n",
    "    t_statistic, p_value = stats.ttest_ind(group1, group2)\n",
    "    \n",
    "    # Выводим результат\n",
    "    if p_value < alpha:\n",
    "        print(f'p-value t-теста: {p_value}. Отвергаем нулевую гипотезу. Есть статистически значимое различие между средними значениями двух групп.')\n",
    "    else:\n",
    "        print(f'p-value t-теста: {p_value}. Не отвергаем нулевую гипотезу. Нет достаточных оснований утверждать о наличии статистически значимого различия между средними значениями двух групп.')"
   ]
  },
  {
   "cell_type": "markdown",
   "metadata": {},
   "source": [
    "## Проверка гипотезы о доходах"
   ]
  },
  {
   "cell_type": "markdown",
   "metadata": {},
   "source": [
    "- **H₀ (нулевая гипотеза)** - различия в среднем доходе между теми клиентами, которые ушли и теми, которые остались нет;\n",
    "- **H₁ (альтернативная гипотеза)** - различия в среднем доходе между теми клиентами, которые ушли и теми, которые остались есть;"
   ]
  },
  {
   "cell_type": "code",
   "execution_count": 44,
   "metadata": {},
   "outputs": [
    {
     "name": "stdout",
     "output_type": "stream",
     "text": [
      "p-value t-теста: 0.9048312911391729. Не отвергаем нулевую гипотезу. Нет достаточных оснований утверждать о наличии статистически значимого различия между средними значениями двух групп.\n"
     ]
    }
   ],
   "source": [
    "hypothesis(df,'churn','est_salary')"
   ]
  },
  {
   "cell_type": "markdown",
   "metadata": {},
   "source": [
    "## Проверка гипотезы о возрасте"
   ]
  },
  {
   "cell_type": "markdown",
   "metadata": {},
   "source": [
    "- **H₀ (нулевая гипотеза)** - различия в среднем возрасте  между теми клиентами, которые ушли и теми, которые остались нет;\n",
    "- **H₁ (альтернативная гипотеза)** - различия в средней возрасте между теми клиентами, которые ушли и теми, которые остались есть;"
   ]
  },
  {
   "cell_type": "code",
   "execution_count": 45,
   "metadata": {},
   "outputs": [
    {
     "name": "stdout",
     "output_type": "stream",
     "text": [
      "p-value t-теста: nan. Не отвергаем нулевую гипотезу. Нет достаточных оснований утверждать о наличии статистически значимого различия между средними значениями двух групп.\n"
     ]
    }
   ],
   "source": [
    "hypothesis(df,'churn','age')"
   ]
  },
  {
   "cell_type": "markdown",
   "metadata": {},
   "source": [
    "## Проверка гипотезы о  количестве продуктов"
   ]
  },
  {
   "cell_type": "markdown",
   "metadata": {},
   "source": [
    "- **H₀ (нулевая гипотеза)** - различия в среднем кол-ве продуктов между теми клиентами, которые ушли и теми, которые остались нет;\n",
    "- **H₁ (альтернативная гипотеза)** - различия в среднем кол-ве продуктов между теми клиентами, которые ушли и теми, которые остались есть;"
   ]
  },
  {
   "cell_type": "code",
   "execution_count": 46,
   "metadata": {},
   "outputs": [
    {
     "name": "stdout",
     "output_type": "stream",
     "text": [
      "p-value t-теста: 1.7020739877150174e-200. Отвергаем нулевую гипотезу. Есть статистически значимое различие между средними значениями двух групп.\n"
     ]
    }
   ],
   "source": [
    "hypothesis(df,'churn','products')"
   ]
  },
  {
   "cell_type": "markdown",
   "metadata": {},
   "source": [
    "**Вывод:**\n",
    "\n",
    "По результата тестов, мы исследовали гипотезы по трем признакам и получили следующие результаты:\n",
    "\n",
    "- *Доход:* не отвергли нулевую гипотезу о равенстве групп;\n",
    "- *Возраст:* отвергли нулевую гипотезу о равенстве групп;\n",
    "- *Кол-во продуктов:* отвергли нулевую гипотезу о равенстве групп."
   ]
  },
  {
   "cell_type": "markdown",
   "metadata": {},
   "source": [
    "# Вывод и рекомендации"
   ]
  },
  {
   "cell_type": "markdown",
   "metadata": {},
   "source": [
    "## Вывод"
   ]
  },
  {
   "cell_type": "markdown",
   "metadata": {},
   "source": [
    "В ходе исследования мы проделали необходимые шаги для выяснения причин оттока клиентов из банка, а именно:\n",
    "\n",
    "1. Провели первичного ознакомление с данными;\n",
    "2. Провели преодработку данных (обработали дубликаты, пропуски) и добавили необходимые расчетные столбцы;\n",
    "3. Провели исследовательский анализ данных (посмотрели на распределния данных в разрезе отточности клиентов и на всех данных, а также провели корреляционный анализ);\n",
    "4. Сегментировали клиентов по различным признакам, выявили наиболее отточные;\n",
    "5. Провели статистический анализ и проверили ряд гипотез.\n",
    "\n",
    "\n",
    "Нашей задачей было определить наиболее отточные сегменты и составить портрет клиента, чаще всего склонного к оттоку. Наиболее отточными сегментами являются:\n",
    "\n",
    "- клиенты возрастом от 26 и до 49 лет с 4 продуктами банка; \n",
    "- клиенты возрастом от 50 и до 60 лет с 4 продуктами банка; \n",
    "- клиенты возрастом от 26 и до 49 лет с оценкой собственности в 5-8 баллов из 10; \n",
    "- клиенты с высокой заработной платой (от 120000 рублей и более) и большим балансом на счету (от 250000 и более); \n",
    "- клиенты с большим кредитным рейтингом (от 800 баллов и более) и большим балансом на счету (от 250000 и более).\n",
    "\n",
    "Портрет клиента, склонного к оттоку выглядит следующим образом:\n",
    "\n",
    "- **Возраст** - Чаще всего, оттоку подвержены клиенты возрастом `от 24 до 49`, и `от 50 до 60 лет`;\n",
    "\n",
    "- **Кредитный скоринг** - от `800` и более;\n",
    "- **Заработная плата**  - от `120 тыс. руб.` и более;\n",
    "- **Баланс на счете**  - от `250 тыс. руб` и более;\n",
    "- **Кол-во продуктов** - от `2` и более;\n",
    "- **Оценка стоимости собственности** - Клиенты с высокой оценкой собственности  от `5` и более.\n"
   ]
  },
  {
   "cell_type": "markdown",
   "metadata": {},
   "source": [
    "## Рекомендации"
   ]
  },
  {
   "cell_type": "markdown",
   "metadata": {},
   "source": [
    "В первую очередь нужно обратить внимание на:\n",
    "\n",
    "1. Клиентов с 4 продуктами. Мы выявили закономерность, которая заключалась в том, что с увеличением кол-ва продуктов у клиентов, более чем в 50% случаях он становился отточным. Для уменьшения оттока, мы можем посоветовать: \n",
    "\n",
    "    - Устранить недоработки в продукте или услуге, улучшить их качество;\n",
    "    - Проводить опросы среди клиентов для выявления проблем и пожеланий.\n",
    "    \n",
    "\n",
    "2. Клиентов с высокой заработной платой и большим балансом. Для уменьшения оттока можно:\n",
    "\n",
    "    - Организовать программу лояльности для постоянных клиентов (например, бонусы за пользование продуктами банка).\n",
    "    \n",
    "\n",
    "3. Клиентов с большим кредитным рейтингом и большим балансом на счету. Для уменьшения оттока мы можем:\n",
    "\n",
    "    - Предложить более привлекательные условия по кредиту и другим продукта банка, по сравнению с конкурентами;\n",
    "    - Улучшить качество обслуживания (например, сократить время ожидания в очереди или улучшить работу call-центра).\n"
   ]
  }
 ],
 "metadata": {
  "ExecuteTimeLog": [
   {
    "duration": 518,
    "start_time": "2023-03-07T10:04:24.819Z"
   },
   {
    "duration": 8073,
    "start_time": "2023-03-07T10:04:25.357Z"
   },
   {
    "duration": 3,
    "start_time": "2023-03-07T10:04:33.432Z"
   },
   {
    "duration": 173,
    "start_time": "2023-03-07T10:04:33.436Z"
   },
   {
    "duration": 447,
    "start_time": "2023-03-07T18:42:47.784Z"
   },
   {
    "duration": 1199,
    "start_time": "2023-03-07T18:42:59.986Z"
   },
   {
    "duration": 8,
    "start_time": "2023-03-07T18:45:10.360Z"
   },
   {
    "duration": 104,
    "start_time": "2023-03-07T18:45:28.379Z"
   },
   {
    "duration": 956,
    "start_time": "2023-03-07T18:49:29.310Z"
   },
   {
    "duration": 24,
    "start_time": "2023-03-07T18:59:08.291Z"
   },
   {
    "duration": 43,
    "start_time": "2023-03-07T19:01:26.229Z"
   },
   {
    "duration": 22,
    "start_time": "2023-03-07T19:01:36.093Z"
   },
   {
    "duration": 37,
    "start_time": "2023-03-07T19:03:48.626Z"
   },
   {
    "duration": 126,
    "start_time": "2023-03-07T19:04:36.899Z"
   },
   {
    "duration": 81,
    "start_time": "2023-03-07T19:05:01.462Z"
   },
   {
    "duration": 66,
    "start_time": "2023-03-07T19:05:44.843Z"
   },
   {
    "duration": 1158,
    "start_time": "2023-03-07T19:06:35.800Z"
   },
   {
    "duration": 1419,
    "start_time": "2023-03-07T19:06:36.960Z"
   },
   {
    "duration": 5,
    "start_time": "2023-03-07T19:06:38.381Z"
   },
   {
    "duration": 96,
    "start_time": "2023-03-07T19:06:38.388Z"
   },
   {
    "duration": 30,
    "start_time": "2023-03-07T19:06:38.486Z"
   },
   {
    "duration": 1262,
    "start_time": "2023-03-07T19:12:47.464Z"
   },
   {
    "duration": 1765,
    "start_time": "2023-03-07T19:12:48.728Z"
   },
   {
    "duration": 8,
    "start_time": "2023-03-07T19:12:50.495Z"
   },
   {
    "duration": 113,
    "start_time": "2023-03-07T19:12:50.504Z"
   },
   {
    "duration": 144,
    "start_time": "2023-03-07T19:12:50.619Z"
   },
   {
    "duration": 17,
    "start_time": "2023-03-07T19:13:04.386Z"
   },
   {
    "duration": 1205,
    "start_time": "2023-03-07T19:13:24.001Z"
   },
   {
    "duration": 1343,
    "start_time": "2023-03-07T19:13:25.208Z"
   },
   {
    "duration": 13,
    "start_time": "2023-03-07T19:13:26.553Z"
   },
   {
    "duration": 167,
    "start_time": "2023-03-07T19:13:26.568Z"
   },
   {
    "duration": 53,
    "start_time": "2023-03-07T19:13:26.737Z"
   },
   {
    "duration": 1200,
    "start_time": "2023-03-07T21:34:31.912Z"
   },
   {
    "duration": 2,
    "start_time": "2023-03-07T21:34:33.114Z"
   },
   {
    "duration": 1229,
    "start_time": "2023-03-07T21:34:33.118Z"
   },
   {
    "duration": 9,
    "start_time": "2023-03-07T21:34:34.349Z"
   },
   {
    "duration": 75,
    "start_time": "2023-03-08T11:49:18.579Z"
   },
   {
    "duration": 1359,
    "start_time": "2023-03-08T11:49:27.719Z"
   },
   {
    "duration": 9,
    "start_time": "2023-03-08T11:49:29.080Z"
   },
   {
    "duration": 1339,
    "start_time": "2023-03-08T11:49:29.090Z"
   },
   {
    "duration": 6,
    "start_time": "2023-03-08T11:49:30.431Z"
   },
   {
    "duration": 173,
    "start_time": "2023-03-08T11:49:30.439Z"
   },
   {
    "duration": 45,
    "start_time": "2023-03-08T12:30:30.291Z"
   },
   {
    "duration": 35,
    "start_time": "2023-03-08T12:30:47.943Z"
   },
   {
    "duration": 1090,
    "start_time": "2023-03-08T12:31:21.269Z"
   },
   {
    "duration": 3,
    "start_time": "2023-03-08T12:31:22.361Z"
   },
   {
    "duration": 1098,
    "start_time": "2023-03-08T12:31:22.365Z"
   },
   {
    "duration": 7,
    "start_time": "2023-03-08T12:31:23.464Z"
   },
   {
    "duration": 108,
    "start_time": "2023-03-08T12:31:23.473Z"
   },
   {
    "duration": 39,
    "start_time": "2023-03-08T12:31:23.587Z"
   },
   {
    "duration": 1104,
    "start_time": "2023-03-08T12:32:36.445Z"
   },
   {
    "duration": 3,
    "start_time": "2023-03-08T12:32:37.551Z"
   },
   {
    "duration": 894,
    "start_time": "2023-03-08T12:32:37.556Z"
   },
   {
    "duration": 9,
    "start_time": "2023-03-08T12:32:38.453Z"
   },
   {
    "duration": 183,
    "start_time": "2023-03-08T12:32:38.464Z"
   },
   {
    "duration": 53,
    "start_time": "2023-03-08T12:32:38.648Z"
   },
   {
    "duration": 1069,
    "start_time": "2023-03-08T12:33:11.424Z"
   },
   {
    "duration": 4,
    "start_time": "2023-03-08T12:33:12.495Z"
   },
   {
    "duration": 936,
    "start_time": "2023-03-08T12:33:12.500Z"
   },
   {
    "duration": 6,
    "start_time": "2023-03-08T12:33:13.438Z"
   },
   {
    "duration": 151,
    "start_time": "2023-03-08T12:33:13.447Z"
   },
   {
    "duration": 44,
    "start_time": "2023-03-08T12:33:13.599Z"
   },
   {
    "duration": 1164,
    "start_time": "2023-03-08T12:34:49.173Z"
   },
   {
    "duration": 3,
    "start_time": "2023-03-08T12:34:50.339Z"
   },
   {
    "duration": 930,
    "start_time": "2023-03-08T12:34:50.344Z"
   },
   {
    "duration": 20,
    "start_time": "2023-03-08T12:34:51.276Z"
   },
   {
    "duration": 141,
    "start_time": "2023-03-08T12:34:51.304Z"
   },
   {
    "duration": 6,
    "start_time": "2023-03-08T12:37:31.491Z"
   },
   {
    "duration": 18,
    "start_time": "2023-03-08T12:37:38.742Z"
   },
   {
    "duration": 20,
    "start_time": "2023-03-08T12:43:30.964Z"
   },
   {
    "duration": 9,
    "start_time": "2023-03-08T12:44:49.563Z"
   },
   {
    "duration": 8,
    "start_time": "2023-03-08T12:53:20.832Z"
   },
   {
    "duration": 7,
    "start_time": "2023-03-08T12:53:52.946Z"
   },
   {
    "duration": 8,
    "start_time": "2023-03-08T12:54:02.037Z"
   },
   {
    "duration": 125,
    "start_time": "2023-03-08T12:54:25.975Z"
   },
   {
    "duration": 16,
    "start_time": "2023-03-08T12:54:43.738Z"
   },
   {
    "duration": 8,
    "start_time": "2023-03-08T12:54:56.364Z"
   },
   {
    "duration": 9,
    "start_time": "2023-03-08T12:55:36.108Z"
   },
   {
    "duration": 11,
    "start_time": "2023-03-08T12:55:42.866Z"
   },
   {
    "duration": 9,
    "start_time": "2023-03-08T12:55:51.300Z"
   },
   {
    "duration": 9,
    "start_time": "2023-03-08T12:56:11.131Z"
   },
   {
    "duration": 12,
    "start_time": "2023-03-08T12:56:59.040Z"
   },
   {
    "duration": 10,
    "start_time": "2023-03-08T12:57:08.767Z"
   },
   {
    "duration": 3,
    "start_time": "2023-03-08T12:58:33.325Z"
   },
   {
    "duration": 5,
    "start_time": "2023-03-08T12:58:59.549Z"
   },
   {
    "duration": 5,
    "start_time": "2023-03-08T12:59:03.166Z"
   },
   {
    "duration": 3,
    "start_time": "2023-03-08T12:59:09.139Z"
   },
   {
    "duration": 10,
    "start_time": "2023-03-08T12:59:09.450Z"
   },
   {
    "duration": 8,
    "start_time": "2023-03-08T12:59:19.619Z"
   },
   {
    "duration": 3,
    "start_time": "2023-03-08T13:02:11.569Z"
   },
   {
    "duration": 9,
    "start_time": "2023-03-08T13:02:11.940Z"
   },
   {
    "duration": 3,
    "start_time": "2023-03-08T13:02:19.140Z"
   },
   {
    "duration": 9,
    "start_time": "2023-03-08T13:02:19.508Z"
   },
   {
    "duration": 3,
    "start_time": "2023-03-08T13:02:33.373Z"
   },
   {
    "duration": 9,
    "start_time": "2023-03-08T13:02:33.717Z"
   },
   {
    "duration": 5,
    "start_time": "2023-03-08T13:02:45.195Z"
   },
   {
    "duration": 11,
    "start_time": "2023-03-08T13:02:51.698Z"
   },
   {
    "duration": 3,
    "start_time": "2023-03-08T13:06:48.696Z"
   },
   {
    "duration": 11,
    "start_time": "2023-03-08T13:06:49.111Z"
   },
   {
    "duration": 12,
    "start_time": "2023-03-08T13:06:56.895Z"
   },
   {
    "duration": 5,
    "start_time": "2023-03-08T13:07:25.505Z"
   },
   {
    "duration": 15,
    "start_time": "2023-03-08T13:07:25.895Z"
   },
   {
    "duration": 4,
    "start_time": "2023-03-08T13:07:45.395Z"
   },
   {
    "duration": 13,
    "start_time": "2023-03-08T13:07:45.801Z"
   },
   {
    "duration": 10,
    "start_time": "2023-03-08T13:07:48.431Z"
   },
   {
    "duration": 4,
    "start_time": "2023-03-08T13:08:05.156Z"
   },
   {
    "duration": 11,
    "start_time": "2023-03-08T13:08:05.399Z"
   },
   {
    "duration": 13,
    "start_time": "2023-03-08T13:08:06.247Z"
   },
   {
    "duration": 9,
    "start_time": "2023-03-08T13:11:19.231Z"
   },
   {
    "duration": 14,
    "start_time": "2023-03-08T13:11:35.330Z"
   },
   {
    "duration": 17,
    "start_time": "2023-03-08T13:11:50.496Z"
   },
   {
    "duration": 12,
    "start_time": "2023-03-08T13:12:37.148Z"
   },
   {
    "duration": 22,
    "start_time": "2023-03-08T13:13:05.470Z"
   },
   {
    "duration": 11,
    "start_time": "2023-03-08T13:13:12.647Z"
   },
   {
    "duration": 20,
    "start_time": "2023-03-08T13:14:20.030Z"
   },
   {
    "duration": 15,
    "start_time": "2023-03-08T13:14:27.971Z"
   },
   {
    "duration": 35,
    "start_time": "2023-03-08T13:14:36.234Z"
   },
   {
    "duration": 33,
    "start_time": "2023-03-08T13:14:51.700Z"
   },
   {
    "duration": 34,
    "start_time": "2023-03-08T13:16:05.827Z"
   },
   {
    "duration": 40,
    "start_time": "2023-03-08T13:16:15.721Z"
   },
   {
    "duration": 38,
    "start_time": "2023-03-08T13:16:19.710Z"
   },
   {
    "duration": 54,
    "start_time": "2023-03-08T13:16:23.543Z"
   },
   {
    "duration": 60,
    "start_time": "2023-03-08T13:16:54.977Z"
   },
   {
    "duration": 33,
    "start_time": "2023-03-08T13:16:59.428Z"
   },
   {
    "duration": 11,
    "start_time": "2023-03-08T13:19:01.940Z"
   },
   {
    "duration": 11,
    "start_time": "2023-03-08T13:19:06.758Z"
   },
   {
    "duration": 46,
    "start_time": "2023-03-08T13:19:25.809Z"
   },
   {
    "duration": 38,
    "start_time": "2023-03-08T13:19:51.847Z"
   },
   {
    "duration": 39,
    "start_time": "2023-03-08T13:20:00.839Z"
   },
   {
    "duration": 39,
    "start_time": "2023-03-08T13:20:07.730Z"
   },
   {
    "duration": 39,
    "start_time": "2023-03-08T13:27:04.271Z"
   },
   {
    "duration": 71,
    "start_time": "2023-03-08T13:29:38.239Z"
   },
   {
    "duration": 67,
    "start_time": "2023-03-08T13:29:45.255Z"
   },
   {
    "duration": 69,
    "start_time": "2023-03-08T13:29:52.433Z"
   },
   {
    "duration": 5,
    "start_time": "2023-03-08T13:32:14.499Z"
   },
   {
    "duration": 91,
    "start_time": "2023-03-08T13:32:14.964Z"
   },
   {
    "duration": 10,
    "start_time": "2023-03-08T13:35:04.728Z"
   },
   {
    "duration": 15,
    "start_time": "2023-03-08T13:35:16.615Z"
   },
   {
    "duration": 9,
    "start_time": "2023-03-08T13:36:53.522Z"
   },
   {
    "duration": 16,
    "start_time": "2023-03-08T13:38:30.303Z"
   },
   {
    "duration": 15,
    "start_time": "2023-03-08T13:38:46.705Z"
   },
   {
    "duration": 23,
    "start_time": "2023-03-08T13:39:57.698Z"
   },
   {
    "duration": 21,
    "start_time": "2023-03-08T13:40:40.602Z"
   },
   {
    "duration": 16,
    "start_time": "2023-03-08T13:41:00.665Z"
   },
   {
    "duration": 15,
    "start_time": "2023-03-08T13:41:15.678Z"
   },
   {
    "duration": 16,
    "start_time": "2023-03-08T13:41:27.578Z"
   },
   {
    "duration": 1105,
    "start_time": "2023-03-08T13:41:49.548Z"
   },
   {
    "duration": 3,
    "start_time": "2023-03-08T13:41:50.656Z"
   },
   {
    "duration": 1129,
    "start_time": "2023-03-08T13:41:50.660Z"
   },
   {
    "duration": 7,
    "start_time": "2023-03-08T13:41:51.791Z"
   },
   {
    "duration": 103,
    "start_time": "2023-03-08T13:41:51.800Z"
   },
   {
    "duration": 12,
    "start_time": "2023-03-08T13:41:51.905Z"
   },
   {
    "duration": 13,
    "start_time": "2023-03-08T13:41:51.918Z"
   },
   {
    "duration": 82,
    "start_time": "2023-03-08T13:41:51.933Z"
   },
   {
    "duration": 13,
    "start_time": "2023-03-08T13:41:52.017Z"
   },
   {
    "duration": 17,
    "start_time": "2023-03-08T13:42:20.898Z"
   },
   {
    "duration": 15,
    "start_time": "2023-03-08T13:42:47.113Z"
   },
   {
    "duration": 114,
    "start_time": "2023-03-08T13:42:54.759Z"
   },
   {
    "duration": 14,
    "start_time": "2023-03-08T13:43:08.694Z"
   },
   {
    "duration": 16,
    "start_time": "2023-03-08T13:43:26.195Z"
   },
   {
    "duration": 4,
    "start_time": "2023-03-08T13:44:27.213Z"
   },
   {
    "duration": 21,
    "start_time": "2023-03-08T13:44:27.811Z"
   },
   {
    "duration": 3,
    "start_time": "2023-03-08T13:44:39.812Z"
   },
   {
    "duration": 62,
    "start_time": "2023-03-08T13:44:40.170Z"
   },
   {
    "duration": 25,
    "start_time": "2023-03-08T14:27:16.231Z"
   },
   {
    "duration": 16,
    "start_time": "2023-03-08T14:27:36.976Z"
   },
   {
    "duration": 29,
    "start_time": "2023-03-08T14:27:43.709Z"
   },
   {
    "duration": 8,
    "start_time": "2023-03-08T14:36:20.463Z"
   },
   {
    "duration": 29,
    "start_time": "2023-03-08T14:36:25.404Z"
   },
   {
    "duration": 9,
    "start_time": "2023-03-08T14:37:07.709Z"
   },
   {
    "duration": 5,
    "start_time": "2023-03-08T14:38:26.702Z"
   },
   {
    "duration": 5,
    "start_time": "2023-03-08T14:39:24.803Z"
   },
   {
    "duration": 21,
    "start_time": "2023-03-08T14:44:45.007Z"
   },
   {
    "duration": 18,
    "start_time": "2023-03-08T14:45:19.538Z"
   },
   {
    "duration": 3,
    "start_time": "2023-03-08T14:46:36.267Z"
   },
   {
    "duration": 3,
    "start_time": "2023-03-08T14:46:39.567Z"
   },
   {
    "duration": 28,
    "start_time": "2023-03-08T14:47:05.674Z"
   },
   {
    "duration": 7,
    "start_time": "2023-03-08T14:47:13.106Z"
   },
   {
    "duration": 6,
    "start_time": "2023-03-08T14:47:21.322Z"
   },
   {
    "duration": 10,
    "start_time": "2023-03-08T14:48:26.402Z"
   },
   {
    "duration": 11,
    "start_time": "2023-03-08T14:49:04.844Z"
   },
   {
    "duration": 17,
    "start_time": "2023-03-08T14:50:48.076Z"
   },
   {
    "duration": 44,
    "start_time": "2023-03-08T14:51:22.106Z"
   },
   {
    "duration": 5,
    "start_time": "2023-03-08T14:51:34.225Z"
   },
   {
    "duration": 6,
    "start_time": "2023-03-08T14:51:38.807Z"
   },
   {
    "duration": 6,
    "start_time": "2023-03-08T14:51:47.148Z"
   },
   {
    "duration": 5,
    "start_time": "2023-03-08T14:52:29.653Z"
   },
   {
    "duration": 5,
    "start_time": "2023-03-08T14:52:41.115Z"
   },
   {
    "duration": 5,
    "start_time": "2023-03-08T14:52:53.451Z"
   },
   {
    "duration": 19,
    "start_time": "2023-03-08T14:55:23.818Z"
   },
   {
    "duration": 5,
    "start_time": "2023-03-08T14:55:42.336Z"
   },
   {
    "duration": 11,
    "start_time": "2023-03-08T14:55:45.251Z"
   },
   {
    "duration": 19,
    "start_time": "2023-03-08T14:55:48.709Z"
   },
   {
    "duration": 8,
    "start_time": "2023-03-08T14:56:33.061Z"
   },
   {
    "duration": 19,
    "start_time": "2023-03-08T14:56:36.991Z"
   },
   {
    "duration": 6,
    "start_time": "2023-03-08T14:56:41.226Z"
   },
   {
    "duration": 9,
    "start_time": "2023-03-08T14:59:01.536Z"
   },
   {
    "duration": 18,
    "start_time": "2023-03-08T14:59:06.276Z"
   },
   {
    "duration": 8,
    "start_time": "2023-03-08T14:59:20.800Z"
   },
   {
    "duration": 10,
    "start_time": "2023-03-08T14:59:24.800Z"
   },
   {
    "duration": 46,
    "start_time": "2023-03-08T16:10:27.735Z"
   },
   {
    "duration": 43,
    "start_time": "2023-03-08T20:05:32.320Z"
   },
   {
    "duration": 12,
    "start_time": "2023-03-08T20:07:01.704Z"
   },
   {
    "duration": 10,
    "start_time": "2023-03-08T20:07:56.775Z"
   },
   {
    "duration": 10,
    "start_time": "2023-03-08T20:08:04.131Z"
   },
   {
    "duration": 17,
    "start_time": "2023-03-08T20:08:11.511Z"
   },
   {
    "duration": 24,
    "start_time": "2023-03-08T20:08:47.709Z"
   },
   {
    "duration": 6,
    "start_time": "2023-03-08T20:14:10.820Z"
   },
   {
    "duration": 100,
    "start_time": "2023-03-08T20:15:01.948Z"
   },
   {
    "duration": 187,
    "start_time": "2023-03-08T20:15:16.210Z"
   },
   {
    "duration": 121,
    "start_time": "2023-03-08T20:18:13.605Z"
   },
   {
    "duration": 130,
    "start_time": "2023-03-08T20:22:14.329Z"
   },
   {
    "duration": 131,
    "start_time": "2023-03-08T20:25:16.312Z"
   },
   {
    "duration": 143,
    "start_time": "2023-03-08T20:25:45.078Z"
   },
   {
    "duration": 125,
    "start_time": "2023-03-08T20:26:09.811Z"
   },
   {
    "duration": 140,
    "start_time": "2023-03-08T20:26:17.685Z"
   },
   {
    "duration": 171,
    "start_time": "2023-03-08T20:26:23.767Z"
   },
   {
    "duration": 203,
    "start_time": "2023-03-08T20:26:28.826Z"
   },
   {
    "duration": 154,
    "start_time": "2023-03-08T20:26:34.745Z"
   },
   {
    "duration": 130,
    "start_time": "2023-03-08T20:26:44.307Z"
   },
   {
    "duration": 101,
    "start_time": "2023-03-08T20:28:47.611Z"
   },
   {
    "duration": 102,
    "start_time": "2023-03-08T20:28:57.807Z"
   },
   {
    "duration": 109,
    "start_time": "2023-03-08T20:29:04.407Z"
   },
   {
    "duration": 104,
    "start_time": "2023-03-08T20:31:08.205Z"
   },
   {
    "duration": 11,
    "start_time": "2023-03-08T20:31:56.003Z"
   },
   {
    "duration": 107,
    "start_time": "2023-03-08T20:36:10.197Z"
   },
   {
    "duration": 110,
    "start_time": "2023-03-08T20:36:16.437Z"
   },
   {
    "duration": 112,
    "start_time": "2023-03-08T20:36:50.715Z"
   },
   {
    "duration": 7,
    "start_time": "2023-03-08T20:38:30.306Z"
   },
   {
    "duration": 126,
    "start_time": "2023-03-08T20:39:09.904Z"
   },
   {
    "duration": 121,
    "start_time": "2023-03-08T20:39:38.422Z"
   },
   {
    "duration": 138,
    "start_time": "2023-03-08T20:39:58.508Z"
   },
   {
    "duration": 262,
    "start_time": "2023-03-08T20:41:35.601Z"
   },
   {
    "duration": 144,
    "start_time": "2023-03-08T20:42:11.245Z"
   },
   {
    "duration": 134,
    "start_time": "2023-03-08T20:43:11.910Z"
   },
   {
    "duration": 145,
    "start_time": "2023-03-08T20:48:46.448Z"
   },
   {
    "duration": 151,
    "start_time": "2023-03-08T20:48:52.442Z"
   },
   {
    "duration": 6,
    "start_time": "2023-03-08T20:50:21.334Z"
   },
   {
    "duration": 6,
    "start_time": "2023-03-08T20:51:00.606Z"
   },
   {
    "duration": 3,
    "start_time": "2023-03-08T20:51:00.972Z"
   },
   {
    "duration": 136,
    "start_time": "2023-03-08T20:51:01.410Z"
   },
   {
    "duration": 6,
    "start_time": "2023-03-08T21:00:28.005Z"
   },
   {
    "duration": 14644,
    "start_time": "2023-03-08T21:00:37.823Z"
   },
   {
    "duration": 27,
    "start_time": "2023-03-08T21:01:17.174Z"
   },
   {
    "duration": 14938,
    "start_time": "2023-03-08T21:01:17.626Z"
   },
   {
    "duration": 6,
    "start_time": "2023-03-08T21:04:22.568Z"
   },
   {
    "duration": 14629,
    "start_time": "2023-03-08T21:04:23.270Z"
   },
   {
    "duration": 6,
    "start_time": "2023-03-08T21:04:53.529Z"
   },
   {
    "duration": 14043,
    "start_time": "2023-03-08T21:04:53.878Z"
   },
   {
    "duration": 8,
    "start_time": "2023-03-08T21:05:38.994Z"
   },
   {
    "duration": 13122,
    "start_time": "2023-03-08T21:05:39.207Z"
   },
   {
    "duration": 6,
    "start_time": "2023-03-08T21:06:58.042Z"
   },
   {
    "duration": 16802,
    "start_time": "2023-03-08T21:06:58.330Z"
   },
   {
    "duration": 46,
    "start_time": "2023-03-08T21:07:25.779Z"
   },
   {
    "duration": 16044,
    "start_time": "2023-03-08T21:07:26.123Z"
   },
   {
    "duration": 20,
    "start_time": "2023-03-08T21:09:25.526Z"
   },
   {
    "duration": 7854,
    "start_time": "2023-03-08T21:09:34.071Z"
   },
   {
    "duration": 33,
    "start_time": "2023-03-08T21:09:51.982Z"
   },
   {
    "duration": 7444,
    "start_time": "2023-03-08T21:09:52.402Z"
   },
   {
    "duration": 3,
    "start_time": "2023-03-08T21:11:49.843Z"
   },
   {
    "duration": 63,
    "start_time": "2023-03-08T21:11:50.211Z"
   },
   {
    "duration": 11,
    "start_time": "2023-03-08T21:15:22.695Z"
   },
   {
    "duration": 5,
    "start_time": "2023-03-08T21:15:28.111Z"
   },
   {
    "duration": 12,
    "start_time": "2023-03-08T21:23:46.680Z"
   },
   {
    "duration": 6,
    "start_time": "2023-03-08T21:23:52.310Z"
   },
   {
    "duration": 7,
    "start_time": "2023-03-08T21:25:19.619Z"
   },
   {
    "duration": 9,
    "start_time": "2023-03-08T21:26:02.591Z"
   },
   {
    "duration": 6,
    "start_time": "2023-03-08T21:27:16.338Z"
   },
   {
    "duration": 6,
    "start_time": "2023-03-08T21:27:16.770Z"
   },
   {
    "duration": 3,
    "start_time": "2023-03-08T21:27:24.971Z"
   },
   {
    "duration": 8,
    "start_time": "2023-03-08T21:31:26.565Z"
   },
   {
    "duration": 5896,
    "start_time": "2023-03-08T21:31:31.390Z"
   },
   {
    "duration": 6,
    "start_time": "2023-03-08T21:33:23.466Z"
   },
   {
    "duration": 6296,
    "start_time": "2023-03-08T21:33:23.764Z"
   },
   {
    "duration": 9,
    "start_time": "2023-03-08T21:35:26.181Z"
   },
   {
    "duration": 5957,
    "start_time": "2023-03-08T21:35:26.729Z"
   },
   {
    "duration": 6,
    "start_time": "2023-03-08T21:35:45.879Z"
   },
   {
    "duration": 6137,
    "start_time": "2023-03-08T21:35:46.340Z"
   },
   {
    "duration": 9,
    "start_time": "2023-03-08T21:35:58.337Z"
   },
   {
    "duration": 9,
    "start_time": "2023-03-08T21:36:14.073Z"
   },
   {
    "duration": 6080,
    "start_time": "2023-03-08T21:36:14.438Z"
   },
   {
    "duration": 9,
    "start_time": "2023-03-08T21:37:02.184Z"
   },
   {
    "duration": 32271,
    "start_time": "2023-03-08T21:37:03.668Z"
   },
   {
    "duration": 5,
    "start_time": "2023-03-08T21:37:59.709Z"
   },
   {
    "duration": 469,
    "start_time": "2023-03-08T21:38:00.422Z"
   },
   {
    "duration": 797,
    "start_time": "2023-03-08T21:39:21.299Z"
   },
   {
    "duration": 9185,
    "start_time": "2023-03-08T21:39:22.098Z"
   },
   {
    "duration": 213,
    "start_time": "2023-03-08T21:39:46.467Z"
   },
   {
    "duration": 6,
    "start_time": "2023-03-08T21:39:46.998Z"
   },
   {
    "duration": 187,
    "start_time": "2023-03-08T21:40:04.359Z"
   },
   {
    "duration": 6,
    "start_time": "2023-03-08T21:40:23.057Z"
   },
   {
    "duration": 5627,
    "start_time": "2023-03-08T21:40:23.706Z"
   },
   {
    "duration": 165,
    "start_time": "2023-03-08T21:40:38.102Z"
   },
   {
    "duration": 5066,
    "start_time": "2023-03-08T21:40:38.484Z"
   },
   {
    "duration": 197,
    "start_time": "2023-03-08T21:40:57.819Z"
   },
   {
    "duration": 5126,
    "start_time": "2023-03-08T21:40:58.857Z"
   },
   {
    "duration": 164,
    "start_time": "2023-03-08T21:42:13.943Z"
   },
   {
    "duration": 5540,
    "start_time": "2023-03-08T21:42:14.365Z"
   },
   {
    "duration": 4,
    "start_time": "2023-03-08T21:42:39.123Z"
   },
   {
    "duration": 294,
    "start_time": "2023-03-08T21:42:39.508Z"
   },
   {
    "duration": 6,
    "start_time": "2023-03-08T21:42:44.417Z"
   },
   {
    "duration": 6077,
    "start_time": "2023-03-08T21:42:44.998Z"
   },
   {
    "duration": 285,
    "start_time": "2023-03-08T21:44:50.330Z"
   },
   {
    "duration": 6,
    "start_time": "2023-03-08T21:45:13.195Z"
   },
   {
    "duration": 5545,
    "start_time": "2023-03-08T21:45:13.741Z"
   },
   {
    "duration": 4738,
    "start_time": "2023-03-08T21:45:41.609Z"
   },
   {
    "duration": 6,
    "start_time": "2023-03-08T21:49:06.602Z"
   },
   {
    "duration": 4701,
    "start_time": "2023-03-08T21:49:07.912Z"
   },
   {
    "duration": 4,
    "start_time": "2023-03-08T21:49:24.038Z"
   },
   {
    "duration": 5,
    "start_time": "2023-03-08T21:53:30.951Z"
   },
   {
    "duration": 6,
    "start_time": "2023-03-08T21:53:50.804Z"
   },
   {
    "duration": 4629,
    "start_time": "2023-03-08T21:53:51.234Z"
   },
   {
    "duration": 6,
    "start_time": "2023-03-08T21:54:14.025Z"
   },
   {
    "duration": 4632,
    "start_time": "2023-03-08T21:54:14.498Z"
   },
   {
    "duration": 6,
    "start_time": "2023-03-08T21:54:49.991Z"
   },
   {
    "duration": 4966,
    "start_time": "2023-03-08T21:54:50.404Z"
   },
   {
    "duration": 3,
    "start_time": "2023-03-08T21:55:41.411Z"
   },
   {
    "duration": 6,
    "start_time": "2023-03-08T21:56:42.808Z"
   },
   {
    "duration": 459,
    "start_time": "2023-03-08T21:56:43.340Z"
   },
   {
    "duration": 7,
    "start_time": "2023-03-08T21:56:56.403Z"
   },
   {
    "duration": 4637,
    "start_time": "2023-03-08T21:56:56.688Z"
   },
   {
    "duration": 4,
    "start_time": "2023-03-08T21:58:34.723Z"
   },
   {
    "duration": 2,
    "start_time": "2023-03-08T21:59:01.036Z"
   },
   {
    "duration": 7,
    "start_time": "2023-03-08T21:59:05.871Z"
   },
   {
    "duration": 10,
    "start_time": "2023-03-08T22:00:19.822Z"
   },
   {
    "duration": 6,
    "start_time": "2023-03-08T22:00:32.935Z"
   },
   {
    "duration": 32,
    "start_time": "2023-03-08T22:04:32.457Z"
   },
   {
    "duration": 485,
    "start_time": "2023-03-08T22:07:32.927Z"
   },
   {
    "duration": 533,
    "start_time": "2023-03-08T22:07:45.121Z"
   },
   {
    "duration": 1557,
    "start_time": "2023-03-08T22:10:07.316Z"
   },
   {
    "duration": 1762,
    "start_time": "2023-03-08T22:11:29.381Z"
   },
   {
    "duration": 1500,
    "start_time": "2023-03-08T22:11:41.639Z"
   },
   {
    "duration": 1631,
    "start_time": "2023-03-08T22:11:49.989Z"
   },
   {
    "duration": 1670,
    "start_time": "2023-03-08T22:12:26.959Z"
   },
   {
    "duration": 1503,
    "start_time": "2023-03-08T22:12:45.628Z"
   },
   {
    "duration": 205,
    "start_time": "2023-03-08T22:13:30.789Z"
   },
   {
    "duration": 1533,
    "start_time": "2023-03-08T22:13:44.890Z"
   },
   {
    "duration": 1624,
    "start_time": "2023-03-08T22:15:25.171Z"
   },
   {
    "duration": 1618,
    "start_time": "2023-03-08T22:15:33.184Z"
   },
   {
    "duration": 1570,
    "start_time": "2023-03-08T22:15:42.758Z"
   },
   {
    "duration": 1730,
    "start_time": "2023-03-08T22:15:57.581Z"
   },
   {
    "duration": 1776,
    "start_time": "2023-03-08T22:16:41.883Z"
   },
   {
    "duration": 1573,
    "start_time": "2023-03-08T22:16:50.157Z"
   },
   {
    "duration": 1480,
    "start_time": "2023-03-08T22:16:59.731Z"
   },
   {
    "duration": 1649,
    "start_time": "2023-03-08T22:17:14.369Z"
   },
   {
    "duration": 1704,
    "start_time": "2023-03-08T22:17:28.371Z"
   },
   {
    "duration": 187,
    "start_time": "2023-03-08T22:17:41.292Z"
   },
   {
    "duration": 1522,
    "start_time": "2023-03-08T22:18:28.919Z"
   },
   {
    "duration": 1567,
    "start_time": "2023-03-08T22:18:51.087Z"
   },
   {
    "duration": 1595,
    "start_time": "2023-03-08T22:19:02.428Z"
   },
   {
    "duration": 1604,
    "start_time": "2023-03-08T22:19:14.775Z"
   },
   {
    "duration": 199,
    "start_time": "2023-03-08T22:21:06.846Z"
   },
   {
    "duration": 1399,
    "start_time": "2023-03-08T22:21:17.769Z"
   },
   {
    "duration": 1436,
    "start_time": "2023-03-08T22:21:33.295Z"
   },
   {
    "duration": 136,
    "start_time": "2023-03-08T22:30:41.302Z"
   },
   {
    "duration": 4766,
    "start_time": "2023-03-08T22:30:42.049Z"
   },
   {
    "duration": 11,
    "start_time": "2023-03-08T22:31:00.854Z"
   },
   {
    "duration": 5045,
    "start_time": "2023-03-08T22:31:01.288Z"
   },
   {
    "duration": 10,
    "start_time": "2023-03-08T22:31:53.704Z"
   },
   {
    "duration": 4627,
    "start_time": "2023-03-08T22:31:55.382Z"
   },
   {
    "duration": 1319,
    "start_time": "2023-03-09T11:48:49.991Z"
   },
   {
    "duration": 3,
    "start_time": "2023-03-09T11:48:51.312Z"
   },
   {
    "duration": 1047,
    "start_time": "2023-03-09T11:48:51.316Z"
   },
   {
    "duration": 6,
    "start_time": "2023-03-09T11:48:52.365Z"
   },
   {
    "duration": 133,
    "start_time": "2023-03-09T11:48:52.373Z"
   },
   {
    "duration": 25,
    "start_time": "2023-03-09T11:48:52.507Z"
   },
   {
    "duration": 36,
    "start_time": "2023-03-09T11:48:52.534Z"
   },
   {
    "duration": 29,
    "start_time": "2023-03-09T11:48:52.572Z"
   },
   {
    "duration": 92,
    "start_time": "2023-03-09T11:48:52.602Z"
   },
   {
    "duration": 47,
    "start_time": "2023-03-09T11:48:52.695Z"
   },
   {
    "duration": 10,
    "start_time": "2023-03-09T11:48:52.744Z"
   },
   {
    "duration": 26,
    "start_time": "2023-03-09T11:48:52.755Z"
   },
   {
    "duration": 68,
    "start_time": "2023-03-09T11:48:52.783Z"
   },
   {
    "duration": 5,
    "start_time": "2023-03-09T11:48:52.854Z"
   },
   {
    "duration": 6,
    "start_time": "2023-03-09T11:48:52.861Z"
   },
   {
    "duration": 34,
    "start_time": "2023-03-09T11:48:52.869Z"
   },
   {
    "duration": 36,
    "start_time": "2023-03-09T11:48:52.905Z"
   },
   {
    "duration": 6,
    "start_time": "2023-03-09T11:48:52.943Z"
   },
   {
    "duration": 204,
    "start_time": "2023-03-09T11:48:52.951Z"
   },
   {
    "duration": 0,
    "start_time": "2023-03-09T11:48:53.156Z"
   },
   {
    "duration": 0,
    "start_time": "2023-03-09T11:48:53.157Z"
   },
   {
    "duration": 1,
    "start_time": "2023-03-09T11:48:53.158Z"
   },
   {
    "duration": 0,
    "start_time": "2023-03-09T11:48:53.159Z"
   },
   {
    "duration": 0,
    "start_time": "2023-03-09T11:48:53.160Z"
   },
   {
    "duration": 0,
    "start_time": "2023-03-09T11:48:53.161Z"
   },
   {
    "duration": 4,
    "start_time": "2023-03-09T11:53:36.844Z"
   },
   {
    "duration": 8,
    "start_time": "2023-03-09T11:53:36.849Z"
   },
   {
    "duration": 816,
    "start_time": "2023-03-09T11:53:36.858Z"
   },
   {
    "duration": 6,
    "start_time": "2023-03-09T11:53:37.676Z"
   },
   {
    "duration": 114,
    "start_time": "2023-03-09T11:53:37.684Z"
   },
   {
    "duration": 13,
    "start_time": "2023-03-09T11:53:37.800Z"
   },
   {
    "duration": 6,
    "start_time": "2023-03-09T11:53:37.815Z"
   },
   {
    "duration": 10,
    "start_time": "2023-03-09T11:53:37.823Z"
   },
   {
    "duration": 64,
    "start_time": "2023-03-09T11:53:37.844Z"
   },
   {
    "duration": 38,
    "start_time": "2023-03-09T11:53:37.909Z"
   },
   {
    "duration": 15,
    "start_time": "2023-03-09T11:53:37.949Z"
   },
   {
    "duration": 4,
    "start_time": "2023-03-09T11:53:37.966Z"
   },
   {
    "duration": 22,
    "start_time": "2023-03-09T11:53:37.971Z"
   },
   {
    "duration": 5,
    "start_time": "2023-03-09T11:53:37.996Z"
   },
   {
    "duration": 18,
    "start_time": "2023-03-09T11:53:38.031Z"
   },
   {
    "duration": 40,
    "start_time": "2023-03-09T11:53:38.051Z"
   },
   {
    "duration": 6,
    "start_time": "2023-03-09T11:53:38.093Z"
   },
   {
    "duration": 21,
    "start_time": "2023-03-09T11:53:38.100Z"
   },
   {
    "duration": 124,
    "start_time": "2023-03-09T11:53:38.122Z"
   },
   {
    "duration": 0,
    "start_time": "2023-03-09T11:53:38.248Z"
   },
   {
    "duration": 0,
    "start_time": "2023-03-09T11:53:38.249Z"
   },
   {
    "duration": 0,
    "start_time": "2023-03-09T11:53:38.250Z"
   },
   {
    "duration": 0,
    "start_time": "2023-03-09T11:53:38.251Z"
   },
   {
    "duration": 0,
    "start_time": "2023-03-09T11:53:38.252Z"
   },
   {
    "duration": 0,
    "start_time": "2023-03-09T11:53:38.253Z"
   },
   {
    "duration": 123,
    "start_time": "2023-03-09T11:54:29.946Z"
   },
   {
    "duration": 95,
    "start_time": "2023-03-09T11:54:45.453Z"
   },
   {
    "duration": 202,
    "start_time": "2023-03-09T11:55:32.752Z"
   },
   {
    "duration": 3,
    "start_time": "2023-03-09T11:55:44.269Z"
   },
   {
    "duration": 7,
    "start_time": "2023-03-09T11:55:44.274Z"
   },
   {
    "duration": 1007,
    "start_time": "2023-03-09T11:55:44.283Z"
   },
   {
    "duration": 7,
    "start_time": "2023-03-09T11:55:45.291Z"
   },
   {
    "duration": 98,
    "start_time": "2023-03-09T11:55:45.300Z"
   },
   {
    "duration": 13,
    "start_time": "2023-03-09T11:55:45.400Z"
   },
   {
    "duration": 5,
    "start_time": "2023-03-09T11:55:45.434Z"
   },
   {
    "duration": 24,
    "start_time": "2023-03-09T11:55:45.441Z"
   },
   {
    "duration": 84,
    "start_time": "2023-03-09T11:55:45.467Z"
   },
   {
    "duration": 20,
    "start_time": "2023-03-09T11:55:45.553Z"
   },
   {
    "duration": 10,
    "start_time": "2023-03-09T11:55:45.575Z"
   },
   {
    "duration": 4,
    "start_time": "2023-03-09T11:55:45.586Z"
   },
   {
    "duration": 57,
    "start_time": "2023-03-09T11:55:45.593Z"
   },
   {
    "duration": 5,
    "start_time": "2023-03-09T11:55:45.652Z"
   },
   {
    "duration": 6,
    "start_time": "2023-03-09T11:55:45.658Z"
   },
   {
    "duration": 39,
    "start_time": "2023-03-09T11:55:45.665Z"
   },
   {
    "duration": 32,
    "start_time": "2023-03-09T11:55:45.706Z"
   },
   {
    "duration": 8,
    "start_time": "2023-03-09T11:55:45.747Z"
   },
   {
    "duration": 125,
    "start_time": "2023-03-09T11:55:45.756Z"
   },
   {
    "duration": 5,
    "start_time": "2023-03-09T11:55:45.882Z"
   },
   {
    "duration": 11,
    "start_time": "2023-03-09T11:55:45.889Z"
   },
   {
    "duration": 13,
    "start_time": "2023-03-09T11:55:45.902Z"
   },
   {
    "duration": 13,
    "start_time": "2023-03-09T11:55:45.917Z"
   },
   {
    "duration": 5593,
    "start_time": "2023-03-09T11:55:45.932Z"
   },
   {
    "duration": 1822,
    "start_time": "2023-03-09T11:55:51.527Z"
   },
   {
    "duration": 8,
    "start_time": "2023-03-09T11:56:55.942Z"
   },
   {
    "duration": 317,
    "start_time": "2023-03-09T11:56:56.308Z"
   },
   {
    "duration": 9,
    "start_time": "2023-03-09T11:57:17.126Z"
   },
   {
    "duration": 286,
    "start_time": "2023-03-09T11:57:17.650Z"
   },
   {
    "duration": 9,
    "start_time": "2023-03-09T11:57:22.537Z"
   },
   {
    "duration": 5442,
    "start_time": "2023-03-09T11:57:22.947Z"
   },
   {
    "duration": 1800,
    "start_time": "2023-03-09T11:59:39.544Z"
   },
   {
    "duration": 6847,
    "start_time": "2023-03-09T12:00:07.746Z"
   },
   {
    "duration": 9,
    "start_time": "2023-03-09T12:39:23.503Z"
   },
   {
    "duration": 8,
    "start_time": "2023-03-09T12:40:02.147Z"
   },
   {
    "duration": 7,
    "start_time": "2023-03-09T12:40:09.710Z"
   },
   {
    "duration": 232,
    "start_time": "2023-03-09T12:40:34.526Z"
   },
   {
    "duration": 5,
    "start_time": "2023-03-09T12:40:54.761Z"
   },
   {
    "duration": 9,
    "start_time": "2023-03-09T12:41:02.559Z"
   },
   {
    "duration": 2208,
    "start_time": "2023-03-09T12:41:10.930Z"
   },
   {
    "duration": 17420,
    "start_time": "2023-03-09T12:41:33.671Z"
   },
   {
    "duration": 373,
    "start_time": "2023-03-09T12:44:47.175Z"
   },
   {
    "duration": 2098,
    "start_time": "2023-03-09T12:44:52.573Z"
   },
   {
    "duration": 1467,
    "start_time": "2023-03-09T12:45:14.412Z"
   },
   {
    "duration": 13,
    "start_time": "2023-03-09T12:46:26.843Z"
   },
   {
    "duration": 121,
    "start_time": "2023-03-09T12:46:50.609Z"
   },
   {
    "duration": 106,
    "start_time": "2023-03-09T12:47:45.284Z"
   },
   {
    "duration": 151,
    "start_time": "2023-03-09T12:48:03.674Z"
   },
   {
    "duration": 3,
    "start_time": "2023-03-09T12:48:16.361Z"
   },
   {
    "duration": 11,
    "start_time": "2023-03-09T12:48:18.750Z"
   },
   {
    "duration": 112,
    "start_time": "2023-03-09T12:48:38.973Z"
   },
   {
    "duration": 114,
    "start_time": "2023-03-09T12:48:51.188Z"
   },
   {
    "duration": 128,
    "start_time": "2023-03-09T12:48:58.887Z"
   },
   {
    "duration": 14,
    "start_time": "2023-03-09T12:49:17.184Z"
   },
   {
    "duration": 12,
    "start_time": "2023-03-09T12:49:21.976Z"
   },
   {
    "duration": 339,
    "start_time": "2023-03-09T12:49:28.824Z"
   },
   {
    "duration": 252,
    "start_time": "2023-03-09T12:50:02.418Z"
   },
   {
    "duration": 245,
    "start_time": "2023-03-09T12:50:34.969Z"
   },
   {
    "duration": 390,
    "start_time": "2023-03-09T12:50:47.810Z"
   },
   {
    "duration": 2244,
    "start_time": "2023-03-09T12:50:52.357Z"
   },
   {
    "duration": 2986,
    "start_time": "2023-03-09T12:51:58.796Z"
   },
   {
    "duration": 3426,
    "start_time": "2023-03-09T12:52:24.370Z"
   },
   {
    "duration": 78,
    "start_time": "2023-03-09T12:52:41.497Z"
   },
   {
    "duration": 3805,
    "start_time": "2023-03-09T12:52:49.315Z"
   },
   {
    "duration": 4238,
    "start_time": "2023-03-09T12:53:03.060Z"
   },
   {
    "duration": 18,
    "start_time": "2023-03-09T12:53:11.325Z"
   },
   {
    "duration": 11,
    "start_time": "2023-03-09T12:53:25.774Z"
   },
   {
    "duration": 10,
    "start_time": "2023-03-09T12:53:50.025Z"
   },
   {
    "duration": 66,
    "start_time": "2023-03-09T12:55:09.924Z"
   },
   {
    "duration": 17,
    "start_time": "2023-03-09T12:55:18.046Z"
   },
   {
    "duration": 21,
    "start_time": "2023-03-09T12:55:57.784Z"
   },
   {
    "duration": 242,
    "start_time": "2023-03-09T12:56:09.294Z"
   },
   {
    "duration": 256,
    "start_time": "2023-03-09T12:56:18.331Z"
   },
   {
    "duration": 274,
    "start_time": "2023-03-09T12:56:46.554Z"
   },
   {
    "duration": 1542,
    "start_time": "2023-03-09T12:57:09.557Z"
   },
   {
    "duration": 1901,
    "start_time": "2023-03-09T12:57:27.858Z"
   },
   {
    "duration": 283,
    "start_time": "2023-03-09T12:57:51.884Z"
   },
   {
    "duration": 378,
    "start_time": "2023-03-09T12:57:59.302Z"
   },
   {
    "duration": 365,
    "start_time": "2023-03-09T12:59:12.309Z"
   },
   {
    "duration": 23,
    "start_time": "2023-03-09T12:59:48.274Z"
   },
   {
    "duration": 56,
    "start_time": "2023-03-09T12:59:58.112Z"
   },
   {
    "duration": 386,
    "start_time": "2023-03-09T13:00:01.007Z"
   },
   {
    "duration": 392,
    "start_time": "2023-03-09T13:00:54.991Z"
   },
   {
    "duration": 659,
    "start_time": "2023-03-09T13:01:03.831Z"
   },
   {
    "duration": 15,
    "start_time": "2023-03-09T13:01:22.968Z"
   },
   {
    "duration": 22,
    "start_time": "2023-03-09T13:01:33.955Z"
   },
   {
    "duration": 25,
    "start_time": "2023-03-09T13:01:37.915Z"
   },
   {
    "duration": 26,
    "start_time": "2023-03-09T13:01:57.625Z"
   },
   {
    "duration": 20,
    "start_time": "2023-03-09T13:02:08.146Z"
   },
   {
    "duration": 19,
    "start_time": "2023-03-09T13:02:36.558Z"
   },
   {
    "duration": 22,
    "start_time": "2023-03-09T13:04:09.794Z"
   },
   {
    "duration": 19,
    "start_time": "2023-03-09T13:05:25.101Z"
   },
   {
    "duration": 24,
    "start_time": "2023-03-09T13:05:30.856Z"
   },
   {
    "duration": 19,
    "start_time": "2023-03-09T13:07:02.693Z"
   },
   {
    "duration": 26,
    "start_time": "2023-03-09T13:09:26.892Z"
   },
   {
    "duration": 477,
    "start_time": "2023-03-09T13:10:15.300Z"
   },
   {
    "duration": 28322,
    "start_time": "2023-03-09T13:10:45.287Z"
   },
   {
    "duration": 5806,
    "start_time": "2023-03-09T13:12:04.596Z"
   },
   {
    "duration": 780,
    "start_time": "2023-03-09T13:12:24.618Z"
   },
   {
    "duration": 755,
    "start_time": "2023-03-09T13:12:53.263Z"
   },
   {
    "duration": 782,
    "start_time": "2023-03-09T13:13:08.956Z"
   },
   {
    "duration": 382,
    "start_time": "2023-03-09T13:19:48.939Z"
   },
   {
    "duration": 311,
    "start_time": "2023-03-09T13:23:13.122Z"
   },
   {
    "duration": 411,
    "start_time": "2023-03-09T13:25:16.029Z"
   },
   {
    "duration": 368,
    "start_time": "2023-03-09T13:25:52.391Z"
   },
   {
    "duration": 392,
    "start_time": "2023-03-09T13:27:18.460Z"
   },
   {
    "duration": 670,
    "start_time": "2023-03-09T13:31:59.001Z"
   },
   {
    "duration": 634,
    "start_time": "2023-03-09T13:32:11.995Z"
   },
   {
    "duration": 615,
    "start_time": "2023-03-09T13:32:18.305Z"
   },
   {
    "duration": 695,
    "start_time": "2023-03-09T13:32:25.876Z"
   },
   {
    "duration": 759,
    "start_time": "2023-03-09T13:32:41.125Z"
   },
   {
    "duration": 736,
    "start_time": "2023-03-09T13:32:47.863Z"
   },
   {
    "duration": 685,
    "start_time": "2023-03-09T13:32:58.620Z"
   },
   {
    "duration": 687,
    "start_time": "2023-03-09T13:33:04.271Z"
   },
   {
    "duration": 660,
    "start_time": "2023-03-09T13:33:12.699Z"
   },
   {
    "duration": 665,
    "start_time": "2023-03-09T13:33:17.892Z"
   },
   {
    "duration": 686,
    "start_time": "2023-03-09T13:33:22.703Z"
   },
   {
    "duration": 2074,
    "start_time": "2023-03-09T13:33:32.054Z"
   },
   {
    "duration": 962,
    "start_time": "2023-03-09T13:35:43.759Z"
   },
   {
    "duration": 669,
    "start_time": "2023-03-09T13:36:38.393Z"
   },
   {
    "duration": 717,
    "start_time": "2023-03-09T13:38:39.194Z"
   },
   {
    "duration": 669,
    "start_time": "2023-03-09T13:38:57.719Z"
   },
   {
    "duration": 644,
    "start_time": "2023-03-09T13:39:09.658Z"
   },
   {
    "duration": 667,
    "start_time": "2023-03-09T13:49:42.411Z"
   },
   {
    "duration": 10,
    "start_time": "2023-03-09T13:52:41.492Z"
   },
   {
    "duration": 7528,
    "start_time": "2023-03-09T13:52:42.501Z"
   },
   {
    "duration": 786,
    "start_time": "2023-03-09T13:52:53.994Z"
   },
   {
    "duration": 778,
    "start_time": "2023-03-09T13:53:03.973Z"
   },
   {
    "duration": 32,
    "start_time": "2023-03-09T13:56:00.902Z"
   },
   {
    "duration": 6,
    "start_time": "2023-03-09T13:56:09.002Z"
   },
   {
    "duration": 7,
    "start_time": "2023-03-09T13:56:17.620Z"
   },
   {
    "duration": 9,
    "start_time": "2023-03-09T13:56:23.314Z"
   },
   {
    "duration": 12,
    "start_time": "2023-03-09T13:56:31.677Z"
   },
   {
    "duration": 23,
    "start_time": "2023-03-09T13:56:49.450Z"
   },
   {
    "duration": 12,
    "start_time": "2023-03-09T13:59:34.329Z"
   },
   {
    "duration": 8,
    "start_time": "2023-03-09T13:59:48.969Z"
   },
   {
    "duration": 11,
    "start_time": "2023-03-09T14:00:09.111Z"
   },
   {
    "duration": 4,
    "start_time": "2023-03-09T14:08:34.015Z"
   },
   {
    "duration": 9,
    "start_time": "2023-03-09T14:09:56.748Z"
   },
   {
    "duration": 491,
    "start_time": "2023-03-09T14:10:06.374Z"
   },
   {
    "duration": 13,
    "start_time": "2023-03-09T14:11:17.028Z"
   },
   {
    "duration": 29,
    "start_time": "2023-03-09T14:11:21.830Z"
   },
   {
    "duration": 19,
    "start_time": "2023-03-09T14:12:07.159Z"
   },
   {
    "duration": 12,
    "start_time": "2023-03-09T14:12:20.023Z"
   },
   {
    "duration": 11,
    "start_time": "2023-03-09T14:13:15.384Z"
   },
   {
    "duration": 15,
    "start_time": "2023-03-09T14:13:59.526Z"
   },
   {
    "duration": 14,
    "start_time": "2023-03-09T14:14:26.691Z"
   },
   {
    "duration": 58,
    "start_time": "2023-03-09T14:14:54.154Z"
   },
   {
    "duration": 17,
    "start_time": "2023-03-09T14:15:02.779Z"
   },
   {
    "duration": 13,
    "start_time": "2023-03-09T14:15:27.219Z"
   },
   {
    "duration": 13,
    "start_time": "2023-03-09T14:15:34.527Z"
   },
   {
    "duration": 12,
    "start_time": "2023-03-09T14:15:40.747Z"
   },
   {
    "duration": 48,
    "start_time": "2023-03-09T14:16:17.408Z"
   },
   {
    "duration": 18,
    "start_time": "2023-03-09T14:16:21.119Z"
   },
   {
    "duration": 18,
    "start_time": "2023-03-09T14:17:04.748Z"
   },
   {
    "duration": 3,
    "start_time": "2023-03-09T14:18:28.639Z"
   },
   {
    "duration": 16,
    "start_time": "2023-03-09T14:18:33.528Z"
   },
   {
    "duration": 3,
    "start_time": "2023-03-09T14:19:24.022Z"
   },
   {
    "duration": 17,
    "start_time": "2023-03-09T14:19:24.270Z"
   },
   {
    "duration": 18,
    "start_time": "2023-03-09T14:19:53.974Z"
   },
   {
    "duration": 20,
    "start_time": "2023-03-09T14:20:04.702Z"
   },
   {
    "duration": 17,
    "start_time": "2023-03-09T14:20:15.231Z"
   },
   {
    "duration": 19,
    "start_time": "2023-03-09T14:20:20.766Z"
   },
   {
    "duration": 14,
    "start_time": "2023-03-09T14:22:24.779Z"
   },
   {
    "duration": 21,
    "start_time": "2023-03-09T14:22:28.913Z"
   },
   {
    "duration": 17,
    "start_time": "2023-03-09T14:22:32.933Z"
   },
   {
    "duration": 20,
    "start_time": "2023-03-09T14:23:35.380Z"
   },
   {
    "duration": 22,
    "start_time": "2023-03-09T14:25:14.518Z"
   },
   {
    "duration": 299,
    "start_time": "2023-03-09T14:27:39.954Z"
   },
   {
    "duration": 271,
    "start_time": "2023-03-09T14:27:46.793Z"
   },
   {
    "duration": 16,
    "start_time": "2023-03-09T14:27:59.864Z"
   },
   {
    "duration": 16,
    "start_time": "2023-03-09T14:31:45.964Z"
   },
   {
    "duration": 22,
    "start_time": "2023-03-09T14:34:26.596Z"
   },
   {
    "duration": 18,
    "start_time": "2023-03-09T14:34:44.159Z"
   },
   {
    "duration": 261,
    "start_time": "2023-03-09T14:38:09.546Z"
   },
   {
    "duration": 26,
    "start_time": "2023-03-09T14:39:13.026Z"
   },
   {
    "duration": 17,
    "start_time": "2023-03-09T14:39:50.098Z"
   },
   {
    "duration": 257,
    "start_time": "2023-03-09T14:40:10.583Z"
   },
   {
    "duration": 264,
    "start_time": "2023-03-09T14:43:24.752Z"
   },
   {
    "duration": 280,
    "start_time": "2023-03-09T14:44:28.758Z"
   },
   {
    "duration": 304,
    "start_time": "2023-03-09T14:45:55.608Z"
   },
   {
    "duration": 305,
    "start_time": "2023-03-09T14:47:26.201Z"
   },
   {
    "duration": 11,
    "start_time": "2023-03-09T14:48:24.990Z"
   },
   {
    "duration": 242,
    "start_time": "2023-03-09T14:50:20.811Z"
   },
   {
    "duration": 111,
    "start_time": "2023-03-09T14:54:34.225Z"
   },
   {
    "duration": 454,
    "start_time": "2023-03-09T14:55:40.258Z"
   },
   {
    "duration": 106,
    "start_time": "2023-03-09T14:57:08.806Z"
   },
   {
    "duration": 24,
    "start_time": "2023-03-09T14:58:53.357Z"
   },
   {
    "duration": 16,
    "start_time": "2023-03-09T14:59:14.186Z"
   },
   {
    "duration": 67,
    "start_time": "2023-03-09T14:59:25.259Z"
   },
   {
    "duration": 22,
    "start_time": "2023-03-09T15:00:30.554Z"
   },
   {
    "duration": 82,
    "start_time": "2023-03-09T15:00:38.101Z"
   },
   {
    "duration": 112,
    "start_time": "2023-03-09T15:01:08.697Z"
   },
   {
    "duration": 126,
    "start_time": "2023-03-09T15:01:36.032Z"
   },
   {
    "duration": 2015,
    "start_time": "2023-03-09T15:03:21.082Z"
   },
   {
    "duration": 5,
    "start_time": "2023-03-09T15:03:23.104Z"
   },
   {
    "duration": 1577,
    "start_time": "2023-03-09T15:03:23.111Z"
   },
   {
    "duration": 12,
    "start_time": "2023-03-09T15:03:24.691Z"
   },
   {
    "duration": 215,
    "start_time": "2023-03-09T15:03:24.706Z"
   },
   {
    "duration": 26,
    "start_time": "2023-03-09T15:03:24.923Z"
   },
   {
    "duration": 72,
    "start_time": "2023-03-09T15:03:24.951Z"
   },
   {
    "duration": 87,
    "start_time": "2023-03-09T15:03:25.025Z"
   },
   {
    "duration": 136,
    "start_time": "2023-03-09T15:03:25.114Z"
   },
   {
    "duration": 23,
    "start_time": "2023-03-09T15:03:25.252Z"
   },
   {
    "duration": 45,
    "start_time": "2023-03-09T15:03:25.277Z"
   },
   {
    "duration": 5,
    "start_time": "2023-03-09T15:03:25.324Z"
   },
   {
    "duration": 110,
    "start_time": "2023-03-09T15:03:25.331Z"
   },
   {
    "duration": 9,
    "start_time": "2023-03-09T15:03:25.444Z"
   },
   {
    "duration": 69,
    "start_time": "2023-03-09T15:03:25.455Z"
   },
   {
    "duration": 88,
    "start_time": "2023-03-09T15:03:25.526Z"
   },
   {
    "duration": 31,
    "start_time": "2023-03-09T15:03:25.616Z"
   },
   {
    "duration": 60,
    "start_time": "2023-03-09T15:03:25.650Z"
   },
   {
    "duration": 294,
    "start_time": "2023-03-09T15:03:25.712Z"
   },
   {
    "duration": 7,
    "start_time": "2023-03-09T15:03:26.010Z"
   },
   {
    "duration": 80,
    "start_time": "2023-03-09T15:03:26.020Z"
   },
   {
    "duration": 20,
    "start_time": "2023-03-09T15:03:26.103Z"
   },
   {
    "duration": 9123,
    "start_time": "2023-03-09T15:03:26.125Z"
   },
   {
    "duration": 1035,
    "start_time": "2023-03-09T15:03:35.256Z"
   },
   {
    "duration": 2582,
    "start_time": "2023-03-09T15:03:36.295Z"
   },
   {
    "duration": 13,
    "start_time": "2023-03-09T15:03:38.880Z"
   },
   {
    "duration": 132,
    "start_time": "2023-03-09T15:03:38.895Z"
   },
   {
    "duration": 0,
    "start_time": "2023-03-09T15:03:39.029Z"
   },
   {
    "duration": 184,
    "start_time": "2023-03-09T15:03:45.358Z"
   },
   {
    "duration": 11,
    "start_time": "2023-03-09T15:03:53.388Z"
   },
   {
    "duration": 19,
    "start_time": "2023-03-09T15:03:53.709Z"
   },
   {
    "duration": 1636,
    "start_time": "2023-03-09T15:05:12.347Z"
   },
   {
    "duration": 2080,
    "start_time": "2023-03-09T15:05:36.823Z"
   },
   {
    "duration": 18,
    "start_time": "2023-03-09T15:05:45.912Z"
   },
   {
    "duration": 403,
    "start_time": "2023-03-09T15:05:54.656Z"
   },
   {
    "duration": 25,
    "start_time": "2023-03-09T15:06:08.680Z"
   },
   {
    "duration": 27,
    "start_time": "2023-03-09T15:06:22.584Z"
   },
   {
    "duration": 29,
    "start_time": "2023-03-09T15:06:28.818Z"
   },
   {
    "duration": 26,
    "start_time": "2023-03-09T15:07:36.456Z"
   },
   {
    "duration": 1121,
    "start_time": "2023-03-09T15:07:49.075Z"
   },
   {
    "duration": 85,
    "start_time": "2023-03-09T15:08:13.421Z"
   },
   {
    "duration": 4,
    "start_time": "2023-03-09T15:10:53.672Z"
   },
   {
    "duration": 2345,
    "start_time": "2023-03-09T15:10:59.678Z"
   },
   {
    "duration": 1467,
    "start_time": "2023-03-09T15:11:33.216Z"
   },
   {
    "duration": 30,
    "start_time": "2023-03-09T15:12:10.080Z"
   },
   {
    "duration": 15,
    "start_time": "2023-03-09T15:12:42.922Z"
   },
   {
    "duration": 3,
    "start_time": "2023-03-09T15:16:39.952Z"
   },
   {
    "duration": 47,
    "start_time": "2023-03-09T15:16:49.891Z"
   },
   {
    "duration": 37,
    "start_time": "2023-03-09T15:17:58.882Z"
   },
   {
    "duration": 20,
    "start_time": "2023-03-09T15:19:29.982Z"
   },
   {
    "duration": 154,
    "start_time": "2023-03-09T15:20:23.748Z"
   },
   {
    "duration": 4,
    "start_time": "2023-03-09T15:22:45.008Z"
   },
   {
    "duration": 86,
    "start_time": "2023-03-09T15:22:57.968Z"
   },
   {
    "duration": 4,
    "start_time": "2023-03-09T15:25:01.260Z"
   },
   {
    "duration": 19,
    "start_time": "2023-03-09T15:25:01.660Z"
   },
   {
    "duration": 4,
    "start_time": "2023-03-09T15:25:02.484Z"
   },
   {
    "duration": 71,
    "start_time": "2023-03-09T15:25:41.497Z"
   },
   {
    "duration": 3,
    "start_time": "2023-03-09T15:26:17.822Z"
   },
   {
    "duration": 19,
    "start_time": "2023-03-09T15:26:20.245Z"
   },
   {
    "duration": 4,
    "start_time": "2023-03-09T15:26:22.693Z"
   },
   {
    "duration": 61,
    "start_time": "2023-03-09T15:26:26.564Z"
   },
   {
    "duration": 4,
    "start_time": "2023-03-09T15:32:14.365Z"
   },
   {
    "duration": 11,
    "start_time": "2023-03-09T15:33:13.381Z"
   },
   {
    "duration": 5,
    "start_time": "2023-03-09T15:33:17.563Z"
   },
   {
    "duration": 18,
    "start_time": "2023-03-09T15:33:18.268Z"
   },
   {
    "duration": 15,
    "start_time": "2023-03-09T15:33:34.711Z"
   },
   {
    "duration": 4,
    "start_time": "2023-03-09T15:34:23.132Z"
   },
   {
    "duration": 62,
    "start_time": "2023-03-09T15:34:35.588Z"
   },
   {
    "duration": 65,
    "start_time": "2023-03-09T15:34:50.960Z"
   },
   {
    "duration": 7,
    "start_time": "2023-03-09T15:35:18.220Z"
   },
   {
    "duration": 65,
    "start_time": "2023-03-09T15:35:23.347Z"
   },
   {
    "duration": 14,
    "start_time": "2023-03-09T15:38:36.917Z"
   },
   {
    "duration": 5,
    "start_time": "2023-03-09T15:40:12.559Z"
   },
   {
    "duration": 19,
    "start_time": "2023-03-09T15:40:16.135Z"
   },
   {
    "duration": 8,
    "start_time": "2023-03-09T15:41:45.313Z"
   },
   {
    "duration": 35,
    "start_time": "2023-03-09T15:41:45.971Z"
   },
   {
    "duration": 5,
    "start_time": "2023-03-09T15:42:44.090Z"
   },
   {
    "duration": 22,
    "start_time": "2023-03-09T15:42:44.503Z"
   },
   {
    "duration": 789,
    "start_time": "2023-03-09T15:46:08.545Z"
   },
   {
    "duration": 59,
    "start_time": "2023-03-09T15:46:37.664Z"
   },
   {
    "duration": 17,
    "start_time": "2023-03-09T15:47:08.999Z"
   },
   {
    "duration": 19,
    "start_time": "2023-03-09T15:47:42.510Z"
   },
   {
    "duration": 18,
    "start_time": "2023-03-09T15:47:51.104Z"
   },
   {
    "duration": 7,
    "start_time": "2023-03-09T15:48:43.358Z"
   },
   {
    "duration": 17,
    "start_time": "2023-03-09T15:48:44.155Z"
   },
   {
    "duration": 24,
    "start_time": "2023-03-09T15:49:14.296Z"
   },
   {
    "duration": 6,
    "start_time": "2023-03-09T15:49:37.864Z"
   },
   {
    "duration": 25,
    "start_time": "2023-03-09T15:49:38.389Z"
   },
   {
    "duration": 6,
    "start_time": "2023-03-09T16:03:58.680Z"
   },
   {
    "duration": 29,
    "start_time": "2023-03-09T16:04:00.317Z"
   },
   {
    "duration": 6,
    "start_time": "2023-03-09T16:04:48.050Z"
   },
   {
    "duration": 22,
    "start_time": "2023-03-09T16:04:48.448Z"
   },
   {
    "duration": 37,
    "start_time": "2023-03-09T16:05:15.929Z"
   },
   {
    "duration": 6,
    "start_time": "2023-03-09T16:06:32.057Z"
   },
   {
    "duration": 29,
    "start_time": "2023-03-09T16:06:32.565Z"
   },
   {
    "duration": 9,
    "start_time": "2023-03-09T16:11:57.676Z"
   },
   {
    "duration": 37,
    "start_time": "2023-03-09T16:11:59.965Z"
   },
   {
    "duration": 7,
    "start_time": "2023-03-09T16:13:00.977Z"
   },
   {
    "duration": 66,
    "start_time": "2023-03-09T16:13:01.294Z"
   },
   {
    "duration": 9,
    "start_time": "2023-03-09T16:13:17.261Z"
   },
   {
    "duration": 39,
    "start_time": "2023-03-09T16:13:17.609Z"
   },
   {
    "duration": 6,
    "start_time": "2023-03-09T16:13:28.818Z"
   },
   {
    "duration": 27,
    "start_time": "2023-03-09T16:13:29.386Z"
   },
   {
    "duration": 21,
    "start_time": "2023-03-09T16:13:54.889Z"
   },
   {
    "duration": 6,
    "start_time": "2023-03-09T16:14:13.585Z"
   },
   {
    "duration": 35,
    "start_time": "2023-03-09T16:14:17.312Z"
   },
   {
    "duration": 9,
    "start_time": "2023-03-09T16:15:01.132Z"
   },
   {
    "duration": 35,
    "start_time": "2023-03-09T16:15:01.515Z"
   },
   {
    "duration": 6,
    "start_time": "2023-03-09T16:15:23.222Z"
   },
   {
    "duration": 26,
    "start_time": "2023-03-09T16:15:23.618Z"
   },
   {
    "duration": 8,
    "start_time": "2023-03-09T16:15:43.506Z"
   },
   {
    "duration": 28,
    "start_time": "2023-03-09T16:15:43.690Z"
   },
   {
    "duration": 9,
    "start_time": "2023-03-09T16:15:54.720Z"
   },
   {
    "duration": 35,
    "start_time": "2023-03-09T16:15:55.008Z"
   },
   {
    "duration": 7,
    "start_time": "2023-03-09T16:17:14.876Z"
   },
   {
    "duration": 7,
    "start_time": "2023-03-09T16:17:20.013Z"
   },
   {
    "duration": 34,
    "start_time": "2023-03-09T16:17:20.368Z"
   },
   {
    "duration": 6,
    "start_time": "2023-03-09T16:17:27.806Z"
   },
   {
    "duration": 27,
    "start_time": "2023-03-09T16:17:28.189Z"
   },
   {
    "duration": 5,
    "start_time": "2023-03-09T16:17:38.524Z"
   },
   {
    "duration": 30,
    "start_time": "2023-03-09T16:17:40.464Z"
   },
   {
    "duration": 7,
    "start_time": "2023-03-09T16:18:07.576Z"
   },
   {
    "duration": 38,
    "start_time": "2023-03-09T16:18:07.896Z"
   },
   {
    "duration": 8,
    "start_time": "2023-03-09T16:18:27.558Z"
   },
   {
    "duration": 29,
    "start_time": "2023-03-09T16:18:27.878Z"
   },
   {
    "duration": 4,
    "start_time": "2023-03-09T16:20:30.896Z"
   },
   {
    "duration": 9,
    "start_time": "2023-03-09T16:21:21.501Z"
   },
   {
    "duration": 4,
    "start_time": "2023-03-09T16:21:21.977Z"
   },
   {
    "duration": 32,
    "start_time": "2023-03-09T16:21:23.039Z"
   },
   {
    "duration": 39,
    "start_time": "2023-03-09T16:33:08.472Z"
   },
   {
    "duration": 5,
    "start_time": "2023-03-09T17:21:25.042Z"
   },
   {
    "duration": 12,
    "start_time": "2023-03-09T17:21:32.087Z"
   },
   {
    "duration": 6,
    "start_time": "2023-03-09T17:46:38.577Z"
   },
   {
    "duration": 5,
    "start_time": "2023-03-09T17:46:47.976Z"
   },
   {
    "duration": 6,
    "start_time": "2023-03-09T17:46:51.456Z"
   },
   {
    "duration": 11,
    "start_time": "2023-03-09T17:47:30.455Z"
   },
   {
    "duration": 10,
    "start_time": "2023-03-09T17:49:41.120Z"
   },
   {
    "duration": 4,
    "start_time": "2023-03-09T17:58:14.887Z"
   },
   {
    "duration": 21,
    "start_time": "2023-03-09T17:58:32.639Z"
   },
   {
    "duration": 9,
    "start_time": "2023-03-09T17:58:42.472Z"
   },
   {
    "duration": 11,
    "start_time": "2023-03-09T17:59:13.347Z"
   },
   {
    "duration": 9,
    "start_time": "2023-03-09T18:01:49.793Z"
   },
   {
    "duration": 3,
    "start_time": "2023-03-09T18:08:15.258Z"
   },
   {
    "duration": 193,
    "start_time": "2023-03-09T18:08:15.722Z"
   },
   {
    "duration": 3,
    "start_time": "2023-03-09T18:08:38.473Z"
   },
   {
    "duration": 6,
    "start_time": "2023-03-09T18:08:38.704Z"
   },
   {
    "duration": 25,
    "start_time": "2023-03-09T18:08:54.028Z"
   },
   {
    "duration": 3,
    "start_time": "2023-03-09T18:11:58.070Z"
   },
   {
    "duration": 19,
    "start_time": "2023-03-09T18:11:59.202Z"
   },
   {
    "duration": 681,
    "start_time": "2023-03-09T18:24:03.932Z"
   },
   {
    "duration": 6,
    "start_time": "2023-03-09T18:24:10.445Z"
   },
   {
    "duration": 5,
    "start_time": "2023-03-09T18:24:15.648Z"
   },
   {
    "duration": 11,
    "start_time": "2023-03-09T18:25:09.189Z"
   },
   {
    "duration": 10,
    "start_time": "2023-03-09T18:31:19.349Z"
   },
   {
    "duration": 3,
    "start_time": "2023-03-09T18:31:29.643Z"
   },
   {
    "duration": 24,
    "start_time": "2023-03-09T18:31:29.851Z"
   },
   {
    "duration": 22,
    "start_time": "2023-03-09T18:31:46.701Z"
   },
   {
    "duration": 4,
    "start_time": "2023-03-09T18:32:12.264Z"
   },
   {
    "duration": 18,
    "start_time": "2023-03-09T18:32:12.691Z"
   },
   {
    "duration": 3,
    "start_time": "2023-03-09T18:34:54.315Z"
   },
   {
    "duration": 7,
    "start_time": "2023-03-09T18:35:52.680Z"
   },
   {
    "duration": 2,
    "start_time": "2023-03-09T18:37:53.863Z"
   },
   {
    "duration": 18,
    "start_time": "2023-03-09T18:39:07.628Z"
   },
   {
    "duration": 26,
    "start_time": "2023-03-09T18:39:18.903Z"
   },
   {
    "duration": 10,
    "start_time": "2023-03-09T18:39:50.021Z"
   },
   {
    "duration": 3,
    "start_time": "2023-03-09T18:41:01.004Z"
   },
   {
    "duration": 195,
    "start_time": "2023-03-09T18:41:01.394Z"
   },
   {
    "duration": 10,
    "start_time": "2023-03-09T18:41:17.035Z"
   },
   {
    "duration": 3,
    "start_time": "2023-03-09T18:41:23.211Z"
   },
   {
    "duration": 15,
    "start_time": "2023-03-09T18:41:23.748Z"
   },
   {
    "duration": 3,
    "start_time": "2023-03-09T18:41:54.359Z"
   },
   {
    "duration": 10,
    "start_time": "2023-03-09T18:41:54.562Z"
   },
   {
    "duration": 11,
    "start_time": "2023-03-09T18:42:21.151Z"
   },
   {
    "duration": 11,
    "start_time": "2023-03-09T18:42:26.929Z"
   },
   {
    "duration": 10,
    "start_time": "2023-03-09T18:42:48.160Z"
   },
   {
    "duration": 16,
    "start_time": "2023-03-09T18:43:22.976Z"
   },
   {
    "duration": 10,
    "start_time": "2023-03-09T18:44:54.975Z"
   },
   {
    "duration": 51,
    "start_time": "2023-03-09T18:51:13.558Z"
   },
   {
    "duration": 73,
    "start_time": "2023-03-09T18:52:19.010Z"
   },
   {
    "duration": 4,
    "start_time": "2023-03-09T18:52:29.298Z"
   },
   {
    "duration": 14,
    "start_time": "2023-03-09T18:52:29.655Z"
   },
   {
    "duration": 14,
    "start_time": "2023-03-09T18:52:31.657Z"
   },
   {
    "duration": 4,
    "start_time": "2023-03-09T18:53:29.504Z"
   },
   {
    "duration": 10,
    "start_time": "2023-03-09T18:53:30.559Z"
   },
   {
    "duration": 29,
    "start_time": "2023-03-09T18:53:38.229Z"
   },
   {
    "duration": 20,
    "start_time": "2023-03-09T18:54:12.073Z"
   },
   {
    "duration": 35,
    "start_time": "2023-03-09T18:57:34.024Z"
   },
   {
    "duration": 24,
    "start_time": "2023-03-09T18:57:42.589Z"
   },
   {
    "duration": 19,
    "start_time": "2023-03-09T18:57:52.847Z"
   },
   {
    "duration": 28,
    "start_time": "2023-03-09T18:58:35.475Z"
   },
   {
    "duration": 26,
    "start_time": "2023-03-09T19:00:39.881Z"
   },
   {
    "duration": 36,
    "start_time": "2023-03-09T19:01:34.849Z"
   },
   {
    "duration": 28,
    "start_time": "2023-03-09T19:03:22.773Z"
   },
   {
    "duration": 34,
    "start_time": "2023-03-09T19:08:06.507Z"
   },
   {
    "duration": 30,
    "start_time": "2023-03-09T19:09:20.482Z"
   },
   {
    "duration": 31,
    "start_time": "2023-03-09T21:52:17.599Z"
   },
   {
    "duration": 29,
    "start_time": "2023-03-09T21:52:45.359Z"
   },
   {
    "duration": 1179,
    "start_time": "2023-03-09T21:55:43.204Z"
   },
   {
    "duration": 34,
    "start_time": "2023-03-09T21:55:54.560Z"
   },
   {
    "duration": 6,
    "start_time": "2023-03-09T21:58:44.695Z"
   },
   {
    "duration": 20,
    "start_time": "2023-03-09T21:58:59.825Z"
   },
   {
    "duration": 4,
    "start_time": "2023-03-09T21:59:41.969Z"
   },
   {
    "duration": 22,
    "start_time": "2023-03-09T21:59:51.547Z"
   },
   {
    "duration": 19,
    "start_time": "2023-03-09T22:00:19.077Z"
   },
   {
    "duration": 28,
    "start_time": "2023-03-09T22:00:35.620Z"
   },
   {
    "duration": 31,
    "start_time": "2023-03-09T22:01:44.547Z"
   },
   {
    "duration": 32,
    "start_time": "2023-03-09T22:02:40.255Z"
   },
   {
    "duration": 28,
    "start_time": "2023-03-09T22:03:29.011Z"
   },
   {
    "duration": 43,
    "start_time": "2023-03-09T22:03:35.424Z"
   },
   {
    "duration": 39,
    "start_time": "2023-03-09T22:04:52.759Z"
   },
   {
    "duration": 18,
    "start_time": "2023-03-09T22:05:19.109Z"
   },
   {
    "duration": 25,
    "start_time": "2023-03-09T22:08:06.623Z"
   },
   {
    "duration": 4,
    "start_time": "2023-03-09T22:13:37.458Z"
   },
   {
    "duration": 25,
    "start_time": "2023-03-09T22:14:44.803Z"
   },
   {
    "duration": 6,
    "start_time": "2023-03-09T22:15:23.872Z"
   },
   {
    "duration": 40,
    "start_time": "2023-03-09T22:15:36.028Z"
   },
   {
    "duration": 24,
    "start_time": "2023-03-09T22:16:04.902Z"
   },
   {
    "duration": 33,
    "start_time": "2023-03-09T22:16:14.593Z"
   },
   {
    "duration": 47,
    "start_time": "2023-03-09T22:18:24.228Z"
   },
   {
    "duration": 27,
    "start_time": "2023-03-09T22:19:05.052Z"
   },
   {
    "duration": 34,
    "start_time": "2023-03-09T22:19:08.425Z"
   },
   {
    "duration": 26,
    "start_time": "2023-03-09T22:19:27.374Z"
   },
   {
    "duration": 39,
    "start_time": "2023-03-09T22:19:50.105Z"
   },
   {
    "duration": 43,
    "start_time": "2023-03-09T22:20:05.223Z"
   },
   {
    "duration": 34,
    "start_time": "2023-03-09T22:20:21.371Z"
   },
   {
    "duration": 19,
    "start_time": "2023-03-09T22:22:22.799Z"
   },
   {
    "duration": 31,
    "start_time": "2023-03-09T22:22:38.067Z"
   },
   {
    "duration": 33,
    "start_time": "2023-03-09T22:22:48.767Z"
   },
   {
    "duration": 20,
    "start_time": "2023-03-09T22:23:34.847Z"
   },
   {
    "duration": 38,
    "start_time": "2023-03-09T22:24:12.283Z"
   },
   {
    "duration": 32,
    "start_time": "2023-03-09T22:24:37.317Z"
   },
   {
    "duration": 60,
    "start_time": "2023-03-09T22:24:46.531Z"
   },
   {
    "duration": 34,
    "start_time": "2023-03-09T22:24:56.774Z"
   },
   {
    "duration": 48,
    "start_time": "2023-03-09T22:26:14.849Z"
   },
   {
    "duration": 26,
    "start_time": "2023-03-09T22:26:18.577Z"
   },
   {
    "duration": 24,
    "start_time": "2023-03-09T22:26:32.465Z"
   },
   {
    "duration": 41,
    "start_time": "2023-03-09T22:26:58.757Z"
   },
   {
    "duration": 21,
    "start_time": "2023-03-09T22:27:03.018Z"
   },
   {
    "duration": 28,
    "start_time": "2023-03-09T22:27:18.419Z"
   },
   {
    "duration": 30,
    "start_time": "2023-03-09T22:28:17.068Z"
   },
   {
    "duration": 40,
    "start_time": "2023-03-09T22:28:29.300Z"
   },
   {
    "duration": 22,
    "start_time": "2023-03-09T22:28:36.466Z"
   },
   {
    "duration": 25,
    "start_time": "2023-03-09T22:28:49.954Z"
   },
   {
    "duration": 39,
    "start_time": "2023-03-09T22:29:10.352Z"
   },
   {
    "duration": 22,
    "start_time": "2023-03-09T22:31:04.990Z"
   },
   {
    "duration": 27,
    "start_time": "2023-03-09T22:31:12.668Z"
   },
   {
    "duration": 24,
    "start_time": "2023-03-09T22:32:20.315Z"
   },
   {
    "duration": 24,
    "start_time": "2023-03-09T22:32:35.618Z"
   },
   {
    "duration": 30,
    "start_time": "2023-03-09T22:32:43.126Z"
   },
   {
    "duration": 45,
    "start_time": "2023-03-09T22:33:09.798Z"
   },
   {
    "duration": 39,
    "start_time": "2023-03-09T22:33:16.066Z"
   },
   {
    "duration": 36,
    "start_time": "2023-03-09T22:33:30.786Z"
   },
   {
    "duration": 40,
    "start_time": "2023-03-09T22:33:56.892Z"
   },
   {
    "duration": 6,
    "start_time": "2023-03-09T22:36:48.379Z"
   },
   {
    "duration": 42,
    "start_time": "2023-03-09T22:36:59.359Z"
   },
   {
    "duration": 6,
    "start_time": "2023-03-09T22:37:17.163Z"
   },
   {
    "duration": 37,
    "start_time": "2023-03-09T22:37:27.819Z"
   },
   {
    "duration": 5,
    "start_time": "2023-03-09T22:40:38.283Z"
   },
   {
    "duration": 30,
    "start_time": "2023-03-09T22:40:42.888Z"
   },
   {
    "duration": 19,
    "start_time": "2023-03-09T22:41:11.511Z"
   },
   {
    "duration": 33,
    "start_time": "2023-03-09T22:41:19.125Z"
   },
   {
    "duration": 30,
    "start_time": "2023-03-09T22:42:11.247Z"
   },
   {
    "duration": 45,
    "start_time": "2023-03-09T22:42:20.245Z"
   },
   {
    "duration": 21,
    "start_time": "2023-03-09T22:42:32.689Z"
   },
   {
    "duration": 28,
    "start_time": "2023-03-09T22:42:48.373Z"
   },
   {
    "duration": 38,
    "start_time": "2023-03-09T22:47:19.737Z"
   },
   {
    "duration": 23,
    "start_time": "2023-03-09T22:47:47.463Z"
   },
   {
    "duration": 23,
    "start_time": "2023-03-09T22:49:58.995Z"
   },
   {
    "duration": 21,
    "start_time": "2023-03-09T22:51:41.597Z"
   },
   {
    "duration": 24,
    "start_time": "2023-03-09T22:52:30.249Z"
   },
   {
    "duration": 35,
    "start_time": "2023-03-09T22:54:41.397Z"
   },
   {
    "duration": 23,
    "start_time": "2023-03-09T22:56:57.784Z"
   },
   {
    "duration": 2020,
    "start_time": "2023-03-10T08:59:00.758Z"
   },
   {
    "duration": 4,
    "start_time": "2023-03-10T08:59:02.787Z"
   },
   {
    "duration": 1309,
    "start_time": "2023-03-10T08:59:02.793Z"
   },
   {
    "duration": 9,
    "start_time": "2023-03-10T08:59:04.104Z"
   },
   {
    "duration": 354,
    "start_time": "2023-03-10T08:59:04.116Z"
   },
   {
    "duration": 20,
    "start_time": "2023-03-10T08:59:04.473Z"
   },
   {
    "duration": 64,
    "start_time": "2023-03-10T08:59:04.495Z"
   },
   {
    "duration": 42,
    "start_time": "2023-03-10T08:59:04.566Z"
   },
   {
    "duration": 120,
    "start_time": "2023-03-10T08:59:04.611Z"
   },
   {
    "duration": 19,
    "start_time": "2023-03-10T08:59:04.733Z"
   },
   {
    "duration": 32,
    "start_time": "2023-03-10T08:59:04.754Z"
   },
   {
    "duration": 20,
    "start_time": "2023-03-10T08:59:04.790Z"
   },
   {
    "duration": 52,
    "start_time": "2023-03-10T08:59:04.822Z"
   },
   {
    "duration": 10,
    "start_time": "2023-03-10T08:59:04.878Z"
   },
   {
    "duration": 40,
    "start_time": "2023-03-10T08:59:04.890Z"
   },
   {
    "duration": 51,
    "start_time": "2023-03-10T08:59:04.933Z"
   },
   {
    "duration": 8,
    "start_time": "2023-03-10T08:59:04.986Z"
   },
   {
    "duration": 32,
    "start_time": "2023-03-10T08:59:04.996Z"
   },
   {
    "duration": 197,
    "start_time": "2023-03-10T08:59:05.030Z"
   },
   {
    "duration": 6,
    "start_time": "2023-03-10T08:59:05.229Z"
   },
   {
    "duration": 33,
    "start_time": "2023-03-10T08:59:05.237Z"
   },
   {
    "duration": 75,
    "start_time": "2023-03-10T08:59:05.273Z"
   },
   {
    "duration": 8530,
    "start_time": "2023-03-10T08:59:05.350Z"
   },
   {
    "duration": 794,
    "start_time": "2023-03-10T08:59:13.883Z"
   },
   {
    "duration": 2073,
    "start_time": "2023-03-10T08:59:14.682Z"
   },
   {
    "duration": 3,
    "start_time": "2023-03-10T08:59:16.758Z"
   },
   {
    "duration": 13,
    "start_time": "2023-03-10T08:59:16.763Z"
   },
   {
    "duration": 50,
    "start_time": "2023-03-10T08:59:16.781Z"
   },
   {
    "duration": 17,
    "start_time": "2023-03-10T08:59:16.836Z"
   },
   {
    "duration": 93,
    "start_time": "2023-03-10T08:59:16.856Z"
   },
   {
    "duration": 288,
    "start_time": "2023-03-10T08:59:16.951Z"
   },
   {
    "duration": 24,
    "start_time": "2023-03-10T08:59:17.241Z"
   },
   {
    "duration": 358,
    "start_time": "2023-03-10T08:59:17.267Z"
   },
   {
    "duration": 83,
    "start_time": "2023-03-10T08:59:17.627Z"
   },
   {
    "duration": 98,
    "start_time": "2023-03-10T08:59:17.712Z"
   },
   {
    "duration": 71,
    "start_time": "2023-03-10T08:59:17.812Z"
   },
   {
    "duration": 44,
    "start_time": "2023-03-10T08:59:17.888Z"
   },
   {
    "duration": 45,
    "start_time": "2023-03-10T08:59:17.934Z"
   },
   {
    "duration": 40,
    "start_time": "2023-03-10T08:59:17.981Z"
   },
   {
    "duration": 10,
    "start_time": "2023-03-10T09:19:40.520Z"
   },
   {
    "duration": 10,
    "start_time": "2023-03-10T09:19:52.397Z"
   },
   {
    "duration": 8,
    "start_time": "2023-03-10T09:20:00.609Z"
   },
   {
    "duration": 8,
    "start_time": "2023-03-10T09:20:04.009Z"
   },
   {
    "duration": 11,
    "start_time": "2023-03-10T09:21:52.577Z"
   },
   {
    "duration": 7,
    "start_time": "2023-03-10T09:21:58.516Z"
   },
   {
    "duration": 7,
    "start_time": "2023-03-10T09:22:04.698Z"
   },
   {
    "duration": 8,
    "start_time": "2023-03-10T09:22:11.864Z"
   },
   {
    "duration": 8,
    "start_time": "2023-03-10T09:22:16.026Z"
   },
   {
    "duration": 15,
    "start_time": "2023-03-10T09:22:19.972Z"
   },
   {
    "duration": 46,
    "start_time": "2023-03-10T09:22:24.715Z"
   },
   {
    "duration": 7,
    "start_time": "2023-03-10T09:22:34.524Z"
   },
   {
    "duration": 9,
    "start_time": "2023-03-10T09:24:46.502Z"
   },
   {
    "duration": 15,
    "start_time": "2023-03-10T09:24:54.885Z"
   },
   {
    "duration": 10,
    "start_time": "2023-03-10T09:24:59.499Z"
   },
   {
    "duration": 8,
    "start_time": "2023-03-10T09:25:03.962Z"
   },
   {
    "duration": 16,
    "start_time": "2023-03-10T09:25:11.280Z"
   },
   {
    "duration": 8,
    "start_time": "2023-03-10T09:25:21.517Z"
   },
   {
    "duration": 10,
    "start_time": "2023-03-10T09:25:51.433Z"
   },
   {
    "duration": 7,
    "start_time": "2023-03-10T09:33:23.282Z"
   },
   {
    "duration": 212,
    "start_time": "2023-03-10T09:33:40.015Z"
   },
   {
    "duration": 13,
    "start_time": "2023-03-10T09:35:25.880Z"
   },
   {
    "duration": 8,
    "start_time": "2023-03-10T09:35:26.438Z"
   },
   {
    "duration": 14,
    "start_time": "2023-03-10T09:36:24.376Z"
   },
   {
    "duration": 11,
    "start_time": "2023-03-10T09:37:04.198Z"
   },
   {
    "duration": 60,
    "start_time": "2023-03-10T09:38:24.219Z"
   },
   {
    "duration": 6,
    "start_time": "2023-03-10T09:38:30.575Z"
   },
   {
    "duration": 10,
    "start_time": "2023-03-10T09:38:43.713Z"
   },
   {
    "duration": 5,
    "start_time": "2023-03-10T09:47:38.501Z"
   },
   {
    "duration": 10,
    "start_time": "2023-03-10T09:47:39.008Z"
   },
   {
    "duration": 10,
    "start_time": "2023-03-10T09:47:49.802Z"
   },
   {
    "duration": 6,
    "start_time": "2023-03-10T09:48:16.643Z"
   },
   {
    "duration": 10,
    "start_time": "2023-03-10T09:48:17.024Z"
   },
   {
    "duration": 6,
    "start_time": "2023-03-10T09:48:41.348Z"
   },
   {
    "duration": 11,
    "start_time": "2023-03-10T09:48:42.324Z"
   },
   {
    "duration": 7,
    "start_time": "2023-03-10T09:49:06.502Z"
   },
   {
    "duration": 10,
    "start_time": "2023-03-10T09:49:06.975Z"
   },
   {
    "duration": 11,
    "start_time": "2023-03-10T09:51:40.675Z"
   },
   {
    "duration": 7,
    "start_time": "2023-03-10T09:52:00.399Z"
   },
   {
    "duration": 13,
    "start_time": "2023-03-10T09:52:00.846Z"
   },
   {
    "duration": 11,
    "start_time": "2023-03-10T09:52:43.839Z"
   },
   {
    "duration": 193,
    "start_time": "2023-03-10T09:53:02.334Z"
   },
   {
    "duration": 9,
    "start_time": "2023-03-10T09:53:28.194Z"
   },
   {
    "duration": 11,
    "start_time": "2023-03-10T09:53:34.979Z"
   },
   {
    "duration": 10,
    "start_time": "2023-03-10T09:53:41.537Z"
   },
   {
    "duration": 9,
    "start_time": "2023-03-10T09:57:33.545Z"
   },
   {
    "duration": 5,
    "start_time": "2023-03-10T10:03:06.967Z"
   },
   {
    "duration": 9,
    "start_time": "2023-03-10T10:03:07.346Z"
   },
   {
    "duration": 759,
    "start_time": "2023-03-10T10:03:31.264Z"
   },
   {
    "duration": 7,
    "start_time": "2023-03-10T10:03:39.786Z"
   },
   {
    "duration": 4,
    "start_time": "2023-03-10T10:05:26.171Z"
   },
   {
    "duration": 8,
    "start_time": "2023-03-10T10:05:27.663Z"
   },
   {
    "duration": 9,
    "start_time": "2023-03-10T10:05:29.212Z"
   },
   {
    "duration": 6,
    "start_time": "2023-03-10T10:05:36.633Z"
   },
   {
    "duration": 8,
    "start_time": "2023-03-10T10:05:37.058Z"
   },
   {
    "duration": 10,
    "start_time": "2023-03-10T10:05:42.201Z"
   },
   {
    "duration": 7,
    "start_time": "2023-03-10T10:05:50.747Z"
   },
   {
    "duration": 10,
    "start_time": "2023-03-10T10:06:05.707Z"
   },
   {
    "duration": 5,
    "start_time": "2023-03-10T10:06:23.945Z"
   },
   {
    "duration": 8,
    "start_time": "2023-03-10T10:06:24.236Z"
   },
   {
    "duration": 11,
    "start_time": "2023-03-10T10:06:25.575Z"
   },
   {
    "duration": 13,
    "start_time": "2023-03-10T10:06:34.073Z"
   },
   {
    "duration": 8,
    "start_time": "2023-03-10T10:07:01.073Z"
   },
   {
    "duration": 1845,
    "start_time": "2023-03-10T10:51:01.721Z"
   },
   {
    "duration": 6,
    "start_time": "2023-03-10T10:57:19.498Z"
   },
   {
    "duration": 9,
    "start_time": "2023-03-10T10:57:21.338Z"
   },
   {
    "duration": 9,
    "start_time": "2023-03-10T11:44:23.920Z"
   },
   {
    "duration": 7,
    "start_time": "2023-03-10T11:45:15.920Z"
   },
   {
    "duration": 30,
    "start_time": "2023-03-10T11:45:18.138Z"
   },
   {
    "duration": 6,
    "start_time": "2023-03-10T11:57:51.016Z"
   },
   {
    "duration": 28,
    "start_time": "2023-03-10T11:58:21.458Z"
   },
   {
    "duration": 19,
    "start_time": "2023-03-10T11:58:41.001Z"
   },
   {
    "duration": 7,
    "start_time": "2023-03-10T12:14:59.149Z"
   },
   {
    "duration": 27,
    "start_time": "2023-03-10T12:15:02.222Z"
   },
   {
    "duration": 26,
    "start_time": "2023-03-10T12:15:09.175Z"
   },
   {
    "duration": 35,
    "start_time": "2023-03-10T12:15:17.646Z"
   },
   {
    "duration": 8,
    "start_time": "2023-03-10T12:32:43.984Z"
   },
   {
    "duration": 6457,
    "start_time": "2023-03-10T12:32:44.938Z"
   },
   {
    "duration": 1335,
    "start_time": "2023-03-10T12:33:19.578Z"
   },
   {
    "duration": 3,
    "start_time": "2023-03-10T12:33:20.915Z"
   },
   {
    "duration": 1197,
    "start_time": "2023-03-10T12:33:20.920Z"
   },
   {
    "duration": 7,
    "start_time": "2023-03-10T12:33:22.119Z"
   },
   {
    "duration": 107,
    "start_time": "2023-03-10T12:33:22.127Z"
   },
   {
    "duration": 13,
    "start_time": "2023-03-10T12:33:22.236Z"
   },
   {
    "duration": 6,
    "start_time": "2023-03-10T12:33:22.250Z"
   },
   {
    "duration": 38,
    "start_time": "2023-03-10T12:33:22.257Z"
   },
   {
    "duration": 65,
    "start_time": "2023-03-10T12:33:22.296Z"
   },
   {
    "duration": 20,
    "start_time": "2023-03-10T12:33:22.380Z"
   },
   {
    "duration": 40,
    "start_time": "2023-03-10T12:33:22.402Z"
   },
   {
    "duration": 17,
    "start_time": "2023-03-10T12:33:22.444Z"
   },
   {
    "duration": 44,
    "start_time": "2023-03-10T12:33:22.464Z"
   },
   {
    "duration": 7,
    "start_time": "2023-03-10T12:33:22.510Z"
   },
   {
    "duration": 21,
    "start_time": "2023-03-10T12:33:22.520Z"
   },
   {
    "duration": 73,
    "start_time": "2023-03-10T12:33:22.543Z"
   },
   {
    "duration": 9,
    "start_time": "2023-03-10T12:33:22.618Z"
   },
   {
    "duration": 25,
    "start_time": "2023-03-10T12:33:22.629Z"
   },
   {
    "duration": 163,
    "start_time": "2023-03-10T12:33:22.656Z"
   },
   {
    "duration": 4,
    "start_time": "2023-03-10T12:33:22.821Z"
   },
   {
    "duration": 27,
    "start_time": "2023-03-10T12:33:22.827Z"
   },
   {
    "duration": 6162,
    "start_time": "2023-03-10T12:33:22.856Z"
   },
   {
    "duration": 666,
    "start_time": "2023-03-10T12:33:29.020Z"
   },
   {
    "duration": 1647,
    "start_time": "2023-03-10T12:33:29.688Z"
   },
   {
    "duration": 3,
    "start_time": "2023-03-10T12:33:31.337Z"
   },
   {
    "duration": 25,
    "start_time": "2023-03-10T12:33:31.342Z"
   },
   {
    "duration": 38,
    "start_time": "2023-03-10T12:33:31.368Z"
   },
   {
    "duration": 19,
    "start_time": "2023-03-10T12:33:31.410Z"
   },
   {
    "duration": 34,
    "start_time": "2023-03-10T12:33:31.431Z"
   },
   {
    "duration": 23,
    "start_time": "2023-03-10T12:33:31.467Z"
   },
   {
    "duration": 252,
    "start_time": "2023-03-10T12:33:31.492Z"
   },
   {
    "duration": 231,
    "start_time": "2023-03-10T12:33:31.746Z"
   },
   {
    "duration": 30,
    "start_time": "2023-03-10T12:33:31.979Z"
   },
   {
    "duration": 79,
    "start_time": "2023-03-10T12:33:32.011Z"
   },
   {
    "duration": 98,
    "start_time": "2023-03-10T12:33:32.091Z"
   },
   {
    "duration": 29,
    "start_time": "2023-03-10T12:33:32.191Z"
   },
   {
    "duration": 64,
    "start_time": "2023-03-10T12:33:32.222Z"
   },
   {
    "duration": 19,
    "start_time": "2023-03-10T12:33:32.289Z"
   },
   {
    "duration": 15,
    "start_time": "2023-03-10T12:33:32.310Z"
   },
   {
    "duration": 20,
    "start_time": "2023-03-10T12:33:32.327Z"
   },
   {
    "duration": 35,
    "start_time": "2023-03-10T12:33:32.349Z"
   },
   {
    "duration": 32,
    "start_time": "2023-03-10T12:33:32.386Z"
   },
   {
    "duration": 1736,
    "start_time": "2023-03-10T12:42:46.678Z"
   },
   {
    "duration": 128,
    "start_time": "2023-03-10T13:48:37.196Z"
   },
   {
    "duration": 19,
    "start_time": "2023-03-10T13:48:40.739Z"
   },
   {
    "duration": 19,
    "start_time": "2023-03-10T13:49:01.945Z"
   },
   {
    "duration": 26,
    "start_time": "2023-03-10T13:49:28.181Z"
   },
   {
    "duration": 23,
    "start_time": "2023-03-10T13:49:46.354Z"
   },
   {
    "duration": 23,
    "start_time": "2023-03-10T13:50:33.893Z"
   },
   {
    "duration": 18,
    "start_time": "2023-03-10T13:50:40.743Z"
   },
   {
    "duration": 26,
    "start_time": "2023-03-10T13:50:45.826Z"
   },
   {
    "duration": 23,
    "start_time": "2023-03-10T13:51:12.017Z"
   },
   {
    "duration": 28,
    "start_time": "2023-03-10T13:51:19.688Z"
   },
   {
    "duration": 22,
    "start_time": "2023-03-10T13:52:14.038Z"
   },
   {
    "duration": 21,
    "start_time": "2023-03-10T13:52:19.215Z"
   },
   {
    "duration": 20,
    "start_time": "2023-03-10T13:52:23.587Z"
   },
   {
    "duration": 19,
    "start_time": "2023-03-10T13:53:21.734Z"
   },
   {
    "duration": 22,
    "start_time": "2023-03-10T13:53:29.328Z"
   },
   {
    "duration": 18,
    "start_time": "2023-03-10T13:53:44.174Z"
   },
   {
    "duration": 26,
    "start_time": "2023-03-10T13:53:50.230Z"
   },
   {
    "duration": 24,
    "start_time": "2023-03-10T13:54:06.169Z"
   },
   {
    "duration": 16,
    "start_time": "2023-03-10T13:55:56.487Z"
   },
   {
    "duration": 17,
    "start_time": "2023-03-10T13:56:06.222Z"
   },
   {
    "duration": 28,
    "start_time": "2023-03-10T13:56:12.668Z"
   },
   {
    "duration": 22,
    "start_time": "2023-03-10T13:56:35.599Z"
   },
   {
    "duration": 23,
    "start_time": "2023-03-10T13:56:45.408Z"
   },
   {
    "duration": 30,
    "start_time": "2023-03-10T13:56:53.495Z"
   },
   {
    "duration": 22,
    "start_time": "2023-03-10T13:57:24.791Z"
   },
   {
    "duration": 22,
    "start_time": "2023-03-10T13:57:36.189Z"
   },
   {
    "duration": 20,
    "start_time": "2023-03-10T13:58:41.869Z"
   },
   {
    "duration": 17,
    "start_time": "2023-03-10T13:58:59.522Z"
   },
   {
    "duration": 21,
    "start_time": "2023-03-10T14:00:12.984Z"
   },
   {
    "duration": 21,
    "start_time": "2023-03-10T14:02:21.794Z"
   },
   {
    "duration": 21,
    "start_time": "2023-03-10T14:02:45.207Z"
   },
   {
    "duration": 22,
    "start_time": "2023-03-10T14:03:07.149Z"
   },
   {
    "duration": 22,
    "start_time": "2023-03-10T14:03:40.128Z"
   },
   {
    "duration": 11,
    "start_time": "2023-03-10T14:10:35.556Z"
   },
   {
    "duration": 5,
    "start_time": "2023-03-10T14:10:47.194Z"
   },
   {
    "duration": 4,
    "start_time": "2023-03-10T14:10:53.268Z"
   },
   {
    "duration": 4,
    "start_time": "2023-03-10T14:10:58.102Z"
   },
   {
    "duration": 4,
    "start_time": "2023-03-10T14:28:01.817Z"
   },
   {
    "duration": 7,
    "start_time": "2023-03-10T14:28:05.249Z"
   },
   {
    "duration": 23,
    "start_time": "2023-03-10T14:28:11.615Z"
   },
   {
    "duration": 8,
    "start_time": "2023-03-10T14:33:14.735Z"
   },
   {
    "duration": 28,
    "start_time": "2023-03-10T14:33:16.862Z"
   },
   {
    "duration": 3,
    "start_time": "2023-03-10T14:42:24.332Z"
   },
   {
    "duration": 7,
    "start_time": "2023-03-10T14:42:25.213Z"
   },
   {
    "duration": 29,
    "start_time": "2023-03-10T14:42:26.885Z"
   },
   {
    "duration": 27,
    "start_time": "2023-03-10T14:42:48.388Z"
   },
   {
    "duration": 26,
    "start_time": "2023-03-10T14:43:23.286Z"
   },
   {
    "duration": 32,
    "start_time": "2023-03-10T14:43:37.176Z"
   },
   {
    "duration": 28,
    "start_time": "2023-03-10T14:43:58.092Z"
   },
   {
    "duration": 31,
    "start_time": "2023-03-10T14:44:04.909Z"
   },
   {
    "duration": 26,
    "start_time": "2023-03-10T14:44:30.438Z"
   },
   {
    "duration": 4,
    "start_time": "2023-03-10T14:49:19.536Z"
   },
   {
    "duration": 6,
    "start_time": "2023-03-10T14:49:40.897Z"
   },
   {
    "duration": 9,
    "start_time": "2023-03-10T14:49:42.101Z"
   },
   {
    "duration": 39,
    "start_time": "2023-03-10T14:49:46.368Z"
   },
   {
    "duration": 10,
    "start_time": "2023-03-10T14:49:54.570Z"
   },
   {
    "duration": 45,
    "start_time": "2023-03-10T14:49:56.014Z"
   },
   {
    "duration": 5,
    "start_time": "2023-03-10T14:53:06.991Z"
   },
   {
    "duration": 7,
    "start_time": "2023-03-10T14:53:07.459Z"
   },
   {
    "duration": 28,
    "start_time": "2023-03-10T14:53:08.496Z"
   },
   {
    "duration": 33,
    "start_time": "2023-03-10T14:53:25.608Z"
   },
   {
    "duration": 43,
    "start_time": "2023-03-10T14:53:54.562Z"
   },
   {
    "duration": 34,
    "start_time": "2023-03-10T14:54:08.220Z"
   },
   {
    "duration": 27,
    "start_time": "2023-03-10T14:54:29.690Z"
   },
   {
    "duration": 29,
    "start_time": "2023-03-10T14:54:53.995Z"
   },
   {
    "duration": 1350,
    "start_time": "2023-03-10T14:56:43.390Z"
   },
   {
    "duration": 3,
    "start_time": "2023-03-10T14:56:44.742Z"
   },
   {
    "duration": 1014,
    "start_time": "2023-03-10T14:56:44.747Z"
   },
   {
    "duration": 7,
    "start_time": "2023-03-10T14:56:45.764Z"
   },
   {
    "duration": 123,
    "start_time": "2023-03-10T14:56:45.772Z"
   },
   {
    "duration": 14,
    "start_time": "2023-03-10T14:56:45.898Z"
   },
   {
    "duration": 9,
    "start_time": "2023-03-10T14:56:45.913Z"
   },
   {
    "duration": 19,
    "start_time": "2023-03-10T14:56:45.924Z"
   },
   {
    "duration": 81,
    "start_time": "2023-03-10T14:56:45.944Z"
   },
   {
    "duration": 14,
    "start_time": "2023-03-10T14:56:46.028Z"
   },
   {
    "duration": 46,
    "start_time": "2023-03-10T14:56:46.044Z"
   },
   {
    "duration": 14,
    "start_time": "2023-03-10T14:56:46.092Z"
   },
   {
    "duration": 29,
    "start_time": "2023-03-10T14:56:46.108Z"
   },
   {
    "duration": 5,
    "start_time": "2023-03-10T14:56:46.139Z"
   },
   {
    "duration": 11,
    "start_time": "2023-03-10T14:56:46.146Z"
   },
   {
    "duration": 53,
    "start_time": "2023-03-10T14:56:46.159Z"
   },
   {
    "duration": 7,
    "start_time": "2023-03-10T14:56:46.214Z"
   },
   {
    "duration": 15,
    "start_time": "2023-03-10T14:56:46.223Z"
   },
   {
    "duration": 168,
    "start_time": "2023-03-10T14:56:46.240Z"
   },
   {
    "duration": 5,
    "start_time": "2023-03-10T14:56:46.411Z"
   },
   {
    "duration": 25,
    "start_time": "2023-03-10T14:56:46.418Z"
   },
   {
    "duration": 14,
    "start_time": "2023-03-10T14:56:46.446Z"
   },
   {
    "duration": 6738,
    "start_time": "2023-03-10T14:56:46.462Z"
   },
   {
    "duration": 664,
    "start_time": "2023-03-10T14:56:53.202Z"
   },
   {
    "duration": 1820,
    "start_time": "2023-03-10T14:56:53.868Z"
   },
   {
    "duration": 5,
    "start_time": "2023-03-10T14:56:55.691Z"
   },
   {
    "duration": 8,
    "start_time": "2023-03-10T14:56:55.697Z"
   },
   {
    "duration": 11,
    "start_time": "2023-03-10T14:56:55.709Z"
   },
   {
    "duration": 18,
    "start_time": "2023-03-10T14:56:55.721Z"
   },
   {
    "duration": 22,
    "start_time": "2023-03-10T14:56:55.740Z"
   },
   {
    "duration": 11,
    "start_time": "2023-03-10T14:56:55.763Z"
   },
   {
    "duration": 27,
    "start_time": "2023-03-10T14:56:55.776Z"
   },
   {
    "duration": 230,
    "start_time": "2023-03-10T14:56:55.805Z"
   },
   {
    "duration": 177,
    "start_time": "2023-03-10T14:56:56.037Z"
   },
   {
    "duration": 80,
    "start_time": "2023-03-10T14:56:56.216Z"
   },
   {
    "duration": 79,
    "start_time": "2023-03-10T14:56:56.298Z"
   },
   {
    "duration": 37,
    "start_time": "2023-03-10T14:56:56.380Z"
   },
   {
    "duration": 62,
    "start_time": "2023-03-10T14:56:56.419Z"
   },
   {
    "duration": 33,
    "start_time": "2023-03-10T14:56:56.483Z"
   },
   {
    "duration": 21,
    "start_time": "2023-03-10T14:56:56.518Z"
   },
   {
    "duration": 54,
    "start_time": "2023-03-10T14:56:56.541Z"
   },
   {
    "duration": 21,
    "start_time": "2023-03-10T14:56:56.597Z"
   },
   {
    "duration": 22,
    "start_time": "2023-03-10T14:56:56.620Z"
   },
   {
    "duration": 4,
    "start_time": "2023-03-10T14:56:56.643Z"
   },
   {
    "duration": 51,
    "start_time": "2023-03-10T14:56:56.649Z"
   },
   {
    "duration": 14,
    "start_time": "2023-03-10T14:56:56.702Z"
   },
   {
    "duration": 8,
    "start_time": "2023-03-10T14:56:56.718Z"
   },
   {
    "duration": 2071,
    "start_time": "2023-03-10T14:59:37.069Z"
   },
   {
    "duration": 2013,
    "start_time": "2023-03-10T15:00:02.199Z"
   },
   {
    "duration": 2199,
    "start_time": "2023-03-10T15:01:08.047Z"
   },
   {
    "duration": 2179,
    "start_time": "2023-03-10T15:01:31.512Z"
   },
   {
    "duration": 2029,
    "start_time": "2023-03-10T15:01:50.223Z"
   },
   {
    "duration": 2021,
    "start_time": "2023-03-10T15:02:19.856Z"
   },
   {
    "duration": 1931,
    "start_time": "2023-03-10T15:02:31.606Z"
   },
   {
    "duration": 1801,
    "start_time": "2023-03-10T15:02:47.354Z"
   },
   {
    "duration": 1977,
    "start_time": "2023-03-10T15:03:00.459Z"
   },
   {
    "duration": 1330,
    "start_time": "2023-03-10T15:03:28.790Z"
   },
   {
    "duration": 3,
    "start_time": "2023-03-10T15:03:30.123Z"
   },
   {
    "duration": 1086,
    "start_time": "2023-03-10T15:03:30.127Z"
   },
   {
    "duration": 7,
    "start_time": "2023-03-10T15:03:31.215Z"
   },
   {
    "duration": 130,
    "start_time": "2023-03-10T15:03:31.225Z"
   },
   {
    "duration": 26,
    "start_time": "2023-03-10T15:03:31.357Z"
   },
   {
    "duration": 41,
    "start_time": "2023-03-10T15:03:31.385Z"
   },
   {
    "duration": 13,
    "start_time": "2023-03-10T15:03:31.427Z"
   },
   {
    "duration": 78,
    "start_time": "2023-03-10T15:03:31.442Z"
   },
   {
    "duration": 16,
    "start_time": "2023-03-10T15:03:31.521Z"
   },
   {
    "duration": 39,
    "start_time": "2023-03-10T15:03:31.539Z"
   },
   {
    "duration": 6,
    "start_time": "2023-03-10T15:03:31.580Z"
   },
   {
    "duration": 41,
    "start_time": "2023-03-10T15:03:31.588Z"
   },
   {
    "duration": 13,
    "start_time": "2023-03-10T15:03:31.633Z"
   },
   {
    "duration": 49,
    "start_time": "2023-03-10T15:03:31.648Z"
   },
   {
    "duration": 67,
    "start_time": "2023-03-10T15:03:31.699Z"
   },
   {
    "duration": 6,
    "start_time": "2023-03-10T15:03:31.768Z"
   },
   {
    "duration": 33,
    "start_time": "2023-03-10T15:03:31.775Z"
   },
   {
    "duration": 159,
    "start_time": "2023-03-10T15:03:31.810Z"
   },
   {
    "duration": 8,
    "start_time": "2023-03-10T15:03:31.971Z"
   },
   {
    "duration": 54,
    "start_time": "2023-03-10T15:03:31.982Z"
   },
   {
    "duration": 56,
    "start_time": "2023-03-10T15:03:32.038Z"
   },
   {
    "duration": 6715,
    "start_time": "2023-03-10T15:03:32.096Z"
   },
   {
    "duration": 636,
    "start_time": "2023-03-10T15:03:38.813Z"
   },
   {
    "duration": 1889,
    "start_time": "2023-03-10T15:03:39.450Z"
   },
   {
    "duration": 3,
    "start_time": "2023-03-10T15:03:41.341Z"
   },
   {
    "duration": 11,
    "start_time": "2023-03-10T15:03:41.345Z"
   },
   {
    "duration": 7,
    "start_time": "2023-03-10T15:03:41.358Z"
   },
   {
    "duration": 5,
    "start_time": "2023-03-10T15:03:41.367Z"
   },
   {
    "duration": 30,
    "start_time": "2023-03-10T15:03:41.374Z"
   },
   {
    "duration": 250,
    "start_time": "2023-03-10T15:03:41.406Z"
   },
   {
    "duration": 8,
    "start_time": "2023-03-10T15:03:41.658Z"
   },
   {
    "duration": 16,
    "start_time": "2023-03-10T15:03:41.668Z"
   },
   {
    "duration": 194,
    "start_time": "2023-03-10T15:03:41.687Z"
   },
   {
    "duration": 33,
    "start_time": "2023-03-10T15:03:41.883Z"
   },
   {
    "duration": 89,
    "start_time": "2023-03-10T15:03:41.917Z"
   },
   {
    "duration": 89,
    "start_time": "2023-03-10T15:03:42.008Z"
   },
   {
    "duration": 29,
    "start_time": "2023-03-10T15:03:42.098Z"
   },
   {
    "duration": 61,
    "start_time": "2023-03-10T15:03:42.129Z"
   },
   {
    "duration": 22,
    "start_time": "2023-03-10T15:03:42.192Z"
   },
   {
    "duration": 21,
    "start_time": "2023-03-10T15:03:42.218Z"
   },
   {
    "duration": 52,
    "start_time": "2023-03-10T15:03:42.241Z"
   },
   {
    "duration": 23,
    "start_time": "2023-03-10T15:03:42.295Z"
   },
   {
    "duration": 4,
    "start_time": "2023-03-10T15:03:42.320Z"
   },
   {
    "duration": 11,
    "start_time": "2023-03-10T15:03:42.326Z"
   },
   {
    "duration": 7,
    "start_time": "2023-03-10T15:03:42.339Z"
   },
   {
    "duration": 37,
    "start_time": "2023-03-10T15:03:42.348Z"
   },
   {
    "duration": 1338,
    "start_time": "2023-03-10T17:27:12.848Z"
   },
   {
    "duration": 3,
    "start_time": "2023-03-10T17:27:14.187Z"
   },
   {
    "duration": 940,
    "start_time": "2023-03-10T17:27:14.192Z"
   },
   {
    "duration": 8,
    "start_time": "2023-03-10T17:27:15.135Z"
   },
   {
    "duration": 144,
    "start_time": "2023-03-10T17:27:15.144Z"
   },
   {
    "duration": 13,
    "start_time": "2023-03-10T17:27:15.290Z"
   },
   {
    "duration": 31,
    "start_time": "2023-03-10T17:27:15.304Z"
   },
   {
    "duration": 24,
    "start_time": "2023-03-10T17:27:15.337Z"
   },
   {
    "duration": 87,
    "start_time": "2023-03-10T17:27:15.363Z"
   },
   {
    "duration": 25,
    "start_time": "2023-03-10T17:27:15.453Z"
   },
   {
    "duration": 10,
    "start_time": "2023-03-10T17:27:15.480Z"
   },
   {
    "duration": 15,
    "start_time": "2023-03-10T17:27:15.492Z"
   },
   {
    "duration": 35,
    "start_time": "2023-03-10T17:27:15.509Z"
   },
   {
    "duration": 5,
    "start_time": "2023-03-10T17:27:15.546Z"
   },
   {
    "duration": 25,
    "start_time": "2023-03-10T17:27:15.553Z"
   },
   {
    "duration": 57,
    "start_time": "2023-03-10T17:27:15.579Z"
   },
   {
    "duration": 5,
    "start_time": "2023-03-10T17:27:15.638Z"
   },
   {
    "duration": 25,
    "start_time": "2023-03-10T17:27:15.644Z"
   },
   {
    "duration": 159,
    "start_time": "2023-03-10T17:27:15.671Z"
   },
   {
    "duration": 5,
    "start_time": "2023-03-10T17:27:15.832Z"
   },
   {
    "duration": 32,
    "start_time": "2023-03-10T17:27:15.839Z"
   },
   {
    "duration": 30,
    "start_time": "2023-03-10T17:27:15.873Z"
   },
   {
    "duration": 6462,
    "start_time": "2023-03-10T17:27:15.904Z"
   },
   {
    "duration": 680,
    "start_time": "2023-03-10T17:27:22.368Z"
   },
   {
    "duration": 1770,
    "start_time": "2023-03-10T17:27:23.049Z"
   },
   {
    "duration": 4,
    "start_time": "2023-03-10T17:27:24.820Z"
   },
   {
    "duration": 12,
    "start_time": "2023-03-10T17:27:24.826Z"
   },
   {
    "duration": 9,
    "start_time": "2023-03-10T17:27:24.841Z"
   },
   {
    "duration": 6,
    "start_time": "2023-03-10T17:27:24.852Z"
   },
   {
    "duration": 27,
    "start_time": "2023-03-10T17:27:24.859Z"
   },
   {
    "duration": 254,
    "start_time": "2023-03-10T17:27:24.887Z"
   },
   {
    "duration": 12,
    "start_time": "2023-03-10T17:27:25.143Z"
   },
   {
    "duration": 9,
    "start_time": "2023-03-10T17:27:25.156Z"
   },
   {
    "duration": 165,
    "start_time": "2023-03-10T17:27:25.166Z"
   },
   {
    "duration": 59,
    "start_time": "2023-03-10T17:27:25.333Z"
   },
   {
    "duration": 84,
    "start_time": "2023-03-10T17:27:25.393Z"
   },
   {
    "duration": 32,
    "start_time": "2023-03-10T17:27:25.479Z"
   },
   {
    "duration": 65,
    "start_time": "2023-03-10T17:27:25.512Z"
   },
   {
    "duration": 26,
    "start_time": "2023-03-10T17:27:25.579Z"
   },
   {
    "duration": 21,
    "start_time": "2023-03-10T17:27:25.606Z"
   },
   {
    "duration": 20,
    "start_time": "2023-03-10T17:27:25.629Z"
   },
   {
    "duration": 21,
    "start_time": "2023-03-10T17:27:25.678Z"
   },
   {
    "duration": 20,
    "start_time": "2023-03-10T17:27:25.701Z"
   },
   {
    "duration": 12,
    "start_time": "2023-03-10T17:27:25.723Z"
   },
   {
    "duration": 22,
    "start_time": "2023-03-10T17:27:25.736Z"
   },
   {
    "duration": 30,
    "start_time": "2023-03-10T17:27:25.759Z"
   },
   {
    "duration": 7,
    "start_time": "2023-03-10T17:27:25.791Z"
   },
   {
    "duration": 1216,
    "start_time": "2023-03-10T18:09:32.645Z"
   },
   {
    "duration": 3,
    "start_time": "2023-03-10T18:09:33.864Z"
   },
   {
    "duration": 3929,
    "start_time": "2023-03-10T18:09:33.869Z"
   },
   {
    "duration": 6,
    "start_time": "2023-03-10T18:09:37.800Z"
   },
   {
    "duration": 121,
    "start_time": "2023-03-10T18:09:37.808Z"
   },
   {
    "duration": 15,
    "start_time": "2023-03-10T18:09:37.931Z"
   },
   {
    "duration": 14,
    "start_time": "2023-03-10T18:09:37.948Z"
   },
   {
    "duration": 22,
    "start_time": "2023-03-10T18:09:37.964Z"
   },
   {
    "duration": 91,
    "start_time": "2023-03-10T18:09:37.988Z"
   },
   {
    "duration": 15,
    "start_time": "2023-03-10T18:09:38.083Z"
   },
   {
    "duration": 9,
    "start_time": "2023-03-10T18:09:38.101Z"
   },
   {
    "duration": 19,
    "start_time": "2023-03-10T18:09:38.112Z"
   },
   {
    "duration": 26,
    "start_time": "2023-03-10T18:09:38.133Z"
   },
   {
    "duration": 6,
    "start_time": "2023-03-10T18:09:38.176Z"
   },
   {
    "duration": 18,
    "start_time": "2023-03-10T18:09:38.184Z"
   },
   {
    "duration": 46,
    "start_time": "2023-03-10T18:09:38.204Z"
   },
   {
    "duration": 7,
    "start_time": "2023-03-10T18:09:38.252Z"
   },
   {
    "duration": 9,
    "start_time": "2023-03-10T18:09:38.260Z"
   },
   {
    "duration": 124,
    "start_time": "2023-03-10T18:09:38.276Z"
   },
   {
    "duration": 5,
    "start_time": "2023-03-10T18:09:38.402Z"
   },
   {
    "duration": 15,
    "start_time": "2023-03-10T18:09:38.409Z"
   },
   {
    "duration": 6199,
    "start_time": "2023-03-10T18:09:38.425Z"
   },
   {
    "duration": 653,
    "start_time": "2023-03-10T18:09:44.627Z"
   },
   {
    "duration": 1721,
    "start_time": "2023-03-10T18:09:45.282Z"
   },
   {
    "duration": 5,
    "start_time": "2023-03-10T18:09:47.005Z"
   },
   {
    "duration": 16,
    "start_time": "2023-03-10T18:09:47.012Z"
   },
   {
    "duration": 12,
    "start_time": "2023-03-10T18:09:47.030Z"
   },
   {
    "duration": 8,
    "start_time": "2023-03-10T18:09:47.046Z"
   },
   {
    "duration": 34,
    "start_time": "2023-03-10T18:09:47.056Z"
   },
   {
    "duration": 248,
    "start_time": "2023-03-10T18:09:47.092Z"
   },
   {
    "duration": 16,
    "start_time": "2023-03-10T18:09:47.342Z"
   },
   {
    "duration": 21,
    "start_time": "2023-03-10T18:09:47.360Z"
   },
   {
    "duration": 217,
    "start_time": "2023-03-10T18:09:47.384Z"
   },
   {
    "duration": 80,
    "start_time": "2023-03-10T18:09:47.604Z"
   },
   {
    "duration": 29,
    "start_time": "2023-03-10T18:09:47.686Z"
   },
   {
    "duration": 87,
    "start_time": "2023-03-10T18:09:47.717Z"
   },
   {
    "duration": 71,
    "start_time": "2023-03-10T18:09:47.806Z"
   },
   {
    "duration": 28,
    "start_time": "2023-03-10T18:09:47.879Z"
   },
   {
    "duration": 22,
    "start_time": "2023-03-10T18:09:47.908Z"
   },
   {
    "duration": 47,
    "start_time": "2023-03-10T18:09:47.932Z"
   },
   {
    "duration": 22,
    "start_time": "2023-03-10T18:09:47.981Z"
   },
   {
    "duration": 22,
    "start_time": "2023-03-10T18:09:48.005Z"
   },
   {
    "duration": 5,
    "start_time": "2023-03-10T18:09:48.029Z"
   },
   {
    "duration": 13,
    "start_time": "2023-03-10T18:09:48.036Z"
   },
   {
    "duration": 32,
    "start_time": "2023-03-10T18:09:48.051Z"
   },
   {
    "duration": 13,
    "start_time": "2023-03-10T18:09:48.084Z"
   },
   {
    "duration": 1179,
    "start_time": "2023-03-11T10:21:28.518Z"
   },
   {
    "duration": 3,
    "start_time": "2023-03-11T10:21:29.699Z"
   },
   {
    "duration": 1147,
    "start_time": "2023-03-11T10:21:29.704Z"
   },
   {
    "duration": 5,
    "start_time": "2023-03-11T10:21:30.853Z"
   },
   {
    "duration": 122,
    "start_time": "2023-03-11T10:21:30.859Z"
   },
   {
    "duration": 12,
    "start_time": "2023-03-11T10:21:30.983Z"
   },
   {
    "duration": 32,
    "start_time": "2023-03-11T10:21:30.997Z"
   },
   {
    "duration": 37,
    "start_time": "2023-03-11T10:21:31.031Z"
   },
   {
    "duration": 91,
    "start_time": "2023-03-11T10:21:31.070Z"
   },
   {
    "duration": 13,
    "start_time": "2023-03-11T10:21:31.163Z"
   },
   {
    "duration": 11,
    "start_time": "2023-03-11T10:21:31.178Z"
   },
   {
    "duration": 26,
    "start_time": "2023-03-11T10:21:31.190Z"
   },
   {
    "duration": 62,
    "start_time": "2023-03-11T10:21:31.218Z"
   },
   {
    "duration": 25,
    "start_time": "2023-03-11T10:21:31.281Z"
   },
   {
    "duration": 30,
    "start_time": "2023-03-11T10:21:31.308Z"
   },
   {
    "duration": 58,
    "start_time": "2023-03-11T10:21:31.339Z"
   },
   {
    "duration": 5,
    "start_time": "2023-03-11T10:21:31.398Z"
   },
   {
    "duration": 17,
    "start_time": "2023-03-11T10:21:31.404Z"
   },
   {
    "duration": 154,
    "start_time": "2023-03-11T10:21:31.422Z"
   },
   {
    "duration": 4,
    "start_time": "2023-03-11T10:21:31.577Z"
   },
   {
    "duration": 36,
    "start_time": "2023-03-11T10:21:31.583Z"
   },
   {
    "duration": 5725,
    "start_time": "2023-03-11T10:21:31.621Z"
   },
   {
    "duration": 549,
    "start_time": "2023-03-11T10:21:37.347Z"
   },
   {
    "duration": 1578,
    "start_time": "2023-03-11T10:21:37.897Z"
   },
   {
    "duration": 3,
    "start_time": "2023-03-11T10:21:39.476Z"
   },
   {
    "duration": 9,
    "start_time": "2023-03-11T10:21:39.481Z"
   },
   {
    "duration": 5,
    "start_time": "2023-03-11T10:21:39.492Z"
   },
   {
    "duration": 7,
    "start_time": "2023-03-11T10:21:39.500Z"
   },
   {
    "duration": 36,
    "start_time": "2023-03-11T10:21:39.508Z"
   },
   {
    "duration": 225,
    "start_time": "2023-03-11T10:21:39.545Z"
   },
   {
    "duration": 8,
    "start_time": "2023-03-11T10:21:39.771Z"
   },
   {
    "duration": 9,
    "start_time": "2023-03-11T10:21:39.780Z"
   },
   {
    "duration": 203,
    "start_time": "2023-03-11T10:21:39.791Z"
   },
   {
    "duration": 56,
    "start_time": "2023-03-11T10:21:39.996Z"
   },
   {
    "duration": 30,
    "start_time": "2023-03-11T10:21:40.053Z"
   },
   {
    "duration": 82,
    "start_time": "2023-03-11T10:21:40.085Z"
   },
   {
    "duration": 26,
    "start_time": "2023-03-11T10:21:40.169Z"
   },
   {
    "duration": 62,
    "start_time": "2023-03-11T10:21:40.197Z"
   },
   {
    "duration": 19,
    "start_time": "2023-03-11T10:21:40.261Z"
   },
   {
    "duration": 20,
    "start_time": "2023-03-11T10:21:40.281Z"
   },
   {
    "duration": 49,
    "start_time": "2023-03-11T10:21:40.302Z"
   },
   {
    "duration": 28,
    "start_time": "2023-03-11T10:21:40.353Z"
   },
   {
    "duration": 4,
    "start_time": "2023-03-11T10:21:40.382Z"
   },
   {
    "duration": 10,
    "start_time": "2023-03-11T10:21:40.387Z"
   },
   {
    "duration": 6,
    "start_time": "2023-03-11T10:21:40.398Z"
   },
   {
    "duration": 21,
    "start_time": "2023-03-11T10:21:40.405Z"
   },
   {
    "duration": 1354,
    "start_time": "2023-03-11T14:14:36.037Z"
   },
   {
    "duration": 3,
    "start_time": "2023-03-11T14:14:37.392Z"
   },
   {
    "duration": 1297,
    "start_time": "2023-03-11T14:14:37.396Z"
   },
   {
    "duration": 6,
    "start_time": "2023-03-11T14:14:38.695Z"
   },
   {
    "duration": 89,
    "start_time": "2023-03-11T14:14:38.703Z"
   },
   {
    "duration": 12,
    "start_time": "2023-03-11T14:14:38.794Z"
   },
   {
    "duration": 5,
    "start_time": "2023-03-11T14:14:38.808Z"
   },
   {
    "duration": 7,
    "start_time": "2023-03-11T14:14:38.815Z"
   },
   {
    "duration": 67,
    "start_time": "2023-03-11T14:14:38.823Z"
   },
   {
    "duration": 12,
    "start_time": "2023-03-11T14:14:38.892Z"
   },
   {
    "duration": 41,
    "start_time": "2023-03-11T14:14:38.906Z"
   },
   {
    "duration": 3,
    "start_time": "2023-03-11T14:14:38.949Z"
   },
   {
    "duration": 24,
    "start_time": "2023-03-11T14:14:38.953Z"
   },
   {
    "duration": 5,
    "start_time": "2023-03-11T14:14:38.980Z"
   },
   {
    "duration": 5,
    "start_time": "2023-03-11T14:14:38.986Z"
   },
   {
    "duration": 52,
    "start_time": "2023-03-11T14:14:38.992Z"
   },
   {
    "duration": 5,
    "start_time": "2023-03-11T14:14:39.046Z"
   },
   {
    "duration": 7,
    "start_time": "2023-03-11T14:14:39.052Z"
   },
   {
    "duration": 121,
    "start_time": "2023-03-11T14:14:39.060Z"
   },
   {
    "duration": 4,
    "start_time": "2023-03-11T14:14:39.183Z"
   },
   {
    "duration": 10,
    "start_time": "2023-03-11T14:14:39.188Z"
   },
   {
    "duration": 5515,
    "start_time": "2023-03-11T14:14:39.199Z"
   },
   {
    "duration": 594,
    "start_time": "2023-03-11T14:14:44.716Z"
   },
   {
    "duration": 1663,
    "start_time": "2023-03-11T14:14:45.312Z"
   },
   {
    "duration": 3,
    "start_time": "2023-03-11T14:14:46.976Z"
   },
   {
    "duration": 16,
    "start_time": "2023-03-11T14:14:46.981Z"
   },
   {
    "duration": 6,
    "start_time": "2023-03-11T14:14:46.999Z"
   },
   {
    "duration": 6,
    "start_time": "2023-03-11T14:14:47.007Z"
   },
   {
    "duration": 18,
    "start_time": "2023-03-11T14:14:47.015Z"
   },
   {
    "duration": 230,
    "start_time": "2023-03-11T14:14:47.035Z"
   },
   {
    "duration": 10,
    "start_time": "2023-03-11T14:14:47.268Z"
   },
   {
    "duration": 9,
    "start_time": "2023-03-11T14:14:47.280Z"
   },
   {
    "duration": 199,
    "start_time": "2023-03-11T14:14:47.290Z"
   },
   {
    "duration": 63,
    "start_time": "2023-03-11T14:14:47.491Z"
   },
   {
    "duration": 25,
    "start_time": "2023-03-11T14:14:47.556Z"
   },
   {
    "duration": 74,
    "start_time": "2023-03-11T14:14:47.583Z"
   },
   {
    "duration": 24,
    "start_time": "2023-03-11T14:14:47.659Z"
   },
   {
    "duration": 24,
    "start_time": "2023-03-11T14:14:47.684Z"
   },
   {
    "duration": 46,
    "start_time": "2023-03-11T14:14:47.710Z"
   },
   {
    "duration": 17,
    "start_time": "2023-03-11T14:14:47.758Z"
   },
   {
    "duration": 20,
    "start_time": "2023-03-11T14:14:47.778Z"
   },
   {
    "duration": 47,
    "start_time": "2023-03-11T14:14:47.799Z"
   },
   {
    "duration": 4,
    "start_time": "2023-03-11T14:14:47.848Z"
   },
   {
    "duration": 10,
    "start_time": "2023-03-11T14:14:47.854Z"
   },
   {
    "duration": 7,
    "start_time": "2023-03-11T14:14:47.865Z"
   },
   {
    "duration": 7,
    "start_time": "2023-03-11T14:14:47.874Z"
   },
   {
    "duration": 1840,
    "start_time": "2023-03-12T16:46:19.849Z"
   },
   {
    "duration": 4,
    "start_time": "2023-03-12T16:46:21.691Z"
   },
   {
    "duration": 1185,
    "start_time": "2023-03-12T16:46:21.699Z"
   },
   {
    "duration": 8,
    "start_time": "2023-03-12T16:46:22.887Z"
   },
   {
    "duration": 164,
    "start_time": "2023-03-12T16:46:22.898Z"
   },
   {
    "duration": 19,
    "start_time": "2023-03-12T16:46:23.074Z"
   },
   {
    "duration": 6,
    "start_time": "2023-03-12T16:46:23.096Z"
   },
   {
    "duration": 9,
    "start_time": "2023-03-12T16:46:23.104Z"
   },
   {
    "duration": 106,
    "start_time": "2023-03-12T16:46:23.115Z"
   },
   {
    "duration": 44,
    "start_time": "2023-03-12T16:46:23.224Z"
   },
   {
    "duration": 17,
    "start_time": "2023-03-12T16:46:23.272Z"
   },
   {
    "duration": 16,
    "start_time": "2023-03-12T16:46:23.291Z"
   },
   {
    "duration": 41,
    "start_time": "2023-03-12T16:46:23.309Z"
   },
   {
    "duration": 17,
    "start_time": "2023-03-12T16:46:23.361Z"
   },
   {
    "duration": 19,
    "start_time": "2023-03-12T16:46:23.379Z"
   },
   {
    "duration": 47,
    "start_time": "2023-03-12T16:46:23.399Z"
   },
   {
    "duration": 7,
    "start_time": "2023-03-12T16:46:23.450Z"
   },
   {
    "duration": 39,
    "start_time": "2023-03-12T16:46:23.459Z"
   },
   {
    "duration": 206,
    "start_time": "2023-03-12T16:46:23.500Z"
   },
   {
    "duration": 7,
    "start_time": "2023-03-12T16:46:23.709Z"
   },
   {
    "duration": 68,
    "start_time": "2023-03-12T16:46:23.718Z"
   },
   {
    "duration": 7476,
    "start_time": "2023-03-12T16:46:23.789Z"
   },
   {
    "duration": 775,
    "start_time": "2023-03-12T16:46:31.268Z"
   },
   {
    "duration": 2378,
    "start_time": "2023-03-12T16:46:32.045Z"
   },
   {
    "duration": 5,
    "start_time": "2023-03-12T16:46:34.425Z"
   },
   {
    "duration": 56,
    "start_time": "2023-03-12T16:46:34.431Z"
   },
   {
    "duration": 21,
    "start_time": "2023-03-12T16:46:34.490Z"
   },
   {
    "duration": 12,
    "start_time": "2023-03-12T16:46:34.513Z"
   },
   {
    "duration": 77,
    "start_time": "2023-03-12T16:46:34.527Z"
   },
   {
    "duration": 265,
    "start_time": "2023-03-12T16:46:34.607Z"
   },
   {
    "duration": 16,
    "start_time": "2023-03-12T16:46:34.875Z"
   },
   {
    "duration": 21,
    "start_time": "2023-03-12T16:46:34.894Z"
   },
   {
    "duration": 248,
    "start_time": "2023-03-12T16:46:34.918Z"
   },
   {
    "duration": 85,
    "start_time": "2023-03-12T16:46:35.167Z"
   },
   {
    "duration": 35,
    "start_time": "2023-03-12T16:46:35.253Z"
   },
   {
    "duration": 83,
    "start_time": "2023-03-12T16:46:35.289Z"
   },
   {
    "duration": 87,
    "start_time": "2023-03-12T16:46:35.374Z"
   },
   {
    "duration": 41,
    "start_time": "2023-03-12T16:46:35.466Z"
   },
   {
    "duration": 49,
    "start_time": "2023-03-12T16:46:35.508Z"
   },
   {
    "duration": 44,
    "start_time": "2023-03-12T16:46:35.559Z"
   },
   {
    "duration": 43,
    "start_time": "2023-03-12T16:46:35.607Z"
   },
   {
    "duration": 48,
    "start_time": "2023-03-12T16:46:35.652Z"
   },
   {
    "duration": 5,
    "start_time": "2023-03-12T16:46:35.703Z"
   },
   {
    "duration": 27,
    "start_time": "2023-03-12T16:46:35.710Z"
   },
   {
    "duration": 61,
    "start_time": "2023-03-12T16:46:35.739Z"
   },
   {
    "duration": 13,
    "start_time": "2023-03-12T16:46:35.802Z"
   },
   {
    "duration": 1215,
    "start_time": "2023-03-12T19:19:02.449Z"
   },
   {
    "duration": 4,
    "start_time": "2023-03-12T19:19:03.666Z"
   },
   {
    "duration": 959,
    "start_time": "2023-03-12T19:19:03.672Z"
   },
   {
    "duration": 10,
    "start_time": "2023-03-12T19:19:04.634Z"
   },
   {
    "duration": 122,
    "start_time": "2023-03-12T19:19:04.647Z"
   },
   {
    "duration": 13,
    "start_time": "2023-03-12T19:19:04.770Z"
   },
   {
    "duration": 5,
    "start_time": "2023-03-12T19:19:04.785Z"
   },
   {
    "duration": 5,
    "start_time": "2023-03-12T19:19:04.792Z"
   },
   {
    "duration": 89,
    "start_time": "2023-03-12T19:19:04.799Z"
   },
   {
    "duration": 46,
    "start_time": "2023-03-12T19:19:04.889Z"
   },
   {
    "duration": 13,
    "start_time": "2023-03-12T19:19:04.936Z"
   },
   {
    "duration": 8,
    "start_time": "2023-03-12T19:19:04.950Z"
   },
   {
    "duration": 25,
    "start_time": "2023-03-12T19:19:04.959Z"
   },
   {
    "duration": 5,
    "start_time": "2023-03-12T19:19:04.987Z"
   },
   {
    "duration": 7,
    "start_time": "2023-03-12T19:19:04.993Z"
   },
   {
    "duration": 67,
    "start_time": "2023-03-12T19:19:05.002Z"
   },
   {
    "duration": 6,
    "start_time": "2023-03-12T19:19:05.071Z"
   },
   {
    "duration": 6,
    "start_time": "2023-03-12T19:19:05.079Z"
   },
   {
    "duration": 141,
    "start_time": "2023-03-12T19:19:05.087Z"
   },
   {
    "duration": 7,
    "start_time": "2023-03-12T19:19:05.230Z"
   },
   {
    "duration": 20,
    "start_time": "2023-03-12T19:19:05.239Z"
   },
   {
    "duration": 6146,
    "start_time": "2023-03-12T19:19:05.260Z"
   },
   {
    "duration": 666,
    "start_time": "2023-03-12T19:19:11.407Z"
   },
   {
    "duration": 1836,
    "start_time": "2023-03-12T19:19:12.075Z"
   },
   {
    "duration": 4,
    "start_time": "2023-03-12T19:19:13.912Z"
   },
   {
    "duration": 9,
    "start_time": "2023-03-12T19:19:13.918Z"
   },
   {
    "duration": 22,
    "start_time": "2023-03-12T19:19:13.928Z"
   },
   {
    "duration": 7,
    "start_time": "2023-03-12T19:19:13.951Z"
   },
   {
    "duration": 24,
    "start_time": "2023-03-12T19:19:13.959Z"
   },
   {
    "duration": 221,
    "start_time": "2023-03-12T19:19:13.985Z"
   },
   {
    "duration": 10,
    "start_time": "2023-03-12T19:19:14.207Z"
   },
   {
    "duration": 12,
    "start_time": "2023-03-12T19:19:14.219Z"
   },
   {
    "duration": 184,
    "start_time": "2023-03-12T19:19:14.235Z"
   },
   {
    "duration": 49,
    "start_time": "2023-03-12T19:19:14.420Z"
   },
   {
    "duration": 92,
    "start_time": "2023-03-12T19:19:14.471Z"
   },
   {
    "duration": 80,
    "start_time": "2023-03-12T19:19:14.565Z"
   },
   {
    "duration": 26,
    "start_time": "2023-03-12T19:19:14.647Z"
   },
   {
    "duration": 24,
    "start_time": "2023-03-12T19:19:14.674Z"
   },
   {
    "duration": 27,
    "start_time": "2023-03-12T19:19:14.730Z"
   },
   {
    "duration": 19,
    "start_time": "2023-03-12T19:19:14.759Z"
   },
   {
    "duration": 19,
    "start_time": "2023-03-12T19:19:14.781Z"
   },
   {
    "duration": 56,
    "start_time": "2023-03-12T19:19:14.802Z"
   },
   {
    "duration": 5,
    "start_time": "2023-03-12T19:19:14.860Z"
   },
   {
    "duration": 11,
    "start_time": "2023-03-12T19:19:14.867Z"
   },
   {
    "duration": 9,
    "start_time": "2023-03-12T19:19:14.880Z"
   },
   {
    "duration": 5,
    "start_time": "2023-03-12T19:19:14.891Z"
   }
  ],
  "kernelspec": {
   "display_name": "Python 3",
   "language": "python",
   "name": "python3"
  },
  "language_info": {
   "codemirror_mode": {
    "name": "ipython",
    "version": 3
   },
   "file_extension": ".py",
   "mimetype": "text/x-python",
   "name": "python",
   "nbconvert_exporter": "python",
   "pygments_lexer": "ipython3",
   "version": "3.8.5"
  },
  "toc": {
   "base_numbering": 1,
   "nav_menu": {},
   "number_sections": true,
   "sideBar": true,
   "skip_h1_title": false,
   "title_cell": "Анализ причин оттока клиентов банка",
   "title_sidebar": "Содержание",
   "toc_cell": true,
   "toc_position": {
    "height": "calc(100% - 180px)",
    "left": "10px",
    "top": "150px",
    "width": "443.269px"
   },
   "toc_section_display": true,
   "toc_window_display": true
  },
  "varInspector": {
   "cols": {
    "lenName": 16,
    "lenType": 16,
    "lenVar": 40
   },
   "kernels_config": {
    "python": {
     "delete_cmd_postfix": "",
     "delete_cmd_prefix": "del ",
     "library": "var_list.py",
     "varRefreshCmd": "print(var_dic_list())"
    },
    "r": {
     "delete_cmd_postfix": ") ",
     "delete_cmd_prefix": "rm(",
     "library": "var_list.r",
     "varRefreshCmd": "cat(var_dic_list()) "
    }
   },
   "types_to_exclude": [
    "module",
    "function",
    "builtin_function_or_method",
    "instance",
    "_Feature"
   ],
   "window_display": false
  }
 },
 "nbformat": 4,
 "nbformat_minor": 2
}
