{
 "cells": [
  {
   "cell_type": "markdown",
   "metadata": {
    "toc": true
   },
   "source": [
    "<h1>Проект по  A/B тестированию<span class=\"tocSkip\"></span></h1>\n",
    "<div class=\"toc\"><ul class=\"toc-item\"><li><span><a href=\"#Описание-проекта-и-данных\" data-toc-modified-id=\"Описание-проекта-и-данных-1\"><span class=\"toc-item-num\">1&nbsp;&nbsp;</span>Описание проекта и данных</a></span><ul class=\"toc-item\"><li><span><a href=\"#Описание-проекта\" data-toc-modified-id=\"Описание-проекта-1.1\"><span class=\"toc-item-num\">1.1&nbsp;&nbsp;</span>Описание проекта</a></span></li><li><span><a href=\"#Описание-данных\" data-toc-modified-id=\"Описание-данных-1.2\"><span class=\"toc-item-num\">1.2&nbsp;&nbsp;</span>Описание данных</a></span></li></ul></li><li><span><a href=\"#Обзор-и-предобработка-данных\" data-toc-modified-id=\"Обзор-и-предобработка-данных-2\"><span class=\"toc-item-num\">2&nbsp;&nbsp;</span>Обзор и предобработка данных</a></span><ul class=\"toc-item\"><li><span><a href=\"#Обзор-данных\" data-toc-modified-id=\"Обзор-данных-2.1\"><span class=\"toc-item-num\">2.1&nbsp;&nbsp;</span>Обзор данных</a></span></li><li><span><a href=\"#Предобработка-данных\" data-toc-modified-id=\"Предобработка-данных-2.2\"><span class=\"toc-item-num\">2.2&nbsp;&nbsp;</span>Предобработка данных</a></span></li></ul></li><li><span><a href=\"#Оценка-корректности-проведения-теста\" data-toc-modified-id=\"Оценка-корректности-проведения-теста-3\"><span class=\"toc-item-num\">3&nbsp;&nbsp;</span>Оценка корректности проведения теста</a></span><ul class=\"toc-item\"><li><span><a href=\"#Название-теста-и-проверка-групп-на-пересечение\" data-toc-modified-id=\"Название-теста-и-проверка-групп-на-пересечение-3.1\"><span class=\"toc-item-num\">3.1&nbsp;&nbsp;</span>Название теста и проверка групп на пересечение</a></span></li><li><span><a href=\"#Дата-запуска,-остановки-теста-и-набора-новых-пользователей-и-пересечение-с-маркетинговыми-активностями\" data-toc-modified-id=\"Дата-запуска,-остановки-теста-и-набора-новых-пользователей-и-пересечение-с-маркетинговыми-активностями-3.2\"><span class=\"toc-item-num\">3.2&nbsp;&nbsp;</span>Дата запуска, остановки теста и набора новых пользователей и пересечение с маркетинговыми активностями</a></span></li><li><span><a href=\"#Проверка-кол-ва-участников-теста-и-аудитории-в-15%-новых-пользователей-из-EU\" data-toc-modified-id=\"Проверка-кол-ва-участников-теста-и-аудитории-в-15%-новых-пользователей-из-EU-3.3\"><span class=\"toc-item-num\">3.3&nbsp;&nbsp;</span>Проверка кол-ва участников теста и аудитории в 15% новых пользователей из EU</a></span></li></ul></li><li><span><a href=\"#Исследовательский-анализ-данных\" data-toc-modified-id=\"Исследовательский-анализ-данных-4\"><span class=\"toc-item-num\">4&nbsp;&nbsp;</span>Исследовательский анализ данных</a></span><ul class=\"toc-item\"><li><span><a href=\"#Распределение-событий-на-пользователя-в-группах\" data-toc-modified-id=\"Распределение-событий-на-пользователя-в-группах-4.1\"><span class=\"toc-item-num\">4.1&nbsp;&nbsp;</span>Распределение событий на пользователя в группах</a></span></li><li><span><a href=\"#Распределение-событий-по-дням-в-группах\" data-toc-modified-id=\"Распределение-событий-по-дням-в-группах-4.2\"><span class=\"toc-item-num\">4.2&nbsp;&nbsp;</span>Распределение событий по дням в группах</a></span></li><li><span><a href=\"#Изменение-конверсии-в-группах-на-разных-этапах\" data-toc-modified-id=\"Изменение-конверсии-в-группах-на-разных-этапах-4.3\"><span class=\"toc-item-num\">4.3&nbsp;&nbsp;</span>Изменение конверсии в группах на разных этапах</a></span></li><li><span><a href=\"#Особенности-данных,-которые-нужно-учесть-перед-A/B-тестом\" data-toc-modified-id=\"Особенности-данных,-которые-нужно-учесть-перед-A/B-тестом-4.4\"><span class=\"toc-item-num\">4.4&nbsp;&nbsp;</span>Особенности данных, которые нужно учесть перед A/B тестом</a></span></li></ul></li><li><span><a href=\"#Оценка-результатов-A/B-тестирования\" data-toc-modified-id=\"Оценка-результатов-A/B-тестирования-5\"><span class=\"toc-item-num\">5&nbsp;&nbsp;</span>Оценка результатов A/B тестирования</a></span><ul class=\"toc-item\"><li><span><a href=\"#Результаты-A/B-теста\" data-toc-modified-id=\"Результаты-A/B-теста-5.1\"><span class=\"toc-item-num\">5.1&nbsp;&nbsp;</span>Результаты A/B теста</a></span></li><li><span><a href=\"#Проверка-статистической-разницы-долей-z-критерием\" data-toc-modified-id=\"Проверка-статистической-разницы-долей-z-критерием-5.2\"><span class=\"toc-item-num\">5.2&nbsp;&nbsp;</span>Проверка статистической разницы долей z-критерием</a></span></li></ul></li><li><span><a href=\"#Вывод-и-рекомендации\" data-toc-modified-id=\"Вывод-и-рекомендации-6\"><span class=\"toc-item-num\">6&nbsp;&nbsp;</span>Вывод и рекомендации</a></span><ul class=\"toc-item\"><li><span><a href=\"#Вывод\" data-toc-modified-id=\"Вывод-6.1\"><span class=\"toc-item-num\">6.1&nbsp;&nbsp;</span>Вывод</a></span></li><li><span><a href=\"#Рекомендации\" data-toc-modified-id=\"Рекомендации-6.2\"><span class=\"toc-item-num\">6.2&nbsp;&nbsp;</span>Рекомендации</a></span></li></ul></li></ul></div>"
   ]
  },
  {
   "cell_type": "markdown",
   "metadata": {},
   "source": [
    "# Описание проекта и данных"
   ]
  },
  {
   "cell_type": "markdown",
   "metadata": {},
   "source": [
    "## Описание проекта"
   ]
  },
  {
   "cell_type": "markdown",
   "metadata": {},
   "source": [
    "**Задача** данного проекта — провести оценку результатов `A/B-теста`. В нашем распоряжении есть датасет с действиями пользователей, техническое задание и несколько вспомогательных датасетов.\n",
    "\n",
    "Для ответа на поставленную *задачу*, нам будет необходимо проделать следующие шаги:\n",
    "\n",
    "1. Провести первичный обзор данных;\n",
    "2. Сделать при необходимости предобратоку данных;\n",
    "3. Оценить корректность проведения теста, а именно:\n",
    "\n",
    "    - пересечение тестовой аудитории с конкурирующим тестом,\n",
    "    - совпадение теста и маркетинговых событий, другие проблемы временных границ теста.\n",
    "   \n",
    "   \n",
    "4. Провести исследовательский анализ данных;\n",
    "5. Оценить результаты `A/B тестирования`;\n",
    "6. Сделать общий вывод по проделанной работе"
   ]
  },
  {
   "cell_type": "markdown",
   "metadata": {},
   "source": [
    "## Описание данных"
   ]
  },
  {
   "cell_type": "markdown",
   "metadata": {},
   "source": [
    "В нашем распоряжении четыре датасета:\n",
    "\n",
    "**1. ab_project_marketing_events.csv** — календарь маркетинговых событий на 2020 год, имеущая следующую структуру:\n",
    "\n",
    "- `name` — название маркетингового события;\n",
    "\n",
    "- `regions` — регионы, в которых будет проводиться рекламная кампания;\n",
    "- `start_dt` — дата начала кампании;\n",
    "- `finish_dt` — дата завершения кампании.\n",
    "\n",
    "**2. final_ab_new_users.csv** — пользователи, зарегистрировавшиеся с 7 по 21 декабря 2020 года, имеущая следующую структуру:\n",
    "\n",
    "- `user_id` — идентификатор пользователя;\n",
    "\n",
    "- `first_date` — дата регистрации;\n",
    "- `region` — регион пользователя;\n",
    "- `device` — устройство, с которого происходила регистрация.\n",
    "\n",
    "**3. final_ab_events.csv** — действия новых пользователей в период с 7 декабря 2020 по 4 января 2021 года, имеущая следующую структуру:\n",
    "\n",
    "- `user_id` — идентификатор пользователя;\n",
    "\n",
    "- `event_dt` — дата и время события;\n",
    "- `event_name` — тип события;\n",
    "- `details` — дополнительные данные о событии. Например, для покупок, `purchase,` в этом поле хранится стоимость покупки в долларах.\n",
    "\n",
    "**4. final_ab_participants.csv** — таблица участников тестов, имеущая следующую структуру:\n",
    "\n",
    "- `user_id` — идентификатор пользователя;\n",
    "\n",
    "- `ab_test` — название теста;\n",
    "- `group` — группа пользователя."
   ]
  },
  {
   "cell_type": "markdown",
   "metadata": {},
   "source": [
    "# Обзор и предобработка данных"
   ]
  },
  {
   "cell_type": "markdown",
   "metadata": {},
   "source": [
    "## Обзор данных"
   ]
  },
  {
   "cell_type": "code",
   "execution_count": 1,
   "metadata": {},
   "outputs": [],
   "source": [
    "# Импортируем необходимые библиотеки\n",
    "\n",
    "import pandas as pd\n",
    "import numpy as np\n",
    "import datetime as dt\n",
    "import scipy.stats as stats\n",
    "import matplotlib.pyplot as plt\n",
    "import seaborn as sns\n",
    "import plotly.express as px\n",
    "from plotly import graph_objects as go\n",
    "from plotly.subplots import make_subplots\n",
    "import math"
   ]
  },
  {
   "cell_type": "code",
   "execution_count": 2,
   "metadata": {},
   "outputs": [],
   "source": [
    "# Для удобства отобразим все колонки таблицы и изменим их ширину\n",
    "\n",
    "pd.set_option('display.max_columns', None)\n",
    "pd.set_option('max_colwidth', None)"
   ]
  },
  {
   "cell_type": "code",
   "execution_count": 3,
   "metadata": {},
   "outputs": [],
   "source": [
    "# Указываем путь к файлам и записываем датасеты в переменные\n",
    "\n",
    "marketing_events = pd.read_csv('ab_project_marketing_events.csv')\n",
    "new_users = pd.read_csv('final_ab_new_users.csv')\n",
    "events = pd.read_csv('final_ab_events.csv')\n",
    "participants = pd.read_csv('final_ab_participants.csv')"
   ]
  },
  {
   "cell_type": "code",
   "execution_count": 4,
   "metadata": {},
   "outputs": [],
   "source": [
    "# Создадим функцию для обзора данных: выведем первые и последние 5 строк, общую информацию, количество и процент пропусков,\n",
    "# кол-во и долю дубликатов и статистические данные по датафрейму. \n",
    "# Функция на вход будет принимать датафрейм.\n",
    "\n",
    "def df_review(data):\n",
    "    \n",
    "    # Выведем первые и последние 5 строк из датафрейму\n",
    "    print('{0:^125}'.format('Обзор данных датасета'))\n",
    "    display(data)\n",
    "    print('-'*120)\n",
    "    \n",
    "    # Выведем общую информацию по датафрейму\n",
    "    print('{0:^125}'.format('Общая информация по датасету'),end='\\n\\n')\n",
    "    data.info()\n",
    "    print()\n",
    "    print(f'Датафрейм состоит из {data.shape[0]} строк и {data.shape[1]} колонок')\n",
    "    print('-'*120)\n",
    "    \n",
    "    # Выведем кол-во и процент пропусков в колонках датафрейма\n",
    "    print('{0:^125}'.format('Количество пропусков и их доля от всех строк в датасете'))\n",
    "    # Посчитаем кол-во пропусков и их процент от общего числа строк в датафрейме по каждому столбцу\n",
    "    num_of_nan = data.isnull().sum().to_frame().reset_index().merge \\\n",
    "    (round(data.isnull().mean()*100,2).to_frame().reset_index(), on='index', how='left')\n",
    "    # Переимунуем названия колонок для удобства и выведем рез-т\n",
    "    num_of_nan.columns = ['columns','nan_count','nan_ratio']\n",
    "    num_of_nan['nan_ratio'] = num_of_nan['nan_ratio'].map('{0:.2f}%'.format)\n",
    "    display(num_of_nan.sort_values(by='nan_count', ascending=False))\n",
    "    print('-'*120)\n",
    "    \n",
    "    # Посчитаем кол-во и долю явных дубликатов в датафрейме\n",
    "    print(f'Количество явных дубликатов в датасете: {data.duplicated().sum()}')\n",
    "    print (f'Доля явных дубликатов в датасете: {round(100*data.duplicated().sum()/data.shape[0],2)}%')\n",
    "    print('-'*120,end='\\n\\n')\n",
    "    \n",
    "    # Выведем информацию по статистическим данным датафрейма\n",
    "    print('{0:^125}'.format('Обзор cтатистических данных по датасету'))\n",
    "    display(data.describe())"
   ]
  },
  {
   "cell_type": "code",
   "execution_count": 5,
   "metadata": {
    "scrolled": true
   },
   "outputs": [
    {
     "name": "stdout",
     "output_type": "stream",
     "text": [
      "                                                    Обзор данных датасета                                                    \n"
     ]
    },
    {
     "data": {
      "text/html": [
       "<div>\n",
       "<style scoped>\n",
       "    .dataframe tbody tr th:only-of-type {\n",
       "        vertical-align: middle;\n",
       "    }\n",
       "\n",
       "    .dataframe tbody tr th {\n",
       "        vertical-align: top;\n",
       "    }\n",
       "\n",
       "    .dataframe thead th {\n",
       "        text-align: right;\n",
       "    }\n",
       "</style>\n",
       "<table border=\"1\" class=\"dataframe\">\n",
       "  <thead>\n",
       "    <tr style=\"text-align: right;\">\n",
       "      <th></th>\n",
       "      <th>name</th>\n",
       "      <th>regions</th>\n",
       "      <th>start_dt</th>\n",
       "      <th>finish_dt</th>\n",
       "    </tr>\n",
       "  </thead>\n",
       "  <tbody>\n",
       "    <tr>\n",
       "      <th>0</th>\n",
       "      <td>Christmas&amp;New Year Promo</td>\n",
       "      <td>EU, N.America</td>\n",
       "      <td>2020-12-25</td>\n",
       "      <td>2021-01-03</td>\n",
       "    </tr>\n",
       "    <tr>\n",
       "      <th>1</th>\n",
       "      <td>St. Valentine's Day Giveaway</td>\n",
       "      <td>EU, CIS, APAC, N.America</td>\n",
       "      <td>2020-02-14</td>\n",
       "      <td>2020-02-16</td>\n",
       "    </tr>\n",
       "    <tr>\n",
       "      <th>2</th>\n",
       "      <td>St. Patric's Day Promo</td>\n",
       "      <td>EU, N.America</td>\n",
       "      <td>2020-03-17</td>\n",
       "      <td>2020-03-19</td>\n",
       "    </tr>\n",
       "    <tr>\n",
       "      <th>3</th>\n",
       "      <td>Easter Promo</td>\n",
       "      <td>EU, CIS, APAC, N.America</td>\n",
       "      <td>2020-04-12</td>\n",
       "      <td>2020-04-19</td>\n",
       "    </tr>\n",
       "    <tr>\n",
       "      <th>4</th>\n",
       "      <td>4th of July Promo</td>\n",
       "      <td>N.America</td>\n",
       "      <td>2020-07-04</td>\n",
       "      <td>2020-07-11</td>\n",
       "    </tr>\n",
       "    <tr>\n",
       "      <th>5</th>\n",
       "      <td>Black Friday Ads Campaign</td>\n",
       "      <td>EU, CIS, APAC, N.America</td>\n",
       "      <td>2020-11-26</td>\n",
       "      <td>2020-12-01</td>\n",
       "    </tr>\n",
       "    <tr>\n",
       "      <th>6</th>\n",
       "      <td>Chinese New Year Promo</td>\n",
       "      <td>APAC</td>\n",
       "      <td>2020-01-25</td>\n",
       "      <td>2020-02-07</td>\n",
       "    </tr>\n",
       "    <tr>\n",
       "      <th>7</th>\n",
       "      <td>Labor day (May 1st) Ads Campaign</td>\n",
       "      <td>EU, CIS, APAC</td>\n",
       "      <td>2020-05-01</td>\n",
       "      <td>2020-05-03</td>\n",
       "    </tr>\n",
       "    <tr>\n",
       "      <th>8</th>\n",
       "      <td>International Women's Day Promo</td>\n",
       "      <td>EU, CIS, APAC</td>\n",
       "      <td>2020-03-08</td>\n",
       "      <td>2020-03-10</td>\n",
       "    </tr>\n",
       "    <tr>\n",
       "      <th>9</th>\n",
       "      <td>Victory Day CIS (May 9th) Event</td>\n",
       "      <td>CIS</td>\n",
       "      <td>2020-05-09</td>\n",
       "      <td>2020-05-11</td>\n",
       "    </tr>\n",
       "    <tr>\n",
       "      <th>10</th>\n",
       "      <td>CIS New Year Gift Lottery</td>\n",
       "      <td>CIS</td>\n",
       "      <td>2020-12-30</td>\n",
       "      <td>2021-01-07</td>\n",
       "    </tr>\n",
       "    <tr>\n",
       "      <th>11</th>\n",
       "      <td>Dragon Boat Festival Giveaway</td>\n",
       "      <td>APAC</td>\n",
       "      <td>2020-06-25</td>\n",
       "      <td>2020-07-01</td>\n",
       "    </tr>\n",
       "    <tr>\n",
       "      <th>12</th>\n",
       "      <td>Single's Day Gift Promo</td>\n",
       "      <td>APAC</td>\n",
       "      <td>2020-11-11</td>\n",
       "      <td>2020-11-12</td>\n",
       "    </tr>\n",
       "    <tr>\n",
       "      <th>13</th>\n",
       "      <td>Chinese Moon Festival</td>\n",
       "      <td>APAC</td>\n",
       "      <td>2020-10-01</td>\n",
       "      <td>2020-10-07</td>\n",
       "    </tr>\n",
       "  </tbody>\n",
       "</table>\n",
       "</div>"
      ],
      "text/plain": [
       "                                name                   regions    start_dt  \\\n",
       "0           Christmas&New Year Promo             EU, N.America  2020-12-25   \n",
       "1       St. Valentine's Day Giveaway  EU, CIS, APAC, N.America  2020-02-14   \n",
       "2             St. Patric's Day Promo             EU, N.America  2020-03-17   \n",
       "3                       Easter Promo  EU, CIS, APAC, N.America  2020-04-12   \n",
       "4                  4th of July Promo                 N.America  2020-07-04   \n",
       "5          Black Friday Ads Campaign  EU, CIS, APAC, N.America  2020-11-26   \n",
       "6             Chinese New Year Promo                      APAC  2020-01-25   \n",
       "7   Labor day (May 1st) Ads Campaign             EU, CIS, APAC  2020-05-01   \n",
       "8    International Women's Day Promo             EU, CIS, APAC  2020-03-08   \n",
       "9    Victory Day CIS (May 9th) Event                       CIS  2020-05-09   \n",
       "10         CIS New Year Gift Lottery                       CIS  2020-12-30   \n",
       "11     Dragon Boat Festival Giveaway                      APAC  2020-06-25   \n",
       "12           Single's Day Gift Promo                      APAC  2020-11-11   \n",
       "13             Chinese Moon Festival                      APAC  2020-10-01   \n",
       "\n",
       "     finish_dt  \n",
       "0   2021-01-03  \n",
       "1   2020-02-16  \n",
       "2   2020-03-19  \n",
       "3   2020-04-19  \n",
       "4   2020-07-11  \n",
       "5   2020-12-01  \n",
       "6   2020-02-07  \n",
       "7   2020-05-03  \n",
       "8   2020-03-10  \n",
       "9   2020-05-11  \n",
       "10  2021-01-07  \n",
       "11  2020-07-01  \n",
       "12  2020-11-12  \n",
       "13  2020-10-07  "
      ]
     },
     "metadata": {},
     "output_type": "display_data"
    },
    {
     "name": "stdout",
     "output_type": "stream",
     "text": [
      "------------------------------------------------------------------------------------------------------------------------\n",
      "                                                Общая информация по датасету                                                 \n",
      "\n",
      "<class 'pandas.core.frame.DataFrame'>\n",
      "RangeIndex: 14 entries, 0 to 13\n",
      "Data columns (total 4 columns):\n",
      " #   Column     Non-Null Count  Dtype \n",
      "---  ------     --------------  ----- \n",
      " 0   name       14 non-null     object\n",
      " 1   regions    14 non-null     object\n",
      " 2   start_dt   14 non-null     object\n",
      " 3   finish_dt  14 non-null     object\n",
      "dtypes: object(4)\n",
      "memory usage: 576.0+ bytes\n",
      "\n",
      "Датафрейм состоит из 14 строк и 4 колонок\n",
      "------------------------------------------------------------------------------------------------------------------------\n",
      "                                   Количество пропусков и их доля от всех строк в датасете                                   \n"
     ]
    },
    {
     "data": {
      "text/html": [
       "<div>\n",
       "<style scoped>\n",
       "    .dataframe tbody tr th:only-of-type {\n",
       "        vertical-align: middle;\n",
       "    }\n",
       "\n",
       "    .dataframe tbody tr th {\n",
       "        vertical-align: top;\n",
       "    }\n",
       "\n",
       "    .dataframe thead th {\n",
       "        text-align: right;\n",
       "    }\n",
       "</style>\n",
       "<table border=\"1\" class=\"dataframe\">\n",
       "  <thead>\n",
       "    <tr style=\"text-align: right;\">\n",
       "      <th></th>\n",
       "      <th>columns</th>\n",
       "      <th>nan_count</th>\n",
       "      <th>nan_ratio</th>\n",
       "    </tr>\n",
       "  </thead>\n",
       "  <tbody>\n",
       "    <tr>\n",
       "      <th>0</th>\n",
       "      <td>name</td>\n",
       "      <td>0</td>\n",
       "      <td>0.00%</td>\n",
       "    </tr>\n",
       "    <tr>\n",
       "      <th>1</th>\n",
       "      <td>regions</td>\n",
       "      <td>0</td>\n",
       "      <td>0.00%</td>\n",
       "    </tr>\n",
       "    <tr>\n",
       "      <th>2</th>\n",
       "      <td>start_dt</td>\n",
       "      <td>0</td>\n",
       "      <td>0.00%</td>\n",
       "    </tr>\n",
       "    <tr>\n",
       "      <th>3</th>\n",
       "      <td>finish_dt</td>\n",
       "      <td>0</td>\n",
       "      <td>0.00%</td>\n",
       "    </tr>\n",
       "  </tbody>\n",
       "</table>\n",
       "</div>"
      ],
      "text/plain": [
       "     columns  nan_count nan_ratio\n",
       "0       name          0     0.00%\n",
       "1    regions          0     0.00%\n",
       "2   start_dt          0     0.00%\n",
       "3  finish_dt          0     0.00%"
      ]
     },
     "metadata": {},
     "output_type": "display_data"
    },
    {
     "name": "stdout",
     "output_type": "stream",
     "text": [
      "------------------------------------------------------------------------------------------------------------------------\n",
      "Количество явных дубликатов в датасете: 0\n",
      "Доля явных дубликатов в датасете: 0.0%\n",
      "------------------------------------------------------------------------------------------------------------------------\n",
      "\n",
      "                                           Обзор cтатистических данных по датасету                                           \n"
     ]
    },
    {
     "data": {
      "text/html": [
       "<div>\n",
       "<style scoped>\n",
       "    .dataframe tbody tr th:only-of-type {\n",
       "        vertical-align: middle;\n",
       "    }\n",
       "\n",
       "    .dataframe tbody tr th {\n",
       "        vertical-align: top;\n",
       "    }\n",
       "\n",
       "    .dataframe thead th {\n",
       "        text-align: right;\n",
       "    }\n",
       "</style>\n",
       "<table border=\"1\" class=\"dataframe\">\n",
       "  <thead>\n",
       "    <tr style=\"text-align: right;\">\n",
       "      <th></th>\n",
       "      <th>name</th>\n",
       "      <th>regions</th>\n",
       "      <th>start_dt</th>\n",
       "      <th>finish_dt</th>\n",
       "    </tr>\n",
       "  </thead>\n",
       "  <tbody>\n",
       "    <tr>\n",
       "      <th>count</th>\n",
       "      <td>14</td>\n",
       "      <td>14</td>\n",
       "      <td>14</td>\n",
       "      <td>14</td>\n",
       "    </tr>\n",
       "    <tr>\n",
       "      <th>unique</th>\n",
       "      <td>14</td>\n",
       "      <td>6</td>\n",
       "      <td>14</td>\n",
       "      <td>14</td>\n",
       "    </tr>\n",
       "    <tr>\n",
       "      <th>top</th>\n",
       "      <td>Single's Day Gift Promo</td>\n",
       "      <td>APAC</td>\n",
       "      <td>2020-03-08</td>\n",
       "      <td>2020-02-07</td>\n",
       "    </tr>\n",
       "    <tr>\n",
       "      <th>freq</th>\n",
       "      <td>1</td>\n",
       "      <td>4</td>\n",
       "      <td>1</td>\n",
       "      <td>1</td>\n",
       "    </tr>\n",
       "  </tbody>\n",
       "</table>\n",
       "</div>"
      ],
      "text/plain": [
       "                           name regions    start_dt   finish_dt\n",
       "count                        14      14          14          14\n",
       "unique                       14       6          14          14\n",
       "top     Single's Day Gift Promo    APAC  2020-03-08  2020-02-07\n",
       "freq                          1       4           1           1"
      ]
     },
     "metadata": {},
     "output_type": "display_data"
    }
   ],
   "source": [
    "df_review(marketing_events)"
   ]
  },
  {
   "cell_type": "markdown",
   "metadata": {},
   "source": [
    "После первичного обзора данных в датафрейме `marketing_events`, мы видим, что с данными все в порядке, за исключением некорректного типа данных для колонок `start_dt` и `finish_dt`."
   ]
  },
  {
   "cell_type": "code",
   "execution_count": 6,
   "metadata": {
    "scrolled": true
   },
   "outputs": [
    {
     "name": "stdout",
     "output_type": "stream",
     "text": [
      "                                                    Обзор данных датасета                                                    \n"
     ]
    },
    {
     "data": {
      "text/html": [
       "<div>\n",
       "<style scoped>\n",
       "    .dataframe tbody tr th:only-of-type {\n",
       "        vertical-align: middle;\n",
       "    }\n",
       "\n",
       "    .dataframe tbody tr th {\n",
       "        vertical-align: top;\n",
       "    }\n",
       "\n",
       "    .dataframe thead th {\n",
       "        text-align: right;\n",
       "    }\n",
       "</style>\n",
       "<table border=\"1\" class=\"dataframe\">\n",
       "  <thead>\n",
       "    <tr style=\"text-align: right;\">\n",
       "      <th></th>\n",
       "      <th>user_id</th>\n",
       "      <th>first_date</th>\n",
       "      <th>region</th>\n",
       "      <th>device</th>\n",
       "    </tr>\n",
       "  </thead>\n",
       "  <tbody>\n",
       "    <tr>\n",
       "      <th>0</th>\n",
       "      <td>D72A72121175D8BE</td>\n",
       "      <td>2020-12-07</td>\n",
       "      <td>EU</td>\n",
       "      <td>PC</td>\n",
       "    </tr>\n",
       "    <tr>\n",
       "      <th>1</th>\n",
       "      <td>F1C668619DFE6E65</td>\n",
       "      <td>2020-12-07</td>\n",
       "      <td>N.America</td>\n",
       "      <td>Android</td>\n",
       "    </tr>\n",
       "    <tr>\n",
       "      <th>2</th>\n",
       "      <td>2E1BF1D4C37EA01F</td>\n",
       "      <td>2020-12-07</td>\n",
       "      <td>EU</td>\n",
       "      <td>PC</td>\n",
       "    </tr>\n",
       "    <tr>\n",
       "      <th>3</th>\n",
       "      <td>50734A22C0C63768</td>\n",
       "      <td>2020-12-07</td>\n",
       "      <td>EU</td>\n",
       "      <td>iPhone</td>\n",
       "    </tr>\n",
       "    <tr>\n",
       "      <th>4</th>\n",
       "      <td>E1BDDCE0DAFA2679</td>\n",
       "      <td>2020-12-07</td>\n",
       "      <td>N.America</td>\n",
       "      <td>iPhone</td>\n",
       "    </tr>\n",
       "    <tr>\n",
       "      <th>...</th>\n",
       "      <td>...</td>\n",
       "      <td>...</td>\n",
       "      <td>...</td>\n",
       "      <td>...</td>\n",
       "    </tr>\n",
       "    <tr>\n",
       "      <th>61728</th>\n",
       "      <td>1DB53B933257165D</td>\n",
       "      <td>2020-12-20</td>\n",
       "      <td>EU</td>\n",
       "      <td>Android</td>\n",
       "    </tr>\n",
       "    <tr>\n",
       "      <th>61729</th>\n",
       "      <td>538643EB4527ED03</td>\n",
       "      <td>2020-12-20</td>\n",
       "      <td>EU</td>\n",
       "      <td>Mac</td>\n",
       "    </tr>\n",
       "    <tr>\n",
       "      <th>61730</th>\n",
       "      <td>7ADEE837D5D8CBBD</td>\n",
       "      <td>2020-12-20</td>\n",
       "      <td>EU</td>\n",
       "      <td>PC</td>\n",
       "    </tr>\n",
       "    <tr>\n",
       "      <th>61731</th>\n",
       "      <td>1C7D23927835213F</td>\n",
       "      <td>2020-12-20</td>\n",
       "      <td>EU</td>\n",
       "      <td>iPhone</td>\n",
       "    </tr>\n",
       "    <tr>\n",
       "      <th>61732</th>\n",
       "      <td>8F04273BB2860229</td>\n",
       "      <td>2020-12-20</td>\n",
       "      <td>EU</td>\n",
       "      <td>Android</td>\n",
       "    </tr>\n",
       "  </tbody>\n",
       "</table>\n",
       "<p>61733 rows × 4 columns</p>\n",
       "</div>"
      ],
      "text/plain": [
       "                user_id  first_date     region   device\n",
       "0      D72A72121175D8BE  2020-12-07         EU       PC\n",
       "1      F1C668619DFE6E65  2020-12-07  N.America  Android\n",
       "2      2E1BF1D4C37EA01F  2020-12-07         EU       PC\n",
       "3      50734A22C0C63768  2020-12-07         EU   iPhone\n",
       "4      E1BDDCE0DAFA2679  2020-12-07  N.America   iPhone\n",
       "...                 ...         ...        ...      ...\n",
       "61728  1DB53B933257165D  2020-12-20         EU  Android\n",
       "61729  538643EB4527ED03  2020-12-20         EU      Mac\n",
       "61730  7ADEE837D5D8CBBD  2020-12-20         EU       PC\n",
       "61731  1C7D23927835213F  2020-12-20         EU   iPhone\n",
       "61732  8F04273BB2860229  2020-12-20         EU  Android\n",
       "\n",
       "[61733 rows x 4 columns]"
      ]
     },
     "metadata": {},
     "output_type": "display_data"
    },
    {
     "name": "stdout",
     "output_type": "stream",
     "text": [
      "------------------------------------------------------------------------------------------------------------------------\n",
      "                                                Общая информация по датасету                                                 \n",
      "\n",
      "<class 'pandas.core.frame.DataFrame'>\n",
      "RangeIndex: 61733 entries, 0 to 61732\n",
      "Data columns (total 4 columns):\n",
      " #   Column      Non-Null Count  Dtype \n",
      "---  ------      --------------  ----- \n",
      " 0   user_id     61733 non-null  object\n",
      " 1   first_date  61733 non-null  object\n",
      " 2   region      61733 non-null  object\n",
      " 3   device      61733 non-null  object\n",
      "dtypes: object(4)\n",
      "memory usage: 1.9+ MB\n",
      "\n",
      "Датафрейм состоит из 61733 строк и 4 колонок\n",
      "------------------------------------------------------------------------------------------------------------------------\n",
      "                                   Количество пропусков и их доля от всех строк в датасете                                   \n"
     ]
    },
    {
     "data": {
      "text/html": [
       "<div>\n",
       "<style scoped>\n",
       "    .dataframe tbody tr th:only-of-type {\n",
       "        vertical-align: middle;\n",
       "    }\n",
       "\n",
       "    .dataframe tbody tr th {\n",
       "        vertical-align: top;\n",
       "    }\n",
       "\n",
       "    .dataframe thead th {\n",
       "        text-align: right;\n",
       "    }\n",
       "</style>\n",
       "<table border=\"1\" class=\"dataframe\">\n",
       "  <thead>\n",
       "    <tr style=\"text-align: right;\">\n",
       "      <th></th>\n",
       "      <th>columns</th>\n",
       "      <th>nan_count</th>\n",
       "      <th>nan_ratio</th>\n",
       "    </tr>\n",
       "  </thead>\n",
       "  <tbody>\n",
       "    <tr>\n",
       "      <th>0</th>\n",
       "      <td>user_id</td>\n",
       "      <td>0</td>\n",
       "      <td>0.00%</td>\n",
       "    </tr>\n",
       "    <tr>\n",
       "      <th>1</th>\n",
       "      <td>first_date</td>\n",
       "      <td>0</td>\n",
       "      <td>0.00%</td>\n",
       "    </tr>\n",
       "    <tr>\n",
       "      <th>2</th>\n",
       "      <td>region</td>\n",
       "      <td>0</td>\n",
       "      <td>0.00%</td>\n",
       "    </tr>\n",
       "    <tr>\n",
       "      <th>3</th>\n",
       "      <td>device</td>\n",
       "      <td>0</td>\n",
       "      <td>0.00%</td>\n",
       "    </tr>\n",
       "  </tbody>\n",
       "</table>\n",
       "</div>"
      ],
      "text/plain": [
       "      columns  nan_count nan_ratio\n",
       "0     user_id          0     0.00%\n",
       "1  first_date          0     0.00%\n",
       "2      region          0     0.00%\n",
       "3      device          0     0.00%"
      ]
     },
     "metadata": {},
     "output_type": "display_data"
    },
    {
     "name": "stdout",
     "output_type": "stream",
     "text": [
      "------------------------------------------------------------------------------------------------------------------------\n",
      "Количество явных дубликатов в датасете: 0\n",
      "Доля явных дубликатов в датасете: 0.0%\n",
      "------------------------------------------------------------------------------------------------------------------------\n",
      "\n",
      "                                           Обзор cтатистических данных по датасету                                           \n"
     ]
    },
    {
     "data": {
      "text/html": [
       "<div>\n",
       "<style scoped>\n",
       "    .dataframe tbody tr th:only-of-type {\n",
       "        vertical-align: middle;\n",
       "    }\n",
       "\n",
       "    .dataframe tbody tr th {\n",
       "        vertical-align: top;\n",
       "    }\n",
       "\n",
       "    .dataframe thead th {\n",
       "        text-align: right;\n",
       "    }\n",
       "</style>\n",
       "<table border=\"1\" class=\"dataframe\">\n",
       "  <thead>\n",
       "    <tr style=\"text-align: right;\">\n",
       "      <th></th>\n",
       "      <th>user_id</th>\n",
       "      <th>first_date</th>\n",
       "      <th>region</th>\n",
       "      <th>device</th>\n",
       "    </tr>\n",
       "  </thead>\n",
       "  <tbody>\n",
       "    <tr>\n",
       "      <th>count</th>\n",
       "      <td>61733</td>\n",
       "      <td>61733</td>\n",
       "      <td>61733</td>\n",
       "      <td>61733</td>\n",
       "    </tr>\n",
       "    <tr>\n",
       "      <th>unique</th>\n",
       "      <td>61733</td>\n",
       "      <td>17</td>\n",
       "      <td>4</td>\n",
       "      <td>4</td>\n",
       "    </tr>\n",
       "    <tr>\n",
       "      <th>top</th>\n",
       "      <td>709243A7B8E50E95</td>\n",
       "      <td>2020-12-21</td>\n",
       "      <td>EU</td>\n",
       "      <td>Android</td>\n",
       "    </tr>\n",
       "    <tr>\n",
       "      <th>freq</th>\n",
       "      <td>1</td>\n",
       "      <td>6290</td>\n",
       "      <td>46270</td>\n",
       "      <td>27520</td>\n",
       "    </tr>\n",
       "  </tbody>\n",
       "</table>\n",
       "</div>"
      ],
      "text/plain": [
       "                 user_id  first_date region   device\n",
       "count              61733       61733  61733    61733\n",
       "unique             61733          17      4        4\n",
       "top     709243A7B8E50E95  2020-12-21     EU  Android\n",
       "freq                   1        6290  46270    27520"
      ]
     },
     "metadata": {},
     "output_type": "display_data"
    }
   ],
   "source": [
    "df_review(new_users)"
   ]
  },
  {
   "cell_type": "markdown",
   "metadata": {},
   "source": [
    "Аналогично все и с датафреймом `new_users`, неверный тип данных для колонки `first_date`."
   ]
  },
  {
   "cell_type": "code",
   "execution_count": 7,
   "metadata": {
    "scrolled": true
   },
   "outputs": [
    {
     "name": "stdout",
     "output_type": "stream",
     "text": [
      "                                                    Обзор данных датасета                                                    \n"
     ]
    },
    {
     "data": {
      "text/html": [
       "<div>\n",
       "<style scoped>\n",
       "    .dataframe tbody tr th:only-of-type {\n",
       "        vertical-align: middle;\n",
       "    }\n",
       "\n",
       "    .dataframe tbody tr th {\n",
       "        vertical-align: top;\n",
       "    }\n",
       "\n",
       "    .dataframe thead th {\n",
       "        text-align: right;\n",
       "    }\n",
       "</style>\n",
       "<table border=\"1\" class=\"dataframe\">\n",
       "  <thead>\n",
       "    <tr style=\"text-align: right;\">\n",
       "      <th></th>\n",
       "      <th>user_id</th>\n",
       "      <th>event_dt</th>\n",
       "      <th>event_name</th>\n",
       "      <th>details</th>\n",
       "    </tr>\n",
       "  </thead>\n",
       "  <tbody>\n",
       "    <tr>\n",
       "      <th>0</th>\n",
       "      <td>E1BDDCE0DAFA2679</td>\n",
       "      <td>2020-12-07 20:22:03</td>\n",
       "      <td>purchase</td>\n",
       "      <td>99.99</td>\n",
       "    </tr>\n",
       "    <tr>\n",
       "      <th>1</th>\n",
       "      <td>7B6452F081F49504</td>\n",
       "      <td>2020-12-07 09:22:53</td>\n",
       "      <td>purchase</td>\n",
       "      <td>9.99</td>\n",
       "    </tr>\n",
       "    <tr>\n",
       "      <th>2</th>\n",
       "      <td>9CD9F34546DF254C</td>\n",
       "      <td>2020-12-07 12:59:29</td>\n",
       "      <td>purchase</td>\n",
       "      <td>4.99</td>\n",
       "    </tr>\n",
       "    <tr>\n",
       "      <th>3</th>\n",
       "      <td>96F27A054B191457</td>\n",
       "      <td>2020-12-07 04:02:40</td>\n",
       "      <td>purchase</td>\n",
       "      <td>4.99</td>\n",
       "    </tr>\n",
       "    <tr>\n",
       "      <th>4</th>\n",
       "      <td>1FD7660FDF94CA1F</td>\n",
       "      <td>2020-12-07 10:15:09</td>\n",
       "      <td>purchase</td>\n",
       "      <td>4.99</td>\n",
       "    </tr>\n",
       "    <tr>\n",
       "      <th>...</th>\n",
       "      <td>...</td>\n",
       "      <td>...</td>\n",
       "      <td>...</td>\n",
       "      <td>...</td>\n",
       "    </tr>\n",
       "    <tr>\n",
       "      <th>440312</th>\n",
       "      <td>245E85F65C358E08</td>\n",
       "      <td>2020-12-30 19:35:55</td>\n",
       "      <td>login</td>\n",
       "      <td>NaN</td>\n",
       "    </tr>\n",
       "    <tr>\n",
       "      <th>440313</th>\n",
       "      <td>9385A108F5A0A7A7</td>\n",
       "      <td>2020-12-30 10:54:15</td>\n",
       "      <td>login</td>\n",
       "      <td>NaN</td>\n",
       "    </tr>\n",
       "    <tr>\n",
       "      <th>440314</th>\n",
       "      <td>DB650B7559AC6EAC</td>\n",
       "      <td>2020-12-30 10:59:09</td>\n",
       "      <td>login</td>\n",
       "      <td>NaN</td>\n",
       "    </tr>\n",
       "    <tr>\n",
       "      <th>440315</th>\n",
       "      <td>F80C9BDDEA02E53C</td>\n",
       "      <td>2020-12-30 09:53:39</td>\n",
       "      <td>login</td>\n",
       "      <td>NaN</td>\n",
       "    </tr>\n",
       "    <tr>\n",
       "      <th>440316</th>\n",
       "      <td>7AEC61159B672CC5</td>\n",
       "      <td>2020-12-30 11:36:13</td>\n",
       "      <td>login</td>\n",
       "      <td>NaN</td>\n",
       "    </tr>\n",
       "  </tbody>\n",
       "</table>\n",
       "<p>440317 rows × 4 columns</p>\n",
       "</div>"
      ],
      "text/plain": [
       "                 user_id             event_dt event_name  details\n",
       "0       E1BDDCE0DAFA2679  2020-12-07 20:22:03   purchase    99.99\n",
       "1       7B6452F081F49504  2020-12-07 09:22:53   purchase     9.99\n",
       "2       9CD9F34546DF254C  2020-12-07 12:59:29   purchase     4.99\n",
       "3       96F27A054B191457  2020-12-07 04:02:40   purchase     4.99\n",
       "4       1FD7660FDF94CA1F  2020-12-07 10:15:09   purchase     4.99\n",
       "...                  ...                  ...        ...      ...\n",
       "440312  245E85F65C358E08  2020-12-30 19:35:55      login      NaN\n",
       "440313  9385A108F5A0A7A7  2020-12-30 10:54:15      login      NaN\n",
       "440314  DB650B7559AC6EAC  2020-12-30 10:59:09      login      NaN\n",
       "440315  F80C9BDDEA02E53C  2020-12-30 09:53:39      login      NaN\n",
       "440316  7AEC61159B672CC5  2020-12-30 11:36:13      login      NaN\n",
       "\n",
       "[440317 rows x 4 columns]"
      ]
     },
     "metadata": {},
     "output_type": "display_data"
    },
    {
     "name": "stdout",
     "output_type": "stream",
     "text": [
      "------------------------------------------------------------------------------------------------------------------------\n",
      "                                                Общая информация по датасету                                                 \n",
      "\n",
      "<class 'pandas.core.frame.DataFrame'>\n",
      "RangeIndex: 440317 entries, 0 to 440316\n",
      "Data columns (total 4 columns):\n",
      " #   Column      Non-Null Count   Dtype  \n",
      "---  ------      --------------   -----  \n",
      " 0   user_id     440317 non-null  object \n",
      " 1   event_dt    440317 non-null  object \n",
      " 2   event_name  440317 non-null  object \n",
      " 3   details     62740 non-null   float64\n",
      "dtypes: float64(1), object(3)\n",
      "memory usage: 13.4+ MB\n",
      "\n",
      "Датафрейм состоит из 440317 строк и 4 колонок\n",
      "------------------------------------------------------------------------------------------------------------------------\n",
      "                                   Количество пропусков и их доля от всех строк в датасете                                   \n"
     ]
    },
    {
     "data": {
      "text/html": [
       "<div>\n",
       "<style scoped>\n",
       "    .dataframe tbody tr th:only-of-type {\n",
       "        vertical-align: middle;\n",
       "    }\n",
       "\n",
       "    .dataframe tbody tr th {\n",
       "        vertical-align: top;\n",
       "    }\n",
       "\n",
       "    .dataframe thead th {\n",
       "        text-align: right;\n",
       "    }\n",
       "</style>\n",
       "<table border=\"1\" class=\"dataframe\">\n",
       "  <thead>\n",
       "    <tr style=\"text-align: right;\">\n",
       "      <th></th>\n",
       "      <th>columns</th>\n",
       "      <th>nan_count</th>\n",
       "      <th>nan_ratio</th>\n",
       "    </tr>\n",
       "  </thead>\n",
       "  <tbody>\n",
       "    <tr>\n",
       "      <th>3</th>\n",
       "      <td>details</td>\n",
       "      <td>377577</td>\n",
       "      <td>85.75%</td>\n",
       "    </tr>\n",
       "    <tr>\n",
       "      <th>0</th>\n",
       "      <td>user_id</td>\n",
       "      <td>0</td>\n",
       "      <td>0.00%</td>\n",
       "    </tr>\n",
       "    <tr>\n",
       "      <th>1</th>\n",
       "      <td>event_dt</td>\n",
       "      <td>0</td>\n",
       "      <td>0.00%</td>\n",
       "    </tr>\n",
       "    <tr>\n",
       "      <th>2</th>\n",
       "      <td>event_name</td>\n",
       "      <td>0</td>\n",
       "      <td>0.00%</td>\n",
       "    </tr>\n",
       "  </tbody>\n",
       "</table>\n",
       "</div>"
      ],
      "text/plain": [
       "      columns  nan_count nan_ratio\n",
       "3     details     377577    85.75%\n",
       "0     user_id          0     0.00%\n",
       "1    event_dt          0     0.00%\n",
       "2  event_name          0     0.00%"
      ]
     },
     "metadata": {},
     "output_type": "display_data"
    },
    {
     "name": "stdout",
     "output_type": "stream",
     "text": [
      "------------------------------------------------------------------------------------------------------------------------\n",
      "Количество явных дубликатов в датасете: 0\n",
      "Доля явных дубликатов в датасете: 0.0%\n",
      "------------------------------------------------------------------------------------------------------------------------\n",
      "\n",
      "                                           Обзор cтатистических данных по датасету                                           \n"
     ]
    },
    {
     "data": {
      "text/html": [
       "<div>\n",
       "<style scoped>\n",
       "    .dataframe tbody tr th:only-of-type {\n",
       "        vertical-align: middle;\n",
       "    }\n",
       "\n",
       "    .dataframe tbody tr th {\n",
       "        vertical-align: top;\n",
       "    }\n",
       "\n",
       "    .dataframe thead th {\n",
       "        text-align: right;\n",
       "    }\n",
       "</style>\n",
       "<table border=\"1\" class=\"dataframe\">\n",
       "  <thead>\n",
       "    <tr style=\"text-align: right;\">\n",
       "      <th></th>\n",
       "      <th>details</th>\n",
       "    </tr>\n",
       "  </thead>\n",
       "  <tbody>\n",
       "    <tr>\n",
       "      <th>count</th>\n",
       "      <td>62740.000000</td>\n",
       "    </tr>\n",
       "    <tr>\n",
       "      <th>mean</th>\n",
       "      <td>23.877631</td>\n",
       "    </tr>\n",
       "    <tr>\n",
       "      <th>std</th>\n",
       "      <td>72.180465</td>\n",
       "    </tr>\n",
       "    <tr>\n",
       "      <th>min</th>\n",
       "      <td>4.990000</td>\n",
       "    </tr>\n",
       "    <tr>\n",
       "      <th>25%</th>\n",
       "      <td>4.990000</td>\n",
       "    </tr>\n",
       "    <tr>\n",
       "      <th>50%</th>\n",
       "      <td>4.990000</td>\n",
       "    </tr>\n",
       "    <tr>\n",
       "      <th>75%</th>\n",
       "      <td>9.990000</td>\n",
       "    </tr>\n",
       "    <tr>\n",
       "      <th>max</th>\n",
       "      <td>499.990000</td>\n",
       "    </tr>\n",
       "  </tbody>\n",
       "</table>\n",
       "</div>"
      ],
      "text/plain": [
       "            details\n",
       "count  62740.000000\n",
       "mean      23.877631\n",
       "std       72.180465\n",
       "min        4.990000\n",
       "25%        4.990000\n",
       "50%        4.990000\n",
       "75%        9.990000\n",
       "max      499.990000"
      ]
     },
     "metadata": {},
     "output_type": "display_data"
    }
   ],
   "source": [
    "df_review(events)"
   ]
  },
  {
   "cell_type": "markdown",
   "metadata": {},
   "source": [
    "С данными в датафрейме `events` практически все в порядке, за исключением нескольких моментов:\n",
    "\n",
    "- Большое кол-во пропусков в колонке `details` - **440317** или **85.75%** от всех строк в датафрейме;\n",
    "\n",
    "- Неверный тип данных для колоноки `event_dt`."
   ]
  },
  {
   "cell_type": "code",
   "execution_count": 8,
   "metadata": {
    "scrolled": true
   },
   "outputs": [
    {
     "name": "stdout",
     "output_type": "stream",
     "text": [
      "                                                    Обзор данных датасета                                                    \n"
     ]
    },
    {
     "data": {
      "text/html": [
       "<div>\n",
       "<style scoped>\n",
       "    .dataframe tbody tr th:only-of-type {\n",
       "        vertical-align: middle;\n",
       "    }\n",
       "\n",
       "    .dataframe tbody tr th {\n",
       "        vertical-align: top;\n",
       "    }\n",
       "\n",
       "    .dataframe thead th {\n",
       "        text-align: right;\n",
       "    }\n",
       "</style>\n",
       "<table border=\"1\" class=\"dataframe\">\n",
       "  <thead>\n",
       "    <tr style=\"text-align: right;\">\n",
       "      <th></th>\n",
       "      <th>user_id</th>\n",
       "      <th>group</th>\n",
       "      <th>ab_test</th>\n",
       "    </tr>\n",
       "  </thead>\n",
       "  <tbody>\n",
       "    <tr>\n",
       "      <th>0</th>\n",
       "      <td>D1ABA3E2887B6A73</td>\n",
       "      <td>A</td>\n",
       "      <td>recommender_system_test</td>\n",
       "    </tr>\n",
       "    <tr>\n",
       "      <th>1</th>\n",
       "      <td>A7A3664BD6242119</td>\n",
       "      <td>A</td>\n",
       "      <td>recommender_system_test</td>\n",
       "    </tr>\n",
       "    <tr>\n",
       "      <th>2</th>\n",
       "      <td>DABC14FDDFADD29E</td>\n",
       "      <td>A</td>\n",
       "      <td>recommender_system_test</td>\n",
       "    </tr>\n",
       "    <tr>\n",
       "      <th>3</th>\n",
       "      <td>04988C5DF189632E</td>\n",
       "      <td>A</td>\n",
       "      <td>recommender_system_test</td>\n",
       "    </tr>\n",
       "    <tr>\n",
       "      <th>4</th>\n",
       "      <td>482F14783456D21B</td>\n",
       "      <td>B</td>\n",
       "      <td>recommender_system_test</td>\n",
       "    </tr>\n",
       "    <tr>\n",
       "      <th>...</th>\n",
       "      <td>...</td>\n",
       "      <td>...</td>\n",
       "      <td>...</td>\n",
       "    </tr>\n",
       "    <tr>\n",
       "      <th>18263</th>\n",
       "      <td>1D302F8688B91781</td>\n",
       "      <td>B</td>\n",
       "      <td>interface_eu_test</td>\n",
       "    </tr>\n",
       "    <tr>\n",
       "      <th>18264</th>\n",
       "      <td>3DE51B726983B657</td>\n",
       "      <td>A</td>\n",
       "      <td>interface_eu_test</td>\n",
       "    </tr>\n",
       "    <tr>\n",
       "      <th>18265</th>\n",
       "      <td>F501F79D332BE86C</td>\n",
       "      <td>A</td>\n",
       "      <td>interface_eu_test</td>\n",
       "    </tr>\n",
       "    <tr>\n",
       "      <th>18266</th>\n",
       "      <td>63FBE257B05F2245</td>\n",
       "      <td>A</td>\n",
       "      <td>interface_eu_test</td>\n",
       "    </tr>\n",
       "    <tr>\n",
       "      <th>18267</th>\n",
       "      <td>79F9ABFB029CF724</td>\n",
       "      <td>B</td>\n",
       "      <td>interface_eu_test</td>\n",
       "    </tr>\n",
       "  </tbody>\n",
       "</table>\n",
       "<p>18268 rows × 3 columns</p>\n",
       "</div>"
      ],
      "text/plain": [
       "                user_id group                  ab_test\n",
       "0      D1ABA3E2887B6A73     A  recommender_system_test\n",
       "1      A7A3664BD6242119     A  recommender_system_test\n",
       "2      DABC14FDDFADD29E     A  recommender_system_test\n",
       "3      04988C5DF189632E     A  recommender_system_test\n",
       "4      482F14783456D21B     B  recommender_system_test\n",
       "...                 ...   ...                      ...\n",
       "18263  1D302F8688B91781     B        interface_eu_test\n",
       "18264  3DE51B726983B657     A        interface_eu_test\n",
       "18265  F501F79D332BE86C     A        interface_eu_test\n",
       "18266  63FBE257B05F2245     A        interface_eu_test\n",
       "18267  79F9ABFB029CF724     B        interface_eu_test\n",
       "\n",
       "[18268 rows x 3 columns]"
      ]
     },
     "metadata": {},
     "output_type": "display_data"
    },
    {
     "name": "stdout",
     "output_type": "stream",
     "text": [
      "------------------------------------------------------------------------------------------------------------------------\n",
      "                                                Общая информация по датасету                                                 \n",
      "\n",
      "<class 'pandas.core.frame.DataFrame'>\n",
      "RangeIndex: 18268 entries, 0 to 18267\n",
      "Data columns (total 3 columns):\n",
      " #   Column   Non-Null Count  Dtype \n",
      "---  ------   --------------  ----- \n",
      " 0   user_id  18268 non-null  object\n",
      " 1   group    18268 non-null  object\n",
      " 2   ab_test  18268 non-null  object\n",
      "dtypes: object(3)\n",
      "memory usage: 428.3+ KB\n",
      "\n",
      "Датафрейм состоит из 18268 строк и 3 колонок\n",
      "------------------------------------------------------------------------------------------------------------------------\n",
      "                                   Количество пропусков и их доля от всех строк в датасете                                   \n"
     ]
    },
    {
     "data": {
      "text/html": [
       "<div>\n",
       "<style scoped>\n",
       "    .dataframe tbody tr th:only-of-type {\n",
       "        vertical-align: middle;\n",
       "    }\n",
       "\n",
       "    .dataframe tbody tr th {\n",
       "        vertical-align: top;\n",
       "    }\n",
       "\n",
       "    .dataframe thead th {\n",
       "        text-align: right;\n",
       "    }\n",
       "</style>\n",
       "<table border=\"1\" class=\"dataframe\">\n",
       "  <thead>\n",
       "    <tr style=\"text-align: right;\">\n",
       "      <th></th>\n",
       "      <th>columns</th>\n",
       "      <th>nan_count</th>\n",
       "      <th>nan_ratio</th>\n",
       "    </tr>\n",
       "  </thead>\n",
       "  <tbody>\n",
       "    <tr>\n",
       "      <th>0</th>\n",
       "      <td>user_id</td>\n",
       "      <td>0</td>\n",
       "      <td>0.00%</td>\n",
       "    </tr>\n",
       "    <tr>\n",
       "      <th>1</th>\n",
       "      <td>group</td>\n",
       "      <td>0</td>\n",
       "      <td>0.00%</td>\n",
       "    </tr>\n",
       "    <tr>\n",
       "      <th>2</th>\n",
       "      <td>ab_test</td>\n",
       "      <td>0</td>\n",
       "      <td>0.00%</td>\n",
       "    </tr>\n",
       "  </tbody>\n",
       "</table>\n",
       "</div>"
      ],
      "text/plain": [
       "   columns  nan_count nan_ratio\n",
       "0  user_id          0     0.00%\n",
       "1    group          0     0.00%\n",
       "2  ab_test          0     0.00%"
      ]
     },
     "metadata": {},
     "output_type": "display_data"
    },
    {
     "name": "stdout",
     "output_type": "stream",
     "text": [
      "------------------------------------------------------------------------------------------------------------------------\n",
      "Количество явных дубликатов в датасете: 0\n",
      "Доля явных дубликатов в датасете: 0.0%\n",
      "------------------------------------------------------------------------------------------------------------------------\n",
      "\n",
      "                                           Обзор cтатистических данных по датасету                                           \n"
     ]
    },
    {
     "data": {
      "text/html": [
       "<div>\n",
       "<style scoped>\n",
       "    .dataframe tbody tr th:only-of-type {\n",
       "        vertical-align: middle;\n",
       "    }\n",
       "\n",
       "    .dataframe tbody tr th {\n",
       "        vertical-align: top;\n",
       "    }\n",
       "\n",
       "    .dataframe thead th {\n",
       "        text-align: right;\n",
       "    }\n",
       "</style>\n",
       "<table border=\"1\" class=\"dataframe\">\n",
       "  <thead>\n",
       "    <tr style=\"text-align: right;\">\n",
       "      <th></th>\n",
       "      <th>user_id</th>\n",
       "      <th>group</th>\n",
       "      <th>ab_test</th>\n",
       "    </tr>\n",
       "  </thead>\n",
       "  <tbody>\n",
       "    <tr>\n",
       "      <th>count</th>\n",
       "      <td>18268</td>\n",
       "      <td>18268</td>\n",
       "      <td>18268</td>\n",
       "    </tr>\n",
       "    <tr>\n",
       "      <th>unique</th>\n",
       "      <td>16666</td>\n",
       "      <td>2</td>\n",
       "      <td>2</td>\n",
       "    </tr>\n",
       "    <tr>\n",
       "      <th>top</th>\n",
       "      <td>FEC0BCA6C323872F</td>\n",
       "      <td>A</td>\n",
       "      <td>interface_eu_test</td>\n",
       "    </tr>\n",
       "    <tr>\n",
       "      <th>freq</th>\n",
       "      <td>2</td>\n",
       "      <td>9655</td>\n",
       "      <td>11567</td>\n",
       "    </tr>\n",
       "  </tbody>\n",
       "</table>\n",
       "</div>"
      ],
      "text/plain": [
       "                 user_id  group            ab_test\n",
       "count              18268  18268              18268\n",
       "unique             16666      2                  2\n",
       "top     FEC0BCA6C323872F      A  interface_eu_test\n",
       "freq                   2   9655              11567"
      ]
     },
     "metadata": {},
     "output_type": "display_data"
    }
   ],
   "source": [
    "df_review(participants)"
   ]
  },
  {
   "cell_type": "markdown",
   "metadata": {},
   "source": [
    "С данными в `participants` предобработка не требуется. \n",
    "\n",
    "В дальнейшей предобработке данных, приведем колонки к нужному типу данных и разберемся с пропусками в датафрейме `events`."
   ]
  },
  {
   "cell_type": "markdown",
   "metadata": {},
   "source": [
    "## Предобработка данных"
   ]
  },
  {
   "cell_type": "code",
   "execution_count": 9,
   "metadata": {},
   "outputs": [],
   "source": [
    "# Изменим в колонках тип данных на datetime\n",
    "\n",
    "marketing_events['start_dt'] = pd.to_datetime(marketing_events['start_dt']) \n",
    "marketing_events['finish_dt'] = pd.to_datetime(marketing_events['finish_dt']) \n",
    "new_users['first_date'] = pd.to_datetime(new_users['first_date']) \n",
    "events['event_dt'] = pd.to_datetime(pd.to_datetime(events['event_dt']).dt.date)"
   ]
  },
  {
   "cell_type": "code",
   "execution_count": 10,
   "metadata": {},
   "outputs": [
    {
     "data": {
      "text/html": [
       "<div>\n",
       "<style scoped>\n",
       "    .dataframe tbody tr th:only-of-type {\n",
       "        vertical-align: middle;\n",
       "    }\n",
       "\n",
       "    .dataframe tbody tr th {\n",
       "        vertical-align: top;\n",
       "    }\n",
       "\n",
       "    .dataframe thead th {\n",
       "        text-align: right;\n",
       "    }\n",
       "</style>\n",
       "<table border=\"1\" class=\"dataframe\">\n",
       "  <thead>\n",
       "    <tr style=\"text-align: right;\">\n",
       "      <th></th>\n",
       "      <th>event_name</th>\n",
       "      <th>details</th>\n",
       "    </tr>\n",
       "  </thead>\n",
       "  <tbody>\n",
       "    <tr>\n",
       "      <th>0</th>\n",
       "      <td>login</td>\n",
       "      <td>0</td>\n",
       "    </tr>\n",
       "    <tr>\n",
       "      <th>1</th>\n",
       "      <td>product_cart</td>\n",
       "      <td>0</td>\n",
       "    </tr>\n",
       "    <tr>\n",
       "      <th>2</th>\n",
       "      <td>product_page</td>\n",
       "      <td>0</td>\n",
       "    </tr>\n",
       "    <tr>\n",
       "      <th>3</th>\n",
       "      <td>purchase</td>\n",
       "      <td>62740</td>\n",
       "    </tr>\n",
       "  </tbody>\n",
       "</table>\n",
       "</div>"
      ],
      "text/plain": [
       "     event_name  details\n",
       "0         login        0\n",
       "1  product_cart        0\n",
       "2  product_page        0\n",
       "3      purchase    62740"
      ]
     },
     "execution_count": 10,
     "metadata": {},
     "output_type": "execute_result"
    }
   ],
   "source": [
    "# Так как details показывает дополнительные данные о событии event_name, посчтиаем кол-во заполненных данных по каждому из них\n",
    "events.groupby('event_name')['details'].count().reset_index()"
   ]
  },
  {
   "cell_type": "markdown",
   "metadata": {},
   "source": [
    "Мы видим, что заполнены данные только по событию `purchase`. Так как эти данные в дальнейшем анализе ни на что не повлияют, оставим все как есть."
   ]
  },
  {
   "cell_type": "markdown",
   "metadata": {},
   "source": [
    "# Оценка корректности проведения теста"
   ]
  },
  {
   "cell_type": "markdown",
   "metadata": {},
   "source": [
    "Для оценки корректности проведения теста мы должны убедиться, что данные соответствуют требованиям **технического задания**, а именно:\n",
    "\n",
    "- Название теста: `recommender_system_test`;\n",
    "- группы: А — контрольная, B — новая платёжная воронка;\n",
    "- аудиторию теста. Проверить, есть ли пересечения с конкурирующим тестом и нет ли пользователей, участвующих в двух группах теста одновременно. Проверить равномерность распределения по тестовым группам и правильность их формирования.\n",
    "- дата запуска: 2020-12-07;\n",
    "- дата остановки набора новых пользователей: 2020-12-21;\n",
    "- дата остановки: 2021-01-04;\n",
    "- время проведения теста. Проверить, что оно не совпадает с маркетинговыми и другими активностями;\n",
    "- аудитория: 15% новых пользователей из региона EU;\n",
    "- назначение теста: тестирование изменений, связанных с внедрением улучшенной рекомендательной системы;\n",
    "- ожидаемое количество участников теста: 6000.\n",
    "- ожидаемый эффект: за 14 дней с момента регистрации пользователи покажут улучшение каждой метрики не менее, чем на 10%:\n",
    "    - конверсии в просмотр карточек товаров — событие `product_page`,\n",
    "    - просмотры корзины — `product_cart`,\n",
    "    - покупки — `purchase`."
   ]
  },
  {
   "cell_type": "markdown",
   "metadata": {},
   "source": [
    "## Название теста и проверка групп на пересечение"
   ]
  },
  {
   "cell_type": "code",
   "execution_count": 11,
   "metadata": {},
   "outputs": [
    {
     "data": {
      "text/html": [
       "<div>\n",
       "<style scoped>\n",
       "    .dataframe tbody tr th:only-of-type {\n",
       "        vertical-align: middle;\n",
       "    }\n",
       "\n",
       "    .dataframe tbody tr th {\n",
       "        vertical-align: top;\n",
       "    }\n",
       "\n",
       "    .dataframe thead th {\n",
       "        text-align: right;\n",
       "    }\n",
       "</style>\n",
       "<table border=\"1\" class=\"dataframe\">\n",
       "  <thead>\n",
       "    <tr style=\"text-align: right;\">\n",
       "      <th></th>\n",
       "      <th>ab_test</th>\n",
       "      <th>group</th>\n",
       "      <th>user_id</th>\n",
       "    </tr>\n",
       "  </thead>\n",
       "  <tbody>\n",
       "    <tr>\n",
       "      <th>0</th>\n",
       "      <td>interface_eu_test</td>\n",
       "      <td>A</td>\n",
       "      <td>5831</td>\n",
       "    </tr>\n",
       "    <tr>\n",
       "      <th>1</th>\n",
       "      <td>interface_eu_test</td>\n",
       "      <td>B</td>\n",
       "      <td>5736</td>\n",
       "    </tr>\n",
       "    <tr>\n",
       "      <th>2</th>\n",
       "      <td>recommender_system_test</td>\n",
       "      <td>A</td>\n",
       "      <td>3824</td>\n",
       "    </tr>\n",
       "    <tr>\n",
       "      <th>3</th>\n",
       "      <td>recommender_system_test</td>\n",
       "      <td>B</td>\n",
       "      <td>2877</td>\n",
       "    </tr>\n",
       "  </tbody>\n",
       "</table>\n",
       "</div>"
      ],
      "text/plain": [
       "                   ab_test group  user_id\n",
       "0        interface_eu_test     A     5831\n",
       "1        interface_eu_test     B     5736\n",
       "2  recommender_system_test     A     3824\n",
       "3  recommender_system_test     B     2877"
      ]
     },
     "execution_count": 11,
     "metadata": {},
     "output_type": "execute_result"
    }
   ],
   "source": [
    "participants.groupby(['ab_test', 'group']).agg({'user_id': 'nunique'}).reset_index()"
   ]
  },
  {
   "cell_type": "markdown",
   "metadata": {},
   "source": [
    "Датасет состоит из двух различных тестов:\n",
    "\n",
    "- `recommender_system_test` - тестирование изменений, связанных с внедрением улучшенной рекомендательной системы;\n",
    "\n",
    "- `interface_eu_test` - конкурирующий тест.\n",
    "\n",
    "В обоих тестах присутствует как контрольная, так и экспериментальная группы, но мы видим, что в нашем тесте `recommender_system_test` неравномерное распределение по группам, кол-во участников `группы A` превышает `группу B` на **947** участника или **32%** (возможно в двух группах присутствуют одновременно несколько пользователей, проверим это)."
   ]
  },
  {
   "cell_type": "code",
   "execution_count": 12,
   "metadata": {
    "scrolled": true
   },
   "outputs": [
    {
     "data": {
      "text/html": [
       "<div>\n",
       "<style scoped>\n",
       "    .dataframe tbody tr th:only-of-type {\n",
       "        vertical-align: middle;\n",
       "    }\n",
       "\n",
       "    .dataframe tbody tr th {\n",
       "        vertical-align: top;\n",
       "    }\n",
       "\n",
       "    .dataframe thead th {\n",
       "        text-align: right;\n",
       "    }\n",
       "</style>\n",
       "<table border=\"1\" class=\"dataframe\">\n",
       "  <thead>\n",
       "    <tr style=\"text-align: right;\">\n",
       "      <th></th>\n",
       "      <th>group</th>\n",
       "    </tr>\n",
       "    <tr>\n",
       "      <th>user_id</th>\n",
       "      <th></th>\n",
       "    </tr>\n",
       "  </thead>\n",
       "  <tbody>\n",
       "  </tbody>\n",
       "</table>\n",
       "</div>"
      ],
      "text/plain": [
       "Empty DataFrame\n",
       "Columns: [group]\n",
       "Index: []"
      ]
     },
     "execution_count": 12,
     "metadata": {},
     "output_type": "execute_result"
    }
   ],
   "source": [
    "# Смотрим, есть ли пользователи, которые состоят одновременно в двух группах recommender_system_test\n",
    "\n",
    "(participants.query('ab_test == \"recommender_system_test\"')\n",
    "             .groupby('user_id')\n",
    "             .agg({'group':'nunique'})\n",
    "             .query('group > 1')\n",
    ")"
   ]
  },
  {
   "cell_type": "markdown",
   "metadata": {},
   "source": [
    "Все пользователи в обеих группах теста `recommender_system_test` уникальные и не пересекаются.\n",
    "\n",
    "Далее проверим, пересекаются ли пользователи `recommender_system_test` с пользователями из `interface_eu_test`."
   ]
  },
  {
   "cell_type": "code",
   "execution_count": 13,
   "metadata": {},
   "outputs": [
    {
     "name": "stdout",
     "output_type": "stream",
     "text": [
      " Кол-во пересекающихся пользователей в обоих тестах - 1602 пользователя\n"
     ]
    }
   ],
   "source": [
    "# Посчтитаем кол-во пользователей, которые находятся в двух тестах и выведем рез-т\n",
    "\n",
    "intersecting_users = (participants\n",
    "                          .groupby('user_id')\n",
    "                          .agg({'ab_test':'nunique'})\n",
    "                          .query('ab_test > 1')\n",
    "                          .reset_index()\n",
    "                     )\n",
    "\n",
    "print(f' Кол-во пересекающихся пользователей в обоих тестах - {len(intersecting_users)} пользователя')"
   ]
  },
  {
   "cell_type": "code",
   "execution_count": 14,
   "metadata": {},
   "outputs": [
    {
     "data": {
      "text/html": [
       "<div>\n",
       "<style scoped>\n",
       "    .dataframe tbody tr th:only-of-type {\n",
       "        vertical-align: middle;\n",
       "    }\n",
       "\n",
       "    .dataframe tbody tr th {\n",
       "        vertical-align: top;\n",
       "    }\n",
       "\n",
       "    .dataframe thead th {\n",
       "        text-align: right;\n",
       "    }\n",
       "</style>\n",
       "<table border=\"1\" class=\"dataframe\">\n",
       "  <thead>\n",
       "    <tr style=\"text-align: right;\">\n",
       "      <th></th>\n",
       "      <th>user_id</th>\n",
       "      <th>ab_test</th>\n",
       "    </tr>\n",
       "  </thead>\n",
       "  <tbody>\n",
       "    <tr>\n",
       "      <th>0</th>\n",
       "      <td>001064FEAAB631A1</td>\n",
       "      <td>2</td>\n",
       "    </tr>\n",
       "    <tr>\n",
       "      <th>1</th>\n",
       "      <td>00341D8401F0F665</td>\n",
       "      <td>2</td>\n",
       "    </tr>\n",
       "    <tr>\n",
       "      <th>2</th>\n",
       "      <td>003B6786B4FF5B03</td>\n",
       "      <td>2</td>\n",
       "    </tr>\n",
       "    <tr>\n",
       "      <th>3</th>\n",
       "      <td>0082295A41A867B5</td>\n",
       "      <td>2</td>\n",
       "    </tr>\n",
       "    <tr>\n",
       "      <th>4</th>\n",
       "      <td>00E68F103C66C1F7</td>\n",
       "      <td>2</td>\n",
       "    </tr>\n",
       "    <tr>\n",
       "      <th>...</th>\n",
       "      <td>...</td>\n",
       "      <td>...</td>\n",
       "    </tr>\n",
       "    <tr>\n",
       "      <th>1597</th>\n",
       "      <td>FF7BE2897FC0380D</td>\n",
       "      <td>2</td>\n",
       "    </tr>\n",
       "    <tr>\n",
       "      <th>1598</th>\n",
       "      <td>FF9A81323FA67D6E</td>\n",
       "      <td>2</td>\n",
       "    </tr>\n",
       "    <tr>\n",
       "      <th>1599</th>\n",
       "      <td>FFC53FD45DDA5EE8</td>\n",
       "      <td>2</td>\n",
       "    </tr>\n",
       "    <tr>\n",
       "      <th>1600</th>\n",
       "      <td>FFED90241D04503F</td>\n",
       "      <td>2</td>\n",
       "    </tr>\n",
       "    <tr>\n",
       "      <th>1601</th>\n",
       "      <td>FFF28D02B1EACBE1</td>\n",
       "      <td>2</td>\n",
       "    </tr>\n",
       "  </tbody>\n",
       "</table>\n",
       "<p>1602 rows × 2 columns</p>\n",
       "</div>"
      ],
      "text/plain": [
       "               user_id  ab_test\n",
       "0     001064FEAAB631A1        2\n",
       "1     00341D8401F0F665        2\n",
       "2     003B6786B4FF5B03        2\n",
       "3     0082295A41A867B5        2\n",
       "4     00E68F103C66C1F7        2\n",
       "...                ...      ...\n",
       "1597  FF7BE2897FC0380D        2\n",
       "1598  FF9A81323FA67D6E        2\n",
       "1599  FFC53FD45DDA5EE8        2\n",
       "1600  FFED90241D04503F        2\n",
       "1601  FFF28D02B1EACBE1        2\n",
       "\n",
       "[1602 rows x 2 columns]"
      ]
     },
     "execution_count": 14,
     "metadata": {},
     "output_type": "execute_result"
    }
   ],
   "source": [
    "intersecting_users"
   ]
  },
  {
   "cell_type": "markdown",
   "metadata": {},
   "source": [
    "Мы видим, что одновременно в двух тестах участвуют `1602` пользователя, что не соответсвует поставленному ТЗ. Будет целесообразней этих пользователей удалить из теста, потому что их наличие в наборе данных не даст нам однозначно ответить на вопрос о влиянии на действия пользователей."
   ]
  },
  {
   "cell_type": "code",
   "execution_count": 15,
   "metadata": {},
   "outputs": [],
   "source": [
    "# Создаем список с user_id участников теста recommender_system_test с учетом пересекающихся в двух тестах и без\n",
    "list_users = participants.query('ab_test == \"recommender_system_test\"')['user_id']\n",
    "not_intersect_list_users = participants.query('ab_test == \"recommender_system_test\" and user_id not in @intersecting_users.user_id')['user_id']\n",
    "\n",
    "# Создаем список из юзеров состоящих только в тесте recommender_system_test\n",
    "list_users_rst = new_users.query('user_id in @not_intersect_list_users')['user_id']\n",
    "\n",
    "# Фильтруем датафреймы по юзером, состоящих только в тесте recommender_system_test\n",
    "events_rst = events.query('user_id in @list_users_rst')\n",
    "new_users_rst = new_users.query('user_id in @list_users_rst')"
   ]
  },
  {
   "cell_type": "markdown",
   "metadata": {},
   "source": [
    "## Дата запуска, остановки теста и набора новых пользователей и пересечение с маркетинговыми активностями"
   ]
  },
  {
   "cell_type": "code",
   "execution_count": 16,
   "metadata": {},
   "outputs": [
    {
     "name": "stdout",
     "output_type": "stream",
     "text": [
      "Дата запуска теста - 2020-12-07 00:00:00\n",
      "Дата остановки теста - 2020-12-30 00:00:00\n",
      "Дата остановки набора новых пользователей - 2020-12-21 00:00:00\n"
     ]
    }
   ],
   "source": [
    "# Выводим даты\n",
    "\n",
    "print(f'Дата запуска теста - {events_rst[\"event_dt\"].min()}')\n",
    "print(f'Дата остановки теста - {events_rst[\"event_dt\"].max()}')\n",
    "print(f'Дата остановки набора новых пользователей - {new_users_rst[\"first_date\"].max()}')"
   ]
  },
  {
   "cell_type": "markdown",
   "metadata": {},
   "source": [
    "Как мы видим, техническому заданию:\n",
    "\n",
    "- Соответствуют - `дата запуска теста` и `дата остановки набора новых пользователей`;\n",
    "\n",
    "- Не соответствует - `дата остановки теста`, которая должна была наступить `2021-01-04`, а по факту - `2020-12-30` (раньше на 5 дней)."
   ]
  },
  {
   "cell_type": "markdown",
   "metadata": {},
   "source": [
    "По нашему ТЗ лайфтам действия должен был быть не более `14 дней`, то есть действие пользователем должно было быть совершено в течение `14 дней` с момента регистрации. Для соотвествия ТЗ оставим только те события, которые подходят этому условию. Для начала создадим объединенный датафрейм по подходящим для нашего дальнейшего анализа юзерам."
   ]
  },
  {
   "cell_type": "code",
   "execution_count": 17,
   "metadata": {},
   "outputs": [
    {
     "data": {
      "text/html": [
       "<div>\n",
       "<style scoped>\n",
       "    .dataframe tbody tr th:only-of-type {\n",
       "        vertical-align: middle;\n",
       "    }\n",
       "\n",
       "    .dataframe tbody tr th {\n",
       "        vertical-align: top;\n",
       "    }\n",
       "\n",
       "    .dataframe thead th {\n",
       "        text-align: right;\n",
       "    }\n",
       "</style>\n",
       "<table border=\"1\" class=\"dataframe\">\n",
       "  <thead>\n",
       "    <tr style=\"text-align: right;\">\n",
       "      <th></th>\n",
       "      <th>user_id</th>\n",
       "      <th>first_date</th>\n",
       "      <th>region</th>\n",
       "      <th>device</th>\n",
       "      <th>event_dt</th>\n",
       "      <th>event_name</th>\n",
       "      <th>details</th>\n",
       "      <th>group</th>\n",
       "      <th>ab_test</th>\n",
       "    </tr>\n",
       "  </thead>\n",
       "  <tbody>\n",
       "    <tr>\n",
       "      <th>0</th>\n",
       "      <td>D72A72121175D8BE</td>\n",
       "      <td>2020-12-07</td>\n",
       "      <td>EU</td>\n",
       "      <td>PC</td>\n",
       "      <td>2020-12-07</td>\n",
       "      <td>product_page</td>\n",
       "      <td>NaN</td>\n",
       "      <td>A</td>\n",
       "      <td>recommender_system_test</td>\n",
       "    </tr>\n",
       "    <tr>\n",
       "      <th>1</th>\n",
       "      <td>D72A72121175D8BE</td>\n",
       "      <td>2020-12-07</td>\n",
       "      <td>EU</td>\n",
       "      <td>PC</td>\n",
       "      <td>2020-12-07</td>\n",
       "      <td>login</td>\n",
       "      <td>NaN</td>\n",
       "      <td>A</td>\n",
       "      <td>recommender_system_test</td>\n",
       "    </tr>\n",
       "    <tr>\n",
       "      <th>2</th>\n",
       "      <td>831887FE7F2D6CBA</td>\n",
       "      <td>2020-12-07</td>\n",
       "      <td>EU</td>\n",
       "      <td>Android</td>\n",
       "      <td>2020-12-07</td>\n",
       "      <td>purchase</td>\n",
       "      <td>4.99</td>\n",
       "      <td>A</td>\n",
       "      <td>recommender_system_test</td>\n",
       "    </tr>\n",
       "    <tr>\n",
       "      <th>3</th>\n",
       "      <td>831887FE7F2D6CBA</td>\n",
       "      <td>2020-12-07</td>\n",
       "      <td>EU</td>\n",
       "      <td>Android</td>\n",
       "      <td>2020-12-09</td>\n",
       "      <td>purchase</td>\n",
       "      <td>99.99</td>\n",
       "      <td>A</td>\n",
       "      <td>recommender_system_test</td>\n",
       "    </tr>\n",
       "    <tr>\n",
       "      <th>4</th>\n",
       "      <td>831887FE7F2D6CBA</td>\n",
       "      <td>2020-12-07</td>\n",
       "      <td>EU</td>\n",
       "      <td>Android</td>\n",
       "      <td>2020-12-07</td>\n",
       "      <td>product_cart</td>\n",
       "      <td>NaN</td>\n",
       "      <td>A</td>\n",
       "      <td>recommender_system_test</td>\n",
       "    </tr>\n",
       "    <tr>\n",
       "      <th>...</th>\n",
       "      <td>...</td>\n",
       "      <td>...</td>\n",
       "      <td>...</td>\n",
       "      <td>...</td>\n",
       "      <td>...</td>\n",
       "      <td>...</td>\n",
       "      <td>...</td>\n",
       "      <td>...</td>\n",
       "      <td>...</td>\n",
       "    </tr>\n",
       "    <tr>\n",
       "      <th>21110</th>\n",
       "      <td>0416B34D35C8C8B8</td>\n",
       "      <td>2020-12-20</td>\n",
       "      <td>EU</td>\n",
       "      <td>Android</td>\n",
       "      <td>2020-12-24</td>\n",
       "      <td>product_page</td>\n",
       "      <td>NaN</td>\n",
       "      <td>A</td>\n",
       "      <td>recommender_system_test</td>\n",
       "    </tr>\n",
       "    <tr>\n",
       "      <th>21111</th>\n",
       "      <td>0416B34D35C8C8B8</td>\n",
       "      <td>2020-12-20</td>\n",
       "      <td>EU</td>\n",
       "      <td>Android</td>\n",
       "      <td>2020-12-20</td>\n",
       "      <td>login</td>\n",
       "      <td>NaN</td>\n",
       "      <td>A</td>\n",
       "      <td>recommender_system_test</td>\n",
       "    </tr>\n",
       "    <tr>\n",
       "      <th>21112</th>\n",
       "      <td>0416B34D35C8C8B8</td>\n",
       "      <td>2020-12-20</td>\n",
       "      <td>EU</td>\n",
       "      <td>Android</td>\n",
       "      <td>2020-12-21</td>\n",
       "      <td>login</td>\n",
       "      <td>NaN</td>\n",
       "      <td>A</td>\n",
       "      <td>recommender_system_test</td>\n",
       "    </tr>\n",
       "    <tr>\n",
       "      <th>21113</th>\n",
       "      <td>0416B34D35C8C8B8</td>\n",
       "      <td>2020-12-20</td>\n",
       "      <td>EU</td>\n",
       "      <td>Android</td>\n",
       "      <td>2020-12-24</td>\n",
       "      <td>login</td>\n",
       "      <td>NaN</td>\n",
       "      <td>A</td>\n",
       "      <td>recommender_system_test</td>\n",
       "    </tr>\n",
       "    <tr>\n",
       "      <th>21114</th>\n",
       "      <td>89CB0BFBC3F35126</td>\n",
       "      <td>2020-12-20</td>\n",
       "      <td>EU</td>\n",
       "      <td>PC</td>\n",
       "      <td>NaT</td>\n",
       "      <td>NaN</td>\n",
       "      <td>NaN</td>\n",
       "      <td>B</td>\n",
       "      <td>recommender_system_test</td>\n",
       "    </tr>\n",
       "  </tbody>\n",
       "</table>\n",
       "<p>21115 rows × 9 columns</p>\n",
       "</div>"
      ],
      "text/plain": [
       "                user_id first_date region   device   event_dt    event_name  \\\n",
       "0      D72A72121175D8BE 2020-12-07     EU       PC 2020-12-07  product_page   \n",
       "1      D72A72121175D8BE 2020-12-07     EU       PC 2020-12-07         login   \n",
       "2      831887FE7F2D6CBA 2020-12-07     EU  Android 2020-12-07      purchase   \n",
       "3      831887FE7F2D6CBA 2020-12-07     EU  Android 2020-12-09      purchase   \n",
       "4      831887FE7F2D6CBA 2020-12-07     EU  Android 2020-12-07  product_cart   \n",
       "...                 ...        ...    ...      ...        ...           ...   \n",
       "21110  0416B34D35C8C8B8 2020-12-20     EU  Android 2020-12-24  product_page   \n",
       "21111  0416B34D35C8C8B8 2020-12-20     EU  Android 2020-12-20         login   \n",
       "21112  0416B34D35C8C8B8 2020-12-20     EU  Android 2020-12-21         login   \n",
       "21113  0416B34D35C8C8B8 2020-12-20     EU  Android 2020-12-24         login   \n",
       "21114  89CB0BFBC3F35126 2020-12-20     EU       PC        NaT           NaN   \n",
       "\n",
       "       details group                  ab_test  \n",
       "0          NaN     A  recommender_system_test  \n",
       "1          NaN     A  recommender_system_test  \n",
       "2         4.99     A  recommender_system_test  \n",
       "3        99.99     A  recommender_system_test  \n",
       "4          NaN     A  recommender_system_test  \n",
       "...        ...   ...                      ...  \n",
       "21110      NaN     A  recommender_system_test  \n",
       "21111      NaN     A  recommender_system_test  \n",
       "21112      NaN     A  recommender_system_test  \n",
       "21113      NaN     A  recommender_system_test  \n",
       "21114      NaN     B  recommender_system_test  \n",
       "\n",
       "[21115 rows x 9 columns]"
      ]
     },
     "execution_count": 17,
     "metadata": {},
     "output_type": "execute_result"
    }
   ],
   "source": [
    "# Создаем один объединенный датафрейм\n",
    "df = (new_users_rst\n",
    "      .merge(events, how='left', left_on='user_id', right_on='user_id')\n",
    "      .merge(participants, how='left', left_on='user_id', right_on='user_id')\n",
    "     )\n",
    "\n",
    "# Выведем рез-т\n",
    "df"
   ]
  },
  {
   "cell_type": "markdown",
   "metadata": {},
   "source": [
    "Мы видим, что у некоторых пользователей нет данных по совершаемым событиям, отфильтруем данные и посмотрим сколько таких строк"
   ]
  },
  {
   "cell_type": "code",
   "execution_count": 18,
   "metadata": {
    "scrolled": true
   },
   "outputs": [
    {
     "data": {
      "text/html": [
       "<div>\n",
       "<style scoped>\n",
       "    .dataframe tbody tr th:only-of-type {\n",
       "        vertical-align: middle;\n",
       "    }\n",
       "\n",
       "    .dataframe tbody tr th {\n",
       "        vertical-align: top;\n",
       "    }\n",
       "\n",
       "    .dataframe thead th {\n",
       "        text-align: right;\n",
       "    }\n",
       "</style>\n",
       "<table border=\"1\" class=\"dataframe\">\n",
       "  <thead>\n",
       "    <tr style=\"text-align: right;\">\n",
       "      <th></th>\n",
       "      <th>user_id</th>\n",
       "      <th>first_date</th>\n",
       "      <th>region</th>\n",
       "      <th>device</th>\n",
       "      <th>event_dt</th>\n",
       "      <th>event_name</th>\n",
       "      <th>details</th>\n",
       "      <th>group</th>\n",
       "      <th>ab_test</th>\n",
       "    </tr>\n",
       "  </thead>\n",
       "  <tbody>\n",
       "    <tr>\n",
       "      <th>37</th>\n",
       "      <td>16C69ED14DA9F4A8</td>\n",
       "      <td>2020-12-07</td>\n",
       "      <td>EU</td>\n",
       "      <td>PC</td>\n",
       "      <td>NaT</td>\n",
       "      <td>NaN</td>\n",
       "      <td>NaN</td>\n",
       "      <td>B</td>\n",
       "      <td>recommender_system_test</td>\n",
       "    </tr>\n",
       "    <tr>\n",
       "      <th>41</th>\n",
       "      <td>2420EA89BB4BB0EA</td>\n",
       "      <td>2020-12-07</td>\n",
       "      <td>EU</td>\n",
       "      <td>iPhone</td>\n",
       "      <td>NaT</td>\n",
       "      <td>NaN</td>\n",
       "      <td>NaN</td>\n",
       "      <td>A</td>\n",
       "      <td>recommender_system_test</td>\n",
       "    </tr>\n",
       "    <tr>\n",
       "      <th>42</th>\n",
       "      <td>4D851A41ECF4440F</td>\n",
       "      <td>2020-12-07</td>\n",
       "      <td>EU</td>\n",
       "      <td>Android</td>\n",
       "      <td>NaT</td>\n",
       "      <td>NaN</td>\n",
       "      <td>NaN</td>\n",
       "      <td>B</td>\n",
       "      <td>recommender_system_test</td>\n",
       "    </tr>\n",
       "    <tr>\n",
       "      <th>82</th>\n",
       "      <td>8EB0C7622C73BBA3</td>\n",
       "      <td>2020-12-07</td>\n",
       "      <td>EU</td>\n",
       "      <td>Android</td>\n",
       "      <td>NaT</td>\n",
       "      <td>NaN</td>\n",
       "      <td>NaN</td>\n",
       "      <td>A</td>\n",
       "      <td>recommender_system_test</td>\n",
       "    </tr>\n",
       "    <tr>\n",
       "      <th>98</th>\n",
       "      <td>CC4AB3D82E6B0C22</td>\n",
       "      <td>2020-12-07</td>\n",
       "      <td>EU</td>\n",
       "      <td>PC</td>\n",
       "      <td>NaT</td>\n",
       "      <td>NaN</td>\n",
       "      <td>NaN</td>\n",
       "      <td>A</td>\n",
       "      <td>recommender_system_test</td>\n",
       "    </tr>\n",
       "    <tr>\n",
       "      <th>...</th>\n",
       "      <td>...</td>\n",
       "      <td>...</td>\n",
       "      <td>...</td>\n",
       "      <td>...</td>\n",
       "      <td>...</td>\n",
       "      <td>...</td>\n",
       "      <td>...</td>\n",
       "      <td>...</td>\n",
       "      <td>...</td>\n",
       "    </tr>\n",
       "    <tr>\n",
       "      <th>21027</th>\n",
       "      <td>7EA72BCB46012967</td>\n",
       "      <td>2020-12-20</td>\n",
       "      <td>EU</td>\n",
       "      <td>iPhone</td>\n",
       "      <td>NaT</td>\n",
       "      <td>NaN</td>\n",
       "      <td>NaN</td>\n",
       "      <td>B</td>\n",
       "      <td>recommender_system_test</td>\n",
       "    </tr>\n",
       "    <tr>\n",
       "      <th>21041</th>\n",
       "      <td>1942FB76074AA16F</td>\n",
       "      <td>2020-12-20</td>\n",
       "      <td>EU</td>\n",
       "      <td>PC</td>\n",
       "      <td>NaT</td>\n",
       "      <td>NaN</td>\n",
       "      <td>NaN</td>\n",
       "      <td>B</td>\n",
       "      <td>recommender_system_test</td>\n",
       "    </tr>\n",
       "    <tr>\n",
       "      <th>21042</th>\n",
       "      <td>6670B7F8E44E51A9</td>\n",
       "      <td>2020-12-20</td>\n",
       "      <td>EU</td>\n",
       "      <td>Android</td>\n",
       "      <td>NaT</td>\n",
       "      <td>NaN</td>\n",
       "      <td>NaN</td>\n",
       "      <td>B</td>\n",
       "      <td>recommender_system_test</td>\n",
       "    </tr>\n",
       "    <tr>\n",
       "      <th>21081</th>\n",
       "      <td>FB99C8676FAF89A7</td>\n",
       "      <td>2020-12-20</td>\n",
       "      <td>EU</td>\n",
       "      <td>PC</td>\n",
       "      <td>NaT</td>\n",
       "      <td>NaN</td>\n",
       "      <td>NaN</td>\n",
       "      <td>B</td>\n",
       "      <td>recommender_system_test</td>\n",
       "    </tr>\n",
       "    <tr>\n",
       "      <th>21114</th>\n",
       "      <td>89CB0BFBC3F35126</td>\n",
       "      <td>2020-12-20</td>\n",
       "      <td>EU</td>\n",
       "      <td>PC</td>\n",
       "      <td>NaT</td>\n",
       "      <td>NaN</td>\n",
       "      <td>NaN</td>\n",
       "      <td>B</td>\n",
       "      <td>recommender_system_test</td>\n",
       "    </tr>\n",
       "  </tbody>\n",
       "</table>\n",
       "<p>2311 rows × 9 columns</p>\n",
       "</div>"
      ],
      "text/plain": [
       "                user_id first_date region   device event_dt event_name  \\\n",
       "37     16C69ED14DA9F4A8 2020-12-07     EU       PC      NaT        NaN   \n",
       "41     2420EA89BB4BB0EA 2020-12-07     EU   iPhone      NaT        NaN   \n",
       "42     4D851A41ECF4440F 2020-12-07     EU  Android      NaT        NaN   \n",
       "82     8EB0C7622C73BBA3 2020-12-07     EU  Android      NaT        NaN   \n",
       "98     CC4AB3D82E6B0C22 2020-12-07     EU       PC      NaT        NaN   \n",
       "...                 ...        ...    ...      ...      ...        ...   \n",
       "21027  7EA72BCB46012967 2020-12-20     EU   iPhone      NaT        NaN   \n",
       "21041  1942FB76074AA16F 2020-12-20     EU       PC      NaT        NaN   \n",
       "21042  6670B7F8E44E51A9 2020-12-20     EU  Android      NaT        NaN   \n",
       "21081  FB99C8676FAF89A7 2020-12-20     EU       PC      NaT        NaN   \n",
       "21114  89CB0BFBC3F35126 2020-12-20     EU       PC      NaT        NaN   \n",
       "\n",
       "       details group                  ab_test  \n",
       "37         NaN     B  recommender_system_test  \n",
       "41         NaN     A  recommender_system_test  \n",
       "42         NaN     B  recommender_system_test  \n",
       "82         NaN     A  recommender_system_test  \n",
       "98         NaN     A  recommender_system_test  \n",
       "...        ...   ...                      ...  \n",
       "21027      NaN     B  recommender_system_test  \n",
       "21041      NaN     B  recommender_system_test  \n",
       "21042      NaN     B  recommender_system_test  \n",
       "21081      NaN     B  recommender_system_test  \n",
       "21114      NaN     B  recommender_system_test  \n",
       "\n",
       "[2311 rows x 9 columns]"
      ]
     },
     "execution_count": 18,
     "metadata": {},
     "output_type": "execute_result"
    }
   ],
   "source": [
    "# Смотрим на эти пропуски\n",
    "df[df.event_dt.isna()]"
   ]
  },
  {
   "cell_type": "markdown",
   "metadata": {},
   "source": [
    "Посчитаем кол-во действий, которые совершали данные юзеры"
   ]
  },
  {
   "cell_type": "code",
   "execution_count": 19,
   "metadata": {},
   "outputs": [
    {
     "data": {
      "text/html": [
       "<div>\n",
       "<style scoped>\n",
       "    .dataframe tbody tr th:only-of-type {\n",
       "        vertical-align: middle;\n",
       "    }\n",
       "\n",
       "    .dataframe tbody tr th {\n",
       "        vertical-align: top;\n",
       "    }\n",
       "\n",
       "    .dataframe thead th {\n",
       "        text-align: right;\n",
       "    }\n",
       "</style>\n",
       "<table border=\"1\" class=\"dataframe\">\n",
       "  <thead>\n",
       "    <tr style=\"text-align: right;\">\n",
       "      <th></th>\n",
       "      <th>user_id</th>\n",
       "      <th>first_date</th>\n",
       "    </tr>\n",
       "  </thead>\n",
       "  <tbody>\n",
       "    <tr>\n",
       "      <th>0</th>\n",
       "      <td>000ABE35EE11412F</td>\n",
       "      <td>1</td>\n",
       "    </tr>\n",
       "    <tr>\n",
       "      <th>1</th>\n",
       "      <td>001C05E87D336C59</td>\n",
       "      <td>1</td>\n",
       "    </tr>\n",
       "    <tr>\n",
       "      <th>2</th>\n",
       "      <td>006D4BE0C4EA616F</td>\n",
       "      <td>1</td>\n",
       "    </tr>\n",
       "    <tr>\n",
       "      <th>3</th>\n",
       "      <td>007B7DE3A2E44050</td>\n",
       "      <td>1</td>\n",
       "    </tr>\n",
       "    <tr>\n",
       "      <th>4</th>\n",
       "      <td>0080F3BC48BBC85E</td>\n",
       "      <td>1</td>\n",
       "    </tr>\n",
       "    <tr>\n",
       "      <th>...</th>\n",
       "      <td>...</td>\n",
       "      <td>...</td>\n",
       "    </tr>\n",
       "    <tr>\n",
       "      <th>2306</th>\n",
       "      <td>FF547172851FB1EE</td>\n",
       "      <td>1</td>\n",
       "    </tr>\n",
       "    <tr>\n",
       "      <th>2307</th>\n",
       "      <td>FF6B409A73E7B239</td>\n",
       "      <td>1</td>\n",
       "    </tr>\n",
       "    <tr>\n",
       "      <th>2308</th>\n",
       "      <td>FFB3F647898BA928</td>\n",
       "      <td>1</td>\n",
       "    </tr>\n",
       "    <tr>\n",
       "      <th>2309</th>\n",
       "      <td>FFC2C5F898D1245B</td>\n",
       "      <td>1</td>\n",
       "    </tr>\n",
       "    <tr>\n",
       "      <th>2310</th>\n",
       "      <td>FFE858A7845F005E</td>\n",
       "      <td>1</td>\n",
       "    </tr>\n",
       "  </tbody>\n",
       "</table>\n",
       "<p>2311 rows × 2 columns</p>\n",
       "</div>"
      ],
      "text/plain": [
       "               user_id  first_date\n",
       "0     000ABE35EE11412F           1\n",
       "1     001C05E87D336C59           1\n",
       "2     006D4BE0C4EA616F           1\n",
       "3     007B7DE3A2E44050           1\n",
       "4     0080F3BC48BBC85E           1\n",
       "...                ...         ...\n",
       "2306  FF547172851FB1EE           1\n",
       "2307  FF6B409A73E7B239           1\n",
       "2308  FFB3F647898BA928           1\n",
       "2309  FFC2C5F898D1245B           1\n",
       "2310  FFE858A7845F005E           1\n",
       "\n",
       "[2311 rows x 2 columns]"
      ]
     },
     "execution_count": 19,
     "metadata": {},
     "output_type": "execute_result"
    }
   ],
   "source": [
    "# Считаем кол-во событий у этих пол-телей\n",
    "df[df.event_dt.isna()].groupby('user_id',as_index=False)['first_date'].count()"
   ]
  },
  {
   "cell_type": "markdown",
   "metadata": {},
   "source": [
    "Мы видим, что абсолютно все эти юзеры по факту совершили только одно действие и скорее всего это просто регистрация. Пользователи могли быть зарегистрированы по заявке или в рамках какой-то кампании и больше вообще никак не взаимодействовать с сайтом, мы не можем точно ответить на этот вопрос, но должны их учитывать при построении воронки событий (иначе отпадут еще `2311` юзеров при ее построении).\n",
    "\n",
    "Поэтому для каждого такого пользователя в колонку с `event_dt` будет соотвествовать дата из колонки `first_date`, что будет означать как событие регистрации. "
   ]
  },
  {
   "cell_type": "code",
   "execution_count": 20,
   "metadata": {},
   "outputs": [],
   "source": [
    "# Заполняем пропуски\n",
    "df['event_dt'] = df['event_dt'].fillna(df['first_date'])"
   ]
  },
  {
   "cell_type": "code",
   "execution_count": 21,
   "metadata": {},
   "outputs": [
    {
     "data": {
      "text/html": [
       "<div>\n",
       "<style scoped>\n",
       "    .dataframe tbody tr th:only-of-type {\n",
       "        vertical-align: middle;\n",
       "    }\n",
       "\n",
       "    .dataframe tbody tr th {\n",
       "        vertical-align: top;\n",
       "    }\n",
       "\n",
       "    .dataframe thead th {\n",
       "        text-align: right;\n",
       "    }\n",
       "</style>\n",
       "<table border=\"1\" class=\"dataframe\">\n",
       "  <thead>\n",
       "    <tr style=\"text-align: right;\">\n",
       "      <th></th>\n",
       "      <th>user_id</th>\n",
       "      <th>first_date</th>\n",
       "      <th>region</th>\n",
       "      <th>device</th>\n",
       "      <th>event_dt</th>\n",
       "      <th>event_name</th>\n",
       "      <th>details</th>\n",
       "      <th>group</th>\n",
       "      <th>ab_test</th>\n",
       "      <th>lifetime</th>\n",
       "    </tr>\n",
       "  </thead>\n",
       "  <tbody>\n",
       "    <tr>\n",
       "      <th>0</th>\n",
       "      <td>D72A72121175D8BE</td>\n",
       "      <td>2020-12-07</td>\n",
       "      <td>EU</td>\n",
       "      <td>PC</td>\n",
       "      <td>2020-12-07</td>\n",
       "      <td>product_page</td>\n",
       "      <td>NaN</td>\n",
       "      <td>A</td>\n",
       "      <td>recommender_system_test</td>\n",
       "      <td>0</td>\n",
       "    </tr>\n",
       "    <tr>\n",
       "      <th>1</th>\n",
       "      <td>D72A72121175D8BE</td>\n",
       "      <td>2020-12-07</td>\n",
       "      <td>EU</td>\n",
       "      <td>PC</td>\n",
       "      <td>2020-12-07</td>\n",
       "      <td>login</td>\n",
       "      <td>NaN</td>\n",
       "      <td>A</td>\n",
       "      <td>recommender_system_test</td>\n",
       "      <td>0</td>\n",
       "    </tr>\n",
       "    <tr>\n",
       "      <th>2</th>\n",
       "      <td>831887FE7F2D6CBA</td>\n",
       "      <td>2020-12-07</td>\n",
       "      <td>EU</td>\n",
       "      <td>Android</td>\n",
       "      <td>2020-12-07</td>\n",
       "      <td>purchase</td>\n",
       "      <td>4.99</td>\n",
       "      <td>A</td>\n",
       "      <td>recommender_system_test</td>\n",
       "      <td>0</td>\n",
       "    </tr>\n",
       "    <tr>\n",
       "      <th>3</th>\n",
       "      <td>831887FE7F2D6CBA</td>\n",
       "      <td>2020-12-07</td>\n",
       "      <td>EU</td>\n",
       "      <td>Android</td>\n",
       "      <td>2020-12-09</td>\n",
       "      <td>purchase</td>\n",
       "      <td>99.99</td>\n",
       "      <td>A</td>\n",
       "      <td>recommender_system_test</td>\n",
       "      <td>2</td>\n",
       "    </tr>\n",
       "    <tr>\n",
       "      <th>4</th>\n",
       "      <td>831887FE7F2D6CBA</td>\n",
       "      <td>2020-12-07</td>\n",
       "      <td>EU</td>\n",
       "      <td>Android</td>\n",
       "      <td>2020-12-07</td>\n",
       "      <td>product_cart</td>\n",
       "      <td>NaN</td>\n",
       "      <td>A</td>\n",
       "      <td>recommender_system_test</td>\n",
       "      <td>0</td>\n",
       "    </tr>\n",
       "    <tr>\n",
       "      <th>...</th>\n",
       "      <td>...</td>\n",
       "      <td>...</td>\n",
       "      <td>...</td>\n",
       "      <td>...</td>\n",
       "      <td>...</td>\n",
       "      <td>...</td>\n",
       "      <td>...</td>\n",
       "      <td>...</td>\n",
       "      <td>...</td>\n",
       "      <td>...</td>\n",
       "    </tr>\n",
       "    <tr>\n",
       "      <th>21110</th>\n",
       "      <td>0416B34D35C8C8B8</td>\n",
       "      <td>2020-12-20</td>\n",
       "      <td>EU</td>\n",
       "      <td>Android</td>\n",
       "      <td>2020-12-24</td>\n",
       "      <td>product_page</td>\n",
       "      <td>NaN</td>\n",
       "      <td>A</td>\n",
       "      <td>recommender_system_test</td>\n",
       "      <td>4</td>\n",
       "    </tr>\n",
       "    <tr>\n",
       "      <th>21111</th>\n",
       "      <td>0416B34D35C8C8B8</td>\n",
       "      <td>2020-12-20</td>\n",
       "      <td>EU</td>\n",
       "      <td>Android</td>\n",
       "      <td>2020-12-20</td>\n",
       "      <td>login</td>\n",
       "      <td>NaN</td>\n",
       "      <td>A</td>\n",
       "      <td>recommender_system_test</td>\n",
       "      <td>0</td>\n",
       "    </tr>\n",
       "    <tr>\n",
       "      <th>21112</th>\n",
       "      <td>0416B34D35C8C8B8</td>\n",
       "      <td>2020-12-20</td>\n",
       "      <td>EU</td>\n",
       "      <td>Android</td>\n",
       "      <td>2020-12-21</td>\n",
       "      <td>login</td>\n",
       "      <td>NaN</td>\n",
       "      <td>A</td>\n",
       "      <td>recommender_system_test</td>\n",
       "      <td>1</td>\n",
       "    </tr>\n",
       "    <tr>\n",
       "      <th>21113</th>\n",
       "      <td>0416B34D35C8C8B8</td>\n",
       "      <td>2020-12-20</td>\n",
       "      <td>EU</td>\n",
       "      <td>Android</td>\n",
       "      <td>2020-12-24</td>\n",
       "      <td>login</td>\n",
       "      <td>NaN</td>\n",
       "      <td>A</td>\n",
       "      <td>recommender_system_test</td>\n",
       "      <td>4</td>\n",
       "    </tr>\n",
       "    <tr>\n",
       "      <th>21114</th>\n",
       "      <td>89CB0BFBC3F35126</td>\n",
       "      <td>2020-12-20</td>\n",
       "      <td>EU</td>\n",
       "      <td>PC</td>\n",
       "      <td>2020-12-20</td>\n",
       "      <td>NaN</td>\n",
       "      <td>NaN</td>\n",
       "      <td>B</td>\n",
       "      <td>recommender_system_test</td>\n",
       "      <td>0</td>\n",
       "    </tr>\n",
       "  </tbody>\n",
       "</table>\n",
       "<p>20640 rows × 10 columns</p>\n",
       "</div>"
      ],
      "text/plain": [
       "                user_id first_date region   device   event_dt    event_name  \\\n",
       "0      D72A72121175D8BE 2020-12-07     EU       PC 2020-12-07  product_page   \n",
       "1      D72A72121175D8BE 2020-12-07     EU       PC 2020-12-07         login   \n",
       "2      831887FE7F2D6CBA 2020-12-07     EU  Android 2020-12-07      purchase   \n",
       "3      831887FE7F2D6CBA 2020-12-07     EU  Android 2020-12-09      purchase   \n",
       "4      831887FE7F2D6CBA 2020-12-07     EU  Android 2020-12-07  product_cart   \n",
       "...                 ...        ...    ...      ...        ...           ...   \n",
       "21110  0416B34D35C8C8B8 2020-12-20     EU  Android 2020-12-24  product_page   \n",
       "21111  0416B34D35C8C8B8 2020-12-20     EU  Android 2020-12-20         login   \n",
       "21112  0416B34D35C8C8B8 2020-12-20     EU  Android 2020-12-21         login   \n",
       "21113  0416B34D35C8C8B8 2020-12-20     EU  Android 2020-12-24         login   \n",
       "21114  89CB0BFBC3F35126 2020-12-20     EU       PC 2020-12-20           NaN   \n",
       "\n",
       "       details group                  ab_test  lifetime  \n",
       "0          NaN     A  recommender_system_test         0  \n",
       "1          NaN     A  recommender_system_test         0  \n",
       "2         4.99     A  recommender_system_test         0  \n",
       "3        99.99     A  recommender_system_test         2  \n",
       "4          NaN     A  recommender_system_test         0  \n",
       "...        ...   ...                      ...       ...  \n",
       "21110      NaN     A  recommender_system_test         4  \n",
       "21111      NaN     A  recommender_system_test         0  \n",
       "21112      NaN     A  recommender_system_test         1  \n",
       "21113      NaN     A  recommender_system_test         4  \n",
       "21114      NaN     B  recommender_system_test         0  \n",
       "\n",
       "[20640 rows x 10 columns]"
      ]
     },
     "execution_count": 21,
     "metadata": {},
     "output_type": "execute_result"
    }
   ],
   "source": [
    "# Считаем лайфтам для каждого события и оставляем только те, которые не превышают 14 дней\n",
    "df['lifetime'] = (df['event_dt'] - df['first_date']).dt.days\n",
    "df = df.query('lifetime <= 14')\n",
    "\n",
    "# Посмотрим, что осталось в итоге\n",
    "df"
   ]
  },
  {
   "cell_type": "markdown",
   "metadata": {},
   "source": [
    "Далее проверим проводились ли какие-либо маркетинговые активновсти в период проведения теста."
   ]
  },
  {
   "cell_type": "code",
   "execution_count": 22,
   "metadata": {},
   "outputs": [
    {
     "data": {
      "text/html": [
       "<div>\n",
       "<style scoped>\n",
       "    .dataframe tbody tr th:only-of-type {\n",
       "        vertical-align: middle;\n",
       "    }\n",
       "\n",
       "    .dataframe tbody tr th {\n",
       "        vertical-align: top;\n",
       "    }\n",
       "\n",
       "    .dataframe thead th {\n",
       "        text-align: right;\n",
       "    }\n",
       "</style>\n",
       "<table border=\"1\" class=\"dataframe\">\n",
       "  <thead>\n",
       "    <tr style=\"text-align: right;\">\n",
       "      <th></th>\n",
       "      <th>name</th>\n",
       "      <th>regions</th>\n",
       "      <th>start_dt</th>\n",
       "      <th>finish_dt</th>\n",
       "    </tr>\n",
       "  </thead>\n",
       "  <tbody>\n",
       "    <tr>\n",
       "      <th>0</th>\n",
       "      <td>Christmas&amp;New Year Promo</td>\n",
       "      <td>EU, N.America</td>\n",
       "      <td>2020-12-25</td>\n",
       "      <td>2021-01-03</td>\n",
       "    </tr>\n",
       "  </tbody>\n",
       "</table>\n",
       "</div>"
      ],
      "text/plain": [
       "                       name        regions   start_dt  finish_dt\n",
       "0  Christmas&New Year Promo  EU, N.America 2020-12-25 2021-01-03"
      ]
     },
     "execution_count": 22,
     "metadata": {},
     "output_type": "execute_result"
    }
   ],
   "source": [
    "marketing_events.query('start_dt >= \"2020-12-07\" and finish_dt <= \"2021-01-04\"')"
   ]
  },
  {
   "cell_type": "markdown",
   "metadata": {},
   "source": [
    "Мы можем наблюдать, что с `2020-12-25` по `2021-01-03` проводится маркетинговая кампания `Christmas&New Year Promo`, которая связана с Новым Годом и Рождеством. \n",
    "\n",
    "Опять-таки, это может сказаться на поведении пользователей в этот период и не дать однозначного ответа, что конкретно повлияло на совершение действий в этот период, но мы уже и так отсеяли большое кол-во пользователей.\n",
    "\n",
    "Поэтому оценим реальную небходимость удаления пользователей, зарегистрировавшихся в начало и после промоакции. "
   ]
  },
  {
   "cell_type": "code",
   "execution_count": 23,
   "metadata": {
    "scrolled": true
   },
   "outputs": [
    {
     "data": {
      "text/html": [
       "<div>\n",
       "<style scoped>\n",
       "    .dataframe tbody tr th:only-of-type {\n",
       "        vertical-align: middle;\n",
       "    }\n",
       "\n",
       "    .dataframe tbody tr th {\n",
       "        vertical-align: top;\n",
       "    }\n",
       "\n",
       "    .dataframe thead th {\n",
       "        text-align: right;\n",
       "    }\n",
       "</style>\n",
       "<table border=\"1\" class=\"dataframe\">\n",
       "  <thead>\n",
       "    <tr style=\"text-align: right;\">\n",
       "      <th></th>\n",
       "      <th>group</th>\n",
       "      <th>users_num</th>\n",
       "      <th>events_num</th>\n",
       "    </tr>\n",
       "  </thead>\n",
       "  <tbody>\n",
       "    <tr>\n",
       "      <th>0</th>\n",
       "      <td>A</td>\n",
       "      <td>661</td>\n",
       "      <td>1879</td>\n",
       "    </tr>\n",
       "    <tr>\n",
       "      <th>1</th>\n",
       "      <td>B</td>\n",
       "      <td>114</td>\n",
       "      <td>258</td>\n",
       "    </tr>\n",
       "  </tbody>\n",
       "</table>\n",
       "</div>"
      ],
      "text/plain": [
       "  group  users_num  events_num\n",
       "0     A        661        1879\n",
       "1     B        114         258"
      ]
     },
     "metadata": {},
     "output_type": "display_data"
    },
    {
     "name": "stdout",
     "output_type": "stream",
     "text": [
      "Всего событий в пересечении с промо-периодом - 2137, что составляет 10.35% от всех событий за анализируемый период.\n"
     ]
    }
   ],
   "source": [
    "# Создадим датасет, который соотвествует периоду проведения промоакции\n",
    "df_promo = df.query('event_dt >= \"2020-12-25\"')\n",
    "\n",
    "# Посчитаем кол-во пользователей и событий в каждой группе за этот период\n",
    "promo_pivot = (df_promo\n",
    "               .groupby('group')\n",
    "               .agg({'user_id':'nunique',\n",
    "                     'event_name':'count'})\n",
    "               .rename(columns={'user_id':'users_num',\n",
    "                                'event_name':'events_num'})\n",
    "               .reset_index()\n",
    "              )\n",
    "\n",
    "# Выведем рез-т\n",
    "display(promo_pivot)\n",
    "\n",
    "# Посчитаем долю этих событий по отношению ко всему периоду и выведем рез-т\n",
    "promo_events_share = '{0:.2%}'.format(promo_pivot['events_num'].sum()/len(df))\n",
    "\n",
    "print(f'Всего событий в пересечении с промо-периодом - {promo_pivot[\"events_num\"].sum()}, \\\n",
    "что составляет {promo_events_share} от всех событий за анализируемый период.')"
   ]
  },
  {
   "cell_type": "markdown",
   "metadata": {},
   "source": [
    "Большая часть событий и пользователей в этот период приходится на контрольную `группу A` (более чем в **5 раз** превышает `группу B`) и доля этих событий от всех за анализируемый период составляет `10.35%`. Поэтому, будем считать влияние промо-периода на тест не столь значительным, как те критерии, что мы виделили ранее и оставим отфильтрованный нами датастет в том же виде."
   ]
  },
  {
   "cell_type": "markdown",
   "metadata": {},
   "source": [
    "## Проверка кол-ва участников теста и аудитории в 15% новых пользователей из EU"
   ]
  },
  {
   "cell_type": "code",
   "execution_count": 24,
   "metadata": {
    "scrolled": true
   },
   "outputs": [
    {
     "name": "stdout",
     "output_type": "stream",
     "text": [
      " Количество участников теста по исходным данным составляет - 6701 пользователя.\n",
      " Количество участников теста после фильтрации составляет - 5099 пользователя.\n"
     ]
    }
   ],
   "source": [
    "print(f' Количество участников теста по исходным данным составляет - {len(new_users.query(\"user_id in @list_users\"))} пользователя.')\n",
    "print(f' Количество участников теста после фильтрации составляет - {len(new_users_rst)} пользователя.')"
   ]
  },
  {
   "cell_type": "code",
   "execution_count": 25,
   "metadata": {},
   "outputs": [
    {
     "name": "stdout",
     "output_type": "stream",
     "text": [
      "Кол-во участников теста из EU по исходным данным - 6351,что составляет 13.7% новых юзеров из EU от необходимых 15% по ТЗ\n",
      "Кол-во участников теста из EU по отфильтрованным данным - 4749,что составляет 10.3% новых юзеров из EU от необходимых 15% по ТЗ\n"
     ]
    }
   ],
   "source": [
    "# Считаем кол-во новых пользователей и всего из EU по исходным и отфилтрованным данным\n",
    "eu_users = len(new_users.query('user_id in @list_users and region == \"EU\"'))\n",
    "new_eu_users = len(df.query('region == \"EU\"')['user_id'].unique())\n",
    "total_eu_users = len(new_users.query('region == \"EU\"'))\n",
    "\n",
    "# Считаем долю новых пользователей из EU по исходным и отфильтрованным данным\n",
    "eu_users_ratio =  \"{:.1%}\".format(eu_users/total_eu_users)\n",
    "new_eu_users_ratio =  \"{:.1%}\".format(new_eu_users/total_eu_users)\n",
    "\n",
    "# Выводим рез-т\n",
    "print(f'Кол-во участников теста из EU по исходным данным - {eu_users},что составляет {eu_users_ratio} \\\n",
    "новых юзеров из EU от необходимых 15% по ТЗ')\n",
    "\n",
    "print(f'Кол-во участников теста из EU по отфильтрованным данным - {new_eu_users},что составляет {new_eu_users_ratio} \\\n",
    "новых юзеров из EU от необходимых 15% по ТЗ')"
   ]
  },
  {
   "cell_type": "markdown",
   "metadata": {},
   "source": [
    "Мы видим, что условия ТЗ по кол-ву участников теста по исходным данным соответсвует заявленным `6000`, но процент новых пользователей из EU не достигает `15%`.\n",
    "\n",
    "По очищенными нами данными условия не соблюдаются, кол-во юзеров - `5099` ниже ожидаемых `6000`, и доля новых юзеров из EU составляет `10.3%` при необходимых `15%` (так как мы пытаемся получить более адекватные результаты теста, нами было принятно решение остановиться именно на этом варианте, по причинам описанным в разделах выше)"
   ]
  },
  {
   "cell_type": "markdown",
   "metadata": {},
   "source": [
    "# Исследовательский анализ данных"
   ]
  },
  {
   "cell_type": "markdown",
   "metadata": {},
   "source": [
    "## Распределение событий на пользователя в группах"
   ]
  },
  {
   "cell_type": "code",
   "execution_count": 26,
   "metadata": {},
   "outputs": [
    {
     "data": {
      "image/png": "[encoded data removed]",
      "text/plain": [
       "<Figure size 1440x720 with 1 Axes>"
      ]
     },
     "metadata": {
      "needs_background": "light"
     },
     "output_type": "display_data"
    }
   ],
   "source": [
    "# Подготовим данные для графика\n",
    "group_a_events = df.query('group==\"A\"').groupby('user_id', as_index=False)['event_dt'].count()\n",
    "group_b_events = df.query('group==\"B\"').groupby('user_id', as_index=False)['event_dt'].count()\n",
    "\n",
    "# Строим графики\n",
    "plt.rcParams[\"figure.figsize\"] = (20,10)\n",
    "ax = sns.histplot(group_a_events['event_dt'], color='orange', label='Группа A', alpha = 0.25, bins=15)\n",
    "ax = sns.histplot(group_b_events['event_dt'], color='lightgreen', label='Группа B', alpha = 0.5, bins=15)\n",
    "\n",
    "# Добавляем необходимые настройки\n",
    "ax.set_title('Распределение событий на пользователя в группах', fontsize=15)\n",
    "ax.set_xlabel('Кол-во событий', fontsize=12)\n",
    "ax.set_ylabel('Кол-во пользователей', fontsize=12)\n",
    "ax.legend()\n",
    "plt.show()"
   ]
  },
  {
   "cell_type": "markdown",
   "metadata": {},
   "source": [
    "- Чаще всего пользователи совершают только одной действие, что скорее всего явялется просто фактом регистрации (особенно заметно это в `группе B`). Возможной причиной является техническая ошибка при разбиение пользователей на группы.\n",
    "\n",
    "- В `группе A`, в целом совершили больше действий пользователи, так как изначально группы были поделены неравномерно;\n",
    "- Есть редкие случаи, когда пользователи в обеих группах, совершали более `15` действий."
   ]
  },
  {
   "cell_type": "markdown",
   "metadata": {},
   "source": [
    "## Распределение событий по дням в группах"
   ]
  },
  {
   "cell_type": "code",
   "execution_count": 27,
   "metadata": {
    "scrolled": false
   },
   "outputs": [
    {
     "data": {
      "image/png": "[encoded data removed]",
      "text/plain": [
       "<Figure size 1440x720 with 1 Axes>"
      ]
     },
     "metadata": {
      "needs_background": "light"
     },
     "output_type": "display_data"
    }
   ],
   "source": [
    "# Подготовим данные для графика\n",
    "group_day_events = df.pivot_table(index='event_dt', columns='group', values='user_id', aggfunc='count').reset_index()\n",
    "\n",
    "# Строим график\n",
    "fig, ax = plt.subplots(figsize=(20,10))\n",
    "ax.barh(group_day_events['event_dt'], group_day_events['A'], color='orange', label='Группа А', alpha=0.25)\n",
    "ax.barh(group_day_events['event_dt'], group_day_events['B'], color='lightgreen', label='Группа B', alpha=0.55)\n",
    "\n",
    "# Добавляем необходимые настройки\n",
    "ax.set_title('Распределение событий по дням в группах', fontsize=15)\n",
    "ax.set_ylabel('Дата', fontsize=12)\n",
    "ax.set_xlabel('Количество событий', fontsize=12)\n",
    "ax.legend()\n",
    "ax.set_yticks(group_day_events['event_dt'])\n",
    "plt.show()"
   ]
  },
  {
   "cell_type": "markdown",
   "metadata": {},
   "source": [
    "- Опять же, `группа A` совершает гораздо больше действий из-за неравномерности;\n",
    "- Пик в обеих группах приходится на `19-21 декабря`, возможно в это время был наибольший прирост новых пользователей (21 декабря прекращался набор новых пользователей), либо какие-то предновогодние причины."
   ]
  },
  {
   "cell_type": "markdown",
   "metadata": {},
   "source": [
    "## Изменение конверсии в группах на разных этапах"
   ]
  },
  {
   "cell_type": "code",
   "execution_count": 28,
   "metadata": {},
   "outputs": [],
   "source": [
    "# Создадим переменную с информацию по зарегистрированным пользователям в каждой группе\n",
    "registration_step = (df.groupby('group')\n",
    "                     .agg({'user_id':'nunique'})\n",
    "                     .rename(columns={'user_id':'users_num'})\n",
    "                     .reset_index())\n",
    "\n",
    "registration_step.insert(1, 'event_name', 'registration')\n",
    "\n",
    "# Создадим переменную с информацией по действиям  и кол-ву пол-лей, которых их совершили в разрезе группы\n",
    "agg_funnel = (df.groupby(['group','event_name'],as_index=False)['user_id']\n",
    "              .nunique()\n",
    "              .rename(columns={'user_id':'users_num'}))"
   ]
  },
  {
   "cell_type": "code",
   "execution_count": 29,
   "metadata": {},
   "outputs": [],
   "source": [
    "# Соединим созданные ранее таблицы и выстроим правильную последовательность для воронок\n",
    "\n",
    "# Для группы A\n",
    "funnel_a = (pd\n",
    "            .concat([registration_step.loc[0].to_frame().T, agg_funnel.loc[:3]])\n",
    "            .drop(columns='group')\n",
    "            .reset_index(drop=True)\n",
    "            .reindex([0,1,3,2,4])\n",
    "            .reset_index(drop=True)\n",
    "           )\n",
    "\n",
    "\n",
    "# Для группы B\n",
    "funnel_b = (pd\n",
    "            .concat([registration_step.loc[1].to_frame().T, agg_funnel.loc[4:]])\n",
    "            .drop(columns='group')\n",
    "            .reset_index(drop=True)\n",
    "            .reindex([0,1,3,2,4])\n",
    "            .reset_index(drop=True)\n",
    "           )"
   ]
  },
  {
   "cell_type": "code",
   "execution_count": 30,
   "metadata": {},
   "outputs": [],
   "source": [
    "# Ф-ция вычисляет долю пол-тей на текущем шаге относительно предыдущего и первого и возвращает дф\n",
    "def funnel_ratio(df,name):\n",
    "    \n",
    "    # Вычисляем долю пользователей на текущем шаге относительно предыдущего шага\n",
    "    df[f'share_of_previous_step_{name}'] = (df['users_num']/df['users_num'].shift(1,fill_value = df['users_num'].max())*100)\n",
    "    # Вычисляем долю пользователей на текущем шаге относительно первого шага\n",
    "    df[f'share_of_initial_step_{name}'] = (df['users_num']/df['users_num'].max()*100)\n",
    "    # Возвращаем датафрейм\n",
    "    return df"
   ]
  },
  {
   "cell_type": "code",
   "execution_count": 31,
   "metadata": {},
   "outputs": [],
   "source": [
    "# Создадим ф-цию, которая будет менять формат данных в процентный вид для заданных колонок и возвращать дф\n",
    "\n",
    "def percentage(df,columns=[]):\n",
    "    for col in columns:\n",
    "        df[col] = df[col].map('{0:.2f}%'.format)\n",
    "    return df"
   ]
  },
  {
   "cell_type": "code",
   "execution_count": 32,
   "metadata": {},
   "outputs": [],
   "source": [
    "# Сделаем необходимые расчеты для группы A\n",
    "\n",
    "funnel_a_ratio = funnel_ratio(funnel_a,'g_A')\n",
    "funnel_a_ratio = funnel_a_ratio.rename(columns={'users_num':'g_A'})"
   ]
  },
  {
   "cell_type": "code",
   "execution_count": 33,
   "metadata": {
    "scrolled": true
   },
   "outputs": [],
   "source": [
    "# Сделаем необходимые расчеты для группы B\n",
    "\n",
    "funnel_b_ratio = funnel_ratio(funnel_b,'g_B')\n",
    "funnel_b_ratio = funnel_b_ratio.rename(columns={'users_num':'g_B'})"
   ]
  },
  {
   "cell_type": "code",
   "execution_count": 34,
   "metadata": {
    "scrolled": true
   },
   "outputs": [
    {
     "data": {
      "text/html": [
       "<div>\n",
       "<style scoped>\n",
       "    .dataframe tbody tr th:only-of-type {\n",
       "        vertical-align: middle;\n",
       "    }\n",
       "\n",
       "    .dataframe tbody tr th {\n",
       "        vertical-align: top;\n",
       "    }\n",
       "\n",
       "    .dataframe thead th {\n",
       "        text-align: right;\n",
       "    }\n",
       "</style>\n",
       "<table border=\"1\" class=\"dataframe\">\n",
       "  <thead>\n",
       "    <tr style=\"text-align: right;\">\n",
       "      <th></th>\n",
       "      <th>event_name</th>\n",
       "      <th>g_A</th>\n",
       "      <th>g_B</th>\n",
       "      <th>share_of_previous_step_g_A</th>\n",
       "      <th>share_of_previous_step_g_B</th>\n",
       "      <th>B/A_conv_diff</th>\n",
       "    </tr>\n",
       "  </thead>\n",
       "  <tbody>\n",
       "    <tr>\n",
       "      <th>0</th>\n",
       "      <td>registration</td>\n",
       "      <td>2903</td>\n",
       "      <td>2196</td>\n",
       "      <td>100.00%</td>\n",
       "      <td>100.00%</td>\n",
       "      <td>0.00%</td>\n",
       "    </tr>\n",
       "    <tr>\n",
       "      <th>1</th>\n",
       "      <td>login</td>\n",
       "      <td>2082</td>\n",
       "      <td>705</td>\n",
       "      <td>71.72%</td>\n",
       "      <td>32.10%</td>\n",
       "      <td>-55.24%</td>\n",
       "    </tr>\n",
       "    <tr>\n",
       "      <th>2</th>\n",
       "      <td>product_page</td>\n",
       "      <td>1360</td>\n",
       "      <td>397</td>\n",
       "      <td>65.32%</td>\n",
       "      <td>56.31%</td>\n",
       "      <td>-13.79%</td>\n",
       "    </tr>\n",
       "    <tr>\n",
       "      <th>3</th>\n",
       "      <td>product_cart</td>\n",
       "      <td>631</td>\n",
       "      <td>195</td>\n",
       "      <td>46.40%</td>\n",
       "      <td>49.12%</td>\n",
       "      <td>5.87%</td>\n",
       "    </tr>\n",
       "    <tr>\n",
       "      <th>4</th>\n",
       "      <td>purchase</td>\n",
       "      <td>652</td>\n",
       "      <td>198</td>\n",
       "      <td>103.33%</td>\n",
       "      <td>101.54%</td>\n",
       "      <td>-1.73%</td>\n",
       "    </tr>\n",
       "  </tbody>\n",
       "</table>\n",
       "</div>"
      ],
      "text/plain": [
       "     event_name   g_A   g_B share_of_previous_step_g_A  \\\n",
       "0  registration  2903  2196                    100.00%   \n",
       "1         login  2082   705                     71.72%   \n",
       "2  product_page  1360   397                     65.32%   \n",
       "3  product_cart   631   195                     46.40%   \n",
       "4      purchase   652   198                    103.33%   \n",
       "\n",
       "  share_of_previous_step_g_B B/A_conv_diff  \n",
       "0                    100.00%         0.00%  \n",
       "1                     32.10%       -55.24%  \n",
       "2                     56.31%       -13.79%  \n",
       "3                     49.12%         5.87%  \n",
       "4                    101.54%        -1.73%  "
      ]
     },
     "execution_count": 34,
     "metadata": {},
     "output_type": "execute_result"
    }
   ],
   "source": [
    "# Объединим группы A и B\n",
    "funnel_ab_effect = (funnel_a_ratio[['event_name','g_A','share_of_previous_step_g_A']]\n",
    "                    .merge(funnel_b_ratio[['event_name','g_B','share_of_previous_step_g_B']])\n",
    "                   )\n",
    "\n",
    "# Рассчитаем прирост/убыток конверсии шага группы B по отношению к группе A\n",
    "funnel_ab_effect = funnel_ab_effect[['event_name','g_A','g_B','share_of_previous_step_g_A','share_of_previous_step_g_B']]\n",
    "funnel_ab_effect['B/A_conv_diff'] = 100*((funnel_ab_effect['share_of_previous_step_g_B'] \\\n",
    "                                          /funnel_ab_effect['share_of_previous_step_g_A'])-1)\n",
    "\n",
    "# Изменим формат данных для удобства и выведем рез-т\n",
    "funnel_ab_effect = percentage(funnel_ab_effect,columns=funnel_ab_effect.columns[3:])\n",
    "funnel_ab_effect"
   ]
  },
  {
   "cell_type": "markdown",
   "metadata": {},
   "source": [
    "Исходя из ТЗ, ожидаемым эффектом должно было быть изменение конверсии метрик `product_page` ,`product_cart` и `purchase` не менее чем на **10%** группы B к группе A, но мы видим только незначительный прирост в **5.87%** в конверсии по `product_cart`.\n",
    "\n",
    "Конверсия на шаге `purchase` более чем в **100%** может нам говорить о том, что пользователи могли пропускать шаг `product_cart` и сразу оформлять заказ.\n",
    "\n",
    "Опять же, ввиду многочисленных нарушений ТЗ, нам не стоит воспринимать данный результат за истину. Также, для большей наглядности построим график воронки по обеим группам"
   ]
  },
  {
   "cell_type": "code",
   "execution_count": null,
   "metadata": {
    "scrolled": false
   },
   "outputs": [],
   "source": [
    "# Оставим необходимые данные\n",
    "funnel_ab = funnel_ab_effect[['event_name','g_A','g_B']]\n",
    "\n",
    "\n",
    "# Строим воронку событий для каждой группы\n",
    "fig = go.Figure()\n",
    "\n",
    "fig.add_trace(go.Funnel(\n",
    "    name = 'Группа A',\n",
    "    y = funnel_ab['event_name'],\n",
    "    x = funnel_ab['g_A'],\n",
    "    textinfo = \"value+percent initial+percent previous\"))\n",
    "\n",
    "fig.add_trace(go.Funnel(\n",
    "    name = 'Группа B',\n",
    "    y = funnel_ab['event_name'],\n",
    "    x = funnel_ab['g_B'],\n",
    "    textposition = 'outside',\n",
    "    textinfo = \"value+percent initial+percent previous\"))\n",
    "\n",
    "# Добавим настройки и выведем график\n",
    "\n",
    "fig.update_layout(\n",
    "    title='Воронка действий пользователей, доли прошедших с первого шага и предыдущего шага в разрезе групп',\n",
    "    yaxis_title=\"Шаги\",\n",
    "    font=dict(size=11),\n",
    "    width= 1000,\n",
    "    height=800\n",
    ")\n",
    "\n",
    "# Выводим график\n",
    "fig.show()"
   ]
  },
  {
   "cell_type": "markdown",
   "metadata": {},
   "source": [
    "<img src=\"https://ltdfoto.ru/images/2023/07/11/newplot.png\" alt=\"newplot.png\" border=\"0\" />"
   ]
  },
  {
   "cell_type": "markdown",
   "metadata": {},
   "source": [
    "По итогу мы видим, что по всем параметрам, за исключением действия `product_cart` экспериментальная группа `B` не показывает ожидаемого прироста метрик в **10%**."
   ]
  },
  {
   "cell_type": "markdown",
   "metadata": {},
   "source": [
    "## Особенности данных, которые нужно учесть перед A/B тестом"
   ]
  },
  {
   "cell_type": "markdown",
   "metadata": {},
   "source": [
    "Данные для теста были составлены некорректно из-за большого количества нарушений технического задания, перечислим основные проблемы, которые в той или иной степени сказываются на результате:\n",
    "\n",
    "- Неравномерное распределение пользователей по группам;\n",
    "- Пересечение пользователей в двух разных тестах;\n",
    "- Запуск теста в период проведения промоакций, связанных с Новым Годом и Рождеством;\n",
    "- Ранняя остановка теста;\n",
    "- Большое кол-во пользователей не имеющих событий кроме регистрации."
   ]
  },
  {
   "cell_type": "markdown",
   "metadata": {},
   "source": [
    "# Оценка результатов A/B тестирования"
   ]
  },
  {
   "cell_type": "markdown",
   "metadata": {},
   "source": [
    "## Результаты A/B теста"
   ]
  },
  {
   "cell_type": "markdown",
   "metadata": {},
   "source": [
    "- Тест выполнен с нарушением многих пунктов технического задания, что непосредственно влияет на релевантность результата.\n",
    "\n",
    "\n",
    "- Исходя из полученного результата тестирования мы можем сказать, что внесенные в `группу В` изменения никак не повлияли на воронку в лучшую сторону (ожидаемым эффектом было увеличении конверсии трех метрик на **10%** а именно - `product_page` ,`product_cart` и `purchase`):но по факту видим только незначительный прирост по событию товара в корзину в `5.87%`.\n",
    "\n",
    "\n",
    "- В целом, мы уже понимаем, что результат теста можно считать провальным, но все же проверим статистическую разницу долей с помощью  `z-критерия`."
   ]
  },
  {
   "cell_type": "markdown",
   "metadata": {},
   "source": [
    "## Проверка статистической разницы долей z-критерием"
   ]
  },
  {
   "cell_type": "markdown",
   "metadata": {},
   "source": [
    "Сфррмулируем гипотезы:\n",
    "\n",
    "- **H₀ (нулевая гипотеза)** - В группах конверсия пользователей по целевому действию равна;\n",
    "- **H₁ (альтернативная гипотеза)** - В группах конверсия пользователей, по целевому действию различается."
   ]
  },
  {
   "cell_type": "markdown",
   "metadata": {},
   "source": [
    "Для проверки гипотез будет использоваться `z-критерий`, но так как мы проводим множественное сравнение (4) мы будем использовать критичекий уровень статистической значимости с учетом `поправки Бонферрони` (в нашем случае делить на 4).\n",
    "\n",
    "Создадим функцию, которая будет проверять наши гипотезы с учетом `поправки Бонферрони` и далее проведем все тесты."
   ]
  },
  {
   "cell_type": "code",
   "execution_count": 36,
   "metadata": {},
   "outputs": [],
   "source": [
    "# Подготовим данные для теста\n",
    "z_test_df = funnel_ab.set_index('event_name')"
   ]
  },
  {
   "cell_type": "code",
   "execution_count": 37,
   "metadata": {},
   "outputs": [],
   "source": [
    "# Создаем функцию для проведения теста\n",
    "def test(df,group1, group2, event, n):\n",
    "    \n",
    "    alpha = .05/n # критический уровень статистической значимости с учетом поправки Бонферрони\n",
    "    \n",
    "    successes = np.array([df.loc[event,group1], df.loc[event,group2]])\n",
    "    trials = np.array([df.loc['registration', group1], df.loc['registration',group2]])\n",
    "    \n",
    "    # пропорция успехов в первой группе:\n",
    "    p1 = successes[0]/trials[0]\n",
    "    \n",
    "    # пропорция успехов во второй группе:\n",
    "    p2 = successes[1]/trials[1]\n",
    "    \n",
    "    # пропорция успехов в комбинированном датасете:\n",
    "    p_combined = (successes[0] + successes[1]) / (trials[0] + trials[1])\n",
    "    \n",
    "    # разница пропорций в датасетах\n",
    "    difference = p1 - p2 \n",
    "    \n",
    "    # считаем статистику в ст.отклонениях стандартного нормального распределения\n",
    "    z_value = difference / math.sqrt(p_combined * (1 - p_combined) * (1/trials[0] + 1/trials[1]))\n",
    "    \n",
    "    # задаем стандартное нормальное распределение (среднее 0, ст.отклонение 1)\n",
    "    distr = stats.norm(0, 1) \n",
    "    p_value = (1 - distr.cdf(abs(z_value))) * 2\n",
    "    \n",
    "    print(f'Проверка для группы A и группы B, событие: {event}, p-значение: {p_value}')\n",
    "    \n",
    "    if (p_value < alpha):\n",
    "        print(\"Отвергаем нулевую гипотезу, есть статистически значимая разница между конверсиями пользователей, совершивших данное действие\")\n",
    "    else:\n",
    "        print(\"Не получилось отвергнуть нулевую гипотезу, нет статистически значимой разница между конверсиями пользователей, совершивших данное действие\")"
   ]
  },
  {
   "cell_type": "code",
   "execution_count": 38,
   "metadata": {},
   "outputs": [
    {
     "name": "stdout",
     "output_type": "stream",
     "text": [
      "Проверка для группы A и группы B, событие: login, p-значение: 0.0\n",
      "Отвергаем нулевую гипотезу, есть статистически значимая разница между конверсиями пользователей, совершивших данное действие\n",
      "\n",
      "Проверка для группы A и группы B, событие: product_page, p-значение: 0.0\n",
      "Отвергаем нулевую гипотезу, есть статистически значимая разница между конверсиями пользователей, совершивших данное действие\n",
      "\n",
      "Проверка для группы A и группы B, событие: product_cart, p-значение: 0.0\n",
      "Отвергаем нулевую гипотезу, есть статистически значимая разница между конверсиями пользователей, совершивших данное действие\n",
      "\n",
      "Проверка для группы A и группы B, событие: purchase, p-значение: 0.0\n",
      "Отвергаем нулевую гипотезу, есть статистически значимая разница между конверсиями пользователей, совершивших данное действие\n",
      "\n"
     ]
    }
   ],
   "source": [
    "# Переберем все события, кроме регистрации, так как все пользователи по умолчанию уже зарегистрированы\n",
    "for event in ['login','product_page','product_cart','purchase']:\n",
    "    test(z_test_df,'g_A','g_B',event,4)\n",
    "    print()"
   ]
  },
  {
   "cell_type": "markdown",
   "metadata": {},
   "source": [
    "На всех уровнях воронки событий при проведении `z-теста` гипотезу о равенстве конверсии пользователей в группах не удалось подтвердить. Конверсии имеют статистически значимую разницу.\n",
    "\n",
    "Но ввиду того, о чем говорилось ранее не стоит воспринимать этот тест ни провальным и ни успешным, так как условия, при которых он проводился были не соблюдены, что напрямую повлияло на нерепрезентативность полученного рез-та."
   ]
  },
  {
   "cell_type": "markdown",
   "metadata": {},
   "source": [
    "# Вывод и рекомендации"
   ]
  },
  {
   "cell_type": "markdown",
   "metadata": {},
   "source": [
    "## Вывод"
   ]
  },
  {
   "cell_type": "markdown",
   "metadata": {},
   "source": [
    "По результам исследования и в ходе оценки корректности проведения теста, можно сказать лишь то, что тест можно признать провалившимся. \n",
    "\n",
    "Было большое количество критических несоотвествий с техническим заданием, которые по итогу привели к нерепрезентативности полученного результата, а именно:\n",
    "\n",
    "1. Неравномерное распределение пользователей по группам (по исходным данным контрольная `группа A` превышала экспериментальную `группа B` более чем в **32%** или **947** пользователя);\n",
    "\n",
    "\n",
    "2. **1602** пользователя одновременно состояли двух параллельных тестах, что также могло исказить полученный результат (практически невозможно определить что конкретно могло или наоборт не могло влиять на те или иные действия пользователя);\n",
    "\n",
    "\n",
    "3. Дата остановки теста. По техническому заданию, тест должен был закончиться `2021-01-04` а по факту на 5 дней раньше - `2020-12-30`, также по условиям ТЗ, пришлось отбросить события пользователей, чей лайфтайм был более `14 дней`;\n",
    "\n",
    "\n",
    "4. В период проведения теста проводилась предновогодняя промоакция с `2020-12-25` по `2021-01-03`, что также могло повлиять на действия пользователей и исказить чистоту проведения теста; \n",
    "\n",
    "\n",
    "5. Недобор пользователей. Планировалось не менее **6000** из которых **15%** это новые пользователи из `EU региона`, по исходным данным набралось \"достаточное\" кол-во, но по факту, после фильтрации их осталось **5099** из которых **10.3%** новых пользователей из `EU`;\n",
    "\n",
    "\n",
    "6. Также из оставшихся **5099** пользователей **2137** имело всего лишь одно событие - регистрацию, что нам возможно говорит о технической ошибке при наборе групп.\n",
    "\n",
    "\n",
    "7. Как следствие, ожидаемый эффект за 14 дней в виде увеличении конверсии трех метрик на **10%** а именно - `product_page` \n",
    ",`product_cart` и `purchase`, ввиду некачественных данных по всем этапам, кроме `product_cart` с **5.87%** увеличения конверсии \n",
    "по отношению к конверсии в `группе A` показли ровно противоположный результат. "
   ]
  },
  {
   "cell_type": "markdown",
   "metadata": {},
   "source": [
    "## Рекомендации"
   ]
  },
  {
   "cell_type": "markdown",
   "metadata": {},
   "source": [
    "Для более корректного принятия решение по поводу новой системы, по возможности, рекомендуется провести новый `A/B тест`, результаты которого действительно можно было бы анализировать и интерпретировать. Для успешного проведения следует:\n",
    "\n",
    "1. При проведении четко следовать имеющемуся техническому заданию;\n",
    "\n",
    "2. Рационально подходить к распределнию участников по группам;\n",
    "\n",
    "3. Не проводить параллельные тесты для одних и тех же пользователей, которые могут в той или иной степени влиять на их действия;\n",
    "\n",
    "4. Для большей чистоты результатов, проводить отдельно от различных маркетинговых активностей или крупных праздников;\n",
    "\n",
    "5. Не допускать технических ошибок при наборе пользователей."
   ]
  }
 ],
 "metadata": {
  "ExecuteTimeLog": [
   {
    "duration": 1414,
    "start_time": "2023-03-14T08:47:42.341Z"
   },
   {
    "duration": 3,
    "start_time": "2023-03-14T08:47:43.757Z"
   },
   {
    "duration": 1546,
    "start_time": "2023-03-14T08:47:43.762Z"
   },
   {
    "duration": 7,
    "start_time": "2023-03-14T08:47:45.311Z"
   },
   {
    "duration": 158,
    "start_time": "2023-03-14T08:47:45.320Z"
   },
   {
    "duration": 209,
    "start_time": "2023-03-14T08:47:45.479Z"
   },
   {
    "duration": 786,
    "start_time": "2023-03-14T08:47:45.689Z"
   },
   {
    "duration": 83,
    "start_time": "2023-03-14T08:47:46.477Z"
   },
   {
    "duration": 118,
    "start_time": "2023-03-14T08:47:46.562Z"
   },
   {
    "duration": 35,
    "start_time": "2023-03-14T08:47:46.681Z"
   },
   {
    "duration": 29,
    "start_time": "2023-03-14T08:47:46.718Z"
   },
   {
    "duration": 23,
    "start_time": "2023-03-14T08:47:46.749Z"
   },
   {
    "duration": 30,
    "start_time": "2023-03-14T08:47:46.774Z"
   },
   {
    "duration": 74,
    "start_time": "2023-03-14T08:47:46.806Z"
   },
   {
    "duration": 89,
    "start_time": "2023-03-14T08:47:46.882Z"
   },
   {
    "duration": 5,
    "start_time": "2023-03-14T08:47:46.972Z"
   },
   {
    "duration": 23,
    "start_time": "2023-03-14T08:47:46.979Z"
   },
   {
    "duration": 18,
    "start_time": "2023-03-14T08:47:47.004Z"
   },
   {
    "duration": 16,
    "start_time": "2023-03-14T08:47:47.024Z"
   },
   {
    "duration": 44,
    "start_time": "2023-03-14T08:59:20.206Z"
   },
   {
    "duration": 1364,
    "start_time": "2023-03-14T09:02:08.711Z"
   },
   {
    "duration": 72,
    "start_time": "2023-03-14T09:02:25.689Z"
   },
   {
    "duration": 5,
    "start_time": "2023-03-14T09:02:36.607Z"
   },
   {
    "duration": 4,
    "start_time": "2023-03-14T09:02:53.317Z"
   },
   {
    "duration": 4,
    "start_time": "2023-03-14T09:03:04.785Z"
   },
   {
    "duration": 4,
    "start_time": "2023-03-14T09:03:15.366Z"
   },
   {
    "duration": 15,
    "start_time": "2023-03-14T09:03:16.158Z"
   },
   {
    "duration": 5,
    "start_time": "2023-03-14T09:03:58.989Z"
   },
   {
    "duration": 73,
    "start_time": "2023-03-14T09:08:14.115Z"
   },
   {
    "duration": 36,
    "start_time": "2023-03-14T09:09:07.959Z"
   },
   {
    "duration": 32,
    "start_time": "2023-03-14T09:10:53.962Z"
   },
   {
    "duration": 26,
    "start_time": "2023-03-14T09:11:43.336Z"
   },
   {
    "duration": 9,
    "start_time": "2023-03-14T09:13:56.541Z"
   },
   {
    "duration": 64,
    "start_time": "2023-03-14T09:14:16.224Z"
   },
   {
    "duration": 9,
    "start_time": "2023-03-14T09:14:16.520Z"
   },
   {
    "duration": 73,
    "start_time": "2023-03-14T09:14:59.395Z"
   },
   {
    "duration": 5,
    "start_time": "2023-03-14T09:15:15.071Z"
   },
   {
    "duration": 27,
    "start_time": "2023-03-14T09:16:52.383Z"
   },
   {
    "duration": 26,
    "start_time": "2023-03-14T09:17:46.150Z"
   },
   {
    "duration": 26,
    "start_time": "2023-03-14T09:17:52.714Z"
   },
   {
    "duration": 28,
    "start_time": "2023-03-14T09:18:21.760Z"
   },
   {
    "duration": 33,
    "start_time": "2023-03-14T09:18:47.538Z"
   },
   {
    "duration": 28,
    "start_time": "2023-03-14T09:18:53.786Z"
   },
   {
    "duration": 30,
    "start_time": "2023-03-14T09:19:16.842Z"
   },
   {
    "duration": 25,
    "start_time": "2023-03-14T09:19:22.819Z"
   },
   {
    "duration": 26,
    "start_time": "2023-03-14T09:19:36.494Z"
   },
   {
    "duration": 27,
    "start_time": "2023-03-14T09:19:42.201Z"
   },
   {
    "duration": 9,
    "start_time": "2023-03-14T09:20:01.688Z"
   },
   {
    "duration": 10,
    "start_time": "2023-03-14T09:20:24.956Z"
   },
   {
    "duration": 13,
    "start_time": "2023-03-14T09:20:33.661Z"
   },
   {
    "duration": 12,
    "start_time": "2023-03-14T09:20:48.261Z"
   },
   {
    "duration": 6,
    "start_time": "2023-03-14T09:20:53.892Z"
   },
   {
    "duration": 3,
    "start_time": "2023-03-14T09:21:35.826Z"
   },
   {
    "duration": 72,
    "start_time": "2023-03-14T09:21:55.294Z"
   },
   {
    "duration": 11,
    "start_time": "2023-03-14T09:22:18.329Z"
   },
   {
    "duration": 15,
    "start_time": "2023-03-14T09:26:47.788Z"
   },
   {
    "duration": 16,
    "start_time": "2023-03-14T09:29:06.818Z"
   },
   {
    "duration": 194,
    "start_time": "2023-03-14T09:33:09.341Z"
   },
   {
    "duration": 7,
    "start_time": "2023-03-14T09:33:11.216Z"
   },
   {
    "duration": 8,
    "start_time": "2023-03-14T09:33:13.819Z"
   },
   {
    "duration": 12,
    "start_time": "2023-03-14T09:33:38.541Z"
   },
   {
    "duration": 70,
    "start_time": "2023-03-14T09:33:54.592Z"
   },
   {
    "duration": 9,
    "start_time": "2023-03-14T09:33:55.135Z"
   },
   {
    "duration": 9,
    "start_time": "2023-03-14T09:33:59.020Z"
   },
   {
    "duration": 11,
    "start_time": "2023-03-14T09:34:06.595Z"
   },
   {
    "duration": 13,
    "start_time": "2023-03-14T09:34:11.346Z"
   },
   {
    "duration": 78,
    "start_time": "2023-03-14T09:34:19.156Z"
   },
   {
    "duration": 5,
    "start_time": "2023-03-14T09:34:24.828Z"
   },
   {
    "duration": 5,
    "start_time": "2023-03-14T09:34:34.815Z"
   },
   {
    "duration": 9,
    "start_time": "2023-03-14T09:35:14.695Z"
   },
   {
    "duration": 32,
    "start_time": "2023-03-14T09:35:15.871Z"
   },
   {
    "duration": 26,
    "start_time": "2023-03-14T09:36:12.321Z"
   },
   {
    "duration": 35,
    "start_time": "2023-03-14T09:37:19.409Z"
   },
   {
    "duration": 21,
    "start_time": "2023-03-14T09:37:25.165Z"
   },
   {
    "duration": 13,
    "start_time": "2023-03-14T09:38:39.761Z"
   },
   {
    "duration": 7,
    "start_time": "2023-03-14T09:38:46.429Z"
   },
   {
    "duration": 75,
    "start_time": "2023-03-14T09:40:44.694Z"
   },
   {
    "duration": 10,
    "start_time": "2023-03-14T09:49:40.569Z"
   },
   {
    "duration": 13,
    "start_time": "2023-03-14T09:49:45.234Z"
   },
   {
    "duration": 15,
    "start_time": "2023-03-14T09:51:05.812Z"
   },
   {
    "duration": 9,
    "start_time": "2023-03-14T09:51:29.600Z"
   },
   {
    "duration": 13,
    "start_time": "2023-03-14T09:51:37.356Z"
   },
   {
    "duration": 12,
    "start_time": "2023-03-14T09:51:45.127Z"
   },
   {
    "duration": 6,
    "start_time": "2023-03-14T09:52:46.360Z"
   },
   {
    "duration": 9,
    "start_time": "2023-03-14T09:53:14.711Z"
   },
   {
    "duration": 9,
    "start_time": "2023-03-14T09:53:30.473Z"
   },
   {
    "duration": 9,
    "start_time": "2023-03-14T09:53:40.350Z"
   },
   {
    "duration": 13,
    "start_time": "2023-03-14T09:53:53.027Z"
   },
   {
    "duration": 15,
    "start_time": "2023-03-14T09:54:09.004Z"
   },
   {
    "duration": 15,
    "start_time": "2023-03-14T11:17:06.719Z"
   },
   {
    "duration": 4,
    "start_time": "2023-03-14T11:17:26.073Z"
   },
   {
    "duration": 9,
    "start_time": "2023-03-14T11:17:35.215Z"
   },
   {
    "duration": 15,
    "start_time": "2023-03-14T11:17:35.570Z"
   },
   {
    "duration": 13,
    "start_time": "2023-03-14T11:18:27.530Z"
   },
   {
    "duration": 23,
    "start_time": "2023-03-14T11:18:40.026Z"
   },
   {
    "duration": 25,
    "start_time": "2023-03-14T11:19:17.147Z"
   },
   {
    "duration": 50,
    "start_time": "2023-03-14T11:20:32.846Z"
   },
   {
    "duration": 51,
    "start_time": "2023-03-14T11:20:38.111Z"
   },
   {
    "duration": 38,
    "start_time": "2023-03-14T11:20:55.041Z"
   },
   {
    "duration": 37,
    "start_time": "2023-03-14T11:21:10.861Z"
   },
   {
    "duration": 28,
    "start_time": "2023-03-14T11:21:18.726Z"
   },
   {
    "duration": 39,
    "start_time": "2023-03-14T11:23:08.426Z"
   },
   {
    "duration": 16,
    "start_time": "2023-03-14T11:24:05.227Z"
   },
   {
    "duration": 17,
    "start_time": "2023-03-14T11:24:14.323Z"
   },
   {
    "duration": 16,
    "start_time": "2023-03-14T11:26:38.301Z"
   },
   {
    "duration": 20,
    "start_time": "2023-03-14T11:26:43.340Z"
   },
   {
    "duration": 20,
    "start_time": "2023-03-14T11:27:54.814Z"
   },
   {
    "duration": 24,
    "start_time": "2023-03-14T11:28:02.079Z"
   },
   {
    "duration": 899,
    "start_time": "2023-03-14T11:28:29.638Z"
   },
   {
    "duration": 18,
    "start_time": "2023-03-14T11:28:57.162Z"
   },
   {
    "duration": 24,
    "start_time": "2023-03-14T11:29:06.202Z"
   },
   {
    "duration": 25,
    "start_time": "2023-03-14T11:29:23.379Z"
   },
   {
    "duration": 25,
    "start_time": "2023-03-14T11:29:28.032Z"
   },
   {
    "duration": 24,
    "start_time": "2023-03-14T11:30:29.746Z"
   },
   {
    "duration": 19,
    "start_time": "2023-03-14T11:30:38.804Z"
   },
   {
    "duration": 18,
    "start_time": "2023-03-14T11:30:52.578Z"
   },
   {
    "duration": 6,
    "start_time": "2023-03-14T12:16:32.295Z"
   },
   {
    "duration": 76,
    "start_time": "2023-03-14T12:23:48.899Z"
   },
   {
    "duration": 7,
    "start_time": "2023-03-14T12:23:49.727Z"
   },
   {
    "duration": 12,
    "start_time": "2023-03-14T12:23:50.738Z"
   },
   {
    "duration": 7,
    "start_time": "2023-03-14T12:23:51.143Z"
   },
   {
    "duration": 19,
    "start_time": "2023-03-14T12:23:51.490Z"
   },
   {
    "duration": 13,
    "start_time": "2023-03-14T12:23:53.930Z"
   },
   {
    "duration": 18,
    "start_time": "2023-03-14T12:23:54.973Z"
   },
   {
    "duration": 11,
    "start_time": "2023-03-14T12:25:03.798Z"
   },
   {
    "duration": 11,
    "start_time": "2023-03-14T12:25:08.395Z"
   },
   {
    "duration": 5,
    "start_time": "2023-03-14T12:25:31.030Z"
   },
   {
    "duration": 7,
    "start_time": "2023-03-14T12:25:45.216Z"
   },
   {
    "duration": 10,
    "start_time": "2023-03-14T12:28:52.670Z"
   },
   {
    "duration": 8,
    "start_time": "2023-03-14T12:29:07.431Z"
   },
   {
    "duration": 8,
    "start_time": "2023-03-14T12:29:13.933Z"
   },
   {
    "duration": 18,
    "start_time": "2023-03-14T12:29:30.019Z"
   },
   {
    "duration": 8,
    "start_time": "2023-03-14T12:29:39.876Z"
   },
   {
    "duration": 8,
    "start_time": "2023-03-14T12:29:56.677Z"
   },
   {
    "duration": 16,
    "start_time": "2023-03-14T12:30:30.397Z"
   },
   {
    "duration": 13,
    "start_time": "2023-03-14T12:30:58.379Z"
   },
   {
    "duration": 15,
    "start_time": "2023-03-14T12:50:36.741Z"
   },
   {
    "duration": 31,
    "start_time": "2023-03-14T12:51:24.111Z"
   },
   {
    "duration": 75,
    "start_time": "2023-03-14T12:51:36.814Z"
   },
   {
    "duration": 14,
    "start_time": "2023-03-14T12:51:56.022Z"
   },
   {
    "duration": 123,
    "start_time": "2023-03-14T12:54:55.554Z"
   },
   {
    "duration": 130,
    "start_time": "2023-03-14T12:54:59.347Z"
   },
   {
    "duration": 179,
    "start_time": "2023-03-14T12:55:41.771Z"
   },
   {
    "duration": 12,
    "start_time": "2023-03-14T12:57:16.812Z"
   },
   {
    "duration": 130,
    "start_time": "2023-03-14T12:57:33.597Z"
   },
   {
    "duration": 137,
    "start_time": "2023-03-14T12:57:57.015Z"
   },
   {
    "duration": 124,
    "start_time": "2023-03-14T12:58:04.511Z"
   },
   {
    "duration": 139,
    "start_time": "2023-03-14T12:58:21.646Z"
   },
   {
    "duration": 174,
    "start_time": "2023-03-14T12:58:25.642Z"
   },
   {
    "duration": 10,
    "start_time": "2023-03-14T12:58:48.509Z"
   },
   {
    "duration": 11,
    "start_time": "2023-03-14T12:58:58.558Z"
   },
   {
    "duration": 18,
    "start_time": "2023-03-14T12:58:59.942Z"
   },
   {
    "duration": 274,
    "start_time": "2023-03-14T13:07:47.028Z"
   },
   {
    "duration": 158,
    "start_time": "2023-03-14T13:07:55.290Z"
   },
   {
    "duration": 130,
    "start_time": "2023-03-14T13:08:04.402Z"
   },
   {
    "duration": 134,
    "start_time": "2023-03-14T13:08:12.791Z"
   },
   {
    "duration": 149,
    "start_time": "2023-03-14T13:10:05.730Z"
   },
   {
    "duration": 129,
    "start_time": "2023-03-14T13:10:26.318Z"
   },
   {
    "duration": 122,
    "start_time": "2023-03-14T13:11:12.345Z"
   },
   {
    "duration": 153,
    "start_time": "2023-03-14T13:11:23.060Z"
   },
   {
    "duration": 133,
    "start_time": "2023-03-14T13:11:44.372Z"
   },
   {
    "duration": 136,
    "start_time": "2023-03-14T13:11:53.595Z"
   },
   {
    "duration": 170,
    "start_time": "2023-03-14T13:12:54.904Z"
   },
   {
    "duration": 130,
    "start_time": "2023-03-14T13:13:28.594Z"
   },
   {
    "duration": 137,
    "start_time": "2023-03-14T13:13:39.814Z"
   },
   {
    "duration": 127,
    "start_time": "2023-03-14T13:13:47.477Z"
   },
   {
    "duration": 131,
    "start_time": "2023-03-14T13:13:59.980Z"
   },
   {
    "duration": 120,
    "start_time": "2023-03-14T13:14:06.250Z"
   },
   {
    "duration": 133,
    "start_time": "2023-03-14T13:14:09.552Z"
   },
   {
    "duration": 133,
    "start_time": "2023-03-14T13:14:13.821Z"
   },
   {
    "duration": 123,
    "start_time": "2023-03-14T13:14:22.552Z"
   },
   {
    "duration": 141,
    "start_time": "2023-03-14T13:14:27.821Z"
   },
   {
    "duration": 123,
    "start_time": "2023-03-14T13:14:38.746Z"
   },
   {
    "duration": 6,
    "start_time": "2023-03-14T13:32:46.014Z"
   },
   {
    "duration": 19,
    "start_time": "2023-03-14T13:32:50.749Z"
   },
   {
    "duration": 21,
    "start_time": "2023-03-14T13:32:54.879Z"
   },
   {
    "duration": 21,
    "start_time": "2023-03-14T13:32:58.707Z"
   },
   {
    "duration": 13,
    "start_time": "2023-03-14T13:34:08.316Z"
   },
   {
    "duration": 12,
    "start_time": "2023-03-14T13:34:13.563Z"
   },
   {
    "duration": 15,
    "start_time": "2023-03-14T13:34:32.234Z"
   },
   {
    "duration": 13,
    "start_time": "2023-03-14T13:34:42.744Z"
   },
   {
    "duration": 73,
    "start_time": "2023-03-14T13:35:23.201Z"
   },
   {
    "duration": 15,
    "start_time": "2023-03-14T13:35:29.408Z"
   },
   {
    "duration": 13,
    "start_time": "2023-03-14T13:36:39.452Z"
   },
   {
    "duration": 15,
    "start_time": "2023-03-14T13:38:05.706Z"
   },
   {
    "duration": 17,
    "start_time": "2023-03-14T13:41:51.810Z"
   },
   {
    "duration": 19,
    "start_time": "2023-03-14T13:42:36.414Z"
   },
   {
    "duration": 20,
    "start_time": "2023-03-14T13:43:33.306Z"
   },
   {
    "duration": 17,
    "start_time": "2023-03-14T13:44:33.309Z"
   },
   {
    "duration": 15,
    "start_time": "2023-03-14T13:44:56.126Z"
   },
   {
    "duration": 16,
    "start_time": "2023-03-14T13:46:22.031Z"
   },
   {
    "duration": 16,
    "start_time": "2023-03-14T13:47:11.418Z"
   },
   {
    "duration": 15,
    "start_time": "2023-03-14T13:47:54.908Z"
   },
   {
    "duration": 15,
    "start_time": "2023-03-14T13:48:09.569Z"
   },
   {
    "duration": 18,
    "start_time": "2023-03-14T13:48:16.408Z"
   },
   {
    "duration": 13,
    "start_time": "2023-03-14T13:48:56.607Z"
   },
   {
    "duration": 21,
    "start_time": "2023-03-14T13:48:57.073Z"
   },
   {
    "duration": 15,
    "start_time": "2023-03-14T13:49:36.071Z"
   },
   {
    "duration": 70,
    "start_time": "2023-03-14T13:50:08.228Z"
   },
   {
    "duration": 22,
    "start_time": "2023-03-14T13:50:43.407Z"
   },
   {
    "duration": 109,
    "start_time": "2023-03-14T13:50:49.306Z"
   },
   {
    "duration": 25,
    "start_time": "2023-03-14T13:51:07.631Z"
   },
   {
    "duration": 19,
    "start_time": "2023-03-14T13:55:53.473Z"
   },
   {
    "duration": 18,
    "start_time": "2023-03-14T13:55:59.718Z"
   },
   {
    "duration": 20,
    "start_time": "2023-03-14T14:49:53.723Z"
   },
   {
    "duration": 5,
    "start_time": "2023-03-14T14:50:06.378Z"
   },
   {
    "duration": 7,
    "start_time": "2023-03-14T14:51:54.647Z"
   },
   {
    "duration": 6,
    "start_time": "2023-03-14T14:52:20.072Z"
   },
   {
    "duration": 5,
    "start_time": "2023-03-14T14:52:30.475Z"
   },
   {
    "duration": 6,
    "start_time": "2023-03-14T14:55:46.918Z"
   },
   {
    "duration": 6,
    "start_time": "2023-03-14T14:57:31.437Z"
   },
   {
    "duration": 18,
    "start_time": "2023-03-14T14:57:42.722Z"
   },
   {
    "duration": 19,
    "start_time": "2023-03-14T14:58:13.137Z"
   },
   {
    "duration": 8,
    "start_time": "2023-03-14T14:58:54.158Z"
   },
   {
    "duration": 7,
    "start_time": "2023-03-14T14:59:20.882Z"
   },
   {
    "duration": 19,
    "start_time": "2023-03-14T14:59:26.567Z"
   },
   {
    "duration": 21,
    "start_time": "2023-03-14T14:59:36.313Z"
   },
   {
    "duration": 11,
    "start_time": "2023-03-14T14:59:57.918Z"
   },
   {
    "duration": 18,
    "start_time": "2023-03-14T15:13:21.583Z"
   },
   {
    "duration": 5,
    "start_time": "2023-03-14T15:13:31.179Z"
   },
   {
    "duration": 5,
    "start_time": "2023-03-14T15:13:38.799Z"
   },
   {
    "duration": 19,
    "start_time": "2023-03-14T15:14:09.041Z"
   },
   {
    "duration": 75,
    "start_time": "2023-03-14T15:14:53.097Z"
   },
   {
    "duration": 17,
    "start_time": "2023-03-14T15:14:59.419Z"
   },
   {
    "duration": 12,
    "start_time": "2023-03-14T15:17:14.050Z"
   },
   {
    "duration": 12,
    "start_time": "2023-03-14T15:18:28.952Z"
   },
   {
    "duration": 11,
    "start_time": "2023-03-14T15:18:50.667Z"
   },
   {
    "duration": 11,
    "start_time": "2023-03-14T15:18:55.847Z"
   },
   {
    "duration": 18,
    "start_time": "2023-03-14T15:21:23.202Z"
   },
   {
    "duration": 14,
    "start_time": "2023-03-14T15:21:39.462Z"
   },
   {
    "duration": 21,
    "start_time": "2023-03-14T15:21:46.704Z"
   },
   {
    "duration": 12,
    "start_time": "2023-03-14T15:21:55.583Z"
   },
   {
    "duration": 15,
    "start_time": "2023-03-14T15:22:25.717Z"
   },
   {
    "duration": 11,
    "start_time": "2023-03-14T15:23:37.854Z"
   },
   {
    "duration": 12,
    "start_time": "2023-03-14T15:23:43.615Z"
   },
   {
    "duration": 16,
    "start_time": "2023-03-14T15:23:48.914Z"
   },
   {
    "duration": 19,
    "start_time": "2023-03-14T15:24:42.208Z"
   },
   {
    "duration": 10,
    "start_time": "2023-03-14T15:25:43.042Z"
   },
   {
    "duration": 76,
    "start_time": "2023-03-14T15:40:59.622Z"
   },
   {
    "duration": 20,
    "start_time": "2023-03-14T15:41:04.705Z"
   },
   {
    "duration": 34,
    "start_time": "2023-03-14T15:42:11.878Z"
   },
   {
    "duration": 21,
    "start_time": "2023-03-14T15:43:28.492Z"
   },
   {
    "duration": 86,
    "start_time": "2023-03-14T15:46:32.900Z"
   },
   {
    "duration": 11,
    "start_time": "2023-03-14T15:46:39.191Z"
   },
   {
    "duration": 12,
    "start_time": "2023-03-14T15:46:47.413Z"
   },
   {
    "duration": 13,
    "start_time": "2023-03-14T15:46:50.404Z"
   },
   {
    "duration": 13,
    "start_time": "2023-03-14T15:48:16.099Z"
   },
   {
    "duration": 20,
    "start_time": "2023-03-14T15:48:35.506Z"
   },
   {
    "duration": 75,
    "start_time": "2023-03-14T15:49:31.737Z"
   },
   {
    "duration": 21,
    "start_time": "2023-03-14T15:49:35.360Z"
   },
   {
    "duration": 35,
    "start_time": "2023-03-14T15:49:52.194Z"
   },
   {
    "duration": 22,
    "start_time": "2023-03-14T15:50:06.059Z"
   },
   {
    "duration": 23,
    "start_time": "2023-03-14T15:50:15.161Z"
   },
   {
    "duration": 26,
    "start_time": "2023-03-14T15:50:20.826Z"
   },
   {
    "duration": 28,
    "start_time": "2023-03-14T15:50:56.902Z"
   },
   {
    "duration": 11,
    "start_time": "2023-03-14T15:51:34.168Z"
   },
   {
    "duration": 14,
    "start_time": "2023-03-14T15:51:37.302Z"
   },
   {
    "duration": 17,
    "start_time": "2023-03-14T15:54:06.225Z"
   },
   {
    "duration": 1331,
    "start_time": "2023-03-14T15:54:30.652Z"
   },
   {
    "duration": 3,
    "start_time": "2023-03-14T15:54:31.985Z"
   },
   {
    "duration": 1386,
    "start_time": "2023-03-14T15:54:31.990Z"
   },
   {
    "duration": 10,
    "start_time": "2023-03-14T15:54:33.378Z"
   },
   {
    "duration": 73,
    "start_time": "2023-03-14T15:54:33.391Z"
   },
   {
    "duration": 205,
    "start_time": "2023-03-14T15:54:33.466Z"
   },
   {
    "duration": 839,
    "start_time": "2023-03-14T15:54:33.672Z"
   },
   {
    "duration": 93,
    "start_time": "2023-03-14T15:54:34.512Z"
   },
   {
    "duration": 169,
    "start_time": "2023-03-14T15:54:34.607Z"
   },
   {
    "duration": 0,
    "start_time": "2023-03-14T15:54:34.779Z"
   },
   {
    "duration": 0,
    "start_time": "2023-03-14T15:54:34.780Z"
   },
   {
    "duration": 0,
    "start_time": "2023-03-14T15:54:34.782Z"
   },
   {
    "duration": 0,
    "start_time": "2023-03-14T15:54:34.783Z"
   },
   {
    "duration": 0,
    "start_time": "2023-03-14T15:54:34.785Z"
   },
   {
    "duration": 0,
    "start_time": "2023-03-14T15:54:34.787Z"
   },
   {
    "duration": 0,
    "start_time": "2023-03-14T15:54:34.789Z"
   },
   {
    "duration": 0,
    "start_time": "2023-03-14T15:54:34.791Z"
   },
   {
    "duration": 0,
    "start_time": "2023-03-14T15:54:34.793Z"
   },
   {
    "duration": 0,
    "start_time": "2023-03-14T15:54:34.794Z"
   },
   {
    "duration": 0,
    "start_time": "2023-03-14T15:54:34.796Z"
   },
   {
    "duration": 0,
    "start_time": "2023-03-14T15:54:34.798Z"
   },
   {
    "duration": 0,
    "start_time": "2023-03-14T15:54:34.799Z"
   },
   {
    "duration": 0,
    "start_time": "2023-03-14T15:54:34.801Z"
   },
   {
    "duration": 4,
    "start_time": "2023-03-14T15:55:04.936Z"
   },
   {
    "duration": 24,
    "start_time": "2023-03-14T15:55:04.942Z"
   },
   {
    "duration": 1655,
    "start_time": "2023-03-14T15:55:04.968Z"
   },
   {
    "duration": 7,
    "start_time": "2023-03-14T15:55:06.625Z"
   },
   {
    "duration": 47,
    "start_time": "2023-03-14T15:55:06.635Z"
   },
   {
    "duration": 213,
    "start_time": "2023-03-14T15:55:06.684Z"
   },
   {
    "duration": 836,
    "start_time": "2023-03-14T15:55:06.899Z"
   },
   {
    "duration": 73,
    "start_time": "2023-03-14T15:55:07.737Z"
   },
   {
    "duration": 46,
    "start_time": "2023-03-14T15:55:07.812Z"
   },
   {
    "duration": 0,
    "start_time": "2023-03-14T15:55:07.860Z"
   },
   {
    "duration": 0,
    "start_time": "2023-03-14T15:55:07.861Z"
   },
   {
    "duration": 0,
    "start_time": "2023-03-14T15:55:07.862Z"
   },
   {
    "duration": 0,
    "start_time": "2023-03-14T15:55:07.863Z"
   },
   {
    "duration": 0,
    "start_time": "2023-03-14T15:55:07.864Z"
   },
   {
    "duration": 0,
    "start_time": "2023-03-14T15:55:07.865Z"
   },
   {
    "duration": 0,
    "start_time": "2023-03-14T15:55:07.866Z"
   },
   {
    "duration": 0,
    "start_time": "2023-03-14T15:55:07.867Z"
   },
   {
    "duration": 0,
    "start_time": "2023-03-14T15:55:07.869Z"
   },
   {
    "duration": 0,
    "start_time": "2023-03-14T15:55:07.870Z"
   },
   {
    "duration": 0,
    "start_time": "2023-03-14T15:55:07.871Z"
   },
   {
    "duration": 0,
    "start_time": "2023-03-14T15:55:07.873Z"
   },
   {
    "duration": 0,
    "start_time": "2023-03-14T15:55:07.873Z"
   },
   {
    "duration": 0,
    "start_time": "2023-03-14T15:55:07.874Z"
   },
   {
    "duration": 252,
    "start_time": "2023-03-14T15:55:50.929Z"
   },
   {
    "duration": 4,
    "start_time": "2023-03-14T15:55:55.208Z"
   },
   {
    "duration": 13,
    "start_time": "2023-03-14T15:55:55.214Z"
   },
   {
    "duration": 1107,
    "start_time": "2023-03-14T15:55:55.229Z"
   },
   {
    "duration": 7,
    "start_time": "2023-03-14T15:55:56.338Z"
   },
   {
    "duration": 108,
    "start_time": "2023-03-14T15:55:56.347Z"
   },
   {
    "duration": 210,
    "start_time": "2023-03-14T15:55:56.457Z"
   },
   {
    "duration": 832,
    "start_time": "2023-03-14T15:55:56.669Z"
   },
   {
    "duration": 84,
    "start_time": "2023-03-14T15:55:57.503Z"
   },
   {
    "duration": 303,
    "start_time": "2023-03-14T15:55:57.589Z"
   },
   {
    "duration": 54,
    "start_time": "2023-03-14T15:55:57.895Z"
   },
   {
    "duration": 52,
    "start_time": "2023-03-14T15:55:57.951Z"
   },
   {
    "duration": 91,
    "start_time": "2023-03-14T15:55:58.004Z"
   },
   {
    "duration": 29,
    "start_time": "2023-03-14T15:55:58.097Z"
   },
   {
    "duration": 109,
    "start_time": "2023-03-14T15:55:58.129Z"
   },
   {
    "duration": 13,
    "start_time": "2023-03-14T15:55:58.240Z"
   },
   {
    "duration": 161,
    "start_time": "2023-03-14T15:55:58.255Z"
   },
   {
    "duration": 0,
    "start_time": "2023-03-14T15:55:58.417Z"
   },
   {
    "duration": 0,
    "start_time": "2023-03-14T15:55:58.419Z"
   },
   {
    "duration": 0,
    "start_time": "2023-03-14T15:55:58.421Z"
   },
   {
    "duration": 0,
    "start_time": "2023-03-14T15:55:58.422Z"
   },
   {
    "duration": 0,
    "start_time": "2023-03-14T15:55:58.423Z"
   },
   {
    "duration": 0,
    "start_time": "2023-03-14T15:55:58.424Z"
   },
   {
    "duration": 0,
    "start_time": "2023-03-14T15:55:58.425Z"
   },
   {
    "duration": 145,
    "start_time": "2023-03-14T15:56:19.342Z"
   },
   {
    "duration": 181,
    "start_time": "2023-03-14T15:56:26.066Z"
   },
   {
    "duration": 260,
    "start_time": "2023-03-14T15:57:03.372Z"
   },
   {
    "duration": 4,
    "start_time": "2023-03-14T15:57:06.809Z"
   },
   {
    "duration": 5,
    "start_time": "2023-03-14T15:57:06.815Z"
   },
   {
    "duration": 1157,
    "start_time": "2023-03-14T15:57:06.822Z"
   },
   {
    "duration": 8,
    "start_time": "2023-03-14T15:57:07.981Z"
   },
   {
    "duration": 97,
    "start_time": "2023-03-14T15:57:07.992Z"
   },
   {
    "duration": 271,
    "start_time": "2023-03-14T15:57:08.091Z"
   },
   {
    "duration": 829,
    "start_time": "2023-03-14T15:57:08.364Z"
   },
   {
    "duration": 91,
    "start_time": "2023-03-14T15:57:09.195Z"
   },
   {
    "duration": 301,
    "start_time": "2023-03-14T15:57:09.288Z"
   },
   {
    "duration": 32,
    "start_time": "2023-03-14T15:57:09.591Z"
   },
   {
    "duration": 33,
    "start_time": "2023-03-14T15:57:09.625Z"
   },
   {
    "duration": 55,
    "start_time": "2023-03-14T15:57:09.660Z"
   },
   {
    "duration": 34,
    "start_time": "2023-03-14T15:57:09.717Z"
   },
   {
    "duration": 115,
    "start_time": "2023-03-14T15:57:09.755Z"
   },
   {
    "duration": 7,
    "start_time": "2023-03-14T15:57:09.872Z"
   },
   {
    "duration": 185,
    "start_time": "2023-03-14T15:57:09.881Z"
   },
   {
    "duration": 13,
    "start_time": "2023-03-14T15:57:10.069Z"
   },
   {
    "duration": 29,
    "start_time": "2023-03-14T15:57:10.085Z"
   },
   {
    "duration": 48,
    "start_time": "2023-03-14T15:57:10.116Z"
   },
   {
    "duration": 62,
    "start_time": "2023-03-14T15:57:10.167Z"
   },
   {
    "duration": 77,
    "start_time": "2023-03-14T15:57:10.231Z"
   },
   {
    "duration": 38,
    "start_time": "2023-03-14T15:57:10.310Z"
   },
   {
    "duration": 27,
    "start_time": "2023-03-14T15:57:10.350Z"
   },
   {
    "duration": 16,
    "start_time": "2023-03-14T15:57:22.218Z"
   },
   {
    "duration": 20,
    "start_time": "2023-03-14T15:57:27.220Z"
   },
   {
    "duration": 19,
    "start_time": "2023-03-14T15:57:31.294Z"
   },
   {
    "duration": 13,
    "start_time": "2023-03-14T15:59:34.712Z"
   },
   {
    "duration": 9,
    "start_time": "2023-03-14T15:59:46.067Z"
   },
   {
    "duration": 14,
    "start_time": "2023-03-14T15:59:49.106Z"
   },
   {
    "duration": 7,
    "start_time": "2023-03-14T15:59:53.715Z"
   },
   {
    "duration": 7,
    "start_time": "2023-03-14T16:00:12.164Z"
   },
   {
    "duration": 3,
    "start_time": "2023-03-14T16:01:19.428Z"
   },
   {
    "duration": 8,
    "start_time": "2023-03-14T16:01:26.136Z"
   },
   {
    "duration": 27,
    "start_time": "2023-03-14T16:02:35.913Z"
   },
   {
    "duration": 11,
    "start_time": "2023-03-14T16:03:10.252Z"
   },
   {
    "duration": 19,
    "start_time": "2023-03-14T16:03:23.832Z"
   },
   {
    "duration": 4,
    "start_time": "2023-03-14T16:05:03.452Z"
   },
   {
    "duration": 5,
    "start_time": "2023-03-14T16:05:06.346Z"
   },
   {
    "duration": 7,
    "start_time": "2023-03-14T16:05:11.036Z"
   },
   {
    "duration": 10,
    "start_time": "2023-03-14T16:05:18.567Z"
   },
   {
    "duration": 14,
    "start_time": "2023-03-14T16:05:41.105Z"
   },
   {
    "duration": 20,
    "start_time": "2023-03-14T16:05:59.750Z"
   },
   {
    "duration": 22,
    "start_time": "2023-03-14T16:06:07.878Z"
   },
   {
    "duration": 12,
    "start_time": "2023-03-14T16:06:09.269Z"
   },
   {
    "duration": 12,
    "start_time": "2023-03-14T16:06:29.364Z"
   },
   {
    "duration": 23,
    "start_time": "2023-03-14T16:06:44.863Z"
   },
   {
    "duration": 11,
    "start_time": "2023-03-14T16:06:49.728Z"
   },
   {
    "duration": 13,
    "start_time": "2023-03-14T16:07:01.272Z"
   },
   {
    "duration": 14,
    "start_time": "2023-03-14T16:07:21.386Z"
   },
   {
    "duration": 20,
    "start_time": "2023-03-14T16:08:02.352Z"
   },
   {
    "duration": 20,
    "start_time": "2023-03-14T16:15:04.366Z"
   },
   {
    "duration": 19,
    "start_time": "2023-03-14T16:15:41.745Z"
   },
   {
    "duration": 19,
    "start_time": "2023-03-14T16:15:50.964Z"
   },
   {
    "duration": 19,
    "start_time": "2023-03-14T16:16:01.498Z"
   },
   {
    "duration": 21,
    "start_time": "2023-03-14T16:16:18.117Z"
   },
   {
    "duration": 24,
    "start_time": "2023-03-14T16:16:37.698Z"
   },
   {
    "duration": 15,
    "start_time": "2023-03-14T16:17:31.554Z"
   },
   {
    "duration": 20,
    "start_time": "2023-03-14T16:17:49.457Z"
   },
   {
    "duration": 15,
    "start_time": "2023-03-14T16:18:15.614Z"
   },
   {
    "duration": 19,
    "start_time": "2023-03-14T16:20:18.612Z"
   },
   {
    "duration": 30,
    "start_time": "2023-03-14T16:20:23.494Z"
   },
   {
    "duration": 21,
    "start_time": "2023-03-14T16:20:39.620Z"
   },
   {
    "duration": 20,
    "start_time": "2023-03-14T16:20:44.655Z"
   },
   {
    "duration": 19,
    "start_time": "2023-03-14T16:21:20.884Z"
   },
   {
    "duration": 19,
    "start_time": "2023-03-14T16:22:09.128Z"
   },
   {
    "duration": 21,
    "start_time": "2023-03-14T16:22:09.818Z"
   },
   {
    "duration": 15,
    "start_time": "2023-03-14T16:25:51.093Z"
   },
   {
    "duration": 20,
    "start_time": "2023-03-14T16:25:51.696Z"
   },
   {
    "duration": 18,
    "start_time": "2023-03-14T16:35:51.765Z"
   },
   {
    "duration": 21,
    "start_time": "2023-03-14T16:35:52.048Z"
   },
   {
    "duration": 86,
    "start_time": "2023-03-14T16:36:33.949Z"
   },
   {
    "duration": 71,
    "start_time": "2023-03-14T16:36:39.464Z"
   },
   {
    "duration": 10,
    "start_time": "2023-03-14T16:36:46.196Z"
   },
   {
    "duration": 17,
    "start_time": "2023-03-14T16:38:01.143Z"
   },
   {
    "duration": 20,
    "start_time": "2023-03-14T16:40:28.598Z"
   },
   {
    "duration": 13,
    "start_time": "2023-03-14T16:40:44.842Z"
   },
   {
    "duration": 9,
    "start_time": "2023-03-14T16:40:47.431Z"
   },
   {
    "duration": 90,
    "start_time": "2023-03-14T16:42:22.835Z"
   },
   {
    "duration": 77,
    "start_time": "2023-03-14T16:42:31.605Z"
   },
   {
    "duration": 96,
    "start_time": "2023-03-14T16:43:02.900Z"
   },
   {
    "duration": 73,
    "start_time": "2023-03-14T16:43:27.257Z"
   },
   {
    "duration": 77,
    "start_time": "2023-03-14T16:43:43.775Z"
   },
   {
    "duration": 75,
    "start_time": "2023-03-14T16:43:54.397Z"
   },
   {
    "duration": 71,
    "start_time": "2023-03-14T16:44:09.703Z"
   },
   {
    "duration": 10,
    "start_time": "2023-03-14T16:44:19.824Z"
   },
   {
    "duration": 10,
    "start_time": "2023-03-14T16:44:37.399Z"
   },
   {
    "duration": 12,
    "start_time": "2023-03-14T16:47:29.613Z"
   },
   {
    "duration": 12,
    "start_time": "2023-03-14T16:49:13.209Z"
   },
   {
    "duration": 14,
    "start_time": "2023-03-14T16:50:17.977Z"
   },
   {
    "duration": 14,
    "start_time": "2023-03-14T16:50:47.814Z"
   },
   {
    "duration": 1233,
    "start_time": "2023-03-14T16:51:31.554Z"
   },
   {
    "duration": 3,
    "start_time": "2023-03-14T16:51:32.789Z"
   },
   {
    "duration": 1649,
    "start_time": "2023-03-14T16:51:32.794Z"
   },
   {
    "duration": 6,
    "start_time": "2023-03-14T16:51:34.445Z"
   },
   {
    "duration": 78,
    "start_time": "2023-03-14T16:51:34.454Z"
   },
   {
    "duration": 189,
    "start_time": "2023-03-14T16:51:34.534Z"
   },
   {
    "duration": 762,
    "start_time": "2023-03-14T16:51:34.724Z"
   },
   {
    "duration": 84,
    "start_time": "2023-03-14T16:51:35.488Z"
   },
   {
    "duration": 290,
    "start_time": "2023-03-14T16:51:35.574Z"
   },
   {
    "duration": 37,
    "start_time": "2023-03-14T16:51:35.865Z"
   },
   {
    "duration": 17,
    "start_time": "2023-03-14T16:51:35.903Z"
   },
   {
    "duration": 37,
    "start_time": "2023-03-14T16:51:35.922Z"
   },
   {
    "duration": 28,
    "start_time": "2023-03-14T16:51:35.961Z"
   },
   {
    "duration": 197,
    "start_time": "2023-03-14T16:51:35.992Z"
   },
   {
    "duration": 6,
    "start_time": "2023-03-14T16:51:36.191Z"
   },
   {
    "duration": 176,
    "start_time": "2023-03-14T16:51:36.199Z"
   },
   {
    "duration": 11,
    "start_time": "2023-03-14T16:51:36.376Z"
   },
   {
    "duration": 25,
    "start_time": "2023-03-14T16:51:36.389Z"
   },
   {
    "duration": 27,
    "start_time": "2023-03-14T16:51:36.415Z"
   },
   {
    "duration": 20,
    "start_time": "2023-03-14T16:51:36.444Z"
   },
   {
    "duration": 18,
    "start_time": "2023-03-14T16:51:36.466Z"
   },
   {
    "duration": 12,
    "start_time": "2023-03-14T16:51:36.485Z"
   },
   {
    "duration": 16,
    "start_time": "2023-03-14T16:51:36.499Z"
   },
   {
    "duration": 15,
    "start_time": "2023-03-14T16:52:10.499Z"
   },
   {
    "duration": 15,
    "start_time": "2023-03-14T16:52:48.611Z"
   },
   {
    "duration": 10,
    "start_time": "2023-03-14T16:52:53.078Z"
   },
   {
    "duration": 21,
    "start_time": "2023-03-14T16:54:45.950Z"
   },
   {
    "duration": 13,
    "start_time": "2023-03-14T16:55:24.465Z"
   },
   {
    "duration": 13,
    "start_time": "2023-03-14T16:55:38.978Z"
   },
   {
    "duration": 4,
    "start_time": "2023-03-14T17:00:46.750Z"
   },
   {
    "duration": 12,
    "start_time": "2023-03-14T17:00:55.517Z"
   },
   {
    "duration": 12,
    "start_time": "2023-03-14T17:01:13.557Z"
   },
   {
    "duration": 13,
    "start_time": "2023-03-14T17:01:23.191Z"
   },
   {
    "duration": 4,
    "start_time": "2023-03-14T17:03:41.375Z"
   },
   {
    "duration": 11,
    "start_time": "2023-03-14T17:03:41.970Z"
   },
   {
    "duration": 11,
    "start_time": "2023-03-14T17:03:44.669Z"
   },
   {
    "duration": 81,
    "start_time": "2023-03-14T17:08:47.627Z"
   },
   {
    "duration": 5,
    "start_time": "2023-03-14T17:08:54.258Z"
   },
   {
    "duration": 13,
    "start_time": "2023-03-14T17:08:55.201Z"
   },
   {
    "duration": 11,
    "start_time": "2023-03-14T17:09:09.669Z"
   },
   {
    "duration": 13,
    "start_time": "2023-03-14T17:09:17.245Z"
   },
   {
    "duration": 5,
    "start_time": "2023-03-14T17:09:56.242Z"
   },
   {
    "duration": 15,
    "start_time": "2023-03-14T17:09:57.008Z"
   },
   {
    "duration": 23,
    "start_time": "2023-03-14T17:11:48.293Z"
   },
   {
    "duration": 19,
    "start_time": "2023-03-14T17:12:16.551Z"
   },
   {
    "duration": 14,
    "start_time": "2023-03-14T17:12:33.656Z"
   },
   {
    "duration": 10,
    "start_time": "2023-03-14T17:12:41.094Z"
   },
   {
    "duration": 11,
    "start_time": "2023-03-14T17:12:54.570Z"
   },
   {
    "duration": 14,
    "start_time": "2023-03-14T17:13:07.053Z"
   },
   {
    "duration": 13,
    "start_time": "2023-03-14T17:13:37.132Z"
   },
   {
    "duration": 13,
    "start_time": "2023-03-14T17:15:45.810Z"
   },
   {
    "duration": 8,
    "start_time": "2023-03-14T17:18:13.442Z"
   },
   {
    "duration": 7,
    "start_time": "2023-03-14T17:18:20.473Z"
   },
   {
    "duration": 11,
    "start_time": "2023-03-14T17:18:43.011Z"
   },
   {
    "duration": 13,
    "start_time": "2023-03-14T17:20:03.728Z"
   },
   {
    "duration": 12,
    "start_time": "2023-03-14T17:20:19.848Z"
   },
   {
    "duration": 13,
    "start_time": "2023-03-14T17:21:35.596Z"
   },
   {
    "duration": 15,
    "start_time": "2023-03-14T17:22:29.893Z"
   },
   {
    "duration": 14,
    "start_time": "2023-03-14T17:23:01.596Z"
   },
   {
    "duration": 7,
    "start_time": "2023-03-14T17:23:05.983Z"
   },
   {
    "duration": 15,
    "start_time": "2023-03-14T17:23:06.636Z"
   },
   {
    "duration": 13,
    "start_time": "2023-03-14T17:23:15.997Z"
   },
   {
    "duration": 15,
    "start_time": "2023-03-14T17:23:34.185Z"
   },
   {
    "duration": 1156,
    "start_time": "2023-03-14T17:23:43.777Z"
   },
   {
    "duration": 1162,
    "start_time": "2023-03-14T17:23:58.295Z"
   },
   {
    "duration": 13,
    "start_time": "2023-03-14T17:24:24.677Z"
   },
   {
    "duration": 14,
    "start_time": "2023-03-14T17:24:52.895Z"
   },
   {
    "duration": 14,
    "start_time": "2023-03-14T17:24:57.396Z"
   },
   {
    "duration": 1150,
    "start_time": "2023-03-14T17:25:03.325Z"
   },
   {
    "duration": 13,
    "start_time": "2023-03-14T17:25:06.472Z"
   },
   {
    "duration": 1257,
    "start_time": "2023-03-14T17:25:41.461Z"
   },
   {
    "duration": 3,
    "start_time": "2023-03-14T17:25:42.720Z"
   },
   {
    "duration": 1614,
    "start_time": "2023-03-14T17:25:42.725Z"
   },
   {
    "duration": 8,
    "start_time": "2023-03-14T17:25:44.341Z"
   },
   {
    "duration": 55,
    "start_time": "2023-03-14T17:25:44.350Z"
   },
   {
    "duration": 209,
    "start_time": "2023-03-14T17:25:44.407Z"
   },
   {
    "duration": 779,
    "start_time": "2023-03-14T17:25:44.618Z"
   },
   {
    "duration": 82,
    "start_time": "2023-03-14T17:25:45.398Z"
   },
   {
    "duration": 294,
    "start_time": "2023-03-14T17:25:45.482Z"
   },
   {
    "duration": 36,
    "start_time": "2023-03-14T17:25:45.780Z"
   },
   {
    "duration": 34,
    "start_time": "2023-03-14T17:25:45.818Z"
   },
   {
    "duration": 22,
    "start_time": "2023-03-14T17:25:45.854Z"
   },
   {
    "duration": 29,
    "start_time": "2023-03-14T17:25:45.877Z"
   },
   {
    "duration": 206,
    "start_time": "2023-03-14T17:25:45.908Z"
   },
   {
    "duration": 5,
    "start_time": "2023-03-14T17:25:46.116Z"
   },
   {
    "duration": 146,
    "start_time": "2023-03-14T17:25:46.123Z"
   },
   {
    "duration": 9,
    "start_time": "2023-03-14T17:25:46.271Z"
   },
   {
    "duration": 20,
    "start_time": "2023-03-14T17:25:46.282Z"
   },
   {
    "duration": 10,
    "start_time": "2023-03-14T17:25:46.304Z"
   },
   {
    "duration": 40,
    "start_time": "2023-03-14T17:25:46.315Z"
   },
   {
    "duration": 15,
    "start_time": "2023-03-14T17:25:46.357Z"
   },
   {
    "duration": 11,
    "start_time": "2023-03-14T17:25:46.374Z"
   },
   {
    "duration": 5,
    "start_time": "2023-03-14T17:25:46.387Z"
   },
   {
    "duration": 18,
    "start_time": "2023-03-14T17:25:46.394Z"
   },
   {
    "duration": 35,
    "start_time": "2023-03-14T17:25:46.413Z"
   },
   {
    "duration": 15,
    "start_time": "2023-03-14T17:25:46.450Z"
   },
   {
    "duration": 22,
    "start_time": "2023-03-14T17:25:46.467Z"
   },
   {
    "duration": 133,
    "start_time": "2023-03-14T17:27:40.511Z"
   },
   {
    "duration": 15,
    "start_time": "2023-03-14T17:31:12.104Z"
   },
   {
    "duration": 19,
    "start_time": "2023-03-14T17:34:20.296Z"
   },
   {
    "duration": 18,
    "start_time": "2023-03-14T17:34:26.896Z"
   },
   {
    "duration": 12,
    "start_time": "2023-03-14T17:34:33.278Z"
   },
   {
    "duration": 15,
    "start_time": "2023-03-14T17:34:40.762Z"
   },
   {
    "duration": 15,
    "start_time": "2023-03-14T17:34:50.249Z"
   },
   {
    "duration": 13,
    "start_time": "2023-03-14T17:35:05.759Z"
   },
   {
    "duration": 21,
    "start_time": "2023-03-14T17:35:30.335Z"
   },
   {
    "duration": 13,
    "start_time": "2023-03-14T17:35:37.505Z"
   },
   {
    "duration": 22,
    "start_time": "2023-03-14T17:35:45.638Z"
   },
   {
    "duration": 18,
    "start_time": "2023-03-14T17:37:59.051Z"
   },
   {
    "duration": 19,
    "start_time": "2023-03-14T17:38:30.656Z"
   },
   {
    "duration": 26,
    "start_time": "2023-03-14T17:39:19.308Z"
   },
   {
    "duration": 21,
    "start_time": "2023-03-14T17:39:26.993Z"
   },
   {
    "duration": 18,
    "start_time": "2023-03-14T17:39:33.254Z"
   },
   {
    "duration": 21,
    "start_time": "2023-03-14T17:39:40.260Z"
   },
   {
    "duration": 18,
    "start_time": "2023-03-14T17:39:44.721Z"
   },
   {
    "duration": 84,
    "start_time": "2023-03-14T17:40:13.417Z"
   },
   {
    "duration": 18,
    "start_time": "2023-03-14T17:40:18.868Z"
   },
   {
    "duration": 21,
    "start_time": "2023-03-14T18:06:37.402Z"
   },
   {
    "duration": 16,
    "start_time": "2023-03-14T18:09:20.148Z"
   },
   {
    "duration": 75,
    "start_time": "2023-03-14T18:09:54.896Z"
   },
   {
    "duration": 17,
    "start_time": "2023-03-14T18:09:59.438Z"
   },
   {
    "duration": 21,
    "start_time": "2023-03-14T18:10:10.698Z"
   },
   {
    "duration": 25,
    "start_time": "2023-03-14T18:10:56.299Z"
   },
   {
    "duration": 25,
    "start_time": "2023-03-14T18:14:51.470Z"
   },
   {
    "duration": 76,
    "start_time": "2023-03-14T18:15:17.004Z"
   },
   {
    "duration": 79,
    "start_time": "2023-03-14T18:15:52.843Z"
   },
   {
    "duration": 68,
    "start_time": "2023-03-14T18:16:18.838Z"
   },
   {
    "duration": 90,
    "start_time": "2023-03-14T18:16:25.867Z"
   },
   {
    "duration": 190,
    "start_time": "2023-03-14T18:16:55.453Z"
   },
   {
    "duration": 75,
    "start_time": "2023-03-14T18:17:18.111Z"
   },
   {
    "duration": 73,
    "start_time": "2023-03-14T18:17:56.050Z"
   },
   {
    "duration": 240,
    "start_time": "2023-03-14T18:19:10.124Z"
   },
   {
    "duration": 146,
    "start_time": "2023-03-14T18:19:48.697Z"
   },
   {
    "duration": 352,
    "start_time": "2023-03-14T18:23:23.445Z"
   },
   {
    "duration": 26,
    "start_time": "2023-03-14T18:23:39.727Z"
   },
   {
    "duration": 89,
    "start_time": "2023-03-14T18:24:46.232Z"
   },
   {
    "duration": 24,
    "start_time": "2023-03-14T18:24:54.470Z"
   },
   {
    "duration": 304,
    "start_time": "2023-03-14T18:25:19.599Z"
   },
   {
    "duration": 303,
    "start_time": "2023-03-14T18:25:24.776Z"
   },
   {
    "duration": 444,
    "start_time": "2023-03-14T18:27:39.600Z"
   },
   {
    "duration": 594,
    "start_time": "2023-03-14T18:27:48.235Z"
   },
   {
    "duration": 231,
    "start_time": "2023-03-14T18:27:54.400Z"
   },
   {
    "duration": 272,
    "start_time": "2023-03-14T18:28:18.105Z"
   },
   {
    "duration": 245,
    "start_time": "2023-03-14T18:28:25.270Z"
   },
   {
    "duration": 25,
    "start_time": "2023-03-14T18:32:11.218Z"
   },
   {
    "duration": 272,
    "start_time": "2023-03-14T18:32:19.227Z"
   },
   {
    "duration": 259,
    "start_time": "2023-03-14T18:32:25.436Z"
   },
   {
    "duration": 241,
    "start_time": "2023-03-14T18:33:20.702Z"
   },
   {
    "duration": 290,
    "start_time": "2023-03-14T18:33:55.232Z"
   },
   {
    "duration": 296,
    "start_time": "2023-03-14T18:34:28.157Z"
   },
   {
    "duration": 283,
    "start_time": "2023-03-14T18:34:45.846Z"
   },
   {
    "duration": 282,
    "start_time": "2023-03-14T18:36:08.827Z"
   },
   {
    "duration": 422,
    "start_time": "2023-03-14T18:36:18.575Z"
   },
   {
    "duration": 286,
    "start_time": "2023-03-14T18:36:30.245Z"
   },
   {
    "duration": 290,
    "start_time": "2023-03-14T18:37:10.306Z"
   },
   {
    "duration": 16,
    "start_time": "2023-03-14T18:38:43.433Z"
   },
   {
    "duration": 14,
    "start_time": "2023-03-14T18:39:11.547Z"
   },
   {
    "duration": 13,
    "start_time": "2023-03-14T18:39:26.816Z"
   },
   {
    "duration": 21,
    "start_time": "2023-03-14T18:44:23.536Z"
   },
   {
    "duration": 17,
    "start_time": "2023-03-14T18:44:29.700Z"
   },
   {
    "duration": 18,
    "start_time": "2023-03-14T18:44:33.928Z"
   },
   {
    "duration": 25,
    "start_time": "2023-03-14T18:44:39.967Z"
   },
   {
    "duration": 23,
    "start_time": "2023-03-14T18:44:49.047Z"
   },
   {
    "duration": 166,
    "start_time": "2023-03-14T18:45:20.176Z"
   },
   {
    "duration": 310,
    "start_time": "2023-03-14T18:45:40.908Z"
   },
   {
    "duration": 29,
    "start_time": "2023-03-14T18:45:50.301Z"
   },
   {
    "duration": 27,
    "start_time": "2023-03-14T18:46:34.464Z"
   },
   {
    "duration": 19,
    "start_time": "2023-03-14T18:46:50.501Z"
   },
   {
    "duration": 25,
    "start_time": "2023-03-14T18:46:53.711Z"
   },
   {
    "duration": 21,
    "start_time": "2023-03-14T18:47:00.030Z"
   },
   {
    "duration": 34,
    "start_time": "2023-03-14T18:47:03.805Z"
   },
   {
    "duration": 33,
    "start_time": "2023-03-14T18:47:11.720Z"
   },
   {
    "duration": 28,
    "start_time": "2023-03-14T18:47:32.945Z"
   },
   {
    "duration": 29,
    "start_time": "2023-03-14T18:47:35.463Z"
   },
   {
    "duration": 151,
    "start_time": "2023-03-14T18:48:17.896Z"
   },
   {
    "duration": 140,
    "start_time": "2023-03-14T18:48:24.402Z"
   },
   {
    "duration": 6,
    "start_time": "2023-03-14T19:47:16.863Z"
   },
   {
    "duration": 23,
    "start_time": "2023-03-14T19:47:25.872Z"
   },
   {
    "duration": 10,
    "start_time": "2023-03-14T19:48:31.483Z"
   },
   {
    "duration": 13,
    "start_time": "2023-03-14T19:48:44.959Z"
   },
   {
    "duration": 4,
    "start_time": "2023-03-14T19:49:09.772Z"
   },
   {
    "duration": 29,
    "start_time": "2023-03-14T19:49:13.427Z"
   },
   {
    "duration": 27,
    "start_time": "2023-03-14T19:49:23.178Z"
   },
   {
    "duration": 1277,
    "start_time": "2023-03-14T19:52:15.613Z"
   },
   {
    "duration": 299,
    "start_time": "2023-03-14T19:52:28.915Z"
   },
   {
    "duration": 40,
    "start_time": "2023-03-14T19:52:54.316Z"
   },
   {
    "duration": 44,
    "start_time": "2023-03-14T19:53:01.319Z"
   },
   {
    "duration": 29,
    "start_time": "2023-03-14T19:53:05.277Z"
   },
   {
    "duration": 108,
    "start_time": "2023-03-14T19:57:43.352Z"
   },
   {
    "duration": 29,
    "start_time": "2023-03-14T19:57:49.364Z"
   },
   {
    "duration": 277,
    "start_time": "2023-03-14T19:58:04.321Z"
   },
   {
    "duration": 1319,
    "start_time": "2023-03-14T20:07:39.538Z"
   },
   {
    "duration": 329,
    "start_time": "2023-03-14T20:07:46.945Z"
   },
   {
    "duration": 329,
    "start_time": "2023-03-14T20:08:14.681Z"
   },
   {
    "duration": 336,
    "start_time": "2023-03-14T20:09:16.673Z"
   },
   {
    "duration": 360,
    "start_time": "2023-03-14T20:09:52.592Z"
   },
   {
    "duration": 505,
    "start_time": "2023-03-14T20:10:01.606Z"
   },
   {
    "duration": 425,
    "start_time": "2023-03-14T20:10:51.880Z"
   },
   {
    "duration": 379,
    "start_time": "2023-03-14T20:12:45.156Z"
   },
   {
    "duration": 419,
    "start_time": "2023-03-14T20:13:13.494Z"
   },
   {
    "duration": 420,
    "start_time": "2023-03-14T20:13:27.158Z"
   },
   {
    "duration": 397,
    "start_time": "2023-03-14T20:13:35.758Z"
   },
   {
    "duration": 430,
    "start_time": "2023-03-14T20:13:49.778Z"
   },
   {
    "duration": 562,
    "start_time": "2023-03-14T20:19:39.563Z"
   },
   {
    "duration": 436,
    "start_time": "2023-03-14T20:20:05.962Z"
   },
   {
    "duration": 431,
    "start_time": "2023-03-14T20:20:16.498Z"
   },
   {
    "duration": 428,
    "start_time": "2023-03-14T20:20:20.471Z"
   },
   {
    "duration": 430,
    "start_time": "2023-03-14T20:20:32.229Z"
   },
   {
    "duration": 438,
    "start_time": "2023-03-14T20:21:11.379Z"
   },
   {
    "duration": 9,
    "start_time": "2023-03-14T20:25:25.129Z"
   },
   {
    "duration": 9,
    "start_time": "2023-03-14T20:32:00.939Z"
   },
   {
    "duration": 4,
    "start_time": "2023-03-14T20:32:26.508Z"
   },
   {
    "duration": 10,
    "start_time": "2023-03-14T20:32:31.086Z"
   },
   {
    "duration": 13,
    "start_time": "2023-03-14T20:32:47.699Z"
   },
   {
    "duration": 14,
    "start_time": "2023-03-14T20:32:57.693Z"
   },
   {
    "duration": 6,
    "start_time": "2023-03-14T20:33:01.702Z"
   },
   {
    "duration": 8,
    "start_time": "2023-03-14T20:33:07.272Z"
   },
   {
    "duration": 121,
    "start_time": "2023-03-14T20:35:07.672Z"
   },
   {
    "duration": 6,
    "start_time": "2023-03-14T20:35:14.021Z"
   },
   {
    "duration": 16,
    "start_time": "2023-03-14T20:35:57.714Z"
   },
   {
    "duration": 5,
    "start_time": "2023-03-14T20:36:13.483Z"
   },
   {
    "duration": 13,
    "start_time": "2023-03-14T20:36:13.870Z"
   },
   {
    "duration": 6,
    "start_time": "2023-03-14T20:36:27.331Z"
   },
   {
    "duration": 7,
    "start_time": "2023-03-14T20:36:27.644Z"
   },
   {
    "duration": 5,
    "start_time": "2023-03-14T20:37:24.059Z"
   },
   {
    "duration": 1300,
    "start_time": "2023-03-14T20:37:40.307Z"
   },
   {
    "duration": 12,
    "start_time": "2023-03-14T20:37:45.838Z"
   },
   {
    "duration": 5,
    "start_time": "2023-03-14T20:38:00.082Z"
   },
   {
    "duration": 6,
    "start_time": "2023-03-14T20:38:16.989Z"
   },
   {
    "duration": 5,
    "start_time": "2023-03-14T20:38:18.473Z"
   },
   {
    "duration": 5,
    "start_time": "2023-03-14T20:38:18.992Z"
   },
   {
    "duration": 5,
    "start_time": "2023-03-14T20:38:19.373Z"
   },
   {
    "duration": 4,
    "start_time": "2023-03-14T20:38:20.211Z"
   },
   {
    "duration": 1356,
    "start_time": "2023-03-14T20:42:11.735Z"
   },
   {
    "duration": 9,
    "start_time": "2023-03-14T20:42:22.869Z"
   },
   {
    "duration": 10,
    "start_time": "2023-03-14T20:42:28.602Z"
   },
   {
    "duration": 5,
    "start_time": "2023-03-14T20:43:46.562Z"
   },
   {
    "duration": 9,
    "start_time": "2023-03-14T20:43:46.830Z"
   },
   {
    "duration": 10,
    "start_time": "2023-03-14T20:46:30.806Z"
   },
   {
    "duration": 4,
    "start_time": "2023-03-14T20:46:40.510Z"
   },
   {
    "duration": 11,
    "start_time": "2023-03-14T20:47:00.219Z"
   },
   {
    "duration": 90,
    "start_time": "2023-03-14T20:47:10.466Z"
   },
   {
    "duration": 11,
    "start_time": "2023-03-14T20:47:15.628Z"
   },
   {
    "duration": 6,
    "start_time": "2023-03-14T21:04:28.427Z"
   },
   {
    "duration": 9,
    "start_time": "2023-03-14T21:04:33.098Z"
   },
   {
    "duration": 7,
    "start_time": "2023-03-14T21:17:47.295Z"
   },
   {
    "duration": 15,
    "start_time": "2023-03-14T21:17:47.630Z"
   },
   {
    "duration": 16,
    "start_time": "2023-03-14T21:18:13.942Z"
   },
   {
    "duration": 9,
    "start_time": "2023-03-14T21:18:29.378Z"
   },
   {
    "duration": 17,
    "start_time": "2023-03-14T21:20:18.494Z"
   },
   {
    "duration": 17,
    "start_time": "2023-03-14T21:20:44.672Z"
   },
   {
    "duration": 17,
    "start_time": "2023-03-14T21:21:02.685Z"
   },
   {
    "duration": 7,
    "start_time": "2023-03-14T21:24:00.398Z"
   },
   {
    "duration": 1097,
    "start_time": "2023-03-14T21:24:01.019Z"
   },
   {
    "duration": 7,
    "start_time": "2023-03-14T21:24:29.617Z"
   },
   {
    "duration": 1010,
    "start_time": "2023-03-14T21:24:35.273Z"
   },
   {
    "duration": 11,
    "start_time": "2023-03-14T21:24:47.059Z"
   },
   {
    "duration": 6,
    "start_time": "2023-03-14T21:24:48.608Z"
   },
   {
    "duration": 17,
    "start_time": "2023-03-14T21:24:49.339Z"
   },
   {
    "duration": 6,
    "start_time": "2023-03-14T21:25:28.915Z"
   },
   {
    "duration": 10,
    "start_time": "2023-03-14T21:25:29.261Z"
   },
   {
    "duration": 337,
    "start_time": "2023-03-14T21:59:01.192Z"
   },
   {
    "duration": 9,
    "start_time": "2023-03-14T22:13:39.238Z"
   },
   {
    "duration": 7,
    "start_time": "2023-03-14T22:14:13.189Z"
   },
   {
    "duration": 4,
    "start_time": "2023-03-14T22:23:19.475Z"
   },
   {
    "duration": 14,
    "start_time": "2023-03-14T22:23:21.371Z"
   },
   {
    "duration": 4,
    "start_time": "2023-03-14T22:23:29.014Z"
   },
   {
    "duration": 11,
    "start_time": "2023-03-14T22:23:30.499Z"
   },
   {
    "duration": 74,
    "start_time": "2023-03-14T22:23:39.376Z"
   },
   {
    "duration": 13,
    "start_time": "2023-03-14T22:23:54.929Z"
   },
   {
    "duration": 5,
    "start_time": "2023-03-14T22:25:36.996Z"
   },
   {
    "duration": 12,
    "start_time": "2023-03-14T22:25:38.971Z"
   },
   {
    "duration": 9,
    "start_time": "2023-03-14T22:27:09.513Z"
   },
   {
    "duration": 10,
    "start_time": "2023-03-14T22:27:14.848Z"
   },
   {
    "duration": 5,
    "start_time": "2023-03-14T22:27:19.551Z"
   },
   {
    "duration": 5,
    "start_time": "2023-03-14T22:27:29.129Z"
   },
   {
    "duration": 4,
    "start_time": "2023-03-14T22:27:48.236Z"
   },
   {
    "duration": 10,
    "start_time": "2023-03-14T22:27:48.689Z"
   },
   {
    "duration": 20,
    "start_time": "2023-03-14T22:29:27.011Z"
   },
   {
    "duration": 11,
    "start_time": "2023-03-14T22:29:38.052Z"
   },
   {
    "duration": 16,
    "start_time": "2023-03-14T22:29:45.961Z"
   },
   {
    "duration": 4,
    "start_time": "2023-03-14T22:30:03.491Z"
   },
   {
    "duration": 303,
    "start_time": "2023-03-14T22:30:03.855Z"
   },
   {
    "duration": 4,
    "start_time": "2023-03-14T22:30:49.670Z"
   },
   {
    "duration": 302,
    "start_time": "2023-03-14T22:30:50.125Z"
   },
   {
    "duration": 16,
    "start_time": "2023-03-14T22:31:08.011Z"
   },
   {
    "duration": 301,
    "start_time": "2023-03-14T22:31:19.866Z"
   },
   {
    "duration": 352,
    "start_time": "2023-03-14T22:34:09.805Z"
   },
   {
    "duration": 16,
    "start_time": "2023-03-14T22:34:59.817Z"
   },
   {
    "duration": 4,
    "start_time": "2023-03-14T22:37:29.813Z"
   },
   {
    "duration": 92,
    "start_time": "2023-03-14T22:37:45.155Z"
   },
   {
    "duration": 7,
    "start_time": "2023-03-14T22:37:50.744Z"
   },
   {
    "duration": 1296,
    "start_time": "2023-03-14T22:38:21.211Z"
   },
   {
    "duration": 3,
    "start_time": "2023-03-14T22:38:22.509Z"
   },
   {
    "duration": 1246,
    "start_time": "2023-03-14T22:38:22.514Z"
   },
   {
    "duration": 7,
    "start_time": "2023-03-14T22:38:23.762Z"
   },
   {
    "duration": 88,
    "start_time": "2023-03-14T22:38:23.773Z"
   },
   {
    "duration": 206,
    "start_time": "2023-03-14T22:38:23.863Z"
   },
   {
    "duration": 746,
    "start_time": "2023-03-14T22:38:24.071Z"
   },
   {
    "duration": 80,
    "start_time": "2023-03-14T22:38:24.819Z"
   },
   {
    "duration": 1271,
    "start_time": "2023-03-14T22:38:43.807Z"
   },
   {
    "duration": 4,
    "start_time": "2023-03-14T22:38:45.080Z"
   },
   {
    "duration": 1209,
    "start_time": "2023-03-14T22:38:45.085Z"
   },
   {
    "duration": 7,
    "start_time": "2023-03-14T22:38:46.296Z"
   },
   {
    "duration": 46,
    "start_time": "2023-03-14T22:38:46.305Z"
   },
   {
    "duration": 171,
    "start_time": "2023-03-14T22:38:46.353Z"
   },
   {
    "duration": 786,
    "start_time": "2023-03-14T22:38:46.525Z"
   },
   {
    "duration": 112,
    "start_time": "2023-03-14T22:38:47.312Z"
   },
   {
    "duration": 334,
    "start_time": "2023-03-14T22:38:47.442Z"
   },
   {
    "duration": 38,
    "start_time": "2023-03-14T22:38:47.778Z"
   },
   {
    "duration": 35,
    "start_time": "2023-03-14T22:38:47.818Z"
   },
   {
    "duration": 21,
    "start_time": "2023-03-14T22:38:47.855Z"
   },
   {
    "duration": 29,
    "start_time": "2023-03-14T22:38:47.878Z"
   },
   {
    "duration": 210,
    "start_time": "2023-03-14T22:38:47.910Z"
   },
   {
    "duration": 7,
    "start_time": "2023-03-14T22:38:48.121Z"
   },
   {
    "duration": 184,
    "start_time": "2023-03-14T22:38:48.129Z"
   },
   {
    "duration": 28,
    "start_time": "2023-03-14T22:38:48.314Z"
   },
   {
    "duration": 13,
    "start_time": "2023-03-14T22:38:48.344Z"
   },
   {
    "duration": 4,
    "start_time": "2023-03-14T22:38:48.359Z"
   },
   {
    "duration": 14,
    "start_time": "2023-03-14T22:38:48.365Z"
   },
   {
    "duration": 16,
    "start_time": "2023-03-14T22:38:48.381Z"
   },
   {
    "duration": 46,
    "start_time": "2023-03-14T22:38:48.398Z"
   },
   {
    "duration": 23,
    "start_time": "2023-03-14T22:38:48.445Z"
   },
   {
    "duration": 314,
    "start_time": "2023-03-14T22:38:48.470Z"
   },
   {
    "duration": 465,
    "start_time": "2023-03-14T22:38:48.786Z"
   },
   {
    "duration": 18,
    "start_time": "2023-03-14T22:38:49.252Z"
   },
   {
    "duration": 11,
    "start_time": "2023-03-14T22:38:49.272Z"
   },
   {
    "duration": 58,
    "start_time": "2023-03-14T22:38:49.285Z"
   },
   {
    "duration": 21,
    "start_time": "2023-03-14T22:38:49.344Z"
   },
   {
    "duration": 8,
    "start_time": "2023-03-14T22:39:01.632Z"
   },
   {
    "duration": 3,
    "start_time": "2023-03-14T22:39:25.751Z"
   },
   {
    "duration": 4,
    "start_time": "2023-03-14T22:39:44.953Z"
   },
   {
    "duration": 10,
    "start_time": "2023-03-14T22:39:49.725Z"
   },
   {
    "duration": 5,
    "start_time": "2023-03-14T22:41:20.660Z"
   },
   {
    "duration": 16,
    "start_time": "2023-03-14T22:41:35.002Z"
   },
   {
    "duration": 159,
    "start_time": "2023-03-14T22:42:44.712Z"
   },
   {
    "duration": 20,
    "start_time": "2023-03-14T22:45:27.545Z"
   },
   {
    "duration": 13,
    "start_time": "2023-03-14T22:45:34.764Z"
   },
   {
    "duration": 70,
    "start_time": "2023-03-14T22:46:40.340Z"
   },
   {
    "duration": 14,
    "start_time": "2023-03-14T22:47:30.292Z"
   },
   {
    "duration": 16,
    "start_time": "2023-03-14T22:48:03.389Z"
   },
   {
    "duration": 9,
    "start_time": "2023-03-14T22:48:13.984Z"
   },
   {
    "duration": 15,
    "start_time": "2023-03-14T22:49:22.514Z"
   },
   {
    "duration": 17,
    "start_time": "2023-03-14T22:50:33.021Z"
   },
   {
    "duration": 16,
    "start_time": "2023-03-14T22:50:54.668Z"
   },
   {
    "duration": 26,
    "start_time": "2023-03-14T22:51:30.926Z"
   },
   {
    "duration": 340,
    "start_time": "2023-03-14T22:53:24.687Z"
   },
   {
    "duration": 377,
    "start_time": "2023-03-14T22:53:41.307Z"
   },
   {
    "duration": 27,
    "start_time": "2023-03-14T22:53:47.364Z"
   },
   {
    "duration": 22,
    "start_time": "2023-03-14T22:54:10.239Z"
   },
   {
    "duration": 3,
    "start_time": "2023-03-14T22:54:29.978Z"
   },
   {
    "duration": 9,
    "start_time": "2023-03-14T22:54:30.841Z"
   },
   {
    "duration": 339,
    "start_time": "2023-03-14T22:54:35.632Z"
   },
   {
    "duration": 363,
    "start_time": "2023-03-14T22:55:01.435Z"
   },
   {
    "duration": 13,
    "start_time": "2023-03-14T22:55:06.042Z"
   },
   {
    "duration": 20,
    "start_time": "2023-03-14T22:55:26.403Z"
   },
   {
    "duration": 28,
    "start_time": "2023-03-14T22:55:30.526Z"
   },
   {
    "duration": 19,
    "start_time": "2023-03-14T22:55:42.405Z"
   },
   {
    "duration": 5,
    "start_time": "2023-03-14T22:56:07.395Z"
   },
   {
    "duration": 18,
    "start_time": "2023-03-14T22:56:11.324Z"
   },
   {
    "duration": 19,
    "start_time": "2023-03-14T22:56:18.261Z"
   },
   {
    "duration": 17,
    "start_time": "2023-03-14T22:56:24.950Z"
   },
   {
    "duration": 19,
    "start_time": "2023-03-14T22:57:08.211Z"
   },
   {
    "duration": 1176,
    "start_time": "2023-03-14T22:58:50.394Z"
   },
   {
    "duration": 2,
    "start_time": "2023-03-14T22:58:51.572Z"
   },
   {
    "duration": 1317,
    "start_time": "2023-03-14T22:58:51.576Z"
   },
   {
    "duration": 6,
    "start_time": "2023-03-14T22:58:52.895Z"
   },
   {
    "duration": 63,
    "start_time": "2023-03-14T22:58:52.903Z"
   },
   {
    "duration": 192,
    "start_time": "2023-03-14T22:58:52.967Z"
   },
   {
    "duration": 754,
    "start_time": "2023-03-14T22:58:53.161Z"
   },
   {
    "duration": 81,
    "start_time": "2023-03-14T22:58:53.916Z"
   },
   {
    "duration": 296,
    "start_time": "2023-03-14T22:58:53.999Z"
   },
   {
    "duration": 32,
    "start_time": "2023-03-14T22:58:54.296Z"
   },
   {
    "duration": 24,
    "start_time": "2023-03-14T22:58:54.330Z"
   },
   {
    "duration": 30,
    "start_time": "2023-03-14T22:58:54.356Z"
   },
   {
    "duration": 30,
    "start_time": "2023-03-14T22:58:54.387Z"
   },
   {
    "duration": 203,
    "start_time": "2023-03-14T22:58:54.419Z"
   },
   {
    "duration": 5,
    "start_time": "2023-03-14T22:58:54.623Z"
   },
   {
    "duration": 203,
    "start_time": "2023-03-14T22:58:54.630Z"
   },
   {
    "duration": 21,
    "start_time": "2023-03-14T22:58:54.835Z"
   },
   {
    "duration": 34,
    "start_time": "2023-03-14T22:58:54.857Z"
   },
   {
    "duration": 54,
    "start_time": "2023-03-14T22:58:54.893Z"
   },
   {
    "duration": 49,
    "start_time": "2023-03-14T22:58:54.949Z"
   },
   {
    "duration": 64,
    "start_time": "2023-03-14T22:58:54.999Z"
   },
   {
    "duration": 33,
    "start_time": "2023-03-14T22:58:55.065Z"
   },
   {
    "duration": 50,
    "start_time": "2023-03-14T22:58:55.100Z"
   },
   {
    "duration": 301,
    "start_time": "2023-03-14T22:58:55.153Z"
   },
   {
    "duration": 443,
    "start_time": "2023-03-14T22:58:55.456Z"
   },
   {
    "duration": 18,
    "start_time": "2023-03-14T22:58:55.901Z"
   },
   {
    "duration": 27,
    "start_time": "2023-03-14T22:58:55.921Z"
   },
   {
    "duration": 87,
    "start_time": "2023-03-14T22:58:55.950Z"
   },
   {
    "duration": 46,
    "start_time": "2023-03-14T22:58:56.038Z"
   },
   {
    "duration": 25,
    "start_time": "2023-03-14T22:58:56.086Z"
   },
   {
    "duration": 0,
    "start_time": "2023-03-14T22:58:56.112Z"
   },
   {
    "duration": 0,
    "start_time": "2023-03-14T22:58:56.113Z"
   },
   {
    "duration": 0,
    "start_time": "2023-03-14T22:58:56.115Z"
   },
   {
    "duration": 6,
    "start_time": "2023-03-14T22:59:15.980Z"
   },
   {
    "duration": 6,
    "start_time": "2023-03-14T22:59:16.756Z"
   },
   {
    "duration": 19,
    "start_time": "2023-03-14T22:59:18.159Z"
   },
   {
    "duration": 124,
    "start_time": "2023-03-14T22:59:31.130Z"
   },
   {
    "duration": 10,
    "start_time": "2023-03-14T23:07:01.835Z"
   },
   {
    "duration": 6,
    "start_time": "2023-03-14T23:07:23.992Z"
   },
   {
    "duration": 10,
    "start_time": "2023-03-14T23:07:24.500Z"
   },
   {
    "duration": 6,
    "start_time": "2023-03-14T23:07:51.376Z"
   },
   {
    "duration": 9,
    "start_time": "2023-03-14T23:07:51.701Z"
   },
   {
    "duration": 1254,
    "start_time": "2023-03-15T00:00:24.613Z"
   },
   {
    "duration": 3,
    "start_time": "2023-03-15T00:00:25.870Z"
   },
   {
    "duration": 1474,
    "start_time": "2023-03-15T00:00:25.875Z"
   },
   {
    "duration": 9,
    "start_time": "2023-03-15T00:00:27.352Z"
   },
   {
    "duration": 83,
    "start_time": "2023-03-15T00:00:27.363Z"
   },
   {
    "duration": 213,
    "start_time": "2023-03-15T00:00:27.448Z"
   },
   {
    "duration": 864,
    "start_time": "2023-03-15T00:00:27.663Z"
   },
   {
    "duration": 75,
    "start_time": "2023-03-15T00:00:28.528Z"
   },
   {
    "duration": 316,
    "start_time": "2023-03-15T00:00:28.604Z"
   },
   {
    "duration": 41,
    "start_time": "2023-03-15T00:00:28.923Z"
   },
   {
    "duration": 17,
    "start_time": "2023-03-15T00:00:28.966Z"
   },
   {
    "duration": 20,
    "start_time": "2023-03-15T00:00:28.984Z"
   },
   {
    "duration": 53,
    "start_time": "2023-03-15T00:00:29.006Z"
   },
   {
    "duration": 186,
    "start_time": "2023-03-15T00:00:29.060Z"
   },
   {
    "duration": 6,
    "start_time": "2023-03-15T00:00:29.248Z"
   },
   {
    "duration": 190,
    "start_time": "2023-03-15T00:00:29.256Z"
   },
   {
    "duration": 23,
    "start_time": "2023-03-15T00:00:29.447Z"
   },
   {
    "duration": 15,
    "start_time": "2023-03-15T00:00:29.472Z"
   },
   {
    "duration": 4,
    "start_time": "2023-03-15T00:00:29.489Z"
   },
   {
    "duration": 12,
    "start_time": "2023-03-15T00:00:29.494Z"
   },
   {
    "duration": 48,
    "start_time": "2023-03-15T00:00:29.508Z"
   },
   {
    "duration": 11,
    "start_time": "2023-03-15T00:00:29.557Z"
   },
   {
    "duration": 20,
    "start_time": "2023-03-15T00:00:29.570Z"
   },
   {
    "duration": 315,
    "start_time": "2023-03-15T00:00:29.592Z"
   },
   {
    "duration": 467,
    "start_time": "2023-03-15T00:00:29.908Z"
   },
   {
    "duration": 19,
    "start_time": "2023-03-15T00:00:30.378Z"
   },
   {
    "duration": 14,
    "start_time": "2023-03-15T00:00:30.398Z"
   },
   {
    "duration": 26,
    "start_time": "2023-03-15T00:00:30.416Z"
   },
   {
    "duration": 39,
    "start_time": "2023-03-15T00:00:30.444Z"
   },
   {
    "duration": 38,
    "start_time": "2023-03-15T00:00:30.484Z"
   },
   {
    "duration": 38,
    "start_time": "2023-03-15T00:00:30.524Z"
   },
   {
    "duration": 69,
    "start_time": "2023-03-15T00:00:30.564Z"
   },
   {
    "duration": 167,
    "start_time": "2023-03-15T00:00:30.634Z"
   },
   {
    "duration": 4,
    "start_time": "2023-03-15T00:00:30.803Z"
   },
   {
    "duration": 35,
    "start_time": "2023-03-15T00:00:30.809Z"
   },
   {
    "duration": 56,
    "start_time": "2023-03-15T00:00:30.846Z"
   },
   {
    "duration": 14,
    "start_time": "2023-03-15T00:25:58.565Z"
   },
   {
    "duration": 8,
    "start_time": "2023-03-15T00:29:40.621Z"
   },
   {
    "duration": 8,
    "start_time": "2023-03-15T00:29:48.774Z"
   },
   {
    "duration": 1155,
    "start_time": "2023-03-15T01:14:11.591Z"
   },
   {
    "duration": 3,
    "start_time": "2023-03-15T01:14:12.748Z"
   },
   {
    "duration": 1384,
    "start_time": "2023-03-15T01:14:12.753Z"
   },
   {
    "duration": 6,
    "start_time": "2023-03-15T01:14:14.139Z"
   },
   {
    "duration": 47,
    "start_time": "2023-03-15T01:14:14.147Z"
   },
   {
    "duration": 192,
    "start_time": "2023-03-15T01:14:14.196Z"
   },
   {
    "duration": 697,
    "start_time": "2023-03-15T01:14:14.390Z"
   },
   {
    "duration": 86,
    "start_time": "2023-03-15T01:14:15.089Z"
   },
   {
    "duration": 288,
    "start_time": "2023-03-15T01:14:15.177Z"
   },
   {
    "duration": 33,
    "start_time": "2023-03-15T01:14:15.468Z"
   },
   {
    "duration": 16,
    "start_time": "2023-03-15T01:14:15.503Z"
   },
   {
    "duration": 20,
    "start_time": "2023-03-15T01:14:15.541Z"
   },
   {
    "duration": 27,
    "start_time": "2023-03-15T01:14:15.563Z"
   },
   {
    "duration": 186,
    "start_time": "2023-03-15T01:14:15.592Z"
   },
   {
    "duration": 6,
    "start_time": "2023-03-15T01:14:15.784Z"
   },
   {
    "duration": 141,
    "start_time": "2023-03-15T01:14:15.791Z"
   },
   {
    "duration": 26,
    "start_time": "2023-03-15T01:14:15.933Z"
   },
   {
    "duration": 13,
    "start_time": "2023-03-15T01:14:15.960Z"
   },
   {
    "duration": 10,
    "start_time": "2023-03-15T01:14:15.974Z"
   },
   {
    "duration": 14,
    "start_time": "2023-03-15T01:14:15.986Z"
   },
   {
    "duration": 15,
    "start_time": "2023-03-15T01:14:16.001Z"
   },
   {
    "duration": 34,
    "start_time": "2023-03-15T01:14:16.018Z"
   },
   {
    "duration": 22,
    "start_time": "2023-03-15T01:14:16.054Z"
   },
   {
    "duration": 296,
    "start_time": "2023-03-15T01:14:16.078Z"
   },
   {
    "duration": 455,
    "start_time": "2023-03-15T01:14:16.376Z"
   },
   {
    "duration": 22,
    "start_time": "2023-03-15T01:14:16.833Z"
   },
   {
    "duration": 11,
    "start_time": "2023-03-15T01:14:16.857Z"
   },
   {
    "duration": 6,
    "start_time": "2023-03-15T01:14:16.871Z"
   },
   {
    "duration": 11,
    "start_time": "2023-03-15T01:14:16.879Z"
   },
   {
    "duration": 10,
    "start_time": "2023-03-15T01:14:16.891Z"
   },
   {
    "duration": 13,
    "start_time": "2023-03-15T01:14:16.903Z"
   },
   {
    "duration": 33,
    "start_time": "2023-03-15T01:14:16.918Z"
   },
   {
    "duration": 136,
    "start_time": "2023-03-15T01:14:16.953Z"
   },
   {
    "duration": 4,
    "start_time": "2023-03-15T01:14:17.091Z"
   },
   {
    "duration": 6,
    "start_time": "2023-03-15T01:14:17.096Z"
   },
   {
    "duration": 43,
    "start_time": "2023-03-15T01:14:17.104Z"
   },
   {
    "duration": 1329,
    "start_time": "2023-03-15T18:45:39.161Z"
   },
   {
    "duration": 3,
    "start_time": "2023-03-15T18:45:40.492Z"
   },
   {
    "duration": 1176,
    "start_time": "2023-03-15T18:45:40.497Z"
   },
   {
    "duration": 6,
    "start_time": "2023-03-15T18:45:41.675Z"
   },
   {
    "duration": 49,
    "start_time": "2023-03-15T18:45:41.683Z"
   },
   {
    "duration": 258,
    "start_time": "2023-03-15T18:45:41.734Z"
   },
   {
    "duration": 825,
    "start_time": "2023-03-15T18:45:41.994Z"
   },
   {
    "duration": 94,
    "start_time": "2023-03-15T18:45:42.821Z"
   },
   {
    "duration": 334,
    "start_time": "2023-03-15T18:45:42.917Z"
   },
   {
    "duration": 33,
    "start_time": "2023-03-15T18:45:43.255Z"
   },
   {
    "duration": 17,
    "start_time": "2023-03-15T18:45:43.290Z"
   },
   {
    "duration": 47,
    "start_time": "2023-03-15T18:45:43.309Z"
   },
   {
    "duration": 28,
    "start_time": "2023-03-15T18:45:43.357Z"
   },
   {
    "duration": 194,
    "start_time": "2023-03-15T18:45:43.387Z"
   },
   {
    "duration": 6,
    "start_time": "2023-03-15T18:45:43.583Z"
   },
   {
    "duration": 171,
    "start_time": "2023-03-15T18:45:43.590Z"
   },
   {
    "duration": 21,
    "start_time": "2023-03-15T18:45:43.762Z"
   },
   {
    "duration": 18,
    "start_time": "2023-03-15T18:45:43.785Z"
   },
   {
    "duration": 3,
    "start_time": "2023-03-15T18:45:43.805Z"
   },
   {
    "duration": 42,
    "start_time": "2023-03-15T18:45:43.809Z"
   },
   {
    "duration": 20,
    "start_time": "2023-03-15T18:45:43.853Z"
   },
   {
    "duration": 9,
    "start_time": "2023-03-15T18:45:43.875Z"
   },
   {
    "duration": 17,
    "start_time": "2023-03-15T18:45:43.886Z"
   },
   {
    "duration": 334,
    "start_time": "2023-03-15T18:45:43.905Z"
   },
   {
    "duration": 515,
    "start_time": "2023-03-15T18:45:44.241Z"
   },
   {
    "duration": 26,
    "start_time": "2023-03-15T18:45:44.761Z"
   },
   {
    "duration": 13,
    "start_time": "2023-03-15T18:45:44.789Z"
   },
   {
    "duration": 6,
    "start_time": "2023-03-15T18:45:44.805Z"
   },
   {
    "duration": 5,
    "start_time": "2023-03-15T18:45:44.812Z"
   },
   {
    "duration": 13,
    "start_time": "2023-03-15T18:45:44.844Z"
   },
   {
    "duration": 7,
    "start_time": "2023-03-15T18:45:44.859Z"
   },
   {
    "duration": 23,
    "start_time": "2023-03-15T18:45:44.867Z"
   },
   {
    "duration": 210,
    "start_time": "2023-03-15T18:45:44.892Z"
   },
   {
    "duration": 3,
    "start_time": "2023-03-15T18:45:45.104Z"
   },
   {
    "duration": 8,
    "start_time": "2023-03-15T18:45:45.109Z"
   },
   {
    "duration": 37,
    "start_time": "2023-03-15T18:45:45.119Z"
   },
   {
    "duration": 1282,
    "start_time": "2023-03-15T19:32:30.831Z"
   },
   {
    "duration": 4,
    "start_time": "2023-03-15T19:32:32.115Z"
   },
   {
    "duration": 1024,
    "start_time": "2023-03-15T19:32:32.120Z"
   },
   {
    "duration": 6,
    "start_time": "2023-03-15T19:32:33.146Z"
   },
   {
    "duration": 58,
    "start_time": "2023-03-15T19:32:33.154Z"
   },
   {
    "duration": 181,
    "start_time": "2023-03-15T19:32:33.213Z"
   },
   {
    "duration": 635,
    "start_time": "2023-03-15T19:32:33.395Z"
   },
   {
    "duration": 74,
    "start_time": "2023-03-15T19:32:34.033Z"
   },
   {
    "duration": 249,
    "start_time": "2023-03-15T19:32:34.108Z"
   },
   {
    "duration": 39,
    "start_time": "2023-03-15T19:32:34.358Z"
   },
   {
    "duration": 15,
    "start_time": "2023-03-15T19:32:34.399Z"
   },
   {
    "duration": 17,
    "start_time": "2023-03-15T19:32:34.415Z"
   },
   {
    "duration": 23,
    "start_time": "2023-03-15T19:32:34.433Z"
   },
   {
    "duration": 155,
    "start_time": "2023-03-15T19:32:34.485Z"
   },
   {
    "duration": 1066,
    "start_time": "2023-03-15T19:34:20.931Z"
   },
   {
    "duration": 3,
    "start_time": "2023-03-15T19:34:21.998Z"
   },
   {
    "duration": 839,
    "start_time": "2023-03-15T19:34:22.002Z"
   },
   {
    "duration": 5,
    "start_time": "2023-03-15T19:34:22.843Z"
   },
   {
    "duration": 52,
    "start_time": "2023-03-15T19:34:22.850Z"
   },
   {
    "duration": 142,
    "start_time": "2023-03-15T19:34:22.904Z"
   },
   {
    "duration": 578,
    "start_time": "2023-03-15T19:34:23.048Z"
   },
   {
    "duration": 81,
    "start_time": "2023-03-15T19:34:23.628Z"
   },
   {
    "duration": 257,
    "start_time": "2023-03-15T19:34:23.711Z"
   },
   {
    "duration": 35,
    "start_time": "2023-03-15T19:34:23.970Z"
   },
   {
    "duration": 14,
    "start_time": "2023-03-15T19:34:24.007Z"
   },
   {
    "duration": 22,
    "start_time": "2023-03-15T19:34:24.022Z"
   },
   {
    "duration": 44,
    "start_time": "2023-03-15T19:34:24.046Z"
   },
   {
    "duration": 179,
    "start_time": "2023-03-15T19:34:24.092Z"
   },
   {
    "duration": 6,
    "start_time": "2023-03-15T19:34:24.272Z"
   },
   {
    "duration": 10,
    "start_time": "2023-03-15T19:45:39.707Z"
   },
   {
    "duration": 67,
    "start_time": "2023-03-15T19:53:30.165Z"
   },
   {
    "duration": 108,
    "start_time": "2023-03-15T22:02:39.108Z"
   },
   {
    "duration": 18,
    "start_time": "2023-03-15T22:02:44.697Z"
   },
   {
    "duration": 15,
    "start_time": "2023-03-15T22:02:53.381Z"
   },
   {
    "duration": 3,
    "start_time": "2023-03-15T22:02:55.232Z"
   },
   {
    "duration": 29,
    "start_time": "2023-03-15T22:03:06.911Z"
   },
   {
    "duration": 20,
    "start_time": "2023-03-15T22:03:15.249Z"
   },
   {
    "duration": 13,
    "start_time": "2023-03-15T22:03:46.027Z"
   },
   {
    "duration": 20,
    "start_time": "2023-03-15T22:11:32.852Z"
   },
   {
    "duration": 1113,
    "start_time": "2023-03-15T22:13:14.423Z"
   },
   {
    "duration": 3,
    "start_time": "2023-03-15T22:13:15.538Z"
   },
   {
    "duration": 1005,
    "start_time": "2023-03-15T22:13:15.543Z"
   },
   {
    "duration": 6,
    "start_time": "2023-03-15T22:13:16.550Z"
   },
   {
    "duration": 53,
    "start_time": "2023-03-15T22:13:16.558Z"
   },
   {
    "duration": 184,
    "start_time": "2023-03-15T22:13:16.613Z"
   },
   {
    "duration": 563,
    "start_time": "2023-03-15T22:13:16.798Z"
   },
   {
    "duration": 62,
    "start_time": "2023-03-15T22:13:17.362Z"
   },
   {
    "duration": 247,
    "start_time": "2023-03-15T22:13:17.426Z"
   },
   {
    "duration": 31,
    "start_time": "2023-03-15T22:13:17.676Z"
   },
   {
    "duration": 15,
    "start_time": "2023-03-15T22:13:17.709Z"
   },
   {
    "duration": 16,
    "start_time": "2023-03-15T22:13:17.726Z"
   },
   {
    "duration": 44,
    "start_time": "2023-03-15T22:13:17.744Z"
   },
   {
    "duration": 8,
    "start_time": "2023-03-15T22:13:17.789Z"
   },
   {
    "duration": 59,
    "start_time": "2023-03-15T22:13:17.798Z"
   },
   {
    "duration": 5,
    "start_time": "2023-03-15T22:13:17.859Z"
   },
   {
    "duration": 117,
    "start_time": "2023-03-15T22:13:17.879Z"
   },
   {
    "duration": 17,
    "start_time": "2023-03-15T22:13:17.998Z"
   },
   {
    "duration": 13,
    "start_time": "2023-03-15T22:13:18.017Z"
   },
   {
    "duration": 4,
    "start_time": "2023-03-15T22:13:18.031Z"
   },
   {
    "duration": 48,
    "start_time": "2023-03-15T22:13:18.036Z"
   },
   {
    "duration": 11,
    "start_time": "2023-03-15T22:13:18.086Z"
   },
   {
    "duration": 22,
    "start_time": "2023-03-15T22:13:18.099Z"
   },
   {
    "duration": 14,
    "start_time": "2023-03-15T22:14:43.218Z"
   },
   {
    "duration": 9,
    "start_time": "2023-03-15T22:25:41.591Z"
   },
   {
    "duration": 22,
    "start_time": "2023-03-15T22:25:55.742Z"
   },
   {
    "duration": 267,
    "start_time": "2023-03-15T22:33:38.017Z"
   },
   {
    "duration": 452,
    "start_time": "2023-03-15T22:34:06.818Z"
   },
   {
    "duration": 18,
    "start_time": "2023-03-15T22:35:38.783Z"
   },
   {
    "duration": 10,
    "start_time": "2023-03-15T22:35:39.986Z"
   },
   {
    "duration": 3,
    "start_time": "2023-03-15T22:35:40.618Z"
   },
   {
    "duration": 3,
    "start_time": "2023-03-15T22:35:41.390Z"
   },
   {
    "duration": 5,
    "start_time": "2023-03-15T22:35:42.060Z"
   },
   {
    "duration": 5,
    "start_time": "2023-03-15T22:35:43.192Z"
   },
   {
    "duration": 17,
    "start_time": "2023-03-15T22:35:44.176Z"
   },
   {
    "duration": 172,
    "start_time": "2023-03-15T22:37:55.510Z"
   },
   {
    "duration": 4,
    "start_time": "2023-03-15T22:41:52.725Z"
   },
   {
    "duration": 5,
    "start_time": "2023-03-15T22:41:54.877Z"
   },
   {
    "duration": 8,
    "start_time": "2023-03-15T22:41:56.379Z"
   },
   {
    "duration": 1079,
    "start_time": "2023-03-15T22:49:55.612Z"
   },
   {
    "duration": 2,
    "start_time": "2023-03-15T22:49:56.693Z"
   },
   {
    "duration": 866,
    "start_time": "2023-03-15T22:49:56.696Z"
   },
   {
    "duration": 5,
    "start_time": "2023-03-15T22:49:57.564Z"
   },
   {
    "duration": 44,
    "start_time": "2023-03-15T22:49:57.570Z"
   },
   {
    "duration": 156,
    "start_time": "2023-03-15T22:49:57.616Z"
   },
   {
    "duration": 536,
    "start_time": "2023-03-15T22:49:57.779Z"
   },
   {
    "duration": 67,
    "start_time": "2023-03-15T22:49:58.316Z"
   },
   {
    "duration": 233,
    "start_time": "2023-03-15T22:49:58.384Z"
   },
   {
    "duration": 31,
    "start_time": "2023-03-15T22:49:58.619Z"
   },
   {
    "duration": 29,
    "start_time": "2023-03-15T22:49:58.651Z"
   },
   {
    "duration": 16,
    "start_time": "2023-03-15T22:49:58.682Z"
   },
   {
    "duration": 22,
    "start_time": "2023-03-15T22:49:58.699Z"
   },
   {
    "duration": 7,
    "start_time": "2023-03-15T22:49:58.723Z"
   },
   {
    "duration": 77,
    "start_time": "2023-03-15T22:49:58.732Z"
   },
   {
    "duration": 4,
    "start_time": "2023-03-15T22:49:58.811Z"
   },
   {
    "duration": 112,
    "start_time": "2023-03-15T22:49:58.816Z"
   },
   {
    "duration": 16,
    "start_time": "2023-03-15T22:49:58.929Z"
   },
   {
    "duration": 10,
    "start_time": "2023-03-15T22:49:58.946Z"
   },
   {
    "duration": 3,
    "start_time": "2023-03-15T22:49:58.957Z"
   },
   {
    "duration": 18,
    "start_time": "2023-03-15T22:49:58.980Z"
   },
   {
    "duration": 8,
    "start_time": "2023-03-15T22:49:59.000Z"
   },
   {
    "duration": 13,
    "start_time": "2023-03-15T22:49:59.009Z"
   },
   {
    "duration": 8,
    "start_time": "2023-03-15T22:49:59.023Z"
   },
   {
    "duration": 54,
    "start_time": "2023-03-15T22:49:59.032Z"
   },
   {
    "duration": 270,
    "start_time": "2023-03-15T22:49:59.087Z"
   },
   {
    "duration": 385,
    "start_time": "2023-03-15T22:49:59.359Z"
   },
   {
    "duration": 17,
    "start_time": "2023-03-15T22:49:59.746Z"
   },
   {
    "duration": 18,
    "start_time": "2023-03-15T22:49:59.764Z"
   },
   {
    "duration": 16,
    "start_time": "2023-03-15T22:49:59.784Z"
   },
   {
    "duration": 8,
    "start_time": "2023-03-15T22:49:59.801Z"
   },
   {
    "duration": 6,
    "start_time": "2023-03-15T22:49:59.810Z"
   },
   {
    "duration": 10,
    "start_time": "2023-03-15T22:49:59.818Z"
   },
   {
    "duration": 18,
    "start_time": "2023-03-15T22:49:59.829Z"
   },
   {
    "duration": 137,
    "start_time": "2023-03-15T22:49:59.848Z"
   },
   {
    "duration": 3,
    "start_time": "2023-03-15T22:49:59.986Z"
   },
   {
    "duration": 10,
    "start_time": "2023-03-15T22:49:59.990Z"
   },
   {
    "duration": 43,
    "start_time": "2023-03-15T22:50:00.001Z"
   },
   {
    "duration": 1146,
    "start_time": "2023-03-15T23:09:17.663Z"
   },
   {
    "duration": 2,
    "start_time": "2023-03-15T23:09:18.812Z"
   },
   {
    "duration": 866,
    "start_time": "2023-03-15T23:09:18.815Z"
   },
   {
    "duration": 5,
    "start_time": "2023-03-15T23:09:19.684Z"
   },
   {
    "duration": 57,
    "start_time": "2023-03-15T23:09:19.691Z"
   },
   {
    "duration": 146,
    "start_time": "2023-03-15T23:09:19.750Z"
   },
   {
    "duration": 551,
    "start_time": "2023-03-15T23:09:19.898Z"
   },
   {
    "duration": 65,
    "start_time": "2023-03-15T23:09:20.450Z"
   },
   {
    "duration": 239,
    "start_time": "2023-03-15T23:09:20.517Z"
   },
   {
    "duration": 35,
    "start_time": "2023-03-15T23:09:20.759Z"
   },
   {
    "duration": 17,
    "start_time": "2023-03-15T23:09:20.796Z"
   },
   {
    "duration": 25,
    "start_time": "2023-03-15T23:09:20.814Z"
   },
   {
    "duration": 21,
    "start_time": "2023-03-15T23:09:20.840Z"
   },
   {
    "duration": 45,
    "start_time": "2023-03-15T23:09:20.862Z"
   },
   {
    "duration": 90,
    "start_time": "2023-03-15T23:09:20.909Z"
   },
   {
    "duration": 5,
    "start_time": "2023-03-15T23:09:21.000Z"
   },
   {
    "duration": 293,
    "start_time": "2023-03-15T23:09:21.007Z"
   },
   {
    "duration": 16,
    "start_time": "2023-03-15T23:09:21.301Z"
   },
   {
    "duration": 61,
    "start_time": "2023-03-15T23:09:21.319Z"
   },
   {
    "duration": 3,
    "start_time": "2023-03-15T23:09:21.382Z"
   },
   {
    "duration": 24,
    "start_time": "2023-03-15T23:09:21.386Z"
   },
   {
    "duration": 9,
    "start_time": "2023-03-15T23:09:21.411Z"
   },
   {
    "duration": 69,
    "start_time": "2023-03-15T23:09:21.422Z"
   },
   {
    "duration": 12,
    "start_time": "2023-03-15T23:09:21.492Z"
   },
   {
    "duration": 78,
    "start_time": "2023-03-15T23:09:21.506Z"
   },
   {
    "duration": 595,
    "start_time": "2023-03-15T23:09:21.586Z"
   },
   {
    "duration": 573,
    "start_time": "2023-03-15T23:09:22.182Z"
   },
   {
    "duration": 24,
    "start_time": "2023-03-15T23:09:22.758Z"
   },
   {
    "duration": 10,
    "start_time": "2023-03-15T23:09:22.784Z"
   },
   {
    "duration": 8,
    "start_time": "2023-03-15T23:09:22.795Z"
   },
   {
    "duration": 5,
    "start_time": "2023-03-15T23:09:22.804Z"
   },
   {
    "duration": 7,
    "start_time": "2023-03-15T23:09:22.811Z"
   },
   {
    "duration": 15,
    "start_time": "2023-03-15T23:09:22.820Z"
   },
   {
    "duration": 23,
    "start_time": "2023-03-15T23:09:22.836Z"
   },
   {
    "duration": 171,
    "start_time": "2023-03-15T23:09:22.860Z"
   },
   {
    "duration": 3,
    "start_time": "2023-03-15T23:09:23.032Z"
   },
   {
    "duration": 21,
    "start_time": "2023-03-15T23:09:23.037Z"
   },
   {
    "duration": 20,
    "start_time": "2023-03-15T23:09:23.059Z"
   },
   {
    "duration": 1149,
    "start_time": "2023-03-15T23:15:09.726Z"
   },
   {
    "duration": 4,
    "start_time": "2023-03-15T23:15:10.876Z"
   },
   {
    "duration": 1045,
    "start_time": "2023-03-15T23:15:10.882Z"
   },
   {
    "duration": 6,
    "start_time": "2023-03-15T23:15:11.929Z"
   },
   {
    "duration": 58,
    "start_time": "2023-03-15T23:15:11.937Z"
   },
   {
    "duration": 156,
    "start_time": "2023-03-15T23:15:11.996Z"
   },
   {
    "duration": 570,
    "start_time": "2023-03-15T23:15:12.153Z"
   },
   {
    "duration": 71,
    "start_time": "2023-03-15T23:15:12.725Z"
   },
   {
    "duration": 246,
    "start_time": "2023-03-15T23:15:12.797Z"
   },
   {
    "duration": 39,
    "start_time": "2023-03-15T23:15:13.045Z"
   },
   {
    "duration": 15,
    "start_time": "2023-03-15T23:15:13.086Z"
   },
   {
    "duration": 17,
    "start_time": "2023-03-15T23:15:13.103Z"
   },
   {
    "duration": 23,
    "start_time": "2023-03-15T23:15:13.121Z"
   },
   {
    "duration": 37,
    "start_time": "2023-03-15T23:15:13.146Z"
   },
   {
    "duration": 63,
    "start_time": "2023-03-15T23:15:13.185Z"
   },
   {
    "duration": 5,
    "start_time": "2023-03-15T23:15:13.249Z"
   },
   {
    "duration": 119,
    "start_time": "2023-03-15T23:15:13.255Z"
   },
   {
    "duration": 19,
    "start_time": "2023-03-15T23:15:13.375Z"
   },
   {
    "duration": 11,
    "start_time": "2023-03-15T23:15:13.395Z"
   },
   {
    "duration": 4,
    "start_time": "2023-03-15T23:15:13.407Z"
   },
   {
    "duration": 24,
    "start_time": "2023-03-15T23:15:13.412Z"
   },
   {
    "duration": 9,
    "start_time": "2023-03-15T23:15:13.438Z"
   },
   {
    "duration": 37,
    "start_time": "2023-03-15T23:15:13.448Z"
   },
   {
    "duration": 8,
    "start_time": "2023-03-15T23:15:13.486Z"
   },
   {
    "duration": 20,
    "start_time": "2023-03-15T23:15:13.496Z"
   },
   {
    "duration": 289,
    "start_time": "2023-03-15T23:15:13.518Z"
   },
   {
    "duration": 390,
    "start_time": "2023-03-15T23:15:13.809Z"
   },
   {
    "duration": 18,
    "start_time": "2023-03-15T23:15:14.203Z"
   },
   {
    "duration": 11,
    "start_time": "2023-03-15T23:15:14.223Z"
   },
   {
    "duration": 9,
    "start_time": "2023-03-15T23:15:14.236Z"
   },
   {
    "duration": 5,
    "start_time": "2023-03-15T23:15:14.247Z"
   },
   {
    "duration": 7,
    "start_time": "2023-03-15T23:15:14.254Z"
   },
   {
    "duration": 4,
    "start_time": "2023-03-15T23:15:14.280Z"
   },
   {
    "duration": 17,
    "start_time": "2023-03-15T23:15:14.286Z"
   },
   {
    "duration": 160,
    "start_time": "2023-03-15T23:15:14.305Z"
   },
   {
    "duration": 3,
    "start_time": "2023-03-15T23:15:14.467Z"
   },
   {
    "duration": 6,
    "start_time": "2023-03-15T23:15:14.471Z"
   },
   {
    "duration": 14,
    "start_time": "2023-03-15T23:15:14.478Z"
   }
  ],
  "kernelspec": {
   "display_name": "Python 3",
   "language": "python",
   "name": "python3"
  },
  "language_info": {
   "codemirror_mode": {
    "name": "ipython",
    "version": 3
   },
   "file_extension": ".py",
   "mimetype": "text/x-python",
   "name": "python",
   "nbconvert_exporter": "python",
   "pygments_lexer": "ipython3",
   "version": "3.8.5"
  },
  "toc": {
   "base_numbering": 1,
   "nav_menu": {},
   "number_sections": true,
   "sideBar": true,
   "skip_h1_title": false,
   "title_cell": "Проект по  A/B тестированию",
   "title_sidebar": "Содержание",
   "toc_cell": true,
   "toc_position": {
    "height": "calc(100% - 180px)",
    "left": "10px",
    "top": "150px",
    "width": "443.269px"
   },
   "toc_section_display": true,
   "toc_window_display": true
  },
  "varInspector": {
   "cols": {
    "lenName": 16,
    "lenType": 16,
    "lenVar": 40
   },
   "kernels_config": {
    "python": {
     "delete_cmd_postfix": "",
     "delete_cmd_prefix": "del ",
     "library": "var_list.py",
     "varRefreshCmd": "print(var_dic_list())"
    },
    "r": {
     "delete_cmd_postfix": ") ",
     "delete_cmd_prefix": "rm(",
     "library": "var_list.r",
     "varRefreshCmd": "cat(var_dic_list()) "
    }
   },
   "types_to_exclude": [
    "module",
    "function",
    "builtin_function_or_method",
    "instance",
    "_Feature"
   ],
   "window_display": false
  }
 },
 "nbformat": 4,
 "nbformat_minor": 2
}
